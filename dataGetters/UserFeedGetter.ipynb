{
 "cells": [
  {
   "cell_type": "code",
   "execution_count": 34,
   "metadata": {
    "collapsed": true
   },
   "outputs": [],
   "source": [
    "from api_keys import untappd_URL, untappd_ID, untappd_SECRET   # private, local constants\n",
    "\n",
    "import pickle\n",
    "import requests\n",
    "import time"
   ]
  },
  {
   "cell_type": "code",
   "execution_count": 42,
   "metadata": {
    "collapsed": true
   },
   "outputs": [],
   "source": [
    "# make a call to untappd's API to get User Feed data for a specific User ID\n",
    "# This method is used in the main data getter, below (userFeedBatch)\n",
    "def searchUserFeeds(userFeed_params, uid):\n",
    "    # build the query string\n",
    "    method_endpoint = '/user/checkins/' + str(uid)\n",
    "    query = untappd_URL + method_endpoint\n",
    "    response = requests.get(query, userFeed_params)\n",
    "    # parse the response\n",
    "    if response:  # response==True for codes 200-400\n",
    "        remaining_calls = response.headers['X-Ratelimit-Remaining']\n",
    "        return remaining_calls, response\n",
    "    else: \n",
    "        print(f\"That GET request for user {uid} with params={userFeed_params.items()} \\\n",
    "failed, with code: {response.status_code}\")\n",
    "        print(response.json())\n",
    "        return 0,0"
   ]
  },
  {
   "cell_type": "code",
   "execution_count": 43,
   "metadata": {
    "collapsed": true
   },
   "outputs": [],
   "source": [
    "def userFeedBatch(uid, builderDict, olderthan=None, newerthan=None, numCalls=5):\n",
    "    '''\n",
    "    This method makes @numCalls queries to untappd's User Feed,\n",
    "    for username @uid, using either @olderthan or @newerthan to let untappd know\n",
    "    where to start (going back in time from @olderthan, which is untappd's \n",
    "    \"max_id\" param) or end (going from now to @newerthan, which is \"min_id\").\n",
    "    \n",
    "    The results and updated pagination limits are added to the \n",
    "    @builderDict passed into this method.\n",
    "    '''\n",
    "    # the max 'limit' accepted by untappd is 50\n",
    "    params = {'limit':50, 'max_id': olderthan, 'min_id': newerthan, 'client_id':untappd_ID, 'client_secret':untappd_SECRET}\n",
    "       \n",
    "    for i in range(numCalls):\n",
    "        calls_left, response = searchUserFeeds(params, uid)\n",
    "        if not response:\n",
    "            print('NO RESPONSE')\n",
    "            return\n",
    "        resp = response.json()\n",
    "        # start pagination and rate limit bookkeeping\n",
    "        try:\n",
    "            new_oldest = resp['response']['pagination']['max_id']\n",
    "            params['max_id'] = new_oldest\n",
    "            builderDict[uid]['oldestID'] = new_oldest\n",
    "            builderDict[uid]['datalist'].append(resp)\n",
    "            # this happens only first time; mark in this user's dict the youngest checkin seen\n",
    "            if builderDict[uid]['newestID'] is None:\n",
    "                builderDict[uid]['newestID'] = resp['response']['checkins']['items'][0]['checkin_id']\n",
    "        except KeyError as kerr:\n",
    "            print(f'No {kerr} was included in the response.')\n",
    "            print(f'There are {calls_left} calls left.')\n",
    "            print(f'The max_id passed in was {olderthan}.')\n",
    "            print(f'The userID was {uid}')\n",
    "            \n",
    "        if resp['response']['checkins']['count'] < params['limit']:  # ran out of items, so break\n",
    "            print(f\"Last call response had a count of {resp['response']['checkins']['count']}\")\n",
    "            break\n",
    "\n",
    "    print(f'Completed {i+1} calls. Hourly calls remaining: {calls_left}') \n",
    "    \n",
    "    \n",
    "      "
   ]
  },
  {
   "cell_type": "markdown",
   "metadata": {},
   "source": [
    "#### Pickling utilities for generators"
   ]
  },
  {
   "cell_type": "code",
   "execution_count": 26,
   "metadata": {
    "collapsed": true
   },
   "outputs": [],
   "source": [
    "def unpickle_gen(pickled_filename):\n",
    "    \"\"\"Unpickles a generator, maintaining the order of its elements.\n",
    "    Returns the generator.\n",
    "    \"\"\"\n",
    "    with open(pickled_filename, 'rb') as f:\n",
    "        gen = (item for item in pickle.load(f))\n",
    "    return gen\n",
    "\n",
    "def pickle_gen(gen, to_pkl_filename):\n",
    "    \"\"\"Pickles a generator, preserving the order of its elements for later use.\"\"\"\n",
    "    with open(to_pkl_filename, 'wb') as f:\n",
    "        pickle.dump([item for item in gen], f)"
   ]
  },
  {
   "cell_type": "code",
   "execution_count": 29,
   "metadata": {
    "collapsed": true
   },
   "outputs": [],
   "source": [
    "# Get an ordered generator (ordered by users with highest total IPA checkins on first 607 IPAs in this case) \n",
    "ipa_user_gen = unpickle_gen('capstone_1/ipa_user_gen.pkl')"
   ]
  },
  {
   "cell_type": "markdown",
   "metadata": {},
   "source": [
    "### Main loop for building User Feed dataset"
   ]
  },
  {
   "cell_type": "code",
   "execution_count": 28,
   "metadata": {
    "collapsed": false
   },
   "outputs": [],
   "source": [
    "# load a partially filled UserFeedDict\n",
    "with open('capstone_1/userFeeds/userFeedDicts_part_5.pkl', 'rb') as f:\n",
    "    userFeedDicts_part_5 = pickle.load(f)"
   ]
  },
  {
   "cell_type": "markdown",
   "metadata": {},
   "source": [
    "For initializing a new dict, when you reach about 500MB in a dict, and ipynb slows down"
   ]
  },
  {
   "cell_type": "code",
   "execution_count": 74,
   "metadata": {
    "collapsed": true
   },
   "outputs": [],
   "source": [
    "# Every dict has every User who checked in on first 607 IPAs, so like 38K people\n",
    "all_38K_users = userFeedDicts_part_5.keys()"
   ]
  },
  {
   "cell_type": "code",
   "execution_count": 100,
   "metadata": {
    "collapsed": false
   },
   "outputs": [],
   "source": [
    "# Initialize a storage dict from all those 38K users.\n",
    "#  Use that dict as input to the main GET routine, to accumulate User Feeds\n",
    "userFeedDicts_part_7 = {uID: {'newestID':None, 'oldestID':None, 'datalist':[]} for uID in all_38K_users}"
   ]
  },
  {
   "cell_type": "code",
   "execution_count": 101,
   "metadata": {
    "collapsed": true
   },
   "outputs": [],
   "source": [
    "# Update this as files get too large, to use (fill) in the main GET routine, below\n",
    "current_dict = userFeedDicts_part_7"
   ]
  },
  {
   "cell_type": "code",
   "execution_count": 96,
   "metadata": {
    "collapsed": false,
    "scrolled": true
   },
   "outputs": [
    {
     "name": "stdout",
     "output_type": "stream",
     "text": [
      "Completed 4 calls. Hourly calls remaining: 32\n",
      "Batch 0 finished at 17:10\n",
      "Completed 4 calls. Hourly calls remaining: 32\n",
      "Batch 1 finished at 17:12\n",
      "Completed 4 calls. Hourly calls remaining: 29\n",
      "Batch 2 finished at 17:15\n",
      "Completed 4 calls. Hourly calls remaining: 29\n",
      "Batch 3 finished at 17:18\n",
      "Completed 4 calls. Hourly calls remaining: 29\n",
      "Batch 4 finished at 17:20\n",
      "Completed 4 calls. Hourly calls remaining: 29\n",
      "Batch 5 finished at 17:23\n",
      "Completed 4 calls. Hourly calls remaining: 29\n",
      "Batch 6 finished at 17:25\n",
      "Completed 4 calls. Hourly calls remaining: 29\n",
      "Batch 7 finished at 17:28\n",
      "Last call response had a count of 8\n",
      "Completed 1 calls. Hourly calls remaining: 32\n",
      "Batch 8 finished at 17:30\n",
      "Completed 4 calls. Hourly calls remaining: 32\n",
      "Batch 9 finished at 17:33\n",
      "Completed 4 calls. Hourly calls remaining: 32\n",
      "Batch 10 finished at 17:36\n",
      "Completed 4 calls. Hourly calls remaining: 32\n",
      "Batch 11 finished at 17:38\n",
      "Completed 4 calls. Hourly calls remaining: 32\n",
      "Batch 12 finished at 17:41\n",
      "Completed 4 calls. Hourly calls remaining: 32\n",
      "Batch 13 finished at 17:43\n",
      "Completed 4 calls. Hourly calls remaining: 32\n",
      "Batch 14 finished at 17:46\n",
      "Completed 4 calls. Hourly calls remaining: 32\n",
      "Batch 15 finished at 17:48\n",
      "Completed 4 calls. Hourly calls remaining: 32\n",
      "Batch 16 finished at 17:51\n",
      "Completed 4 calls. Hourly calls remaining: 32\n",
      "Batch 17 finished at 17:54\n",
      "Completed 4 calls. Hourly calls remaining: 28\n",
      "Batch 18 finished at 17:56\n",
      "Completed 4 calls. Hourly calls remaining: 24\n",
      "Batch 19 finished at 17:59\n",
      "Completed 4 calls. Hourly calls remaining: 20\n",
      "Batch 20 finished at 18:01\n",
      "Completed 4 calls. Hourly calls remaining: 16\n",
      "Batch 21 finished at 18:04\n",
      "Completed 4 calls. Hourly calls remaining: 12\n",
      "Batch 22 finished at 18:06\n",
      "Completed 4 calls. Hourly calls remaining: 8\n",
      "Batch 23 finished at 18:09\n",
      "Completed 4 calls. Hourly calls remaining: 8\n",
      "Batch 24 finished at 18:12\n",
      "Completed 4 calls. Hourly calls remaining: 8\n",
      "Batch 25 finished at 18:14\n",
      "Completed 4 calls. Hourly calls remaining: 8\n",
      "Batch 26 finished at 18:17\n",
      "Completed 4 calls. Hourly calls remaining: 8\n",
      "Batch 27 finished at 18:19\n",
      "Completed 4 calls. Hourly calls remaining: 8\n",
      "Batch 28 finished at 18:22\n",
      "Completed 4 calls. Hourly calls remaining: 8\n",
      "Batch 29 finished at 18:24\n",
      "Completed 4 calls. Hourly calls remaining: 8\n",
      "Batch 30 finished at 18:27\n",
      "Completed 4 calls. Hourly calls remaining: 8\n",
      "Batch 31 finished at 18:30\n",
      "Completed 4 calls. Hourly calls remaining: 5\n",
      "Batch 32 finished at 18:32\n",
      "Last call response had a count of 5\n",
      "Completed 3 calls. Hourly calls remaining: 6\n",
      "Batch 33 finished at 18:35\n",
      "Completed 4 calls. Hourly calls remaining: 6\n",
      "Batch 34 finished at 18:37\n",
      "Completed 4 calls. Hourly calls remaining: 6\n",
      "Batch 35 finished at 18:40\n",
      "Completed 4 calls. Hourly calls remaining: 6\n",
      "Batch 36 finished at 18:42\n",
      "Completed 4 calls. Hourly calls remaining: 6\n",
      "Batch 37 finished at 18:45\n",
      "Completed 4 calls. Hourly calls remaining: 6\n",
      "Batch 38 finished at 18:48\n",
      "Completed 4 calls. Hourly calls remaining: 6\n",
      "Batch 39 finished at 18:50\n",
      "Completed 4 calls. Hourly calls remaining: 6\n",
      "Batch 40 finished at 18:53\n",
      "Completed 4 calls. Hourly calls remaining: 6\n",
      "Batch 41 finished at 18:55\n",
      "Completed 4 calls. Hourly calls remaining: 6\n",
      "Batch 42 finished at 18:58\n",
      "Completed 4 calls. Hourly calls remaining: 6\n",
      "Batch 43 finished at 19:00\n",
      "Completed 4 calls. Hourly calls remaining: 6\n",
      "Batch 44 finished at 19:03\n",
      "Completed 4 calls. Hourly calls remaining: 6\n",
      "Batch 45 finished at 19:06\n",
      "Completed 4 calls. Hourly calls remaining: 6\n",
      "Batch 46 finished at 19:08\n",
      "Completed 4 calls. Hourly calls remaining: 6\n",
      "Batch 47 finished at 19:11\n",
      "Completed 4 calls. Hourly calls remaining: 6\n",
      "Batch 48 finished at 19:13\n",
      "Completed 4 calls. Hourly calls remaining: 6\n",
      "Batch 49 finished at 19:16\n",
      "Completed 4 calls. Hourly calls remaining: 6\n",
      "Batch 50 finished at 19:18\n",
      "Completed 4 calls. Hourly calls remaining: 6\n",
      "Batch 51 finished at 19:21\n",
      "Completed 4 calls. Hourly calls remaining: 6\n",
      "Batch 52 finished at 19:23\n",
      "Completed 4 calls. Hourly calls remaining: 6\n",
      "Batch 53 finished at 19:26\n",
      "Last call response had a count of 8\n",
      "Completed 1 calls. Hourly calls remaining: 9\n",
      "Batch 54 finished at 19:29\n",
      "Completed 4 calls. Hourly calls remaining: 9\n",
      "Batch 55 finished at 19:31\n",
      "Completed 4 calls. Hourly calls remaining: 9\n",
      "Batch 56 finished at 19:34\n",
      "Completed 4 calls. Hourly calls remaining: 8\n",
      "Batch 57 finished at 19:36\n",
      "Completed 4 calls. Hourly calls remaining: 8\n",
      "Batch 58 finished at 19:39\n",
      "Completed 4 calls. Hourly calls remaining: 8\n",
      "Batch 59 finished at 19:41\n",
      "Completed 4 calls. Hourly calls remaining: 8\n",
      "Batch 60 finished at 19:44\n",
      "Completed 4 calls. Hourly calls remaining: 8\n",
      "Batch 61 finished at 19:47\n",
      "Completed 4 calls. Hourly calls remaining: 8\n",
      "Batch 62 finished at 19:49\n",
      "Completed 4 calls. Hourly calls remaining: 8\n",
      "Batch 63 finished at 19:52\n",
      "Completed 4 calls. Hourly calls remaining: 8\n",
      "Batch 64 finished at 19:54\n",
      "Completed 4 calls. Hourly calls remaining: 8\n",
      "Batch 65 finished at 19:57\n",
      "Completed 4 calls. Hourly calls remaining: 8\n",
      "Batch 66 finished at 19:59\n",
      "Last call response had a count of 0\n",
      "Completed 3 calls. Hourly calls remaining: 11\n",
      "Batch 67 finished at 20:02\n",
      "Completed 4 calls. Hourly calls remaining: 9\n",
      "Batch 68 finished at 20:04\n",
      "Completed 4 calls. Hourly calls remaining: 9\n",
      "Batch 69 finished at 20:07\n",
      "Completed 4 calls. Hourly calls remaining: 9\n",
      "Batch 70 finished at 20:10\n",
      "Completed 4 calls. Hourly calls remaining: 9\n",
      "Batch 71 finished at 20:12\n",
      "Completed 4 calls. Hourly calls remaining: 9\n",
      "Batch 72 finished at 20:15\n",
      "Completed 4 calls. Hourly calls remaining: 9\n",
      "Batch 73 finished at 20:17\n",
      "Completed 4 calls. Hourly calls remaining: 9\n",
      "Batch 74 finished at 20:20\n",
      "Completed 4 calls. Hourly calls remaining: 9\n",
      "Batch 75 finished at 20:22\n",
      "Completed 4 calls. Hourly calls remaining: 9\n",
      "Batch 76 finished at 20:25\n",
      "Completed 4 calls. Hourly calls remaining: 9\n",
      "Batch 77 finished at 20:28\n",
      "Completed 4 calls. Hourly calls remaining: 6\n",
      "Batch 78 finished at 20:30\n",
      "Completed 4 calls. Hourly calls remaining: 6\n",
      "Batch 79 finished at 20:33\n",
      "Completed 4 calls. Hourly calls remaining: 6\n",
      "Batch 80 finished at 20:35\n",
      "Completed 4 calls. Hourly calls remaining: 6\n",
      "Batch 81 finished at 20:38\n",
      "Completed 4 calls. Hourly calls remaining: 6\n",
      "Batch 82 finished at 20:40\n",
      "Completed 4 calls. Hourly calls remaining: 6\n",
      "Batch 83 finished at 20:43\n",
      "Completed 4 calls. Hourly calls remaining: 6\n",
      "Batch 84 finished at 20:46\n",
      "Completed 4 calls. Hourly calls remaining: 6\n",
      "Batch 85 finished at 20:48\n",
      "Completed 4 calls. Hourly calls remaining: 6\n",
      "Batch 86 finished at 20:51\n",
      "Completed 4 calls. Hourly calls remaining: 6\n",
      "Batch 87 finished at 20:53\n",
      "Completed 4 calls. Hourly calls remaining: 6\n",
      "Batch 88 finished at 20:56\n",
      "Completed 4 calls. Hourly calls remaining: 6\n",
      "Batch 89 finished at 20:58\n",
      "Completed 4 calls. Hourly calls remaining: 6\n",
      "Batch 90 finished at 21:01\n",
      "Completed 4 calls. Hourly calls remaining: 5\n",
      "Batch 91 finished at 21:04\n",
      "Completed 4 calls. Hourly calls remaining: 5\n",
      "Batch 92 finished at 21:06\n",
      "Completed 4 calls. Hourly calls remaining: 5\n",
      "Batch 93 finished at 21:09\n",
      "Completed 4 calls. Hourly calls remaining: 5\n",
      "Batch 94 finished at 21:11\n",
      "Completed 4 calls. Hourly calls remaining: 5\n",
      "Batch 95 finished at 21:14\n",
      "Completed 4 calls. Hourly calls remaining: 5\n",
      "Batch 96 finished at 21:16\n",
      "Completed 4 calls. Hourly calls remaining: 5\n",
      "Batch 97 finished at 21:19\n",
      "Completed 4 calls. Hourly calls remaining: 5\n",
      "Batch 98 finished at 21:21\n",
      "Completed 4 calls. Hourly calls remaining: 5\n",
      "Batch 99 finished at 21:24\n"
     ]
    }
   ],
   "source": [
    "#  ======= Can get about 500 users/day with 200 reviews per user = 100K checkins/day ============\n",
    "\n",
    "#time.sleep(600)  # in case the call rate is too fast for the API, use this when restarting process\n",
    "for batch in range(200):  # The argument here divided by about 23 is how many hours this cell will take\n",
    "    uID = next(ipa_user_gen)\n",
    "    #                     (newerthan=current_dict[uID]['newestID'])   to fill in newer\n",
    "    userFeedBatch(uID, current_dict, olderthan=current_dict[uID]['oldestID'], numCalls=4)\n",
    "    print(f'Batch {batch} finished at {time.asctime()[11:16]}')\n",
    "    time.sleep(150)  # 4 calls per 150 secs = 96 calls per hour, with 100 being the API limit"
   ]
  },
  {
   "cell_type": "code",
   "execution_count": 97,
   "metadata": {
    "collapsed": true
   },
   "outputs": [],
   "source": [
    "# pickle a UserFeedDict\n",
    "with open('capstone_1/userFeeds/userFeedDicts_part_6.pkl', 'wb') as f:\n",
    "    pickle.dump(userFeedDicts_part_6, f)"
   ]
  },
  {
   "cell_type": "code",
   "execution_count": 98,
   "metadata": {
    "collapsed": false
   },
   "outputs": [
    {
     "name": "stdout",
     "output_type": "stream",
     "text": [
      "total 5386456\r\n",
      "-rw-r--r--  1 ethanhaley  staff  542487840 Oct 24 13:16 userFeedDicts.pkl\r\n",
      "-rw-r--r--  1 ethanhaley  staff  471741274 Oct 26 12:28 userFeedDicts_part_2.pkl\r\n",
      "-rw-r--r--  1 ethanhaley  staff  501215060 Oct 28 09:46 userFeedDicts_part_3.pkl\r\n",
      "-rw-r--r--  1 ethanhaley  staff  413816034 Oct 29 21:21 userFeedDicts_part_4.pkl\r\n",
      "-rw-r--r--  1 ethanhaley  staff  430760177 Oct 31 10:35 userFeedDicts_part_5.pkl\r\n",
      "-rw-r--r--  1 ethanhaley  staff  397829802 Nov  1 22:22 userFeedDicts_part_6.pkl\r\n"
     ]
    }
   ],
   "source": [
    "# Checking updated file sizes\n",
    "!ls -l capstone_1/userFeeds/"
   ]
  },
  {
   "cell_type": "code",
   "execution_count": 99,
   "metadata": {
    "collapsed": false
   },
   "outputs": [
    {
     "data": {
      "text/plain": [
       "659"
      ]
     },
     "execution_count": 99,
     "metadata": {},
     "output_type": "execute_result"
    }
   ],
   "source": [
    "# Checking updated user counts\n",
    "users_6 = [user for user in userFeedDicts_part_6 if userFeedDicts_part_6[user]['datalist']]\n",
    "len(users_6)"
   ]
  },
  {
   "cell_type": "code",
   "execution_count": null,
   "metadata": {
    "collapsed": true
   },
   "outputs": [],
   "source": []
  }
 ],
 "metadata": {
  "kernelspec": {
   "display_name": "Python 3",
   "language": "python",
   "name": "python3"
  },
  "language_info": {
   "codemirror_mode": {
    "name": "ipython",
    "version": 3
   },
   "file_extension": ".py",
   "mimetype": "text/x-python",
   "name": "python",
   "nbconvert_exporter": "python",
   "pygments_lexer": "ipython3",
   "version": "3.6.0"
  }
 },
 "nbformat": 4,
 "nbformat_minor": 2
}
