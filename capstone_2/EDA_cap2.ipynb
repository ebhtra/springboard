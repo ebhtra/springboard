{
 "cells": [
  {
   "cell_type": "code",
   "execution_count": 126,
   "metadata": {},
   "outputs": [],
   "source": [
    "import numpy as np\n",
    "import pandas as pd\n",
    "import matplotlib.pyplot as plt\n",
    "import seaborn as sns\n",
    "%matplotlib inline"
   ]
  },
  {
   "cell_type": "code",
   "execution_count": 127,
   "metadata": {},
   "outputs": [
    {
     "data": {
      "text/html": [
       "<div>\n",
       "<style scoped>\n",
       "    .dataframe tbody tr th:only-of-type {\n",
       "        vertical-align: middle;\n",
       "    }\n",
       "\n",
       "    .dataframe tbody tr th {\n",
       "        vertical-align: top;\n",
       "    }\n",
       "\n",
       "    .dataframe thead th {\n",
       "        text-align: right;\n",
       "    }\n",
       "</style>\n",
       "<table border=\"1\" class=\"dataframe\">\n",
       "  <thead>\n",
       "    <tr style=\"text-align: right;\">\n",
       "      <th></th>\n",
       "      <th>Old_ID</th>\n",
       "      <th>ID</th>\n",
       "      <th>AgeSex</th>\n",
       "      <th>Day</th>\n",
       "      <th>Went_From</th>\n",
       "      <th>Went_To</th>\n",
       "      <th>Status</th>\n",
       "      <th>Got_From</th>\n",
       "      <th>Got_At</th>\n",
       "      <th>From_geo</th>\n",
       "      <th>To_geo</th>\n",
       "    </tr>\n",
       "  </thead>\n",
       "  <tbody>\n",
       "    <tr>\n",
       "      <td>0</td>\n",
       "      <td>5</td>\n",
       "      <td>0.0</td>\n",
       "      <td>50F</td>\n",
       "      <td>6</td>\n",
       "      <td>Hefei</td>\n",
       "      <td>Wuhan</td>\n",
       "      <td>0.0</td>\n",
       "      <td>NaN</td>\n",
       "      <td>NaN</td>\n",
       "      <td>(31.85, 117.28)</td>\n",
       "      <td>(30.58, 114.27)</td>\n",
       "    </tr>\n",
       "    <tr>\n",
       "      <td>1</td>\n",
       "      <td>5</td>\n",
       "      <td>0.0</td>\n",
       "      <td>50F</td>\n",
       "      <td>(6, 6, 7)</td>\n",
       "      <td>NaN</td>\n",
       "      <td>NaN</td>\n",
       "      <td>1.0</td>\n",
       "      <td>NaN</td>\n",
       "      <td>Wuhan</td>\n",
       "      <td>NaN</td>\n",
       "      <td>NaN</td>\n",
       "    </tr>\n",
       "    <tr>\n",
       "      <td>2</td>\n",
       "      <td>5</td>\n",
       "      <td>0.0</td>\n",
       "      <td>50F</td>\n",
       "      <td>7</td>\n",
       "      <td>Wuhan</td>\n",
       "      <td>Hefei</td>\n",
       "      <td>1.0</td>\n",
       "      <td>NaN</td>\n",
       "      <td>NaN</td>\n",
       "      <td>(30.58, 114.27)</td>\n",
       "      <td>(31.85, 117.28)</td>\n",
       "    </tr>\n",
       "  </tbody>\n",
       "</table>\n",
       "</div>"
      ],
      "text/plain": [
       "  Old_ID   ID AgeSex        Day Went_From Went_To  Status Got_From Got_At  \\\n",
       "0      5  0.0    50F          6     Hefei   Wuhan     0.0      NaN    NaN   \n",
       "1      5  0.0    50F  (6, 6, 7)       NaN     NaN     1.0      NaN  Wuhan   \n",
       "2      5  0.0    50F          7     Wuhan   Hefei     1.0      NaN    NaN   \n",
       "\n",
       "          From_geo           To_geo  \n",
       "0  (31.85, 117.28)  (30.58, 114.27)  \n",
       "1              NaN              NaN  \n",
       "2  (30.58, 114.27)  (31.85, 117.28)  "
      ]
     },
     "execution_count": 127,
     "metadata": {},
     "output_type": "execute_result"
    }
   ],
   "source": [
    "df = pd.read_csv('eventDF.csv', index_col=0)\n",
    "df.head(3)"
   ]
  },
  {
   "cell_type": "code",
   "execution_count": 128,
   "metadata": {},
   "outputs": [
    {
     "data": {
      "text/plain": [
       "334"
      ]
     },
     "execution_count": 128,
     "metadata": {},
     "output_type": "execute_result"
    }
   ],
   "source": [
    "df.ID.nunique()  # how many cases does this include"
   ]
  },
  {
   "cell_type": "code",
   "execution_count": 129,
   "metadata": {},
   "outputs": [
    {
     "name": "stdout",
     "output_type": "stream",
     "text": [
      "<class 'pandas.core.frame.DataFrame'>\n",
      "Int64Index: 1402 entries, 0 to 1401\n",
      "Data columns (total 11 columns):\n",
      "Old_ID       1402 non-null object\n",
      "ID           1390 non-null float64\n",
      "AgeSex       1402 non-null object\n",
      "Day          1389 non-null object\n",
      "Went_From    440 non-null object\n",
      "Went_To      440 non-null object\n",
      "Status       1388 non-null float64\n",
      "Got_From     25 non-null object\n",
      "Got_At       333 non-null object\n",
      "From_geo     440 non-null object\n",
      "To_geo       440 non-null object\n",
      "dtypes: float64(2), object(9)\n",
      "memory usage: 131.4+ KB\n"
     ]
    }
   ],
   "source": [
    "df.info()"
   ]
  },
  {
   "cell_type": "markdown",
   "metadata": {},
   "source": [
    "#### What was the mean status of people who were traveling with the disease?  So we're just looking at the 1's and 2's here."
   ]
  },
  {
   "cell_type": "code",
   "execution_count": 163,
   "metadata": {},
   "outputs": [
    {
     "data": {
      "text/plain": [
       "Status    1.20116\n",
       "dtype: float64"
      ]
     },
     "execution_count": 163,
     "metadata": {},
     "output_type": "execute_result"
    }
   ],
   "source": [
    "sick_travels = df[(df.Status > 0) & (df.Status < 3) & (df.Went_From.notnull())]\n",
    "sick_travels.groupby('ID').mean().mean()"
   ]
  },
  {
   "cell_type": "markdown",
   "metadata": {},
   "source": [
    "So about 20% of the people were traveling after they already had symptoms, while the other 80% had been infected but felt fine, or at least claimed so.  I grouped by patient and took the mean of the mean of each patient's travel statuses because many patients had multiple travel legs and I didn't want those patients' cases to carry more weight than patients with just one travel leg."
   ]
  },
  {
   "cell_type": "markdown",
   "metadata": {},
   "source": [
    "#### When did those 2's happen, compared to the 1's?"
   ]
  },
  {
   "cell_type": "code",
   "execution_count": 131,
   "metadata": {},
   "outputs": [
    {
     "data": {
      "text/plain": [
       "array(['18', '18', '6', '6', '18', '22', '22', '22', '22', '22', '22',\n",
       "       '9', '19', '22', '20', '8', '21', '21', '13', '15', '15', '13',\n",
       "       '13', '(14, 17)', '(14, 17)', '(0, 18, 19)', '19', '6', '18', '20'],\n",
       "      dtype=object)"
      ]
     },
     "execution_count": 131,
     "metadata": {},
     "output_type": "execute_result"
    }
   ],
   "source": [
    "# Let's see what type of values we're dealing with here first\n",
    "sick_travels.Day.values[100:130]"
   ]
  },
  {
   "cell_type": "markdown",
   "metadata": {},
   "source": [
    "String floats mixed with string repr of 2- and 3-tuples:  It made life easier while not discarding any info, during data entry, but now needs a little regex to tidy up."
   ]
  },
  {
   "cell_type": "code",
   "execution_count": 132,
   "metadata": {},
   "outputs": [],
   "source": [
    "import re\n",
    "def floatize(day):\n",
    "    ''' Helper func to convert strings of numbers and strings of 2- and 3- tuples into single floats'''\n",
    "    if str(day)[0] != '(':\n",
    "        return float(day)\n",
    "    days = re.findall(r'[0-9]+', day)  ## convert \"\"\"  '(20,24,25)'  \"\"\" into \"\"\"  ['20', '24', '25']  \"\"\"\n",
    "    if len(days) == 3:\n",
    "        return float(days[1])  # that's the best-guess day in the 3-tuples\n",
    "    if len(days) == 2:\n",
    "        return sum(float(d) for d in days) / 2\n",
    "    return np.nan"
   ]
  },
  {
   "cell_type": "code",
   "execution_count": 164,
   "metadata": {},
   "outputs": [
    {
     "name": "stderr",
     "output_type": "stream",
     "text": [
      "/Users/ethanhaley/opt/anaconda3/lib/python3.7/site-packages/ipykernel_launcher.py:1: SettingWithCopyWarning: \n",
      "A value is trying to be set on a copy of a slice from a DataFrame.\n",
      "Try using .loc[row_indexer,col_indexer] = value instead\n",
      "\n",
      "See the caveats in the documentation: http://pandas.pydata.org/pandas-docs/stable/user_guide/indexing.html#returning-a-view-versus-a-copy\n",
      "  \"\"\"Entry point for launching an IPython kernel.\n"
     ]
    }
   ],
   "source": [
    "sick_travels['Float_Day'] = sick_travels.Day.apply(floatize)"
   ]
  },
  {
   "cell_type": "code",
   "execution_count": 156,
   "metadata": {},
   "outputs": [
    {
     "data": {
      "text/plain": [
       "1.3132911392405062"
      ]
     },
     "execution_count": 156,
     "metadata": {},
     "output_type": "execute_result"
    }
   ],
   "source": [
    "# how many legs of travel, on avg, does a patient have here?\n",
    "len(sick_travels) / sick_travels.ID.nunique()"
   ]
  },
  {
   "cell_type": "code",
   "execution_count": 33,
   "metadata": {},
   "outputs": [
    {
     "data": {
      "image/png": "[encoded data removed]",
      "text/plain": [
       "<Figure size 432x288 with 1 Axes>"
      ]
     },
     "metadata": {
      "needs_background": "light"
     },
     "output_type": "display_data"
    }
   ],
   "source": [
    "sick_travels.groupby('ID').size().hist()\n",
    "plt.xlabel('Number of travel legs for a patient')\n",
    "plt.ylabel('Number of patients');"
   ]
  },
  {
   "cell_type": "markdown",
   "metadata": {},
   "source": [
    "So let's just look at each travel leg as a point on its own, regardless of whether the traveler had 4 points or 1."
   ]
  },
  {
   "cell_type": "code",
   "execution_count": 223,
   "metadata": {},
   "outputs": [
    {
     "data": {
      "image/png": "[encoded data removed]",
      "text/plain": [
       "<Figure size 432x288 with 1 Axes>"
      ]
     },
     "metadata": {
      "needs_background": "light"
     },
     "output_type": "display_data"
    }
   ],
   "source": [
    "asymp = sick_travels[sick_travels.Status == 1]\n",
    "symp = sick_travels[sick_travels.Status == 2]\n",
    "asymp['Float_Day'].hist(bins=20, label='Travelers with no sypmtoms')\n",
    "symp['Float_Day'].hist(histtype='step', color='k', bins=20, label='Travelers with symptoms')\n",
    "plt.legend()\n",
    "plt.grid(False)\n",
    "plt.xlabel('Days into 2020')\n",
    "plt.savefig('Distr_symp_vs_asymp.png');\n"
   ]
  },
  {
   "cell_type": "code",
   "execution_count": 34,
   "metadata": {},
   "outputs": [
    {
     "name": "stdout",
     "output_type": "stream",
     "text": [
      "===> mean day of travel for patients with no symptoms: 28.01851851851852\n",
      "...and for patients with symptoms: 23.06179775280899\n"
     ]
    }
   ],
   "source": [
    "print('===> mean day of travel for patients with no symptoms: ' + str(asymp['Float_Day'].mean()))\n",
    "print('...and for patients with symptoms: ' + str(symp['Float_Day'].mean()))\n",
    "      "
   ]
  },
  {
   "cell_type": "markdown",
   "metadata": {},
   "source": [
    "It looks as though during February, people were becoming aware enough of the contagiousness of cov-19 that they were not traveling as much once they had symptoms (or they weren't being allowed to).  Also of note are the peaks in both types of travelers just after 20 January.  Partly it's just a function of the fact that the virus was spreading rapidly in China in mid-January, so much so that China shut down travel to and from Wuhan on January 22nd, leading to the sudden dropoff in sick travelers on the chart.  But the chart also suggests that people caught wind of the imminent Wuhan shutdown and made a last-ditch effort, knowingly sick or not, to flee to their hometowns before it was too late.  The evidence for that lies in the ratio of symptomatic travelers to asymptomatic ones in the prior week, where the ratio appears to be less than 1 to 4, compared to the ratio on 20-21 Jan, where it spikes up to maybe 3 to 7. Let's see the actual data:"
   ]
  },
  {
   "cell_type": "code",
   "execution_count": 35,
   "metadata": {},
   "outputs": [
    {
     "name": "stdout",
     "output_type": "stream",
     "text": [
      "The proportion of sick travelers who were symptomatic in the week before 20 Jan:\n",
      "0.13\n",
      "\n",
      "The proportion of sick travelers who were symptomatic on 20-21 Jan:\n",
      "0.28\n"
     ]
    }
   ],
   "source": [
    "jan13to19symp = symp[(symp.Float_Day >= 13) & (symp.Float_Day < 20)]\n",
    "jan13to19asymp = asymp[(asymp.Float_Day >= 13) & (asymp.Float_Day < 20)]\n",
    "jan20to21symp = symp[(symp.Float_Day >= 20) & (symp.Float_Day < 22)]\n",
    "jan20to21asymp = asymp[(asymp.Float_Day >= 20) & (asymp.Float_Day < 22)]\n",
    "\n",
    "print('The proportion of sick travelers who were symptomatic in the week before 20 Jan:')\n",
    "print(np.round(len(jan13to19symp) / (len(jan13to19asymp) + len(jan13to19symp)), 2))\n",
    "print()\n",
    "print('The proportion of sick travelers who were symptomatic on 20-21 Jan:')\n",
    "print(np.round(len(jan20to21symp) / (len(jan20to21asymp) + len(jan20to21symp)), 2))"
   ]
  },
  {
   "cell_type": "markdown",
   "metadata": {},
   "source": [
    "Just curious how these numbers change if the approximated days of travel aren't included:"
   ]
  },
  {
   "cell_type": "code",
   "execution_count": 36,
   "metadata": {},
   "outputs": [
    {
     "name": "stdout",
     "output_type": "stream",
     "text": [
      "===> mean day of travel for patients with no symptoms: 28.414790996784564\n",
      "...and for patients with symptoms: 22.65\n",
      "(vs. 28.02 and 23.06 with approximate dates included)\n"
     ]
    },
    {
     "name": "stderr",
     "output_type": "stream",
     "text": [
      "/Users/ethanhaley/opt/anaconda3/lib/python3.7/site-packages/ipykernel_launcher.py:3: SettingWithCopyWarning: \n",
      "A value is trying to be set on a copy of a slice from a DataFrame.\n",
      "Try using .loc[row_indexer,col_indexer] = value instead\n",
      "\n",
      "See the caveats in the documentation: http://pandas.pydata.org/pandas-docs/stable/user_guide/indexing.html#returning-a-view-versus-a-copy\n",
      "  This is separate from the ipykernel package so we can avoid doing imports until\n"
     ]
    }
   ],
   "source": [
    "approx = sick_travels.Day.str.startswith('(')\n",
    "not_approx = sick_travels[~approx]\n",
    "not_approx['Int_Day'] = [int(d) for d in not_approx.Day]\n",
    "\n",
    "exact_asymp = not_approx[not_approx.Status == 1]\n",
    "exact_symp = not_approx[not_approx.Status == 2]\n",
    "print('===> mean day of travel for patients with no symptoms: ' + str(exact_asymp['Int_Day'].mean()))\n",
    "print('...and for patients with symptoms: ' + str(exact_symp['Int_Day'].mean()))\n",
    "print('(vs. 28.02 and 23.06 with approximate dates included)')"
   ]
  },
  {
   "cell_type": "markdown",
   "metadata": {},
   "source": [
    "#### We should test the null hypothesis on those numbers"
   ]
  },
  {
   "cell_type": "markdown",
   "metadata": {},
   "source": [
    "First check the null hypothesis that sick people with symptoms continued to travel just as much as sick people without symptoms, throughout the travel period covered by the data here."
   ]
  },
  {
   "cell_type": "markdown",
   "metadata": {},
   "source": [
    "Check 10,000 random permutations of the travel events to see how likely the null hypothesis is."
   ]
  },
  {
   "cell_type": "code",
   "execution_count": 165,
   "metadata": {},
   "outputs": [
    {
     "name": "stdout",
     "output_type": "stream",
     "text": [
      "p-value for the null hypothesis, given the difference between the means: \n",
      "0.0026\n"
     ]
    }
   ],
   "source": [
    "n = len(asymp)\n",
    "days = np.copy(sick_travels.Float_Day.values)  # if you don't clone this, the df column will get mangled by np.shuffle\n",
    "# take 10000 randomly permuted split samples of the days and see how many have > 5 days difference between the sample means\n",
    "diffs = []\n",
    "for _ in range(10000):\n",
    "    np.random.shuffle(days)\n",
    "    diffs.append(np.mean(days[:n]) - np.mean(days[n:]))\n",
    "\n",
    "print('p-value for the null hypothesis, given the difference between the means: ')\n",
    "observed_diff = 28.02 - 23.06\n",
    "print(sum(np.array(diffs) >= observed_diff) / 10000)"
   ]
  },
  {
   "cell_type": "code",
   "execution_count": 166,
   "metadata": {},
   "outputs": [
    {
     "data": {
      "image/png": "[encoded data removed]",
      "text/plain": [
       "<Figure size 432x288 with 1 Axes>"
      ]
     },
     "metadata": {
      "needs_background": "light"
     },
     "output_type": "display_data"
    }
   ],
   "source": [
    "plt.hist(diffs, bins=30)\n",
    "plt.axvline(observed_diff, linestyle='--', color='k', label='observed difference in mean days')\n",
    "plt.legend()\n",
    "plt.xlabel('mean day for asymptomatic - mean day for symptomatic')\n",
    "plt.ylabel('number of random permutations');"
   ]
  },
  {
   "cell_type": "markdown",
   "metadata": {},
   "source": [
    "Unless someone demands an unusually high significance level for this test, that p-value is small enough to reject the null hypothesis and accept the alternative, which is that people with symptoms were either intentionally avoiding travel, or perhaps being required to do so, as time increased.  Nevertheless, amidst that overall trend, there's an opposing trend on a smaller scale, where the proportion of sick travelers who were symptomatic rose from 0.13 in the week before 20 Jan to 0.28 on 20-21 Jan, probably due to the impending Wuhan lockdown.  "
   ]
  },
  {
   "cell_type": "markdown",
   "metadata": {},
   "source": [
    "Even ignoring the more general trend, which would suggest this rise in proportion is unlikely, let's see how unlikely it is.  The null hypothesis will be that the sick travelers on these 9 days are randomly distributed, such that the increase in proportions of symptomatic travelers has a true mean of 0 and a standard deviation large enough that the increase we actually see, 0.15, is not statistically significant.  I'll start by claiming that any increase beyond 1.64 standard devs is enough to reject that null hypothesis, since less than 5% of random permutations should show that large of an increase."
   ]
  },
  {
   "cell_type": "code",
   "execution_count": 40,
   "metadata": {},
   "outputs": [
    {
     "name": "stdout",
     "output_type": "stream",
     "text": [
      "Total number of travel legs for 13-21 Jan:  179\n",
      "110 of them Jan.13-19 and 69 of them Jan.20-21\n"
     ]
    }
   ],
   "source": [
    "n_symp = len(jan13to19symp) + len(jan20to21symp)  # total number of symptomatic in these 9 days\n",
    "n_asymp = len(jan13to19asymp) + len(jan20to21asymp)  # total number of asymptomatic in these 9 days\n",
    "print(f'Total number of travel legs for 13-21 Jan:  {n_symp + n_asymp}')\n",
    "n_13_to_19 = len(jan13to19symp) + len(jan13to19asymp)  # all travels jan.13-19\n",
    "n_20_to_21 = len(jan20to21symp) + len(jan20to21asymp)  # all travels jan.20-21\n",
    "print(f'{n_13_to_19} of them Jan.13-19 and {n_20_to_21} of them Jan.20-21')"
   ]
  },
  {
   "cell_type": "code",
   "execution_count": 41,
   "metadata": {},
   "outputs": [],
   "source": [
    "had_symp = np.array([0] * n_asymp + [1] * n_symp)\n",
    "n_trials = 10000\n",
    "diffs = np.empty(n_trials)\n",
    "for i in range(n_trials):\n",
    "    had_symp = np.random.permutation(had_symp) # shuffle them\n",
    "    post = sum(had_symp[n_13_to_19:]) / n_20_to_21  # proportion symptomatic for 2nd period\n",
    "    pre = sum(had_symp[:n_13_to_19]) / n_13_to_19  # proportion symptomatic for 1st period\n",
    "    diffs[i] = post - pre   # the statistic being calculated and tested"
   ]
  },
  {
   "cell_type": "code",
   "execution_count": 42,
   "metadata": {},
   "outputs": [
    {
     "data": {
      "image/png": "[encoded data removed]",
      "text/plain": [
       "<Figure size 432x288 with 1 Axes>"
      ]
     },
     "metadata": {
      "needs_background": "light"
     },
     "output_type": "display_data"
    }
   ],
   "source": [
    "observed_diff = 0.28 - 0.13   # the actual increase in proportion from the 1st period to the second\n",
    "plt.hist(diffs, bins=16)  # higher numbers of bins had empty bins that were confusing\n",
    "plt.axvline(observed_diff, linestyle='--', color='k', label='observed difference in proportions')\n",
    "plt.axvline(np.std(diffs) * 1.64, linestyle='--', color='y', label='stated significance level')\n",
    "plt.legend()\n",
    "plt.xlabel('change in proportion of symptomatic travelers')\n",
    "plt.ylabel('number of random permutations');"
   ]
  },
  {
   "cell_type": "markdown",
   "metadata": {},
   "source": [
    "Since the observed difference is to the right of the stated significance level, we know the p-value is less than 0.05, we can reject the null hypothesis, and we can be confident that there's a reason more people are traveling when they know they're sick on 20-21 Jan.   The part of this analysis that's somewhat questionable is that it smacks of the \"Texas Sharpshooter\" phenomenon, since I began by focusing on a specific part of the data that seemed interesting, and then I drew a circle around the perfect dates that perhaps minimized p-values for the null hypothesis.  What I would say in my defense is that the dates before the selected ones contain very few cases, and indeed the symptomatic travelers at that point most likely had no idea their symptoms might be from covid-19 (The Chinese government only announced the existence of the new coronavirus on 7 Jan).  Also in my defense, the most likely underlying cause for the data I circled--the Wuhan shutdown--draws its own endpoint in time, on 22 January.  And finally, as I pointed out, this analyzed trend runs counter to the overall trend, which makes it inherently less likely and more worth exploring."
   ]
  },
  {
   "cell_type": "markdown",
   "metadata": {},
   "source": [
    "## Next, let's see if travelers are reporting their symptoms later than non-travelers"
   ]
  },
  {
   "cell_type": "markdown",
   "metadata": {},
   "source": [
    "The idea is to see if there's some kind of difference in the time between STATED onset of symptoms until hospital admission, for people who traveled vs people who didn't. Here are some potential underlying reasons:  People who don't travel could be more inclined to list their symptom onset sooner, but they also might wait longer to go to the hospital, being in the safety of their homes and knowing the hospital was nearby if absolutely necessary. Either one of those proving to be true, the difference in dates should be longer for them vs. for travelers. Travelers might not want to believe or admit they have symptoms, thus stating the max possible date for that, but their hospital visit might go either way: No one wants to be stuck in a foreign hospital, to miss the balance of their vacation, or to deal with the financial costs of rescheduling their return home, so they're more likely to ignore warning signs while traveling. On the other hand, if they started feeling a little sick BEFORE their travels started, they might have decided to plow onward optimistically, only to find themselves in dire straits on vacation, and perhaps paranoid about what they're hearing about coronavirus, to the extent that they visit a doctor while traveling."
   ]
  },
  {
   "cell_type": "markdown",
   "metadata": {},
   "source": [
    "Start with all of the the cases reported as of now, April 20:"
   ]
  },
  {
   "cell_type": "code",
   "execution_count": 177,
   "metadata": {},
   "outputs": [],
   "source": [
    "updated = pd.read_csv('https://github.com/beoutbreakprepared/nCoV2019/raw/master/latest_data/latestdata.csv',\n",
    "                     low_memory=False) # low_memory keyword arg suppresses the warning"
   ]
  },
  {
   "cell_type": "code",
   "execution_count": 178,
   "metadata": {},
   "outputs": [
    {
     "data": {
      "text/plain": [
       "(432704, 33)"
      ]
     },
     "execution_count": 178,
     "metadata": {},
     "output_type": "execute_result"
    }
   ],
   "source": [
    "updated.shape"
   ]
  },
  {
   "cell_type": "code",
   "execution_count": 179,
   "metadata": {},
   "outputs": [
    {
     "data": {
      "text/plain": [
       "Index(['ID', 'age', 'sex', 'city', 'province', 'country', 'latitude',\n",
       "       'longitude', 'geo_resolution', 'date_onset_symptoms',\n",
       "       'date_admission_hospital', 'date_confirmation', 'symptoms',\n",
       "       'lives_in_Wuhan', 'travel_history_dates', 'travel_history_location',\n",
       "       'reported_market_exposure', 'additional_information',\n",
       "       'chronic_disease_binary', 'chronic_disease', 'source',\n",
       "       'sequence_available', 'outcome', 'date_death_or_discharge',\n",
       "       'notes_for_discussion', 'location', 'admin3', 'admin2', 'admin1',\n",
       "       'country_new', 'admin_id', 'data_moderator_initials',\n",
       "       'travel_history_binary'],\n",
       "      dtype='object')"
      ]
     },
     "execution_count": 179,
     "metadata": {},
     "output_type": "execute_result"
    }
   ],
   "source": [
    "updated.columns"
   ]
  },
  {
   "cell_type": "markdown",
   "metadata": {},
   "source": [
    "Split into the two groups"
   ]
  },
  {
   "cell_type": "code",
   "execution_count": 180,
   "metadata": {},
   "outputs": [
    {
     "data": {
      "text/plain": [
       "(2132, 33)"
      ]
     },
     "execution_count": 180,
     "metadata": {},
     "output_type": "execute_result"
    }
   ],
   "source": [
    "travelers = updated[updated.travel_history_dates.notnull()]\n",
    "travelers.shape"
   ]
  },
  {
   "cell_type": "code",
   "execution_count": 181,
   "metadata": {},
   "outputs": [
    {
     "data": {
      "text/plain": [
       "(430572, 33)"
      ]
     },
     "execution_count": 181,
     "metadata": {},
     "output_type": "execute_result"
    }
   ],
   "source": [
    "nontravelers = updated[updated.travel_history_dates.isnull()]\n",
    "nontravelers.shape"
   ]
  },
  {
   "cell_type": "markdown",
   "metadata": {},
   "source": [
    "Filter down to the ones whose symptom onset date is reported"
   ]
  },
  {
   "cell_type": "code",
   "execution_count": 182,
   "metadata": {},
   "outputs": [
    {
     "data": {
      "text/plain": [
       "(1383, 33)"
      ]
     },
     "execution_count": 182,
     "metadata": {},
     "output_type": "execute_result"
    }
   ],
   "source": [
    "travdetes = travelers[travelers.date_onset_symptoms.notnull()]\n",
    "travdetes.shape"
   ]
  },
  {
   "cell_type": "code",
   "execution_count": 183,
   "metadata": {},
   "outputs": [
    {
     "data": {
      "text/plain": [
       "(2874, 33)"
      ]
     },
     "execution_count": 183,
     "metadata": {},
     "output_type": "execute_result"
    }
   ],
   "source": [
    "nontravdetes = nontravelers[nontravelers.date_onset_symptoms.notnull()]\n",
    "nontravdetes.shape"
   ]
  },
  {
   "cell_type": "markdown",
   "metadata": {},
   "source": [
    "Filter down to the ones who have hospital admission dates"
   ]
  },
  {
   "cell_type": "code",
   "execution_count": 184,
   "metadata": {},
   "outputs": [
    {
     "data": {
      "text/plain": [
       "(601, 33)"
      ]
     },
     "execution_count": 184,
     "metadata": {},
     "output_type": "execute_result"
    }
   ],
   "source": [
    "hosptrav = travdetes[travdetes.date_admission_hospital.notnull()]\n",
    "hosptrav.shape"
   ]
  },
  {
   "cell_type": "code",
   "execution_count": 185,
   "metadata": {},
   "outputs": [
    {
     "data": {
      "text/plain": [
       "(796, 33)"
      ]
     },
     "execution_count": 185,
     "metadata": {},
     "output_type": "execute_result"
    }
   ],
   "source": [
    "hospnontrav = nontravdetes[nontravdetes.date_admission_hospital.notnull()]\n",
    "hospnontrav.shape"
   ]
  },
  {
   "cell_type": "markdown",
   "metadata": {},
   "source": [
    "601 travelers with dates listed and 796 non-travelers"
   ]
  },
  {
   "cell_type": "markdown",
   "metadata": {},
   "source": [
    "[sidenote about what just happened:  If I'd waited till after filtering to split travelers vs non-, it would've involved less work, or \"fewer chances to make mistakes\", if you prefer]"
   ]
  },
  {
   "cell_type": "code",
   "execution_count": 188,
   "metadata": {},
   "outputs": [
    {
     "data": {
      "text/plain": [
       "[]"
      ]
     },
     "execution_count": 188,
     "metadata": {},
     "output_type": "execute_result"
    }
   ],
   "source": [
    "# parse dates into pandas datetimes and calulate their diffs\n",
    "travdates = zip(hosptrav.date_onset_symptoms, hosptrav.date_admission_hospital)\n",
    "diffs = []  # store the differences between onset and hospital for each traveler\n",
    "errors = []   # if anything goes wrong with parsing dates, for debugging\n",
    "for td in travdates:\n",
    "    try:\n",
    "        d1 = pd.Timestamp('-'.join(td[0].split('.')[::-1]))  # reverse date format for pandas\n",
    "        d2 = pd.Timestamp('-'.join(td[1].split('.')[::-1]))   # i.e. '24.02.2020' ==> '2020-02-24'\n",
    "        diffs.append((d2 - d1) / pd.Timedelta('1D'))\n",
    "    except ValueError:\n",
    "        errors.append(td)\n",
    "errors                          "
   ]
  },
  {
   "cell_type": "code",
   "execution_count": 189,
   "metadata": {},
   "outputs": [
    {
     "data": {
      "text/plain": [
       "[('08.03.20202', '09.03.2020'),\n",
       " ('10.01.2020 - 22.01.2020', '18.01.2020 - 23.01.2020'),\n",
       " ('10.01.2020 - 22.01.2020', '18.01.2020 - 23.01.2020'),\n",
       " ('10.01.2020 - 22.01.2020', '18.01.2020 - 23.01.2020'),\n",
       " ('10.01.2020 - 22.01.2020', '18.01.2020 - 23.01.2020'),\n",
       " ('10.01.2020 - 22.01.2020', '18.01.2020 - 23.01.2020'),\n",
       " ('01.31.2020', '03.02.2020'),\n",
       " ('08.03.20202', '09.03.2020'),\n",
       " ('10.01.2020 - 22.01.2020', '18.01.2020 - 23.01.2020'),\n",
       " ('10.01.2020 - 22.01.2020', '18.01.2020 - 23.01.2020'),\n",
       " ('10.01.2020 - 22.01.2020', '18.01.2020 - 23.01.2020'),\n",
       " ('10.01.2020 - 22.01.2020', '18.01.2020 - 23.01.2020'),\n",
       " ('10.01.2020 - 22.01.2020', '18.01.2020 - 23.01.2020'),\n",
       " ('01.31.2020', '03.02.2020')]"
      ]
     },
     "execution_count": 189,
     "metadata": {},
     "output_type": "execute_result"
    }
   ],
   "source": [
    "# now the non-travelers\n",
    "nontravdates = zip(hospnontrav.date_onset_symptoms, hospnontrav.date_admission_hospital)\n",
    "diffs2 = []\n",
    "errors2 = []\n",
    "for td in nontravdates:\n",
    "    try:\n",
    "        d1 = pd.Timestamp('-'.join(td[0].split('.')[::-1]))\n",
    "        d2 = pd.Timestamp('-'.join(td[1].split('.')[::-1]))\n",
    "        diffs2.append((d2 - d1) / pd.Timedelta('1D'))\n",
    "    except ValueError:\n",
    "        errors2.append(td)\n",
    "errors2"
   ]
  },
  {
   "cell_type": "markdown",
   "metadata": {},
   "source": [
    "Looks like cases are all duplicated in the dataset, based on the errors2 list.  Let's see...."
   ]
  },
  {
   "cell_type": "code",
   "execution_count": 191,
   "metadata": {},
   "outputs": [
    {
     "data": {
      "text/plain": [
       "(304, 33)"
      ]
     },
     "execution_count": 191,
     "metadata": {},
     "output_type": "execute_result"
    }
   ],
   "source": [
    "# Using age, sex, city, onset_date, and hospital_date should make everyone unique without erasing uniques\n",
    "dedupetravs = hosptrav.drop_duplicates(subset=['age', 'sex', 'city', 'date_onset_symptoms',\n",
    "                                               'date_admission_hospital'])\n",
    "dedupetravs.shape  # down from 601"
   ]
  },
  {
   "cell_type": "code",
   "execution_count": 192,
   "metadata": {},
   "outputs": [
    {
     "data": {
      "text/plain": [
       "(418, 33)"
      ]
     },
     "execution_count": 192,
     "metadata": {},
     "output_type": "execute_result"
    }
   ],
   "source": [
    "dedupenontravs = hospnontrav.drop_duplicates(subset=['age', 'sex', 'city', 'date_onset_symptoms',\n",
    "                                               'date_admission_hospital'])\n",
    "dedupenontravs.shape  # down from 796"
   ]
  },
  {
   "cell_type": "code",
   "execution_count": 211,
   "metadata": {},
   "outputs": [
    {
     "data": {
      "text/plain": [
       "[]"
      ]
     },
     "execution_count": 211,
     "metadata": {},
     "output_type": "execute_result"
    }
   ],
   "source": [
    "# parse dates into pandas datetimes and calulate their diffs\n",
    "travdates = zip(dedupetravs.date_onset_symptoms, dedupetravs.date_admission_hospital)\n",
    "diffs3 = []  # store the differences between onset and hospital for each traveler\n",
    "errors3 = []   # if anything goes wrong with parsing dates, for debugging\n",
    "for td in travdates:\n",
    "    try:\n",
    "        d1 = pd.Timestamp('-'.join(td[0].split('.')[::-1]))  # reverse date format for pandas\n",
    "        d2 = pd.Timestamp('-'.join(td[1].split('.')[::-1]))   # i.e. '24.02.2020' ==> '2020-02-24'\n",
    "        diffs3.append((d2 - d1) / pd.Timedelta('1D'))\n",
    "    except ValueError:\n",
    "        errors3.append(td)\n",
    "errors3  "
   ]
  },
  {
   "cell_type": "code",
   "execution_count": 212,
   "metadata": {},
   "outputs": [
    {
     "data": {
      "text/plain": [
       "[('08.03.20202', '09.03.2020'),\n",
       " ('10.01.2020 - 22.01.2020', '18.01.2020 - 23.01.2020'),\n",
       " ('10.01.2020 - 22.01.2020', '18.01.2020 - 23.01.2020'),\n",
       " ('01.31.2020', '03.02.2020')]"
      ]
     },
     "execution_count": 212,
     "metadata": {},
     "output_type": "execute_result"
    }
   ],
   "source": [
    "# now the non-travelers\n",
    "nontravdates = zip(dedupenontravs.date_onset_symptoms, dedupenontravs.date_admission_hospital)\n",
    "diffs4 = []\n",
    "errors4 = []\n",
    "for td in nontravdates:\n",
    "    try:\n",
    "        d1 = pd.Timestamp('-'.join(td[0].split('.')[::-1]))\n",
    "        d2 = pd.Timestamp('-'.join(td[1].split('.')[::-1]))\n",
    "        diffs4.append((d2 - d1) / pd.Timedelta('1D'))\n",
    "    except ValueError:\n",
    "        errors4.append(td)\n",
    "errors4"
   ]
  },
  {
   "cell_type": "markdown",
   "metadata": {},
   "source": [
    "Quick look at the distributions to check if anything else looks wrong"
   ]
  },
  {
   "cell_type": "code",
   "execution_count": 213,
   "metadata": {},
   "outputs": [
    {
     "data": {
      "image/png": "[encoded data removed]",
      "text/plain": [
       "<Figure size 432x288 with 1 Axes>"
      ]
     },
     "metadata": {
      "needs_background": "light"
     },
     "output_type": "display_data"
    }
   ],
   "source": [
    "plt.hist(diffs3, bins=20, label='travelers')\n",
    "plt.hist(diffs4, histtype='step', color='k', bins=20, label='non-travelers')\n",
    "plt.xlabel('Days from Symptom Onset to Hospitalization')\n",
    "plt.ylabel('Number of cases')\n",
    "plt.legend();"
   ]
  },
  {
   "cell_type": "code",
   "execution_count": 214,
   "metadata": {},
   "outputs": [
    {
     "name": "stdout",
     "output_type": "stream",
     "text": [
      "304 414\n"
     ]
    }
   ],
   "source": [
    "print(len(diffs3), len(diffs4))"
   ]
  },
  {
   "cell_type": "markdown",
   "metadata": {},
   "source": [
    "The outlier bins are distorting the others.  Could be some typos in the dates causing those bigger outliers, or maybe just strange circumstances for the case.  If someone was hospitalized before they had symptoms, their case won't help determine anything here, so I'll drop all negative diffs.  As for the cases where someone ended up in the hospital 40 days after onset of symptoms, I'm going to somewhat arbitrarily choose to drop those as well.  They are more likely to distort the potential findings of the analysis than to actually represent some kind of trend or lack thereof.  So I'll remove anything over 20 days diff."
   ]
  },
  {
   "cell_type": "code",
   "execution_count": 217,
   "metadata": {},
   "outputs": [
    {
     "name": "stdout",
     "output_type": "stream",
     "text": [
      "298 401\n"
     ]
    }
   ],
   "source": [
    "diffs3 = np.array(diffs3)\n",
    "diffs4 = np.array(diffs4)\n",
    "diffs3 = diffs3[(diffs3 >= 0) & (diffs3 <= 20)]\n",
    "diffs4 = diffs4[(diffs4 >= 0) & (diffs4 <= 20)]\n",
    "print(len(diffs3), len(diffs4))"
   ]
  },
  {
   "cell_type": "code",
   "execution_count": 229,
   "metadata": {},
   "outputs": [
    {
     "data": {
      "image/png": "[encoded data removed]",
      "text/plain": [
       "<Figure size 432x288 with 1 Axes>"
      ]
     },
     "metadata": {
      "needs_background": "light"
     },
     "output_type": "display_data"
    }
   ],
   "source": [
    "plt.hist(diffs3, bins=20, label='travelers')\n",
    "plt.hist(diffs4, histtype='step', color='k', bins=20, label='non-travelers')\n",
    "plt.xlabel('Days from Symptom Onset to Hospitalization')\n",
    "plt.ylabel('Number of cases')\n",
    "plt.legend()\n",
    "plt.savefig('Days_Symp_Hosp.png');"
   ]
  },
  {
   "cell_type": "code",
   "execution_count": 219,
   "metadata": {},
   "outputs": [
    {
     "name": "stdout",
     "output_type": "stream",
     "text": [
      "The mean amount of days between symptom onset and hospital admission for non-travelers was 4.43640897755611\n",
      "For travelers it was 3.1308724832214767\n"
     ]
    }
   ],
   "source": [
    "print(f'The mean amount of days between symptom onset and hospital admission for non-travelers was {np.mean(diffs4)}')\n",
    "print(f'For travelers it was {np.mean(diffs3)}')"
   ]
  },
  {
   "cell_type": "markdown",
   "metadata": {},
   "source": [
    "Test the null hypothesis, that there's no underlying factor causing the difference in means between travelers and non-travelers. Even though it's obvious from that histogram, that travelers who get to the hospital and say \"The symptoms just showed up\" outnumber such non-travelers, despite  there being fewer travelers in this data sample. "
   ]
  },
  {
   "cell_type": "code",
   "execution_count": 220,
   "metadata": {},
   "outputs": [],
   "source": [
    "n_travs = len(diffs3)\n",
    "n_nontravs = len(diffs4)\n",
    "meandiff = np.mean(diffs4) - np.mean(diffs3)\n",
    "alldiffs = np.append(diffs3, diffs4)\n",
    "samplediffs = []\n",
    "for _ in range(10000):\n",
    "    shuffled = np.random.permutation(alldiffs)\n",
    "    samplediffs.append(np.mean(shuffled[:n_nontravs]) - np.mean(shuffled[n_nontravs:]))"
   ]
  },
  {
   "cell_type": "code",
   "execution_count": 221,
   "metadata": {},
   "outputs": [
    {
     "data": {
      "image/png": "[encoded data removed]",
      "text/plain": [
       "<Figure size 432x288 with 1 Axes>"
      ]
     },
     "metadata": {
      "needs_background": "light"
     },
     "output_type": "display_data"
    }
   ],
   "source": [
    "plt.hist(samplediffs, bins=20)\n",
    "plt.axvline(meandiff, color='k', linestyle='--', label='Observed difference in means')\n",
    "plt.xlabel('Sample difference of means')\n",
    "plt.legend();"
   ]
  },
  {
   "cell_type": "code",
   "execution_count": 222,
   "metadata": {},
   "outputs": [
    {
     "data": {
      "text/plain": [
       "1"
      ]
     },
     "execution_count": 222,
     "metadata": {},
     "output_type": "execute_result"
    }
   ],
   "source": [
    "len(np.where(samplediffs > meandiff))"
   ]
  },
  {
   "cell_type": "markdown",
   "metadata": {},
   "source": [
    "1 out of 10,000 simulations of random permutations had a greater mean diff than the actual one, so let's call the p-value of the null hypothesis 0.0001 and reject it."
   ]
  },
  {
   "cell_type": "markdown",
   "metadata": {},
   "source": [
    "The more you look at these sick traveler cases, the more you realize just how dangerous they are:  \n",
    "\n",
    "    1) People are spreading the disease between communities, increasing the odds of a pandemic.  \n",
    "    \n",
    "    2) They're claiming over 1 day less of being symptomatic before going to the hospital than are non-travelers.  \n",
    "        Unless you want to believe that they're just a more cautious group of people, or are more\n",
    "        worried about their symptoms just by virtue of having traveled, the most likely explanation is\n",
    "        that they want to report their symptom onset later than it actually happened, perhaps because they \n",
    "        know how dangerous their actions may be perceived.  \n",
    "        \n",
    "    3) The standard modes of transportation bring many travelers together in close quarters, making airborne\n",
    "        and surface-borne diseases especially contagious.  And the part of this disease's lifecycle when the\n",
    "        patient is most contagious is at or near this point when symptoms first appear.  \n",
    "   [Link to source article about contagiousness for COVID-19](https://www.nature.com/articles/s41591-020-0869-5)\n",
    "    "
   ]
  },
  {
   "cell_type": "markdown",
   "metadata": {},
   "source": [
    "I'm not claiming travel is bad just because it's dangerous, and I'm also not claiming people are bad for trying to believe their symptoms actually showed up the second their flight home landed.  Besides the fact that people are only human, there's the fact that \"When did you first have symptoms?\" is sometimes very hard to answer accurately.  So all I can do is point out the obvious fact that we need better screening of travelers, preferably before they board planes, trains, buses, and boats.  Better than testing their forehead temperature after their trip is over, when they might have taken antipyretics to reduce their fevers.  Or maybe we need to make it easier for people to get money back when they cancel travel plans at the last second, thinking they may possibly be sick.  We've seen the alternative, and it's more costly than any preventative measures like these."
   ]
  },
  {
   "cell_type": "markdown",
   "metadata": {},
   "source": [
    "At the very least, the data explored here provide statistical support for what you probably already suspected:  People will place their society at greater risk, if doing so makes themselves feel more secure.  And scientific findings that rely upon people stating when they first experienced symptoms are built on shaky ground, especially if a large proportion of the people are travelers, as in the case of this pandemic.  The peer-reviewed source article linked to above studies the question of when a COVID-19 patient is most infectious.  The question has a huge bearing on how we go about dealing with the pandemic, and the article's researchers conclude that a patient is likely most  infectious just before his own symptom onset.  Yet they end their argument by pointing out that if people tend to state onset dates that are later than actual onset dates, the point of maximum contagiousness moves later in time.  Considering the huge ramifications and the data presented here, we should assume that this is the case."
   ]
  },
  {
   "cell_type": "code",
   "execution_count": null,
   "metadata": {},
   "outputs": [],
   "source": []
  }
 ],
 "metadata": {
  "kernelspec": {
   "display_name": "Python 3",
   "language": "python",
   "name": "python3"
  },
  "language_info": {
   "codemirror_mode": {
    "name": "ipython",
    "version": 3
   },
   "file_extension": ".py",
   "mimetype": "text/x-python",
   "name": "python",
   "nbconvert_exporter": "python",
   "pygments_lexer": "ipython3",
   "version": "3.7.4"
  }
 },
 "nbformat": 4,
 "nbformat_minor": 2
}
