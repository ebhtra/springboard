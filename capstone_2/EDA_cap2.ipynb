{
 "cells": [
  {
   "cell_type": "code",
   "execution_count": 89,
   "metadata": {},
   "outputs": [],
   "source": [
    "import numpy as np\n",
    "import pandas as pd\n",
    "import matplotlib.pyplot as plt\n",
    "import seaborn as sns\n",
    "%matplotlib inline"
   ]
  },
  {
   "cell_type": "code",
   "execution_count": 15,
   "metadata": {},
   "outputs": [
    {
     "data": {
      "text/html": [
       "<div>\n",
       "<style scoped>\n",
       "    .dataframe tbody tr th:only-of-type {\n",
       "        vertical-align: middle;\n",
       "    }\n",
       "\n",
       "    .dataframe tbody tr th {\n",
       "        vertical-align: top;\n",
       "    }\n",
       "\n",
       "    .dataframe thead th {\n",
       "        text-align: right;\n",
       "    }\n",
       "</style>\n",
       "<table border=\"1\" class=\"dataframe\">\n",
       "  <thead>\n",
       "    <tr style=\"text-align: right;\">\n",
       "      <th></th>\n",
       "      <th>Old_ID</th>\n",
       "      <th>ID</th>\n",
       "      <th>AgeSex</th>\n",
       "      <th>Day</th>\n",
       "      <th>Went_From</th>\n",
       "      <th>Went_To</th>\n",
       "      <th>Status</th>\n",
       "      <th>Got_From</th>\n",
       "      <th>Got_At</th>\n",
       "      <th>From_geo</th>\n",
       "      <th>To_geo</th>\n",
       "    </tr>\n",
       "  </thead>\n",
       "  <tbody>\n",
       "    <tr>\n",
       "      <td>0</td>\n",
       "      <td>5</td>\n",
       "      <td>0.0</td>\n",
       "      <td>50F</td>\n",
       "      <td>6</td>\n",
       "      <td>Hefei</td>\n",
       "      <td>Wuhan</td>\n",
       "      <td>0.0</td>\n",
       "      <td>NaN</td>\n",
       "      <td>NaN</td>\n",
       "      <td>(31.85, 117.28)</td>\n",
       "      <td>(30.58, 114.27)</td>\n",
       "    </tr>\n",
       "    <tr>\n",
       "      <td>1</td>\n",
       "      <td>5</td>\n",
       "      <td>0.0</td>\n",
       "      <td>50F</td>\n",
       "      <td>(6, 6, 7)</td>\n",
       "      <td>NaN</td>\n",
       "      <td>NaN</td>\n",
       "      <td>1.0</td>\n",
       "      <td>NaN</td>\n",
       "      <td>Wuhan</td>\n",
       "      <td>NaN</td>\n",
       "      <td>NaN</td>\n",
       "    </tr>\n",
       "    <tr>\n",
       "      <td>2</td>\n",
       "      <td>5</td>\n",
       "      <td>0.0</td>\n",
       "      <td>50F</td>\n",
       "      <td>7</td>\n",
       "      <td>Wuhan</td>\n",
       "      <td>Hefei</td>\n",
       "      <td>1.0</td>\n",
       "      <td>NaN</td>\n",
       "      <td>NaN</td>\n",
       "      <td>(30.58, 114.27)</td>\n",
       "      <td>(31.85, 117.28)</td>\n",
       "    </tr>\n",
       "  </tbody>\n",
       "</table>\n",
       "</div>"
      ],
      "text/plain": [
       "  Old_ID   ID AgeSex        Day Went_From Went_To  Status Got_From Got_At  \\\n",
       "0      5  0.0    50F          6     Hefei   Wuhan     0.0      NaN    NaN   \n",
       "1      5  0.0    50F  (6, 6, 7)       NaN     NaN     1.0      NaN  Wuhan   \n",
       "2      5  0.0    50F          7     Wuhan   Hefei     1.0      NaN    NaN   \n",
       "\n",
       "          From_geo           To_geo  \n",
       "0  (31.85, 117.28)  (30.58, 114.27)  \n",
       "1              NaN              NaN  \n",
       "2  (30.58, 114.27)  (31.85, 117.28)  "
      ]
     },
     "execution_count": 15,
     "metadata": {},
     "output_type": "execute_result"
    }
   ],
   "source": [
    "df = pd.read_csv('../eventDF.csv', index_col=0)\n",
    "df.head(3)"
   ]
  },
  {
   "cell_type": "code",
   "execution_count": 16,
   "metadata": {},
   "outputs": [
    {
     "data": {
      "text/plain": [
       "334"
      ]
     },
     "execution_count": 16,
     "metadata": {},
     "output_type": "execute_result"
    }
   ],
   "source": [
    "df.ID.nunique()  # how many cases does this include"
   ]
  },
  {
   "cell_type": "code",
   "execution_count": 5,
   "metadata": {},
   "outputs": [
    {
     "name": "stdout",
     "output_type": "stream",
     "text": [
      "<class 'pandas.core.frame.DataFrame'>\n",
      "Int64Index: 1402 entries, 0 to 1401\n",
      "Data columns (total 11 columns):\n",
      "Old_ID       1402 non-null object\n",
      "ID           1390 non-null float64\n",
      "AgeSex       1402 non-null object\n",
      "Day          1387 non-null object\n",
      "Went_From    440 non-null object\n",
      "Went_To      440 non-null object\n",
      "Status       1388 non-null float64\n",
      "Got_From     25 non-null object\n",
      "Got_At       333 non-null object\n",
      "From_geo     440 non-null object\n",
      "To_geo       440 non-null object\n",
      "dtypes: float64(2), object(9)\n",
      "memory usage: 131.4+ KB\n"
     ]
    }
   ],
   "source": [
    "df.info()"
   ]
  },
  {
   "cell_type": "markdown",
   "metadata": {},
   "source": [
    "#### What was the mean status of people who were traveling with the disease?  So we're just looking at the 1's and 2's here."
   ]
  },
  {
   "cell_type": "code",
   "execution_count": 18,
   "metadata": {},
   "outputs": [
    {
     "data": {
      "text/plain": [
       "Status    1.20116\n",
       "dtype: float64"
      ]
     },
     "execution_count": 18,
     "metadata": {},
     "output_type": "execute_result"
    }
   ],
   "source": [
    "sick_travels = df[(df.Status > 0) & (df.Status < 3) & (df.Went_From.notnull())]\n",
    "sick_travels.groupby('ID').mean().mean()"
   ]
  },
  {
   "cell_type": "markdown",
   "metadata": {},
   "source": [
    "So about 20% of the people were traveling after they already had symptoms, while the other 80% had been infected but felt fine, or at least claimed so.  I grouped by patient and took the mean of the mean of each patient's travel statuses because many patients had multiple travel legs and I didn't want those patients' cases to carry more weight than patients with just one travel leg."
   ]
  },
  {
   "cell_type": "markdown",
   "metadata": {},
   "source": [
    "#### When did those 2's happen, compared to the 1's?"
   ]
  },
  {
   "cell_type": "code",
   "execution_count": 80,
   "metadata": {},
   "outputs": [
    {
     "data": {
      "text/plain": [
       "array(['18', '18', '6', '6', '18', '22', '22', '22', '22', '22', '22',\n",
       "       '9', '19', '22', '20', '8', '21', '21', '13', '15', '15', '13',\n",
       "       '13', '(14, 17)', '(14, 17)', '(0, 18, 19)', '19', '6', '18', '20'],\n",
       "      dtype=object)"
      ]
     },
     "execution_count": 80,
     "metadata": {},
     "output_type": "execute_result"
    }
   ],
   "source": [
    "# Let's see what type of values we're dealing with here first\n",
    "sick_travels.Day.values[100:130]"
   ]
  },
  {
   "cell_type": "markdown",
   "metadata": {},
   "source": [
    "String floats mixed with string repr of 2- and 3-tuples:  It made life easier while not discarding any info, during data entry, but now needs a little regex to tidy up."
   ]
  },
  {
   "cell_type": "code",
   "execution_count": 66,
   "metadata": {},
   "outputs": [],
   "source": [
    "import re\n",
    "def floatize(day):\n",
    "    ''' Helper func to convert strings of numbers and strings of 2- and 3- tuples into single floats'''\n",
    "    if day[0] != '(':\n",
    "        return float(day)\n",
    "    days = re.findall(r'[0-9]+', day)  ## convert \"\"\"  '(20,24,25)'  \"\"\" into \"\"\"  ['20', '24', '25']  \"\"\"\n",
    "    if len(days) == 3:\n",
    "        return float(days[1])  # that's the best-guess day in the 3-tuples\n",
    "    if len(days) == 2:\n",
    "        return sum(float(d) for d in days) / 2\n",
    "    return np.nan"
   ]
  },
  {
   "cell_type": "code",
   "execution_count": 77,
   "metadata": {},
   "outputs": [
    {
     "name": "stderr",
     "output_type": "stream",
     "text": [
      "/Users/ethanhaley/opt/anaconda3/lib/python3.7/site-packages/ipykernel_launcher.py:1: SettingWithCopyWarning: \n",
      "A value is trying to be set on a copy of a slice from a DataFrame.\n",
      "Try using .loc[row_indexer,col_indexer] = value instead\n",
      "\n",
      "See the caveats in the documentation: http://pandas.pydata.org/pandas-docs/stable/user_guide/indexing.html#returning-a-view-versus-a-copy\n",
      "  \"\"\"Entry point for launching an IPython kernel.\n"
     ]
    }
   ],
   "source": [
    "sick_travels['Float_Day'] = sick_travels.Day.apply(floatize)"
   ]
  },
  {
   "cell_type": "code",
   "execution_count": 78,
   "metadata": {},
   "outputs": [
    {
     "data": {
      "text/html": [
       "<div>\n",
       "<style scoped>\n",
       "    .dataframe tbody tr th:only-of-type {\n",
       "        vertical-align: middle;\n",
       "    }\n",
       "\n",
       "    .dataframe tbody tr th {\n",
       "        vertical-align: top;\n",
       "    }\n",
       "\n",
       "    .dataframe thead th {\n",
       "        text-align: right;\n",
       "    }\n",
       "</style>\n",
       "<table border=\"1\" class=\"dataframe\">\n",
       "  <thead>\n",
       "    <tr style=\"text-align: right;\">\n",
       "      <th></th>\n",
       "      <th>Old_ID</th>\n",
       "      <th>ID</th>\n",
       "      <th>AgeSex</th>\n",
       "      <th>Day</th>\n",
       "      <th>Went_From</th>\n",
       "      <th>Went_To</th>\n",
       "      <th>Status</th>\n",
       "      <th>Got_From</th>\n",
       "      <th>Got_At</th>\n",
       "      <th>From_geo</th>\n",
       "      <th>To_geo</th>\n",
       "      <th>Float_Day</th>\n",
       "    </tr>\n",
       "  </thead>\n",
       "  <tbody>\n",
       "    <tr>\n",
       "      <td>2</td>\n",
       "      <td>5</td>\n",
       "      <td>0.0</td>\n",
       "      <td>50F</td>\n",
       "      <td>7</td>\n",
       "      <td>Wuhan</td>\n",
       "      <td>Hefei</td>\n",
       "      <td>1.0</td>\n",
       "      <td>NaN</td>\n",
       "      <td>NaN</td>\n",
       "      <td>(30.58, 114.27)</td>\n",
       "      <td>(31.85, 117.28)</td>\n",
       "      <td>7.0</td>\n",
       "    </tr>\n",
       "    <tr>\n",
       "      <td>10</td>\n",
       "      <td>1</td>\n",
       "      <td>3.0</td>\n",
       "      <td>30M</td>\n",
       "      <td>17</td>\n",
       "      <td>Wuhan</td>\n",
       "      <td>Chaohu</td>\n",
       "      <td>1.0</td>\n",
       "      <td>NaN</td>\n",
       "      <td>NaN</td>\n",
       "      <td>(30.58, 114.27)</td>\n",
       "      <td>(31.632, 117.882)</td>\n",
       "      <td>17.0</td>\n",
       "    </tr>\n",
       "    <tr>\n",
       "      <td>16</td>\n",
       "      <td>2</td>\n",
       "      <td>4.0</td>\n",
       "      <td>47M</td>\n",
       "      <td>10</td>\n",
       "      <td>Luzhou</td>\n",
       "      <td>Hefei</td>\n",
       "      <td>1.0</td>\n",
       "      <td>NaN</td>\n",
       "      <td>NaN</td>\n",
       "      <td>(28.88, 105.38)</td>\n",
       "      <td>(31.85, 117.28)</td>\n",
       "      <td>10.0</td>\n",
       "    </tr>\n",
       "    <tr>\n",
       "      <td>22</td>\n",
       "      <td>3</td>\n",
       "      <td>5.0</td>\n",
       "      <td>49M</td>\n",
       "      <td>10</td>\n",
       "      <td>Yinzhou</td>\n",
       "      <td>Hefei</td>\n",
       "      <td>1.0</td>\n",
       "      <td>NaN</td>\n",
       "      <td>NaN</td>\n",
       "      <td>(29.808, 121.561)</td>\n",
       "      <td>(31.85, 117.28)</td>\n",
       "      <td>10.0</td>\n",
       "    </tr>\n",
       "    <tr>\n",
       "      <td>27</td>\n",
       "      <td>10</td>\n",
       "      <td>6.0</td>\n",
       "      <td>30M</td>\n",
       "      <td>21</td>\n",
       "      <td>Wuhan</td>\n",
       "      <td>Hefei</td>\n",
       "      <td>2.0</td>\n",
       "      <td>NaN</td>\n",
       "      <td>NaN</td>\n",
       "      <td>(30.58, 114.27)</td>\n",
       "      <td>(31.85, 117.28)</td>\n",
       "      <td>21.0</td>\n",
       "    </tr>\n",
       "  </tbody>\n",
       "</table>\n",
       "</div>"
      ],
      "text/plain": [
       "   Old_ID   ID AgeSex Day Went_From Went_To  Status Got_From Got_At  \\\n",
       "2       5  0.0    50F   7     Wuhan   Hefei     1.0      NaN    NaN   \n",
       "10      1  3.0    30M  17     Wuhan  Chaohu     1.0      NaN    NaN   \n",
       "16      2  4.0    47M  10    Luzhou   Hefei     1.0      NaN    NaN   \n",
       "22      3  5.0    49M  10   Yinzhou   Hefei     1.0      NaN    NaN   \n",
       "27     10  6.0    30M  21     Wuhan   Hefei     2.0      NaN    NaN   \n",
       "\n",
       "             From_geo             To_geo  Float_Day  \n",
       "2     (30.58, 114.27)    (31.85, 117.28)        7.0  \n",
       "10    (30.58, 114.27)  (31.632, 117.882)       17.0  \n",
       "16    (28.88, 105.38)    (31.85, 117.28)       10.0  \n",
       "22  (29.808, 121.561)    (31.85, 117.28)       10.0  \n",
       "27    (30.58, 114.27)    (31.85, 117.28)       21.0  "
      ]
     },
     "execution_count": 78,
     "metadata": {},
     "output_type": "execute_result"
    }
   ],
   "source": [
    "sick_travels.head()"
   ]
  },
  {
   "cell_type": "code",
   "execution_count": 81,
   "metadata": {},
   "outputs": [
    {
     "data": {
      "text/plain": [
       "1.3132911392405062"
      ]
     },
     "execution_count": 81,
     "metadata": {},
     "output_type": "execute_result"
    }
   ],
   "source": [
    "# how many legs of travel, on avg, does a patient have here?\n",
    "len(sick_travels) / sick_travels.ID.nunique()"
   ]
  },
  {
   "cell_type": "code",
   "execution_count": 83,
   "metadata": {},
   "outputs": [
    {
     "data": {
      "image/png": "[encoded data removed]",
      "text/plain": [
       "<Figure size 432x288 with 1 Axes>"
      ]
     },
     "metadata": {
      "needs_background": "light"
     },
     "output_type": "display_data"
    }
   ],
   "source": [
    "sick_travels.groupby('ID').size().hist()\n",
    "plt.xlabel('Number of travel legs for a patient')\n",
    "plt.ylabel('Number of patients');"
   ]
  },
  {
   "cell_type": "markdown",
   "metadata": {},
   "source": [
    "So let's just look at each travel leg as a point on its own, regardless of whether the traveler had 4 points or 1."
   ]
  },
  {
   "cell_type": "code",
   "execution_count": 108,
   "metadata": {},
   "outputs": [
    {
     "data": {
      "image/png": "[encoded data removed]",
      "text/plain": [
       "<Figure size 432x288 with 1 Axes>"
      ]
     },
     "metadata": {
      "needs_background": "light"
     },
     "output_type": "display_data"
    }
   ],
   "source": [
    "asymp = sick_travels[sick_travels.Status == 1]\n",
    "symp = sick_travels[sick_travels.Status == 2]\n",
    "asymp['Float_Day'].hist(bins=20, label='Travelers with no sypmtoms')\n",
    "symp['Float_Day'].hist(histtype='step', color='k', bins=20, label='Travelers with symptoms')\n",
    "plt.legend()\n",
    "plt.grid(False)\n",
    "plt.xlabel('Days into 2020');\n"
   ]
  },
  {
   "cell_type": "code",
   "execution_count": 109,
   "metadata": {},
   "outputs": [
    {
     "name": "stdout",
     "output_type": "stream",
     "text": [
      "===> mean day of travel for patients with no symptoms: 28.024539877300615\n",
      "...and for patients with symptoms: 23.06179775280899\n"
     ]
    }
   ],
   "source": [
    "print('===> mean day of travel for patients with no symptoms: ' + str(asymp['Float_Day'].mean()))\n",
    "print('...and for patients with symptoms: ' + str(symp['Float_Day'].mean()))\n",
    "      "
   ]
  },
  {
   "cell_type": "markdown",
   "metadata": {},
   "source": [
    "It looks as though during February, people were becoming aware enough of the contagiousness of cov-19 that they were not traveling as much once they had symptoms (or they weren't being allowed to).  Also of note are the peaks in both types of travelers just after 20 January.  Partly it's just a function of the fact that the virus was spreading rapidly in China in mid-January, so much so that China shut down travel to and from Wuhan on January 22nd, leading to the sudden dropoff in sick travelers on the chart.  But the chart also suggests that people caught wind of the imminent Wuhan shutdown and made a last-ditch effort, knowingly sick or not, to flee to their hometowns before it was too late.  The evidence for that lies in the ratio of symptomatic travelers to asymptomatic ones in the prior week, where the ratio appears to be less than 1 to 4, compared to the ratio on 20-21 Jan, where it spikes up to maybe 3 to 7. Let's see the actual data:"
   ]
  },
  {
   "cell_type": "code",
   "execution_count": 110,
   "metadata": {},
   "outputs": [
    {
     "name": "stdout",
     "output_type": "stream",
     "text": [
      "The proportion of sick travelers who were symptomatic in the week before 20 Jan:\n",
      "0.13\n",
      "\n",
      "The proportion of sick travelers who were symptomatic on 20-21 Jan:\n",
      "0.28\n"
     ]
    }
   ],
   "source": [
    "jan13to19symp = symp[(symp.Float_Day >= 13) & (symp.Float_Day < 20)]\n",
    "jan13to19asymp = asymp[(asymp.Float_Day >= 13) & (asymp.Float_Day < 20)]\n",
    "jan20to21symp = symp[(symp.Float_Day >= 20) & (symp.Float_Day < 22)]\n",
    "jan20to21asymp = asymp[(asymp.Float_Day >= 20) & (asymp.Float_Day < 22)]\n",
    "\n",
    "print('The proportion of sick travelers who were symptomatic in the week before 20 Jan:')\n",
    "print(np.round(len(jan13to19symp) / (len(jan13to19asymp) + len(jan13to19symp)), 2))\n",
    "print()\n",
    "print('The proportion of sick travelers who were symptomatic on 20-21 Jan:')\n",
    "print(np.round(len(jan20to21symp) / (len(jan20to21asymp) + len(jan20to21symp)), 2))"
   ]
  },
  {
   "cell_type": "markdown",
   "metadata": {},
   "source": [
    "Just curious how these numbers change if the approximated days of travel aren't included:"
   ]
  },
  {
   "cell_type": "code",
   "execution_count": 115,
   "metadata": {},
   "outputs": [
    {
     "name": "stdout",
     "output_type": "stream",
     "text": [
      "===> mean day of travel for patients with no symptoms: 28.414790996784564\n",
      "...and for patients with symptoms: 22.65\n",
      "(vs. 28.02 and 23.06 with approximate dates included)\n"
     ]
    },
    {
     "name": "stderr",
     "output_type": "stream",
     "text": [
      "/Users/ethanhaley/opt/anaconda3/lib/python3.7/site-packages/ipykernel_launcher.py:3: SettingWithCopyWarning: \n",
      "A value is trying to be set on a copy of a slice from a DataFrame.\n",
      "Try using .loc[row_indexer,col_indexer] = value instead\n",
      "\n",
      "See the caveats in the documentation: http://pandas.pydata.org/pandas-docs/stable/user_guide/indexing.html#returning-a-view-versus-a-copy\n",
      "  This is separate from the ipykernel package so we can avoid doing imports until\n"
     ]
    }
   ],
   "source": [
    "approx = sick_travels.Day.str.startswith('(')\n",
    "not_approx = sick_travels[~approx]\n",
    "not_approx['Int_Day'] = [int(d) for d in not_approx.Day]\n",
    "\n",
    "exact_asymp = not_approx[not_approx.Status == 1]\n",
    "exact_symp = not_approx[not_approx.Status == 2]\n",
    "print('===> mean day of travel for patients with no symptoms: ' + str(exact_asymp['Int_Day'].mean()))\n",
    "print('...and for patients with symptoms: ' + str(exact_symp['Int_Day'].mean()))\n",
    "print('(vs. 28.02 and 23.06 with approximate dates included)')"
   ]
  },
  {
   "cell_type": "markdown",
   "metadata": {},
   "source": [
    "#### We should test the null hypothesis on those numbers"
   ]
  },
  {
   "cell_type": "markdown",
   "metadata": {},
   "source": [
    "First check the null hypothesis that sick people with symptoms continued to travel just as much as sick people without symptoms, throughout the travel period covered by the data here."
   ]
  },
  {
   "cell_type": "markdown",
   "metadata": {},
   "source": [
    "Check 10,000 random permutations of the travel events to see how likely the null hypothesis is."
   ]
  },
  {
   "cell_type": "code",
   "execution_count": 147,
   "metadata": {},
   "outputs": [
    {
     "name": "stdout",
     "output_type": "stream",
     "text": [
      "p-value for the null hypothesis, given the difference between the means: \n",
      "0.0023\n"
     ]
    }
   ],
   "source": [
    "n = len(asymp)\n",
    "days = sick_travels.Float_Day.values\n",
    "# take 10000 randomly permuted split samples of the days and see how many have > 5 days difference between the sample means\n",
    "diffs = []\n",
    "for _ in range(10000):\n",
    "    np.random.shuffle(days)\n",
    "    diffs.append(np.mean(days[:n]) - np.mean(days[n:]))\n",
    "\n",
    "print('p-value for the null hypothesis, given the difference between the means: ')\n",
    "observed_diff = 28.02 - 23.06\n",
    "print(sum(np.array(diffs) >= observed_diff) / 10000)"
   ]
  },
  {
   "cell_type": "code",
   "execution_count": 148,
   "metadata": {},
   "outputs": [
    {
     "data": {
      "image/png": "[encoded data removed]",
      "text/plain": [
       "<Figure size 432x288 with 1 Axes>"
      ]
     },
     "metadata": {
      "needs_background": "light"
     },
     "output_type": "display_data"
    }
   ],
   "source": [
    "plt.hist(diffs, bins=30)\n",
    "plt.axvline(observed_diff, linestyle='--', color='k', label='observed difference in mean days')\n",
    "plt.legend()\n",
    "plt.xlabel('mean day for asymptomatic - mean day for symptomatic')\n",
    "plt.ylabel('number of random permutations');"
   ]
  },
  {
   "cell_type": "markdown",
   "metadata": {},
   "source": [
    "Unless someone demands an unusually high significance level for this test, that p-value is small enough to reject the null hypothesis and accept the alternative, which is that people with symptoms were either intentionally avoiding travel, or perhaps being required to do so, as time increased.  Nevertheless, amidst that overall trend, there's an opposing trend on a smaller scale, where the proportion of sick travelers who were symptomatic rose from 0.13 in the week before 20 Jan to 0.28 on 20-21 Jan, probably due to the impending Wuhan lockdown.  "
   ]
  },
  {
   "cell_type": "markdown",
   "metadata": {},
   "source": [
    "Even ignoring the more general trend, which would suggest this rise in proportion is unlikely, let's see how unlikely it is.  The null hypothesis will be that the sick travelers on these 9 days are randomly distributed, such that the increase in proportions of symptomatic travelers has a true mean of 0 and a standard deviation large enough that the one we actually see, 0.15, is not statistically significant.  I'll start by claiming that any increase beyond 1.64 standard devs is enough to reject that null hypothesis, since less than 5% of random permutations should show that large of an increase."
   ]
  },
  {
   "cell_type": "code",
   "execution_count": 153,
   "metadata": {},
   "outputs": [
    {
     "name": "stdout",
     "output_type": "stream",
     "text": [
      "Total number of travel legs for 13-21 Jan:  179\n",
      "110 of them Jan.13-19 and 69 of them Jan.20-21\n"
     ]
    }
   ],
   "source": [
    "n_symp = len(jan13to19symp) + len(jan20to21symp)  # total number of symptomatic in these 9 days\n",
    "n_asymp = len(jan13to19asymp) + len(jan20to21asymp)  # total number of asymptomatic in these 9 days\n",
    "print(f'Total number of travel legs for 13-21 Jan:  {n_symp + n_asymp}')\n",
    "n_13_to_19 = len(jan13to19symp) + len(jan13to19asymp)  # all travels jan.13-19\n",
    "n_20_to_21 = len(jan20to21symp) + len(jan20to21asymp)  # all travels jan.20-21\n",
    "print(f'{n_13_to_19} of them Jan.13-19 and {n_20_to_21} of them Jan.20-21')"
   ]
  },
  {
   "cell_type": "code",
   "execution_count": 154,
   "metadata": {},
   "outputs": [],
   "source": [
    "had_symp = np.array([0] * n_asymp + [1] * n_symp)\n",
    "n_trials = 10000\n",
    "diffs = np.empty(n_trials)\n",
    "for i in range(n_trials):\n",
    "    had_symp = np.random.permutation(had_symp) # shuffle them\n",
    "    post = sum(had_symp[n_13_to_19:]) / n_20_to_21  # proportion symptomatic for 2nd period\n",
    "    pre = sum(had_symp[:n_13_to_19]) / n_13_to_19  # proportion symptomatic for 1st period\n",
    "    diffs[i] = post - pre   # the statistic being calculated and tested"
   ]
  },
  {
   "cell_type": "code",
   "execution_count": 159,
   "metadata": {},
   "outputs": [
    {
     "data": {
      "image/png": "[encoded data removed]",
      "text/plain": [
       "<Figure size 432x288 with 1 Axes>"
      ]
     },
     "metadata": {
      "needs_background": "light"
     },
     "output_type": "display_data"
    }
   ],
   "source": [
    "observed_diff = 0.28 - 0.13   # the actual increase in proportion from the 1st period to the second\n",
    "plt.hist(diffs, bins=16)  # higher numbers of bins had empty bins that were confusing\n",
    "plt.axvline(observed_diff, linestyle='--', color='k', label='observed difference in proportions')\n",
    "plt.axvline(np.std(diffs) * 1.64, linestyle='--', color='y', label='stated significance level')\n",
    "plt.legend()\n",
    "plt.xlabel('change in proportion of symptomatic travelers')\n",
    "plt.ylabel('number of random permutations');"
   ]
  },
  {
   "cell_type": "markdown",
   "metadata": {},
   "source": [
    "Since the observed difference is to the right of the stated significance level, we know the p-value is less than 0.05, we can reject the null hypothesis, and we can be confident that there's a reason more people are traveling when they know they're sick on 20-21 Jan.   The part of this analysis that's somewhat questionable is that it smacks of the \"Texas Sharpshooter\" phenomenon, since I began by focusing on a specific part of the data that seemed interesting, and then I drew a circle around the perfect dates that perhaps minimized p-values for the null hypothesis.  What I would say in my defense is that the dates before the selected ones contain very few cases, and indeed the symptomatic travelers at that point most likely had no idea their symptoms might be from covid-19 (The Chinese government only announced the existence of the new coronavirus on 7 Jan).  Also in my defense, the most likely underlying cause for the data I circled--the Wuhan shutdown--draws its own endpoint in time, on 22 January.  And finally, as I pointed out, this analyzed trend runs counter to the overall trend, which makes it inherently less likely and more worth exploring."
   ]
  },
  {
   "cell_type": "code",
   "execution_count": null,
   "metadata": {},
   "outputs": [],
   "source": []
  }
 ],
 "metadata": {
  "kernelspec": {
   "display_name": "Python 3",
   "language": "python",
   "name": "python3"
  },
  "language_info": {
   "codemirror_mode": {
    "name": "ipython",
    "version": 3
   },
   "file_extension": ".py",
   "mimetype": "text/x-python",
   "name": "python",
   "nbconvert_exporter": "python",
   "pygments_lexer": "ipython3",
   "version": "3.7.4"
  }
 },
 "nbformat": 4,
 "nbformat_minor": 2
}
