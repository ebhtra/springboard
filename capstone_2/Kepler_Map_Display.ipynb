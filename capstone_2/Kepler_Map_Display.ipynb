{
 "cells": [
  {
   "cell_type": "markdown",
   "metadata": {},
   "source": [
    "## This notebook is for viewing the Kepler map.  The first cell below contains the link to the map, which will open in a separate browser window when clicked.  The following cells show instructions for viewing the map."
   ]
  },
  {
   "cell_type": "markdown",
   "metadata": {},
   "source": [
    "https://kepler.gl/demo/map?mapUrl=https://dl.dropboxusercontent.com/s/q3e7szdombqtazx/keplergl_jooq42l.json"
   ]
  },
  {
   "cell_type": "markdown",
   "metadata": {},
   "source": [
    "#### This next cell also displays the map interactively in the notebook, but it's more enjoyable in the full screen of the separate window."
   ]
  },
  {
   "cell_type": "code",
   "execution_count": 30,
   "metadata": {},
   "outputs": [
    {
     "data": {
      "text/html": [
       "\n",
       "        <iframe\n",
       "            width=\"1000\"\n",
       "            height=\"600\"\n",
       "            src=\"https://kepler.gl/demo/map?mapUrl=https://dl.dropboxusercontent.com/s/q3e7szdombqtazx/keplergl_jooq42l.json\"\n",
       "            frameborder=\"0\"\n",
       "            allowfullscreen\n",
       "        ></iframe>\n",
       "        "
      ],
      "text/plain": [
       "<IPython.lib.display.IFrame at 0x11f3c3ed0>"
      ]
     },
     "execution_count": 30,
     "metadata": {},
     "output_type": "execute_result"
    }
   ],
   "source": [
    "from IPython.display import IFrame\n",
    "\n",
    "source = 'https://kepler.gl/demo/map?mapUrl=https://dl.dropboxusercontent.com/s/q3e7szdombqtazx/keplergl_jooq42l.json'\n",
    "IFrame(source, width=1000, height=600)"
   ]
  },
  {
   "cell_type": "code",
   "execution_count": 15,
   "metadata": {},
   "outputs": [
    {
     "data": {
      "text/html": [
       "\n",
       "        <iframe\n",
       "            width=\"1200\"\n",
       "            height=\"600\"\n",
       "            src=\"../capstone_2/cap2_images/Kepler_screen_1.png\"\n",
       "            frameborder=\"0\"\n",
       "            allowfullscreen\n",
       "        ></iframe>\n",
       "        "
      ],
      "text/plain": [
       "<IPython.lib.display.IFrame at 0x11f0efe90>"
      ]
     },
     "execution_count": 15,
     "metadata": {},
     "output_type": "execute_result"
    }
   ],
   "source": [
    "IFrame('../capstone_2/cap2_images/Kepler_screen_1.png', width=1200, height=600)"
   ]
  },
  {
   "cell_type": "code",
   "execution_count": 19,
   "metadata": {},
   "outputs": [
    {
     "data": {
      "text/html": [
       "\n",
       "        <iframe\n",
       "            width=\"1200\"\n",
       "            height=\"600\"\n",
       "            src=\"../capstone_2/cap2_images/Kepler_screen_2.png\"\n",
       "            frameborder=\"0\"\n",
       "            allowfullscreen\n",
       "        ></iframe>\n",
       "        "
      ],
      "text/plain": [
       "<IPython.lib.display.IFrame at 0x11f813950>"
      ]
     },
     "execution_count": 19,
     "metadata": {},
     "output_type": "execute_result"
    }
   ],
   "source": [
    "IFrame('../capstone_2/cap2_images/Kepler_screen_2.png', width=1200, height=600)"
   ]
  },
  {
   "cell_type": "markdown",
   "metadata": {},
   "source": [
    "### The default setting for animation speed is 1.0, towards the left on the slider.  Click the slider square and drag it all the way left, which is 0, and then move it right, to 0.1 or 0.2, to view the animation best."
   ]
  },
  {
   "cell_type": "code",
   "execution_count": 27,
   "metadata": {},
   "outputs": [
    {
     "data": {
      "text/html": [
       "\n",
       "        <iframe\n",
       "            width=\"1000\"\n",
       "            height=\"500\"\n",
       "            src=\"../capstone_2/cap2_images/Kepler_screen_3.png\"\n",
       "            frameborder=\"0\"\n",
       "            allowfullscreen\n",
       "        ></iframe>\n",
       "        "
      ],
      "text/plain": [
       "<IPython.lib.display.IFrame at 0x11ef1a810>"
      ]
     },
     "execution_count": 27,
     "metadata": {},
     "output_type": "execute_result"
    }
   ],
   "source": [
    "IFrame('../capstone_2/cap2_images/Kepler_screen_3.png', width=1000, height=500)"
   ]
  },
  {
   "cell_type": "code",
   "execution_count": 29,
   "metadata": {},
   "outputs": [
    {
     "data": {
      "text/html": [
       "\n",
       "        <iframe\n",
       "            width=\"1000\"\n",
       "            height=\"500\"\n",
       "            src=\"../capstone_2/cap2_images/Kepler_screen_4.png\"\n",
       "            frameborder=\"0\"\n",
       "            allowfullscreen\n",
       "        ></iframe>\n",
       "        "
      ],
      "text/plain": [
       "<IPython.lib.display.IFrame at 0x10c62c390>"
      ]
     },
     "execution_count": 29,
     "metadata": {},
     "output_type": "execute_result"
    }
   ],
   "source": [
    "IFrame('../capstone_2/cap2_images/Kepler_screen_4.png', width=1000, height=500)"
   ]
  },
  {
   "cell_type": "markdown",
   "metadata": {},
   "source": [
    "### Scroll down with two fingers to zoom in, or up to zoom out.\n",
    "### Click and drag the map to move it.  It's best viewed with China near the center for the first half of the time window and Italy near the center for the second half.  If you see really long horizontal lines crossing the map, it will help to move the map, so that a flight from Tokyo to Hawaii, for example, doesn't show as flying westward."
   ]
  },
  {
   "cell_type": "markdown",
   "metadata": {},
   "source": [
    "### =====> The white end of each line is where the trip started, and the red end is where it ended."
   ]
  },
  {
   "cell_type": "markdown",
   "metadata": {},
   "source": [
    "#### The map shows a chronological series of movements made by infected travelers who would later test positive for COVID-19.  It doesn't necessarily represent \"how the coronavirus moved from Country A to Country B\", although in many instances, it does actually show that.  Neither does it attempt to point fingers at specific travelers who are in some way guilty for infecting thousands of others.  All it's designed to do is show how a highly contagious disease moves around our highly interconnected planet in a short time.  \n",
    "\n",
    "Visualizing such a map is an effective way to better understand the big picture of this disease's spread.  All the lines simply represent a connection between two places on earth:  A place where COVID-19 was already spreading between people, and a place where it would soon be spreading, if it wasn't already.  For an example of what we can better understand by viewing this map, I'm going to zoom in on China for the week of 12-19 January.  This was before people knew that Wuhan would be locked down for 2 months.  It's possible that most of these travelers hadn't the slightest notion that they had COVID-19, which had only been identified Jan.7, and was still assumed to have spread only from the wild animals in Wuhan's market to the people that were there.  If you click on any of the news links in the tooltips that pop up when you hover on a travel segment, you'll see that there was a universal assumption that the virus was contained, that the sick person had done everything humanly possible to avoid contact with anybody, that all the people who possibly had contact with the patient had been tracked down and had all tested negative, that there was doubt as to whether the disease was even transmissible between humans, that all government health institutions had a well-designed plan to deal with exactly this type of situation, that the plan was being followed perfectly, and so on."
   ]
  },
  {
   "cell_type": "code",
   "execution_count": 34,
   "metadata": {},
   "outputs": [
    {
     "data": {
      "text/html": [
       "\n",
       "        <iframe\n",
       "            width=\"1000\"\n",
       "            height=\"600\"\n",
       "            src=\"../capstone_2/cap2_images/Bad_week.png\"\n",
       "            frameborder=\"0\"\n",
       "            allowfullscreen\n",
       "        ></iframe>\n",
       "        "
      ],
      "text/plain": [
       "<IPython.lib.display.IFrame at 0x11f8206d0>"
      ]
     },
     "execution_count": 34,
     "metadata": {},
     "output_type": "execute_result"
    }
   ],
   "source": [
    "IFrame('../capstone_2/cap2_images/Bad_week.png', width=1000, height=600)"
   ]
  },
  {
   "cell_type": "markdown",
   "metadata": {},
   "source": [
    "The 3 lines exiting the left of the screen go to Munich (from Shanghai), to Paris, and to Rome.  The 2 on the right go to Seattle and Chicago.  The 2 on the bottom go to Melbourne (from Guangzhou) and to Sydney.  There are travelers to Sri Lanka, Thailand, Singapore, Vietnam, Malaysia, South Korea, and Japan.  South Korea is even getting exposed from 3 different countries, Thailand, Japan, and China, on one single day, 19 January.  The traveler from Wuhan to South Korea was actually stopped at the Incheon Airport and immediately quarantined, due to having a fever.  I only included her because anyone she'd come in contact with till that point, whether in Wuhan, at either airport, or on the plane, was potentially infected but not quarantined. As for all the other travelers mentioned here, none claimed to have symptoms.  But note that the only reason the Wuhan-Incheon traveler is listed as symptomatic in this dataset is because she was stopped at the airport.  I'm not implying that she or any of the others were trying to hide their disease, but if you take ibuprofen and don't get diagnosed by a doctor or stopped by effective disease control at an airport, you don't know anything and can't be hiding anything.  And when you're being questioned at the hospital later, and not sure whether your symptoms appeared before or after you arrived at your destination, you probably lean towards \"after\".  It's just human nature."
   ]
  },
  {
   "cell_type": "code",
   "execution_count": 35,
   "metadata": {
    "scrolled": true
   },
   "outputs": [
    {
     "data": {
      "text/html": [
       "\n",
       "        <iframe\n",
       "            width=\"1000\"\n",
       "            height=\"600\"\n",
       "            src=\"../capstone_2/cap2_images/Good_week.png\"\n",
       "            frameborder=\"0\"\n",
       "            allowfullscreen\n",
       "        ></iframe>\n",
       "        "
      ],
      "text/plain": [
       "<IPython.lib.display.IFrame at 0x11f820690>"
      ]
     },
     "execution_count": 35,
     "metadata": {},
     "output_type": "execute_result"
    }
   ],
   "source": [
    "IFrame('../capstone_2/cap2_images/Good_week.png', width=1000, height=600)"
   ]
  },
  {
   "cell_type": "markdown",
   "metadata": {},
   "source": [
    "During the period 3 weeks later, from 2-9 February, the only sick travelers in the entire world are people returning to Tokyo from Hawaii.  Of course there were sick people moving around the world during that week, but they all flew under this radar. China had mostly sealed off Wuhan and surrounding towns, Italy and the U.S. had stopped flights from China, and the cases that were spreading were doing so at a local, and usually untraceable, scale.  Another important point worth mentioning here is that these data only exist because someone painstakingly gathered and published them.  If a country like Italy or the U.S., who received sick travelers 2 weeks before this map, doesn't want to drill down on the details of how the virus spread from those people, or doesn't want to publicly announce it, there will be no data.  It's one of the great ironies of this pandemic, that many countries who pride themselves on being transparent and medically advanced refuse to publish any detailed information about a patient's travel history, while other countries with controlled, censored media actually interrogate their patients and release the data to the world.  If anyone wants to get a clear sense of this phenomenon, I encourage them to try googling for information on how the virus first spread in Italy (the results probably won't be what you see on this map)."
   ]
  },
  {
   "cell_type": "code",
   "execution_count": 36,
   "metadata": {
    "scrolled": true
   },
   "outputs": [
    {
     "data": {
      "text/html": [
       "\n",
       "        <iframe\n",
       "            width=\"1000\"\n",
       "            height=\"600\"\n",
       "            src=\"../capstone_2/cap2_images/Quiet_week.png\"\n",
       "            frameborder=\"0\"\n",
       "            allowfullscreen\n",
       "        ></iframe>\n",
       "        "
      ],
      "text/plain": [
       "<IPython.lib.display.IFrame at 0x11f911350>"
      ]
     },
     "execution_count": 36,
     "metadata": {},
     "output_type": "execute_result"
    }
   ],
   "source": [
    "IFrame('../capstone_2/cap2_images/Quiet_week.png', width=1000, height=600)"
   ]
  },
  {
   "cell_type": "markdown",
   "metadata": {},
   "source": [
    "Still quiet the following week:  Madrid flying to Ecuador and Tehran to Toronto, as far as international travel.  The source (white) ends of the lines are indications of where the next outbreaks will flair up.  "
   ]
  },
  {
   "cell_type": "code",
   "execution_count": null,
   "metadata": {},
   "outputs": [],
   "source": []
  },
  {
   "cell_type": "code",
   "execution_count": 37,
   "metadata": {
    "scrolled": true
   },
   "outputs": [
    {
     "data": {
      "text/html": [
       "\n",
       "        <iframe\n",
       "            width=\"1000\"\n",
       "            height=\"600\"\n",
       "            src=\"../capstone_2/cap2_images/Italy_Iran_exports.png\"\n",
       "            frameborder=\"0\"\n",
       "            allowfullscreen\n",
       "        ></iframe>\n",
       "        "
      ],
      "text/plain": [
       "<IPython.lib.display.IFrame at 0x11f429490>"
      ]
     },
     "execution_count": 37,
     "metadata": {},
     "output_type": "execute_result"
    }
   ],
   "source": [
    "IFrame('../capstone_2/cap2_images/Italy_Iran_exports.png', width=1000, height=600)"
   ]
  },
  {
   "cell_type": "markdown",
   "metadata": {},
   "source": [
    "This is the week 10 days after the week in the last snapshot.  Europe, and mostly Northern Italy, is now sending sick travelers to every continent. Iran is also a hotspot, to a lesser extent.  It appears as though within a few weeks, North and South America (especially the U.S.) and also on a smaller scale Africa, will be dealing with outbreaks."
   ]
  },
  {
   "cell_type": "code",
   "execution_count": null,
   "metadata": {},
   "outputs": [],
   "source": []
  }
 ],
 "metadata": {
  "kernelspec": {
   "display_name": "Python 3",
   "language": "python",
   "name": "python3"
  },
  "language_info": {
   "codemirror_mode": {
    "name": "ipython",
    "version": 3
   },
   "file_extension": ".py",
   "mimetype": "text/x-python",
   "name": "python",
   "nbconvert_exporter": "python",
   "pygments_lexer": "ipython3",
   "version": "3.7.4"
  }
 },
 "nbformat": 4,
 "nbformat_minor": 2
}
