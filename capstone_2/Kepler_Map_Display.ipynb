{
 "cells": [
  {
   "cell_type": "markdown",
   "metadata": {},
   "source": [
    "## This notebook is for viewing the Kepler map.  The first cell below contains the link to the map, which will open in a separate browser window when clicked.  The following cells show instructions for viewing the map."
   ]
  },
  {
   "cell_type": "markdown",
   "metadata": {},
   "source": [
    "https://kepler.gl/demo/map?mapUrl=https://dl.dropboxusercontent.com/s/wocutk2htqf5giv/keplergl_3wd2w99q.json"
   ]
  },
  {
   "cell_type": "markdown",
   "metadata": {},
   "source": [
    "#### This next cell also displays the map interactively in the notebook, but it's more enjoyable in the full screen of the separate window."
   ]
  },
  {
   "cell_type": "code",
   "execution_count": 1,
   "metadata": {},
   "outputs": [
    {
     "data": {
      "text/html": [
       "\n",
       "        <iframe\n",
       "            width=\"1000\"\n",
       "            height=\"600\"\n",
       "            src=\"https://kepler.gl/demo/map?mapUrl=https://dl.dropboxusercontent.com/s/wocutk2htqf5giv/keplergl_3wd2w99q.json\"\n",
       "            frameborder=\"0\"\n",
       "            allowfullscreen\n",
       "        ></iframe>\n",
       "        "
      ],
      "text/plain": [
       "<IPython.lib.display.IFrame at 0x109623b90>"
      ]
     },
     "execution_count": 1,
     "metadata": {},
     "output_type": "execute_result"
    }
   ],
   "source": [
    "from IPython.display import IFrame\n",
    "\n",
    "source = 'https://kepler.gl/demo/map?mapUrl=https://dl.dropboxusercontent.com/s/wocutk2htqf5giv/keplergl_3wd2w99q.json'\n",
    "IFrame(source, width=1000, height=600)"
   ]
  },
  {
   "cell_type": "code",
   "execution_count": 15,
   "metadata": {},
   "outputs": [
    {
     "data": {
      "text/html": [
       "\n",
       "        <iframe\n",
       "            width=\"1200\"\n",
       "            height=\"600\"\n",
       "            src=\"../capstone_2/cap2_images/Kepler_screen_1.png\"\n",
       "            frameborder=\"0\"\n",
       "            allowfullscreen\n",
       "        ></iframe>\n",
       "        "
      ],
      "text/plain": [
       "<IPython.lib.display.IFrame at 0x11f0efe90>"
      ]
     },
     "execution_count": 15,
     "metadata": {},
     "output_type": "execute_result"
    }
   ],
   "source": [
    "IFrame('../capstone_2/cap2_images/Kepler_screen_1.png', width=1200, height=600)"
   ]
  },
  {
   "cell_type": "code",
   "execution_count": 19,
   "metadata": {},
   "outputs": [
    {
     "data": {
      "text/html": [
       "\n",
       "        <iframe\n",
       "            width=\"1200\"\n",
       "            height=\"600\"\n",
       "            src=\"../capstone_2/cap2_images/Kepler_screen_2.png\"\n",
       "            frameborder=\"0\"\n",
       "            allowfullscreen\n",
       "        ></iframe>\n",
       "        "
      ],
      "text/plain": [
       "<IPython.lib.display.IFrame at 0x11f813950>"
      ]
     },
     "execution_count": 19,
     "metadata": {},
     "output_type": "execute_result"
    }
   ],
   "source": [
    "IFrame('../capstone_2/cap2_images/Kepler_screen_2.png', width=1200, height=600)"
   ]
  },
  {
   "cell_type": "markdown",
   "metadata": {},
   "source": [
    "### The default setting for animation speed is 1.0, towards the left on the slider.  Click the slider square and drag it all the way left, which is 0, and then move it right, to 0.1 or 0.2, to view the animation best."
   ]
  },
  {
   "cell_type": "code",
   "execution_count": 27,
   "metadata": {},
   "outputs": [
    {
     "data": {
      "text/html": [
       "\n",
       "        <iframe\n",
       "            width=\"1000\"\n",
       "            height=\"500\"\n",
       "            src=\"../capstone_2/cap2_images/Kepler_screen_3.png\"\n",
       "            frameborder=\"0\"\n",
       "            allowfullscreen\n",
       "        ></iframe>\n",
       "        "
      ],
      "text/plain": [
       "<IPython.lib.display.IFrame at 0x11ef1a810>"
      ]
     },
     "execution_count": 27,
     "metadata": {},
     "output_type": "execute_result"
    }
   ],
   "source": [
    "IFrame('../capstone_2/cap2_images/Kepler_screen_3.png', width=1000, height=500)"
   ]
  },
  {
   "cell_type": "code",
   "execution_count": 29,
   "metadata": {},
   "outputs": [
    {
     "data": {
      "text/html": [
       "\n",
       "        <iframe\n",
       "            width=\"1000\"\n",
       "            height=\"500\"\n",
       "            src=\"../capstone_2/cap2_images/Kepler_screen_4.png\"\n",
       "            frameborder=\"0\"\n",
       "            allowfullscreen\n",
       "        ></iframe>\n",
       "        "
      ],
      "text/plain": [
       "<IPython.lib.display.IFrame at 0x10c62c390>"
      ]
     },
     "execution_count": 29,
     "metadata": {},
     "output_type": "execute_result"
    }
   ],
   "source": [
    "IFrame('../capstone_2/cap2_images/Kepler_screen_4.png', width=1000, height=500)"
   ]
  },
  {
   "cell_type": "markdown",
   "metadata": {},
   "source": [
    "### Scroll down with two fingers to zoom in, or up to zoom out.\n",
    "### Click and drag the map to move it.  It's best viewed with China near the center for the first half of the time window and Italy near the center for the second half.  If you see really long horizontal lines crossing the map, it will help to move the map, so that a flight from Tokyo to Hawaii, for example, doesn't show as flying westward."
   ]
  },
  {
   "cell_type": "markdown",
   "metadata": {},
   "source": [
    "### =====> The white end of each line is where the trip started, and the red end is where it ended."
   ]
  },
  {
   "cell_type": "markdown",
   "metadata": {},
   "source": [
    "#### The map shows a chronological series of movements made by infected travelers who would later test positive for COVID-19.  It doesn't necessarily represent \"how the coronavirus moved from Country A to Country B\", although in many instances, it does actually show that.  Neither does it attempt to point fingers at specific travelers who are in some way guilty for infecting thousands of others.  All it's designed to do is show how a highly contagious disease moves around our highly interconnected planet in a short time.  \n"
   ]
  },
  {
   "cell_type": "code",
   "execution_count": null,
   "metadata": {},
   "outputs": [],
   "source": []
  }
 ],
 "metadata": {
  "kernelspec": {
   "display_name": "Python 3",
   "language": "python",
   "name": "python3"
  },
  "language_info": {
   "codemirror_mode": {
    "name": "ipython",
    "version": 3
   },
   "file_extension": ".py",
   "mimetype": "text/x-python",
   "name": "python",
   "nbconvert_exporter": "python",
   "pygments_lexer": "ipython3",
   "version": "3.7.4"
  }
 },
 "nbformat": 4,
 "nbformat_minor": 2
}
