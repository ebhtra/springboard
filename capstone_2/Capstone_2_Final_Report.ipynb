{
 "cells": [
  {
   "cell_type": "markdown",
   "metadata": {},
   "source": [
    "# <center>Analysis of Sick Travelers During the First Part of the COVID-19 Pandemic</center>  \n",
    "Since the outbreak of COVID-19 was recognized in January, 2020, an international group of academics and medical experts has been compiling daily individual case data, by studying national, provincial, and municipal health reports, in addition to online reports.  Although the granularity of available details for each patient became less fine as the trickle of new cases became a flood, there were still several hundred of them from the first two months whose details included dates of symptom onset and hospitalization, as well as travel locations and dates, where applicable, with varying degrees of certainty and exactness.  \n",
    "\n",
    "The first part of this notebook includes links to the original data source, and compares patients who traveled after showing symptoms to patients who showed symptoms only after traveling.  Then it compares patients who traveled to patients who didn't travel.  There follow links to two notebooks, one detailing how I cleaned and transformed the data from its original form into a structure better suited for this analysis, and another showing how the transformed data were used to analyze the sick travelers. \n",
    "\n",
    "The second part of this notebook concerns creating an interactive map out of the data, showing where and when these travelers moved around the planet, spreading the virus.  First there are a few tips on how to interact with the map, then an external link to the map, which proved difficult to render in this notebook, and then some screenshots of the map at various points in time, demonstrating what sort of insights can be found by exploring it.  Finally, there's a link to the code used to build the map."
   ]
  },
  {
   "cell_type": "code",
   "execution_count": 5,
   "metadata": {},
   "outputs": [
    {
     "data": {
      "text/html": [
       "\n",
       "        <iframe\n",
       "            width=\"800\"\n",
       "            height=\"1000\"\n",
       "            src=\"./Sick_Travelers.pdf\"\n",
       "            frameborder=\"0\"\n",
       "            allowfullscreen\n",
       "        ></iframe>\n",
       "        "
      ],
      "text/plain": [
       "<IPython.lib.display.IFrame at 0x10c49fa50>"
      ]
     },
     "execution_count": 5,
     "metadata": {},
     "output_type": "execute_result"
    }
   ],
   "source": [
    "from IPython.display import IFrame\n",
    "IFrame('./Sick_Travelers.pdf', width=800, height=1000)"
   ]
  },
  {
   "cell_type": "markdown",
   "metadata": {},
   "source": [
    "### This notebook details how the data were gathered and transformed:  \n",
    "https://nbviewer.jupyter.org/github/ebhtra/springboard/blob/master/capstone_2/Capstone_2_Data.ipynb   \n",
    "\n",
    "### This notebook shows how the transformed data were analyzed :  \n",
    "https://nbviewer.jupyter.org/github/ebhtra/springboard/blob/master/capstone_2/EDA_cap2.ipynb"
   ]
  },
  {
   "cell_type": "markdown",
   "metadata": {},
   "source": [
    "# <center>Building and Using an Interactive Map of the Data</center>  \n",
    "\n",
    "In order to visualize the global spread of the coronavirus over the first two months, I chose to use Kepler.gl, which is an open source web app for geospatial visualizations.  Although it's usually used by the likes of Uber engineers to visualize movement within cities and over minutes or hours, it nevertheless offers an opportunity to see how the virus was moving around between communities, provinces, countries, and continents.  \n",
    "\n",
    "I'll start by embedding the map in the following cell, just so the reader can follow a couple of pointers on how to best view it in an external window.  It's much easier to interact with in the full screen of a separate window, so I'll link to that after the instructions.\n"
   ]
  },
  {
   "cell_type": "code",
   "execution_count": 7,
   "metadata": {},
   "outputs": [
    {
     "data": {
      "text/html": [
       "\n",
       "        <iframe\n",
       "            width=\"1000\"\n",
       "            height=\"600\"\n",
       "            src=\"https://kepler.gl/demo/map?mapUrl=https://dl.dropboxusercontent.com/s/wocutk2htqf5giv/keplergl_3wd2w99q.json\"\n",
       "            frameborder=\"0\"\n",
       "            allowfullscreen\n",
       "        ></iframe>\n",
       "        "
      ],
      "text/plain": [
       "<IPython.lib.display.IFrame at 0x10c48ddd0>"
      ]
     },
     "execution_count": 7,
     "metadata": {},
     "output_type": "execute_result"
    }
   ],
   "source": [
    "source = 'https://kepler.gl/demo/map?mapUrl=https://dl.dropboxusercontent.com/s/wocutk2htqf5giv/keplergl_3wd2w99q.json'\n",
    "IFrame(source, width=1000, height=600)"
   ]
  },
  {
   "cell_type": "code",
   "execution_count": 9,
   "metadata": {},
   "outputs": [
    {
     "data": {
      "text/html": [
       "\n",
       "        <iframe\n",
       "            width=\"800\"\n",
       "            height=\"300\"\n",
       "            src=\"../capstone_2/cap2_images/Kepler_screen_1.png\"\n",
       "            frameborder=\"0\"\n",
       "            allowfullscreen\n",
       "        ></iframe>\n",
       "        "
      ],
      "text/plain": [
       "<IPython.lib.display.IFrame at 0x10c1f42d0>"
      ]
     },
     "execution_count": 9,
     "metadata": {},
     "output_type": "execute_result"
    }
   ],
   "source": [
    "IFrame('../capstone_2/cap2_images/Kepler_screen_1.png', width=800, height=300)"
   ]
  },
  {
   "cell_type": "code",
   "execution_count": 11,
   "metadata": {},
   "outputs": [
    {
     "data": {
      "text/html": [
       "\n",
       "        <iframe\n",
       "            width=\"1000\"\n",
       "            height=\"500\"\n",
       "            src=\"../capstone_2/cap2_images/Kepler_screen_2.png\"\n",
       "            frameborder=\"0\"\n",
       "            allowfullscreen\n",
       "        ></iframe>\n",
       "        "
      ],
      "text/plain": [
       "<IPython.lib.display.IFrame at 0x10c1f8f10>"
      ]
     },
     "execution_count": 11,
     "metadata": {},
     "output_type": "execute_result"
    }
   ],
   "source": [
    "IFrame('../capstone_2/cap2_images/Kepler_screen_2.png', width=1000, height=500)"
   ]
  },
  {
   "cell_type": "markdown",
   "metadata": {},
   "source": [
    "<b>The default setting for animation speed is 1.0, towards the left on the slider.  Click the slider square and drag it even further left, to 0.1 or 0.2, to view the animation best.</b>"
   ]
  },
  {
   "cell_type": "code",
   "execution_count": 13,
   "metadata": {},
   "outputs": [
    {
     "data": {
      "text/html": [
       "\n",
       "        <iframe\n",
       "            width=\"1000\"\n",
       "            height=\"500\"\n",
       "            src=\"../capstone_2/cap2_images/Kepler_screen_3.png\"\n",
       "            frameborder=\"0\"\n",
       "            allowfullscreen\n",
       "        ></iframe>\n",
       "        "
      ],
      "text/plain": [
       "<IPython.lib.display.IFrame at 0x10c4a7310>"
      ]
     },
     "execution_count": 13,
     "metadata": {},
     "output_type": "execute_result"
    }
   ],
   "source": [
    "IFrame('../capstone_2/cap2_images/Kepler_screen_3.png', width=1000, height=500)"
   ]
  },
  {
   "cell_type": "code",
   "execution_count": 14,
   "metadata": {},
   "outputs": [
    {
     "data": {
      "text/html": [
       "\n",
       "        <iframe\n",
       "            width=\"1000\"\n",
       "            height=\"500\"\n",
       "            src=\"../capstone_2/cap2_images/Kepler_screen_4.png\"\n",
       "            frameborder=\"0\"\n",
       "            allowfullscreen\n",
       "        ></iframe>\n",
       "        "
      ],
      "text/plain": [
       "<IPython.lib.display.IFrame at 0x10c4a7890>"
      ]
     },
     "execution_count": 14,
     "metadata": {},
     "output_type": "execute_result"
    }
   ],
   "source": [
    "IFrame('../capstone_2/cap2_images/Kepler_screen_4.png', width=1000, height=500)"
   ]
  },
  {
   "cell_type": "markdown",
   "metadata": {},
   "source": [
    "<b>The white end of each travel line is the starting point, and the red is the endpoint.</b>  \n",
    "\n",
    "<b>Scroll down with two fingers to zoom in, or up to zoom out.</b>  \n",
    "\n",
    "<b>Click and drag the map to re-center it.  It's best viewed with China near the center for the first half of the time window and Italy near the center for the second half.  If you see really long horizontal lines crossing the map, it will help to re-center, so that a flight from Tokyo to Hawaii, for example, doesn't show as flying westward.</b>  \n",
    "\n",
    "The map shows a chronological series of movements made by infected travelers who would later test positive for COVID-19.  It doesn't necessarily represent \"how the coronavirus moved from Country A to Country B\", although in many instances, it does actually show that.  Neither does it attempt to point fingers at specific travelers who are in some way guilty of infecting thousands of others.  All it's designed to do is show how a highly contagious disease moves around our highly interconnected planet in a short time.\n"
   ]
  },
  {
   "cell_type": "markdown",
   "metadata": {},
   "source": [
    "This link opens the map in its own browser window:  \n",
    "\n",
    "https://kepler.gl/demo/map?mapUrl=https://dl.dropboxusercontent.com/s/wocutk2htqf5giv/keplergl_3wd2w99q.json  \n",
    "\n",
    "\n",
    "\n"
   ]
  },
  {
   "cell_type": "code",
   "execution_count": 15,
   "metadata": {},
   "outputs": [
    {
     "data": {
      "text/html": [
       "\n",
       "        <iframe\n",
       "            width=\"800\"\n",
       "            height=\"1000\"\n",
       "            src=\"./Sick_Traveler_Map.pdf\"\n",
       "            frameborder=\"0\"\n",
       "            allowfullscreen\n",
       "        ></iframe>\n",
       "        "
      ],
      "text/plain": [
       "<IPython.lib.display.IFrame at 0x10d89d690>"
      ]
     },
     "execution_count": 15,
     "metadata": {},
     "output_type": "execute_result"
    }
   ],
   "source": [
    "IFrame('./Sick_Traveler_Map.pdf', width=800, height=1000)"
   ]
  },
  {
   "cell_type": "markdown",
   "metadata": {},
   "source": [
    "### And finally, the code for converting the data into a format which can be used by Kepler.gl to build a map:  \n",
    "https://github.com/ebhtra/springboard/blob/master/capstone_2/Map_Sick_Travelers.ipynb"
   ]
  },
  {
   "cell_type": "code",
   "execution_count": null,
   "metadata": {},
   "outputs": [],
   "source": []
  }
 ],
 "metadata": {
  "kernelspec": {
   "display_name": "Python 3",
   "language": "python",
   "name": "python3"
  },
  "language_info": {
   "codemirror_mode": {
    "name": "ipython",
    "version": 3
   },
   "file_extension": ".py",
   "mimetype": "text/x-python",
   "name": "python",
   "nbconvert_exporter": "python",
   "pygments_lexer": "ipython3",
   "version": "3.7.4"
  }
 },
 "nbformat": 4,
 "nbformat_minor": 2
}
