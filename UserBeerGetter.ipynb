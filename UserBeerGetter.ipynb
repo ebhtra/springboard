{
 "cells": [
  {
   "cell_type": "markdown",
   "metadata": {},
   "source": [
    "# This getter accumulates responses from calls to untappd's User Beer endpoint.\n",
    "### The goal of these calls is to try to get as many global IPA ratings, and possibly some extra beer descriptions, in as short a time possible, for feature analysis (User Checkins only provided user ratings)."
   ]
  },
  {
   "cell_type": "code",
   "execution_count": 1,
   "metadata": {
    "collapsed": true
   },
   "outputs": [],
   "source": [
    "import pandas as pd\n",
    "import pickle\n",
    "import requests\n",
    "import time\n",
    "\n",
    "from api_keys import untappd_URL, untappd_ID, untappd_SECRET   # private, local constants\n"
   ]
  },
  {
   "cell_type": "code",
   "execution_count": 2,
   "metadata": {
    "collapsed": true
   },
   "outputs": [],
   "source": [
    "# make a call to untappd's API to get User Beer data for a specific User ID\n",
    "# This method is used in the main data getter, below (userBeerBatch())\n",
    "def searchUserBeers(userBeer_params, uid):\n",
    "    # build the query string\n",
    "    method_endpoint = '/user/beers/' + str(uid)\n",
    "    query = untappd_URL + method_endpoint\n",
    "    response = requests.get(query, userBeer_params)\n",
    "    # parse the response\n",
    "    if response:  # response==True for codes 200-400\n",
    "        remaining_calls = response.headers['X-Ratelimit-Remaining']\n",
    "        return remaining_calls, response\n",
    "    else: \n",
    "        print(f\"That GET request for user {uid} with params={userBeer_params.items()} \\\n",
    "failed, with code: {response.status_code}\")\n",
    "        print(response.json())\n",
    "        return 0,0"
   ]
  },
  {
   "cell_type": "code",
   "execution_count": 3,
   "metadata": {
    "collapsed": false
   },
   "outputs": [],
   "source": [
    "def userBeerBatch(uid, builderDict, start_offset=0, numCalls=5):\n",
    "    '''\n",
    "    This method makes @numCalls queries to untappd's User Feed,\n",
    "    for username @uid, starting at @start_offset and updating User's\n",
    "    offset each call, to let untappd know\n",
    "    where to start future calls.\n",
    "    \n",
    "    The results and updated offsets are added to the \n",
    "    @builderDict passed into this method.\n",
    "    '''\n",
    "    # the max 'limit' accepted by untappd is 50\n",
    "    params = {'limit':50, 'offset':start_offset, \n",
    "              'client_id':untappd_ID, 'client_secret':untappd_SECRET}\n",
    "       \n",
    "    for i in range(numCalls):\n",
    "        calls_left, response = searchUserBeers(params, uid)\n",
    "        if not response:\n",
    "            print('NO RESPONSE')\n",
    "            return\n",
    "        resp = response.json()\n",
    "        builderDict[uid].append(resp)\n",
    "        try:\n",
    "            params['offset'] += resp['response']['beers']['count']\n",
    "        except KeyError as kerr:\n",
    "            print(f'No {kerr} was included in the response.')\n",
    "            print(f'There are {calls_left} calls left.')\n",
    "            print(f'The last offset passed in was {params[\"offset\"]}.')\n",
    "            print(f'The userID was {uid}')\n",
    "            break\n",
    "            \n",
    "        if resp['response']['beers']['count'] < params['limit']:  # ran out of items, so break\n",
    "            print(f\"Last call response had a count of {resp['response']['beers']['count']}\")\n",
    "            break\n",
    "\n",
    "    print(f'Completed {i+1} calls. Hourly calls remaining: {calls_left}') \n",
    "    \n"
   ]
  },
  {
   "cell_type": "code",
   "execution_count": 37,
   "metadata": {
    "collapsed": true
   },
   "outputs": [],
   "source": [
    "# generate each user from usernames in checkin df_0, which had the most IPA drinkers\n",
    "userbeer_gen = (uid for uid in pd.read_csv('capstone_1/checkins/df_0')['user.user_name'].unique())"
   ]
  },
  {
   "cell_type": "code",
   "execution_count": 4,
   "metadata": {
    "collapsed": true
   },
   "outputs": [],
   "source": [
    "# generate each user from usernames in checkin df_2, which had the second most IPA drinkers\n",
    "userbeer_gen = (uid for uid in pd.read_csv('capstone_1/checkins/df_2')['user.user_name'].unique())"
   ]
  },
  {
   "cell_type": "code",
   "execution_count": 5,
   "metadata": {
    "collapsed": false
   },
   "outputs": [
    {
     "data": {
      "text/plain": [
       "756"
      ]
     },
     "execution_count": 5,
     "metadata": {},
     "output_type": "execute_result"
    }
   ],
   "source": [
    "# count how many will be generated, while preserving the order to regenerate\n",
    "curr_dic = {uid:[] for uid in userbeer_gen}\n",
    "len(curr_dic)"
   ]
  },
  {
   "cell_type": "code",
   "execution_count": 6,
   "metadata": {
    "collapsed": true
   },
   "outputs": [],
   "source": [
    "# regenerate\n",
    "userbeer_gen = (uid for uid in curr_dic)"
   ]
  },
  {
   "cell_type": "code",
   "execution_count": null,
   "metadata": {
    "collapsed": true
   },
   "outputs": [],
   "source": []
  },
  {
   "cell_type": "code",
   "execution_count": 9,
   "metadata": {
    "collapsed": false
   },
   "outputs": [
    {
     "name": "stdout",
     "output_type": "stream",
     "text": [
      "Completed 10 calls. Hourly calls remaining: 81\n",
      "Batch 0 finished at 22:25\n",
      "Completed 10 calls. Hourly calls remaining: 81\n",
      "Batch 1 finished at 22:31\n",
      "Completed 10 calls. Hourly calls remaining: 71\n",
      "Batch 2 finished at 22:37\n",
      "Completed 10 calls. Hourly calls remaining: 61\n",
      "Batch 3 finished at 22:43\n",
      "Completed 10 calls. Hourly calls remaining: 51\n",
      "Batch 4 finished at 22:49\n",
      "Completed 10 calls. Hourly calls remaining: 41\n",
      "Batch 5 finished at 22:55\n",
      "Completed 10 calls. Hourly calls remaining: 31\n",
      "Batch 6 finished at 23:01\n",
      "Last call response had a count of 11\n",
      "Completed 6 calls. Hourly calls remaining: 25\n",
      "Batch 7 finished at 23:07\n",
      "Completed 10 calls. Hourly calls remaining: 15\n",
      "Batch 8 finished at 23:14\n",
      "Completed 10 calls. Hourly calls remaining: 5\n",
      "Batch 9 finished at 23:20\n",
      "Completed 10 calls. Hourly calls remaining: 5\n",
      "Batch 10 finished at 23:26\n",
      "Completed 10 calls. Hourly calls remaining: 5\n",
      "Batch 11 finished at 23:32\n",
      "Completed 10 calls. Hourly calls remaining: 5\n",
      "Batch 12 finished at 23:38\n",
      "Completed 10 calls. Hourly calls remaining: 5\n",
      "Batch 13 finished at 23:44\n",
      "Completed 10 calls. Hourly calls remaining: 5\n",
      "Batch 14 finished at 23:50\n",
      "Completed 10 calls. Hourly calls remaining: 5\n",
      "Batch 15 finished at 23:56\n",
      "Completed 10 calls. Hourly calls remaining: 5\n",
      "Batch 16 finished at 00:03\n",
      "Last call response had a count of 42\n",
      "Completed 10 calls. Hourly calls remaining: 1\n",
      "Batch 17 finished at 00:09\n",
      "Completed 10 calls. Hourly calls remaining: 1\n",
      "Batch 18 finished at 00:15\n",
      "Completed 10 calls. Hourly calls remaining: 1\n",
      "Batch 19 finished at 00:21\n",
      "Completed 10 calls. Hourly calls remaining: 1\n",
      "Batch 20 finished at 00:27\n",
      "Completed 10 calls. Hourly calls remaining: 1\n",
      "Batch 21 finished at 00:33\n",
      "Completed 10 calls. Hourly calls remaining: 1\n",
      "Batch 22 finished at 00:39\n",
      "Last call response had a count of 46\n",
      "Completed 5 calls. Hourly calls remaining: 6\n",
      "Batch 23 finished at 00:45\n",
      "Completed 10 calls. Hourly calls remaining: 6\n",
      "Batch 24 finished at 00:51\n",
      "Completed 10 calls. Hourly calls remaining: 6\n",
      "Batch 25 finished at 00:58\n",
      "Completed 10 calls. Hourly calls remaining: 6\n",
      "Batch 26 finished at 01:04\n",
      "Completed 10 calls. Hourly calls remaining: 6\n",
      "Batch 27 finished at 01:10\n",
      "Completed 10 calls. Hourly calls remaining: 6\n",
      "Batch 28 finished at 01:16\n",
      "Completed 10 calls. Hourly calls remaining: 6\n",
      "Batch 29 finished at 01:22\n",
      "Completed 10 calls. Hourly calls remaining: 6\n",
      "Batch 30 finished at 01:28\n",
      "Completed 10 calls. Hourly calls remaining: 6\n",
      "Batch 31 finished at 01:34\n",
      "Last call response had a count of 5\n",
      "Completed 6 calls. Hourly calls remaining: 10\n",
      "Batch 32 finished at 01:40\n",
      "Completed 10 calls. Hourly calls remaining: 5\n",
      "Batch 33 finished at 01:46\n",
      "Completed 10 calls. Hourly calls remaining: 5\n",
      "Batch 34 finished at 01:53\n",
      "Completed 10 calls. Hourly calls remaining: 5\n",
      "Batch 35 finished at 01:59\n",
      "Completed 10 calls. Hourly calls remaining: 5\n",
      "Batch 36 finished at 02:05\n",
      "Completed 10 calls. Hourly calls remaining: 5\n",
      "Batch 37 finished at 02:11\n",
      "Completed 10 calls. Hourly calls remaining: 5\n",
      "Batch 38 finished at 02:17\n",
      "Completed 10 calls. Hourly calls remaining: 5\n",
      "Batch 39 finished at 02:23\n",
      "Completed 10 calls. Hourly calls remaining: 5\n",
      "Batch 40 finished at 02:29\n",
      "Completed 10 calls. Hourly calls remaining: 5\n",
      "Batch 41 finished at 02:35\n",
      "Completed 10 calls. Hourly calls remaining: 1\n",
      "Batch 42 finished at 02:41\n",
      "Completed 10 calls. Hourly calls remaining: 1\n",
      "Batch 43 finished at 02:48\n",
      "Completed 10 calls. Hourly calls remaining: 1\n",
      "Batch 44 finished at 02:54\n",
      "Completed 10 calls. Hourly calls remaining: 1\n",
      "Batch 45 finished at 03:00\n",
      "Completed 10 calls. Hourly calls remaining: 1\n",
      "Batch 46 finished at 03:06\n",
      "Completed 10 calls. Hourly calls remaining: 1\n",
      "Batch 47 finished at 03:12\n",
      "Completed 10 calls. Hourly calls remaining: 1\n",
      "Batch 48 finished at 03:18\n",
      "Completed 10 calls. Hourly calls remaining: 1\n",
      "Batch 49 finished at 03:24\n",
      "Completed 10 calls. Hourly calls remaining: 1\n",
      "Batch 50 finished at 03:30\n",
      "Completed 10 calls. Hourly calls remaining: 1\n",
      "Batch 51 finished at 03:37\n",
      "Completed 10 calls. Hourly calls remaining: 1\n",
      "Batch 52 finished at 03:43\n",
      "Completed 10 calls. Hourly calls remaining: 1\n",
      "Batch 53 finished at 03:49\n",
      "Completed 10 calls. Hourly calls remaining: 1\n",
      "Batch 54 finished at 03:55\n",
      "Completed 10 calls. Hourly calls remaining: 1\n",
      "Batch 55 finished at 04:01\n",
      "Completed 10 calls. Hourly calls remaining: 1\n",
      "Batch 56 finished at 04:07\n",
      "Completed 10 calls. Hourly calls remaining: 1\n",
      "Batch 57 finished at 04:13\n",
      "Completed 10 calls. Hourly calls remaining: 1\n",
      "Batch 58 finished at 04:19\n",
      "Completed 10 calls. Hourly calls remaining: 1\n",
      "Batch 59 finished at 04:25\n",
      "Completed 10 calls. Hourly calls remaining: 1\n",
      "Batch 60 finished at 04:32\n",
      "Completed 10 calls. Hourly calls remaining: 1\n",
      "Batch 61 finished at 04:38\n",
      "Completed 10 calls. Hourly calls remaining: 1\n",
      "Batch 62 finished at 04:44\n",
      "Completed 10 calls. Hourly calls remaining: 1\n",
      "Batch 63 finished at 04:50\n",
      "Last call response had a count of 49\n",
      "Completed 3 calls. Hourly calls remaining: 8\n",
      "Batch 64 finished at 04:56\n",
      "Last call response had a count of 0\n",
      "Completed 7 calls. Hourly calls remaining: 11\n",
      "Batch 65 finished at 05:02\n",
      "Completed 10 calls. Hourly calls remaining: 11\n",
      "Batch 66 finished at 05:08\n",
      "Completed 10 calls. Hourly calls remaining: 11\n",
      "Batch 67 finished at 05:14\n",
      "Completed 10 calls. Hourly calls remaining: 11\n",
      "Batch 68 finished at 05:21\n",
      "Completed 10 calls. Hourly calls remaining: 11\n",
      "Batch 69 finished at 05:27\n",
      "Completed 10 calls. Hourly calls remaining: 11\n",
      "Batch 70 finished at 05:33\n",
      "Last call response had a count of 17\n",
      "Completed 8 calls. Hourly calls remaining: 13\n",
      "Batch 71 finished at 05:39\n",
      "Completed 10 calls. Hourly calls remaining: 13\n",
      "Batch 72 finished at 05:45\n",
      "Completed 10 calls. Hourly calls remaining: 13\n",
      "Batch 73 finished at 05:51\n",
      "Completed 10 calls. Hourly calls remaining: 6\n",
      "Batch 74 finished at 05:57\n",
      "Last call response had a count of 33\n",
      "Completed 5 calls. Hourly calls remaining: 8\n",
      "Batch 75 finished at 06:03\n",
      "Completed 10 calls. Hourly calls remaining: 8\n",
      "Batch 76 finished at 06:09\n",
      "Completed 10 calls. Hourly calls remaining: 8\n",
      "Batch 77 finished at 06:16\n",
      "Completed 10 calls. Hourly calls remaining: 8\n",
      "Batch 78 finished at 06:22\n",
      "Last call response had a count of 8\n",
      "Completed 5 calls. Hourly calls remaining: 13\n",
      "Batch 79 finished at 06:28\n"
     ]
    }
   ],
   "source": [
    "#  ======= Can get about 500 beers/user * 10 users/hour so 100K beers/day with some overlap ============\n",
    "\n",
    "#time.sleep(600)  # in case the call rate is too fast for the API, use this when restarting process\n",
    "for batch in range(80):  # The argument here divided by about 10 is how many hours this cell will take\n",
    "    uID = next(userbeer_gen)\n",
    "    userBeerBatch(uID, curr_dic, numCalls=10)\n",
    "    print(f'Batch {batch} finished at {time.asctime()[11:16]}')\n",
    "    time.sleep(360)  # 10 calls per 360 secs = 100 calls per hour, the API limit"
   ]
  },
  {
   "cell_type": "markdown",
   "metadata": {},
   "source": [
    "### Time to inspect the results"
   ]
  },
  {
   "cell_type": "code",
   "execution_count": 10,
   "metadata": {
    "collapsed": false
   },
   "outputs": [
    {
     "data": {
      "text/plain": [
       "160"
      ]
     },
     "execution_count": 10,
     "metadata": {},
     "output_type": "execute_result"
    }
   ],
   "source": [
    "data = [curr_dic[user] for user in curr_dic if curr_dic[user]]\n",
    "len(data)   # 836 for all of batch_0"
   ]
  },
  {
   "cell_type": "code",
   "execution_count": 48,
   "metadata": {
    "collapsed": false
   },
   "outputs": [
    {
     "data": {
      "text/plain": [
       "Index(['beer.beer_abv', 'beer.beer_description', 'beer.beer_ibu',\n",
       "       'beer.beer_label', 'beer.beer_name', 'beer.beer_slug',\n",
       "       'beer.beer_style', 'beer.bid', 'beer.created_at', 'beer.has_had',\n",
       "       'beer.rating_count', 'beer.rating_score', 'brewery.brewery_active',\n",
       "       'brewery.brewery_id', 'brewery.brewery_label', 'brewery.brewery_name',\n",
       "       'brewery.brewery_page_url', 'brewery.brewery_slug',\n",
       "       'brewery.brewery_type', 'brewery.contact.facebook',\n",
       "       'brewery.contact.instagram', 'brewery.contact.twitter',\n",
       "       'brewery.contact.url', 'brewery.country_name',\n",
       "       'brewery.location.brewery_city', 'brewery.location.brewery_state',\n",
       "       'brewery.location.lat', 'brewery.location.lng', 'count',\n",
       "       'first_checkin_id', 'first_created_at', 'first_had', 'rating_score',\n",
       "       'recent_checkin_id', 'recent_created_at', 'recent_created_at_timezone',\n",
       "       'user_auth_rating_score'],\n",
       "      dtype='object')"
      ]
     },
     "execution_count": 48,
     "metadata": {},
     "output_type": "execute_result"
    }
   ],
   "source": [
    "norm = pd.io.json.json_normalize(data[0][0]['response']['beers']['items'])\n",
    "norm.columns"
   ]
  },
  {
   "cell_type": "code",
   "execution_count": 159,
   "metadata": {
    "collapsed": false
   },
   "outputs": [],
   "source": [
    "# There's no userID in there, so need to insert it in the pre-concat data dicts,\n",
    "##  while the UID is still attached (as the dict key)\n",
    "#####  TODO , maybe. Or not.  #######\n"
   ]
  },
  {
   "cell_type": "code",
   "execution_count": 11,
   "metadata": {
    "collapsed": false
   },
   "outputs": [],
   "source": [
    "check = pd.concat([pd.io.json.json_normalize(dic['response']['beers']['items']) \n",
    "                  for user in data for dic in user], axis=0, ignore_index=True)"
   ]
  },
  {
   "cell_type": "code",
   "execution_count": 12,
   "metadata": {
    "collapsed": false
   },
   "outputs": [
    {
     "data": {
      "text/plain": [
       "(75866, 37)"
      ]
     },
     "execution_count": 12,
     "metadata": {},
     "output_type": "execute_result"
    }
   ],
   "source": [
    "check.shape"
   ]
  },
  {
   "cell_type": "markdown",
   "metadata": {},
   "source": [
    "### My main question is how many global ratings (a beer's avg. rating for all users) you get per hour.\n",
    "#### This should be highest in the first hour, since there are only 9 users overlapping their beers thus far.\n",
    "Will monitor how this rate changes as several hours go by."
   ]
  },
  {
   "cell_type": "code",
   "execution_count": 169,
   "metadata": {
    "collapsed": false
   },
   "outputs": [
    {
     "data": {
      "text/plain": [
       "83336"
      ]
     },
     "execution_count": 169,
     "metadata": {},
     "output_type": "execute_result"
    }
   ],
   "source": [
    "len(check['beer.rating_score'].unique()) # 3600 1hr, 9260 3hrs, 17595 6hrs, 35047 18hrs"
   ]
  },
  {
   "cell_type": "markdown",
   "metadata": {},
   "source": [
    "Rate of unique ratings slows down more between 12-18 hrs, so probably only worth doing for about 2 days"
   ]
  },
  {
   "cell_type": "code",
   "execution_count": 170,
   "metadata": {
    "collapsed": false
   },
   "outputs": [
    {
     "data": {
      "text/plain": [
       "155148"
      ]
     },
     "execution_count": 170,
     "metadata": {},
     "output_type": "execute_result"
    }
   ],
   "source": [
    "len(check['beer.bid'].unique()) # 3735 1hr, 10045 3hrs, 20725 6hrs 49236 18 hrs"
   ]
  },
  {
   "cell_type": "markdown",
   "metadata": {},
   "source": [
    "Rate of unique beers slows down less than of unique ratings, so the beers keep flowing but fewer ratings"
   ]
  },
  {
   "cell_type": "markdown",
   "metadata": {},
   "source": [
    "### Save"
   ]
  },
  {
   "cell_type": "code",
   "execution_count": 13,
   "metadata": {
    "collapsed": true
   },
   "outputs": [],
   "source": [
    "check.to_csv('capstone_1/userbeers2.csv')  # 68 MB for 80K rows"
   ]
  },
  {
   "cell_type": "code",
   "execution_count": 172,
   "metadata": {
    "collapsed": true
   },
   "outputs": [],
   "source": [
    "with open('capstone_1/UBdicts2.pkl', 'wb') as f:    # 103 MB for 80K rows\n",
    "    pickle.dump(curr_dic, f)"
   ]
  },
  {
   "cell_type": "code",
   "execution_count": 173,
   "metadata": {
    "collapsed": false
   },
   "outputs": [
    {
     "data": {
      "text/plain": [
       "(378504, 37)"
      ]
     },
     "execution_count": 173,
     "metadata": {},
     "output_type": "execute_result"
    }
   ],
   "source": [
    "check.shape"
   ]
  },
  {
   "cell_type": "code",
   "execution_count": 101,
   "metadata": {
    "collapsed": false
   },
   "outputs": [
    {
     "data": {
      "text/html": [
       "<div>\n",
       "<style>\n",
       "    .dataframe thead tr:only-child th {\n",
       "        text-align: right;\n",
       "    }\n",
       "\n",
       "    .dataframe thead th {\n",
       "        text-align: left;\n",
       "    }\n",
       "\n",
       "    .dataframe tbody tr th {\n",
       "        vertical-align: top;\n",
       "    }\n",
       "</style>\n",
       "<table border=\"1\" class=\"dataframe\">\n",
       "  <thead>\n",
       "    <tr style=\"text-align: right;\">\n",
       "      <th></th>\n",
       "      <th>beer.beer_abv</th>\n",
       "      <th>beer.beer_description</th>\n",
       "      <th>beer.beer_ibu</th>\n",
       "      <th>beer.beer_label</th>\n",
       "      <th>beer.beer_name</th>\n",
       "      <th>beer.beer_slug</th>\n",
       "      <th>beer.beer_style</th>\n",
       "      <th>beer.bid</th>\n",
       "      <th>beer.created_at</th>\n",
       "      <th>beer.has_had</th>\n",
       "      <th>...</th>\n",
       "      <th>brewery.location.lng</th>\n",
       "      <th>count</th>\n",
       "      <th>first_checkin_id</th>\n",
       "      <th>first_created_at</th>\n",
       "      <th>first_had</th>\n",
       "      <th>rating_score</th>\n",
       "      <th>recent_checkin_id</th>\n",
       "      <th>recent_created_at</th>\n",
       "      <th>recent_created_at_timezone</th>\n",
       "      <th>user_auth_rating_score</th>\n",
       "    </tr>\n",
       "  </thead>\n",
       "  <tbody>\n",
       "    <tr>\n",
       "      <th>0</th>\n",
       "      <td>4.8</td>\n",
       "      <td>Session ale with a subtle malt bill and fresh ...</td>\n",
       "      <td>25</td>\n",
       "      <td>https://untappd.akamaized.net/site/beer_logos/...</td>\n",
       "      <td>My Own Private Idaho</td>\n",
       "      <td>buoy-beer-company-my-own-private-idaho</td>\n",
       "      <td>IPA - Session / India Session Ale</td>\n",
       "      <td>3467088</td>\n",
       "      <td>Sat, 05 Oct 2019 17:18:24 +0000</td>\n",
       "      <td>False</td>\n",
       "      <td>...</td>\n",
       "      <td>-123.835</td>\n",
       "      <td>1</td>\n",
       "      <td>828069072</td>\n",
       "      <td>Sat, 09 Nov 2019 21:41:08 -0800</td>\n",
       "      <td>Sat, 09 Nov 2019 21:41:08 -0800</td>\n",
       "      <td>3.75</td>\n",
       "      <td>828069072</td>\n",
       "      <td>Sat, 09 Nov 2019 21:41:08 -0800</td>\n",
       "      <td>-8</td>\n",
       "      <td>0</td>\n",
       "    </tr>\n",
       "    <tr>\n",
       "      <th>1</th>\n",
       "      <td>6.5</td>\n",
       "      <td>West coast IPA with light malt character, brig...</td>\n",
       "      <td>65</td>\n",
       "      <td>https://untappd.akamaized.net/site/beer_logos/...</td>\n",
       "      <td>Handup IPA</td>\n",
       "      <td>deschutes-brewery-handup-ipa</td>\n",
       "      <td>IPA - American</td>\n",
       "      <td>3311276</td>\n",
       "      <td>Tue, 02 Jul 2019 19:02:29 +0000</td>\n",
       "      <td>False</td>\n",
       "      <td>...</td>\n",
       "      <td>-121.322</td>\n",
       "      <td>1</td>\n",
       "      <td>827954397</td>\n",
       "      <td>Sat, 09 Nov 2019 17:37:27 -0800</td>\n",
       "      <td>Sat, 09 Nov 2019 17:37:27 -0800</td>\n",
       "      <td>3.75</td>\n",
       "      <td>827954397</td>\n",
       "      <td>Sat, 09 Nov 2019 17:37:27 -0800</td>\n",
       "      <td>-8</td>\n",
       "      <td>0</td>\n",
       "    </tr>\n",
       "    <tr>\n",
       "      <th>2</th>\n",
       "      <td>6.7</td>\n",
       "      <td></td>\n",
       "      <td>55</td>\n",
       "      <td>https://untappd.akamaized.net/site/beer_logos/...</td>\n",
       "      <td>Mad Respect</td>\n",
       "      <td>backwoods-brewing-company-mad-respect</td>\n",
       "      <td>IPA - American</td>\n",
       "      <td>1445432</td>\n",
       "      <td>Sat, 27 Feb 2016 21:41:53 +0000</td>\n",
       "      <td>False</td>\n",
       "      <td>...</td>\n",
       "      <td>-121.820</td>\n",
       "      <td>1</td>\n",
       "      <td>827883521</td>\n",
       "      <td>Sat, 09 Nov 2019 16:15:55 -0800</td>\n",
       "      <td>Sat, 09 Nov 2019 16:15:55 -0800</td>\n",
       "      <td>4.00</td>\n",
       "      <td>827883521</td>\n",
       "      <td>Sat, 09 Nov 2019 16:15:55 -0800</td>\n",
       "      <td>-8</td>\n",
       "      <td>0</td>\n",
       "    </tr>\n",
       "    <tr>\n",
       "      <th>3</th>\n",
       "      <td>7.2</td>\n",
       "      <td>Return to Space was inspired by two of our fav...</td>\n",
       "      <td>0</td>\n",
       "      <td>https://untappd.akamaized.net/site/beer_logos/...</td>\n",
       "      <td>Return to Space</td>\n",
       "      <td>great-notion-brewing-return-to-space</td>\n",
       "      <td>IPA - New England</td>\n",
       "      <td>2655469</td>\n",
       "      <td>Fri, 18 May 2018 21:54:30 +0000</td>\n",
       "      <td>False</td>\n",
       "      <td>...</td>\n",
       "      <td>-122.643</td>\n",
       "      <td>1</td>\n",
       "      <td>827668186</td>\n",
       "      <td>Sat, 09 Nov 2019 12:58:42 -0800</td>\n",
       "      <td>Sat, 09 Nov 2019 12:58:42 -0800</td>\n",
       "      <td>4.25</td>\n",
       "      <td>827668186</td>\n",
       "      <td>Sat, 09 Nov 2019 12:58:42 -0800</td>\n",
       "      <td>-8</td>\n",
       "      <td>0</td>\n",
       "    </tr>\n",
       "    <tr>\n",
       "      <th>4</th>\n",
       "      <td>7.8</td>\n",
       "      <td>This west coast style IPA utilizes 5 pounds of...</td>\n",
       "      <td>0</td>\n",
       "      <td>https://untappd.akamaized.net/site/assets/imag...</td>\n",
       "      <td>Denim Vest-pionage West Coast IPA</td>\n",
       "      <td>baerlic-brewing-company-denim-vest-pionage-wes...</td>\n",
       "      <td>IPA - American</td>\n",
       "      <td>3257257</td>\n",
       "      <td>Fri, 31 May 2019 21:14:02 +0000</td>\n",
       "      <td>False</td>\n",
       "      <td>...</td>\n",
       "      <td>-122.655</td>\n",
       "      <td>1</td>\n",
       "      <td>827585996</td>\n",
       "      <td>Sat, 09 Nov 2019 11:51:17 -0800</td>\n",
       "      <td>Sat, 09 Nov 2019 11:51:17 -0800</td>\n",
       "      <td>4.00</td>\n",
       "      <td>827585996</td>\n",
       "      <td>Sat, 09 Nov 2019 11:51:17 -0800</td>\n",
       "      <td>-8</td>\n",
       "      <td>0</td>\n",
       "    </tr>\n",
       "  </tbody>\n",
       "</table>\n",
       "<p>5 rows × 37 columns</p>\n",
       "</div>"
      ],
      "text/plain": [
       "   beer.beer_abv                              beer.beer_description  \\\n",
       "0            4.8  Session ale with a subtle malt bill and fresh ...   \n",
       "1            6.5  West coast IPA with light malt character, brig...   \n",
       "2            6.7                                                      \n",
       "3            7.2  Return to Space was inspired by two of our fav...   \n",
       "4            7.8  This west coast style IPA utilizes 5 pounds of...   \n",
       "\n",
       "   beer.beer_ibu                                    beer.beer_label  \\\n",
       "0             25  https://untappd.akamaized.net/site/beer_logos/...   \n",
       "1             65  https://untappd.akamaized.net/site/beer_logos/...   \n",
       "2             55  https://untappd.akamaized.net/site/beer_logos/...   \n",
       "3              0  https://untappd.akamaized.net/site/beer_logos/...   \n",
       "4              0  https://untappd.akamaized.net/site/assets/imag...   \n",
       "\n",
       "                      beer.beer_name  \\\n",
       "0               My Own Private Idaho   \n",
       "1                         Handup IPA   \n",
       "2                        Mad Respect   \n",
       "3                    Return to Space   \n",
       "4  Denim Vest-pionage West Coast IPA   \n",
       "\n",
       "                                      beer.beer_slug  \\\n",
       "0             buoy-beer-company-my-own-private-idaho   \n",
       "1                       deschutes-brewery-handup-ipa   \n",
       "2              backwoods-brewing-company-mad-respect   \n",
       "3               great-notion-brewing-return-to-space   \n",
       "4  baerlic-brewing-company-denim-vest-pionage-wes...   \n",
       "\n",
       "                     beer.beer_style  beer.bid  \\\n",
       "0  IPA - Session / India Session Ale   3467088   \n",
       "1                     IPA - American   3311276   \n",
       "2                     IPA - American   1445432   \n",
       "3                  IPA - New England   2655469   \n",
       "4                     IPA - American   3257257   \n",
       "\n",
       "                   beer.created_at  beer.has_had          ...            \\\n",
       "0  Sat, 05 Oct 2019 17:18:24 +0000         False          ...             \n",
       "1  Tue, 02 Jul 2019 19:02:29 +0000         False          ...             \n",
       "2  Sat, 27 Feb 2016 21:41:53 +0000         False          ...             \n",
       "3  Fri, 18 May 2018 21:54:30 +0000         False          ...             \n",
       "4  Fri, 31 May 2019 21:14:02 +0000         False          ...             \n",
       "\n",
       "   brewery.location.lng  count  first_checkin_id  \\\n",
       "0              -123.835      1         828069072   \n",
       "1              -121.322      1         827954397   \n",
       "2              -121.820      1         827883521   \n",
       "3              -122.643      1         827668186   \n",
       "4              -122.655      1         827585996   \n",
       "\n",
       "                  first_created_at                        first_had  \\\n",
       "0  Sat, 09 Nov 2019 21:41:08 -0800  Sat, 09 Nov 2019 21:41:08 -0800   \n",
       "1  Sat, 09 Nov 2019 17:37:27 -0800  Sat, 09 Nov 2019 17:37:27 -0800   \n",
       "2  Sat, 09 Nov 2019 16:15:55 -0800  Sat, 09 Nov 2019 16:15:55 -0800   \n",
       "3  Sat, 09 Nov 2019 12:58:42 -0800  Sat, 09 Nov 2019 12:58:42 -0800   \n",
       "4  Sat, 09 Nov 2019 11:51:17 -0800  Sat, 09 Nov 2019 11:51:17 -0800   \n",
       "\n",
       "  rating_score recent_checkin_id                recent_created_at  \\\n",
       "0         3.75         828069072  Sat, 09 Nov 2019 21:41:08 -0800   \n",
       "1         3.75         827954397  Sat, 09 Nov 2019 17:37:27 -0800   \n",
       "2         4.00         827883521  Sat, 09 Nov 2019 16:15:55 -0800   \n",
       "3         4.25         827668186  Sat, 09 Nov 2019 12:58:42 -0800   \n",
       "4         4.00         827585996  Sat, 09 Nov 2019 11:51:17 -0800   \n",
       "\n",
       "  recent_created_at_timezone user_auth_rating_score  \n",
       "0                         -8                      0  \n",
       "1                         -8                      0  \n",
       "2                         -8                      0  \n",
       "3                         -8                      0  \n",
       "4                         -8                      0  \n",
       "\n",
       "[5 rows x 37 columns]"
      ]
     },
     "execution_count": 101,
     "metadata": {},
     "output_type": "execute_result"
    }
   ],
   "source": [
    "check.head()"
   ]
  },
  {
   "cell_type": "code",
   "execution_count": 174,
   "metadata": {
    "collapsed": false
   },
   "outputs": [
    {
     "data": {
      "text/plain": [
       "161111"
      ]
     },
     "execution_count": 174,
     "metadata": {},
     "output_type": "execute_result"
    }
   ],
   "source": [
    "sum(check['beer.beer_style'].apply(lambda x: x.startswith('IPA')))    # 34530 non-unique out of 79331 non-unique"
   ]
  },
  {
   "cell_type": "code",
   "execution_count": 175,
   "metadata": {
    "collapsed": false
   },
   "outputs": [
    {
     "data": {
      "text/plain": [
       "161111"
      ]
     },
     "execution_count": 175,
     "metadata": {},
     "output_type": "execute_result"
    }
   ],
   "source": [
    "sum(check['beer.beer_style'].str.startswith('IPA'))  # 161K out of 368K overall are IPAs"
   ]
  },
  {
   "cell_type": "code",
   "execution_count": 176,
   "metadata": {
    "collapsed": false
   },
   "outputs": [
    {
     "name": "stdout",
     "output_type": "stream",
     "text": [
      "<class 'pandas.core.frame.DataFrame'>\n",
      "RangeIndex: 378504 entries, 0 to 378503\n",
      "Data columns (total 37 columns):\n",
      "beer.beer_abv                     378504 non-null float64\n",
      "beer.beer_description             378504 non-null object\n",
      "beer.beer_ibu                     378504 non-null int64\n",
      "beer.beer_label                   378504 non-null object\n",
      "beer.beer_name                    378504 non-null object\n",
      "beer.beer_slug                    378504 non-null object\n",
      "beer.beer_style                   378504 non-null object\n",
      "beer.bid                          378504 non-null int64\n",
      "beer.created_at                   378504 non-null object\n",
      "beer.has_had                      378504 non-null bool\n",
      "beer.rating_count                 378504 non-null int64\n",
      "beer.rating_score                 378504 non-null float64\n",
      "brewery.brewery_active            378504 non-null int64\n",
      "brewery.brewery_id                378504 non-null int64\n",
      "brewery.brewery_label             378504 non-null object\n",
      "brewery.brewery_name              378504 non-null object\n",
      "brewery.brewery_page_url          378504 non-null object\n",
      "brewery.brewery_slug              378501 non-null object\n",
      "brewery.brewery_type              378504 non-null object\n",
      "brewery.contact.facebook          378504 non-null object\n",
      "brewery.contact.instagram         378504 non-null object\n",
      "brewery.contact.twitter           378504 non-null object\n",
      "brewery.contact.url               378504 non-null object\n",
      "brewery.country_name              378504 non-null object\n",
      "brewery.location.brewery_city     378504 non-null object\n",
      "brewery.location.brewery_state    378504 non-null object\n",
      "brewery.location.lat              378504 non-null float64\n",
      "brewery.location.lng              378504 non-null float64\n",
      "count                             378504 non-null int64\n",
      "first_checkin_id                  378504 non-null int64\n",
      "first_created_at                  378504 non-null object\n",
      "first_had                         378504 non-null object\n",
      "rating_score                      378504 non-null float64\n",
      "recent_checkin_id                 378504 non-null int64\n",
      "recent_created_at                 378504 non-null object\n",
      "recent_created_at_timezone        378504 non-null object\n",
      "user_auth_rating_score            378504 non-null int64\n",
      "dtypes: bool(1), float64(5), int64(9), object(22)\n",
      "memory usage: 104.3+ MB\n"
     ]
    }
   ],
   "source": [
    "check.info()"
   ]
  },
  {
   "cell_type": "code",
   "execution_count": 177,
   "metadata": {
    "collapsed": false
   },
   "outputs": [
    {
     "data": {
      "text/plain": [
       "67196"
      ]
     },
     "execution_count": 177,
     "metadata": {},
     "output_type": "execute_result"
    }
   ],
   "source": [
    "sum(check['beer.beer_description'] == '')   # about 22% have no description"
   ]
  },
  {
   "cell_type": "code",
   "execution_count": 178,
   "metadata": {
    "collapsed": false
   },
   "outputs": [
    {
     "data": {
      "text/plain": [
       "3.7856000000000001"
      ]
     },
     "execution_count": 178,
     "metadata": {},
     "output_type": "execute_result"
    }
   ],
   "source": [
    "check.loc[222222,'beer.rating_score']"
   ]
  },
  {
   "cell_type": "code",
   "execution_count": null,
   "metadata": {
    "collapsed": true
   },
   "outputs": [],
   "source": []
  }
 ],
 "metadata": {
  "kernelspec": {
   "display_name": "Python 3",
   "language": "python",
   "name": "python3"
  },
  "language_info": {
   "codemirror_mode": {
    "name": "ipython",
    "version": 3
   },
   "file_extension": ".py",
   "mimetype": "text/x-python",
   "name": "python",
   "nbconvert_exporter": "python",
   "pygments_lexer": "ipython3",
   "version": "3.6.9"
  }
 },
 "nbformat": 4,
 "nbformat_minor": 2
}
