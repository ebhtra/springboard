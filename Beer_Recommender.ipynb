{
 "cells": [
  {
   "cell_type": "markdown",
   "metadata": {},
   "source": [
    "<img src='capstone_1/beershelf.jpg' width=\"1060\" height=\"360\">"
   ]
  },
  {
   "cell_type": "markdown",
   "metadata": {},
   "source": [
    "# <center> Beer Recommender </center>"
   ]
  },
  {
   "cell_type": "markdown",
   "metadata": {},
   "source": [
    "The growth of small, independent (\"craft\") beer brewers in the U.S. has seen a steady increase in recent years, which is evident to anyone who has tried to make sense of the dizzying array of options on a menu or store shelf.  BrewersAssociation.org reports 2018 U.S. sales of all beers shrank 1% by volume from 2017, whereas the craft beer segment grew 4% by volume.  And sales by dollar were even more notable, up 7% from 2017.  Leading this flight to quality in the beer world has been the India Pale Ale (IPA), a hop-heavy (bitter) style originally popular in England but transformed into a new object of desire in modern-day America. \n",
    "\n",
    "The problem for any consumer is trying to sort his way through the maze of new offerings.  At \\$12 - \\$25 per 4-pack of IPA cans, and with so many brands putting their newest creation in front of you, it's very easy to end up with buyer's remorse after your first sip.  Every one of the thousands of new craft brewers dotting the American map knows that the public wants IPA's, and whether the brewers want to or not, they go after this low-hanging fruit, with often (I'd claim usually) poor results.  Simply put, there are hundreds of expensive yet run-of-the-mill IPA's distracting an undecided buyer from the few gems on the shelf or menu.\n",
    "\n",
    "Fortunately, the rise of the American IPA has coincided with the rise of social technology, and there are many apps that can help a buyer find her way to something she'll love.  Whether the app has an encyclopedia of detailed reviews and ratings, like BeerAdvocate, or whether it tailors its recommendations to a user based on what the user historically likes and what beers are available to her nearby at any given time, like Barly, there are data at the consumer's fingertips, ready to help."
   ]
  },
  {
   "cell_type": "code",
   "execution_count": null,
   "metadata": {
    "collapsed": true
   },
   "outputs": [],
   "source": []
  }
 ],
 "metadata": {
  "kernelspec": {
   "display_name": "Python 3",
   "language": "python",
   "name": "python3"
  },
  "language_info": {
   "codemirror_mode": {
    "name": "ipython",
    "version": 3
   },
   "file_extension": ".py",
   "mimetype": "text/x-python",
   "name": "python",
   "nbconvert_exporter": "python",
   "pygments_lexer": "ipython3",
   "version": "3.6.9"
  }
 },
 "nbformat": 4,
 "nbformat_minor": 2
}
