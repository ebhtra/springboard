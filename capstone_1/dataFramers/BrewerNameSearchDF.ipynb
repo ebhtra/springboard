{
 "cells": [
  {
   "cell_type": "code",
   "execution_count": 1,
   "metadata": {
    "collapsed": true
   },
   "outputs": [],
   "source": [
    "import pandas as pd\n",
    "import pickle"
   ]
  },
  {
   "cell_type": "code",
   "execution_count": 3,
   "metadata": {
    "collapsed": false
   },
   "outputs": [
    {
     "name": "stdout",
     "output_type": "stream",
     "text": [
      "<class 'pandas.core.frame.DataFrame'> 1\n"
     ]
    }
   ],
   "source": [
    "with open('capstone_1/beerSearches/beer_search_batch_0.pkl', 'rb') as f:\n",
    "    batch_0 = pickle.load(f)\n",
    "print(type(batch_0), len(batch_0))"
   ]
  },
  {
   "cell_type": "code",
   "execution_count": 4,
   "metadata": {
    "collapsed": false
   },
   "outputs": [
    {
     "data": {
      "text/plain": [
       "(1, 85)"
      ]
     },
     "execution_count": 4,
     "metadata": {},
     "output_type": "execute_result"
    }
   ],
   "source": [
    "batch_0.shape"
   ]
  },
  {
   "cell_type": "markdown",
   "metadata": {},
   "source": [
    "ahhh, the horizontal df of batch_0"
   ]
  },
  {
   "cell_type": "code",
   "execution_count": 7,
   "metadata": {
    "collapsed": false
   },
   "outputs": [
    {
     "data": {
      "text/plain": [
       "dict"
      ]
     },
     "execution_count": 7,
     "metadata": {},
     "output_type": "execute_result"
    }
   ],
   "source": [
    "data = batch_0.iloc[0,0]\n",
    "type(data)"
   ]
  },
  {
   "cell_type": "code",
   "execution_count": 9,
   "metadata": {
    "collapsed": false
   },
   "outputs": [
    {
     "data": {
      "text/plain": [
       "dict_keys(['message', 'time_taken', 'brewery_id', 'search_type', 'type_id', 'search_version', 'found', 'offset', 'limit', 'term', 'parsed_term', 'beers', 'homebrew', 'breweries'])"
      ]
     },
     "execution_count": 9,
     "metadata": {},
     "output_type": "execute_result"
    }
   ],
   "source": [
    "data['response'].keys()"
   ]
  },
  {
   "cell_type": "code",
   "execution_count": 15,
   "metadata": {
    "collapsed": true
   },
   "outputs": [],
   "source": [
    "item_df = pd.io.json.json_normalize(data['response']['beers']['items'])"
   ]
  },
  {
   "cell_type": "code",
   "execution_count": 17,
   "metadata": {
    "collapsed": false
   },
   "outputs": [
    {
     "data": {
      "text/plain": [
       "Index(['beer.auth_rating', 'beer.beer_abv', 'beer.beer_description',\n",
       "       'beer.beer_ibu', 'beer.beer_label', 'beer.beer_name', 'beer.beer_slug',\n",
       "       'beer.beer_style', 'beer.bid', 'beer.created_at', 'beer.in_production',\n",
       "       'beer.wish_list', 'brewery.brewery_active', 'brewery.brewery_id',\n",
       "       'brewery.brewery_label', 'brewery.brewery_name',\n",
       "       'brewery.brewery_page_url', 'brewery.brewery_slug',\n",
       "       'brewery.brewery_type', 'brewery.contact.facebook',\n",
       "       'brewery.contact.instagram', 'brewery.contact.twitter',\n",
       "       'brewery.contact.url', 'brewery.country_name',\n",
       "       'brewery.location.brewery_city', 'brewery.location.brewery_state',\n",
       "       'brewery.location.lat', 'brewery.location.lng', 'checkin_count',\n",
       "       'have_had', 'your_count'],\n",
       "      dtype='object')"
      ]
     },
     "execution_count": 17,
     "metadata": {},
     "output_type": "execute_result"
    }
   ],
   "source": [
    "item_df.columns"
   ]
  },
  {
   "cell_type": "code",
   "execution_count": 18,
   "metadata": {
    "collapsed": true
   },
   "outputs": [],
   "source": [
    "batch_0_flat = pd.concat([pd.io.json.json_normalize(batch_0.iloc[0,col]['response']['beers']['items'])\n",
    "                         for col in range(batch_0.shape[1])])"
   ]
  },
  {
   "cell_type": "code",
   "execution_count": 19,
   "metadata": {
    "collapsed": false
   },
   "outputs": [
    {
     "data": {
      "text/plain": [
       "(4142, 31)"
      ]
     },
     "execution_count": 19,
     "metadata": {},
     "output_type": "execute_result"
    }
   ],
   "source": [
    "batch_0_flat.shape"
   ]
  },
  {
   "cell_type": "markdown",
   "metadata": {},
   "source": [
    "#### On to the vertical df's"
   ]
  },
  {
   "cell_type": "code",
   "execution_count": 29,
   "metadata": {
    "collapsed": false
   },
   "outputs": [
    {
     "data": {
      "text/plain": [
       "Index(['meta', 'notifications', 'response'], dtype='object')"
      ]
     },
     "execution_count": 29,
     "metadata": {},
     "output_type": "execute_result"
    }
   ],
   "source": [
    "with open('capstone_1/beerSearches/beer_search_batch_1.pkl','rb') as f:\n",
    "    b = pickle.load(f)\n",
    "b.columns"
   ]
  },
  {
   "cell_type": "code",
   "execution_count": 30,
   "metadata": {
    "collapsed": false
   },
   "outputs": [
    {
     "data": {
      "text/plain": [
       "dict_keys(['message', 'time_taken', 'brewery_id', 'search_type', 'type_id', 'search_version', 'found', 'offset', 'limit', 'term', 'parsed_term', 'beers', 'homebrew', 'breweries'])"
      ]
     },
     "execution_count": 30,
     "metadata": {},
     "output_type": "execute_result"
    }
   ],
   "source": [
    "b.loc[0,'response'].keys()"
   ]
  },
  {
   "cell_type": "code",
   "execution_count": 31,
   "metadata": {
    "collapsed": true
   },
   "outputs": [],
   "source": [
    "# now flatten the vertical structures\n",
    "def flat(row_df_pkl):\n",
    "    with open(row_df_pkl, 'rb') as f:\n",
    "        batch = pickle.load(f)\n",
    "    return pd.concat([pd.io.json.json_normalize(\n",
    "                        batch.loc[row,'response']['beers']['items'])\n",
    "                         for row in range(batch.shape[0])])"
   ]
  },
  {
   "cell_type": "code",
   "execution_count": 24,
   "metadata": {
    "collapsed": true
   },
   "outputs": [],
   "source": [
    "from glob import glob\n",
    "beersearches = glob('capstone_1/beerSearches/*.pkl')"
   ]
  },
  {
   "cell_type": "code",
   "execution_count": 25,
   "metadata": {
    "collapsed": false,
    "scrolled": true
   },
   "outputs": [
    {
     "data": {
      "text/plain": [
       "['capstone_1/beerSearches/beer_search_batch_7.pkl',\n",
       " 'capstone_1/beerSearches/beer_search_batch_20.pkl',\n",
       " 'capstone_1/beerSearches/beer_search_batch_21.pkl',\n",
       " 'capstone_1/beerSearches/beer_search_batch_6.pkl',\n",
       " 'capstone_1/beerSearches/beer_search_batch_4.pkl',\n",
       " 'capstone_1/beerSearches/beer_search_batch_22.pkl',\n",
       " 'capstone_1/beerSearches/beer_search_batch_5.pkl',\n",
       " 'capstone_1/beerSearches/beer_search_batch_1.pkl',\n",
       " 'capstone_1/beerSearches/beer_search_batch_0.pkl',\n",
       " 'capstone_1/beerSearches/beer_search_batch_2.pkl',\n",
       " 'capstone_1/beerSearches/beer_search_batch_19.pkl',\n",
       " 'capstone_1/beerSearches/beer_search_batch_18.pkl',\n",
       " 'capstone_1/beerSearches/beer_search_batch_3.pkl',\n",
       " 'capstone_1/beerSearches/beer_search_batch_15.pkl',\n",
       " 'capstone_1/beerSearches/beer_search_batch_14.pkl',\n",
       " 'capstone_1/beerSearches/beer_search_batch_16.pkl',\n",
       " 'capstone_1/beerSearches/beer_search_batch_17.pkl',\n",
       " 'capstone_1/beerSearches/beer_search_batch_8.pkl',\n",
       " 'capstone_1/beerSearches/beer_search_batch_13.pkl',\n",
       " 'capstone_1/beerSearches/beer_search_batch_12.pkl',\n",
       " 'capstone_1/beerSearches/beer_search_batch_9.pkl',\n",
       " 'capstone_1/beerSearches/beer_search_batch_10.pkl',\n",
       " 'capstone_1/beerSearches/beer_search_batch_11.pkl']"
      ]
     },
     "execution_count": 25,
     "metadata": {},
     "output_type": "execute_result"
    }
   ],
   "source": [
    "beersearches"
   ]
  },
  {
   "cell_type": "code",
   "execution_count": 26,
   "metadata": {
    "collapsed": false
   },
   "outputs": [
    {
     "data": {
      "text/plain": [
       "'capstone_1/beerSearches/beer_search_batch_0.pkl'"
      ]
     },
     "execution_count": 26,
     "metadata": {},
     "output_type": "execute_result"
    }
   ],
   "source": [
    "# get rid of batch_0, the horizontal one\n",
    "beersearches = sorted(beersearches)\n",
    "beersearches.pop(0)"
   ]
  },
  {
   "cell_type": "code",
   "execution_count": 33,
   "metadata": {
    "collapsed": false
   },
   "outputs": [
    {
     "data": {
      "text/plain": [
       "22"
      ]
     },
     "execution_count": 33,
     "metadata": {},
     "output_type": "execute_result"
    }
   ],
   "source": [
    "# flatten all\n",
    "flats = [flat(batch) for batch in beersearches]\n",
    "\n",
    "len(flats)"
   ]
  },
  {
   "cell_type": "code",
   "execution_count": 35,
   "metadata": {
    "collapsed": false
   },
   "outputs": [
    {
     "data": {
      "text/plain": [
       "(102765, 31)"
      ]
     },
     "execution_count": 35,
     "metadata": {},
     "output_type": "execute_result"
    }
   ],
   "source": [
    "df = pd.concat([batch_0_flat] + flats, axis=0, ignore_index=True)\n",
    "\n",
    "df.shape"
   ]
  },
  {
   "cell_type": "code",
   "execution_count": 37,
   "metadata": {
    "collapsed": false
   },
   "outputs": [
    {
     "name": "stdout",
     "output_type": "stream",
     "text": [
      "<class 'pandas.core.frame.DataFrame'>\n",
      "RangeIndex: 102765 entries, 0 to 102764\n",
      "Data columns (total 31 columns):\n",
      "beer.auth_rating                  102765 non-null int64\n",
      "beer.beer_abv                     102765 non-null float64\n",
      "beer.beer_description             102765 non-null object\n",
      "beer.beer_ibu                     102765 non-null int64\n",
      "beer.beer_label                   102765 non-null object\n",
      "beer.beer_name                    102765 non-null object\n",
      "beer.beer_slug                    102765 non-null object\n",
      "beer.beer_style                   102765 non-null object\n",
      "beer.bid                          102765 non-null int64\n",
      "beer.created_at                   102765 non-null object\n",
      "beer.in_production                102765 non-null int64\n",
      "beer.wish_list                    102765 non-null bool\n",
      "brewery.brewery_active            102765 non-null int64\n",
      "brewery.brewery_id                102765 non-null int64\n",
      "brewery.brewery_label             102765 non-null object\n",
      "brewery.brewery_name              102765 non-null object\n",
      "brewery.brewery_page_url          102765 non-null object\n",
      "brewery.brewery_slug              102761 non-null object\n",
      "brewery.brewery_type              102765 non-null object\n",
      "brewery.contact.facebook          102765 non-null object\n",
      "brewery.contact.instagram         102765 non-null object\n",
      "brewery.contact.twitter           102765 non-null object\n",
      "brewery.contact.url               102765 non-null object\n",
      "brewery.country_name              102765 non-null object\n",
      "brewery.location.brewery_city     102765 non-null object\n",
      "brewery.location.brewery_state    102765 non-null object\n",
      "brewery.location.lat              102765 non-null float64\n",
      "brewery.location.lng              102765 non-null float64\n",
      "checkin_count                     102765 non-null int64\n",
      "have_had                          102765 non-null bool\n",
      "your_count                        102765 non-null int64\n",
      "dtypes: bool(2), float64(3), int64(8), object(18)\n",
      "memory usage: 22.9+ MB\n"
     ]
    }
   ],
   "source": [
    "df.info()"
   ]
  },
  {
   "cell_type": "code",
   "execution_count": 38,
   "metadata": {
    "collapsed": true
   },
   "outputs": [],
   "source": [
    "keepcols = ['beer.beer_abv', 'beer.beer_description', 'beer.beer_ibu',\n",
    "            'beer.beer_name', 'beer.beer_style', 'beer.bid',\n",
    "            'brewery.brewery_id', 'brewery.brewery_name',\n",
    "            'brewery.brewery_type', 'brewery.country_name',\n",
    "            'brewery.location.brewery_city', 'brewery.location.brewery_state',\n",
    "            'brewery.location.lat', 'brewery.location.lng', 'checkin_count'\n",
    "           ]"
   ]
  },
  {
   "cell_type": "code",
   "execution_count": 39,
   "metadata": {
    "collapsed": false
   },
   "outputs": [
    {
     "data": {
      "text/html": [
       "<div>\n",
       "<style>\n",
       "    .dataframe thead tr:only-child th {\n",
       "        text-align: right;\n",
       "    }\n",
       "\n",
       "    .dataframe thead th {\n",
       "        text-align: left;\n",
       "    }\n",
       "\n",
       "    .dataframe tbody tr th {\n",
       "        vertical-align: top;\n",
       "    }\n",
       "</style>\n",
       "<table border=\"1\" class=\"dataframe\">\n",
       "  <thead>\n",
       "    <tr style=\"text-align: right;\">\n",
       "      <th></th>\n",
       "      <th>beer.beer_abv</th>\n",
       "      <th>beer.beer_description</th>\n",
       "      <th>beer.beer_ibu</th>\n",
       "      <th>beer.beer_name</th>\n",
       "      <th>beer.beer_style</th>\n",
       "      <th>beer.bid</th>\n",
       "      <th>brewery.brewery_id</th>\n",
       "      <th>brewery.brewery_name</th>\n",
       "      <th>brewery.brewery_type</th>\n",
       "      <th>brewery.country_name</th>\n",
       "      <th>brewery.location.brewery_city</th>\n",
       "      <th>brewery.location.brewery_state</th>\n",
       "      <th>brewery.location.lat</th>\n",
       "      <th>brewery.location.lng</th>\n",
       "      <th>checkin_count</th>\n",
       "    </tr>\n",
       "  </thead>\n",
       "  <tbody>\n",
       "    <tr>\n",
       "      <th>0</th>\n",
       "      <td>5.6</td>\n",
       "      <td>Our most popular beer, Sierra Nevada Pale Ale ...</td>\n",
       "      <td>38</td>\n",
       "      <td>Pale Ale</td>\n",
       "      <td>Pale Ale - American</td>\n",
       "      <td>6284</td>\n",
       "      <td>1142</td>\n",
       "      <td>Sierra Nevada Brewing Co.</td>\n",
       "      <td>Regional Brewery</td>\n",
       "      <td>United States</td>\n",
       "      <td>Chico</td>\n",
       "      <td>CA</td>\n",
       "      <td>39.7242</td>\n",
       "      <td>-121.815</td>\n",
       "      <td>1021656</td>\n",
       "    </tr>\n",
       "    <tr>\n",
       "      <th>1</th>\n",
       "      <td>7.2</td>\n",
       "      <td>Sierra Nevada Torpedo Ale is a big American IP...</td>\n",
       "      <td>65</td>\n",
       "      <td>Torpedo Extra IPA</td>\n",
       "      <td>IPA - American</td>\n",
       "      <td>4997</td>\n",
       "      <td>1142</td>\n",
       "      <td>Sierra Nevada Brewing Co.</td>\n",
       "      <td>Regional Brewery</td>\n",
       "      <td>United States</td>\n",
       "      <td>Chico</td>\n",
       "      <td>CA</td>\n",
       "      <td>39.7242</td>\n",
       "      <td>-121.815</td>\n",
       "      <td>664063</td>\n",
       "    </tr>\n",
       "    <tr>\n",
       "      <th>2</th>\n",
       "      <td>6.2</td>\n",
       "      <td>Hop Hunter IPA harnesses the complex flavors o...</td>\n",
       "      <td>60</td>\n",
       "      <td>Hop Hunter IPA</td>\n",
       "      <td>IPA - American</td>\n",
       "      <td>568188</td>\n",
       "      <td>1142</td>\n",
       "      <td>Sierra Nevada Brewing Co.</td>\n",
       "      <td>Regional Brewery</td>\n",
       "      <td>United States</td>\n",
       "      <td>Chico</td>\n",
       "      <td>CA</td>\n",
       "      <td>39.7242</td>\n",
       "      <td>-121.815</td>\n",
       "      <td>316738</td>\n",
       "    </tr>\n",
       "    <tr>\n",
       "      <th>3</th>\n",
       "      <td>6.8</td>\n",
       "      <td>The long, cold nights of winter are a little b...</td>\n",
       "      <td>65</td>\n",
       "      <td>Celebration Fresh Hop IPA</td>\n",
       "      <td>IPA - American</td>\n",
       "      <td>16630</td>\n",
       "      <td>1142</td>\n",
       "      <td>Sierra Nevada Brewing Co.</td>\n",
       "      <td>Regional Brewery</td>\n",
       "      <td>United States</td>\n",
       "      <td>Chico</td>\n",
       "      <td>CA</td>\n",
       "      <td>39.7242</td>\n",
       "      <td>-121.815</td>\n",
       "      <td>289647</td>\n",
       "    </tr>\n",
       "    <tr>\n",
       "      <th>4</th>\n",
       "      <td>6.7</td>\n",
       "      <td>As brewers, we get the privilege to sample our...</td>\n",
       "      <td>40</td>\n",
       "      <td>Hazy Little Thing</td>\n",
       "      <td>IPA - New England</td>\n",
       "      <td>2412786</td>\n",
       "      <td>1142</td>\n",
       "      <td>Sierra Nevada Brewing Co.</td>\n",
       "      <td>Regional Brewery</td>\n",
       "      <td>United States</td>\n",
       "      <td>Chico</td>\n",
       "      <td>CA</td>\n",
       "      <td>39.7242</td>\n",
       "      <td>-121.815</td>\n",
       "      <td>276413</td>\n",
       "    </tr>\n",
       "  </tbody>\n",
       "</table>\n",
       "</div>"
      ],
      "text/plain": [
       "   beer.beer_abv                              beer.beer_description  \\\n",
       "0            5.6  Our most popular beer, Sierra Nevada Pale Ale ...   \n",
       "1            7.2  Sierra Nevada Torpedo Ale is a big American IP...   \n",
       "2            6.2  Hop Hunter IPA harnesses the complex flavors o...   \n",
       "3            6.8  The long, cold nights of winter are a little b...   \n",
       "4            6.7  As brewers, we get the privilege to sample our...   \n",
       "\n",
       "   beer.beer_ibu             beer.beer_name      beer.beer_style  beer.bid  \\\n",
       "0             38                   Pale Ale  Pale Ale - American      6284   \n",
       "1             65          Torpedo Extra IPA       IPA - American      4997   \n",
       "2             60             Hop Hunter IPA       IPA - American    568188   \n",
       "3             65  Celebration Fresh Hop IPA       IPA - American     16630   \n",
       "4             40          Hazy Little Thing    IPA - New England   2412786   \n",
       "\n",
       "   brewery.brewery_id       brewery.brewery_name brewery.brewery_type  \\\n",
       "0                1142  Sierra Nevada Brewing Co.     Regional Brewery   \n",
       "1                1142  Sierra Nevada Brewing Co.     Regional Brewery   \n",
       "2                1142  Sierra Nevada Brewing Co.     Regional Brewery   \n",
       "3                1142  Sierra Nevada Brewing Co.     Regional Brewery   \n",
       "4                1142  Sierra Nevada Brewing Co.     Regional Brewery   \n",
       "\n",
       "  brewery.country_name brewery.location.brewery_city  \\\n",
       "0        United States                         Chico   \n",
       "1        United States                         Chico   \n",
       "2        United States                         Chico   \n",
       "3        United States                         Chico   \n",
       "4        United States                         Chico   \n",
       "\n",
       "  brewery.location.brewery_state  brewery.location.lat  brewery.location.lng  \\\n",
       "0                             CA               39.7242              -121.815   \n",
       "1                             CA               39.7242              -121.815   \n",
       "2                             CA               39.7242              -121.815   \n",
       "3                             CA               39.7242              -121.815   \n",
       "4                             CA               39.7242              -121.815   \n",
       "\n",
       "   checkin_count  \n",
       "0        1021656  \n",
       "1         664063  \n",
       "2         316738  \n",
       "3         289647  \n",
       "4         276413  "
      ]
     },
     "execution_count": 39,
     "metadata": {},
     "output_type": "execute_result"
    }
   ],
   "source": [
    "df = df[keepcols]\n",
    "df.head()"
   ]
  },
  {
   "cell_type": "code",
   "execution_count": 40,
   "metadata": {
    "collapsed": true
   },
   "outputs": [],
   "source": [
    "df.to_csv('capstone_1/untapped_brewername_search_df.csv')"
   ]
  },
  {
   "cell_type": "code",
   "execution_count": null,
   "metadata": {
    "collapsed": true
   },
   "outputs": [],
   "source": []
  }
 ],
 "metadata": {
  "kernelspec": {
   "display_name": "Python 3",
   "language": "python",
   "name": "python3"
  },
  "language_info": {
   "codemirror_mode": {
    "name": "ipython",
    "version": 3
   },
   "file_extension": ".py",
   "mimetype": "text/x-python",
   "name": "python",
   "nbconvert_exporter": "python",
   "pygments_lexer": "ipython3",
   "version": "3.6.9"
  }
 },
 "nbformat": 4,
 "nbformat_minor": 2
}
