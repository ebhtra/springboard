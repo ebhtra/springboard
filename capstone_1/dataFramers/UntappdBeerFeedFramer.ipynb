{
 "cells": [
  {
   "cell_type": "code",
   "execution_count": 3,
   "metadata": {
    "collapsed": true
   },
   "outputs": [],
   "source": [
    "import pandas as pd\n",
    "import pickle"
   ]
  },
  {
   "cell_type": "code",
   "execution_count": 4,
   "metadata": {
    "collapsed": false
   },
   "outputs": [
    {
     "name": "stdout",
     "output_type": "stream",
     "text": [
      "<class 'dict'> 607\n"
     ]
    }
   ],
   "source": [
    "# PART_2 was just an extended version of the first part, so ignore the first one\n",
    "with open('capstone_1/beerFeeds/beerFeedDicts0to607_PART_2.pkl', 'rb') as f:\n",
    "    feeds = pickle.load(f)\n",
    "print(type(feeds), len(feeds))"
   ]
  },
  {
   "cell_type": "code",
   "execution_count": 28,
   "metadata": {
    "collapsed": false
   },
   "outputs": [],
   "source": [
    "# to inspect the data\n",
    "feed_gen = (k for k in feeds.keys())"
   ]
  },
  {
   "cell_type": "code",
   "execution_count": 15,
   "metadata": {
    "collapsed": false
   },
   "outputs": [
    {
     "data": {
      "text/plain": [
       "dict_keys(['newestID', 'oldestID', 'datalist'])"
      ]
     },
     "execution_count": 15,
     "metadata": {},
     "output_type": "execute_result"
    }
   ],
   "source": [
    "feeds[next(feed_gen)].keys()"
   ]
  },
  {
   "cell_type": "code",
   "execution_count": 21,
   "metadata": {
    "collapsed": false
   },
   "outputs": [
    {
     "data": {
      "text/plain": [
       "dict_keys(['checkin_id', 'created_at', 'checkin_comment', 'rating_score', 'user', 'beer', 'brewery', 'venue', 'comments', 'toasts', 'media', 'source', 'badges'])"
      ]
     },
     "execution_count": 21,
     "metadata": {},
     "output_type": "execute_result"
    }
   ],
   "source": [
    "feeds[next(feed_gen)]['datalist'][0]['response']['checkins']['items'][0].keys()"
   ]
  },
  {
   "cell_type": "code",
   "execution_count": 56,
   "metadata": {
    "collapsed": true
   },
   "outputs": [],
   "source": [
    "to_concat = [pd.io.json.json_normalize(data['response']['checkins']['items'])\n",
    "             for k in feeds.keys() for data in feeds[k]['datalist']]"
   ]
  },
  {
   "cell_type": "code",
   "execution_count": 57,
   "metadata": {
    "collapsed": false
   },
   "outputs": [
    {
     "data": {
      "text/plain": [
       "4690"
      ]
     },
     "execution_count": 57,
     "metadata": {},
     "output_type": "execute_result"
    }
   ],
   "source": [
    "len(to_concat)"
   ]
  },
  {
   "cell_type": "code",
   "execution_count": 61,
   "metadata": {
    "collapsed": false
   },
   "outputs": [
    {
     "data": {
      "text/plain": [
       "['brewery.brewery_type']"
      ]
     },
     "execution_count": 61,
     "metadata": {},
     "output_type": "execute_result"
    }
   ],
   "source": [
    "# inspect\n",
    "c = to_concat[0].columns\n",
    "\n",
    "# here were the checkin feed cols\n",
    "keepcols = ['checkin_id', 'beer.bid', 'user.uid', 'rating_score', 'beer.beer_abv', \n",
    "          'brewery.brewery_name','beer.beer_name', 'beer.beer_style',  \n",
    "           'brewery.brewery_id', 'brewery.brewery_type', 'brewery.country_name',\n",
    "          'brewery.location.brewery_city', 'brewery.location.brewery_state',\n",
    "          'brewery.location.lat', 'brewery.location.lng', 'user.user_name',\n",
    "          'venue.categories.items', 'venue.location.lat', 'venue.location.lng',\n",
    "         'venue.location.venue_city', 'venue.location.venue_country', \n",
    "          'venue.location.venue_state', 'venue.primary_category',\n",
    "          'venue.venue_id', 'checkin_comment','created_at', \n",
    "       ]\n",
    "[col for col in keepcols if col not in c]"
   ]
  },
  {
   "cell_type": "code",
   "execution_count": 37,
   "metadata": {
    "collapsed": true
   },
   "outputs": [],
   "source": [
    "# add in some useful ones from beer feeds:\n",
    "keepcols = keepcols[:7] + ['beer.beer_description', 'beer.beer_ibu'] + keepcols[7:9] + keepcols[10:]"
   ]
  },
  {
   "cell_type": "code",
   "execution_count": 58,
   "metadata": {
    "collapsed": false
   },
   "outputs": [
    {
     "data": {
      "text/plain": [
       "(114121, 27)"
      ]
     },
     "execution_count": 58,
     "metadata": {},
     "output_type": "execute_result"
    }
   ],
   "source": [
    "beer_cat = pd.concat(to_concat, axis=0, ignore_index=True)\n",
    "# slim the frame\n",
    "beer_cat = beer_cat[keepcols]\n",
    "beer_cat.shape"
   ]
  },
  {
   "cell_type": "code",
   "execution_count": 45,
   "metadata": {
    "collapsed": false
   },
   "outputs": [
    {
     "data": {
      "text/html": [
       "<div>\n",
       "<style>\n",
       "    .dataframe thead tr:only-child th {\n",
       "        text-align: right;\n",
       "    }\n",
       "\n",
       "    .dataframe thead th {\n",
       "        text-align: left;\n",
       "    }\n",
       "\n",
       "    .dataframe tbody tr th {\n",
       "        vertical-align: top;\n",
       "    }\n",
       "</style>\n",
       "<table border=\"1\" class=\"dataframe\">\n",
       "  <thead>\n",
       "    <tr style=\"text-align: right;\">\n",
       "      <th></th>\n",
       "      <th>checkin_id</th>\n",
       "      <th>beer.bid</th>\n",
       "      <th>user.uid</th>\n",
       "      <th>rating_score</th>\n",
       "      <th>beer.beer_abv</th>\n",
       "      <th>brewery.brewery_name</th>\n",
       "      <th>beer.beer_name</th>\n",
       "      <th>beer.beer_description</th>\n",
       "      <th>beer.beer_ibu</th>\n",
       "      <th>beer.beer_style</th>\n",
       "      <th>...</th>\n",
       "      <th>venue.categories.items</th>\n",
       "      <th>venue.location.lat</th>\n",
       "      <th>venue.location.lng</th>\n",
       "      <th>venue.location.venue_city</th>\n",
       "      <th>venue.location.venue_country</th>\n",
       "      <th>venue.location.venue_state</th>\n",
       "      <th>venue.primary_category</th>\n",
       "      <th>venue.venue_id</th>\n",
       "      <th>checkin_comment</th>\n",
       "      <th>created_at</th>\n",
       "    </tr>\n",
       "  </thead>\n",
       "  <tbody>\n",
       "    <tr>\n",
       "      <th>0</th>\n",
       "      <td>819020801</td>\n",
       "      <td>1796100</td>\n",
       "      <td>288533</td>\n",
       "      <td>4.00</td>\n",
       "      <td>6.7</td>\n",
       "      <td>Hi-Wire Brewing</td>\n",
       "      <td>Hi-Pitch Mosaic IPA</td>\n",
       "      <td>A balanced Western North Carolina IPA with bri...</td>\n",
       "      <td>55</td>\n",
       "      <td>IPA - American</td>\n",
       "      <td>...</td>\n",
       "      <td>NaN</td>\n",
       "      <td>NaN</td>\n",
       "      <td>NaN</td>\n",
       "      <td>NaN</td>\n",
       "      <td>NaN</td>\n",
       "      <td>NaN</td>\n",
       "      <td>NaN</td>\n",
       "      <td>NaN</td>\n",
       "      <td></td>\n",
       "      <td>Sat, 19 Oct 2019 11:33:05 +0000</td>\n",
       "    </tr>\n",
       "    <tr>\n",
       "      <th>1</th>\n",
       "      <td>818960695</td>\n",
       "      <td>1796100</td>\n",
       "      <td>643191</td>\n",
       "      <td>4.00</td>\n",
       "      <td>6.7</td>\n",
       "      <td>Hi-Wire Brewing</td>\n",
       "      <td>Hi-Pitch Mosaic IPA</td>\n",
       "      <td>A balanced Western North Carolina IPA with bri...</td>\n",
       "      <td>55</td>\n",
       "      <td>IPA - American</td>\n",
       "      <td>...</td>\n",
       "      <td>[{'category_key': 'brewery', 'category_name': ...</td>\n",
       "      <td>33.9715</td>\n",
       "      <td>-81.0281</td>\n",
       "      <td>Columbia</td>\n",
       "      <td>United States</td>\n",
       "      <td>SC</td>\n",
       "      <td>Nightlife Spot</td>\n",
       "      <td>1859021.0</td>\n",
       "      <td></td>\n",
       "      <td>Sat, 19 Oct 2019 03:37:37 +0000</td>\n",
       "    </tr>\n",
       "    <tr>\n",
       "      <th>2</th>\n",
       "      <td>818960128</td>\n",
       "      <td>1796100</td>\n",
       "      <td>3497038</td>\n",
       "      <td>3.00</td>\n",
       "      <td>6.7</td>\n",
       "      <td>Hi-Wire Brewing</td>\n",
       "      <td>Hi-Pitch Mosaic IPA</td>\n",
       "      <td>A balanced Western North Carolina IPA with bri...</td>\n",
       "      <td>55</td>\n",
       "      <td>IPA - American</td>\n",
       "      <td>...</td>\n",
       "      <td>NaN</td>\n",
       "      <td>NaN</td>\n",
       "      <td>NaN</td>\n",
       "      <td>NaN</td>\n",
       "      <td>NaN</td>\n",
       "      <td>NaN</td>\n",
       "      <td>NaN</td>\n",
       "      <td>NaN</td>\n",
       "      <td></td>\n",
       "      <td>Sat, 19 Oct 2019 03:36:06 +0000</td>\n",
       "    </tr>\n",
       "    <tr>\n",
       "      <th>3</th>\n",
       "      <td>818957618</td>\n",
       "      <td>1796100</td>\n",
       "      <td>4006238</td>\n",
       "      <td>3.75</td>\n",
       "      <td>6.7</td>\n",
       "      <td>Hi-Wire Brewing</td>\n",
       "      <td>Hi-Pitch Mosaic IPA</td>\n",
       "      <td>A balanced Western North Carolina IPA with bri...</td>\n",
       "      <td>55</td>\n",
       "      <td>IPA - American</td>\n",
       "      <td>...</td>\n",
       "      <td>[{'category_key': 'lounge', 'category_name': '...</td>\n",
       "      <td>35.9479</td>\n",
       "      <td>-86.8100</td>\n",
       "      <td>Franklin</td>\n",
       "      <td>United States</td>\n",
       "      <td>TN</td>\n",
       "      <td>Nightlife Spot</td>\n",
       "      <td>9496119.0</td>\n",
       "      <td></td>\n",
       "      <td>Sat, 19 Oct 2019 03:29:15 +0000</td>\n",
       "    </tr>\n",
       "    <tr>\n",
       "      <th>4</th>\n",
       "      <td>818956577</td>\n",
       "      <td>1796100</td>\n",
       "      <td>3132998</td>\n",
       "      <td>0.00</td>\n",
       "      <td>6.7</td>\n",
       "      <td>Hi-Wire Brewing</td>\n",
       "      <td>Hi-Pitch Mosaic IPA</td>\n",
       "      <td>A balanced Western North Carolina IPA with bri...</td>\n",
       "      <td>55</td>\n",
       "      <td>IPA - American</td>\n",
       "      <td>...</td>\n",
       "      <td>NaN</td>\n",
       "      <td>NaN</td>\n",
       "      <td>NaN</td>\n",
       "      <td>NaN</td>\n",
       "      <td>NaN</td>\n",
       "      <td>NaN</td>\n",
       "      <td>NaN</td>\n",
       "      <td>NaN</td>\n",
       "      <td></td>\n",
       "      <td>Sat, 19 Oct 2019 03:26:22 +0000</td>\n",
       "    </tr>\n",
       "  </tbody>\n",
       "</table>\n",
       "<p>5 rows × 27 columns</p>\n",
       "</div>"
      ],
      "text/plain": [
       "   checkin_id  beer.bid  user.uid  rating_score  beer.beer_abv  \\\n",
       "0   819020801   1796100    288533          4.00            6.7   \n",
       "1   818960695   1796100    643191          4.00            6.7   \n",
       "2   818960128   1796100   3497038          3.00            6.7   \n",
       "3   818957618   1796100   4006238          3.75            6.7   \n",
       "4   818956577   1796100   3132998          0.00            6.7   \n",
       "\n",
       "  brewery.brewery_name       beer.beer_name  \\\n",
       "0      Hi-Wire Brewing  Hi-Pitch Mosaic IPA   \n",
       "1      Hi-Wire Brewing  Hi-Pitch Mosaic IPA   \n",
       "2      Hi-Wire Brewing  Hi-Pitch Mosaic IPA   \n",
       "3      Hi-Wire Brewing  Hi-Pitch Mosaic IPA   \n",
       "4      Hi-Wire Brewing  Hi-Pitch Mosaic IPA   \n",
       "\n",
       "                               beer.beer_description  beer.beer_ibu  \\\n",
       "0  A balanced Western North Carolina IPA with bri...             55   \n",
       "1  A balanced Western North Carolina IPA with bri...             55   \n",
       "2  A balanced Western North Carolina IPA with bri...             55   \n",
       "3  A balanced Western North Carolina IPA with bri...             55   \n",
       "4  A balanced Western North Carolina IPA with bri...             55   \n",
       "\n",
       "  beer.beer_style               ...                 \\\n",
       "0  IPA - American               ...                  \n",
       "1  IPA - American               ...                  \n",
       "2  IPA - American               ...                  \n",
       "3  IPA - American               ...                  \n",
       "4  IPA - American               ...                  \n",
       "\n",
       "                              venue.categories.items venue.location.lat  \\\n",
       "0                                                NaN                NaN   \n",
       "1  [{'category_key': 'brewery', 'category_name': ...            33.9715   \n",
       "2                                                NaN                NaN   \n",
       "3  [{'category_key': 'lounge', 'category_name': '...            35.9479   \n",
       "4                                                NaN                NaN   \n",
       "\n",
       "  venue.location.lng venue.location.venue_city  venue.location.venue_country  \\\n",
       "0                NaN                       NaN                           NaN   \n",
       "1           -81.0281                  Columbia                 United States   \n",
       "2                NaN                       NaN                           NaN   \n",
       "3           -86.8100                  Franklin                 United States   \n",
       "4                NaN                       NaN                           NaN   \n",
       "\n",
       "   venue.location.venue_state venue.primary_category venue.venue_id  \\\n",
       "0                         NaN                    NaN            NaN   \n",
       "1                          SC         Nightlife Spot      1859021.0   \n",
       "2                         NaN                    NaN            NaN   \n",
       "3                          TN         Nightlife Spot      9496119.0   \n",
       "4                         NaN                    NaN            NaN   \n",
       "\n",
       "   checkin_comment                       created_at  \n",
       "0                   Sat, 19 Oct 2019 11:33:05 +0000  \n",
       "1                   Sat, 19 Oct 2019 03:37:37 +0000  \n",
       "2                   Sat, 19 Oct 2019 03:36:06 +0000  \n",
       "3                   Sat, 19 Oct 2019 03:29:15 +0000  \n",
       "4                   Sat, 19 Oct 2019 03:26:22 +0000  \n",
       "\n",
       "[5 rows x 27 columns]"
      ]
     },
     "execution_count": 45,
     "metadata": {},
     "output_type": "execute_result"
    }
   ],
   "source": [
    "beer_cat.head()"
   ]
  },
  {
   "cell_type": "code",
   "execution_count": 64,
   "metadata": {
    "collapsed": false
   },
   "outputs": [],
   "source": [
    "beer_cat.to_csv('capstone_1/beercat.csv')"
   ]
  },
  {
   "cell_type": "code",
   "execution_count": null,
   "metadata": {
    "collapsed": true
   },
   "outputs": [],
   "source": []
  }
 ],
 "metadata": {
  "kernelspec": {
   "display_name": "Python 3",
   "language": "python",
   "name": "python3"
  },
  "language_info": {
   "codemirror_mode": {
    "name": "ipython",
    "version": 3
   },
   "file_extension": ".py",
   "mimetype": "text/x-python",
   "name": "python",
   "nbconvert_exporter": "python",
   "pygments_lexer": "ipython3",
   "version": "3.6.9"
  }
 },
 "nbformat": 4,
 "nbformat_minor": 2
}
