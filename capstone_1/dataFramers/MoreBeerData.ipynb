{
 "cells": [
  {
   "cell_type": "markdown",
   "metadata": {},
   "source": [
    "## Glue more beer checkins onto the big dataframe"
   ]
  },
  {
   "cell_type": "code",
   "execution_count": 1,
   "metadata": {
    "collapsed": true
   },
   "outputs": [],
   "source": [
    "import pandas as pd\n"
   ]
  },
  {
   "cell_type": "markdown",
   "metadata": {},
   "source": [
    "Separate the 'description' column  \n",
    "##### ========================================================================================"
   ]
  },
  {
   "cell_type": "code",
   "execution_count": 3,
   "metadata": {
    "collapsed": false
   },
   "outputs": [
    {
     "data": {
      "text/html": [
       "<div>\n",
       "<style scoped>\n",
       "    .dataframe tbody tr th:only-of-type {\n",
       "        vertical-align: middle;\n",
       "    }\n",
       "\n",
       "    .dataframe tbody tr th {\n",
       "        vertical-align: top;\n",
       "    }\n",
       "\n",
       "    .dataframe thead th {\n",
       "        text-align: right;\n",
       "    }\n",
       "</style>\n",
       "<table border=\"1\" class=\"dataframe\">\n",
       "  <thead>\n",
       "    <tr style=\"text-align: right;\">\n",
       "      <th></th>\n",
       "      <th>checkin_id</th>\n",
       "      <th>beer_id</th>\n",
       "      <th>user_id</th>\n",
       "      <th>rating_user</th>\n",
       "      <th>brewery_name</th>\n",
       "      <th>beer_name</th>\n",
       "      <th>beer_style</th>\n",
       "      <th>brewery_id</th>\n",
       "      <th>brewery_type</th>\n",
       "      <th>brewery_country</th>\n",
       "      <th>...</th>\n",
       "      <th>venue_country</th>\n",
       "      <th>venue_state</th>\n",
       "      <th>venue_cat</th>\n",
       "      <th>venue_id</th>\n",
       "      <th>checkin_comment</th>\n",
       "      <th>venue_type</th>\n",
       "      <th>rating_global</th>\n",
       "      <th>description</th>\n",
       "      <th>abv</th>\n",
       "      <th>date</th>\n",
       "    </tr>\n",
       "  </thead>\n",
       "  <tbody>\n",
       "    <tr>\n",
       "      <th>0</th>\n",
       "      <td>843971771</td>\n",
       "      <td>526725</td>\n",
       "      <td>1373368</td>\n",
       "      <td>3.75</td>\n",
       "      <td>Wicks Brewing</td>\n",
       "      <td>Battle Cry IPA</td>\n",
       "      <td>IPA - American</td>\n",
       "      <td>44236</td>\n",
       "      <td>Brew Pub</td>\n",
       "      <td>United States</td>\n",
       "      <td>...</td>\n",
       "      <td>United States</td>\n",
       "      <td>CA</td>\n",
       "      <td>[]</td>\n",
       "      <td>3966054.0</td>\n",
       "      <td>NaN</td>\n",
       "      <td>Nightlife Spot</td>\n",
       "      <td>3.63385</td>\n",
       "      <td>NaN</td>\n",
       "      <td>6.8</td>\n",
       "      <td>2019-12-21 05:52:07+00:00</td>\n",
       "    </tr>\n",
       "    <tr>\n",
       "      <th>1</th>\n",
       "      <td>843407973</td>\n",
       "      <td>526725</td>\n",
       "      <td>3484155</td>\n",
       "      <td>3.50</td>\n",
       "      <td>Wicks Brewing</td>\n",
       "      <td>Battle Cry IPA</td>\n",
       "      <td>IPA - American</td>\n",
       "      <td>44236</td>\n",
       "      <td>Brew Pub</td>\n",
       "      <td>United States</td>\n",
       "      <td>...</td>\n",
       "      <td>United States</td>\n",
       "      <td>CA</td>\n",
       "      <td>[]</td>\n",
       "      <td>9586831.0</td>\n",
       "      <td>Brewed for the House.</td>\n",
       "      <td>Arts &amp; Entertainment</td>\n",
       "      <td>3.63385</td>\n",
       "      <td>NaN</td>\n",
       "      <td>6.8</td>\n",
       "      <td>2019-12-20 04:26:42+00:00</td>\n",
       "    </tr>\n",
       "    <tr>\n",
       "      <th>2</th>\n",
       "      <td>843380508</td>\n",
       "      <td>526725</td>\n",
       "      <td>342359</td>\n",
       "      <td>4.00</td>\n",
       "      <td>Wicks Brewing</td>\n",
       "      <td>Battle Cry IPA</td>\n",
       "      <td>IPA - American</td>\n",
       "      <td>44236</td>\n",
       "      <td>Brew Pub</td>\n",
       "      <td>United States</td>\n",
       "      <td>...</td>\n",
       "      <td>United States</td>\n",
       "      <td>CA</td>\n",
       "      <td>[]</td>\n",
       "      <td>3966054.0</td>\n",
       "      <td>NaN</td>\n",
       "      <td>Nightlife Spot</td>\n",
       "      <td>3.63385</td>\n",
       "      <td>NaN</td>\n",
       "      <td>6.8</td>\n",
       "      <td>2019-12-20 02:52:06+00:00</td>\n",
       "    </tr>\n",
       "    <tr>\n",
       "      <th>3</th>\n",
       "      <td>837180407</td>\n",
       "      <td>526725</td>\n",
       "      <td>6700685</td>\n",
       "      <td>4.50</td>\n",
       "      <td>Wicks Brewing</td>\n",
       "      <td>Battle Cry IPA</td>\n",
       "      <td>IPA - American</td>\n",
       "      <td>44236</td>\n",
       "      <td>Brew Pub</td>\n",
       "      <td>United States</td>\n",
       "      <td>...</td>\n",
       "      <td>NaN</td>\n",
       "      <td>NaN</td>\n",
       "      <td>[]</td>\n",
       "      <td>NaN</td>\n",
       "      <td>NaN</td>\n",
       "      <td>NaN</td>\n",
       "      <td>3.63385</td>\n",
       "      <td>NaN</td>\n",
       "      <td>6.8</td>\n",
       "      <td>2019-12-03 21:53:09+00:00</td>\n",
       "    </tr>\n",
       "    <tr>\n",
       "      <th>4</th>\n",
       "      <td>836736462</td>\n",
       "      <td>526725</td>\n",
       "      <td>3094250</td>\n",
       "      <td>3.50</td>\n",
       "      <td>Wicks Brewing</td>\n",
       "      <td>Battle Cry IPA</td>\n",
       "      <td>IPA - American</td>\n",
       "      <td>44236</td>\n",
       "      <td>Brew Pub</td>\n",
       "      <td>United States</td>\n",
       "      <td>...</td>\n",
       "      <td>NaN</td>\n",
       "      <td>NaN</td>\n",
       "      <td>[]</td>\n",
       "      <td>NaN</td>\n",
       "      <td>NaN</td>\n",
       "      <td>NaN</td>\n",
       "      <td>3.63385</td>\n",
       "      <td>NaN</td>\n",
       "      <td>6.8</td>\n",
       "      <td>2019-12-01 21:53:24+00:00</td>\n",
       "    </tr>\n",
       "  </tbody>\n",
       "</table>\n",
       "<p>5 rows × 27 columns</p>\n",
       "</div>"
      ],
      "text/plain": [
       "   checkin_id  beer_id  user_id  rating_user   brewery_name       beer_name  \\\n",
       "0   843971771   526725  1373368         3.75  Wicks Brewing  Battle Cry IPA   \n",
       "1   843407973   526725  3484155         3.50  Wicks Brewing  Battle Cry IPA   \n",
       "2   843380508   526725   342359         4.00  Wicks Brewing  Battle Cry IPA   \n",
       "3   837180407   526725  6700685         4.50  Wicks Brewing  Battle Cry IPA   \n",
       "4   836736462   526725  3094250         3.50  Wicks Brewing  Battle Cry IPA   \n",
       "\n",
       "       beer_style  brewery_id brewery_type brewery_country  ...  \\\n",
       "0  IPA - American       44236     Brew Pub   United States  ...   \n",
       "1  IPA - American       44236     Brew Pub   United States  ...   \n",
       "2  IPA - American       44236     Brew Pub   United States  ...   \n",
       "3  IPA - American       44236     Brew Pub   United States  ...   \n",
       "4  IPA - American       44236     Brew Pub   United States  ...   \n",
       "\n",
       "   venue_country venue_state  venue_cat   venue_id        checkin_comment  \\\n",
       "0  United States          CA         []  3966054.0                    NaN   \n",
       "1  United States          CA         []  9586831.0  Brewed for the House.   \n",
       "2  United States          CA         []  3966054.0                    NaN   \n",
       "3            NaN         NaN         []        NaN                    NaN   \n",
       "4            NaN         NaN         []        NaN                    NaN   \n",
       "\n",
       "             venue_type rating_global description  abv  \\\n",
       "0        Nightlife Spot       3.63385         NaN  6.8   \n",
       "1  Arts & Entertainment       3.63385         NaN  6.8   \n",
       "2        Nightlife Spot       3.63385         NaN  6.8   \n",
       "3                   NaN       3.63385         NaN  6.8   \n",
       "4                   NaN       3.63385         NaN  6.8   \n",
       "\n",
       "                        date  \n",
       "0  2019-12-21 05:52:07+00:00  \n",
       "1  2019-12-20 04:26:42+00:00  \n",
       "2  2019-12-20 02:52:06+00:00  \n",
       "3  2019-12-03 21:53:09+00:00  \n",
       "4  2019-12-01 21:53:24+00:00  \n",
       "\n",
       "[5 rows x 27 columns]"
      ]
     },
     "execution_count": 3,
     "metadata": {},
     "output_type": "execute_result"
    }
   ],
   "source": [
    "bdf = pd.read_csv('bigBeerFrame.csv')\n",
    "bdf.head()"
   ]
  },
  {
   "cell_type": "code",
   "execution_count": 4,
   "metadata": {
    "collapsed": true
   },
   "outputs": [],
   "source": [
    "# make a new frame just for the descriptions\n",
    "description = pd.DataFrame({'beer_id': bdf.beer_id, 'beer_description': bdf.description})"
   ]
  },
  {
   "cell_type": "code",
   "execution_count": 5,
   "metadata": {
    "collapsed": false
   },
   "outputs": [
    {
     "data": {
      "text/plain": [
       "(1425447, 3)"
      ]
     },
     "execution_count": 5,
     "metadata": {},
     "output_type": "execute_result"
    }
   ],
   "source": [
    "bigframe_descrips = pd.read_csv('descriptions.csv')\n",
    "bigframe_descrips.shape"
   ]
  },
  {
   "cell_type": "code",
   "execution_count": 6,
   "metadata": {
    "collapsed": false
   },
   "outputs": [
    {
     "data": {
      "text/plain": [
       "Index(['Unnamed: 0', 'beer_id', 'beer_description'], dtype='object')"
      ]
     },
     "execution_count": 6,
     "metadata": {},
     "output_type": "execute_result"
    }
   ],
   "source": [
    "bigframe_descrips.columns"
   ]
  },
  {
   "cell_type": "code",
   "execution_count": 8,
   "metadata": {
    "collapsed": false
   },
   "outputs": [],
   "source": [
    "bigframe_descrips = bigframe_descrips[bigframe_descrips.columns[1:]]"
   ]
  },
  {
   "cell_type": "code",
   "execution_count": 24,
   "metadata": {
    "collapsed": true
   },
   "outputs": [],
   "source": [
    "descrips = pd.concat([bigframe_descrips, description])"
   ]
  },
  {
   "cell_type": "code",
   "execution_count": 25,
   "metadata": {
    "collapsed": false
   },
   "outputs": [
    {
     "data": {
      "text/plain": [
       "(2061965, 2)"
      ]
     },
     "execution_count": 25,
     "metadata": {},
     "output_type": "execute_result"
    }
   ],
   "source": [
    "descrips.shape"
   ]
  },
  {
   "cell_type": "code",
   "execution_count": 26,
   "metadata": {
    "collapsed": false
   },
   "outputs": [
    {
     "data": {
      "text/plain": [
       "(1504358, 2)"
      ]
     },
     "execution_count": 26,
     "metadata": {},
     "output_type": "execute_result"
    }
   ],
   "source": [
    "# remove NaN's first and then remove duplicates.\n",
    "descrips.dropna(inplace=True)\n",
    "descrips.shape"
   ]
  },
  {
   "cell_type": "code",
   "execution_count": 27,
   "metadata": {
    "collapsed": false
   },
   "outputs": [],
   "source": [
    "descrips = descrips.drop_duplicates(subset=['beer_id','beer_description'])"
   ]
  },
  {
   "cell_type": "code",
   "execution_count": 28,
   "metadata": {
    "collapsed": false
   },
   "outputs": [
    {
     "data": {
      "text/plain": [
       "(114348, 2)"
      ]
     },
     "execution_count": 28,
     "metadata": {},
     "output_type": "execute_result"
    }
   ],
   "source": [
    "descrips.shape"
   ]
  },
  {
   "cell_type": "code",
   "execution_count": 38,
   "metadata": {
    "collapsed": false
   },
   "outputs": [
    {
     "data": {
      "text/plain": [
       "beer_id\n",
       "3366861    2\n",
       "3540435    1\n",
       "2019667    1\n",
       "2019896    1\n",
       "2019929    1\n",
       "dtype: int64"
      ]
     },
     "execution_count": 38,
     "metadata": {},
     "output_type": "execute_result"
    }
   ],
   "source": [
    "descrips.groupby('beer_id').size().sort_values(ascending=False)[:5]"
   ]
  },
  {
   "cell_type": "code",
   "execution_count": 37,
   "metadata": {
    "collapsed": false
   },
   "outputs": [
    {
     "data": {
      "text/html": [
       "<div>\n",
       "<style scoped>\n",
       "    .dataframe tbody tr th:only-of-type {\n",
       "        vertical-align: middle;\n",
       "    }\n",
       "\n",
       "    .dataframe tbody tr th {\n",
       "        vertical-align: top;\n",
       "    }\n",
       "\n",
       "    .dataframe thead th {\n",
       "        text-align: right;\n",
       "    }\n",
       "</style>\n",
       "<table border=\"1\" class=\"dataframe\">\n",
       "  <thead>\n",
       "    <tr style=\"text-align: right;\">\n",
       "      <th></th>\n",
       "      <th>beer_id</th>\n",
       "      <th>beer_description</th>\n",
       "    </tr>\n",
       "  </thead>\n",
       "  <tbody>\n",
       "    <tr>\n",
       "      <th>627</th>\n",
       "      <td>3366861</td>\n",
       "      <td>Limited Edition New England Style Double Hazy ...</td>\n",
       "    </tr>\n",
       "    <tr>\n",
       "      <th>135678</th>\n",
       "      <td>3366861</td>\n",
       "      <td>After 23 years of coastal vibes, we’ve got ple...</td>\n",
       "    </tr>\n",
       "  </tbody>\n",
       "</table>\n",
       "</div>"
      ],
      "text/plain": [
       "        beer_id                                   beer_description\n",
       "627     3366861  Limited Edition New England Style Double Hazy ...\n",
       "135678  3366861  After 23 years of coastal vibes, we’ve got ple..."
      ]
     },
     "execution_count": 37,
     "metadata": {},
     "output_type": "execute_result"
    }
   ],
   "source": [
    "descrips[descrips.beer_id == 3366861]"
   ]
  },
  {
   "cell_type": "code",
   "execution_count": 39,
   "metadata": {
    "collapsed": false
   },
   "outputs": [
    {
     "data": {
      "text/plain": [
       "(114347, 2)"
      ]
     },
     "execution_count": 39,
     "metadata": {},
     "output_type": "execute_result"
    }
   ],
   "source": [
    "# just that one beer has two different descriptions.\n",
    "descrips = descrips.drop_duplicates(subset=['beer_id'])\n",
    "descrips.shape"
   ]
  },
  {
   "cell_type": "code",
   "execution_count": 40,
   "metadata": {
    "collapsed": true
   },
   "outputs": [],
   "source": [
    "descrips.to_csv('descriptions.csv', index=False)"
   ]
  },
  {
   "cell_type": "code",
   "execution_count": 41,
   "metadata": {
    "collapsed": false
   },
   "outputs": [
    {
     "data": {
      "text/plain": [
       "Index(['checkin_id', 'beer_id', 'user_id', 'rating_user', 'brewery_name',\n",
       "       'beer_name', 'beer_style', 'brewery_id', 'brewery_type',\n",
       "       'brewery_country', 'brewery_city', 'brewery_state', 'brewery_lat',\n",
       "       'brewery_lon', 'venue_lat', 'venue_lon', 'venue_city', 'venue_country',\n",
       "       'venue_state', 'venue_cat', 'venue_id', 'checkin_comment', 'venue_type',\n",
       "       'rating_global', 'description', 'abv', 'date'],\n",
       "      dtype='object')"
      ]
     },
     "execution_count": 41,
     "metadata": {},
     "output_type": "execute_result"
    }
   ],
   "source": [
    "bdf.columns"
   ]
  },
  {
   "cell_type": "code",
   "execution_count": 43,
   "metadata": {
    "collapsed": true
   },
   "outputs": [],
   "source": [
    "bdf.drop('description', axis=1, inplace=True)"
   ]
  },
  {
   "cell_type": "markdown",
   "metadata": {},
   "source": [
    "##### ============================================================================"
   ]
  },
  {
   "cell_type": "code",
   "execution_count": 46,
   "metadata": {
    "collapsed": false
   },
   "outputs": [
    {
     "data": {
      "text/plain": [
       "(1425447, 27)"
      ]
     },
     "execution_count": 46,
     "metadata": {},
     "output_type": "execute_result"
    }
   ],
   "source": [
    "df = pd.read_csv('bigframe.csv')\n",
    "df.shape"
   ]
  },
  {
   "cell_type": "code",
   "execution_count": 48,
   "metadata": {
    "collapsed": false
   },
   "outputs": [],
   "source": [
    "df.drop('Unnamed: 0', axis=1, inplace=True)"
   ]
  },
  {
   "cell_type": "code",
   "execution_count": 50,
   "metadata": {
    "collapsed": false
   },
   "outputs": [
    {
     "name": "stdout",
     "output_type": "stream",
     "text": [
      "[]\n",
      "[]\n"
     ]
    }
   ],
   "source": [
    "print([c for c in df.columns if c not in bdf.columns])\n",
    "print([c for c in bdf.columns if c not in df.columns])"
   ]
  },
  {
   "cell_type": "markdown",
   "metadata": {},
   "source": [
    "Make sure formats line up"
   ]
  },
  {
   "cell_type": "markdown",
   "metadata": {},
   "source": [
    "Looks like I crossed up labels for 'venue_cat' and 'venue_type' for bdf, so need to switch them back."
   ]
  },
  {
   "cell_type": "code",
   "execution_count": 72,
   "metadata": {
    "collapsed": false
   },
   "outputs": [],
   "source": [
    "bdf['venue_cat'] = bdf.venue_type\n",
    "bdf['venue_type'] = ['[]' for _ in bdf.venue_type]  # stringy list, to match df"
   ]
  },
  {
   "cell_type": "code",
   "execution_count": 74,
   "metadata": {
    "collapsed": true
   },
   "outputs": [],
   "source": [
    "combo = pd.concat([df, bdf])"
   ]
  },
  {
   "cell_type": "code",
   "execution_count": 75,
   "metadata": {
    "collapsed": false
   },
   "outputs": [
    {
     "data": {
      "text/plain": [
       "(2061965, 26)"
      ]
     },
     "execution_count": 75,
     "metadata": {},
     "output_type": "execute_result"
    }
   ],
   "source": [
    "combo.shape"
   ]
  },
  {
   "cell_type": "code",
   "execution_count": 76,
   "metadata": {
    "collapsed": true
   },
   "outputs": [],
   "source": [
    "combo.to_csv('comboframe.csv', index=False)"
   ]
  },
  {
   "cell_type": "code",
   "execution_count": null,
   "metadata": {
    "collapsed": true
   },
   "outputs": [],
   "source": []
  }
 ],
 "metadata": {
  "kernelspec": {
   "display_name": "Python 3",
   "language": "python",
   "name": "python3"
  },
  "language_info": {
   "codemirror_mode": {
    "name": "ipython",
    "version": 3
   },
   "file_extension": ".py",
   "mimetype": "text/x-python",
   "name": "python",
   "nbconvert_exporter": "python",
   "pygments_lexer": "ipython3",
   "version": "3.6.9"
  }
 },
 "nbformat": 4,
 "nbformat_minor": 2
}
