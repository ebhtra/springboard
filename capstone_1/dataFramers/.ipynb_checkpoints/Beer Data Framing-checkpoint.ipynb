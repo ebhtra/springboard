{
 "cells": [
  {
   "cell_type": "markdown",
   "metadata": {},
   "source": [
    "## Turn pickled Untappd User Feed data into Pandas DF's"
   ]
  },
  {
   "cell_type": "code",
   "execution_count": 1,
   "metadata": {
    "collapsed": false
   },
   "outputs": [
    {
     "name": "stdout",
     "output_type": "stream",
     "text": [
      "userFeedDicts.pkl         userFeedDicts_part_2.pkl  userFeedDicts_part_6.pkl\r\n",
      "userFeedDicts_part_10.pkl userFeedDicts_part_3.pkl  userFeedDicts_part_7.pkl\r\n",
      "userFeedDicts_part_11.pkl userFeedDicts_part_4.pkl  userFeedDicts_part_8.pkl\r\n",
      "userFeedDicts_part_12.pkl userFeedDicts_part_5.pkl  userFeedDicts_part_9.pkl\r\n"
     ]
    }
   ],
   "source": [
    "!ls capstone_1/userFeeds/"
   ]
  },
  {
   "cell_type": "markdown",
   "metadata": {},
   "source": [
    "### ... and Beer Feed data as well"
   ]
  },
  {
   "cell_type": "code",
   "execution_count": 4,
   "metadata": {
    "collapsed": false
   },
   "outputs": [
    {
     "name": "stdout",
     "output_type": "stream",
     "text": [
      "beerInfoDict.pkl  beerInfoDict3.pkl beerInfoDict5.pkl\r\n",
      "beerInfoDict2.pkl beerInfoDict4.pkl beerInfoDict6.pkl\r\n"
     ]
    }
   ],
   "source": [
    "!ls ../beerFeeds/"
   ]
  },
  {
   "cell_type": "code",
   "execution_count": 5,
   "metadata": {
    "collapsed": true
   },
   "outputs": [],
   "source": [
    "import pandas as pd\n",
    "import pickle"
   ]
  },
  {
   "cell_type": "code",
   "execution_count": 7,
   "metadata": {
    "collapsed": true
   },
   "outputs": [],
   "source": [
    "# running this manually and iterating this variable every time\n",
    "part = ''"
   ]
  },
  {
   "cell_type": "code",
   "execution_count": 8,
   "metadata": {
    "collapsed": false
   },
   "outputs": [
    {
     "name": "stdout",
     "output_type": "stream",
     "text": [
      "<class 'dict'> 3177\n"
     ]
    }
   ],
   "source": [
    "with open(f'../beerFeeds/beerInfoDict{part}.pkl', 'rb') as f:\n",
    "    feed = pickle.load(f)\n",
    "\n",
    "print(type(feed), len(feed))"
   ]
  },
  {
   "cell_type": "code",
   "execution_count": 10,
   "metadata": {
    "collapsed": false
   },
   "outputs": [
    {
     "data": {
      "text/plain": [
       "3314111"
      ]
     },
     "execution_count": 10,
     "metadata": {},
     "output_type": "execute_result"
    }
   ],
   "source": [
    "list(feed.keys())[0]  # first beer_id in the feed"
   ]
  },
  {
   "cell_type": "code",
   "execution_count": 12,
   "metadata": {
    "collapsed": false
   },
   "outputs": [
    {
     "data": {
      "text/plain": [
       "dict"
      ]
     },
     "execution_count": 12,
     "metadata": {},
     "output_type": "execute_result"
    }
   ],
   "source": [
    "type(feed[3314111])"
   ]
  },
  {
   "cell_type": "code",
   "execution_count": 16,
   "metadata": {
    "collapsed": false
   },
   "outputs": [
    {
     "data": {
      "text/plain": [
       "dict_keys(['bid', 'beer_name', 'beer_label', 'beer_label_hd', 'beer_abv', 'beer_ibu', 'beer_description', 'beer_style', 'is_in_production', 'beer_slug', 'is_homebrew', 'created_at', 'rating_count', 'rating_score', 'stats', 'brewery', 'auth_rating', 'wish_list', 'media', 'checkins', 'similar', 'friends', 'weighted_rating_score', 'beer_active', 'vintages', 'brewed_by'])"
      ]
     },
     "execution_count": 16,
     "metadata": {},
     "output_type": "execute_result"
    }
   ],
   "source": [
    "feed[3314111]['beer'].keys()"
   ]
  },
  {
   "cell_type": "code",
   "execution_count": 18,
   "metadata": {
    "collapsed": false
   },
   "outputs": [
    {
     "data": {
      "text/plain": [
       "dict_keys(['count', 'items', 'pagination'])"
      ]
     },
     "execution_count": 18,
     "metadata": {},
     "output_type": "execute_result"
    }
   ],
   "source": [
    "feed[3314111]['beer']['checkins'].keys()"
   ]
  },
  {
   "cell_type": "code",
   "execution_count": 21,
   "metadata": {
    "collapsed": false
   },
   "outputs": [
    {
     "data": {
      "text/plain": [
       "dict_keys(['checkin_id', 'created_at', 'checkin_comment', 'rating_score', 'user', 'beer', 'brewery', 'venue', 'comments', 'toasts', 'media', 'source', 'badges'])"
      ]
     },
     "execution_count": 21,
     "metadata": {},
     "output_type": "execute_result"
    }
   ],
   "source": [
    "feed[3314111]['beer']['checkins']['items'][0].keys()"
   ]
  },
  {
   "cell_type": "markdown",
   "metadata": {},
   "source": [
    "Should probably just try to build frames with same columns as 'bigframe.csv' and then concat them."
   ]
  },
  {
   "cell_type": "markdown",
   "metadata": {},
   "source": [
    "##### 'checkin_id', 'beer_id', 'user_id', 'rating_user',  \n",
    "##### 'brewery_name', 'beer_name', 'beer_style', 'brewery_id',   \n",
    "##### 'brewery_type', 'brewery_country', 'brewery_city', 'brewery_state', 'brewery_lat',\n",
    "##### 'brewery_lon', 'venue_lat', 'venue_lon', 'venue_city', 'venue_country',\n",
    "##### 'venue_state', 'venue_cat', 'venue_id', 'checkin_comment', 'venue_type',\n",
    "##### 'rating_global', 'abv', 'date'"
   ]
  },
  {
   "cell_type": "code",
   "execution_count": 26,
   "metadata": {
    "collapsed": false
   },
   "outputs": [
    {
     "data": {
      "text/plain": [
       "{'categories': {'count': 4,\n",
       "  'items': [{'category_id': '50327c8591d4c4b30a586d5d',\n",
       "    'category_key': 'brewery',\n",
       "    'category_name': 'Brewery',\n",
       "    'is_primary': True},\n",
       "   {'category_id': '4bf58dd8d48988d117941735',\n",
       "    'category_key': 'beer_garden',\n",
       "    'category_name': 'Beer Garden',\n",
       "    'is_primary': False},\n",
       "   {'category_id': '4bf58dd8d48988d171941735',\n",
       "    'category_key': 'event_space',\n",
       "    'category_name': 'Event Space',\n",
       "    'is_primary': False},\n",
       "   {'category_id': '4bf58dd8d48988d1e5931735',\n",
       "    'category_key': 'music_venue',\n",
       "    'category_name': 'Music Venue',\n",
       "    'is_primary': False}]},\n",
       " 'contact': {'twitter': '@Hardywood', 'venue_url': 'hardywood.com'},\n",
       " 'foursquare': {'foursquare_id': '4e17620b922ed1579e8ffa06',\n",
       "  'foursquare_url': 'http://4sq.com/oBQYW9'},\n",
       " 'is_verified': True,\n",
       " 'location': {'lat': 37.5648,\n",
       "  'lng': -77.4571,\n",
       "  'venue_address': '2408-2410 Ownby Ln',\n",
       "  'venue_city': 'Richmond',\n",
       "  'venue_country': 'United States',\n",
       "  'venue_state': 'VA'},\n",
       " 'parent_category_id': '4d4b7105d754a06376d81259',\n",
       " 'primary_category': 'Nightlife Spot',\n",
       " 'primary_category_key': 'Nightlife Spot',\n",
       " 'venue_icon': {'lg': 'https://untappd.akamaized.net/venuelogos/venue_96675_f1bca67b_bg_176.png?v=1',\n",
       "  'md': 'https://untappd.akamaized.net/venuelogos/venue_96675_f1bca67b_bg_88.png',\n",
       "  'sm': 'https://untappd.akamaized.net/venuelogos/venue_96675_f1bca67b_bg_64.png'},\n",
       " 'venue_id': 96675,\n",
       " 'venue_name': 'Hardywood Park Craft Brewery',\n",
       " 'venue_slug': 'hardywood-park-craft-brewery'}"
      ]
     },
     "execution_count": 26,
     "metadata": {},
     "output_type": "execute_result"
    }
   ],
   "source": [
    "feed[3314111]['beer']['checkins']['items'][0]['venue']"
   ]
  },
  {
   "cell_type": "code",
   "execution_count": 24,
   "metadata": {
    "collapsed": false
   },
   "outputs": [
    {
     "data": {
      "text/plain": [
       "{'brewery_id': 16167,\n",
       " 'brewery_label': 'https://untappd.akamaized.net/site/brewery_logos/brewery-16167_23bb8.jpeg',\n",
       " 'brewery_name': 'Hardywood Park Craft Brewery',\n",
       " 'brewery_page_url': '/hardywood',\n",
       " 'brewery_slug': 'hardywood-park-craft-brewery',\n",
       " 'brewery_type': 'Regional Brewery',\n",
       " 'contact': {'facebook': 'http://www.facebook.com/hardywoodbeer',\n",
       "  'twitter': 'hardywood',\n",
       "  'url': 'http://www.hardywood.com'},\n",
       " 'country_name': 'United States',\n",
       " 'location': {'brewery_city': 'Richmond',\n",
       "  'brewery_state': 'VA',\n",
       "  'lat': 37.5637,\n",
       "  'lng': -77.4603}}"
      ]
     },
     "execution_count": 24,
     "metadata": {},
     "output_type": "execute_result"
    }
   ],
   "source": [
    "feed[3314111]['beer']['brewery']"
   ]
  },
  {
   "cell_type": "code",
   "execution_count": 27,
   "metadata": {
    "collapsed": true
   },
   "outputs": [],
   "source": [
    "from tqdm import tqdm"
   ]
  },
  {
   "cell_type": "code",
   "execution_count": 79,
   "metadata": {
    "collapsed": true
   },
   "outputs": [],
   "source": [
    "keep_cols = ['beer.beer_abv',\n",
    "       'beer.beer_description','beer.beer_name',\n",
    "       'beer.beer_style', 'beer.bid','brewery.brewery_id','brewery.brewery_name',\n",
    "       'brewery.country_name',\n",
    "       'brewery.location.brewery_city', 'brewery.location.brewery_state',\n",
    "       'brewery.location.lat', 'brewery.location.lng', 'checkin_comment',\n",
    "       'checkin_id', 'created_at',\n",
    "       'rating_score', 'user.uid','venue.location.lat', 'venue.location.lng',\n",
    "       'venue.location.venue_city',\n",
    "       'venue.location.venue_country', 'venue.location.venue_state',\n",
    "       'venue.primary_category',\n",
    "       'venue.venue_id']"
   ]
  },
  {
   "cell_type": "code",
   "execution_count": 76,
   "metadata": {
    "collapsed": true
   },
   "outputs": [],
   "source": [
    "#del feed[3314111]  # this one only had one fewer level of keys"
   ]
  },
  {
   "cell_type": "markdown",
   "metadata": {},
   "source": [
    "Trying the 'shortcut' of using pd.io.json.json_normalize, as below, the time required is way too long:"
   ]
  },
  {
   "cell_type": "code",
   "execution_count": 80,
   "metadata": {
    "collapsed": false
   },
   "outputs": [
    {
     "name": "stderr",
     "output_type": "stream",
     "text": [
      "\n",
      "  0%|          | 1/3176 [00:30<26:55:17, 30.53s/it]\n",
      "  1%|          | 16/3176 [05:37<22:09:06, 25.24s/it]"
     ]
    },
    {
     "ename": "KeyboardInterrupt",
     "evalue": "",
     "output_type": "error",
     "traceback": [
      "\u001b[0;31m---------------------------------------------------------------------------\u001b[0m",
      "\u001b[0;31mKeyboardInterrupt\u001b[0m                         Traceback (most recent call last)",
      "\u001b[0;32m<ipython-input-80-86c4f81b2060>\u001b[0m in \u001b[0;36m<module>\u001b[0;34m()\u001b[0m\n\u001b[1;32m      3\u001b[0m     \u001b[0mbdf\u001b[0m \u001b[0;34m=\u001b[0m \u001b[0mpd\u001b[0m\u001b[0;34m.\u001b[0m\u001b[0mio\u001b[0m\u001b[0;34m.\u001b[0m\u001b[0mjson\u001b[0m\u001b[0;34m.\u001b[0m\u001b[0mjson_normalize\u001b[0m\u001b[0;34m(\u001b[0m\u001b[0mfeed\u001b[0m\u001b[0;34m[\u001b[0m\u001b[0mbeer\u001b[0m\u001b[0;34m]\u001b[0m\u001b[0;34m[\u001b[0m\u001b[0;34m'response'\u001b[0m\u001b[0;34m]\u001b[0m\u001b[0;34m[\u001b[0m\u001b[0;34m'beer'\u001b[0m\u001b[0;34m]\u001b[0m\u001b[0;34m[\u001b[0m\u001b[0;34m'checkins'\u001b[0m\u001b[0;34m]\u001b[0m\u001b[0;34m[\u001b[0m\u001b[0;34m'items'\u001b[0m\u001b[0;34m]\u001b[0m\u001b[0;34m)\u001b[0m\u001b[0;34m\u001b[0m\u001b[0;34m\u001b[0m\u001b[0m\n\u001b[1;32m      4\u001b[0m     \u001b[0mbdf\u001b[0m \u001b[0;34m=\u001b[0m \u001b[0mbdf\u001b[0m\u001b[0;34m[\u001b[0m\u001b[0mkeep_cols\u001b[0m\u001b[0;34m]\u001b[0m\u001b[0;34m\u001b[0m\u001b[0;34m\u001b[0m\u001b[0m\n\u001b[0;32m----> 5\u001b[0;31m     \u001b[0mbdf\u001b[0m\u001b[0;34m[\u001b[0m\u001b[0;34m'brewery_type'\u001b[0m\u001b[0;34m]\u001b[0m \u001b[0;34m=\u001b[0m \u001b[0mfeed\u001b[0m\u001b[0;34m[\u001b[0m\u001b[0mbeer\u001b[0m\u001b[0;34m]\u001b[0m\u001b[0;34m[\u001b[0m\u001b[0;34m'response'\u001b[0m\u001b[0;34m]\u001b[0m\u001b[0;34m[\u001b[0m\u001b[0;34m'beer'\u001b[0m\u001b[0;34m]\u001b[0m\u001b[0;34m[\u001b[0m\u001b[0;34m'brewery'\u001b[0m\u001b[0;34m]\u001b[0m\u001b[0;34m[\u001b[0m\u001b[0;34m'brewery_type'\u001b[0m\u001b[0;34m]\u001b[0m\u001b[0;34m\u001b[0m\u001b[0;34m\u001b[0m\u001b[0m\n\u001b[0m\u001b[1;32m      6\u001b[0m     \u001b[0mbdf\u001b[0m\u001b[0;34m[\u001b[0m\u001b[0;34m'rating_global'\u001b[0m\u001b[0;34m]\u001b[0m \u001b[0;34m=\u001b[0m \u001b[0mfeed\u001b[0m\u001b[0;34m[\u001b[0m\u001b[0mbeer\u001b[0m\u001b[0;34m]\u001b[0m\u001b[0;34m[\u001b[0m\u001b[0;34m'response'\u001b[0m\u001b[0;34m]\u001b[0m\u001b[0;34m[\u001b[0m\u001b[0;34m'beer'\u001b[0m\u001b[0;34m]\u001b[0m\u001b[0;34m[\u001b[0m\u001b[0;34m'rating_score'\u001b[0m\u001b[0;34m]\u001b[0m\u001b[0;34m\u001b[0m\u001b[0;34m\u001b[0m\u001b[0m\n\u001b[1;32m      7\u001b[0m     \u001b[0meach_beer_df\u001b[0m\u001b[0;34m.\u001b[0m\u001b[0mappend\u001b[0m\u001b[0;34m(\u001b[0m\u001b[0mbdf\u001b[0m\u001b[0;34m)\u001b[0m\u001b[0;34m\u001b[0m\u001b[0;34m\u001b[0m\u001b[0m\n",
      "\u001b[0;32m/Applications/anaconda/lib/python3.6/site-packages/pandas/core/frame.py\u001b[0m in \u001b[0;36m__setitem__\u001b[0;34m(self, key, value)\u001b[0m\n\u001b[1;32m   3368\u001b[0m         \u001b[0;32melse\u001b[0m\u001b[0;34m:\u001b[0m\u001b[0;34m\u001b[0m\u001b[0;34m\u001b[0m\u001b[0m\n\u001b[1;32m   3369\u001b[0m             \u001b[0;31m# set column\u001b[0m\u001b[0;34m\u001b[0m\u001b[0;34m\u001b[0m\u001b[0;34m\u001b[0m\u001b[0m\n\u001b[0;32m-> 3370\u001b[0;31m             \u001b[0mself\u001b[0m\u001b[0;34m.\u001b[0m\u001b[0m_set_item\u001b[0m\u001b[0;34m(\u001b[0m\u001b[0mkey\u001b[0m\u001b[0;34m,\u001b[0m \u001b[0mvalue\u001b[0m\u001b[0;34m)\u001b[0m\u001b[0;34m\u001b[0m\u001b[0;34m\u001b[0m\u001b[0m\n\u001b[0m\u001b[1;32m   3371\u001b[0m \u001b[0;34m\u001b[0m\u001b[0m\n\u001b[1;32m   3372\u001b[0m     \u001b[0;32mdef\u001b[0m \u001b[0m_setitem_slice\u001b[0m\u001b[0;34m(\u001b[0m\u001b[0mself\u001b[0m\u001b[0;34m,\u001b[0m \u001b[0mkey\u001b[0m\u001b[0;34m,\u001b[0m \u001b[0mvalue\u001b[0m\u001b[0;34m)\u001b[0m\u001b[0;34m:\u001b[0m\u001b[0;34m\u001b[0m\u001b[0;34m\u001b[0m\u001b[0m\n",
      "\u001b[0;32m/Applications/anaconda/lib/python3.6/site-packages/pandas/core/frame.py\u001b[0m in \u001b[0;36m_set_item\u001b[0;34m(self, key, value)\u001b[0m\n\u001b[1;32m   3450\u001b[0m         \u001b[0;31m# value exception to occur first\u001b[0m\u001b[0;34m\u001b[0m\u001b[0;34m\u001b[0m\u001b[0;34m\u001b[0m\u001b[0m\n\u001b[1;32m   3451\u001b[0m         \u001b[0;32mif\u001b[0m \u001b[0mlen\u001b[0m\u001b[0;34m(\u001b[0m\u001b[0mself\u001b[0m\u001b[0;34m)\u001b[0m\u001b[0;34m:\u001b[0m\u001b[0;34m\u001b[0m\u001b[0;34m\u001b[0m\u001b[0m\n\u001b[0;32m-> 3452\u001b[0;31m             \u001b[0mself\u001b[0m\u001b[0;34m.\u001b[0m\u001b[0m_check_setitem_copy\u001b[0m\u001b[0;34m(\u001b[0m\u001b[0;34m)\u001b[0m\u001b[0;34m\u001b[0m\u001b[0;34m\u001b[0m\u001b[0m\n\u001b[0m\u001b[1;32m   3453\u001b[0m \u001b[0;34m\u001b[0m\u001b[0m\n\u001b[1;32m   3454\u001b[0m     \u001b[0;32mdef\u001b[0m \u001b[0minsert\u001b[0m\u001b[0;34m(\u001b[0m\u001b[0mself\u001b[0m\u001b[0;34m,\u001b[0m \u001b[0mloc\u001b[0m\u001b[0;34m,\u001b[0m \u001b[0mcolumn\u001b[0m\u001b[0;34m,\u001b[0m \u001b[0mvalue\u001b[0m\u001b[0;34m,\u001b[0m \u001b[0mallow_duplicates\u001b[0m\u001b[0;34m=\u001b[0m\u001b[0;32mFalse\u001b[0m\u001b[0;34m)\u001b[0m\u001b[0;34m:\u001b[0m\u001b[0;34m\u001b[0m\u001b[0;34m\u001b[0m\u001b[0m\n",
      "\u001b[0;32m/Applications/anaconda/lib/python3.6/site-packages/pandas/core/generic.py\u001b[0m in \u001b[0;36m_check_setitem_copy\u001b[0;34m(self, stacklevel, t, force)\u001b[0m\n\u001b[1;32m   3243\u001b[0m             \u001b[0;31m# the copy weakref\u001b[0m\u001b[0;34m\u001b[0m\u001b[0;34m\u001b[0m\u001b[0;34m\u001b[0m\u001b[0m\n\u001b[1;32m   3244\u001b[0m             \u001b[0;32mtry\u001b[0m\u001b[0;34m:\u001b[0m\u001b[0;34m\u001b[0m\u001b[0;34m\u001b[0m\u001b[0m\n\u001b[0;32m-> 3245\u001b[0;31m                 \u001b[0mgc\u001b[0m\u001b[0;34m.\u001b[0m\u001b[0mcollect\u001b[0m\u001b[0;34m(\u001b[0m\u001b[0;36m2\u001b[0m\u001b[0;34m)\u001b[0m\u001b[0;34m\u001b[0m\u001b[0;34m\u001b[0m\u001b[0m\n\u001b[0m\u001b[1;32m   3246\u001b[0m                 \u001b[0;32mif\u001b[0m \u001b[0;32mnot\u001b[0m \u001b[0mgc\u001b[0m\u001b[0;34m.\u001b[0m\u001b[0mget_referents\u001b[0m\u001b[0;34m(\u001b[0m\u001b[0mself\u001b[0m\u001b[0;34m.\u001b[0m\u001b[0m_is_copy\u001b[0m\u001b[0;34m(\u001b[0m\u001b[0;34m)\u001b[0m\u001b[0;34m)\u001b[0m\u001b[0;34m:\u001b[0m\u001b[0;34m\u001b[0m\u001b[0;34m\u001b[0m\u001b[0m\n\u001b[1;32m   3247\u001b[0m                     \u001b[0mself\u001b[0m\u001b[0;34m.\u001b[0m\u001b[0m_is_copy\u001b[0m \u001b[0;34m=\u001b[0m \u001b[0;32mNone\u001b[0m\u001b[0;34m\u001b[0m\u001b[0;34m\u001b[0m\u001b[0m\n",
      "\u001b[0;31mKeyboardInterrupt\u001b[0m: "
     ]
    }
   ],
   "source": [
    "each_beer_df = []\n",
    "for beer in tqdm(feed.keys()):\n",
    "    bdf = pd.io.json.json_normalize(feed[beer]['response']['beer']['checkins']['items'])\n",
    "    bdf = bdf[keep_cols]\n",
    "    bdf['brewery_type'] = feed[beer]['response']['beer']['brewery']['brewery_type']\n",
    "    bdf['rating_global'] = feed[beer]['response']['beer']['rating_score']\n",
    "    each_beer_df.append(bdf)"
   ]
  },
  {
   "cell_type": "markdown",
   "metadata": {},
   "source": [
    "So spend an hour coding it instead, and it feels like instantaneous:"
   ]
  },
  {
   "cell_type": "code",
   "execution_count": 129,
   "metadata": {
    "collapsed": false,
    "scrolled": true
   },
   "outputs": [
    {
     "name": "stderr",
     "output_type": "stream",
     "text": [
      "\n",
      "  0%|          | 0/3176 [00:00<?, ?it/s]\u001b[A\n",
      "  0%|          | 4/3176 [00:00<01:19, 39.81it/s]\u001b[A\n",
      "  0%|          | 7/3176 [00:00<01:29, 35.52it/s]\u001b[A\n",
      "  0%|          | 10/3176 [00:00<01:41, 31.29it/s]\u001b[A\n",
      "  0%|          | 14/3176 [00:00<01:35, 33.04it/s]\u001b[A\n",
      "  1%|          | 17/3176 [00:00<01:40, 31.32it/s]\u001b[A\n",
      "  1%|          | 21/3176 [00:00<01:39, 31.77it/s]\u001b[A\n",
      "  1%|          | 24/3176 [00:00<01:41, 30.92it/s]\u001b[A\n",
      "  1%|          | 29/3176 [00:00<01:31, 34.50it/s]\u001b[A\n",
      "  1%|          | 34/3176 [00:00<01:23, 37.55it/s]\u001b[A\n",
      "  1%|          | 39/3176 [00:01<01:17, 40.45it/s]\u001b[A\n",
      "  1%|▏         | 45/3176 [00:01<01:13, 42.72it/s]\u001b[A\n",
      "  2%|▏         | 50/3176 [00:01<01:10, 44.31it/s]\u001b[A\n",
      "  2%|▏         | 55/3176 [00:01<01:10, 44.22it/s]\u001b[A\n",
      "  2%|▏         | 60/3176 [00:01<01:13, 42.52it/s]\u001b[A\n",
      "  2%|▏         | 65/3176 [00:01<01:16, 40.58it/s]\u001b[A\n",
      "  2%|▏         | 70/3176 [00:01<01:16, 40.62it/s]\u001b[A\n",
      "  2%|▏         | 75/3176 [00:01<01:13, 42.42it/s]\u001b[A\n",
      "  3%|▎         | 80/3176 [00:02<01:14, 41.51it/s]\u001b[A\n",
      "  3%|▎         | 85/3176 [00:02<01:11, 43.08it/s]\u001b[A\n",
      "  3%|▎         | 91/3176 [00:02<01:09, 44.62it/s]\u001b[A\n",
      "  3%|▎         | 96/3176 [00:02<01:09, 44.19it/s]\u001b[A\n",
      "  3%|▎         | 101/3176 [00:02<01:11, 42.84it/s]\u001b[A\n",
      "  3%|▎         | 106/3176 [00:02<01:15, 40.68it/s]\u001b[A\n",
      "  3%|▎         | 111/3176 [00:02<01:12, 42.44it/s]\u001b[A\n",
      "  4%|▎         | 116/3176 [00:02<01:09, 43.75it/s]\u001b[A\n",
      "  4%|▍         | 121/3176 [00:02<01:12, 42.16it/s]\u001b[A\n",
      "  4%|▍         | 126/3176 [00:03<01:12, 42.20it/s]\u001b[A\n",
      "  4%|▍         | 131/3176 [00:03<01:31, 33.24it/s]\u001b[A\n",
      "  4%|▍         | 135/3176 [00:03<02:02, 24.75it/s]\u001b[A\n",
      "  4%|▍         | 139/3176 [00:03<01:55, 26.18it/s]\u001b[A\n",
      "  5%|▍         | 143/3176 [00:03<02:02, 24.78it/s]\u001b[A\n",
      "  5%|▍         | 148/3176 [00:04<01:44, 28.93it/s]\u001b[A\n",
      "  5%|▍         | 154/3176 [00:04<01:30, 33.28it/s]\u001b[A\n",
      "  5%|▌         | 159/3176 [00:04<01:22, 36.37it/s]\u001b[A\n",
      "  5%|▌         | 164/3176 [00:04<01:19, 38.02it/s]\u001b[A\n",
      "  5%|▌         | 169/3176 [00:04<01:15, 39.87it/s]\u001b[A\n",
      "  5%|▌         | 174/3176 [00:04<01:22, 36.23it/s]\u001b[A\n",
      "  6%|▌         | 178/3176 [00:04<01:29, 33.57it/s]\u001b[A\n",
      "  6%|▌         | 183/3176 [00:04<01:23, 35.77it/s]\u001b[A\n",
      "  6%|▌         | 188/3176 [00:04<01:19, 37.81it/s]\u001b[A\n",
      "  6%|▌         | 193/3176 [00:05<01:16, 39.13it/s]\u001b[A\n",
      "  6%|▌         | 198/3176 [00:05<01:12, 40.97it/s]\u001b[A\n",
      "  6%|▋         | 204/3176 [00:05<01:07, 43.95it/s]\u001b[A\n",
      "  7%|▋         | 209/3176 [00:05<01:12, 40.74it/s]\u001b[A\n",
      "  7%|▋         | 214/3176 [00:05<01:19, 37.14it/s]\u001b[A\n",
      "  7%|▋         | 218/3176 [00:05<01:24, 35.08it/s]\u001b[A\n",
      "  7%|▋         | 223/3176 [00:05<01:18, 37.62it/s]\u001b[A\n",
      "  7%|▋         | 229/3176 [00:06<01:12, 40.68it/s]\u001b[A\n",
      "  7%|▋         | 235/3176 [00:06<01:07, 43.26it/s]\u001b[A\n",
      "  8%|▊         | 241/3176 [00:06<01:04, 45.42it/s]\u001b[A\n",
      "  8%|▊         | 246/3176 [00:06<01:02, 46.58it/s]\u001b[A\n",
      "  8%|▊         | 251/3176 [00:06<01:01, 47.47it/s]\u001b[A\n",
      "  8%|▊         | 256/3176 [00:06<01:01, 47.31it/s]\u001b[A\n",
      "  8%|▊         | 262/3176 [00:06<01:00, 47.92it/s]\u001b[A\n",
      "  8%|▊         | 268/3176 [00:06<00:58, 49.57it/s]\u001b[A\n",
      "  9%|▊         | 274/3176 [00:06<01:01, 47.52it/s]\u001b[A\n",
      "  9%|▉         | 279/3176 [00:07<01:05, 44.03it/s]\u001b[A\n",
      "  9%|▉         | 284/3176 [00:07<01:10, 41.02it/s]\u001b[A\n",
      "  9%|▉         | 290/3176 [00:07<01:04, 44.86it/s]\u001b[A\n",
      "  9%|▉         | 296/3176 [00:07<00:59, 48.05it/s]\u001b[A\n",
      "  9%|▉         | 301/3176 [00:07<01:00, 47.20it/s]\u001b[A\n",
      " 10%|▉         | 307/3176 [00:07<01:00, 47.75it/s]\u001b[A\n",
      " 10%|▉         | 313/3176 [00:07<00:58, 48.81it/s]\u001b[A\n",
      " 10%|█         | 319/3176 [00:07<00:57, 49.50it/s]\u001b[A\n",
      " 10%|█         | 325/3176 [00:07<00:58, 48.33it/s]\u001b[A\n",
      " 10%|█         | 331/3176 [00:08<00:57, 49.77it/s]\u001b[A\n",
      " 11%|█         | 337/3176 [00:08<00:57, 49.24it/s]\u001b[A\n",
      " 11%|█         | 343/3176 [00:08<00:56, 50.49it/s]\u001b[A\n",
      " 11%|█         | 349/3176 [00:08<00:57, 49.40it/s]\u001b[A\n",
      " 11%|█         | 354/3176 [00:08<01:02, 45.25it/s]\u001b[A\n",
      "100%|██████████| 3176/3176 [00:59<00:00, 53.37it/s]\n"
     ]
    }
   ],
   "source": [
    "beer_dfs = []\n",
    "\n",
    "for beer in tqdm(feed.keys()):\n",
    "    try:\n",
    "        b = feed[beer]['response']['beer']\n",
    "        checkins = b['checkins']['items']\n",
    "        locs = checkins\n",
    "    \n",
    "        bdf = pd.DataFrame({'checkin_id': [c['checkin_id'] for c in checkins],\n",
    "                           'date': [c['created_at'] for c in checkins],\n",
    "                           'checkin_comment': [c['checkin_comment'] for c in checkins],\n",
    "                           'rating_user': [c['rating_score'] for c in checkins],\n",
    "                           'user_id': [c['user']['uid'] for c in checkins],\n",
    "                            'venue_lat': [c['venue']['location']['lat'] if c['venue'] else '' for c in checkins],\n",
    "                            'venue_lon': [c['venue']['location']['lng'] if c['venue'] else '' for c in checkins],\n",
    "                            'venue_city': [c['venue']['location']['venue_city'] if c['venue'] else '' for c in checkins],\n",
    "                           'venue_state': [c['venue']['location']['venue_state'] if c['venue'] else '' for c in checkins],\n",
    "                           'venue_country': [c['venue']['location']['venue_country'] if c['venue'] else '' for c in checkins],\n",
    "                           'venue_cat': [[] for c in checkins],\n",
    "                          'venue_type': [c['venue']['primary_category'] if c['venue'] else '' for c in checkins],\n",
    "                           'venue_id': [c['venue']['venue_id'] if c['venue'] else '' for c in checkins]\n",
    "                            })\n",
    "        bdf['beer_id'] = b['bid']\n",
    "        bdf['beer_name'] = b['beer_name']\n",
    "        bdf['abv'] = b['beer_abv']\n",
    "        bdf['description'] = b['beer_description']\n",
    "        bdf['beer_style'] = b['beer_style']\n",
    "        bdf['rating_global'] = b['rating_score']\n",
    "        bdf['brewery_id'] = b['brewery']['brewery_id']\n",
    "        bdf['brewery_name'] = b['brewery']['brewery_name']\n",
    "        bdf['brewery_type'] = b['brewery']['brewery_type']\n",
    "        bdf['brewery_country'] = b['brewery']['country_name']\n",
    "        bdf['brewery_city'] = b['brewery']['location']['brewery_city']\n",
    "        bdf['brewery_state'] = b['brewery']['location']['brewery_state']\n",
    "        bdf['brewery_lat'] = b['brewery']['location']['lat']\n",
    "        bdf['brewery_lon'] = b['brewery']['location']['lng']\n",
    "        \n",
    "        beer_dfs.append(bdf)\n",
    "        \n",
    "    except KeyError:\n",
    "        print(beer)\n",
    "        continue\n",
    "    "
   ]
  },
  {
   "cell_type": "code",
   "execution_count": 130,
   "metadata": {
    "collapsed": false
   },
   "outputs": [
    {
     "data": {
      "text/plain": [
       "3176"
      ]
     },
     "execution_count": 130,
     "metadata": {},
     "output_type": "execute_result"
    }
   ],
   "source": [
    "len(beer_dfs)"
   ]
  },
  {
   "cell_type": "code",
   "execution_count": 131,
   "metadata": {
    "collapsed": true
   },
   "outputs": [],
   "source": [
    "bigbeerdf = pd.concat(beer_dfs, axis=0, ignore_index=True)"
   ]
  },
  {
   "cell_type": "code",
   "execution_count": 132,
   "metadata": {
    "collapsed": false
   },
   "outputs": [
    {
     "data": {
      "text/plain": [
       "(143881, 27)"
      ]
     },
     "execution_count": 132,
     "metadata": {},
     "output_type": "execute_result"
    }
   ],
   "source": [
    "bigbeerdf.shape"
   ]
  },
  {
   "cell_type": "code",
   "execution_count": 133,
   "metadata": {
    "collapsed": true
   },
   "outputs": [],
   "source": [
    "bigbeers = [bigbeerdf]\n"
   ]
  },
  {
   "cell_type": "code",
   "execution_count": 135,
   "metadata": {
    "collapsed": false
   },
   "outputs": [
    {
     "name": "stderr",
     "output_type": "stream",
     "text": [
      "100%|██████████| 5/5 [56:23<00:00, 607.85s/it]\n"
     ]
    }
   ],
   "source": [
    "for i in tqdm(range(2,7)):\n",
    "    \n",
    "    with open(f'../beerFeeds/beerInfoDict{i}.pkl', 'rb') as f:\n",
    "        feed = pickle.load(f)\n",
    "        \n",
    "    beer_dfs = []\n",
    "    \n",
    "    for beer in feed.keys():\n",
    "        try:\n",
    "            b = feed[beer]['response']['beer']\n",
    "            checkins = b['checkins']['items']\n",
    "            locs = checkins\n",
    "    \n",
    "            bdf = pd.DataFrame({'checkin_id': [c['checkin_id'] for c in checkins],\n",
    "                           'date': [c['created_at'] for c in checkins],\n",
    "                           'checkin_comment': [c['checkin_comment'] for c in checkins],\n",
    "                           'rating_user': [c['rating_score'] for c in checkins],\n",
    "                           'user_id': [c['user']['uid'] for c in checkins],\n",
    "                            'venue_lat': [c['venue']['location']['lat'] if c['venue'] else '' for c in checkins],\n",
    "                            'venue_lon': [c['venue']['location']['lng'] if c['venue'] else '' for c in checkins],\n",
    "                            'venue_city': [c['venue']['location']['venue_city'] if c['venue'] else '' for c in checkins],\n",
    "                           'venue_state': [c['venue']['location']['venue_state'] if c['venue'] else '' for c in checkins],\n",
    "                           'venue_country': [c['venue']['location']['venue_country'] if c['venue'] else '' for c in checkins],\n",
    "                           'venue_cat': [[] for c in checkins],\n",
    "                          'venue_type': [c['venue']['primary_category'] if c['venue'] else '' for c in checkins],\n",
    "                           'venue_id': [c['venue']['venue_id'] if c['venue'] else '' for c in checkins]\n",
    "                            })\n",
    "            bdf['beer_id'] = b['bid']\n",
    "            bdf['beer_name'] = b['beer_name']\n",
    "            bdf['abv'] = b['beer_abv']\n",
    "            bdf['description'] = b['beer_description']\n",
    "            bdf['beer_style'] = b['beer_style']\n",
    "            bdf['rating_global'] = b['rating_score']\n",
    "            bdf['brewery_id'] = b['brewery']['brewery_id']\n",
    "            bdf['brewery_name'] = b['brewery']['brewery_name']\n",
    "            bdf['brewery_type'] = b['brewery']['brewery_type']\n",
    "            bdf['brewery_country'] = b['brewery']['country_name']\n",
    "            bdf['brewery_city'] = b['brewery']['location']['brewery_city']\n",
    "            bdf['brewery_state'] = b['brewery']['location']['brewery_state']\n",
    "            bdf['brewery_lat'] = b['brewery']['location']['lat']\n",
    "            bdf['brewery_lon'] = b['brewery']['location']['lng']\n",
    "        \n",
    "            beer_dfs.append(bdf)\n",
    "        \n",
    "        except KeyError:\n",
    "            print(beer)\n",
    "            continue\n",
    "\n",
    "    bigbeerdf = pd.concat(beer_dfs, axis=0, ignore_index=True)\n",
    "    bigbeers.append(bigbeerdf)"
   ]
  },
  {
   "cell_type": "code",
   "execution_count": 136,
   "metadata": {
    "collapsed": true
   },
   "outputs": [],
   "source": [
    "bigBeerFrame = pd.concat(bigbeers, axis=0, ignore_index=True)"
   ]
  },
  {
   "cell_type": "code",
   "execution_count": 137,
   "metadata": {
    "collapsed": true
   },
   "outputs": [],
   "source": [
    "bigBeerFrame.to_csv('../bigBeerFrame.csv')"
   ]
  },
  {
   "cell_type": "code",
   "execution_count": 138,
   "metadata": {
    "collapsed": false
   },
   "outputs": [
    {
     "data": {
      "text/plain": [
       "(692291, 27)"
      ]
     },
     "execution_count": 138,
     "metadata": {},
     "output_type": "execute_result"
    }
   ],
   "source": [
    "bigBeerFrame.shape"
   ]
  },
  {
   "cell_type": "code",
   "execution_count": 140,
   "metadata": {
    "collapsed": false
   },
   "outputs": [
    {
     "data": {
      "text/plain": [
       "687506"
      ]
     },
     "execution_count": 140,
     "metadata": {},
     "output_type": "execute_result"
    }
   ],
   "source": [
    "sum(bigBeerFrame.rating_global > 0)"
   ]
  },
  {
   "cell_type": "code",
   "execution_count": 141,
   "metadata": {
    "collapsed": false
   },
   "outputs": [
    {
     "name": "stdout",
     "output_type": "stream",
     "text": [
      "<class 'pandas.core.frame.DataFrame'>\n",
      "RangeIndex: 692291 entries, 0 to 692290\n",
      "Data columns (total 27 columns):\n",
      "checkin_id         692291 non-null int64\n",
      "date               692291 non-null object\n",
      "checkin_comment    692291 non-null object\n",
      "rating_user        692291 non-null float64\n",
      "user_id            692291 non-null int64\n",
      "venue_lat          692291 non-null object\n",
      "venue_lon          692291 non-null object\n",
      "venue_city         692291 non-null object\n",
      "venue_state        692291 non-null object\n",
      "venue_country      692286 non-null object\n",
      "venue_cat          692291 non-null object\n",
      "venue_type         689928 non-null object\n",
      "venue_id           692291 non-null object\n",
      "beer_id            692291 non-null int64\n",
      "beer_name          692291 non-null object\n",
      "abv                692291 non-null float64\n",
      "description        692291 non-null object\n",
      "beer_style         692291 non-null object\n",
      "rating_global      692291 non-null float64\n",
      "brewery_id         692291 non-null int64\n",
      "brewery_name       692291 non-null object\n",
      "brewery_type       692291 non-null object\n",
      "brewery_country    692291 non-null object\n",
      "brewery_city       692291 non-null object\n",
      "brewery_state      692291 non-null object\n",
      "brewery_lat        692291 non-null float64\n",
      "brewery_lon        692291 non-null float64\n",
      "dtypes: float64(5), int64(4), object(18)\n",
      "memory usage: 142.6+ MB\n"
     ]
    }
   ],
   "source": [
    "bigBeerFrame.info()"
   ]
  },
  {
   "cell_type": "code",
   "execution_count": 143,
   "metadata": {
    "collapsed": false
   },
   "outputs": [
    {
     "data": {
      "text/plain": [
       "0     33.9155\n",
       "1     33.9843\n",
       "2     33.9155\n",
       "3            \n",
       "4            \n",
       "5     33.9059\n",
       "6     33.9085\n",
       "7            \n",
       "8            \n",
       "9            \n",
       "10    33.9508\n",
       "Name: venue_lat, dtype: object"
      ]
     },
     "execution_count": 143,
     "metadata": {},
     "output_type": "execute_result"
    }
   ],
   "source": [
    "bigBeerFrame.venue_lat[:11]"
   ]
  },
  {
   "cell_type": "markdown",
   "metadata": {},
   "source": [
    "===================================================================================================="
   ]
  },
  {
   "cell_type": "code",
   "execution_count": null,
   "metadata": {
    "collapsed": true
   },
   "outputs": [],
   "source": []
  },
  {
   "cell_type": "code",
   "execution_count": 34,
   "metadata": {
    "collapsed": false
   },
   "outputs": [
    {
     "name": "stdout",
     "output_type": "stream",
     "text": [
      "<class 'dict'> 87167\n"
     ]
    }
   ],
   "source": [
    "with open(f'capstone_1/userFeeds/userFeedDicts_part_{part}.pkl', 'rb') as f:\n",
    "    feed = pickle.load(f)\n",
    "\n",
    "print(type(feed), len(feed))"
   ]
  },
  {
   "cell_type": "markdown",
   "metadata": {},
   "source": [
    "Most of those 87K dict items have no data, so filter down to the data ones"
   ]
  },
  {
   "cell_type": "code",
   "execution_count": 35,
   "metadata": {
    "collapsed": false
   },
   "outputs": [
    {
     "data": {
      "text/plain": [
       "694"
      ]
     },
     "execution_count": 35,
     "metadata": {},
     "output_type": "execute_result"
    }
   ],
   "source": [
    "feed = {user:feed[user] for user in feed if feed[user]['datalist']}  # empty datalists will eval to False\n",
    "len(feed)"
   ]
  },
  {
   "cell_type": "code",
   "execution_count": 36,
   "metadata": {
    "collapsed": true
   },
   "outputs": [],
   "source": [
    "# Just drilling down to the level where all the data are\n",
    "feed = [data['response']['checkins']['items'] for val in feed.values() for data in val['datalist']]"
   ]
  },
  {
   "cell_type": "code",
   "execution_count": 37,
   "metadata": {
    "collapsed": false
   },
   "outputs": [],
   "source": [
    "# There are a lot of data here, so let's use a generator to control the flow\n",
    "checkins = (pd.io.json.json_normalize(checkin) for checkin in feed)"
   ]
  },
  {
   "cell_type": "code",
   "execution_count": 54,
   "metadata": {
    "collapsed": true
   },
   "outputs": [],
   "source": [
    "# inspect structure\n",
    "#checkin_df = next(checkins)\n",
    "#checkin_df.shape  # So 50 checkins per batch,"
   ]
  },
  {
   "cell_type": "code",
   "execution_count": 7,
   "metadata": {
    "collapsed": true
   },
   "outputs": [],
   "source": [
    "'''\n",
    "# Going to keep about a third of those 76 columns and reorder them for easier viewing\n",
    "keepcols=['checkin_id', 'beer.bid', 'user.uid', 'rating_score', 'beer.beer_abv', \n",
    "          'brewery.brewery_name','beer.beer_name', 'beer.beer_style',  \n",
    "           'brewery.brewery_id', 'brewery.brewery_type', 'brewery.country_name',\n",
    "          'brewery.location.brewery_city', 'brewery.location.brewery_state',\n",
    "          'brewery.location.lat', 'brewery.location.lng', 'user.user_name',\n",
    "          'venue.categories.items', 'venue.location.lat', 'venue.location.lng',\n",
    "         'venue.location.venue_city', 'venue.location.venue_country', \n",
    "          'venue.location.venue_state', 'venue.primary_category',\n",
    "          'venue.venue_id', 'checkin_comment','created_at', \n",
    "       ]\n",
    "'''"
   ]
  },
  {
   "cell_type": "code",
   "execution_count": 38,
   "metadata": {
    "collapsed": false
   },
   "outputs": [
    {
     "name": "stdout",
     "output_type": "stream",
     "text": [
      "400 segments built\n",
      "800 segments built\n",
      "1200 segments built\n",
      "1600 segments built\n",
      "2000 segments built\n",
      "2400 segments built\n",
      "appending 12 final batches\n"
     ]
    }
   ],
   "source": [
    "built = 0 # counter to monitor progress\n",
    "batch_concat = []\n",
    "batch_size = 40\n",
    "while True:\n",
    "    # concat vertically until generator runs out\n",
    "    batch = []\n",
    "    try:\n",
    "        for _ in range(batch_size):\n",
    "            batch.append(next(checkins))\n",
    "        batch = pd.concat(batch, axis=0, ignore_index=True)\n",
    "        # save some size by trimming 2/3 of the frame\n",
    "        batch_concat.append(batch[keepcols])\n",
    "        built += 1\n",
    "        if built % 10 == 0:\n",
    "            print(f'{built * batch_size} segments built')\n",
    "    except StopIteration:\n",
    "        print(f'appending {len(batch)} final batches')\n",
    "        batch = pd.concat(batch, axis=0, ignore_index=True)\n",
    "        batch_concat.append(batch[keepcols])\n",
    "        break"
   ]
  },
  {
   "cell_type": "code",
   "execution_count": 39,
   "metadata": {
    "collapsed": false
   },
   "outputs": [
    {
     "data": {
      "text/plain": [
       "69"
      ]
     },
     "execution_count": 39,
     "metadata": {},
     "output_type": "execute_result"
    }
   ],
   "source": [
    "len(batch_concat)"
   ]
  },
  {
   "cell_type": "code",
   "execution_count": 40,
   "metadata": {
    "collapsed": true
   },
   "outputs": [],
   "source": [
    "df = pd.concat(batch_concat, axis=0, ignore_index=True)"
   ]
  },
  {
   "cell_type": "code",
   "execution_count": 41,
   "metadata": {
    "collapsed": false
   },
   "outputs": [
    {
     "data": {
      "text/plain": [
       "(136019, 26)"
      ]
     },
     "execution_count": 41,
     "metadata": {},
     "output_type": "execute_result"
    }
   ],
   "source": [
    "df.shape"
   ]
  },
  {
   "cell_type": "code",
   "execution_count": 42,
   "metadata": {
    "collapsed": true
   },
   "outputs": [],
   "source": [
    "df.to_csv(f'capstone_1/checkins/df_{part}')"
   ]
  },
  {
   "cell_type": "code",
   "execution_count": 80,
   "metadata": {
    "collapsed": false
   },
   "outputs": [
    {
     "name": "stdout",
     "output_type": "stream",
     "text": [
      "<class 'pandas.core.frame.DataFrame'>\n",
      "RangeIndex: 177458 entries, 0 to 177457\n",
      "Data columns (total 26 columns):\n",
      "checkin_id                        177458 non-null int64\n",
      "beer.bid                          177458 non-null int64\n",
      "user.uid                          177458 non-null int64\n",
      "rating_score                      177458 non-null float64\n",
      "beer.beer_abv                     177458 non-null float64\n",
      "brewery.brewery_name              177458 non-null object\n",
      "beer.beer_name                    177458 non-null object\n",
      "beer.beer_style                   177458 non-null object\n",
      "brewery.brewery_id                177458 non-null int64\n",
      "brewery.brewery_type              177458 non-null object\n",
      "brewery.country_name              177458 non-null object\n",
      "brewery.location.brewery_city     177458 non-null object\n",
      "brewery.location.brewery_state    177458 non-null object\n",
      "brewery.location.lat              177458 non-null float64\n",
      "brewery.location.lng              177458 non-null float64\n",
      "user.user_name                    177458 non-null object\n",
      "venue.categories.items            127368 non-null object\n",
      "venue.location.lat                127368 non-null float64\n",
      "venue.location.lng                127368 non-null float64\n",
      "venue.location.venue_city         127368 non-null object\n",
      "venue.location.venue_country      127345 non-null object\n",
      "venue.location.venue_state        127368 non-null object\n",
      "venue.primary_category            126541 non-null object\n",
      "venue.venue_id                    127368 non-null float64\n",
      "checkin_comment                   177458 non-null object\n",
      "created_at                        177458 non-null object\n",
      "dtypes: float64(7), int64(4), object(15)\n",
      "memory usage: 35.2+ MB\n"
     ]
    }
   ],
   "source": [
    "df.info()"
   ]
  },
  {
   "cell_type": "markdown",
   "metadata": {},
   "source": [
    "## Just patch the routine together below to automate.  Will take awhile to run"
   ]
  },
  {
   "cell_type": "code",
   "execution_count": 43,
   "metadata": {
    "collapsed": false
   },
   "outputs": [
    {
     "name": "stdout",
     "output_type": "stream",
     "text": [
      "400 segments built\n",
      "800 segments built\n",
      "1200 segments built\n",
      "1600 segments built\n",
      "2000 segments built\n",
      "2400 segments built\n",
      "appending 38 final batches\n",
      "400 segments built\n",
      "800 segments built\n",
      "1200 segments built\n",
      "1600 segments built\n",
      "2000 segments built\n",
      "2400 segments built\n",
      "appending 38 final batches\n",
      "400 segments built\n",
      "800 segments built\n",
      "1200 segments built\n",
      "1600 segments built\n",
      "2000 segments built\n",
      "2400 segments built\n",
      "appending 27 final batches\n",
      "400 segments built\n",
      "800 segments built\n",
      "appending 4 final batches\n",
      "400 segments built\n",
      "800 segments built\n",
      "1200 segments built\n",
      "1600 segments built\n",
      "2000 segments built\n",
      "2400 segments built\n",
      "appending 27 final batches\n",
      "400 segments built\n",
      "800 segments built\n",
      "1200 segments built\n",
      "1600 segments built\n",
      "2000 segments built\n",
      "2400 segments built\n",
      "appending 2 final batches\n",
      "400 segments built\n",
      "800 segments built\n",
      "1200 segments built\n",
      "1600 segments built\n",
      "2000 segments built\n",
      "2400 segments built\n",
      "appending 25 final batches\n"
     ]
    }
   ],
   "source": [
    "for part in range(6,13):  # already did parts 1-5 of 12\n",
    "    with open(f'capstone_1/userFeeds/userFeedDicts_part_{part}.pkl', 'rb') as f:\n",
    "        feed = pickle.load(f)\n",
    "    feed = {user:feed[user] for user in feed if feed[user]['datalist']}  # empty datalists will eval to False\n",
    "    feed = [data['response']['checkins']['items'] for val in feed.values() for data in val['datalist']]\n",
    "    checkins = (pd.io.json.json_normalize(checkin) for checkin in feed)\n",
    "    built = 0 # counter to monitor progress\n",
    "    batch_concat = []\n",
    "    batch_size = 40\n",
    "    while True:\n",
    "        # concat vertically until generator runs out\n",
    "        batch = []\n",
    "        try:\n",
    "            for _ in range(batch_size):\n",
    "                batch.append(next(checkins))\n",
    "            batch = pd.concat(batch, axis=0, ignore_index=True)\n",
    "            # save some size by trimming 2/3 of the frame\n",
    "            batch_concat.append(batch[keepcols])\n",
    "            built += 1\n",
    "            if built % 10 == 0:\n",
    "                print(f'{built * batch_size} segments built')\n",
    "        except StopIteration:\n",
    "            print(f'appending {len(batch)} final batches')\n",
    "            batch = pd.concat(batch, axis=0, ignore_index=True)\n",
    "            batch_concat.append(batch[keepcols])\n",
    "            break\n",
    "    df = pd.concat(batch_concat, axis=0, ignore_index=True)\n",
    "    df.to_csv(f'capstone_1/checkins/df_{part}')"
   ]
  },
  {
   "cell_type": "code",
   "execution_count": null,
   "metadata": {
    "collapsed": true
   },
   "outputs": [],
   "source": []
  }
 ],
 "metadata": {
  "kernelspec": {
   "display_name": "Python 3",
   "language": "python",
   "name": "python3"
  },
  "language_info": {
   "codemirror_mode": {
    "name": "ipython",
    "version": 3
   },
   "file_extension": ".py",
   "mimetype": "text/x-python",
   "name": "python",
   "nbconvert_exporter": "python",
   "pygments_lexer": "ipython3",
   "version": "3.6.9"
  }
 },
 "nbformat": 4,
 "nbformat_minor": 2
}
