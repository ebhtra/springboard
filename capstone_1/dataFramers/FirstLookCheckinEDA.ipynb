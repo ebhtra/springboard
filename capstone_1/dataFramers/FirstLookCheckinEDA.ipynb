{
 "cells": [
  {
   "cell_type": "code",
   "execution_count": 1,
   "metadata": {
    "collapsed": true
   },
   "outputs": [],
   "source": [
    "import pandas as pd\n",
    "import numpy as np\n",
    "from glob import glob\n",
    "import matplotlib.pyplot as plt"
   ]
  },
  {
   "cell_type": "code",
   "execution_count": 2,
   "metadata": {
    "collapsed": false
   },
   "outputs": [
    {
     "data": {
      "text/plain": [
       "['capstone_1/checkins/df_12',\n",
       " 'capstone_1/checkins/df_0',\n",
       " 'capstone_1/checkins/df_7',\n",
       " 'capstone_1/checkins/df_9',\n",
       " 'capstone_1/checkins/df_8',\n",
       " 'capstone_1/checkins/df_6',\n",
       " 'capstone_1/checkins/df_11',\n",
       " 'capstone_1/checkins/df_10',\n",
       " 'capstone_1/checkins/df_4',\n",
       " 'capstone_1/checkins/df_3',\n",
       " 'capstone_1/checkins/df_2',\n",
       " 'capstone_1/checkins/df_5']"
      ]
     },
     "execution_count": 2,
     "metadata": {},
     "output_type": "execute_result"
    }
   ],
   "source": [
    "dfs = glob('capstone_1/checkins/*')\n",
    "dfs"
   ]
  },
  {
   "cell_type": "code",
   "execution_count": 189,
   "metadata": {
    "collapsed": true
   },
   "outputs": [],
   "source": [
    "biggie = pd.concat([pd.read_csv(df) for df in dfs], ignore_index=True)"
   ]
  },
  {
   "cell_type": "code",
   "execution_count": 190,
   "metadata": {
    "collapsed": false
   },
   "outputs": [
    {
     "name": "stdout",
     "output_type": "stream",
     "text": [
      "(1571140, 27)\n"
     ]
    },
    {
     "data": {
      "text/plain": [
       "Index(['Unnamed: 0', 'checkin_id', 'beer.bid', 'user.uid', 'rating_score',\n",
       "       'beer.beer_abv', 'brewery.brewery_name', 'beer.beer_name',\n",
       "       'beer.beer_style', 'brewery.brewery_id', 'brewery.brewery_type',\n",
       "       'brewery.country_name', 'brewery.location.brewery_city',\n",
       "       'brewery.location.brewery_state', 'brewery.location.lat',\n",
       "       'brewery.location.lng', 'user.user_name', 'venue.categories.items',\n",
       "       'venue.location.lat', 'venue.location.lng', 'venue.location.venue_city',\n",
       "       'venue.location.venue_country', 'venue.location.venue_state',\n",
       "       'venue.primary_category', 'venue.venue_id', 'checkin_comment',\n",
       "       'created_at'],\n",
       "      dtype='object')"
      ]
     },
     "execution_count": 190,
     "metadata": {},
     "output_type": "execute_result"
    }
   ],
   "source": [
    "print(biggie.shape)\n",
    "biggie.columns"
   ]
  },
  {
   "cell_type": "code",
   "execution_count": 13,
   "metadata": {
    "collapsed": false
   },
   "outputs": [
    {
     "data": {
      "text/plain": [
       "751526"
      ]
     },
     "execution_count": 13,
     "metadata": {},
     "output_type": "execute_result"
    }
   ],
   "source": [
    "sum(biggie['beer.beer_style'].apply(lambda x: x.startswith('IPA')))"
   ]
  },
  {
   "cell_type": "code",
   "execution_count": 12,
   "metadata": {
    "collapsed": false
   },
   "outputs": [
    {
     "name": "stdout",
     "output_type": "stream",
     "text": [
      "<class 'pandas.core.frame.DataFrame'>\n",
      "RangeIndex: 1571140 entries, 0 to 1571139\n",
      "Data columns (total 27 columns):\n",
      "Unnamed: 0                        1571140 non-null int64\n",
      "checkin_id                        1571140 non-null int64\n",
      "beer.bid                          1571140 non-null int64\n",
      "user.uid                          1571140 non-null int64\n",
      "rating_score                      1571140 non-null float64\n",
      "beer.beer_abv                     1571140 non-null float64\n",
      "brewery.brewery_name              1571140 non-null object\n",
      "beer.beer_name                    1571140 non-null object\n",
      "beer.beer_style                   1571140 non-null object\n",
      "brewery.brewery_id                1571140 non-null int64\n",
      "brewery.brewery_type              1571140 non-null object\n",
      "brewery.country_name              1571140 non-null object\n",
      "brewery.location.brewery_city     1554436 non-null object\n",
      "brewery.location.brewery_state    1546325 non-null object\n",
      "brewery.location.lat              1571140 non-null float64\n",
      "brewery.location.lng              1571140 non-null float64\n",
      "user.user_name                    1571140 non-null object\n",
      "venue.categories.items            1101509 non-null object\n",
      "venue.location.lat                1101509 non-null float64\n",
      "venue.location.lng                1101509 non-null float64\n",
      "venue.location.venue_city         1052605 non-null object\n",
      "venue.location.venue_country      1101367 non-null object\n",
      "venue.location.venue_state        1087951 non-null object\n",
      "venue.primary_category            1092671 non-null object\n",
      "venue.venue_id                    1101509 non-null float64\n",
      "checkin_comment                   343881 non-null object\n",
      "created_at                        1571140 non-null object\n",
      "dtypes: float64(7), int64(5), object(15)\n",
      "memory usage: 323.6+ MB\n"
     ]
    }
   ],
   "source": [
    "biggie.info()"
   ]
  },
  {
   "cell_type": "code",
   "execution_count": 21,
   "metadata": {
    "collapsed": false
   },
   "outputs": [
    {
     "data": {
      "text/plain": [
       "0.9072692439884416"
      ]
     },
     "execution_count": 21,
     "metadata": {},
     "output_type": "execute_result"
    }
   ],
   "source": [
    "np.count_nonzero(biggie['rating_score']) / biggie.shape[0]"
   ]
  },
  {
   "cell_type": "code",
   "execution_count": 22,
   "metadata": {
    "collapsed": false
   },
   "outputs": [
    {
     "data": {
      "text/plain": [
       "0.25"
      ]
     },
     "execution_count": 22,
     "metadata": {},
     "output_type": "execute_result"
    }
   ],
   "source": [
    "min(score for score in biggie['rating_score'] if score)"
   ]
  },
  {
   "cell_type": "code",
   "execution_count": 11,
   "metadata": {
    "collapsed": false
   },
   "outputs": [],
   "source": [
    "%matplotlib inline"
   ]
  },
  {
   "cell_type": "code",
   "execution_count": 8,
   "metadata": {
    "collapsed": false
   },
   "outputs": [
    {
     "data": {
      "image/png": "[encoded data removed]",
      "text/plain": [
       "<matplotlib.figure.Figure at 0x1174079e8>"
      ]
     },
     "metadata": {},
     "output_type": "display_data"
    }
   ],
   "source": [
    "biggie[['rating_score']].plot(kind='hist')\n",
    "plt.show()"
   ]
  },
  {
   "cell_type": "code",
   "execution_count": 14,
   "metadata": {
    "collapsed": false
   },
   "outputs": [
    {
     "name": "stdout",
     "output_type": "stream",
     "text": [
      "<class 'pandas.core.frame.DataFrame'>\n",
      "Int64Index: 1000 entries, 1237851 to 601871\n",
      "Data columns (total 27 columns):\n",
      "Unnamed: 0                        1000 non-null int64\n",
      "checkin_id                        1000 non-null int64\n",
      "beer.bid                          1000 non-null int64\n",
      "user.uid                          1000 non-null int64\n",
      "rating_score                      1000 non-null float64\n",
      "beer.beer_abv                     1000 non-null float64\n",
      "brewery.brewery_name              1000 non-null object\n",
      "beer.beer_name                    1000 non-null object\n",
      "beer.beer_style                   1000 non-null object\n",
      "brewery.brewery_id                1000 non-null int64\n",
      "brewery.brewery_type              1000 non-null object\n",
      "brewery.country_name              1000 non-null object\n",
      "brewery.location.brewery_city     993 non-null object\n",
      "brewery.location.brewery_state    987 non-null object\n",
      "brewery.location.lat              1000 non-null float64\n",
      "brewery.location.lng              1000 non-null float64\n",
      "user.user_name                    1000 non-null object\n",
      "venue.categories.items            695 non-null object\n",
      "venue.location.lat                695 non-null float64\n",
      "venue.location.lng                695 non-null float64\n",
      "venue.location.venue_city         673 non-null object\n",
      "venue.location.venue_country      695 non-null object\n",
      "venue.location.venue_state        688 non-null object\n",
      "venue.primary_category            690 non-null object\n",
      "venue.venue_id                    695 non-null float64\n",
      "checkin_comment                   218 non-null object\n",
      "created_at                        1000 non-null object\n",
      "dtypes: float64(7), int64(5), object(15)\n",
      "memory usage: 218.8+ KB\n"
     ]
    }
   ],
   "source": [
    "sample_checkins = biggie.sample(1000)\n",
    "sample_checkins.info()"
   ]
  },
  {
   "cell_type": "code",
   "execution_count": 29,
   "metadata": {
    "collapsed": false
   },
   "outputs": [
    {
     "data": {
      "text/html": [
       "<div>\n",
       "<style>\n",
       "    .dataframe thead tr:only-child th {\n",
       "        text-align: right;\n",
       "    }\n",
       "\n",
       "    .dataframe thead th {\n",
       "        text-align: left;\n",
       "    }\n",
       "\n",
       "    .dataframe tbody tr th {\n",
       "        vertical-align: top;\n",
       "    }\n",
       "</style>\n",
       "<table border=\"1\" class=\"dataframe\">\n",
       "  <thead>\n",
       "    <tr style=\"text-align: right;\">\n",
       "      <th></th>\n",
       "      <th>Unnamed: 0</th>\n",
       "      <th>checkin_id</th>\n",
       "      <th>beer.bid</th>\n",
       "      <th>user.uid</th>\n",
       "      <th>rating_score</th>\n",
       "      <th>beer.beer_abv</th>\n",
       "      <th>brewery.brewery_name</th>\n",
       "      <th>beer.beer_name</th>\n",
       "      <th>beer.beer_style</th>\n",
       "      <th>brewery.brewery_id</th>\n",
       "      <th>...</th>\n",
       "      <th>venue.categories.items</th>\n",
       "      <th>venue.location.lat</th>\n",
       "      <th>venue.location.lng</th>\n",
       "      <th>venue.location.venue_city</th>\n",
       "      <th>venue.location.venue_country</th>\n",
       "      <th>venue.location.venue_state</th>\n",
       "      <th>venue.primary_category</th>\n",
       "      <th>venue.venue_id</th>\n",
       "      <th>checkin_comment</th>\n",
       "      <th>created_at</th>\n",
       "    </tr>\n",
       "  </thead>\n",
       "  <tbody>\n",
       "    <tr>\n",
       "      <th>0</th>\n",
       "      <td>112706</td>\n",
       "      <td>815404364</td>\n",
       "      <td>331215</td>\n",
       "      <td>2997378</td>\n",
       "      <td>0.0</td>\n",
       "      <td>5.5</td>\n",
       "      <td>Half Acre Beer Company</td>\n",
       "      <td>Pony</td>\n",
       "      <td>Pilsner - German</td>\n",
       "      <td>1862</td>\n",
       "      <td>...</td>\n",
       "      <td>[{'category_key': 'pizza_place', 'category_nam...</td>\n",
       "      <td>47.6495</td>\n",
       "      <td>-122.349</td>\n",
       "      <td>Seattle</td>\n",
       "      <td>United States</td>\n",
       "      <td>WA</td>\n",
       "      <td>Food</td>\n",
       "      <td>7058052.0</td>\n",
       "      <td>NaN</td>\n",
       "      <td>Thu, 10 Oct 2019 23:42:00 +0000</td>\n",
       "    </tr>\n",
       "    <tr>\n",
       "      <th>1</th>\n",
       "      <td>46655</td>\n",
       "      <td>801234367</td>\n",
       "      <td>3223488</td>\n",
       "      <td>5958535</td>\n",
       "      <td>4.0</td>\n",
       "      <td>6.0</td>\n",
       "      <td>Sierra Nevada Brewing Co.</td>\n",
       "      <td>Oktoberfest - Bitburger Braugruppe (2019)</td>\n",
       "      <td>Märzen</td>\n",
       "      <td>1142</td>\n",
       "      <td>...</td>\n",
       "      <td>NaN</td>\n",
       "      <td>NaN</td>\n",
       "      <td>NaN</td>\n",
       "      <td>NaN</td>\n",
       "      <td>NaN</td>\n",
       "      <td>NaN</td>\n",
       "      <td>NaN</td>\n",
       "      <td>NaN</td>\n",
       "      <td>NaN</td>\n",
       "      <td>Fri, 06 Sep 2019 01:15:31 +0000</td>\n",
       "    </tr>\n",
       "    <tr>\n",
       "      <th>2</th>\n",
       "      <td>106882</td>\n",
       "      <td>801627521</td>\n",
       "      <td>2378624</td>\n",
       "      <td>72490</td>\n",
       "      <td>0.0</td>\n",
       "      <td>6.0</td>\n",
       "      <td>Peabody Heights Brewery</td>\n",
       "      <td>Abell Hands</td>\n",
       "      <td>Pale Ale - American</td>\n",
       "      <td>224255</td>\n",
       "      <td>...</td>\n",
       "      <td>[{'category_key': 'seafood_restaurant', 'categ...</td>\n",
       "      <td>39.6043</td>\n",
       "      <td>-76.115</td>\n",
       "      <td>Port Deposit</td>\n",
       "      <td>United States</td>\n",
       "      <td>MD</td>\n",
       "      <td>Food</td>\n",
       "      <td>109538.0</td>\n",
       "      <td>NaN</td>\n",
       "      <td>Fri, 06 Sep 2019 22:41:19 +0000</td>\n",
       "    </tr>\n",
       "  </tbody>\n",
       "</table>\n",
       "<p>3 rows × 27 columns</p>\n",
       "</div>"
      ],
      "text/plain": [
       "   Unnamed: 0  checkin_id  beer.bid  user.uid  rating_score  beer.beer_abv  \\\n",
       "0      112706   815404364    331215   2997378           0.0            5.5   \n",
       "1       46655   801234367   3223488   5958535           4.0            6.0   \n",
       "2      106882   801627521   2378624     72490           0.0            6.0   \n",
       "\n",
       "        brewery.brewery_name                             beer.beer_name  \\\n",
       "0     Half Acre Beer Company                                       Pony   \n",
       "1  Sierra Nevada Brewing Co.  Oktoberfest - Bitburger Braugruppe (2019)   \n",
       "2    Peabody Heights Brewery                                Abell Hands   \n",
       "\n",
       "       beer.beer_style  brewery.brewery_id               ...                 \\\n",
       "0     Pilsner - German                1862               ...                  \n",
       "1               Märzen                1142               ...                  \n",
       "2  Pale Ale - American              224255               ...                  \n",
       "\n",
       "                              venue.categories.items venue.location.lat  \\\n",
       "0  [{'category_key': 'pizza_place', 'category_nam...            47.6495   \n",
       "1                                                NaN                NaN   \n",
       "2  [{'category_key': 'seafood_restaurant', 'categ...            39.6043   \n",
       "\n",
       "  venue.location.lng venue.location.venue_city  venue.location.venue_country  \\\n",
       "0           -122.349                   Seattle                 United States   \n",
       "1                NaN                       NaN                           NaN   \n",
       "2            -76.115              Port Deposit                 United States   \n",
       "\n",
       "   venue.location.venue_state venue.primary_category venue.venue_id  \\\n",
       "0                          WA                   Food      7058052.0   \n",
       "1                         NaN                    NaN            NaN   \n",
       "2                          MD                   Food       109538.0   \n",
       "\n",
       "   checkin_comment                       created_at  \n",
       "0              NaN  Thu, 10 Oct 2019 23:42:00 +0000  \n",
       "1              NaN  Fri, 06 Sep 2019 01:15:31 +0000  \n",
       "2              NaN  Fri, 06 Sep 2019 22:41:19 +0000  \n",
       "\n",
       "[3 rows x 27 columns]"
      ]
     },
     "execution_count": 29,
     "metadata": {},
     "output_type": "execute_result"
    }
   ],
   "source": [
    "sample_checkins.reset_index(drop=True, inplace=True)\n",
    "sample_checkins.head(3)"
   ]
  },
  {
   "cell_type": "code",
   "execution_count": 54,
   "metadata": {
    "collapsed": false
   },
   "outputs": [
    {
     "data": {
      "text/plain": [
       "nan"
      ]
     },
     "execution_count": 54,
     "metadata": {},
     "output_type": "execute_result"
    }
   ],
   "source": [
    "sample_checkins.loc[0, 'venue.primary_category']"
   ]
  },
  {
   "cell_type": "code",
   "execution_count": 35,
   "metadata": {
    "collapsed": false
   },
   "outputs": [
    {
     "data": {
      "text/plain": [
       "True"
      ]
     },
     "execution_count": 35,
     "metadata": {},
     "output_type": "execute_result"
    }
   ],
   "source": [
    "pd.isnull(sample_checkins.loc[1, 'venue.categories.items'])"
   ]
  },
  {
   "cell_type": "code",
   "execution_count": 50,
   "metadata": {
    "collapsed": false
   },
   "outputs": [],
   "source": [
    "import ast  # the json_normalize() returned a string repr of a list, so need this to 'un-string' it\n",
    "\n",
    "def venuecat(venuecell):\n",
    "    if pd.isnull(venuecell):\n",
    "        # empty list to eval to False\n",
    "        return list()\n",
    "    # list with primary category first\n",
    "    try:\n",
    "        venuecell = ast.literal_eval(venuecell)\n",
    "        return [item['category_key'] for item in venuecell if item['is_primary']] + \\\n",
    "               [item['category_key'] for item in venuecell if not item['is_primary']]\n",
    "    except TypeError:\n",
    "        print(venuecell)\n",
    "        return []\n",
    "    "
   ]
  },
  {
   "cell_type": "code",
   "execution_count": 51,
   "metadata": {
    "collapsed": false
   },
   "outputs": [],
   "source": [
    "sample_checkins['venue.type'] = sample_checkins['venue.categories.items'].apply(lambda x: venuecat(x))"
   ]
  },
  {
   "cell_type": "code",
   "execution_count": 71,
   "metadata": {
    "collapsed": false
   },
   "outputs": [
    {
     "data": {
      "text/plain": [
       "55    3.25\n",
       "56    4.25\n",
       "57    4.00\n",
       "58    4.00\n",
       "59    4.00\n",
       "60    3.75\n",
       "61    4.00\n",
       "62    4.25\n",
       "63    3.25\n",
       "64    0.00\n",
       "Name: rating_score, dtype: float64"
      ]
     },
     "execution_count": 71,
     "metadata": {},
     "output_type": "execute_result"
    }
   ],
   "source": [
    "sample_checkins['rating_score'][55:65]"
   ]
  },
  {
   "cell_type": "code",
   "execution_count": 73,
   "metadata": {
    "collapsed": false
   },
   "outputs": [],
   "source": [
    "sample_checkins.drop('venue.categories.items', inplace=True, axis=1)"
   ]
  },
  {
   "cell_type": "code",
   "execution_count": 74,
   "metadata": {
    "collapsed": true
   },
   "outputs": [],
   "source": [
    "sample_checkins.drop('Unnamed: 0', axis=1, inplace=True)"
   ]
  },
  {
   "cell_type": "code",
   "execution_count": 75,
   "metadata": {
    "collapsed": false
   },
   "outputs": [
    {
     "data": {
      "text/html": [
       "<div>\n",
       "<style>\n",
       "    .dataframe thead tr:only-child th {\n",
       "        text-align: right;\n",
       "    }\n",
       "\n",
       "    .dataframe thead th {\n",
       "        text-align: left;\n",
       "    }\n",
       "\n",
       "    .dataframe tbody tr th {\n",
       "        vertical-align: top;\n",
       "    }\n",
       "</style>\n",
       "<table border=\"1\" class=\"dataframe\">\n",
       "  <thead>\n",
       "    <tr style=\"text-align: right;\">\n",
       "      <th></th>\n",
       "      <th>checkin_id</th>\n",
       "      <th>beer.bid</th>\n",
       "      <th>user.uid</th>\n",
       "      <th>rating_score</th>\n",
       "      <th>beer.beer_abv</th>\n",
       "      <th>brewery.brewery_name</th>\n",
       "      <th>beer.beer_name</th>\n",
       "      <th>beer.beer_style</th>\n",
       "      <th>brewery.brewery_id</th>\n",
       "      <th>brewery.brewery_type</th>\n",
       "      <th>...</th>\n",
       "      <th>venue.location.lat</th>\n",
       "      <th>venue.location.lng</th>\n",
       "      <th>venue.location.venue_city</th>\n",
       "      <th>venue.location.venue_country</th>\n",
       "      <th>venue.location.venue_state</th>\n",
       "      <th>venue.primary_category</th>\n",
       "      <th>venue.venue_id</th>\n",
       "      <th>checkin_comment</th>\n",
       "      <th>created_at</th>\n",
       "      <th>venue.type</th>\n",
       "    </tr>\n",
       "  </thead>\n",
       "  <tbody>\n",
       "    <tr>\n",
       "      <th>0</th>\n",
       "      <td>815404364</td>\n",
       "      <td>331215</td>\n",
       "      <td>2997378</td>\n",
       "      <td>0.0</td>\n",
       "      <td>5.5</td>\n",
       "      <td>Half Acre Beer Company</td>\n",
       "      <td>Pony</td>\n",
       "      <td>Pilsner - German</td>\n",
       "      <td>1862</td>\n",
       "      <td>Regional Brewery</td>\n",
       "      <td>...</td>\n",
       "      <td>47.6495</td>\n",
       "      <td>-122.3490</td>\n",
       "      <td>Seattle</td>\n",
       "      <td>United States</td>\n",
       "      <td>WA</td>\n",
       "      <td>Food</td>\n",
       "      <td>7058052.0</td>\n",
       "      <td>NaN</td>\n",
       "      <td>Thu, 10 Oct 2019 23:42:00 +0000</td>\n",
       "      <td>[pizza_place, beer_bar]</td>\n",
       "    </tr>\n",
       "    <tr>\n",
       "      <th>1</th>\n",
       "      <td>801234367</td>\n",
       "      <td>3223488</td>\n",
       "      <td>5958535</td>\n",
       "      <td>4.0</td>\n",
       "      <td>6.0</td>\n",
       "      <td>Sierra Nevada Brewing Co.</td>\n",
       "      <td>Oktoberfest - Bitburger Braugruppe (2019)</td>\n",
       "      <td>Märzen</td>\n",
       "      <td>1142</td>\n",
       "      <td>Regional Brewery</td>\n",
       "      <td>...</td>\n",
       "      <td>NaN</td>\n",
       "      <td>NaN</td>\n",
       "      <td>NaN</td>\n",
       "      <td>NaN</td>\n",
       "      <td>NaN</td>\n",
       "      <td>NaN</td>\n",
       "      <td>NaN</td>\n",
       "      <td>NaN</td>\n",
       "      <td>Fri, 06 Sep 2019 01:15:31 +0000</td>\n",
       "      <td>[]</td>\n",
       "    </tr>\n",
       "    <tr>\n",
       "      <th>2</th>\n",
       "      <td>801627521</td>\n",
       "      <td>2378624</td>\n",
       "      <td>72490</td>\n",
       "      <td>0.0</td>\n",
       "      <td>6.0</td>\n",
       "      <td>Peabody Heights Brewery</td>\n",
       "      <td>Abell Hands</td>\n",
       "      <td>Pale Ale - American</td>\n",
       "      <td>224255</td>\n",
       "      <td>Micro Brewery</td>\n",
       "      <td>...</td>\n",
       "      <td>39.6043</td>\n",
       "      <td>-76.1150</td>\n",
       "      <td>Port Deposit</td>\n",
       "      <td>United States</td>\n",
       "      <td>MD</td>\n",
       "      <td>Food</td>\n",
       "      <td>109538.0</td>\n",
       "      <td>NaN</td>\n",
       "      <td>Fri, 06 Sep 2019 22:41:19 +0000</td>\n",
       "      <td>[seafood_restaurant, american_restaurant]</td>\n",
       "    </tr>\n",
       "    <tr>\n",
       "      <th>3</th>\n",
       "      <td>731686382</td>\n",
       "      <td>3123862</td>\n",
       "      <td>1417868</td>\n",
       "      <td>4.0</td>\n",
       "      <td>4.9</td>\n",
       "      <td>Backpocket Brewing</td>\n",
       "      <td>Kitty Lime Pie</td>\n",
       "      <td>Sour - Gose - Fruited</td>\n",
       "      <td>14975</td>\n",
       "      <td>Micro Brewery</td>\n",
       "      <td>...</td>\n",
       "      <td>42.0202</td>\n",
       "      <td>-91.6656</td>\n",
       "      <td>Cedar Rapids</td>\n",
       "      <td>United States</td>\n",
       "      <td>IA</td>\n",
       "      <td>Nightlife Spot</td>\n",
       "      <td>8731918.0</td>\n",
       "      <td>NaN</td>\n",
       "      <td>Wed, 03 Apr 2019 20:42:36 +0000</td>\n",
       "      <td>[beer_bar]</td>\n",
       "    </tr>\n",
       "    <tr>\n",
       "      <th>4</th>\n",
       "      <td>467952253</td>\n",
       "      <td>594015</td>\n",
       "      <td>3473594</td>\n",
       "      <td>0.0</td>\n",
       "      <td>7.8</td>\n",
       "      <td>Toppling Goliath Brewing Co.</td>\n",
       "      <td>King Sue</td>\n",
       "      <td>IPA - Imperial / Double New England</td>\n",
       "      <td>7532</td>\n",
       "      <td>Micro Brewery</td>\n",
       "      <td>...</td>\n",
       "      <td>NaN</td>\n",
       "      <td>NaN</td>\n",
       "      <td>NaN</td>\n",
       "      <td>NaN</td>\n",
       "      <td>NaN</td>\n",
       "      <td>NaN</td>\n",
       "      <td>NaN</td>\n",
       "      <td>NaN</td>\n",
       "      <td>Wed, 21 Jun 2017 22:30:07 +0000</td>\n",
       "      <td>[]</td>\n",
       "    </tr>\n",
       "  </tbody>\n",
       "</table>\n",
       "<p>5 rows × 26 columns</p>\n",
       "</div>"
      ],
      "text/plain": [
       "   checkin_id  beer.bid  user.uid  rating_score  beer.beer_abv  \\\n",
       "0   815404364    331215   2997378           0.0            5.5   \n",
       "1   801234367   3223488   5958535           4.0            6.0   \n",
       "2   801627521   2378624     72490           0.0            6.0   \n",
       "3   731686382   3123862   1417868           4.0            4.9   \n",
       "4   467952253    594015   3473594           0.0            7.8   \n",
       "\n",
       "           brewery.brewery_name                             beer.beer_name  \\\n",
       "0        Half Acre Beer Company                                       Pony   \n",
       "1     Sierra Nevada Brewing Co.  Oktoberfest - Bitburger Braugruppe (2019)   \n",
       "2       Peabody Heights Brewery                                Abell Hands   \n",
       "3            Backpocket Brewing                             Kitty Lime Pie   \n",
       "4  Toppling Goliath Brewing Co.                                   King Sue   \n",
       "\n",
       "                       beer.beer_style  brewery.brewery_id  \\\n",
       "0                     Pilsner - German                1862   \n",
       "1                               Märzen                1142   \n",
       "2                  Pale Ale - American              224255   \n",
       "3                Sour - Gose - Fruited               14975   \n",
       "4  IPA - Imperial / Double New England                7532   \n",
       "\n",
       "  brewery.brewery_type                    ...                      \\\n",
       "0     Regional Brewery                    ...                       \n",
       "1     Regional Brewery                    ...                       \n",
       "2        Micro Brewery                    ...                       \n",
       "3        Micro Brewery                    ...                       \n",
       "4        Micro Brewery                    ...                       \n",
       "\n",
       "  venue.location.lat venue.location.lng venue.location.venue_city  \\\n",
       "0            47.6495          -122.3490                   Seattle   \n",
       "1                NaN                NaN                       NaN   \n",
       "2            39.6043           -76.1150              Port Deposit   \n",
       "3            42.0202           -91.6656              Cedar Rapids   \n",
       "4                NaN                NaN                       NaN   \n",
       "\n",
       "   venue.location.venue_country  venue.location.venue_state  \\\n",
       "0                 United States                          WA   \n",
       "1                           NaN                         NaN   \n",
       "2                 United States                          MD   \n",
       "3                 United States                          IA   \n",
       "4                           NaN                         NaN   \n",
       "\n",
       "  venue.primary_category  venue.venue_id  checkin_comment  \\\n",
       "0                   Food       7058052.0              NaN   \n",
       "1                    NaN             NaN              NaN   \n",
       "2                   Food        109538.0              NaN   \n",
       "3         Nightlife Spot       8731918.0              NaN   \n",
       "4                    NaN             NaN              NaN   \n",
       "\n",
       "                        created_at                                 venue.type  \n",
       "0  Thu, 10 Oct 2019 23:42:00 +0000                    [pizza_place, beer_bar]  \n",
       "1  Fri, 06 Sep 2019 01:15:31 +0000                                         []  \n",
       "2  Fri, 06 Sep 2019 22:41:19 +0000  [seafood_restaurant, american_restaurant]  \n",
       "3  Wed, 03 Apr 2019 20:42:36 +0000                                 [beer_bar]  \n",
       "4  Wed, 21 Jun 2017 22:30:07 +0000                                         []  \n",
       "\n",
       "[5 rows x 26 columns]"
      ]
     },
     "execution_count": 75,
     "metadata": {},
     "output_type": "execute_result"
    }
   ],
   "source": [
    "sample_checkins.head()"
   ]
  },
  {
   "cell_type": "code",
   "execution_count": 76,
   "metadata": {
    "collapsed": true
   },
   "outputs": [],
   "source": [
    "# save to push to github for sample viewing\n",
    "sample_checkins.to_csv('sample_checkins.csv')"
   ]
  },
  {
   "cell_type": "code",
   "execution_count": 89,
   "metadata": {
    "collapsed": false
   },
   "outputs": [
    {
     "data": {
      "text/plain": [
       "<matplotlib.axes._subplots.AxesSubplot at 0x1229f9eb8>"
      ]
     },
     "execution_count": 89,
     "metadata": {},
     "output_type": "execute_result"
    },
    {
     "data": {
      "image/png": "[encoded data removed]",
      "text/plain": [
       "<matplotlib.figure.Figure at 0x122c7dac8>"
      ]
     },
     "metadata": {},
     "output_type": "display_data"
    }
   ],
   "source": [
    "sample_checkins.rating_score.plot(kind='hist', bins=21)"
   ]
  },
  {
   "cell_type": "code",
   "execution_count": 90,
   "metadata": {
    "collapsed": false
   },
   "outputs": [
    {
     "data": {
      "text/plain": [
       "4.00    189\n",
       "3.75    145\n",
       "4.25    142\n",
       "3.50    112\n",
       "0.00    105\n",
       "4.50     85\n",
       "3.25     69\n",
       "3.00     51\n",
       "5.00     33\n",
       "4.75     20\n",
       "2.75     19\n",
       "2.50     12\n",
       "2.00      7\n",
       "2.25      4\n",
       "1.00      2\n",
       "1.75      2\n",
       "0.25      1\n",
       "1.50      1\n",
       "3.60      1\n",
       "Name: rating_score, dtype: int64"
      ]
     },
     "execution_count": 90,
     "metadata": {},
     "output_type": "execute_result"
    }
   ],
   "source": [
    "sample_checkins.rating_score.value_counts()"
   ]
  },
  {
   "cell_type": "code",
   "execution_count": 84,
   "metadata": {
    "collapsed": false
   },
   "outputs": [
    {
     "data": {
      "text/plain": [
       "487"
      ]
     },
     "execution_count": 84,
     "metadata": {},
     "output_type": "execute_result"
    }
   ],
   "source": [
    "sum(sample_checkins['beer.beer_style'].apply(lambda x: x.startswith('IPA')))"
   ]
  },
  {
   "cell_type": "markdown",
   "metadata": {},
   "source": [
    "### Let's see what it merges well with"
   ]
  },
  {
   "cell_type": "code",
   "execution_count": 92,
   "metadata": {
    "collapsed": false
   },
   "outputs": [
    {
     "data": {
      "text/plain": [
       "Index(['Unnamed: 0', 'beer.beer_abv', 'beer.beer_description', 'beer.beer_ibu',\n",
       "       'beer.beer_label', 'beer.beer_name', 'beer.beer_slug',\n",
       "       'beer.beer_style', 'beer.bid', 'beer.created_at', 'beer.has_had',\n",
       "       'beer.rating_count', 'beer.rating_score', 'brewery.brewery_active',\n",
       "       'brewery.brewery_id', 'brewery.brewery_label', 'brewery.brewery_name',\n",
       "       'brewery.brewery_page_url', 'brewery.brewery_slug',\n",
       "       'brewery.brewery_type', 'brewery.contact.facebook',\n",
       "       'brewery.contact.instagram', 'brewery.contact.twitter',\n",
       "       'brewery.contact.url', 'brewery.country_name',\n",
       "       'brewery.location.brewery_city', 'brewery.location.brewery_state',\n",
       "       'brewery.location.lat', 'brewery.location.lng', 'count',\n",
       "       'first_checkin_id', 'first_created_at', 'first_had', 'rating_score',\n",
       "       'recent_checkin_id', 'recent_created_at', 'recent_created_at_timezone',\n",
       "       'user_auth_rating_score'],\n",
       "      dtype='object')"
      ]
     },
     "execution_count": 92,
     "metadata": {},
     "output_type": "execute_result"
    }
   ],
   "source": [
    "sample_beers = pd.read_csv('capstone_1/userbeers0.csv')\n",
    "# This is the df that has the untappd global beer ratings plus beer descriptions\n",
    "sample_beers.columns"
   ]
  },
  {
   "cell_type": "code",
   "execution_count": 93,
   "metadata": {
    "collapsed": false
   },
   "outputs": [
    {
     "data": {
      "text/html": [
       "<div>\n",
       "<style>\n",
       "    .dataframe thead tr:only-child th {\n",
       "        text-align: right;\n",
       "    }\n",
       "\n",
       "    .dataframe thead th {\n",
       "        text-align: left;\n",
       "    }\n",
       "\n",
       "    .dataframe tbody tr th {\n",
       "        vertical-align: top;\n",
       "    }\n",
       "</style>\n",
       "<table border=\"1\" class=\"dataframe\">\n",
       "  <thead>\n",
       "    <tr style=\"text-align: right;\">\n",
       "      <th></th>\n",
       "      <th>beer.beer_name</th>\n",
       "      <th>beer.bid</th>\n",
       "      <th>beer.beer_style</th>\n",
       "      <th>beer.rating_score</th>\n",
       "      <th>beer.beer_description</th>\n",
       "      <th>rating_score</th>\n",
       "    </tr>\n",
       "  </thead>\n",
       "  <tbody>\n",
       "    <tr>\n",
       "      <th>0</th>\n",
       "      <td>My Own Private Idaho</td>\n",
       "      <td>3467088</td>\n",
       "      <td>IPA - Session / India Session Ale</td>\n",
       "      <td>3.60516</td>\n",
       "      <td>Session ale with a subtle malt bill and fresh ...</td>\n",
       "      <td>3.75</td>\n",
       "    </tr>\n",
       "    <tr>\n",
       "      <th>1</th>\n",
       "      <td>Handup IPA</td>\n",
       "      <td>3311276</td>\n",
       "      <td>IPA - American</td>\n",
       "      <td>3.65708</td>\n",
       "      <td>West coast IPA with light malt character, brig...</td>\n",
       "      <td>3.75</td>\n",
       "    </tr>\n",
       "    <tr>\n",
       "      <th>2</th>\n",
       "      <td>Mad Respect</td>\n",
       "      <td>1445432</td>\n",
       "      <td>IPA - American</td>\n",
       "      <td>4.13043</td>\n",
       "      <td>NaN</td>\n",
       "      <td>4.00</td>\n",
       "    </tr>\n",
       "    <tr>\n",
       "      <th>3</th>\n",
       "      <td>Return to Space</td>\n",
       "      <td>2655469</td>\n",
       "      <td>IPA - New England</td>\n",
       "      <td>4.11855</td>\n",
       "      <td>Return to Space was inspired by two of our fav...</td>\n",
       "      <td>4.25</td>\n",
       "    </tr>\n",
       "    <tr>\n",
       "      <th>4</th>\n",
       "      <td>Denim Vest-pionage West Coast IPA</td>\n",
       "      <td>3257257</td>\n",
       "      <td>IPA - American</td>\n",
       "      <td>3.87377</td>\n",
       "      <td>This west coast style IPA utilizes 5 pounds of...</td>\n",
       "      <td>4.00</td>\n",
       "    </tr>\n",
       "    <tr>\n",
       "      <th>5</th>\n",
       "      <td>Unplug IPA</td>\n",
       "      <td>3218663</td>\n",
       "      <td>IPA - American</td>\n",
       "      <td>3.83902</td>\n",
       "      <td>West coast style IPA with flavors and aromas o...</td>\n",
       "      <td>3.75</td>\n",
       "    </tr>\n",
       "  </tbody>\n",
       "</table>\n",
       "</div>"
      ],
      "text/plain": [
       "                      beer.beer_name  beer.bid  \\\n",
       "0               My Own Private Idaho   3467088   \n",
       "1                         Handup IPA   3311276   \n",
       "2                        Mad Respect   1445432   \n",
       "3                    Return to Space   2655469   \n",
       "4  Denim Vest-pionage West Coast IPA   3257257   \n",
       "5                         Unplug IPA   3218663   \n",
       "\n",
       "                     beer.beer_style  beer.rating_score  \\\n",
       "0  IPA - Session / India Session Ale            3.60516   \n",
       "1                     IPA - American            3.65708   \n",
       "2                     IPA - American            4.13043   \n",
       "3                  IPA - New England            4.11855   \n",
       "4                     IPA - American            3.87377   \n",
       "5                     IPA - American            3.83902   \n",
       "\n",
       "                               beer.beer_description  rating_score  \n",
       "0  Session ale with a subtle malt bill and fresh ...          3.75  \n",
       "1  West coast IPA with light malt character, brig...          3.75  \n",
       "2                                                NaN          4.00  \n",
       "3  Return to Space was inspired by two of our fav...          4.25  \n",
       "4  This west coast style IPA utilizes 5 pounds of...          4.00  \n",
       "5  West coast style IPA with flavors and aromas o...          3.75  "
      ]
     },
     "execution_count": 93,
     "metadata": {},
     "output_type": "execute_result"
    }
   ],
   "source": [
    "sample_beers.loc[:5,['beer.beer_name', 'beer.bid','beer.beer_style',\n",
    "                     'beer.rating_score','beer.beer_description','rating_score']]"
   ]
  },
  {
   "cell_type": "code",
   "execution_count": 95,
   "metadata": {
    "collapsed": false
   },
   "outputs": [
    {
     "data": {
      "text/plain": [
       "220598"
      ]
     },
     "execution_count": 95,
     "metadata": {},
     "output_type": "execute_result"
    }
   ],
   "source": [
    "len(sample_beers)"
   ]
  },
  {
   "cell_type": "markdown",
   "metadata": {},
   "source": [
    "#### How many of the 1000 sample_checkins are matched to this larger table?"
   ]
  },
  {
   "cell_type": "code",
   "execution_count": 96,
   "metadata": {
    "collapsed": true
   },
   "outputs": [],
   "source": [
    "id_desc = sample_beers[['beer.bid', 'beer.rating_score','beer.beer_description']]"
   ]
  },
  {
   "cell_type": "code",
   "execution_count": 108,
   "metadata": {
    "collapsed": false
   },
   "outputs": [],
   "source": [
    "# Make these unique for current merge\n",
    "id_desc = id_desc.drop_duplicates()"
   ]
  },
  {
   "cell_type": "code",
   "execution_count": 109,
   "metadata": {
    "collapsed": false
   },
   "outputs": [
    {
     "data": {
      "text/plain": [
       "122029"
      ]
     },
     "execution_count": 109,
     "metadata": {},
     "output_type": "execute_result"
    }
   ],
   "source": [
    "# how many unique rows\n",
    "len(id_desc)"
   ]
  },
  {
   "cell_type": "code",
   "execution_count": 110,
   "metadata": {
    "collapsed": false
   },
   "outputs": [],
   "source": [
    "# Inner join on beer.bid to add global rating and description where poss.\n",
    "matches = sample_checkins.merge(id_desc)"
   ]
  },
  {
   "cell_type": "code",
   "execution_count": 111,
   "metadata": {
    "collapsed": false
   },
   "outputs": [
    {
     "data": {
      "text/html": [
       "<div>\n",
       "<style>\n",
       "    .dataframe thead tr:only-child th {\n",
       "        text-align: right;\n",
       "    }\n",
       "\n",
       "    .dataframe thead th {\n",
       "        text-align: left;\n",
       "    }\n",
       "\n",
       "    .dataframe tbody tr th {\n",
       "        vertical-align: top;\n",
       "    }\n",
       "</style>\n",
       "<table border=\"1\" class=\"dataframe\">\n",
       "  <thead>\n",
       "    <tr style=\"text-align: right;\">\n",
       "      <th></th>\n",
       "      <th>checkin_id</th>\n",
       "      <th>beer.bid</th>\n",
       "      <th>user.uid</th>\n",
       "      <th>rating_score</th>\n",
       "      <th>beer.beer_abv</th>\n",
       "      <th>brewery.brewery_name</th>\n",
       "      <th>beer.beer_name</th>\n",
       "      <th>beer.beer_style</th>\n",
       "      <th>brewery.brewery_id</th>\n",
       "      <th>brewery.brewery_type</th>\n",
       "      <th>...</th>\n",
       "      <th>venue.location.venue_city</th>\n",
       "      <th>venue.location.venue_country</th>\n",
       "      <th>venue.location.venue_state</th>\n",
       "      <th>venue.primary_category</th>\n",
       "      <th>venue.venue_id</th>\n",
       "      <th>checkin_comment</th>\n",
       "      <th>created_at</th>\n",
       "      <th>venue.type</th>\n",
       "      <th>beer.rating_score</th>\n",
       "      <th>beer.beer_description</th>\n",
       "    </tr>\n",
       "  </thead>\n",
       "  <tbody>\n",
       "    <tr>\n",
       "      <th>0</th>\n",
       "      <td>815404364</td>\n",
       "      <td>331215</td>\n",
       "      <td>2997378</td>\n",
       "      <td>0.0</td>\n",
       "      <td>5.5</td>\n",
       "      <td>Half Acre Beer Company</td>\n",
       "      <td>Pony</td>\n",
       "      <td>Pilsner - German</td>\n",
       "      <td>1862</td>\n",
       "      <td>Regional Brewery</td>\n",
       "      <td>...</td>\n",
       "      <td>Seattle</td>\n",
       "      <td>United States</td>\n",
       "      <td>WA</td>\n",
       "      <td>Food</td>\n",
       "      <td>7058052.0</td>\n",
       "      <td>NaN</td>\n",
       "      <td>Thu, 10 Oct 2019 23:42:00 +0000</td>\n",
       "      <td>[pizza_place, beer_bar]</td>\n",
       "      <td>3.50751</td>\n",
       "      <td>Pony Pilsner is a firm take on the classic Ger...</td>\n",
       "    </tr>\n",
       "    <tr>\n",
       "      <th>1</th>\n",
       "      <td>815404364</td>\n",
       "      <td>331215</td>\n",
       "      <td>2997378</td>\n",
       "      <td>0.0</td>\n",
       "      <td>5.5</td>\n",
       "      <td>Half Acre Beer Company</td>\n",
       "      <td>Pony</td>\n",
       "      <td>Pilsner - German</td>\n",
       "      <td>1862</td>\n",
       "      <td>Regional Brewery</td>\n",
       "      <td>...</td>\n",
       "      <td>Seattle</td>\n",
       "      <td>United States</td>\n",
       "      <td>WA</td>\n",
       "      <td>Food</td>\n",
       "      <td>7058052.0</td>\n",
       "      <td>NaN</td>\n",
       "      <td>Thu, 10 Oct 2019 23:42:00 +0000</td>\n",
       "      <td>[pizza_place, beer_bar]</td>\n",
       "      <td>3.50753</td>\n",
       "      <td>Pony Pilsner is a firm take on the classic Ger...</td>\n",
       "    </tr>\n",
       "    <tr>\n",
       "      <th>2</th>\n",
       "      <td>801234367</td>\n",
       "      <td>3223488</td>\n",
       "      <td>5958535</td>\n",
       "      <td>4.0</td>\n",
       "      <td>6.0</td>\n",
       "      <td>Sierra Nevada Brewing Co.</td>\n",
       "      <td>Oktoberfest - Bitburger Braugruppe (2019)</td>\n",
       "      <td>Märzen</td>\n",
       "      <td>1142</td>\n",
       "      <td>Regional Brewery</td>\n",
       "      <td>...</td>\n",
       "      <td>NaN</td>\n",
       "      <td>NaN</td>\n",
       "      <td>NaN</td>\n",
       "      <td>NaN</td>\n",
       "      <td>NaN</td>\n",
       "      <td>NaN</td>\n",
       "      <td>Fri, 06 Sep 2019 01:15:31 +0000</td>\n",
       "      <td>[]</td>\n",
       "      <td>3.77989</td>\n",
       "      <td>It’s the ultimate season of revelry, so we tea...</td>\n",
       "    </tr>\n",
       "    <tr>\n",
       "      <th>3</th>\n",
       "      <td>801234367</td>\n",
       "      <td>3223488</td>\n",
       "      <td>5958535</td>\n",
       "      <td>4.0</td>\n",
       "      <td>6.0</td>\n",
       "      <td>Sierra Nevada Brewing Co.</td>\n",
       "      <td>Oktoberfest - Bitburger Braugruppe (2019)</td>\n",
       "      <td>Märzen</td>\n",
       "      <td>1142</td>\n",
       "      <td>Regional Brewery</td>\n",
       "      <td>...</td>\n",
       "      <td>NaN</td>\n",
       "      <td>NaN</td>\n",
       "      <td>NaN</td>\n",
       "      <td>NaN</td>\n",
       "      <td>NaN</td>\n",
       "      <td>NaN</td>\n",
       "      <td>Fri, 06 Sep 2019 01:15:31 +0000</td>\n",
       "      <td>[]</td>\n",
       "      <td>3.77977</td>\n",
       "      <td>It’s the ultimate season of revelry, so we tea...</td>\n",
       "    </tr>\n",
       "    <tr>\n",
       "      <th>4</th>\n",
       "      <td>801234367</td>\n",
       "      <td>3223488</td>\n",
       "      <td>5958535</td>\n",
       "      <td>4.0</td>\n",
       "      <td>6.0</td>\n",
       "      <td>Sierra Nevada Brewing Co.</td>\n",
       "      <td>Oktoberfest - Bitburger Braugruppe (2019)</td>\n",
       "      <td>Märzen</td>\n",
       "      <td>1142</td>\n",
       "      <td>Regional Brewery</td>\n",
       "      <td>...</td>\n",
       "      <td>NaN</td>\n",
       "      <td>NaN</td>\n",
       "      <td>NaN</td>\n",
       "      <td>NaN</td>\n",
       "      <td>NaN</td>\n",
       "      <td>NaN</td>\n",
       "      <td>Fri, 06 Sep 2019 01:15:31 +0000</td>\n",
       "      <td>[]</td>\n",
       "      <td>3.77974</td>\n",
       "      <td>It’s the ultimate season of revelry, so we tea...</td>\n",
       "    </tr>\n",
       "  </tbody>\n",
       "</table>\n",
       "<p>5 rows × 28 columns</p>\n",
       "</div>"
      ],
      "text/plain": [
       "   checkin_id  beer.bid  user.uid  rating_score  beer.beer_abv  \\\n",
       "0   815404364    331215   2997378           0.0            5.5   \n",
       "1   815404364    331215   2997378           0.0            5.5   \n",
       "2   801234367   3223488   5958535           4.0            6.0   \n",
       "3   801234367   3223488   5958535           4.0            6.0   \n",
       "4   801234367   3223488   5958535           4.0            6.0   \n",
       "\n",
       "        brewery.brewery_name                             beer.beer_name  \\\n",
       "0     Half Acre Beer Company                                       Pony   \n",
       "1     Half Acre Beer Company                                       Pony   \n",
       "2  Sierra Nevada Brewing Co.  Oktoberfest - Bitburger Braugruppe (2019)   \n",
       "3  Sierra Nevada Brewing Co.  Oktoberfest - Bitburger Braugruppe (2019)   \n",
       "4  Sierra Nevada Brewing Co.  Oktoberfest - Bitburger Braugruppe (2019)   \n",
       "\n",
       "    beer.beer_style  brewery.brewery_id brewery.brewery_type  \\\n",
       "0  Pilsner - German                1862     Regional Brewery   \n",
       "1  Pilsner - German                1862     Regional Brewery   \n",
       "2            Märzen                1142     Regional Brewery   \n",
       "3            Märzen                1142     Regional Brewery   \n",
       "4            Märzen                1142     Regional Brewery   \n",
       "\n",
       "                         ...                          \\\n",
       "0                        ...                           \n",
       "1                        ...                           \n",
       "2                        ...                           \n",
       "3                        ...                           \n",
       "4                        ...                           \n",
       "\n",
       "  venue.location.venue_city venue.location.venue_country  \\\n",
       "0                   Seattle                United States   \n",
       "1                   Seattle                United States   \n",
       "2                       NaN                          NaN   \n",
       "3                       NaN                          NaN   \n",
       "4                       NaN                          NaN   \n",
       "\n",
       "  venue.location.venue_state  venue.primary_category  venue.venue_id  \\\n",
       "0                         WA                    Food       7058052.0   \n",
       "1                         WA                    Food       7058052.0   \n",
       "2                        NaN                     NaN             NaN   \n",
       "3                        NaN                     NaN             NaN   \n",
       "4                        NaN                     NaN             NaN   \n",
       "\n",
       "  checkin_comment                       created_at               venue.type  \\\n",
       "0             NaN  Thu, 10 Oct 2019 23:42:00 +0000  [pizza_place, beer_bar]   \n",
       "1             NaN  Thu, 10 Oct 2019 23:42:00 +0000  [pizza_place, beer_bar]   \n",
       "2             NaN  Fri, 06 Sep 2019 01:15:31 +0000                       []   \n",
       "3             NaN  Fri, 06 Sep 2019 01:15:31 +0000                       []   \n",
       "4             NaN  Fri, 06 Sep 2019 01:15:31 +0000                       []   \n",
       "\n",
       "  beer.rating_score                              beer.beer_description  \n",
       "0           3.50751  Pony Pilsner is a firm take on the classic Ger...  \n",
       "1           3.50753  Pony Pilsner is a firm take on the classic Ger...  \n",
       "2           3.77989  It’s the ultimate season of revelry, so we tea...  \n",
       "3           3.77977  It’s the ultimate season of revelry, so we tea...  \n",
       "4           3.77974  It’s the ultimate season of revelry, so we tea...  \n",
       "\n",
       "[5 rows x 28 columns]"
      ]
     },
     "execution_count": 111,
     "metadata": {},
     "output_type": "execute_result"
    }
   ],
   "source": [
    "matches.head()"
   ]
  },
  {
   "cell_type": "code",
   "execution_count": 112,
   "metadata": {
    "collapsed": false
   },
   "outputs": [
    {
     "data": {
      "text/plain": [
       "(1327, 28)"
      ]
     },
     "execution_count": 112,
     "metadata": {},
     "output_type": "execute_result"
    }
   ],
   "source": [
    "matches.shape"
   ]
  },
  {
   "cell_type": "markdown",
   "metadata": {},
   "source": [
    "So apparently as the global rating changes slightly from checkin to checkin, that makes rows unique"
   ]
  },
  {
   "cell_type": "code",
   "execution_count": 113,
   "metadata": {
    "collapsed": false
   },
   "outputs": [
    {
     "name": "stdout",
     "output_type": "stream",
     "text": [
      "(720, 28)\n"
     ]
    },
    {
     "data": {
      "text/html": [
       "<div>\n",
       "<style>\n",
       "    .dataframe thead tr:only-child th {\n",
       "        text-align: right;\n",
       "    }\n",
       "\n",
       "    .dataframe thead th {\n",
       "        text-align: left;\n",
       "    }\n",
       "\n",
       "    .dataframe tbody tr th {\n",
       "        vertical-align: top;\n",
       "    }\n",
       "</style>\n",
       "<table border=\"1\" class=\"dataframe\">\n",
       "  <thead>\n",
       "    <tr style=\"text-align: right;\">\n",
       "      <th></th>\n",
       "      <th>checkin_id</th>\n",
       "      <th>beer.bid</th>\n",
       "      <th>user.uid</th>\n",
       "      <th>rating_score</th>\n",
       "      <th>beer.beer_abv</th>\n",
       "      <th>brewery.brewery_name</th>\n",
       "      <th>beer.beer_name</th>\n",
       "      <th>beer.beer_style</th>\n",
       "      <th>brewery.brewery_id</th>\n",
       "      <th>brewery.brewery_type</th>\n",
       "      <th>...</th>\n",
       "      <th>venue.location.venue_city</th>\n",
       "      <th>venue.location.venue_country</th>\n",
       "      <th>venue.location.venue_state</th>\n",
       "      <th>venue.primary_category</th>\n",
       "      <th>venue.venue_id</th>\n",
       "      <th>checkin_comment</th>\n",
       "      <th>created_at</th>\n",
       "      <th>venue.type</th>\n",
       "      <th>beer.rating_score</th>\n",
       "      <th>beer.beer_description</th>\n",
       "    </tr>\n",
       "  </thead>\n",
       "  <tbody>\n",
       "    <tr>\n",
       "      <th>0</th>\n",
       "      <td>815404364</td>\n",
       "      <td>331215</td>\n",
       "      <td>2997378</td>\n",
       "      <td>0.0</td>\n",
       "      <td>5.5</td>\n",
       "      <td>Half Acre Beer Company</td>\n",
       "      <td>Pony</td>\n",
       "      <td>Pilsner - German</td>\n",
       "      <td>1862</td>\n",
       "      <td>Regional Brewery</td>\n",
       "      <td>...</td>\n",
       "      <td>Seattle</td>\n",
       "      <td>United States</td>\n",
       "      <td>WA</td>\n",
       "      <td>Food</td>\n",
       "      <td>7058052.0</td>\n",
       "      <td>NaN</td>\n",
       "      <td>Thu, 10 Oct 2019 23:42:00 +0000</td>\n",
       "      <td>[pizza_place, beer_bar]</td>\n",
       "      <td>3.50751</td>\n",
       "      <td>Pony Pilsner is a firm take on the classic Ger...</td>\n",
       "    </tr>\n",
       "    <tr>\n",
       "      <th>2</th>\n",
       "      <td>801234367</td>\n",
       "      <td>3223488</td>\n",
       "      <td>5958535</td>\n",
       "      <td>4.0</td>\n",
       "      <td>6.0</td>\n",
       "      <td>Sierra Nevada Brewing Co.</td>\n",
       "      <td>Oktoberfest - Bitburger Braugruppe (2019)</td>\n",
       "      <td>Märzen</td>\n",
       "      <td>1142</td>\n",
       "      <td>Regional Brewery</td>\n",
       "      <td>...</td>\n",
       "      <td>NaN</td>\n",
       "      <td>NaN</td>\n",
       "      <td>NaN</td>\n",
       "      <td>NaN</td>\n",
       "      <td>NaN</td>\n",
       "      <td>NaN</td>\n",
       "      <td>Fri, 06 Sep 2019 01:15:31 +0000</td>\n",
       "      <td>[]</td>\n",
       "      <td>3.77989</td>\n",
       "      <td>It’s the ultimate season of revelry, so we tea...</td>\n",
       "    </tr>\n",
       "    <tr>\n",
       "      <th>5</th>\n",
       "      <td>801276636</td>\n",
       "      <td>3223488</td>\n",
       "      <td>9337</td>\n",
       "      <td>0.0</td>\n",
       "      <td>6.0</td>\n",
       "      <td>Sierra Nevada Brewing Co.</td>\n",
       "      <td>Oktoberfest - Bitburger Braugruppe (2019)</td>\n",
       "      <td>Märzen</td>\n",
       "      <td>1142</td>\n",
       "      <td>Regional Brewery</td>\n",
       "      <td>...</td>\n",
       "      <td>Santa Ana</td>\n",
       "      <td>United States</td>\n",
       "      <td>CA</td>\n",
       "      <td>Nightlife Spot</td>\n",
       "      <td>780494.0</td>\n",
       "      <td>NaN</td>\n",
       "      <td>Fri, 06 Sep 2019 03:04:41 +0000</td>\n",
       "      <td>[dive_bar]</td>\n",
       "      <td>3.77989</td>\n",
       "      <td>It’s the ultimate season of revelry, so we tea...</td>\n",
       "    </tr>\n",
       "    <tr>\n",
       "      <th>8</th>\n",
       "      <td>731686382</td>\n",
       "      <td>3123862</td>\n",
       "      <td>1417868</td>\n",
       "      <td>4.0</td>\n",
       "      <td>4.9</td>\n",
       "      <td>Backpocket Brewing</td>\n",
       "      <td>Kitty Lime Pie</td>\n",
       "      <td>Sour - Gose - Fruited</td>\n",
       "      <td>14975</td>\n",
       "      <td>Micro Brewery</td>\n",
       "      <td>...</td>\n",
       "      <td>Cedar Rapids</td>\n",
       "      <td>United States</td>\n",
       "      <td>IA</td>\n",
       "      <td>Nightlife Spot</td>\n",
       "      <td>8731918.0</td>\n",
       "      <td>NaN</td>\n",
       "      <td>Wed, 03 Apr 2019 20:42:36 +0000</td>\n",
       "      <td>[beer_bar]</td>\n",
       "      <td>3.81425</td>\n",
       "      <td>NaN</td>\n",
       "    </tr>\n",
       "    <tr>\n",
       "      <th>9</th>\n",
       "      <td>467952253</td>\n",
       "      <td>594015</td>\n",
       "      <td>3473594</td>\n",
       "      <td>0.0</td>\n",
       "      <td>7.8</td>\n",
       "      <td>Toppling Goliath Brewing Co.</td>\n",
       "      <td>King Sue</td>\n",
       "      <td>IPA - Imperial / Double New England</td>\n",
       "      <td>7532</td>\n",
       "      <td>Micro Brewery</td>\n",
       "      <td>...</td>\n",
       "      <td>NaN</td>\n",
       "      <td>NaN</td>\n",
       "      <td>NaN</td>\n",
       "      <td>NaN</td>\n",
       "      <td>NaN</td>\n",
       "      <td>NaN</td>\n",
       "      <td>Wed, 21 Jun 2017 22:30:07 +0000</td>\n",
       "      <td>[]</td>\n",
       "      <td>4.42120</td>\n",
       "      <td>This lusciously hazy double IPA gains its hint...</td>\n",
       "    </tr>\n",
       "  </tbody>\n",
       "</table>\n",
       "<p>5 rows × 28 columns</p>\n",
       "</div>"
      ],
      "text/plain": [
       "   checkin_id  beer.bid  user.uid  rating_score  beer.beer_abv  \\\n",
       "0   815404364    331215   2997378           0.0            5.5   \n",
       "2   801234367   3223488   5958535           4.0            6.0   \n",
       "5   801276636   3223488      9337           0.0            6.0   \n",
       "8   731686382   3123862   1417868           4.0            4.9   \n",
       "9   467952253    594015   3473594           0.0            7.8   \n",
       "\n",
       "           brewery.brewery_name                             beer.beer_name  \\\n",
       "0        Half Acre Beer Company                                       Pony   \n",
       "2     Sierra Nevada Brewing Co.  Oktoberfest - Bitburger Braugruppe (2019)   \n",
       "5     Sierra Nevada Brewing Co.  Oktoberfest - Bitburger Braugruppe (2019)   \n",
       "8            Backpocket Brewing                             Kitty Lime Pie   \n",
       "9  Toppling Goliath Brewing Co.                                   King Sue   \n",
       "\n",
       "                       beer.beer_style  brewery.brewery_id  \\\n",
       "0                     Pilsner - German                1862   \n",
       "2                               Märzen                1142   \n",
       "5                               Märzen                1142   \n",
       "8                Sour - Gose - Fruited               14975   \n",
       "9  IPA - Imperial / Double New England                7532   \n",
       "\n",
       "  brewery.brewery_type                        ...                          \\\n",
       "0     Regional Brewery                        ...                           \n",
       "2     Regional Brewery                        ...                           \n",
       "5     Regional Brewery                        ...                           \n",
       "8        Micro Brewery                        ...                           \n",
       "9        Micro Brewery                        ...                           \n",
       "\n",
       "  venue.location.venue_city venue.location.venue_country  \\\n",
       "0                   Seattle                United States   \n",
       "2                       NaN                          NaN   \n",
       "5                 Santa Ana                United States   \n",
       "8              Cedar Rapids                United States   \n",
       "9                       NaN                          NaN   \n",
       "\n",
       "  venue.location.venue_state  venue.primary_category  venue.venue_id  \\\n",
       "0                         WA                    Food       7058052.0   \n",
       "2                        NaN                     NaN             NaN   \n",
       "5                         CA          Nightlife Spot        780494.0   \n",
       "8                         IA          Nightlife Spot       8731918.0   \n",
       "9                        NaN                     NaN             NaN   \n",
       "\n",
       "  checkin_comment                       created_at               venue.type  \\\n",
       "0             NaN  Thu, 10 Oct 2019 23:42:00 +0000  [pizza_place, beer_bar]   \n",
       "2             NaN  Fri, 06 Sep 2019 01:15:31 +0000                       []   \n",
       "5             NaN  Fri, 06 Sep 2019 03:04:41 +0000               [dive_bar]   \n",
       "8             NaN  Wed, 03 Apr 2019 20:42:36 +0000               [beer_bar]   \n",
       "9             NaN  Wed, 21 Jun 2017 22:30:07 +0000                       []   \n",
       "\n",
       "  beer.rating_score                              beer.beer_description  \n",
       "0           3.50751  Pony Pilsner is a firm take on the classic Ger...  \n",
       "2           3.77989  It’s the ultimate season of revelry, so we tea...  \n",
       "5           3.77989  It’s the ultimate season of revelry, so we tea...  \n",
       "8           3.81425                                                NaN  \n",
       "9           4.42120  This lusciously hazy double IPA gains its hint...  \n",
       "\n",
       "[5 rows x 28 columns]"
      ]
     },
     "execution_count": 113,
     "metadata": {},
     "output_type": "execute_result"
    }
   ],
   "source": [
    "matches.drop_duplicates('checkin_id', keep='first', inplace=True)  # The keep='first' is arbitrary\n",
    "print(matches.shape)\n",
    "matches.head()"
   ]
  },
  {
   "cell_type": "code",
   "execution_count": 115,
   "metadata": {
    "collapsed": false
   },
   "outputs": [
    {
     "data": {
      "text/html": [
       "<div>\n",
       "<style>\n",
       "    .dataframe thead tr:only-child th {\n",
       "        text-align: right;\n",
       "    }\n",
       "\n",
       "    .dataframe thead th {\n",
       "        text-align: left;\n",
       "    }\n",
       "\n",
       "    .dataframe tbody tr th {\n",
       "        vertical-align: top;\n",
       "    }\n",
       "</style>\n",
       "<table border=\"1\" class=\"dataframe\">\n",
       "  <thead>\n",
       "    <tr style=\"text-align: right;\">\n",
       "      <th></th>\n",
       "      <th>checkin_id</th>\n",
       "      <th>beer.bid</th>\n",
       "      <th>user.uid</th>\n",
       "      <th>rating_score</th>\n",
       "      <th>beer.beer_abv</th>\n",
       "      <th>brewery.brewery_name</th>\n",
       "      <th>beer.beer_name</th>\n",
       "      <th>beer.beer_style</th>\n",
       "      <th>brewery.brewery_id</th>\n",
       "      <th>brewery.brewery_type</th>\n",
       "      <th>...</th>\n",
       "      <th>venue.location.lat</th>\n",
       "      <th>venue.location.lng</th>\n",
       "      <th>venue.location.venue_city</th>\n",
       "      <th>venue.location.venue_country</th>\n",
       "      <th>venue.location.venue_state</th>\n",
       "      <th>venue.primary_category</th>\n",
       "      <th>venue.venue_id</th>\n",
       "      <th>checkin_comment</th>\n",
       "      <th>created_at</th>\n",
       "      <th>venue.type</th>\n",
       "    </tr>\n",
       "  </thead>\n",
       "  <tbody>\n",
       "    <tr>\n",
       "      <th>1</th>\n",
       "      <td>801234367</td>\n",
       "      <td>3223488</td>\n",
       "      <td>5958535</td>\n",
       "      <td>4.0</td>\n",
       "      <td>6.0</td>\n",
       "      <td>Sierra Nevada Brewing Co.</td>\n",
       "      <td>Oktoberfest - Bitburger Braugruppe (2019)</td>\n",
       "      <td>Märzen</td>\n",
       "      <td>1142</td>\n",
       "      <td>Regional Brewery</td>\n",
       "      <td>...</td>\n",
       "      <td>NaN</td>\n",
       "      <td>NaN</td>\n",
       "      <td>NaN</td>\n",
       "      <td>NaN</td>\n",
       "      <td>NaN</td>\n",
       "      <td>NaN</td>\n",
       "      <td>NaN</td>\n",
       "      <td>NaN</td>\n",
       "      <td>Fri, 06 Sep 2019 01:15:31 +0000</td>\n",
       "      <td>[]</td>\n",
       "    </tr>\n",
       "    <tr>\n",
       "      <th>124</th>\n",
       "      <td>801276636</td>\n",
       "      <td>3223488</td>\n",
       "      <td>9337</td>\n",
       "      <td>0.0</td>\n",
       "      <td>6.0</td>\n",
       "      <td>Sierra Nevada Brewing Co.</td>\n",
       "      <td>Oktoberfest - Bitburger Braugruppe (2019)</td>\n",
       "      <td>Märzen</td>\n",
       "      <td>1142</td>\n",
       "      <td>Regional Brewery</td>\n",
       "      <td>...</td>\n",
       "      <td>33.7609</td>\n",
       "      <td>-117.869</td>\n",
       "      <td>Santa Ana</td>\n",
       "      <td>United States</td>\n",
       "      <td>CA</td>\n",
       "      <td>Nightlife Spot</td>\n",
       "      <td>780494.0</td>\n",
       "      <td>NaN</td>\n",
       "      <td>Fri, 06 Sep 2019 03:04:41 +0000</td>\n",
       "      <td>[dive_bar]</td>\n",
       "    </tr>\n",
       "  </tbody>\n",
       "</table>\n",
       "<p>2 rows × 26 columns</p>\n",
       "</div>"
      ],
      "text/plain": [
       "     checkin_id  beer.bid  user.uid  rating_score  beer.beer_abv  \\\n",
       "1     801234367   3223488   5958535           4.0            6.0   \n",
       "124   801276636   3223488      9337           0.0            6.0   \n",
       "\n",
       "          brewery.brewery_name                             beer.beer_name  \\\n",
       "1    Sierra Nevada Brewing Co.  Oktoberfest - Bitburger Braugruppe (2019)   \n",
       "124  Sierra Nevada Brewing Co.  Oktoberfest - Bitburger Braugruppe (2019)   \n",
       "\n",
       "    beer.beer_style  brewery.brewery_id brewery.brewery_type     ...      \\\n",
       "1            Märzen                1142     Regional Brewery     ...       \n",
       "124          Märzen                1142     Regional Brewery     ...       \n",
       "\n",
       "    venue.location.lat venue.location.lng venue.location.venue_city  \\\n",
       "1                  NaN                NaN                       NaN   \n",
       "124            33.7609           -117.869                 Santa Ana   \n",
       "\n",
       "     venue.location.venue_country  venue.location.venue_state  \\\n",
       "1                             NaN                         NaN   \n",
       "124                 United States                          CA   \n",
       "\n",
       "    venue.primary_category  venue.venue_id  checkin_comment  \\\n",
       "1                      NaN             NaN              NaN   \n",
       "124         Nightlife Spot        780494.0              NaN   \n",
       "\n",
       "                          created_at  venue.type  \n",
       "1    Fri, 06 Sep 2019 01:15:31 +0000          []  \n",
       "124  Fri, 06 Sep 2019 03:04:41 +0000  [dive_bar]  \n",
       "\n",
       "[2 rows x 26 columns]"
      ]
     },
     "execution_count": 115,
     "metadata": {},
     "output_type": "execute_result"
    }
   ],
   "source": [
    "# I see some duped beers there. Is that random from the sampled 1000 checkins, out of 1.5 Mil?\n",
    "sample_checkins[sample_checkins['beer.bid'] == 3223488]"
   ]
  },
  {
   "cell_type": "markdown",
   "metadata": {},
   "source": [
    "hmmm, random that it showed up in first 5 rows of matched"
   ]
  },
  {
   "cell_type": "code",
   "execution_count": 116,
   "metadata": {
    "collapsed": false
   },
   "outputs": [
    {
     "data": {
      "text/plain": [
       "977"
      ]
     },
     "execution_count": 116,
     "metadata": {},
     "output_type": "execute_result"
    }
   ],
   "source": [
    "len(sample_checkins['beer.bid'].unique())  # ok well apparently this is the birthday paradox:\n",
    "         # If you randomly sample 1000 beers from the list of 1.5 Mil checkins, you'll get 23 dupes"
   ]
  },
  {
   "cell_type": "code",
   "execution_count": 117,
   "metadata": {
    "collapsed": false
   },
   "outputs": [
    {
     "data": {
      "text/plain": [
       "698"
      ]
     },
     "execution_count": 117,
     "metadata": {},
     "output_type": "execute_result"
    }
   ],
   "source": [
    "len(matches['beer.bid'].unique()) "
   ]
  },
  {
   "cell_type": "markdown",
   "metadata": {},
   "source": [
    "#### Looks like about 70% of the 1.5 M will have a global rating from the first 220K userbeers."
   ]
  },
  {
   "cell_type": "code",
   "execution_count": 120,
   "metadata": {
    "collapsed": false
   },
   "outputs": [
    {
     "data": {
      "text/html": [
       "<div>\n",
       "<style>\n",
       "    .dataframe thead tr:only-child th {\n",
       "        text-align: right;\n",
       "    }\n",
       "\n",
       "    .dataframe thead th {\n",
       "        text-align: left;\n",
       "    }\n",
       "\n",
       "    .dataframe tbody tr th {\n",
       "        vertical-align: top;\n",
       "    }\n",
       "</style>\n",
       "<table border=\"1\" class=\"dataframe\">\n",
       "  <thead>\n",
       "    <tr style=\"text-align: right;\">\n",
       "      <th></th>\n",
       "      <th>checkin_id</th>\n",
       "      <th>beer.bid</th>\n",
       "      <th>user.uid</th>\n",
       "      <th>rating_score</th>\n",
       "      <th>beer.beer_abv</th>\n",
       "      <th>brewery.brewery_name</th>\n",
       "      <th>beer.beer_name</th>\n",
       "      <th>beer.beer_style</th>\n",
       "      <th>brewery.brewery_id</th>\n",
       "      <th>brewery.brewery_type</th>\n",
       "      <th>...</th>\n",
       "      <th>venue.location.venue_city</th>\n",
       "      <th>venue.location.venue_country</th>\n",
       "      <th>venue.location.venue_state</th>\n",
       "      <th>venue.primary_category</th>\n",
       "      <th>venue.venue_id</th>\n",
       "      <th>checkin_comment</th>\n",
       "      <th>created_at</th>\n",
       "      <th>venue.type</th>\n",
       "      <th>beer.rating_score</th>\n",
       "      <th>beer.beer_description</th>\n",
       "    </tr>\n",
       "  </thead>\n",
       "  <tbody>\n",
       "    <tr>\n",
       "      <th>2</th>\n",
       "      <td>801234367</td>\n",
       "      <td>3223488</td>\n",
       "      <td>5958535</td>\n",
       "      <td>4.00</td>\n",
       "      <td>6.0</td>\n",
       "      <td>Sierra Nevada Brewing Co.</td>\n",
       "      <td>Oktoberfest - Bitburger Braugruppe (2019)</td>\n",
       "      <td>Märzen</td>\n",
       "      <td>1142</td>\n",
       "      <td>Regional Brewery</td>\n",
       "      <td>...</td>\n",
       "      <td>NaN</td>\n",
       "      <td>NaN</td>\n",
       "      <td>NaN</td>\n",
       "      <td>NaN</td>\n",
       "      <td>NaN</td>\n",
       "      <td>NaN</td>\n",
       "      <td>Fri, 06 Sep 2019 01:15:31 +0000</td>\n",
       "      <td>[]</td>\n",
       "      <td>3.77989</td>\n",
       "      <td>It’s the ultimate season of revelry, so we tea...</td>\n",
       "    </tr>\n",
       "    <tr>\n",
       "      <th>8</th>\n",
       "      <td>731686382</td>\n",
       "      <td>3123862</td>\n",
       "      <td>1417868</td>\n",
       "      <td>4.00</td>\n",
       "      <td>4.9</td>\n",
       "      <td>Backpocket Brewing</td>\n",
       "      <td>Kitty Lime Pie</td>\n",
       "      <td>Sour - Gose - Fruited</td>\n",
       "      <td>14975</td>\n",
       "      <td>Micro Brewery</td>\n",
       "      <td>...</td>\n",
       "      <td>Cedar Rapids</td>\n",
       "      <td>United States</td>\n",
       "      <td>IA</td>\n",
       "      <td>Nightlife Spot</td>\n",
       "      <td>8731918.0</td>\n",
       "      <td>NaN</td>\n",
       "      <td>Wed, 03 Apr 2019 20:42:36 +0000</td>\n",
       "      <td>[beer_bar]</td>\n",
       "      <td>3.81425</td>\n",
       "      <td>NaN</td>\n",
       "    </tr>\n",
       "    <tr>\n",
       "      <th>12</th>\n",
       "      <td>767285735</td>\n",
       "      <td>3156308</td>\n",
       "      <td>425580</td>\n",
       "      <td>2.75</td>\n",
       "      <td>9.5</td>\n",
       "      <td>Brewery Ommegang</td>\n",
       "      <td>Game of Thrones: For the Throne</td>\n",
       "      <td>Belgian Strong Golden Ale</td>\n",
       "      <td>249</td>\n",
       "      <td>Regional Brewery</td>\n",
       "      <td>...</td>\n",
       "      <td>NaN</td>\n",
       "      <td>NaN</td>\n",
       "      <td>NaN</td>\n",
       "      <td>NaN</td>\n",
       "      <td>NaN</td>\n",
       "      <td>NaN</td>\n",
       "      <td>Sun, 23 Jun 2019 00:56:48 +0000</td>\n",
       "      <td>[]</td>\n",
       "      <td>3.79065</td>\n",
       "      <td>Golden ale co-fermented with Pinot Grigio and ...</td>\n",
       "    </tr>\n",
       "    <tr>\n",
       "      <th>15</th>\n",
       "      <td>670551001</td>\n",
       "      <td>77509</td>\n",
       "      <td>29596</td>\n",
       "      <td>3.75</td>\n",
       "      <td>7.8</td>\n",
       "      <td>Toppling Goliath Brewing Co.</td>\n",
       "      <td>Hopsmack!</td>\n",
       "      <td>IPA - Imperial / Double</td>\n",
       "      <td>7532</td>\n",
       "      <td>Micro Brewery</td>\n",
       "      <td>...</td>\n",
       "      <td>Independence</td>\n",
       "      <td>United States</td>\n",
       "      <td>IA</td>\n",
       "      <td>Residence</td>\n",
       "      <td>545631.0</td>\n",
       "      <td>NaN</td>\n",
       "      <td>Thu, 01 Nov 2018 20:09:27 +0000</td>\n",
       "      <td>[home_private]</td>\n",
       "      <td>4.20955</td>\n",
       "      <td>Giant aromas of pineapple and tropical fruit j...</td>\n",
       "    </tr>\n",
       "    <tr>\n",
       "      <th>17</th>\n",
       "      <td>791830110</td>\n",
       "      <td>2498961</td>\n",
       "      <td>4174460</td>\n",
       "      <td>4.50</td>\n",
       "      <td>7.8</td>\n",
       "      <td>Bissell Brothers Brewing Company</td>\n",
       "      <td>Preserve &amp; Protect</td>\n",
       "      <td>IPA - New England</td>\n",
       "      <td>32943</td>\n",
       "      <td>Micro Brewery</td>\n",
       "      <td>...</td>\n",
       "      <td>Wells</td>\n",
       "      <td>United States</td>\n",
       "      <td>ME</td>\n",
       "      <td>Food</td>\n",
       "      <td>2007273.0</td>\n",
       "      <td>NaN</td>\n",
       "      <td>Thu, 15 Aug 2019 20:30:15 +0000</td>\n",
       "      <td>[donut_shop, breakfast_spot, bakery]</td>\n",
       "      <td>4.26318</td>\n",
       "      <td>Preserve &amp; Protect, a 7.8% IPA built off the b...</td>\n",
       "    </tr>\n",
       "    <tr>\n",
       "      <th>19</th>\n",
       "      <td>776850577</td>\n",
       "      <td>3249910</td>\n",
       "      <td>2882933</td>\n",
       "      <td>3.75</td>\n",
       "      <td>5.2</td>\n",
       "      <td>Devil Wind Brewing</td>\n",
       "      <td>Old 807</td>\n",
       "      <td>IPA - English</td>\n",
       "      <td>387132</td>\n",
       "      <td>Micro Brewery</td>\n",
       "      <td>...</td>\n",
       "      <td>Dayton</td>\n",
       "      <td>United States</td>\n",
       "      <td>OH</td>\n",
       "      <td>Outdoors &amp; Recreation</td>\n",
       "      <td>350622.0</td>\n",
       "      <td>NaN</td>\n",
       "      <td>Sat, 13 Jul 2019 21:20:05 +0000</td>\n",
       "      <td>[park, historic_site]</td>\n",
       "      <td>3.57265</td>\n",
       "      <td>NaN</td>\n",
       "    </tr>\n",
       "    <tr>\n",
       "      <th>20</th>\n",
       "      <td>775772923</td>\n",
       "      <td>3292112</td>\n",
       "      <td>138446</td>\n",
       "      <td>4.00</td>\n",
       "      <td>4.4</td>\n",
       "      <td>Dirty Couch Brewing</td>\n",
       "      <td>Founder And the Argumentist: Passion Fruit</td>\n",
       "      <td>Sour - Fruited</td>\n",
       "      <td>192460</td>\n",
       "      <td>Micro Brewery</td>\n",
       "      <td>...</td>\n",
       "      <td>Seattle</td>\n",
       "      <td>United States</td>\n",
       "      <td>WA</td>\n",
       "      <td>Nightlife Spot</td>\n",
       "      <td>7616553.0</td>\n",
       "      <td>NaN</td>\n",
       "      <td>Fri, 12 Jul 2019 03:12:01 +0000</td>\n",
       "      <td>[brewery]</td>\n",
       "      <td>4.05699</td>\n",
       "      <td>Blended sour farmhouse ale with passion fruit.</td>\n",
       "    </tr>\n",
       "    <tr>\n",
       "      <th>21</th>\n",
       "      <td>795478052</td>\n",
       "      <td>3276699</td>\n",
       "      <td>2628278</td>\n",
       "      <td>4.25</td>\n",
       "      <td>7.0</td>\n",
       "      <td>Odin Brewing Company</td>\n",
       "      <td>Fog Dragon Hazy IPA</td>\n",
       "      <td>IPA - New England</td>\n",
       "      <td>5498</td>\n",
       "      <td>Micro Brewery</td>\n",
       "      <td>...</td>\n",
       "      <td>Tukwila</td>\n",
       "      <td>United States</td>\n",
       "      <td>WA</td>\n",
       "      <td>Nightlife Spot</td>\n",
       "      <td>2037813.0</td>\n",
       "      <td>NaN</td>\n",
       "      <td>Fri, 23 Aug 2019 22:54:11 +0000</td>\n",
       "      <td>[brewery]</td>\n",
       "      <td>3.81282</td>\n",
       "      <td>NaN</td>\n",
       "    </tr>\n",
       "    <tr>\n",
       "      <th>22</th>\n",
       "      <td>719937904</td>\n",
       "      <td>1143686</td>\n",
       "      <td>1497516</td>\n",
       "      <td>4.00</td>\n",
       "      <td>6.8</td>\n",
       "      <td>Green Bench Brewing Co</td>\n",
       "      <td>Sunshine City IPA</td>\n",
       "      <td>IPA - American</td>\n",
       "      <td>60255</td>\n",
       "      <td>Micro Brewery</td>\n",
       "      <td>...</td>\n",
       "      <td>Tallahassee</td>\n",
       "      <td>United States</td>\n",
       "      <td>FL</td>\n",
       "      <td>Food</td>\n",
       "      <td>4844922.0</td>\n",
       "      <td>NaN</td>\n",
       "      <td>Tue, 05 Mar 2019 18:18:05 +0000</td>\n",
       "      <td>[american_restaurant, southern_soul_food_resta...</td>\n",
       "      <td>3.83552</td>\n",
       "      <td>Packed with hop flavor and aroma, we double dr...</td>\n",
       "    </tr>\n",
       "    <tr>\n",
       "      <th>25</th>\n",
       "      <td>710767388</td>\n",
       "      <td>6477</td>\n",
       "      <td>5738546</td>\n",
       "      <td>3.75</td>\n",
       "      <td>4.5</td>\n",
       "      <td>North Coast Brewing Company</td>\n",
       "      <td>Blue Star</td>\n",
       "      <td>Wheat Beer - American Pale Wheat</td>\n",
       "      <td>919</td>\n",
       "      <td>Regional Brewery</td>\n",
       "      <td>...</td>\n",
       "      <td>Chapel Hill</td>\n",
       "      <td>United States</td>\n",
       "      <td>NC</td>\n",
       "      <td>Nightlife Spot</td>\n",
       "      <td>4263258.0</td>\n",
       "      <td>Delicious</td>\n",
       "      <td>Sat, 09 Feb 2019 22:55:55 +0000</td>\n",
       "      <td>[beer_bar, wine_bar, pizza_place]</td>\n",
       "      <td>3.44476</td>\n",
       "      <td>Brewed in the style of the American Craft Beer...</td>\n",
       "    </tr>\n",
       "  </tbody>\n",
       "</table>\n",
       "<p>10 rows × 28 columns</p>\n",
       "</div>"
      ],
      "text/plain": [
       "    checkin_id  beer.bid  user.uid  rating_score  beer.beer_abv  \\\n",
       "2    801234367   3223488   5958535          4.00            6.0   \n",
       "8    731686382   3123862   1417868          4.00            4.9   \n",
       "12   767285735   3156308    425580          2.75            9.5   \n",
       "15   670551001     77509     29596          3.75            7.8   \n",
       "17   791830110   2498961   4174460          4.50            7.8   \n",
       "19   776850577   3249910   2882933          3.75            5.2   \n",
       "20   775772923   3292112    138446          4.00            4.4   \n",
       "21   795478052   3276699   2628278          4.25            7.0   \n",
       "22   719937904   1143686   1497516          4.00            6.8   \n",
       "25   710767388      6477   5738546          3.75            4.5   \n",
       "\n",
       "                brewery.brewery_name  \\\n",
       "2          Sierra Nevada Brewing Co.   \n",
       "8                 Backpocket Brewing   \n",
       "12                  Brewery Ommegang   \n",
       "15      Toppling Goliath Brewing Co.   \n",
       "17  Bissell Brothers Brewing Company   \n",
       "19                Devil Wind Brewing   \n",
       "20               Dirty Couch Brewing   \n",
       "21              Odin Brewing Company   \n",
       "22            Green Bench Brewing Co   \n",
       "25       North Coast Brewing Company   \n",
       "\n",
       "                                beer.beer_name  \\\n",
       "2    Oktoberfest - Bitburger Braugruppe (2019)   \n",
       "8                               Kitty Lime Pie   \n",
       "12             Game of Thrones: For the Throne   \n",
       "15                                  Hopsmack!    \n",
       "17                          Preserve & Protect   \n",
       "19                                     Old 807   \n",
       "20  Founder And the Argumentist: Passion Fruit   \n",
       "21                         Fog Dragon Hazy IPA   \n",
       "22                           Sunshine City IPA   \n",
       "25                                   Blue Star   \n",
       "\n",
       "                     beer.beer_style  brewery.brewery_id brewery.brewery_type  \\\n",
       "2                             Märzen                1142     Regional Brewery   \n",
       "8              Sour - Gose - Fruited               14975        Micro Brewery   \n",
       "12         Belgian Strong Golden Ale                 249     Regional Brewery   \n",
       "15           IPA - Imperial / Double                7532        Micro Brewery   \n",
       "17                 IPA - New England               32943        Micro Brewery   \n",
       "19                     IPA - English              387132        Micro Brewery   \n",
       "20                    Sour - Fruited              192460        Micro Brewery   \n",
       "21                 IPA - New England                5498        Micro Brewery   \n",
       "22                    IPA - American               60255        Micro Brewery   \n",
       "25  Wheat Beer - American Pale Wheat                 919     Regional Brewery   \n",
       "\n",
       "                          ...                          \\\n",
       "2                         ...                           \n",
       "8                         ...                           \n",
       "12                        ...                           \n",
       "15                        ...                           \n",
       "17                        ...                           \n",
       "19                        ...                           \n",
       "20                        ...                           \n",
       "21                        ...                           \n",
       "22                        ...                           \n",
       "25                        ...                           \n",
       "\n",
       "   venue.location.venue_city venue.location.venue_country  \\\n",
       "2                        NaN                          NaN   \n",
       "8               Cedar Rapids                United States   \n",
       "12                       NaN                          NaN   \n",
       "15              Independence                United States   \n",
       "17                     Wells                United States   \n",
       "19                    Dayton                United States   \n",
       "20                   Seattle                United States   \n",
       "21                   Tukwila                United States   \n",
       "22               Tallahassee                United States   \n",
       "25               Chapel Hill                United States   \n",
       "\n",
       "   venue.location.venue_state  venue.primary_category  venue.venue_id  \\\n",
       "2                         NaN                     NaN             NaN   \n",
       "8                          IA          Nightlife Spot       8731918.0   \n",
       "12                        NaN                     NaN             NaN   \n",
       "15                         IA               Residence        545631.0   \n",
       "17                         ME                    Food       2007273.0   \n",
       "19                         OH   Outdoors & Recreation        350622.0   \n",
       "20                         WA          Nightlife Spot       7616553.0   \n",
       "21                         WA          Nightlife Spot       2037813.0   \n",
       "22                         FL                    Food       4844922.0   \n",
       "25                         NC          Nightlife Spot       4263258.0   \n",
       "\n",
       "   checkin_comment                       created_at  \\\n",
       "2              NaN  Fri, 06 Sep 2019 01:15:31 +0000   \n",
       "8              NaN  Wed, 03 Apr 2019 20:42:36 +0000   \n",
       "12             NaN  Sun, 23 Jun 2019 00:56:48 +0000   \n",
       "15             NaN  Thu, 01 Nov 2018 20:09:27 +0000   \n",
       "17             NaN  Thu, 15 Aug 2019 20:30:15 +0000   \n",
       "19             NaN  Sat, 13 Jul 2019 21:20:05 +0000   \n",
       "20             NaN  Fri, 12 Jul 2019 03:12:01 +0000   \n",
       "21             NaN  Fri, 23 Aug 2019 22:54:11 +0000   \n",
       "22             NaN  Tue, 05 Mar 2019 18:18:05 +0000   \n",
       "25       Delicious  Sat, 09 Feb 2019 22:55:55 +0000   \n",
       "\n",
       "                                           venue.type beer.rating_score  \\\n",
       "2                                                  []           3.77989   \n",
       "8                                          [beer_bar]           3.81425   \n",
       "12                                                 []           3.79065   \n",
       "15                                     [home_private]           4.20955   \n",
       "17               [donut_shop, breakfast_spot, bakery]           4.26318   \n",
       "19                              [park, historic_site]           3.57265   \n",
       "20                                          [brewery]           4.05699   \n",
       "21                                          [brewery]           3.81282   \n",
       "22  [american_restaurant, southern_soul_food_resta...           3.83552   \n",
       "25                  [beer_bar, wine_bar, pizza_place]           3.44476   \n",
       "\n",
       "                                beer.beer_description  \n",
       "2   It’s the ultimate season of revelry, so we tea...  \n",
       "8                                                 NaN  \n",
       "12  Golden ale co-fermented with Pinot Grigio and ...  \n",
       "15  Giant aromas of pineapple and tropical fruit j...  \n",
       "17  Preserve & Protect, a 7.8% IPA built off the b...  \n",
       "19                                                NaN  \n",
       "20     Blended sour farmhouse ale with passion fruit.  \n",
       "21                                                NaN  \n",
       "22  Packed with hop flavor and aroma, we double dr...  \n",
       "25  Brewed in the style of the American Craft Beer...  \n",
       "\n",
       "[10 rows x 28 columns]"
      ]
     },
     "execution_count": 120,
     "metadata": {},
     "output_type": "execute_result"
    }
   ],
   "source": [
    "matches[matches.rating_score > 0].head(10)"
   ]
  },
  {
   "cell_type": "markdown",
   "metadata": {},
   "source": [
    "### And what matches that from BreweryDB?"
   ]
  },
  {
   "cell_type": "code",
   "execution_count": 121,
   "metadata": {
    "collapsed": true
   },
   "outputs": [],
   "source": [
    "# strip down brewery names\n",
    "def strip_brewery(name):\n",
    "    result = name.strip()\n",
    "    if result.endswith(' Company'):\n",
    "        result = result[:-8]\n",
    "    elif result.endswith(' Co.'):\n",
    "        result = result[:-4]\n",
    "    elif result.endswith(' Co'):\n",
    "        result = result[:-3]\n",
    "    if result.endswith(' Brewery') or result.endswith(' Brewing'):\n",
    "        result = result[:-8]\n",
    "    return result.strip().lower()\n",
    "\n",
    "#strip down IPA names\n",
    "def strip_beer(name):\n",
    "    result = name.strip()\n",
    "    if result.endswith(' IPA'):\n",
    "        result = result[:-4]\n",
    "    elif result.endswith(' India Pale Ale'):\n",
    "        result = result[:-15]\n",
    "    return result.lower().strip()"
   ]
  },
  {
   "cell_type": "code",
   "execution_count": 122,
   "metadata": {
    "collapsed": false
   },
   "outputs": [
    {
     "data": {
      "text/plain": [
       "'abc'"
      ]
     },
     "execution_count": 122,
     "metadata": {},
     "output_type": "execute_result"
    }
   ],
   "source": [
    "# for example:\n",
    "strip_brewery('AbC Brewery Company ')"
   ]
  },
  {
   "cell_type": "code",
   "execution_count": 123,
   "metadata": {
    "collapsed": false
   },
   "outputs": [
    {
     "data": {
      "text/plain": [
       "'the bad'"
      ]
     },
     "execution_count": 123,
     "metadata": {},
     "output_type": "execute_result"
    }
   ],
   "source": [
    "# for example:\n",
    "strip_beer('The bad IPA ')"
   ]
  },
  {
   "cell_type": "code",
   "execution_count": 127,
   "metadata": {
    "collapsed": false
   },
   "outputs": [],
   "source": [
    "matches['stripped_name'] = matches.apply(lambda row: \n",
    "                                         strip_brewery(row['brewery.brewery_name']) + ' ' +\n",
    "                                         strip_beer(row['beer.beer_name']), axis=1)"
   ]
  },
  {
   "cell_type": "code",
   "execution_count": 128,
   "metadata": {
    "collapsed": false
   },
   "outputs": [
    {
     "data": {
      "text/html": [
       "<div>\n",
       "<style>\n",
       "    .dataframe thead tr:only-child th {\n",
       "        text-align: right;\n",
       "    }\n",
       "\n",
       "    .dataframe thead th {\n",
       "        text-align: left;\n",
       "    }\n",
       "\n",
       "    .dataframe tbody tr th {\n",
       "        vertical-align: top;\n",
       "    }\n",
       "</style>\n",
       "<table border=\"1\" class=\"dataframe\">\n",
       "  <thead>\n",
       "    <tr style=\"text-align: right;\">\n",
       "      <th></th>\n",
       "      <th>checkin_id</th>\n",
       "      <th>beer.bid</th>\n",
       "      <th>user.uid</th>\n",
       "      <th>rating_score</th>\n",
       "      <th>beer.beer_abv</th>\n",
       "      <th>brewery.brewery_name</th>\n",
       "      <th>beer.beer_name</th>\n",
       "      <th>beer.beer_style</th>\n",
       "      <th>brewery.brewery_id</th>\n",
       "      <th>brewery.brewery_type</th>\n",
       "      <th>...</th>\n",
       "      <th>venue.location.venue_country</th>\n",
       "      <th>venue.location.venue_state</th>\n",
       "      <th>venue.primary_category</th>\n",
       "      <th>venue.venue_id</th>\n",
       "      <th>checkin_comment</th>\n",
       "      <th>created_at</th>\n",
       "      <th>venue.type</th>\n",
       "      <th>beer.rating_score</th>\n",
       "      <th>beer.beer_description</th>\n",
       "      <th>stripped_name</th>\n",
       "    </tr>\n",
       "  </thead>\n",
       "  <tbody>\n",
       "    <tr>\n",
       "      <th>0</th>\n",
       "      <td>815404364</td>\n",
       "      <td>331215</td>\n",
       "      <td>2997378</td>\n",
       "      <td>0.0</td>\n",
       "      <td>5.5</td>\n",
       "      <td>Half Acre Beer Company</td>\n",
       "      <td>Pony</td>\n",
       "      <td>Pilsner - German</td>\n",
       "      <td>1862</td>\n",
       "      <td>Regional Brewery</td>\n",
       "      <td>...</td>\n",
       "      <td>United States</td>\n",
       "      <td>WA</td>\n",
       "      <td>Food</td>\n",
       "      <td>7058052.0</td>\n",
       "      <td>NaN</td>\n",
       "      <td>Thu, 10 Oct 2019 23:42:00 +0000</td>\n",
       "      <td>[pizza_place, beer_bar]</td>\n",
       "      <td>3.50751</td>\n",
       "      <td>Pony Pilsner is a firm take on the classic Ger...</td>\n",
       "      <td>half acre beer pony</td>\n",
       "    </tr>\n",
       "    <tr>\n",
       "      <th>2</th>\n",
       "      <td>801234367</td>\n",
       "      <td>3223488</td>\n",
       "      <td>5958535</td>\n",
       "      <td>4.0</td>\n",
       "      <td>6.0</td>\n",
       "      <td>Sierra Nevada Brewing Co.</td>\n",
       "      <td>Oktoberfest - Bitburger Braugruppe (2019)</td>\n",
       "      <td>Märzen</td>\n",
       "      <td>1142</td>\n",
       "      <td>Regional Brewery</td>\n",
       "      <td>...</td>\n",
       "      <td>NaN</td>\n",
       "      <td>NaN</td>\n",
       "      <td>NaN</td>\n",
       "      <td>NaN</td>\n",
       "      <td>NaN</td>\n",
       "      <td>Fri, 06 Sep 2019 01:15:31 +0000</td>\n",
       "      <td>[]</td>\n",
       "      <td>3.77989</td>\n",
       "      <td>It’s the ultimate season of revelry, so we tea...</td>\n",
       "      <td>sierra nevada oktoberfest - bitburger braugrup...</td>\n",
       "    </tr>\n",
       "    <tr>\n",
       "      <th>5</th>\n",
       "      <td>801276636</td>\n",
       "      <td>3223488</td>\n",
       "      <td>9337</td>\n",
       "      <td>0.0</td>\n",
       "      <td>6.0</td>\n",
       "      <td>Sierra Nevada Brewing Co.</td>\n",
       "      <td>Oktoberfest - Bitburger Braugruppe (2019)</td>\n",
       "      <td>Märzen</td>\n",
       "      <td>1142</td>\n",
       "      <td>Regional Brewery</td>\n",
       "      <td>...</td>\n",
       "      <td>United States</td>\n",
       "      <td>CA</td>\n",
       "      <td>Nightlife Spot</td>\n",
       "      <td>780494.0</td>\n",
       "      <td>NaN</td>\n",
       "      <td>Fri, 06 Sep 2019 03:04:41 +0000</td>\n",
       "      <td>[dive_bar]</td>\n",
       "      <td>3.77989</td>\n",
       "      <td>It’s the ultimate season of revelry, so we tea...</td>\n",
       "      <td>sierra nevada oktoberfest - bitburger braugrup...</td>\n",
       "    </tr>\n",
       "    <tr>\n",
       "      <th>8</th>\n",
       "      <td>731686382</td>\n",
       "      <td>3123862</td>\n",
       "      <td>1417868</td>\n",
       "      <td>4.0</td>\n",
       "      <td>4.9</td>\n",
       "      <td>Backpocket Brewing</td>\n",
       "      <td>Kitty Lime Pie</td>\n",
       "      <td>Sour - Gose - Fruited</td>\n",
       "      <td>14975</td>\n",
       "      <td>Micro Brewery</td>\n",
       "      <td>...</td>\n",
       "      <td>United States</td>\n",
       "      <td>IA</td>\n",
       "      <td>Nightlife Spot</td>\n",
       "      <td>8731918.0</td>\n",
       "      <td>NaN</td>\n",
       "      <td>Wed, 03 Apr 2019 20:42:36 +0000</td>\n",
       "      <td>[beer_bar]</td>\n",
       "      <td>3.81425</td>\n",
       "      <td>NaN</td>\n",
       "      <td>backpocket kitty lime pie</td>\n",
       "    </tr>\n",
       "    <tr>\n",
       "      <th>9</th>\n",
       "      <td>467952253</td>\n",
       "      <td>594015</td>\n",
       "      <td>3473594</td>\n",
       "      <td>0.0</td>\n",
       "      <td>7.8</td>\n",
       "      <td>Toppling Goliath Brewing Co.</td>\n",
       "      <td>King Sue</td>\n",
       "      <td>IPA - Imperial / Double New England</td>\n",
       "      <td>7532</td>\n",
       "      <td>Micro Brewery</td>\n",
       "      <td>...</td>\n",
       "      <td>NaN</td>\n",
       "      <td>NaN</td>\n",
       "      <td>NaN</td>\n",
       "      <td>NaN</td>\n",
       "      <td>NaN</td>\n",
       "      <td>Wed, 21 Jun 2017 22:30:07 +0000</td>\n",
       "      <td>[]</td>\n",
       "      <td>4.42120</td>\n",
       "      <td>This lusciously hazy double IPA gains its hint...</td>\n",
       "      <td>toppling goliath king sue</td>\n",
       "    </tr>\n",
       "  </tbody>\n",
       "</table>\n",
       "<p>5 rows × 29 columns</p>\n",
       "</div>"
      ],
      "text/plain": [
       "   checkin_id  beer.bid  user.uid  rating_score  beer.beer_abv  \\\n",
       "0   815404364    331215   2997378           0.0            5.5   \n",
       "2   801234367   3223488   5958535           4.0            6.0   \n",
       "5   801276636   3223488      9337           0.0            6.0   \n",
       "8   731686382   3123862   1417868           4.0            4.9   \n",
       "9   467952253    594015   3473594           0.0            7.8   \n",
       "\n",
       "           brewery.brewery_name                             beer.beer_name  \\\n",
       "0        Half Acre Beer Company                                       Pony   \n",
       "2     Sierra Nevada Brewing Co.  Oktoberfest - Bitburger Braugruppe (2019)   \n",
       "5     Sierra Nevada Brewing Co.  Oktoberfest - Bitburger Braugruppe (2019)   \n",
       "8            Backpocket Brewing                             Kitty Lime Pie   \n",
       "9  Toppling Goliath Brewing Co.                                   King Sue   \n",
       "\n",
       "                       beer.beer_style  brewery.brewery_id  \\\n",
       "0                     Pilsner - German                1862   \n",
       "2                               Märzen                1142   \n",
       "5                               Märzen                1142   \n",
       "8                Sour - Gose - Fruited               14975   \n",
       "9  IPA - Imperial / Double New England                7532   \n",
       "\n",
       "  brewery.brewery_type                        ...                          \\\n",
       "0     Regional Brewery                        ...                           \n",
       "2     Regional Brewery                        ...                           \n",
       "5     Regional Brewery                        ...                           \n",
       "8        Micro Brewery                        ...                           \n",
       "9        Micro Brewery                        ...                           \n",
       "\n",
       "  venue.location.venue_country venue.location.venue_state  \\\n",
       "0                United States                         WA   \n",
       "2                          NaN                        NaN   \n",
       "5                United States                         CA   \n",
       "8                United States                         IA   \n",
       "9                          NaN                        NaN   \n",
       "\n",
       "  venue.primary_category  venue.venue_id  checkin_comment  \\\n",
       "0                   Food       7058052.0              NaN   \n",
       "2                    NaN             NaN              NaN   \n",
       "5         Nightlife Spot        780494.0              NaN   \n",
       "8         Nightlife Spot       8731918.0              NaN   \n",
       "9                    NaN             NaN              NaN   \n",
       "\n",
       "                        created_at               venue.type  \\\n",
       "0  Thu, 10 Oct 2019 23:42:00 +0000  [pizza_place, beer_bar]   \n",
       "2  Fri, 06 Sep 2019 01:15:31 +0000                       []   \n",
       "5  Fri, 06 Sep 2019 03:04:41 +0000               [dive_bar]   \n",
       "8  Wed, 03 Apr 2019 20:42:36 +0000               [beer_bar]   \n",
       "9  Wed, 21 Jun 2017 22:30:07 +0000                       []   \n",
       "\n",
       "   beer.rating_score                              beer.beer_description  \\\n",
       "0            3.50751  Pony Pilsner is a firm take on the classic Ger...   \n",
       "2            3.77989  It’s the ultimate season of revelry, so we tea...   \n",
       "5            3.77989  It’s the ultimate season of revelry, so we tea...   \n",
       "8            3.81425                                                NaN   \n",
       "9            4.42120  This lusciously hazy double IPA gains its hint...   \n",
       "\n",
       "                                       stripped_name  \n",
       "0                                half acre beer pony  \n",
       "2  sierra nevada oktoberfest - bitburger braugrup...  \n",
       "5  sierra nevada oktoberfest - bitburger braugrup...  \n",
       "8                          backpocket kitty lime pie  \n",
       "9                          toppling goliath king sue  \n",
       "\n",
       "[5 rows x 29 columns]"
      ]
     },
     "execution_count": 128,
     "metadata": {},
     "output_type": "execute_result"
    }
   ],
   "source": [
    "matches.head()"
   ]
  },
  {
   "cell_type": "markdown",
   "metadata": {},
   "source": [
    "Load the brewerydb frames"
   ]
  },
  {
   "cell_type": "code",
   "execution_count": 130,
   "metadata": {
    "collapsed": false
   },
   "outputs": [
    {
     "data": {
      "text/plain": [
       "(14774, 10)"
      ]
     },
     "execution_count": 130,
     "metadata": {},
     "output_type": "execute_result"
    }
   ],
   "source": [
    "bdb_ipas = pd.read_csv('capstone_1/bdb_ipa_df.csv')\n",
    "bdb_ipas.shape\n"
   ]
  },
  {
   "cell_type": "code",
   "execution_count": 148,
   "metadata": {
    "collapsed": false
   },
   "outputs": [
    {
     "name": "stdout",
     "output_type": "stream",
     "text": [
      "<class 'pandas.core.frame.DataFrame'>\n",
      "RangeIndex: 14774 entries, 0 to 14773\n",
      "Data columns (total 10 columns):\n",
      "Unnamed: 0     14774 non-null int64\n",
      "id             14774 non-null object\n",
      "breweries      14774 non-null object\n",
      "name           14774 non-null object\n",
      "abv            13821 non-null float64\n",
      "description    10437 non-null object\n",
      "ibu            7256 non-null float64\n",
      "ingredients    5414 non-null object\n",
      "styleId        14774 non-null int64\n",
      "untap          14774 non-null int64\n",
      "dtypes: float64(2), int64(3), object(5)\n",
      "memory usage: 1.1+ MB\n"
     ]
    }
   ],
   "source": [
    "bdb_ipas.info()"
   ]
  },
  {
   "cell_type": "code",
   "execution_count": 132,
   "metadata": {
    "collapsed": false
   },
   "outputs": [
    {
     "data": {
      "text/html": [
       "<div>\n",
       "<style>\n",
       "    .dataframe thead tr:only-child th {\n",
       "        text-align: right;\n",
       "    }\n",
       "\n",
       "    .dataframe thead th {\n",
       "        text-align: left;\n",
       "    }\n",
       "\n",
       "    .dataframe tbody tr th {\n",
       "        vertical-align: top;\n",
       "    }\n",
       "</style>\n",
       "<table border=\"1\" class=\"dataframe\">\n",
       "  <thead>\n",
       "    <tr style=\"text-align: right;\">\n",
       "      <th></th>\n",
       "      <th>Unnamed: 0</th>\n",
       "      <th>id</th>\n",
       "      <th>breweries</th>\n",
       "      <th>name</th>\n",
       "      <th>abv</th>\n",
       "      <th>description</th>\n",
       "      <th>ibu</th>\n",
       "      <th>ingredients</th>\n",
       "      <th>styleId</th>\n",
       "      <th>untap</th>\n",
       "    </tr>\n",
       "  </thead>\n",
       "  <tbody>\n",
       "    <tr>\n",
       "      <th>0</th>\n",
       "      <td>0</td>\n",
       "      <td>iCRjjI</td>\n",
       "      <td>[{'id': 'VDMEV7', 'name': 'Boulevard Brewing C...</td>\n",
       "      <td>21st Anniversary Fresh Hop Pale Ale</td>\n",
       "      <td>7.4</td>\n",
       "      <td>In November of 1989, John McDonald loaded his ...</td>\n",
       "      <td>40.0</td>\n",
       "      <td>{}</td>\n",
       "      <td>26</td>\n",
       "      <td>0</td>\n",
       "    </tr>\n",
       "    <tr>\n",
       "      <th>1</th>\n",
       "      <td>1</td>\n",
       "      <td>GbGphv</td>\n",
       "      <td>[{'id': 'yXL9TY', 'name': 'Land-Grant Brewing ...</td>\n",
       "      <td>30,000 Acres</td>\n",
       "      <td>5.6</td>\n",
       "      <td>This limited edition Pale Ale features fresh S...</td>\n",
       "      <td>44.0</td>\n",
       "      <td>{}</td>\n",
       "      <td>26</td>\n",
       "      <td>0</td>\n",
       "    </tr>\n",
       "    <tr>\n",
       "      <th>2</th>\n",
       "      <td>2</td>\n",
       "      <td>g1Bmuz</td>\n",
       "      <td>[{'id': 'HUCz2L', 'name': 'Fullsteam Brewery',...</td>\n",
       "      <td>300 Mile</td>\n",
       "      <td>NaN</td>\n",
       "      <td>A Fullsteam truly local experiment — a beer ma...</td>\n",
       "      <td>NaN</td>\n",
       "      <td>{}</td>\n",
       "      <td>26</td>\n",
       "      <td>0</td>\n",
       "    </tr>\n",
       "    <tr>\n",
       "      <th>3</th>\n",
       "      <td>3</td>\n",
       "      <td>2rvu5K</td>\n",
       "      <td>[{'id': '564ZPt', 'name': 'Blue Blood Brewing ...</td>\n",
       "      <td>543 SkullCreek Fresh Hopped Pale Ale</td>\n",
       "      <td>NaN</td>\n",
       "      <td>NaN</td>\n",
       "      <td>NaN</td>\n",
       "      <td>{}</td>\n",
       "      <td>26</td>\n",
       "      <td>0</td>\n",
       "    </tr>\n",
       "    <tr>\n",
       "      <th>4</th>\n",
       "      <td>4</td>\n",
       "      <td>SWYfSs</td>\n",
       "      <td>[{'id': 'LGSXeN', 'name': 'Powell Street Craft...</td>\n",
       "      <td>95 Pounds of Wethop Goodness</td>\n",
       "      <td>6.0</td>\n",
       "      <td>This Pale Ale was brewed with Wethops in mind....</td>\n",
       "      <td>30.0</td>\n",
       "      <td>{}</td>\n",
       "      <td>26</td>\n",
       "      <td>0</td>\n",
       "    </tr>\n",
       "  </tbody>\n",
       "</table>\n",
       "</div>"
      ],
      "text/plain": [
       "   Unnamed: 0      id                                          breweries  \\\n",
       "0           0  iCRjjI  [{'id': 'VDMEV7', 'name': 'Boulevard Brewing C...   \n",
       "1           1  GbGphv  [{'id': 'yXL9TY', 'name': 'Land-Grant Brewing ...   \n",
       "2           2  g1Bmuz  [{'id': 'HUCz2L', 'name': 'Fullsteam Brewery',...   \n",
       "3           3  2rvu5K  [{'id': '564ZPt', 'name': 'Blue Blood Brewing ...   \n",
       "4           4  SWYfSs  [{'id': 'LGSXeN', 'name': 'Powell Street Craft...   \n",
       "\n",
       "                                   name  abv  \\\n",
       "0   21st Anniversary Fresh Hop Pale Ale  7.4   \n",
       "1                          30,000 Acres  5.6   \n",
       "2                              300 Mile  NaN   \n",
       "3  543 SkullCreek Fresh Hopped Pale Ale  NaN   \n",
       "4          95 Pounds of Wethop Goodness  6.0   \n",
       "\n",
       "                                         description   ibu ingredients  \\\n",
       "0  In November of 1989, John McDonald loaded his ...  40.0          {}   \n",
       "1  This limited edition Pale Ale features fresh S...  44.0          {}   \n",
       "2  A Fullsteam truly local experiment — a beer ma...   NaN          {}   \n",
       "3                                                NaN   NaN          {}   \n",
       "4  This Pale Ale was brewed with Wethops in mind....  30.0          {}   \n",
       "\n",
       "   styleId  untap  \n",
       "0       26      0  \n",
       "1       26      0  \n",
       "2       26      0  \n",
       "3       26      0  \n",
       "4       26      0  "
      ]
     },
     "execution_count": 132,
     "metadata": {},
     "output_type": "execute_result"
    }
   ],
   "source": [
    "bdb_ipas.head()"
   ]
  },
  {
   "cell_type": "markdown",
   "metadata": {},
   "source": [
    "### Ahh, need to unpack those weird brewery lists still, as with the venues, earlier"
   ]
  },
  {
   "cell_type": "code",
   "execution_count": 143,
   "metadata": {
    "collapsed": false
   },
   "outputs": [],
   "source": [
    "cell=ast.literal_eval(bdb_ipas.breweries[0])"
   ]
  },
  {
   "cell_type": "code",
   "execution_count": 144,
   "metadata": {
    "collapsed": false
   },
   "outputs": [
    {
     "data": {
      "text/plain": [
       "'Boulevard Brewing Company'"
      ]
     },
     "execution_count": 144,
     "metadata": {},
     "output_type": "execute_result"
    }
   ],
   "source": [
    "cell[0]['name']"
   ]
  },
  {
   "cell_type": "code",
   "execution_count": 145,
   "metadata": {
    "collapsed": true
   },
   "outputs": [],
   "source": [
    "def brewname(brewery_cell):\n",
    "    '''un_string the json_normalization of the bdb breweries value'''\n",
    "    brewery_cell = ast.literal_eval(brewery_cell)\n",
    "    return brewery_cell[0]['name']  # only use first brewery name, in case of collaboration beers"
   ]
  },
  {
   "cell_type": "code",
   "execution_count": null,
   "metadata": {
    "collapsed": true
   },
   "outputs": [],
   "source": []
  },
  {
   "cell_type": "code",
   "execution_count": 158,
   "metadata": {
    "collapsed": false
   },
   "outputs": [],
   "source": [
    "bdb_ipas['beer'] = bdb_ipas.apply(lambda row: strip_beer(row['name']), axis=1)\n",
    "bdb_ipas['brewery'] = bdb_ipas.apply(lambda row: strip_brewery(brewname(row['breweries'])), axis=1)\n",
    "# make a column to merge on checkins\n",
    "bdb_ipas['stripped_name'] = bdb_ipas.brewery + ' ' + bdb_ipas.beer"
   ]
  },
  {
   "cell_type": "code",
   "execution_count": 163,
   "metadata": {
    "collapsed": false
   },
   "outputs": [
    {
     "data": {
      "text/plain": [
       "720"
      ]
     },
     "execution_count": 163,
     "metadata": {},
     "output_type": "execute_result"
    }
   ],
   "source": [
    "len(matches)"
   ]
  },
  {
   "cell_type": "code",
   "execution_count": 164,
   "metadata": {
    "collapsed": false
   },
   "outputs": [],
   "source": [
    "merged = matches.merge(bdb_ipas, on='stripped_name', how='left')"
   ]
  },
  {
   "cell_type": "code",
   "execution_count": 166,
   "metadata": {
    "collapsed": false
   },
   "outputs": [
    {
     "data": {
      "text/plain": [
       "0                                    half acre beer pony\n",
       "1      sierra nevada oktoberfest - bitburger braugrup...\n",
       "2      sierra nevada oktoberfest - bitburger braugrup...\n",
       "3                              backpocket kitty lime pie\n",
       "4                              toppling goliath king sue\n",
       "5       brewery ommegang game of thrones: for the throne\n",
       "6                             toppling goliath hopsmack!\n",
       "7                    bissell brothers preserve & protect\n",
       "8                                     devil wind old 807\n",
       "9      dirty couch founder and the argumentist: passi...\n",
       "10                                  odin fog dragon hazy\n",
       "11                             green bench sunshine city\n",
       "12                                 north coast blue star\n",
       "13                                 north coast blue star\n",
       "14                   boston beer samuel adams summer ale\n",
       "15             equilibrium straight outta the laboratory\n",
       "16     offshoot beer retreat [this is a hazy double ipa]\n",
       "17            anchor brewers' pale ale (citra hop blend)\n",
       "18                       pedal haus wee heavy scotch ale\n",
       "19                                   jafb-wooster burner\n",
       "20                          desert beer 100oz to freedom\n",
       "21                big slide brewery & public house giant\n",
       "22                              ocean beach elevator red\n",
       "23     staatliches hofbräuhaus münchen hofbräu oktobe...\n",
       "24                      other half feels like outerspace\n",
       "25                                high ground coal train\n",
       "26                                    omnipollo gematria\n",
       "27                      tröegs independent nugget nectar\n",
       "28                               white claw black cherry\n",
       "29                               white claw black cherry\n",
       "                             ...                        \n",
       "691                                      penrose taproom\n",
       "692                             anheuser-busch bud light\n",
       "693    crooked stave artisan beer project trellis buster\n",
       "694                    stats brewpub shooter mcgavin wit\n",
       "695                                           surly hell\n",
       "696                 brasserie dieu du ciel! péché mortel\n",
       "697                     truly hard seltzer passion fruit\n",
       "698                                   stone stone ripper\n",
       "699                  chandeleur surfside pineapple wheat\n",
       "700                              remedy stratacopter 2.0\n",
       "701                                 deschutes da shootz!\n",
       "702                             icarus invincible summer\n",
       "703                              rocket frog angry alice\n",
       "704                                   woods boss vivette\n",
       "705                                  bell's sparkleberry\n",
       "706              burns family artisan ales solar eclipse\n",
       "707                               pizza port holy mosaic\n",
       "708                            foothills people's porter\n",
       "709                         dogfish head craft lupu-luau\n",
       "710                 schilling cider grapefruit and chill\n",
       "711                                       trouble ambush\n",
       "712                          ratio beerworks hold steady\n",
       "713                               lagunitas sumpin’ easy\n",
       "714                              silver city tropic haze\n",
       "715                         booze brothers 1-800-tropics\n",
       "716    great northern brewing company (montana) going...\n",
       "717    casey brewing & blending one key - double frui...\n",
       "718                                           pike peach\n",
       "719                           alesmith gregarious nature\n",
       "720                             sideward internet famous\n",
       "Name: stripped_name, Length: 721, dtype: object"
      ]
     },
     "execution_count": 166,
     "metadata": {},
     "output_type": "execute_result"
    }
   ],
   "source": [
    "merged.stripped_name"
   ]
  },
  {
   "cell_type": "code",
   "execution_count": 167,
   "metadata": {
    "collapsed": false
   },
   "outputs": [
    {
     "data": {
      "text/html": [
       "<div>\n",
       "<style>\n",
       "    .dataframe thead tr:only-child th {\n",
       "        text-align: right;\n",
       "    }\n",
       "\n",
       "    .dataframe thead th {\n",
       "        text-align: left;\n",
       "    }\n",
       "\n",
       "    .dataframe tbody tr th {\n",
       "        vertical-align: top;\n",
       "    }\n",
       "</style>\n",
       "<table border=\"1\" class=\"dataframe\">\n",
       "  <thead>\n",
       "    <tr style=\"text-align: right;\">\n",
       "      <th></th>\n",
       "      <th>checkin_id</th>\n",
       "      <th>beer.bid</th>\n",
       "      <th>user.uid</th>\n",
       "      <th>rating_score</th>\n",
       "      <th>beer.beer_abv</th>\n",
       "      <th>brewery.brewery_name</th>\n",
       "      <th>beer.beer_name</th>\n",
       "      <th>beer.beer_style</th>\n",
       "      <th>brewery.brewery_id</th>\n",
       "      <th>brewery.brewery_type</th>\n",
       "      <th>...</th>\n",
       "      <th>breweries</th>\n",
       "      <th>name</th>\n",
       "      <th>abv</th>\n",
       "      <th>description</th>\n",
       "      <th>ibu</th>\n",
       "      <th>ingredients</th>\n",
       "      <th>styleId</th>\n",
       "      <th>untap</th>\n",
       "      <th>brewery</th>\n",
       "      <th>beer</th>\n",
       "    </tr>\n",
       "  </thead>\n",
       "  <tbody>\n",
       "    <tr>\n",
       "      <th>0</th>\n",
       "      <td>815404364</td>\n",
       "      <td>331215</td>\n",
       "      <td>2997378</td>\n",
       "      <td>0.0</td>\n",
       "      <td>5.5</td>\n",
       "      <td>Half Acre Beer Company</td>\n",
       "      <td>Pony</td>\n",
       "      <td>Pilsner - German</td>\n",
       "      <td>1862</td>\n",
       "      <td>Regional Brewery</td>\n",
       "      <td>...</td>\n",
       "      <td>NaN</td>\n",
       "      <td>NaN</td>\n",
       "      <td>NaN</td>\n",
       "      <td>NaN</td>\n",
       "      <td>NaN</td>\n",
       "      <td>NaN</td>\n",
       "      <td>NaN</td>\n",
       "      <td>NaN</td>\n",
       "      <td>NaN</td>\n",
       "      <td>NaN</td>\n",
       "    </tr>\n",
       "    <tr>\n",
       "      <th>1</th>\n",
       "      <td>801234367</td>\n",
       "      <td>3223488</td>\n",
       "      <td>5958535</td>\n",
       "      <td>4.0</td>\n",
       "      <td>6.0</td>\n",
       "      <td>Sierra Nevada Brewing Co.</td>\n",
       "      <td>Oktoberfest - Bitburger Braugruppe (2019)</td>\n",
       "      <td>Märzen</td>\n",
       "      <td>1142</td>\n",
       "      <td>Regional Brewery</td>\n",
       "      <td>...</td>\n",
       "      <td>NaN</td>\n",
       "      <td>NaN</td>\n",
       "      <td>NaN</td>\n",
       "      <td>NaN</td>\n",
       "      <td>NaN</td>\n",
       "      <td>NaN</td>\n",
       "      <td>NaN</td>\n",
       "      <td>NaN</td>\n",
       "      <td>NaN</td>\n",
       "      <td>NaN</td>\n",
       "    </tr>\n",
       "    <tr>\n",
       "      <th>2</th>\n",
       "      <td>801276636</td>\n",
       "      <td>3223488</td>\n",
       "      <td>9337</td>\n",
       "      <td>0.0</td>\n",
       "      <td>6.0</td>\n",
       "      <td>Sierra Nevada Brewing Co.</td>\n",
       "      <td>Oktoberfest - Bitburger Braugruppe (2019)</td>\n",
       "      <td>Märzen</td>\n",
       "      <td>1142</td>\n",
       "      <td>Regional Brewery</td>\n",
       "      <td>...</td>\n",
       "      <td>NaN</td>\n",
       "      <td>NaN</td>\n",
       "      <td>NaN</td>\n",
       "      <td>NaN</td>\n",
       "      <td>NaN</td>\n",
       "      <td>NaN</td>\n",
       "      <td>NaN</td>\n",
       "      <td>NaN</td>\n",
       "      <td>NaN</td>\n",
       "      <td>NaN</td>\n",
       "    </tr>\n",
       "    <tr>\n",
       "      <th>3</th>\n",
       "      <td>731686382</td>\n",
       "      <td>3123862</td>\n",
       "      <td>1417868</td>\n",
       "      <td>4.0</td>\n",
       "      <td>4.9</td>\n",
       "      <td>Backpocket Brewing</td>\n",
       "      <td>Kitty Lime Pie</td>\n",
       "      <td>Sour - Gose - Fruited</td>\n",
       "      <td>14975</td>\n",
       "      <td>Micro Brewery</td>\n",
       "      <td>...</td>\n",
       "      <td>NaN</td>\n",
       "      <td>NaN</td>\n",
       "      <td>NaN</td>\n",
       "      <td>NaN</td>\n",
       "      <td>NaN</td>\n",
       "      <td>NaN</td>\n",
       "      <td>NaN</td>\n",
       "      <td>NaN</td>\n",
       "      <td>NaN</td>\n",
       "      <td>NaN</td>\n",
       "    </tr>\n",
       "    <tr>\n",
       "      <th>4</th>\n",
       "      <td>467952253</td>\n",
       "      <td>594015</td>\n",
       "      <td>3473594</td>\n",
       "      <td>0.0</td>\n",
       "      <td>7.8</td>\n",
       "      <td>Toppling Goliath Brewing Co.</td>\n",
       "      <td>King Sue</td>\n",
       "      <td>IPA - Imperial / Double New England</td>\n",
       "      <td>7532</td>\n",
       "      <td>Micro Brewery</td>\n",
       "      <td>...</td>\n",
       "      <td>[{'id': 'ZQo2s5', 'name': 'Toppling Goliath Br...</td>\n",
       "      <td>King Sue</td>\n",
       "      <td>8.0</td>\n",
       "      <td>Long live the King. King Sue that is. Her fero...</td>\n",
       "      <td>NaN</td>\n",
       "      <td>{}</td>\n",
       "      <td>31.0</td>\n",
       "      <td>0.0</td>\n",
       "      <td>toppling goliath</td>\n",
       "      <td>king sue</td>\n",
       "    </tr>\n",
       "  </tbody>\n",
       "</table>\n",
       "<p>5 rows × 41 columns</p>\n",
       "</div>"
      ],
      "text/plain": [
       "   checkin_id  beer.bid  user.uid  rating_score  beer.beer_abv  \\\n",
       "0   815404364    331215   2997378           0.0            5.5   \n",
       "1   801234367   3223488   5958535           4.0            6.0   \n",
       "2   801276636   3223488      9337           0.0            6.0   \n",
       "3   731686382   3123862   1417868           4.0            4.9   \n",
       "4   467952253    594015   3473594           0.0            7.8   \n",
       "\n",
       "           brewery.brewery_name                             beer.beer_name  \\\n",
       "0        Half Acre Beer Company                                       Pony   \n",
       "1     Sierra Nevada Brewing Co.  Oktoberfest - Bitburger Braugruppe (2019)   \n",
       "2     Sierra Nevada Brewing Co.  Oktoberfest - Bitburger Braugruppe (2019)   \n",
       "3            Backpocket Brewing                             Kitty Lime Pie   \n",
       "4  Toppling Goliath Brewing Co.                                   King Sue   \n",
       "\n",
       "                       beer.beer_style  brewery.brewery_id  \\\n",
       "0                     Pilsner - German                1862   \n",
       "1                               Märzen                1142   \n",
       "2                               Märzen                1142   \n",
       "3                Sour - Gose - Fruited               14975   \n",
       "4  IPA - Imperial / Double New England                7532   \n",
       "\n",
       "  brewery.brewery_type    ...     \\\n",
       "0     Regional Brewery    ...      \n",
       "1     Regional Brewery    ...      \n",
       "2     Regional Brewery    ...      \n",
       "3        Micro Brewery    ...      \n",
       "4        Micro Brewery    ...      \n",
       "\n",
       "                                           breweries      name  abv  \\\n",
       "0                                                NaN       NaN  NaN   \n",
       "1                                                NaN       NaN  NaN   \n",
       "2                                                NaN       NaN  NaN   \n",
       "3                                                NaN       NaN  NaN   \n",
       "4  [{'id': 'ZQo2s5', 'name': 'Toppling Goliath Br...  King Sue  8.0   \n",
       "\n",
       "                                         description  ibu ingredients  \\\n",
       "0                                                NaN  NaN         NaN   \n",
       "1                                                NaN  NaN         NaN   \n",
       "2                                                NaN  NaN         NaN   \n",
       "3                                                NaN  NaN         NaN   \n",
       "4  Long live the King. King Sue that is. Her fero...  NaN          {}   \n",
       "\n",
       "   styleId  untap           brewery      beer  \n",
       "0      NaN    NaN               NaN       NaN  \n",
       "1      NaN    NaN               NaN       NaN  \n",
       "2      NaN    NaN               NaN       NaN  \n",
       "3      NaN    NaN               NaN       NaN  \n",
       "4     31.0    0.0  toppling goliath  king sue  \n",
       "\n",
       "[5 rows x 41 columns]"
      ]
     },
     "execution_count": 167,
     "metadata": {},
     "output_type": "execute_result"
    }
   ],
   "source": [
    "merged.head()"
   ]
  },
  {
   "cell_type": "code",
   "execution_count": 169,
   "metadata": {
    "collapsed": false
   },
   "outputs": [
    {
     "data": {
      "text/plain": [
       "150"
      ]
     },
     "execution_count": 169,
     "metadata": {},
     "output_type": "execute_result"
    }
   ],
   "source": [
    "# how many of the 720 matched were merged on bdb name\n",
    "sum(pd.notnull(merged.name))"
   ]
  },
  {
   "cell_type": "code",
   "execution_count": 170,
   "metadata": {
    "collapsed": false
   },
   "outputs": [
    {
     "name": "stdout",
     "output_type": "stream",
     "text": [
      "<class 'pandas.core.frame.DataFrame'>\n",
      "Int64Index: 721 entries, 0 to 720\n",
      "Data columns (total 41 columns):\n",
      "checkin_id                        721 non-null int64\n",
      "beer.bid                          721 non-null int64\n",
      "user.uid                          721 non-null int64\n",
      "rating_score                      721 non-null float64\n",
      "beer.beer_abv                     721 non-null float64\n",
      "brewery.brewery_name              721 non-null object\n",
      "beer.beer_name                    721 non-null object\n",
      "beer.beer_style                   721 non-null object\n",
      "brewery.brewery_id                721 non-null int64\n",
      "brewery.brewery_type              721 non-null object\n",
      "brewery.country_name              721 non-null object\n",
      "brewery.location.brewery_city     719 non-null object\n",
      "brewery.location.brewery_state    720 non-null object\n",
      "brewery.location.lat              721 non-null float64\n",
      "brewery.location.lng              721 non-null float64\n",
      "user.user_name                    721 non-null object\n",
      "venue.location.lat                487 non-null float64\n",
      "venue.location.lng                487 non-null float64\n",
      "venue.location.venue_city         467 non-null object\n",
      "venue.location.venue_country      487 non-null object\n",
      "venue.location.venue_state        484 non-null object\n",
      "venue.primary_category            482 non-null object\n",
      "venue.venue_id                    487 non-null float64\n",
      "checkin_comment                   159 non-null object\n",
      "created_at                        721 non-null object\n",
      "venue.type                        721 non-null object\n",
      "beer.rating_score                 721 non-null float64\n",
      "beer.beer_description             632 non-null object\n",
      "stripped_name                     721 non-null object\n",
      "Unnamed: 0                        150 non-null float64\n",
      "id                                150 non-null object\n",
      "breweries                         150 non-null object\n",
      "name                              150 non-null object\n",
      "abv                               145 non-null float64\n",
      "description                       128 non-null object\n",
      "ibu                               87 non-null float64\n",
      "ingredients                       56 non-null object\n",
      "styleId                           150 non-null float64\n",
      "untap                             150 non-null float64\n",
      "brewery                           150 non-null object\n",
      "beer                              150 non-null object\n",
      "dtypes: float64(13), int64(4), object(24)\n",
      "memory usage: 256.6+ KB\n"
     ]
    }
   ],
   "source": [
    "merged.info()"
   ]
  },
  {
   "cell_type": "code",
   "execution_count": 178,
   "metadata": {
    "collapsed": false
   },
   "outputs": [
    {
     "data": {
      "text/html": [
       "<div>\n",
       "<style>\n",
       "    .dataframe thead tr:only-child th {\n",
       "        text-align: right;\n",
       "    }\n",
       "\n",
       "    .dataframe thead th {\n",
       "        text-align: left;\n",
       "    }\n",
       "\n",
       "    .dataframe tbody tr th {\n",
       "        vertical-align: top;\n",
       "    }\n",
       "</style>\n",
       "<table border=\"1\" class=\"dataframe\">\n",
       "  <thead>\n",
       "    <tr style=\"text-align: right;\">\n",
       "      <th></th>\n",
       "      <th>checkin_comment</th>\n",
       "      <th>beer.beer_description</th>\n",
       "      <th>description</th>\n",
       "      <th>ingredients</th>\n",
       "    </tr>\n",
       "  </thead>\n",
       "  <tbody>\n",
       "    <tr>\n",
       "      <th>160</th>\n",
       "      <td>NaN</td>\n",
       "      <td>Strawberries and honeydew grab your attention ...</td>\n",
       "      <td>NaN</td>\n",
       "      <td>NaN</td>\n",
       "    </tr>\n",
       "    <tr>\n",
       "      <th>161</th>\n",
       "      <td>NaN</td>\n",
       "      <td>Brewed with North American ingredients, includ...</td>\n",
       "      <td>NaN</td>\n",
       "      <td>NaN</td>\n",
       "    </tr>\n",
       "    <tr>\n",
       "      <th>162</th>\n",
       "      <td>NaN</td>\n",
       "      <td>Super Juicy New England IPA.  Packed with tons...</td>\n",
       "      <td>NaN</td>\n",
       "      <td>NaN</td>\n",
       "    </tr>\n",
       "    <tr>\n",
       "      <th>163</th>\n",
       "      <td>NaN</td>\n",
       "      <td>Yellow beer brewed the hard way!</td>\n",
       "      <td>NaN</td>\n",
       "      <td>NaN</td>\n",
       "    </tr>\n",
       "    <tr>\n",
       "      <th>164</th>\n",
       "      <td>NaN</td>\n",
       "      <td>Erase &amp; Rewind #23</td>\n",
       "      <td>NaN</td>\n",
       "      <td>NaN</td>\n",
       "    </tr>\n",
       "    <tr>\n",
       "      <th>165</th>\n",
       "      <td>NaN</td>\n",
       "      <td>Handcrafted using real pumpkin and savory pump...</td>\n",
       "      <td>NaN</td>\n",
       "      <td>NaN</td>\n",
       "    </tr>\n",
       "    <tr>\n",
       "      <th>166</th>\n",
       "      <td>NaN</td>\n",
       "      <td>International Waters is an unfiltered Pilsner ...</td>\n",
       "      <td>NaN</td>\n",
       "      <td>NaN</td>\n",
       "    </tr>\n",
       "    <tr>\n",
       "      <th>167</th>\n",
       "      <td>Solid IPA.</td>\n",
       "      <td>NaN</td>\n",
       "      <td>NaN</td>\n",
       "      <td>NaN</td>\n",
       "    </tr>\n",
       "    <tr>\n",
       "      <th>168</th>\n",
       "      <td>NaN</td>\n",
       "      <td>NaN</td>\n",
       "      <td>NaN</td>\n",
       "      <td>NaN</td>\n",
       "    </tr>\n",
       "    <tr>\n",
       "      <th>169</th>\n",
       "      <td>NaN</td>\n",
       "      <td>NaN</td>\n",
       "      <td>NaN</td>\n",
       "      <td>NaN</td>\n",
       "    </tr>\n",
       "    <tr>\n",
       "      <th>170</th>\n",
       "      <td>Super hoppy and sweet with tropical notes. Ful...</td>\n",
       "      <td>To call Nelson Sauvin an aggressive hop would ...</td>\n",
       "      <td>To call Nelson Sauvin an aggressive hop would ...</td>\n",
       "      <td>{}</td>\n",
       "    </tr>\n",
       "    <tr>\n",
       "      <th>171</th>\n",
       "      <td>At King’s Canyon Visitor Center sitting around...</td>\n",
       "      <td>From the coast of California comes Mind Haze, ...</td>\n",
       "      <td>From the coast of California comes Mind Haze, ...</td>\n",
       "      <td>{}</td>\n",
       "    </tr>\n",
       "    <tr>\n",
       "      <th>172</th>\n",
       "      <td>NaN</td>\n",
       "      <td>The official beer of the National Cherry Bloss...</td>\n",
       "      <td>NaN</td>\n",
       "      <td>NaN</td>\n",
       "    </tr>\n",
       "    <tr>\n",
       "      <th>173</th>\n",
       "      <td>NaN</td>\n",
       "      <td>Bond Street Series- this mouthwatering lay del...</td>\n",
       "      <td>This mouthwateringly delicious IPA gets its fl...</td>\n",
       "      <td>{'hops': [{'id': 27, 'name': 'Citra', 'descrip...</td>\n",
       "    </tr>\n",
       "    <tr>\n",
       "      <th>174</th>\n",
       "      <td>NaN</td>\n",
       "      <td>Brewmaster Matt Brynildson went to the mountai...</td>\n",
       "      <td>NaN</td>\n",
       "      <td>NaN</td>\n",
       "    </tr>\n",
       "    <tr>\n",
       "      <th>175</th>\n",
       "      <td>NaN</td>\n",
       "      <td>In the beer geek breakfast series – the beer t...</td>\n",
       "      <td>NaN</td>\n",
       "      <td>NaN</td>\n",
       "    </tr>\n",
       "    <tr>\n",
       "      <th>176</th>\n",
       "      <td>Smooth!! Thank you Richard!</td>\n",
       "      <td>In the years since it was born, Double Shot ha...</td>\n",
       "      <td>NaN</td>\n",
       "      <td>NaN</td>\n",
       "    </tr>\n",
       "    <tr>\n",
       "      <th>177</th>\n",
       "      <td>NaN</td>\n",
       "      <td>German Chocolate Cake Ale\\r\\nDelicate dark cho...</td>\n",
       "      <td>NaN</td>\n",
       "      <td>NaN</td>\n",
       "    </tr>\n",
       "    <tr>\n",
       "      <th>178</th>\n",
       "      <td>Love me some Burial, thanks Mom!</td>\n",
       "      <td>For all you modern savages. An inverted realm....</td>\n",
       "      <td>NaN</td>\n",
       "      <td>NaN</td>\n",
       "    </tr>\n",
       "    <tr>\n",
       "      <th>179</th>\n",
       "      <td>NaN</td>\n",
       "      <td>For us this is where it all started! The rich ...</td>\n",
       "      <td>NaN</td>\n",
       "      <td>NaN</td>\n",
       "    </tr>\n",
       "    <tr>\n",
       "      <th>180</th>\n",
       "      <td>Liquid tweny twen twen.</td>\n",
       "      <td>Get ready: The Hemperor HPA, an exciting new s...</td>\n",
       "      <td>Get ready: an exciting new offering that’ll ch...</td>\n",
       "      <td>NaN</td>\n",
       "    </tr>\n",
       "  </tbody>\n",
       "</table>\n",
       "</div>"
      ],
      "text/plain": [
       "                                       checkin_comment  \\\n",
       "160                                                NaN   \n",
       "161                                                NaN   \n",
       "162                                                NaN   \n",
       "163                                                NaN   \n",
       "164                                                NaN   \n",
       "165                                                NaN   \n",
       "166                                                NaN   \n",
       "167                                         Solid IPA.   \n",
       "168                                                NaN   \n",
       "169                                                NaN   \n",
       "170  Super hoppy and sweet with tropical notes. Ful...   \n",
       "171  At King’s Canyon Visitor Center sitting around...   \n",
       "172                                                NaN   \n",
       "173                                                NaN   \n",
       "174                                                NaN   \n",
       "175                                                NaN   \n",
       "176                        Smooth!! Thank you Richard!   \n",
       "177                                                NaN   \n",
       "178                   Love me some Burial, thanks Mom!   \n",
       "179                                                NaN   \n",
       "180                            Liquid tweny twen twen.   \n",
       "\n",
       "                                 beer.beer_description  \\\n",
       "160  Strawberries and honeydew grab your attention ...   \n",
       "161  Brewed with North American ingredients, includ...   \n",
       "162  Super Juicy New England IPA.  Packed with tons...   \n",
       "163                   Yellow beer brewed the hard way!   \n",
       "164                                 Erase & Rewind #23   \n",
       "165  Handcrafted using real pumpkin and savory pump...   \n",
       "166  International Waters is an unfiltered Pilsner ...   \n",
       "167                                                NaN   \n",
       "168                                                NaN   \n",
       "169                                                NaN   \n",
       "170  To call Nelson Sauvin an aggressive hop would ...   \n",
       "171  From the coast of California comes Mind Haze, ...   \n",
       "172  The official beer of the National Cherry Bloss...   \n",
       "173  Bond Street Series- this mouthwatering lay del...   \n",
       "174  Brewmaster Matt Brynildson went to the mountai...   \n",
       "175  In the beer geek breakfast series – the beer t...   \n",
       "176  In the years since it was born, Double Shot ha...   \n",
       "177  German Chocolate Cake Ale\\r\\nDelicate dark cho...   \n",
       "178  For all you modern savages. An inverted realm....   \n",
       "179  For us this is where it all started! The rich ...   \n",
       "180  Get ready: The Hemperor HPA, an exciting new s...   \n",
       "\n",
       "                                           description  \\\n",
       "160                                                NaN   \n",
       "161                                                NaN   \n",
       "162                                                NaN   \n",
       "163                                                NaN   \n",
       "164                                                NaN   \n",
       "165                                                NaN   \n",
       "166                                                NaN   \n",
       "167                                                NaN   \n",
       "168                                                NaN   \n",
       "169                                                NaN   \n",
       "170  To call Nelson Sauvin an aggressive hop would ...   \n",
       "171  From the coast of California comes Mind Haze, ...   \n",
       "172                                                NaN   \n",
       "173  This mouthwateringly delicious IPA gets its fl...   \n",
       "174                                                NaN   \n",
       "175                                                NaN   \n",
       "176                                                NaN   \n",
       "177                                                NaN   \n",
       "178                                                NaN   \n",
       "179                                                NaN   \n",
       "180  Get ready: an exciting new offering that’ll ch...   \n",
       "\n",
       "                                           ingredients  \n",
       "160                                                NaN  \n",
       "161                                                NaN  \n",
       "162                                                NaN  \n",
       "163                                                NaN  \n",
       "164                                                NaN  \n",
       "165                                                NaN  \n",
       "166                                                NaN  \n",
       "167                                                NaN  \n",
       "168                                                NaN  \n",
       "169                                                NaN  \n",
       "170                                                 {}  \n",
       "171                                                 {}  \n",
       "172                                                NaN  \n",
       "173  {'hops': [{'id': 27, 'name': 'Citra', 'descrip...  \n",
       "174                                                NaN  \n",
       "175                                                NaN  \n",
       "176                                                NaN  \n",
       "177                                                NaN  \n",
       "178                                                NaN  \n",
       "179                                                NaN  \n",
       "180                                                NaN  "
      ]
     },
     "execution_count": 178,
     "metadata": {},
     "output_type": "execute_result"
    }
   ],
   "source": [
    "## what overall rate of descriptions/comments do we get\n",
    "merged.loc[160:180, ['checkin_comment','beer.beer_description','description','ingredients']]"
   ]
  },
  {
   "cell_type": "markdown",
   "metadata": {},
   "source": [
    "## Glancing at 60 beers, I'd say the 'beer.beer_description' column from untappd userbeers is the only thing that really matters for these 4 descriptive features"
   ]
  },
  {
   "cell_type": "markdown",
   "metadata": {},
   "source": [
    "### So no point in merging BreweryDB data, with so few ingredients returned (56 out of 720, here).  Save the brewerydb and its ingredients for a smaller project someday"
   ]
  },
  {
   "cell_type": "markdown",
   "metadata": {},
   "source": [
    "Make a giant frame from the biggie frame left merged with a few columns from the userfeeds"
   ]
  },
  {
   "cell_type": "code",
   "execution_count": 183,
   "metadata": {
    "collapsed": false
   },
   "outputs": [
    {
     "data": {
      "text/plain": [
       "(1571140, 27)"
      ]
     },
     "execution_count": 183,
     "metadata": {},
     "output_type": "execute_result"
    }
   ],
   "source": [
    "biggie.shape"
   ]
  },
  {
   "cell_type": "code",
   "execution_count": 191,
   "metadata": {
    "collapsed": false
   },
   "outputs": [
    {
     "name": "stdout",
     "output_type": "stream",
     "text": [
      "(220598, 38)\n"
     ]
    },
    {
     "data": {
      "text/plain": [
       "Index(['Unnamed: 0', 'beer.beer_abv', 'beer.beer_description', 'beer.beer_ibu',\n",
       "       'beer.beer_label', 'beer.beer_name', 'beer.beer_slug',\n",
       "       'beer.beer_style', 'beer.bid', 'beer.created_at', 'beer.has_had',\n",
       "       'beer.rating_count', 'beer.rating_score', 'brewery.brewery_active',\n",
       "       'brewery.brewery_id', 'brewery.brewery_label', 'brewery.brewery_name',\n",
       "       'brewery.brewery_page_url', 'brewery.brewery_slug',\n",
       "       'brewery.brewery_type', 'brewery.contact.facebook',\n",
       "       'brewery.contact.instagram', 'brewery.contact.twitter',\n",
       "       'brewery.contact.url', 'brewery.country_name',\n",
       "       'brewery.location.brewery_city', 'brewery.location.brewery_state',\n",
       "       'brewery.location.lat', 'brewery.location.lng', 'count',\n",
       "       'first_checkin_id', 'first_created_at', 'first_had', 'rating_score',\n",
       "       'recent_checkin_id', 'recent_created_at', 'recent_created_at_timezone',\n",
       "       'user_auth_rating_score'],\n",
       "      dtype='object')"
      ]
     },
     "execution_count": 191,
     "metadata": {},
     "output_type": "execute_result"
    }
   ],
   "source": [
    "print(sample_beers.shape)\n",
    "sample_beers.columns"
   ]
  },
  {
   "cell_type": "code",
   "execution_count": 192,
   "metadata": {
    "collapsed": false
   },
   "outputs": [],
   "source": [
    "biggie = biggie.merge(sample_beers[['beer.bid', 'beer.rating_score','beer.beer_description','beer.beer_abv']],\n",
    "                      on='beer.bid', how='left').drop_duplicates('checkin_id', keep='first') \n",
    "                        # The keep='first' is arbitrary"
   ]
  },
  {
   "cell_type": "code",
   "execution_count": 193,
   "metadata": {
    "collapsed": false
   },
   "outputs": [
    {
     "data": {
      "text/plain": [
       "1571140"
      ]
     },
     "execution_count": 193,
     "metadata": {},
     "output_type": "execute_result"
    }
   ],
   "source": [
    "len(biggie)"
   ]
  },
  {
   "cell_type": "code",
   "execution_count": 194,
   "metadata": {
    "collapsed": false
   },
   "outputs": [
    {
     "data": {
      "text/plain": [
       "1138199"
      ]
     },
     "execution_count": 194,
     "metadata": {},
     "output_type": "execute_result"
    }
   ],
   "source": [
    "sum(pd.notnull(biggie['beer.rating_score']))"
   ]
  },
  {
   "cell_type": "code",
   "execution_count": 195,
   "metadata": {
    "collapsed": false
   },
   "outputs": [
    {
     "data": {
      "text/plain": [
       "1010616"
      ]
     },
     "execution_count": 195,
     "metadata": {},
     "output_type": "execute_result"
    }
   ],
   "source": [
    "sum(pd.notnull(biggie['beer.beer_description']))"
   ]
  },
  {
   "cell_type": "code",
   "execution_count": 196,
   "metadata": {
    "collapsed": false
   },
   "outputs": [
    {
     "name": "stdout",
     "output_type": "stream",
     "text": [
      "<class 'pandas.core.frame.DataFrame'>\n",
      "Int64Index: 1571140 entries, 0 to 14209504\n",
      "Data columns (total 30 columns):\n",
      "Unnamed: 0                        1571140 non-null int64\n",
      "checkin_id                        1571140 non-null int64\n",
      "beer.bid                          1571140 non-null int64\n",
      "user.uid                          1571140 non-null int64\n",
      "rating_score                      1571140 non-null float64\n",
      "beer.beer_abv_x                   1571140 non-null float64\n",
      "brewery.brewery_name              1571140 non-null object\n",
      "beer.beer_name                    1571140 non-null object\n",
      "beer.beer_style                   1571140 non-null object\n",
      "brewery.brewery_id                1571140 non-null int64\n",
      "brewery.brewery_type              1571140 non-null object\n",
      "brewery.country_name              1571140 non-null object\n",
      "brewery.location.brewery_city     1554436 non-null object\n",
      "brewery.location.brewery_state    1546325 non-null object\n",
      "brewery.location.lat              1571140 non-null float64\n",
      "brewery.location.lng              1571140 non-null float64\n",
      "user.user_name                    1571140 non-null object\n",
      "venue.categories.items            1101509 non-null object\n",
      "venue.location.lat                1101509 non-null float64\n",
      "venue.location.lng                1101509 non-null float64\n",
      "venue.location.venue_city         1052605 non-null object\n",
      "venue.location.venue_country      1101367 non-null object\n",
      "venue.location.venue_state        1087951 non-null object\n",
      "venue.primary_category            1092671 non-null object\n",
      "venue.venue_id                    1101509 non-null float64\n",
      "checkin_comment                   343881 non-null object\n",
      "created_at                        1571140 non-null object\n",
      "beer.rating_score                 1138199 non-null float64\n",
      "beer.beer_description             1010616 non-null object\n",
      "beer.beer_abv_y                   1138199 non-null float64\n",
      "dtypes: float64(9), int64(5), object(16)\n",
      "memory usage: 371.6+ MB\n"
     ]
    }
   ],
   "source": [
    "biggie.info()"
   ]
  },
  {
   "cell_type": "code",
   "execution_count": 201,
   "metadata": {
    "collapsed": false
   },
   "outputs": [],
   "source": [
    "abv = biggie[(biggie['beer.beer_abv_x'] > 0) | (biggie['beer.beer_abv_y'] > 0)]"
   ]
  },
  {
   "cell_type": "code",
   "execution_count": 202,
   "metadata": {
    "collapsed": false
   },
   "outputs": [
    {
     "data": {
      "text/plain": [
       "(1553205, 30)"
      ]
     },
     "execution_count": 202,
     "metadata": {},
     "output_type": "execute_result"
    }
   ],
   "source": [
    "abv.shape"
   ]
  },
  {
   "cell_type": "code",
   "execution_count": 203,
   "metadata": {
    "collapsed": false
   },
   "outputs": [
    {
     "data": {
      "text/plain": [
       "(1553069, 30)"
      ]
     },
     "execution_count": 203,
     "metadata": {},
     "output_type": "execute_result"
    }
   ],
   "source": [
    "biggie[biggie['beer.beer_abv_x'] > 0].shape"
   ]
  },
  {
   "cell_type": "code",
   "execution_count": 204,
   "metadata": {
    "collapsed": false
   },
   "outputs": [
    {
     "data": {
      "text/plain": [
       "(1133656, 30)"
      ]
     },
     "execution_count": 204,
     "metadata": {},
     "output_type": "execute_result"
    }
   ],
   "source": [
    "biggie[biggie['beer.beer_abv_y'] > 0].shape"
   ]
  },
  {
   "cell_type": "code",
   "execution_count": 205,
   "metadata": {
    "collapsed": false
   },
   "outputs": [
    {
     "data": {
      "text/html": [
       "<div>\n",
       "<style>\n",
       "    .dataframe thead tr:only-child th {\n",
       "        text-align: right;\n",
       "    }\n",
       "\n",
       "    .dataframe thead th {\n",
       "        text-align: left;\n",
       "    }\n",
       "\n",
       "    .dataframe tbody tr th {\n",
       "        vertical-align: top;\n",
       "    }\n",
       "</style>\n",
       "<table border=\"1\" class=\"dataframe\">\n",
       "  <thead>\n",
       "    <tr style=\"text-align: right;\">\n",
       "      <th></th>\n",
       "      <th>Unnamed: 0</th>\n",
       "      <th>checkin_id</th>\n",
       "      <th>beer.bid</th>\n",
       "      <th>user.uid</th>\n",
       "      <th>rating_score</th>\n",
       "      <th>beer.beer_abv_x</th>\n",
       "      <th>brewery.brewery_name</th>\n",
       "      <th>beer.beer_name</th>\n",
       "      <th>beer.beer_style</th>\n",
       "      <th>brewery.brewery_id</th>\n",
       "      <th>...</th>\n",
       "      <th>venue.location.venue_city</th>\n",
       "      <th>venue.location.venue_country</th>\n",
       "      <th>venue.location.venue_state</th>\n",
       "      <th>venue.primary_category</th>\n",
       "      <th>venue.venue_id</th>\n",
       "      <th>checkin_comment</th>\n",
       "      <th>created_at</th>\n",
       "      <th>beer.rating_score</th>\n",
       "      <th>beer.beer_description</th>\n",
       "      <th>beer.beer_abv_y</th>\n",
       "    </tr>\n",
       "  </thead>\n",
       "  <tbody>\n",
       "    <tr>\n",
       "      <th>0</th>\n",
       "      <td>0</td>\n",
       "      <td>821797539</td>\n",
       "      <td>2095023</td>\n",
       "      <td>3340203</td>\n",
       "      <td>3.75</td>\n",
       "      <td>7.5</td>\n",
       "      <td>Stone Brewing</td>\n",
       "      <td>Stone Scorpion Bowl IPA</td>\n",
       "      <td>IPA - American</td>\n",
       "      <td>1204</td>\n",
       "      <td>...</td>\n",
       "      <td>NaN</td>\n",
       "      <td>NaN</td>\n",
       "      <td>NaN</td>\n",
       "      <td>NaN</td>\n",
       "      <td>NaN</td>\n",
       "      <td>Easy-drinking, not too hoppy. Solid.</td>\n",
       "      <td>Sat, 26 Oct 2019 03:52:50 +0000</td>\n",
       "      <td>3.73789</td>\n",
       "      <td>To create a recipe so tropical and fruity with...</td>\n",
       "      <td>7.5</td>\n",
       "    </tr>\n",
       "    <tr>\n",
       "      <th>71</th>\n",
       "      <td>1</td>\n",
       "      <td>818949121</td>\n",
       "      <td>1709568</td>\n",
       "      <td>3340203</td>\n",
       "      <td>3.50</td>\n",
       "      <td>5.2</td>\n",
       "      <td>Ritual Brewing Company</td>\n",
       "      <td>Pale Ale</td>\n",
       "      <td>Pale Ale - American</td>\n",
       "      <td>39329</td>\n",
       "      <td>...</td>\n",
       "      <td>Redlands</td>\n",
       "      <td>United States</td>\n",
       "      <td>CA</td>\n",
       "      <td>Nightlife Spot</td>\n",
       "      <td>376422.0</td>\n",
       "      <td>Solid.</td>\n",
       "      <td>Sat, 19 Oct 2019 03:07:43 +0000</td>\n",
       "      <td>NaN</td>\n",
       "      <td>NaN</td>\n",
       "      <td>NaN</td>\n",
       "    </tr>\n",
       "    <tr>\n",
       "      <th>72</th>\n",
       "      <td>2</td>\n",
       "      <td>818856642</td>\n",
       "      <td>2734572</td>\n",
       "      <td>3340203</td>\n",
       "      <td>4.25</td>\n",
       "      <td>9.0</td>\n",
       "      <td>Ritual Brewing Company</td>\n",
       "      <td>Oil Rig</td>\n",
       "      <td>IPA - Imperial / Double</td>\n",
       "      <td>39329</td>\n",
       "      <td>...</td>\n",
       "      <td>Redlands</td>\n",
       "      <td>United States</td>\n",
       "      <td>CA</td>\n",
       "      <td>Nightlife Spot</td>\n",
       "      <td>376422.0</td>\n",
       "      <td>Gooood stuff. Cool place too.</td>\n",
       "      <td>Sat, 19 Oct 2019 00:37:37 +0000</td>\n",
       "      <td>3.87873</td>\n",
       "      <td>NEW TRADITIONS CALL FOR NEW HOLIDAYS AND NEW H...</td>\n",
       "      <td>9.0</td>\n",
       "    </tr>\n",
       "    <tr>\n",
       "      <th>75</th>\n",
       "      <td>3</td>\n",
       "      <td>815159720</td>\n",
       "      <td>1044097</td>\n",
       "      <td>3340203</td>\n",
       "      <td>4.25</td>\n",
       "      <td>8.5</td>\n",
       "      <td>Stone Brewing</td>\n",
       "      <td>Stone Ruination Double IPA 2.0</td>\n",
       "      <td>IPA - Imperial / Double</td>\n",
       "      <td>1204</td>\n",
       "      <td>...</td>\n",
       "      <td>NaN</td>\n",
       "      <td>NaN</td>\n",
       "      <td>NaN</td>\n",
       "      <td>NaN</td>\n",
       "      <td>NaN</td>\n",
       "      <td>Probably the best Stone beer I’ve had. I’m a fan.</td>\n",
       "      <td>Thu, 10 Oct 2019 02:20:55 +0000</td>\n",
       "      <td>4.01290</td>\n",
       "      <td>Stone Ruination IPA was the first full-time br...</td>\n",
       "      <td>8.5</td>\n",
       "    </tr>\n",
       "    <tr>\n",
       "      <th>105</th>\n",
       "      <td>4</td>\n",
       "      <td>814916483</td>\n",
       "      <td>1070</td>\n",
       "      <td>3340203</td>\n",
       "      <td>3.75</td>\n",
       "      <td>9.9</td>\n",
       "      <td>Lagunitas Brewing Company</td>\n",
       "      <td>Imperial Stout</td>\n",
       "      <td>Stout - Russian Imperial</td>\n",
       "      <td>765</td>\n",
       "      <td>...</td>\n",
       "      <td>NaN</td>\n",
       "      <td>NaN</td>\n",
       "      <td>NaN</td>\n",
       "      <td>NaN</td>\n",
       "      <td>NaN</td>\n",
       "      <td>A really nice, if unspectacular, stout.</td>\n",
       "      <td>Wed, 09 Oct 2019 04:25:53 +0000</td>\n",
       "      <td>3.91420</td>\n",
       "      <td>Made with Highly roasted malted barley, and pl...</td>\n",
       "      <td>9.9</td>\n",
       "    </tr>\n",
       "  </tbody>\n",
       "</table>\n",
       "<p>5 rows × 30 columns</p>\n",
       "</div>"
      ],
      "text/plain": [
       "     Unnamed: 0  checkin_id  beer.bid  user.uid  rating_score  \\\n",
       "0             0   821797539   2095023   3340203          3.75   \n",
       "71            1   818949121   1709568   3340203          3.50   \n",
       "72            2   818856642   2734572   3340203          4.25   \n",
       "75            3   815159720   1044097   3340203          4.25   \n",
       "105           4   814916483      1070   3340203          3.75   \n",
       "\n",
       "     beer.beer_abv_x       brewery.brewery_name  \\\n",
       "0                7.5              Stone Brewing   \n",
       "71               5.2     Ritual Brewing Company   \n",
       "72               9.0     Ritual Brewing Company   \n",
       "75               8.5              Stone Brewing   \n",
       "105              9.9  Lagunitas Brewing Company   \n",
       "\n",
       "                     beer.beer_name           beer.beer_style  \\\n",
       "0           Stone Scorpion Bowl IPA            IPA - American   \n",
       "71                         Pale Ale       Pale Ale - American   \n",
       "72                          Oil Rig   IPA - Imperial / Double   \n",
       "75   Stone Ruination Double IPA 2.0   IPA - Imperial / Double   \n",
       "105                  Imperial Stout  Stout - Russian Imperial   \n",
       "\n",
       "     brewery.brewery_id       ...        venue.location.venue_city  \\\n",
       "0                  1204       ...                              NaN   \n",
       "71                39329       ...                         Redlands   \n",
       "72                39329       ...                         Redlands   \n",
       "75                 1204       ...                              NaN   \n",
       "105                 765       ...                              NaN   \n",
       "\n",
       "    venue.location.venue_country venue.location.venue_state  \\\n",
       "0                            NaN                        NaN   \n",
       "71                 United States                         CA   \n",
       "72                 United States                         CA   \n",
       "75                           NaN                        NaN   \n",
       "105                          NaN                        NaN   \n",
       "\n",
       "    venue.primary_category  venue.venue_id  \\\n",
       "0                      NaN             NaN   \n",
       "71          Nightlife Spot        376422.0   \n",
       "72          Nightlife Spot        376422.0   \n",
       "75                     NaN             NaN   \n",
       "105                    NaN             NaN   \n",
       "\n",
       "                                       checkin_comment  \\\n",
       "0                 Easy-drinking, not too hoppy. Solid.   \n",
       "71                                              Solid.   \n",
       "72                       Gooood stuff. Cool place too.   \n",
       "75   Probably the best Stone beer I’ve had. I’m a fan.   \n",
       "105            A really nice, if unspectacular, stout.   \n",
       "\n",
       "                          created_at beer.rating_score  \\\n",
       "0    Sat, 26 Oct 2019 03:52:50 +0000           3.73789   \n",
       "71   Sat, 19 Oct 2019 03:07:43 +0000               NaN   \n",
       "72   Sat, 19 Oct 2019 00:37:37 +0000           3.87873   \n",
       "75   Thu, 10 Oct 2019 02:20:55 +0000           4.01290   \n",
       "105  Wed, 09 Oct 2019 04:25:53 +0000           3.91420   \n",
       "\n",
       "                                 beer.beer_description  beer.beer_abv_y  \n",
       "0    To create a recipe so tropical and fruity with...              7.5  \n",
       "71                                                 NaN              NaN  \n",
       "72   NEW TRADITIONS CALL FOR NEW HOLIDAYS AND NEW H...              9.0  \n",
       "75   Stone Ruination IPA was the first full-time br...              8.5  \n",
       "105  Made with Highly roasted malted barley, and pl...              9.9  \n",
       "\n",
       "[5 rows x 30 columns]"
      ]
     },
     "execution_count": 205,
     "metadata": {},
     "output_type": "execute_result"
    }
   ],
   "source": [
    "biggie.head()"
   ]
  },
  {
   "cell_type": "code",
   "execution_count": 206,
   "metadata": {
    "collapsed": false
   },
   "outputs": [
    {
     "data": {
      "text/plain": [
       "18071"
      ]
     },
     "execution_count": 206,
     "metadata": {},
     "output_type": "execute_result"
    }
   ],
   "source": [
    "len(biggie[biggie['beer.beer_abv_x'] == 0])"
   ]
  },
  {
   "cell_type": "code",
   "execution_count": 214,
   "metadata": {
    "collapsed": false
   },
   "outputs": [],
   "source": [
    "biggie['allabv'] = biggie.apply(lambda x: x['beer.beer_abv_y'] \n",
    "                                if x['beer.beer_abv_y'] > 0 \n",
    "                                else x['beer.beer_abv_x'], axis=1)"
   ]
  },
  {
   "cell_type": "code",
   "execution_count": 215,
   "metadata": {
    "collapsed": false
   },
   "outputs": [
    {
     "data": {
      "text/plain": [
       "17935"
      ]
     },
     "execution_count": 215,
     "metadata": {},
     "output_type": "execute_result"
    }
   ],
   "source": [
    "len(biggie[biggie['allabv'] == 0])"
   ]
  },
  {
   "cell_type": "code",
   "execution_count": 216,
   "metadata": {
    "collapsed": true
   },
   "outputs": [],
   "source": [
    "biggie['abv'] = biggie['allabv']"
   ]
  },
  {
   "cell_type": "code",
   "execution_count": 217,
   "metadata": {
    "collapsed": false
   },
   "outputs": [
    {
     "data": {
      "text/plain": [
       "Index(['Unnamed: 0', 'checkin_id', 'beer.bid', 'user.uid', 'rating_score',\n",
       "       'beer.beer_abv_x', 'brewery.brewery_name', 'beer.beer_name',\n",
       "       'beer.beer_style', 'brewery.brewery_id', 'brewery.brewery_type',\n",
       "       'brewery.country_name', 'brewery.location.brewery_city',\n",
       "       'brewery.location.brewery_state', 'brewery.location.lat',\n",
       "       'brewery.location.lng', 'user.user_name', 'venue.categories.items',\n",
       "       'venue.location.lat', 'venue.location.lng', 'venue.location.venue_city',\n",
       "       'venue.location.venue_country', 'venue.location.venue_state',\n",
       "       'venue.primary_category', 'venue.venue_id', 'checkin_comment',\n",
       "       'created_at', 'beer.rating_score', 'beer.beer_description',\n",
       "       'beer.beer_abv_y', 'allabv', 'abv'],\n",
       "      dtype='object')"
      ]
     },
     "execution_count": 217,
     "metadata": {},
     "output_type": "execute_result"
    }
   ],
   "source": [
    "biggie.columns"
   ]
  },
  {
   "cell_type": "code",
   "execution_count": 219,
   "metadata": {
    "collapsed": false
   },
   "outputs": [],
   "source": [
    "biggie.drop(['Unnamed: 0','beer.beer_abv_x','user.user_name','beer.beer_abv_y','allabv'], inplace=True, axis=1)"
   ]
  },
  {
   "cell_type": "code",
   "execution_count": 220,
   "metadata": {
    "collapsed": false
   },
   "outputs": [
    {
     "data": {
      "text/plain": [
       "(1571140, 27)"
      ]
     },
     "execution_count": 220,
     "metadata": {},
     "output_type": "execute_result"
    }
   ],
   "source": [
    "biggie.shape"
   ]
  },
  {
   "cell_type": "code",
   "execution_count": 221,
   "metadata": {
    "collapsed": false
   },
   "outputs": [
    {
     "data": {
      "text/html": [
       "<div>\n",
       "<style>\n",
       "    .dataframe thead tr:only-child th {\n",
       "        text-align: right;\n",
       "    }\n",
       "\n",
       "    .dataframe thead th {\n",
       "        text-align: left;\n",
       "    }\n",
       "\n",
       "    .dataframe tbody tr th {\n",
       "        vertical-align: top;\n",
       "    }\n",
       "</style>\n",
       "<table border=\"1\" class=\"dataframe\">\n",
       "  <thead>\n",
       "    <tr style=\"text-align: right;\">\n",
       "      <th></th>\n",
       "      <th>checkin_id</th>\n",
       "      <th>beer.bid</th>\n",
       "      <th>user.uid</th>\n",
       "      <th>rating_score</th>\n",
       "      <th>brewery.brewery_name</th>\n",
       "      <th>beer.beer_name</th>\n",
       "      <th>beer.beer_style</th>\n",
       "      <th>brewery.brewery_id</th>\n",
       "      <th>brewery.brewery_type</th>\n",
       "      <th>brewery.country_name</th>\n",
       "      <th>...</th>\n",
       "      <th>venue.location.venue_city</th>\n",
       "      <th>venue.location.venue_country</th>\n",
       "      <th>venue.location.venue_state</th>\n",
       "      <th>venue.primary_category</th>\n",
       "      <th>venue.venue_id</th>\n",
       "      <th>checkin_comment</th>\n",
       "      <th>created_at</th>\n",
       "      <th>beer.rating_score</th>\n",
       "      <th>beer.beer_description</th>\n",
       "      <th>abv</th>\n",
       "    </tr>\n",
       "  </thead>\n",
       "  <tbody>\n",
       "    <tr>\n",
       "      <th>0</th>\n",
       "      <td>821797539</td>\n",
       "      <td>2095023</td>\n",
       "      <td>3340203</td>\n",
       "      <td>3.75</td>\n",
       "      <td>Stone Brewing</td>\n",
       "      <td>Stone Scorpion Bowl IPA</td>\n",
       "      <td>IPA - American</td>\n",
       "      <td>1204</td>\n",
       "      <td>Regional Brewery</td>\n",
       "      <td>United States</td>\n",
       "      <td>...</td>\n",
       "      <td>NaN</td>\n",
       "      <td>NaN</td>\n",
       "      <td>NaN</td>\n",
       "      <td>NaN</td>\n",
       "      <td>NaN</td>\n",
       "      <td>Easy-drinking, not too hoppy. Solid.</td>\n",
       "      <td>Sat, 26 Oct 2019 03:52:50 +0000</td>\n",
       "      <td>3.73789</td>\n",
       "      <td>To create a recipe so tropical and fruity with...</td>\n",
       "      <td>7.5</td>\n",
       "    </tr>\n",
       "    <tr>\n",
       "      <th>71</th>\n",
       "      <td>818949121</td>\n",
       "      <td>1709568</td>\n",
       "      <td>3340203</td>\n",
       "      <td>3.50</td>\n",
       "      <td>Ritual Brewing Company</td>\n",
       "      <td>Pale Ale</td>\n",
       "      <td>Pale Ale - American</td>\n",
       "      <td>39329</td>\n",
       "      <td>Micro Brewery</td>\n",
       "      <td>United States</td>\n",
       "      <td>...</td>\n",
       "      <td>Redlands</td>\n",
       "      <td>United States</td>\n",
       "      <td>CA</td>\n",
       "      <td>Nightlife Spot</td>\n",
       "      <td>376422.0</td>\n",
       "      <td>Solid.</td>\n",
       "      <td>Sat, 19 Oct 2019 03:07:43 +0000</td>\n",
       "      <td>NaN</td>\n",
       "      <td>NaN</td>\n",
       "      <td>5.2</td>\n",
       "    </tr>\n",
       "    <tr>\n",
       "      <th>72</th>\n",
       "      <td>818856642</td>\n",
       "      <td>2734572</td>\n",
       "      <td>3340203</td>\n",
       "      <td>4.25</td>\n",
       "      <td>Ritual Brewing Company</td>\n",
       "      <td>Oil Rig</td>\n",
       "      <td>IPA - Imperial / Double</td>\n",
       "      <td>39329</td>\n",
       "      <td>Micro Brewery</td>\n",
       "      <td>United States</td>\n",
       "      <td>...</td>\n",
       "      <td>Redlands</td>\n",
       "      <td>United States</td>\n",
       "      <td>CA</td>\n",
       "      <td>Nightlife Spot</td>\n",
       "      <td>376422.0</td>\n",
       "      <td>Gooood stuff. Cool place too.</td>\n",
       "      <td>Sat, 19 Oct 2019 00:37:37 +0000</td>\n",
       "      <td>3.87873</td>\n",
       "      <td>NEW TRADITIONS CALL FOR NEW HOLIDAYS AND NEW H...</td>\n",
       "      <td>9.0</td>\n",
       "    </tr>\n",
       "    <tr>\n",
       "      <th>75</th>\n",
       "      <td>815159720</td>\n",
       "      <td>1044097</td>\n",
       "      <td>3340203</td>\n",
       "      <td>4.25</td>\n",
       "      <td>Stone Brewing</td>\n",
       "      <td>Stone Ruination Double IPA 2.0</td>\n",
       "      <td>IPA - Imperial / Double</td>\n",
       "      <td>1204</td>\n",
       "      <td>Regional Brewery</td>\n",
       "      <td>United States</td>\n",
       "      <td>...</td>\n",
       "      <td>NaN</td>\n",
       "      <td>NaN</td>\n",
       "      <td>NaN</td>\n",
       "      <td>NaN</td>\n",
       "      <td>NaN</td>\n",
       "      <td>Probably the best Stone beer I’ve had. I’m a fan.</td>\n",
       "      <td>Thu, 10 Oct 2019 02:20:55 +0000</td>\n",
       "      <td>4.01290</td>\n",
       "      <td>Stone Ruination IPA was the first full-time br...</td>\n",
       "      <td>8.5</td>\n",
       "    </tr>\n",
       "    <tr>\n",
       "      <th>105</th>\n",
       "      <td>814916483</td>\n",
       "      <td>1070</td>\n",
       "      <td>3340203</td>\n",
       "      <td>3.75</td>\n",
       "      <td>Lagunitas Brewing Company</td>\n",
       "      <td>Imperial Stout</td>\n",
       "      <td>Stout - Russian Imperial</td>\n",
       "      <td>765</td>\n",
       "      <td>Macro Brewery</td>\n",
       "      <td>United States</td>\n",
       "      <td>...</td>\n",
       "      <td>NaN</td>\n",
       "      <td>NaN</td>\n",
       "      <td>NaN</td>\n",
       "      <td>NaN</td>\n",
       "      <td>NaN</td>\n",
       "      <td>A really nice, if unspectacular, stout.</td>\n",
       "      <td>Wed, 09 Oct 2019 04:25:53 +0000</td>\n",
       "      <td>3.91420</td>\n",
       "      <td>Made with Highly roasted malted barley, and pl...</td>\n",
       "      <td>9.9</td>\n",
       "    </tr>\n",
       "  </tbody>\n",
       "</table>\n",
       "<p>5 rows × 27 columns</p>\n",
       "</div>"
      ],
      "text/plain": [
       "     checkin_id  beer.bid  user.uid  rating_score       brewery.brewery_name  \\\n",
       "0     821797539   2095023   3340203          3.75              Stone Brewing   \n",
       "71    818949121   1709568   3340203          3.50     Ritual Brewing Company   \n",
       "72    818856642   2734572   3340203          4.25     Ritual Brewing Company   \n",
       "75    815159720   1044097   3340203          4.25              Stone Brewing   \n",
       "105   814916483      1070   3340203          3.75  Lagunitas Brewing Company   \n",
       "\n",
       "                     beer.beer_name           beer.beer_style  \\\n",
       "0           Stone Scorpion Bowl IPA            IPA - American   \n",
       "71                         Pale Ale       Pale Ale - American   \n",
       "72                          Oil Rig   IPA - Imperial / Double   \n",
       "75   Stone Ruination Double IPA 2.0   IPA - Imperial / Double   \n",
       "105                  Imperial Stout  Stout - Russian Imperial   \n",
       "\n",
       "     brewery.brewery_id brewery.brewery_type brewery.country_name ...   \\\n",
       "0                  1204     Regional Brewery        United States ...    \n",
       "71                39329        Micro Brewery        United States ...    \n",
       "72                39329        Micro Brewery        United States ...    \n",
       "75                 1204     Regional Brewery        United States ...    \n",
       "105                 765        Macro Brewery        United States ...    \n",
       "\n",
       "    venue.location.venue_city venue.location.venue_country  \\\n",
       "0                         NaN                          NaN   \n",
       "71                   Redlands                United States   \n",
       "72                   Redlands                United States   \n",
       "75                        NaN                          NaN   \n",
       "105                       NaN                          NaN   \n",
       "\n",
       "     venue.location.venue_state  venue.primary_category venue.venue_id  \\\n",
       "0                           NaN                     NaN            NaN   \n",
       "71                           CA          Nightlife Spot       376422.0   \n",
       "72                           CA          Nightlife Spot       376422.0   \n",
       "75                          NaN                     NaN            NaN   \n",
       "105                         NaN                     NaN            NaN   \n",
       "\n",
       "                                       checkin_comment  \\\n",
       "0                 Easy-drinking, not too hoppy. Solid.   \n",
       "71                                              Solid.   \n",
       "72                       Gooood stuff. Cool place too.   \n",
       "75   Probably the best Stone beer I’ve had. I’m a fan.   \n",
       "105            A really nice, if unspectacular, stout.   \n",
       "\n",
       "                          created_at beer.rating_score  \\\n",
       "0    Sat, 26 Oct 2019 03:52:50 +0000           3.73789   \n",
       "71   Sat, 19 Oct 2019 03:07:43 +0000               NaN   \n",
       "72   Sat, 19 Oct 2019 00:37:37 +0000           3.87873   \n",
       "75   Thu, 10 Oct 2019 02:20:55 +0000           4.01290   \n",
       "105  Wed, 09 Oct 2019 04:25:53 +0000           3.91420   \n",
       "\n",
       "                                 beer.beer_description  abv  \n",
       "0    To create a recipe so tropical and fruity with...  7.5  \n",
       "71                                                 NaN  5.2  \n",
       "72   NEW TRADITIONS CALL FOR NEW HOLIDAYS AND NEW H...  9.0  \n",
       "75   Stone Ruination IPA was the first full-time br...  8.5  \n",
       "105  Made with Highly roasted malted barley, and pl...  9.9  \n",
       "\n",
       "[5 rows x 27 columns]"
      ]
     },
     "execution_count": 221,
     "metadata": {},
     "output_type": "execute_result"
    }
   ],
   "source": [
    "biggie.head()"
   ]
  },
  {
   "cell_type": "code",
   "execution_count": 222,
   "metadata": {
    "collapsed": false
   },
   "outputs": [
    {
     "name": "stdout",
     "output_type": "stream",
     "text": [
      "<class 'pandas.core.frame.DataFrame'>\n",
      "Int64Index: 1571140 entries, 0 to 14209504\n",
      "Data columns (total 27 columns):\n",
      "checkin_id                        1571140 non-null int64\n",
      "beer.bid                          1571140 non-null int64\n",
      "user.uid                          1571140 non-null int64\n",
      "rating_score                      1571140 non-null float64\n",
      "brewery.brewery_name              1571140 non-null object\n",
      "beer.beer_name                    1571140 non-null object\n",
      "beer.beer_style                   1571140 non-null object\n",
      "brewery.brewery_id                1571140 non-null int64\n",
      "brewery.brewery_type              1571140 non-null object\n",
      "brewery.country_name              1571140 non-null object\n",
      "brewery.location.brewery_city     1554436 non-null object\n",
      "brewery.location.brewery_state    1546325 non-null object\n",
      "brewery.location.lat              1571140 non-null float64\n",
      "brewery.location.lng              1571140 non-null float64\n",
      "venue.categories.items            1101509 non-null object\n",
      "venue.location.lat                1101509 non-null float64\n",
      "venue.location.lng                1101509 non-null float64\n",
      "venue.location.venue_city         1052605 non-null object\n",
      "venue.location.venue_country      1101367 non-null object\n",
      "venue.location.venue_state        1087951 non-null object\n",
      "venue.primary_category            1092671 non-null object\n",
      "venue.venue_id                    1101509 non-null float64\n",
      "checkin_comment                   343881 non-null object\n",
      "created_at                        1571140 non-null object\n",
      "beer.rating_score                 1138199 non-null float64\n",
      "beer.beer_description             1010616 non-null object\n",
      "abv                               1571140 non-null float64\n",
      "dtypes: float64(8), int64(4), object(15)\n",
      "memory usage: 375.6+ MB\n"
     ]
    }
   ],
   "source": [
    "biggie.info()"
   ]
  },
  {
   "cell_type": "code",
   "execution_count": 223,
   "metadata": {
    "collapsed": true
   },
   "outputs": [],
   "source": [
    "biggie.to_csv('capstone_1/bigframe.csv')"
   ]
  },
  {
   "cell_type": "code",
   "execution_count": null,
   "metadata": {
    "collapsed": true
   },
   "outputs": [],
   "source": []
  }
 ],
 "metadata": {
  "kernelspec": {
   "display_name": "Python 3",
   "language": "python",
   "name": "python3"
  },
  "language_info": {
   "codemirror_mode": {
    "name": "ipython",
    "version": 3
   },
   "file_extension": ".py",
   "mimetype": "text/x-python",
   "name": "python",
   "nbconvert_exporter": "python",
   "pygments_lexer": "ipython3",
   "version": "3.6.9"
  }
 },
 "nbformat": 4,
 "nbformat_minor": 2
}
