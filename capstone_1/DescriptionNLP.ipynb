{
 "cells": [
  {
   "cell_type": "markdown",
   "metadata": {},
   "source": [
    "How many of the checkins have descriptions for the beer?"
   ]
  },
  {
   "cell_type": "code",
   "execution_count": 1,
   "metadata": {
    "collapsed": true
   },
   "outputs": [],
   "source": [
    "import numpy as np\n",
    "import pandas as pd\n"
   ]
  },
  {
   "cell_type": "code",
   "execution_count": 405,
   "metadata": {
    "collapsed": false
   },
   "outputs": [
    {
     "data": {
      "text/html": [
       "<div>\n",
       "<style scoped>\n",
       "    .dataframe tbody tr th:only-of-type {\n",
       "        vertical-align: middle;\n",
       "    }\n",
       "\n",
       "    .dataframe tbody tr th {\n",
       "        vertical-align: top;\n",
       "    }\n",
       "\n",
       "    .dataframe thead th {\n",
       "        text-align: right;\n",
       "    }\n",
       "</style>\n",
       "<table border=\"1\" class=\"dataframe\">\n",
       "  <thead>\n",
       "    <tr style=\"text-align: right;\">\n",
       "      <th></th>\n",
       "      <th>beer_id</th>\n",
       "      <th>beer_description</th>\n",
       "    </tr>\n",
       "  </thead>\n",
       "  <tbody>\n",
       "    <tr>\n",
       "      <th>0</th>\n",
       "      <td>2095023</td>\n",
       "      <td>To create a recipe so tropical and fruity with...</td>\n",
       "    </tr>\n",
       "  </tbody>\n",
       "</table>\n",
       "</div>"
      ],
      "text/plain": [
       "   beer_id                                   beer_description\n",
       "0  2095023  To create a recipe so tropical and fruity with..."
      ]
     },
     "execution_count": 405,
     "metadata": {},
     "output_type": "execute_result"
    }
   ],
   "source": [
    "descrips = pd.read_csv('descriptions.csv', nrows=1)\n",
    "descrips"
   ]
  },
  {
   "cell_type": "code",
   "execution_count": 8,
   "metadata": {
    "collapsed": false
   },
   "outputs": [
    {
     "name": "stdout",
     "output_type": "stream",
     "text": [
      "114347 114347\n"
     ]
    }
   ],
   "source": [
    "descrips = pd.read_csv('descriptions.csv')\n",
    "print(len(descrips), descrips.beer_id.nunique())"
   ]
  },
  {
   "cell_type": "markdown",
   "metadata": {},
   "source": [
    "And how many of all the checkins have descriptions?"
   ]
  },
  {
   "cell_type": "code",
   "execution_count": 407,
   "metadata": {
    "collapsed": true
   },
   "outputs": [],
   "source": [
    "checkins = pd.read_csv('comboframe.csv', usecols=['beer_id'])"
   ]
  },
  {
   "cell_type": "code",
   "execution_count": 408,
   "metadata": {
    "collapsed": false
   },
   "outputs": [
    {
     "data": {
      "text/plain": [
       "1531277"
      ]
     },
     "execution_count": 408,
     "metadata": {},
     "output_type": "execute_result"
    }
   ],
   "source": [
    "len(pd.merge(checkins, descrips, how='inner'))"
   ]
  },
  {
   "cell_type": "code",
   "execution_count": 3,
   "metadata": {
    "collapsed": true
   },
   "outputs": [],
   "source": [
    "checkins = pd.read_csv('comboframe.csv', usecols=['beer_id', 'rating_user',\n",
    "                                                  'rating_global', 'user_id',\n",
    "                                                  'abv', 'brewery_name',\n",
    "                                                  'beer_style', 'beer_name'])"
   ]
  },
  {
   "cell_type": "code",
   "execution_count": 4,
   "metadata": {
    "collapsed": false
   },
   "outputs": [
    {
     "data": {
      "text/plain": [
       "(2061965, 8)"
      ]
     },
     "execution_count": 4,
     "metadata": {},
     "output_type": "execute_result"
    }
   ],
   "source": [
    "checkins.shape"
   ]
  },
  {
   "cell_type": "code",
   "execution_count": 5,
   "metadata": {
    "collapsed": true
   },
   "outputs": [],
   "source": [
    "checkins.drop_duplicates(subset=['beer_id', 'user_id'], inplace=True)"
   ]
  },
  {
   "cell_type": "code",
   "execution_count": 6,
   "metadata": {
    "collapsed": false
   },
   "outputs": [
    {
     "data": {
      "text/plain": [
       "(1894852, 8)"
      ]
     },
     "execution_count": 6,
     "metadata": {},
     "output_type": "execute_result"
    }
   ],
   "source": [
    "checkins.shape"
   ]
  },
  {
   "cell_type": "code",
   "execution_count": 9,
   "metadata": {
    "collapsed": false
   },
   "outputs": [
    {
     "data": {
      "text/plain": [
       "(1394388, 9)"
      ]
     },
     "execution_count": 9,
     "metadata": {},
     "output_type": "execute_result"
    }
   ],
   "source": [
    "checkins = checkins.merge(descrips, how='inner')\n",
    "checkins.shape"
   ]
  },
  {
   "cell_type": "code",
   "execution_count": 10,
   "metadata": {
    "collapsed": false
   },
   "outputs": [
    {
     "data": {
      "text/html": [
       "<div>\n",
       "<style scoped>\n",
       "    .dataframe tbody tr th:only-of-type {\n",
       "        vertical-align: middle;\n",
       "    }\n",
       "\n",
       "    .dataframe tbody tr th {\n",
       "        vertical-align: top;\n",
       "    }\n",
       "\n",
       "    .dataframe thead th {\n",
       "        text-align: right;\n",
       "    }\n",
       "</style>\n",
       "<table border=\"1\" class=\"dataframe\">\n",
       "  <thead>\n",
       "    <tr style=\"text-align: right;\">\n",
       "      <th></th>\n",
       "      <th>beer_id</th>\n",
       "      <th>user_id</th>\n",
       "      <th>rating_user</th>\n",
       "      <th>brewery_name</th>\n",
       "      <th>beer_name</th>\n",
       "      <th>beer_style</th>\n",
       "      <th>rating_global</th>\n",
       "      <th>abv</th>\n",
       "      <th>beer_description</th>\n",
       "    </tr>\n",
       "  </thead>\n",
       "  <tbody>\n",
       "    <tr>\n",
       "      <th>0</th>\n",
       "      <td>2095023</td>\n",
       "      <td>3340203</td>\n",
       "      <td>3.75</td>\n",
       "      <td>Stone Brewing</td>\n",
       "      <td>Stone Scorpion Bowl IPA</td>\n",
       "      <td>IPA - American</td>\n",
       "      <td>3.73789</td>\n",
       "      <td>7.5</td>\n",
       "      <td>To create a recipe so tropical and fruity with...</td>\n",
       "    </tr>\n",
       "    <tr>\n",
       "      <th>1</th>\n",
       "      <td>2095023</td>\n",
       "      <td>2166716</td>\n",
       "      <td>3.50</td>\n",
       "      <td>Stone Brewing</td>\n",
       "      <td>Stone Scorpion Bowl IPA</td>\n",
       "      <td>IPA - American</td>\n",
       "      <td>3.73789</td>\n",
       "      <td>7.5</td>\n",
       "      <td>To create a recipe so tropical and fruity with...</td>\n",
       "    </tr>\n",
       "    <tr>\n",
       "      <th>2</th>\n",
       "      <td>2095023</td>\n",
       "      <td>2607740</td>\n",
       "      <td>3.50</td>\n",
       "      <td>Stone Brewing</td>\n",
       "      <td>Stone Scorpion Bowl IPA</td>\n",
       "      <td>IPA - American</td>\n",
       "      <td>3.73789</td>\n",
       "      <td>7.5</td>\n",
       "      <td>To create a recipe so tropical and fruity with...</td>\n",
       "    </tr>\n",
       "    <tr>\n",
       "      <th>3</th>\n",
       "      <td>2095023</td>\n",
       "      <td>1040951</td>\n",
       "      <td>3.50</td>\n",
       "      <td>Stone Brewing</td>\n",
       "      <td>Stone Scorpion Bowl IPA</td>\n",
       "      <td>IPA - American</td>\n",
       "      <td>3.73789</td>\n",
       "      <td>7.5</td>\n",
       "      <td>To create a recipe so tropical and fruity with...</td>\n",
       "    </tr>\n",
       "    <tr>\n",
       "      <th>4</th>\n",
       "      <td>2095023</td>\n",
       "      <td>1338056</td>\n",
       "      <td>3.25</td>\n",
       "      <td>Stone Brewing</td>\n",
       "      <td>Stone Scorpion Bowl IPA</td>\n",
       "      <td>IPA - American</td>\n",
       "      <td>3.73789</td>\n",
       "      <td>7.5</td>\n",
       "      <td>To create a recipe so tropical and fruity with...</td>\n",
       "    </tr>\n",
       "  </tbody>\n",
       "</table>\n",
       "</div>"
      ],
      "text/plain": [
       "   beer_id  user_id  rating_user   brewery_name                beer_name  \\\n",
       "0  2095023  3340203         3.75  Stone Brewing  Stone Scorpion Bowl IPA   \n",
       "1  2095023  2166716         3.50  Stone Brewing  Stone Scorpion Bowl IPA   \n",
       "2  2095023  2607740         3.50  Stone Brewing  Stone Scorpion Bowl IPA   \n",
       "3  2095023  1040951         3.50  Stone Brewing  Stone Scorpion Bowl IPA   \n",
       "4  2095023  1338056         3.25  Stone Brewing  Stone Scorpion Bowl IPA   \n",
       "\n",
       "       beer_style  rating_global  abv  \\\n",
       "0  IPA - American        3.73789  7.5   \n",
       "1  IPA - American        3.73789  7.5   \n",
       "2  IPA - American        3.73789  7.5   \n",
       "3  IPA - American        3.73789  7.5   \n",
       "4  IPA - American        3.73789  7.5   \n",
       "\n",
       "                                    beer_description  \n",
       "0  To create a recipe so tropical and fruity with...  \n",
       "1  To create a recipe so tropical and fruity with...  \n",
       "2  To create a recipe so tropical and fruity with...  \n",
       "3  To create a recipe so tropical and fruity with...  \n",
       "4  To create a recipe so tropical and fruity with...  "
      ]
     },
     "execution_count": 10,
     "metadata": {},
     "output_type": "execute_result"
    }
   ],
   "source": [
    "checkins.head()"
   ]
  },
  {
   "cell_type": "code",
   "execution_count": 11,
   "metadata": {
    "collapsed": false
   },
   "outputs": [
    {
     "name": "stdout",
     "output_type": "stream",
     "text": [
      "<class 'pandas.core.frame.DataFrame'>\n",
      "Int64Index: 1394388 entries, 0 to 1394387\n",
      "Data columns (total 9 columns):\n",
      "beer_id             1394388 non-null int64\n",
      "user_id             1394388 non-null int64\n",
      "rating_user         1394388 non-null float64\n",
      "brewery_name        1394388 non-null object\n",
      "beer_name           1394388 non-null object\n",
      "beer_style          1394388 non-null object\n",
      "rating_global       1369092 non-null float64\n",
      "abv                 1394388 non-null float64\n",
      "beer_description    1394388 non-null object\n",
      "dtypes: float64(3), int64(2), object(4)\n",
      "memory usage: 106.4+ MB\n"
     ]
    }
   ],
   "source": [
    "checkins.info()"
   ]
  },
  {
   "cell_type": "code",
   "execution_count": 12,
   "metadata": {
    "collapsed": true
   },
   "outputs": [],
   "source": [
    "# cut the non-globally rated, which are only 2% of the data\n",
    "checkins.dropna(subset=['rating_global'], axis=0, inplace=True)"
   ]
  },
  {
   "cell_type": "code",
   "execution_count": 13,
   "metadata": {
    "collapsed": false
   },
   "outputs": [
    {
     "data": {
      "text/plain": [
       "(1369092, 9)"
      ]
     },
     "execution_count": 13,
     "metadata": {},
     "output_type": "execute_result"
    }
   ],
   "source": [
    "checkins.shape"
   ]
  },
  {
   "cell_type": "code",
   "execution_count": 14,
   "metadata": {
    "collapsed": false
   },
   "outputs": [
    {
     "data": {
      "text/plain": [
       "2488"
      ]
     },
     "execution_count": 14,
     "metadata": {},
     "output_type": "execute_result"
    }
   ],
   "source": [
    "sum(checkins.rating_global == 0)"
   ]
  },
  {
   "cell_type": "code",
   "execution_count": 15,
   "metadata": {
    "collapsed": false
   },
   "outputs": [
    {
     "data": {
      "text/plain": [
       "(1366604, 9)"
      ]
     },
     "execution_count": 15,
     "metadata": {},
     "output_type": "execute_result"
    }
   ],
   "source": [
    "# get rid of those, too\n",
    "checkins = checkins[checkins.rating_global > 0]\n",
    "checkins.shape"
   ]
  },
  {
   "cell_type": "markdown",
   "metadata": {},
   "source": [
    "### Let's try to find which particular words tend to align with each rater's tastes"
   ]
  },
  {
   "cell_type": "code",
   "execution_count": 16,
   "metadata": {
    "collapsed": true
   },
   "outputs": [],
   "source": [
    "from sklearn.feature_extraction.text import CountVectorizer\n",
    "from sklearn.linear_model import SGDRegressor\n",
    "from sklearn.model_selection import train_test_split\n",
    "from sklearn.preprocessing import OneHotEncoder"
   ]
  },
  {
   "cell_type": "code",
   "execution_count": 420,
   "metadata": {
    "collapsed": true
   },
   "outputs": [],
   "source": [
    "cv = CountVectorizer(stop_words='english', min_df=20, max_df=0.57, binary=True)"
   ]
  },
  {
   "cell_type": "markdown",
   "metadata": {},
   "source": [
    "Had slightly better results with a wider min-max_df spread:"
   ]
  },
  {
   "cell_type": "code",
   "execution_count": 17,
   "metadata": {
    "collapsed": true
   },
   "outputs": [],
   "source": [
    "cv = CountVectorizer(stop_words='english', min_df=10, max_df=0.71, binary=True)"
   ]
  },
  {
   "cell_type": "markdown",
   "metadata": {},
   "source": [
    "First, without regards to specific users, how well do the words predict the global rating?"
   ]
  },
  {
   "cell_type": "code",
   "execution_count": 19,
   "metadata": {
    "collapsed": false
   },
   "outputs": [],
   "source": [
    "by_beer = checkins.groupby('beer_id')\n",
    "\n",
    "descrips['abv'] = descrips.beer_id.map(dict(by_beer['abv'].mean()))\n",
    "descrips['rating_global'] = descrips.beer_id.map(dict(by_beer['rating_global'].mean()))"
   ]
  },
  {
   "cell_type": "code",
   "execution_count": 20,
   "metadata": {
    "collapsed": false
   },
   "outputs": [],
   "source": [
    "checkins.set_index('beer_id', inplace=True)"
   ]
  },
  {
   "cell_type": "code",
   "execution_count": 21,
   "metadata": {
    "collapsed": false
   },
   "outputs": [
    {
     "data": {
      "text/plain": [
       "1377"
      ]
     },
     "execution_count": 21,
     "metadata": {},
     "output_type": "execute_result"
    }
   ],
   "source": [
    "droppers = descrips.rating_global.isna()\n",
    "sum(droppers)"
   ]
  },
  {
   "cell_type": "code",
   "execution_count": 22,
   "metadata": {
    "collapsed": false
   },
   "outputs": [
    {
     "data": {
      "text/plain": [
       "(112970, 4)"
      ]
     },
     "execution_count": 22,
     "metadata": {},
     "output_type": "execute_result"
    }
   ],
   "source": [
    "descrips = descrips[~droppers]\n",
    "descrips.shape"
   ]
  },
  {
   "cell_type": "code",
   "execution_count": 23,
   "metadata": {
    "collapsed": false
   },
   "outputs": [
    {
     "data": {
      "text/html": [
       "<div>\n",
       "<style scoped>\n",
       "    .dataframe tbody tr th:only-of-type {\n",
       "        vertical-align: middle;\n",
       "    }\n",
       "\n",
       "    .dataframe tbody tr th {\n",
       "        vertical-align: top;\n",
       "    }\n",
       "\n",
       "    .dataframe thead th {\n",
       "        text-align: right;\n",
       "    }\n",
       "</style>\n",
       "<table border=\"1\" class=\"dataframe\">\n",
       "  <thead>\n",
       "    <tr style=\"text-align: right;\">\n",
       "      <th></th>\n",
       "      <th>user_id</th>\n",
       "      <th>rating_user</th>\n",
       "      <th>brewery_name</th>\n",
       "      <th>beer_name</th>\n",
       "      <th>beer_style</th>\n",
       "      <th>rating_global</th>\n",
       "      <th>abv</th>\n",
       "      <th>beer_description</th>\n",
       "    </tr>\n",
       "    <tr>\n",
       "      <th>beer_id</th>\n",
       "      <th></th>\n",
       "      <th></th>\n",
       "      <th></th>\n",
       "      <th></th>\n",
       "      <th></th>\n",
       "      <th></th>\n",
       "      <th></th>\n",
       "      <th></th>\n",
       "    </tr>\n",
       "  </thead>\n",
       "  <tbody>\n",
       "    <tr>\n",
       "      <th>2095023</th>\n",
       "      <td>3340203</td>\n",
       "      <td>3.75</td>\n",
       "      <td>Stone Brewing</td>\n",
       "      <td>Stone Scorpion Bowl IPA</td>\n",
       "      <td>IPA - American</td>\n",
       "      <td>3.73789</td>\n",
       "      <td>7.5</td>\n",
       "      <td>To create a recipe so tropical and fruity with...</td>\n",
       "    </tr>\n",
       "    <tr>\n",
       "      <th>2095023</th>\n",
       "      <td>2166716</td>\n",
       "      <td>3.50</td>\n",
       "      <td>Stone Brewing</td>\n",
       "      <td>Stone Scorpion Bowl IPA</td>\n",
       "      <td>IPA - American</td>\n",
       "      <td>3.73789</td>\n",
       "      <td>7.5</td>\n",
       "      <td>To create a recipe so tropical and fruity with...</td>\n",
       "    </tr>\n",
       "    <tr>\n",
       "      <th>2095023</th>\n",
       "      <td>2607740</td>\n",
       "      <td>3.50</td>\n",
       "      <td>Stone Brewing</td>\n",
       "      <td>Stone Scorpion Bowl IPA</td>\n",
       "      <td>IPA - American</td>\n",
       "      <td>3.73789</td>\n",
       "      <td>7.5</td>\n",
       "      <td>To create a recipe so tropical and fruity with...</td>\n",
       "    </tr>\n",
       "    <tr>\n",
       "      <th>2095023</th>\n",
       "      <td>1040951</td>\n",
       "      <td>3.50</td>\n",
       "      <td>Stone Brewing</td>\n",
       "      <td>Stone Scorpion Bowl IPA</td>\n",
       "      <td>IPA - American</td>\n",
       "      <td>3.73789</td>\n",
       "      <td>7.5</td>\n",
       "      <td>To create a recipe so tropical and fruity with...</td>\n",
       "    </tr>\n",
       "    <tr>\n",
       "      <th>2095023</th>\n",
       "      <td>1338056</td>\n",
       "      <td>3.25</td>\n",
       "      <td>Stone Brewing</td>\n",
       "      <td>Stone Scorpion Bowl IPA</td>\n",
       "      <td>IPA - American</td>\n",
       "      <td>3.73789</td>\n",
       "      <td>7.5</td>\n",
       "      <td>To create a recipe so tropical and fruity with...</td>\n",
       "    </tr>\n",
       "  </tbody>\n",
       "</table>\n",
       "</div>"
      ],
      "text/plain": [
       "         user_id  rating_user   brewery_name                beer_name  \\\n",
       "beer_id                                                                 \n",
       "2095023  3340203         3.75  Stone Brewing  Stone Scorpion Bowl IPA   \n",
       "2095023  2166716         3.50  Stone Brewing  Stone Scorpion Bowl IPA   \n",
       "2095023  2607740         3.50  Stone Brewing  Stone Scorpion Bowl IPA   \n",
       "2095023  1040951         3.50  Stone Brewing  Stone Scorpion Bowl IPA   \n",
       "2095023  1338056         3.25  Stone Brewing  Stone Scorpion Bowl IPA   \n",
       "\n",
       "             beer_style  rating_global  abv  \\\n",
       "beer_id                                       \n",
       "2095023  IPA - American        3.73789  7.5   \n",
       "2095023  IPA - American        3.73789  7.5   \n",
       "2095023  IPA - American        3.73789  7.5   \n",
       "2095023  IPA - American        3.73789  7.5   \n",
       "2095023  IPA - American        3.73789  7.5   \n",
       "\n",
       "                                          beer_description  \n",
       "beer_id                                                     \n",
       "2095023  To create a recipe so tropical and fruity with...  \n",
       "2095023  To create a recipe so tropical and fruity with...  \n",
       "2095023  To create a recipe so tropical and fruity with...  \n",
       "2095023  To create a recipe so tropical and fruity with...  \n",
       "2095023  To create a recipe so tropical and fruity with...  "
      ]
     },
     "execution_count": 23,
     "metadata": {},
     "output_type": "execute_result"
    }
   ],
   "source": [
    "checkins.head()"
   ]
  },
  {
   "cell_type": "code",
   "execution_count": 24,
   "metadata": {
    "collapsed": false
   },
   "outputs": [
    {
     "data": {
      "text/html": [
       "<div>\n",
       "<style scoped>\n",
       "    .dataframe tbody tr th:only-of-type {\n",
       "        vertical-align: middle;\n",
       "    }\n",
       "\n",
       "    .dataframe tbody tr th {\n",
       "        vertical-align: top;\n",
       "    }\n",
       "\n",
       "    .dataframe thead th {\n",
       "        text-align: right;\n",
       "    }\n",
       "</style>\n",
       "<table border=\"1\" class=\"dataframe\">\n",
       "  <thead>\n",
       "    <tr style=\"text-align: right;\">\n",
       "      <th></th>\n",
       "      <th>beer_id</th>\n",
       "      <th>beer_description</th>\n",
       "      <th>abv</th>\n",
       "      <th>rating_global</th>\n",
       "    </tr>\n",
       "  </thead>\n",
       "  <tbody>\n",
       "    <tr>\n",
       "      <th>0</th>\n",
       "      <td>2095023</td>\n",
       "      <td>To create a recipe so tropical and fruity with...</td>\n",
       "      <td>7.5</td>\n",
       "      <td>3.73789</td>\n",
       "    </tr>\n",
       "    <tr>\n",
       "      <th>1</th>\n",
       "      <td>2734572</td>\n",
       "      <td>NEW TRADITIONS CALL FOR NEW HOLIDAYS AND NEW H...</td>\n",
       "      <td>9.0</td>\n",
       "      <td>3.87873</td>\n",
       "    </tr>\n",
       "    <tr>\n",
       "      <th>2</th>\n",
       "      <td>1044097</td>\n",
       "      <td>Stone Ruination IPA was the first full-time br...</td>\n",
       "      <td>8.5</td>\n",
       "      <td>4.01290</td>\n",
       "    </tr>\n",
       "    <tr>\n",
       "      <th>3</th>\n",
       "      <td>1070</td>\n",
       "      <td>Made with Highly roasted malted barley, and pl...</td>\n",
       "      <td>9.9</td>\n",
       "      <td>3.91420</td>\n",
       "    </tr>\n",
       "    <tr>\n",
       "      <th>4</th>\n",
       "      <td>490277</td>\n",
       "      <td>Note: Swami's IPA is brewed and distributed fr...</td>\n",
       "      <td>6.8</td>\n",
       "      <td>3.84851</td>\n",
       "    </tr>\n",
       "  </tbody>\n",
       "</table>\n",
       "</div>"
      ],
      "text/plain": [
       "   beer_id                                   beer_description  abv  \\\n",
       "0  2095023  To create a recipe so tropical and fruity with...  7.5   \n",
       "1  2734572  NEW TRADITIONS CALL FOR NEW HOLIDAYS AND NEW H...  9.0   \n",
       "2  1044097  Stone Ruination IPA was the first full-time br...  8.5   \n",
       "3     1070  Made with Highly roasted malted barley, and pl...  9.9   \n",
       "4   490277  Note: Swami's IPA is brewed and distributed fr...  6.8   \n",
       "\n",
       "   rating_global  \n",
       "0        3.73789  \n",
       "1        3.87873  \n",
       "2        4.01290  \n",
       "3        3.91420  \n",
       "4        3.84851  "
      ]
     },
     "execution_count": 24,
     "metadata": {},
     "output_type": "execute_result"
    }
   ],
   "source": [
    "descrips.head()"
   ]
  },
  {
   "cell_type": "code",
   "execution_count": 25,
   "metadata": {
    "collapsed": false
   },
   "outputs": [
    {
     "name": "stderr",
     "output_type": "stream",
     "text": [
      "/Applications/anaconda/lib/python3.6/site-packages/ipykernel/__main__.py:1: SettingWithCopyWarning: \n",
      "A value is trying to be set on a copy of a slice from a DataFrame.\n",
      "Try using .loc[row_indexer,col_indexer] = value instead\n",
      "\n",
      "See the caveats in the documentation: http://pandas.pydata.org/pandas-docs/stable/indexing.html#indexing-view-versus-copy\n",
      "  if __name__ == '__main__':\n"
     ]
    }
   ],
   "source": [
    "descrips['brewery_name'] = descrips.beer_id.map(dict(checkins.groupby('beer_id')['brewery_name'].max(key=len)))"
   ]
  },
  {
   "cell_type": "code",
   "execution_count": 26,
   "metadata": {
    "collapsed": false
   },
   "outputs": [
    {
     "name": "stderr",
     "output_type": "stream",
     "text": [
      "/Applications/anaconda/lib/python3.6/site-packages/ipykernel/__main__.py:1: SettingWithCopyWarning: \n",
      "A value is trying to be set on a copy of a slice from a DataFrame.\n",
      "Try using .loc[row_indexer,col_indexer] = value instead\n",
      "\n",
      "See the caveats in the documentation: http://pandas.pydata.org/pandas-docs/stable/indexing.html#indexing-view-versus-copy\n",
      "  if __name__ == '__main__':\n"
     ]
    }
   ],
   "source": [
    "descrips['beer_name'] = descrips.beer_id.map(dict(checkins.groupby('beer_id')['beer_name'].max(key=len)))"
   ]
  },
  {
   "cell_type": "code",
   "execution_count": 40,
   "metadata": {
    "collapsed": true
   },
   "outputs": [],
   "source": [
    "descrips['beer_style'] = descrips.beer_id.map(dict(checkins.groupby('beer_id')['beer_style'].max(key=len)))"
   ]
  },
  {
   "cell_type": "code",
   "execution_count": 41,
   "metadata": {
    "collapsed": false
   },
   "outputs": [
    {
     "data": {
      "text/html": [
       "<div>\n",
       "<style scoped>\n",
       "    .dataframe tbody tr th:only-of-type {\n",
       "        vertical-align: middle;\n",
       "    }\n",
       "\n",
       "    .dataframe tbody tr th {\n",
       "        vertical-align: top;\n",
       "    }\n",
       "\n",
       "    .dataframe thead th {\n",
       "        text-align: right;\n",
       "    }\n",
       "</style>\n",
       "<table border=\"1\" class=\"dataframe\">\n",
       "  <thead>\n",
       "    <tr style=\"text-align: right;\">\n",
       "      <th></th>\n",
       "      <th>beer_id</th>\n",
       "      <th>beer_description</th>\n",
       "      <th>abv</th>\n",
       "      <th>rating_global</th>\n",
       "      <th>brewery_name</th>\n",
       "      <th>beer_name</th>\n",
       "      <th>beer_style</th>\n",
       "    </tr>\n",
       "  </thead>\n",
       "  <tbody>\n",
       "    <tr>\n",
       "      <th>0</th>\n",
       "      <td>2095023</td>\n",
       "      <td>Stone Brewing Stone Scorpion Bowl IPA To creat...</td>\n",
       "      <td>7.5</td>\n",
       "      <td>3.73789</td>\n",
       "      <td>Stone Brewing</td>\n",
       "      <td>Stone Scorpion Bowl IPA</td>\n",
       "      <td>IPA - American</td>\n",
       "    </tr>\n",
       "    <tr>\n",
       "      <th>1</th>\n",
       "      <td>2734572</td>\n",
       "      <td>Ritual Brewing Company Oil Rig NEW TRADITIONS ...</td>\n",
       "      <td>9.0</td>\n",
       "      <td>3.87873</td>\n",
       "      <td>Ritual Brewing Company</td>\n",
       "      <td>Oil Rig</td>\n",
       "      <td>IPA - Imperial / Double</td>\n",
       "    </tr>\n",
       "    <tr>\n",
       "      <th>2</th>\n",
       "      <td>1044097</td>\n",
       "      <td>Stone Brewing Stone Ruination Double IPA 2.0 S...</td>\n",
       "      <td>8.5</td>\n",
       "      <td>4.01290</td>\n",
       "      <td>Stone Brewing</td>\n",
       "      <td>Stone Ruination Double IPA 2.0</td>\n",
       "      <td>IPA - Imperial / Double</td>\n",
       "    </tr>\n",
       "    <tr>\n",
       "      <th>3</th>\n",
       "      <td>1070</td>\n",
       "      <td>Lagunitas Brewing Company Imperial Stout Made ...</td>\n",
       "      <td>9.9</td>\n",
       "      <td>3.91420</td>\n",
       "      <td>Lagunitas Brewing Company</td>\n",
       "      <td>Imperial Stout</td>\n",
       "      <td>Stout - Russian Imperial</td>\n",
       "    </tr>\n",
       "    <tr>\n",
       "      <th>4</th>\n",
       "      <td>490277</td>\n",
       "      <td>Pizza Port Brewing Company Swami's IPA Note: S...</td>\n",
       "      <td>6.8</td>\n",
       "      <td>3.84851</td>\n",
       "      <td>Pizza Port Brewing Company</td>\n",
       "      <td>Swami's IPA</td>\n",
       "      <td>IPA - American</td>\n",
       "    </tr>\n",
       "  </tbody>\n",
       "</table>\n",
       "</div>"
      ],
      "text/plain": [
       "   beer_id                                   beer_description  abv  \\\n",
       "0  2095023  Stone Brewing Stone Scorpion Bowl IPA To creat...  7.5   \n",
       "1  2734572  Ritual Brewing Company Oil Rig NEW TRADITIONS ...  9.0   \n",
       "2  1044097  Stone Brewing Stone Ruination Double IPA 2.0 S...  8.5   \n",
       "3     1070  Lagunitas Brewing Company Imperial Stout Made ...  9.9   \n",
       "4   490277  Pizza Port Brewing Company Swami's IPA Note: S...  6.8   \n",
       "\n",
       "   rating_global                brewery_name                       beer_name  \\\n",
       "0        3.73789               Stone Brewing         Stone Scorpion Bowl IPA   \n",
       "1        3.87873      Ritual Brewing Company                         Oil Rig   \n",
       "2        4.01290               Stone Brewing  Stone Ruination Double IPA 2.0   \n",
       "3        3.91420   Lagunitas Brewing Company                  Imperial Stout   \n",
       "4        3.84851  Pizza Port Brewing Company                     Swami's IPA   \n",
       "\n",
       "                 beer_style  \n",
       "0            IPA - American  \n",
       "1   IPA - Imperial / Double  \n",
       "2   IPA - Imperial / Double  \n",
       "3  Stout - Russian Imperial  \n",
       "4            IPA - American  "
      ]
     },
     "execution_count": 41,
     "metadata": {},
     "output_type": "execute_result"
    }
   ],
   "source": [
    "descrips.head()"
   ]
  },
  {
   "cell_type": "code",
   "execution_count": 28,
   "metadata": {
    "collapsed": false
   },
   "outputs": [
    {
     "name": "stderr",
     "output_type": "stream",
     "text": [
      "/Applications/anaconda/lib/python3.6/site-packages/ipykernel/__main__.py:1: SettingWithCopyWarning: \n",
      "A value is trying to be set on a copy of a slice from a DataFrame.\n",
      "Try using .loc[row_indexer,col_indexer] = value instead\n",
      "\n",
      "See the caveats in the documentation: http://pandas.pydata.org/pandas-docs/stable/indexing.html#indexing-view-versus-copy\n",
      "  if __name__ == '__main__':\n"
     ]
    }
   ],
   "source": [
    "descrips['beer_description'] = descrips.brewery_name + ' ' + descrips.beer_name + ' ' + descrips.beer_description"
   ]
  },
  {
   "cell_type": "code",
   "execution_count": 42,
   "metadata": {
    "collapsed": false
   },
   "outputs": [
    {
     "data": {
      "text/html": [
       "<div>\n",
       "<style scoped>\n",
       "    .dataframe tbody tr th:only-of-type {\n",
       "        vertical-align: middle;\n",
       "    }\n",
       "\n",
       "    .dataframe tbody tr th {\n",
       "        vertical-align: top;\n",
       "    }\n",
       "\n",
       "    .dataframe thead th {\n",
       "        text-align: right;\n",
       "    }\n",
       "</style>\n",
       "<table border=\"1\" class=\"dataframe\">\n",
       "  <thead>\n",
       "    <tr style=\"text-align: right;\">\n",
       "      <th></th>\n",
       "      <th>beer_id</th>\n",
       "      <th>beer_description</th>\n",
       "      <th>abv</th>\n",
       "      <th>rating_global</th>\n",
       "      <th>brewery_name</th>\n",
       "      <th>beer_name</th>\n",
       "      <th>beer_style</th>\n",
       "    </tr>\n",
       "  </thead>\n",
       "  <tbody>\n",
       "    <tr>\n",
       "      <th>0</th>\n",
       "      <td>2095023</td>\n",
       "      <td>Stone Brewing Stone Scorpion Bowl IPA To creat...</td>\n",
       "      <td>7.5</td>\n",
       "      <td>3.73789</td>\n",
       "      <td>Stone Brewing</td>\n",
       "      <td>Stone Scorpion Bowl IPA</td>\n",
       "      <td>IPA - American</td>\n",
       "    </tr>\n",
       "    <tr>\n",
       "      <th>1</th>\n",
       "      <td>2734572</td>\n",
       "      <td>Ritual Brewing Company Oil Rig NEW TRADITIONS ...</td>\n",
       "      <td>9.0</td>\n",
       "      <td>3.87873</td>\n",
       "      <td>Ritual Brewing Company</td>\n",
       "      <td>Oil Rig</td>\n",
       "      <td>IPA - Imperial / Double</td>\n",
       "    </tr>\n",
       "    <tr>\n",
       "      <th>2</th>\n",
       "      <td>1044097</td>\n",
       "      <td>Stone Brewing Stone Ruination Double IPA 2.0 S...</td>\n",
       "      <td>8.5</td>\n",
       "      <td>4.01290</td>\n",
       "      <td>Stone Brewing</td>\n",
       "      <td>Stone Ruination Double IPA 2.0</td>\n",
       "      <td>IPA - Imperial / Double</td>\n",
       "    </tr>\n",
       "    <tr>\n",
       "      <th>3</th>\n",
       "      <td>1070</td>\n",
       "      <td>Lagunitas Brewing Company Imperial Stout Made ...</td>\n",
       "      <td>9.9</td>\n",
       "      <td>3.91420</td>\n",
       "      <td>Lagunitas Brewing Company</td>\n",
       "      <td>Imperial Stout</td>\n",
       "      <td>Stout - Russian Imperial</td>\n",
       "    </tr>\n",
       "    <tr>\n",
       "      <th>4</th>\n",
       "      <td>490277</td>\n",
       "      <td>Pizza Port Brewing Company Swami's IPA Note: S...</td>\n",
       "      <td>6.8</td>\n",
       "      <td>3.84851</td>\n",
       "      <td>Pizza Port Brewing Company</td>\n",
       "      <td>Swami's IPA</td>\n",
       "      <td>IPA - American</td>\n",
       "    </tr>\n",
       "  </tbody>\n",
       "</table>\n",
       "</div>"
      ],
      "text/plain": [
       "   beer_id                                   beer_description  abv  \\\n",
       "0  2095023  Stone Brewing Stone Scorpion Bowl IPA To creat...  7.5   \n",
       "1  2734572  Ritual Brewing Company Oil Rig NEW TRADITIONS ...  9.0   \n",
       "2  1044097  Stone Brewing Stone Ruination Double IPA 2.0 S...  8.5   \n",
       "3     1070  Lagunitas Brewing Company Imperial Stout Made ...  9.9   \n",
       "4   490277  Pizza Port Brewing Company Swami's IPA Note: S...  6.8   \n",
       "\n",
       "   rating_global                brewery_name                       beer_name  \\\n",
       "0        3.73789               Stone Brewing         Stone Scorpion Bowl IPA   \n",
       "1        3.87873      Ritual Brewing Company                         Oil Rig   \n",
       "2        4.01290               Stone Brewing  Stone Ruination Double IPA 2.0   \n",
       "3        3.91420   Lagunitas Brewing Company                  Imperial Stout   \n",
       "4        3.84851  Pizza Port Brewing Company                     Swami's IPA   \n",
       "\n",
       "                 beer_style  \n",
       "0            IPA - American  \n",
       "1   IPA - Imperial / Double  \n",
       "2   IPA - Imperial / Double  \n",
       "3  Stout - Russian Imperial  \n",
       "4            IPA - American  "
      ]
     },
     "execution_count": 42,
     "metadata": {},
     "output_type": "execute_result"
    }
   ],
   "source": [
    "descrips.head()"
   ]
  },
  {
   "cell_type": "code",
   "execution_count": 30,
   "metadata": {
    "collapsed": false
   },
   "outputs": [
    {
     "data": {
      "text/plain": [
       "(112970, 14944)"
      ]
     },
     "execution_count": 30,
     "metadata": {},
     "output_type": "execute_result"
    }
   ],
   "source": [
    "vecs = cv.fit_transform(descrips.beer_description)\n",
    "vecs.shape"
   ]
  },
  {
   "cell_type": "markdown",
   "metadata": {},
   "source": [
    "Checking the vecs:"
   ]
  },
  {
   "cell_type": "code",
   "execution_count": 291,
   "metadata": {
    "collapsed": true
   },
   "outputs": [],
   "source": [
    "row1 = vecs.toarray()[0, :]"
   ]
  },
  {
   "cell_type": "code",
   "execution_count": 300,
   "metadata": {
    "collapsed": false
   },
   "outputs": [
    {
     "data": {
      "text/plain": [
       "array([  486,  1376,  1907,  2009,  2016,  2847,  3478,  4123,  5144,\n",
       "        5402,  5660,  5673,  5969,  6693,  7145,  7172,  7741,  7852,\n",
       "        8006,  8239,  8827,  8861,  9048,  9213,  9647, 10558, 10837,\n",
       "       11649, 11861, 12691, 12942, 13195, 13333, 13507, 13723, 14944, 14945])"
      ]
     },
     "execution_count": 300,
     "metadata": {},
     "output_type": "execute_result"
    }
   ],
   "source": [
    "np.nonzero(row1)[0]  # this is after adding brewer and beer names to descrips, plus abv/5.0 and style category features"
   ]
  },
  {
   "cell_type": "code",
   "execution_count": 303,
   "metadata": {
    "collapsed": false
   },
   "outputs": [
    {
     "name": "stdout",
     "output_type": "stream",
     "text": [
      "['addition', 'bavaria', 'bowl', 'brewers', 'brewing', 'citrus', 'create', 'dish', 'feat', 'floral', 'fruit', 'fruity', 'gods', 'hops', 'ipa', 'island', 'leave', 'light', 'loral', 'mandarina', 'mosaic', 'mouthwatering', 'need', 'notes', 'palate', 'punch', 'recipe', 'scorpion', 'share', 'stone', 'sure', 'team', 'thing', 'took', 'tropical']\n"
     ]
    }
   ],
   "source": [
    "print([cv.get_feature_names()[word] for word in np.nonzero(row1)[0][:-2]]) # the last two are abv/5 and style category"
   ]
  },
  {
   "cell_type": "code",
   "execution_count": 297,
   "metadata": {
    "collapsed": false
   },
   "outputs": [
    {
     "data": {
      "text/plain": [
       "'Stone Brewing Stone Scorpion Bowl IPA To create a recipe so tropical and fruity without the addition of fruit was no feat our team of brewers would leave up to the gods. They took floral and citrus notes from Mosaic, Loral and Mandarina Bavaria hops to dish up a mouthwatering fruit punch to the palate. Get deserted on your own island or share with others. One thing is for sure: there is no need to light this one. It is already on fire.'"
      ]
     },
     "execution_count": 297,
     "metadata": {},
     "output_type": "execute_result"
    }
   ],
   "source": [
    "descrips.loc[descrips.index[0], 'beer_description']"
   ]
  },
  {
   "cell_type": "code",
   "execution_count": 34,
   "metadata": {
    "collapsed": false
   },
   "outputs": [],
   "source": [
    "from scipy.sparse import csr_matrix, hstack\n",
    "vecs = hstack([vecs, descrips.abv.values[:, np.newaxis] / 5.0])"
   ]
  },
  {
   "cell_type": "markdown",
   "metadata": {},
   "source": [
    "(previously-used slower and less efficient technique, converting whole sparse matrix to np.array, below)  \n",
    "and also dividing abv feature by 10, before finding that dividing by 5 worked better:"
   ]
  },
  {
   "cell_type": "code",
   "execution_count": 460,
   "metadata": {
    "collapsed": false
   },
   "outputs": [],
   "source": [
    "#  vecs = np.concatenate((vecs.toarray(), np.expand_dims((descrips.abv.values / 10.0), -1)), axis=1)"
   ]
  },
  {
   "cell_type": "code",
   "execution_count": 35,
   "metadata": {
    "collapsed": false
   },
   "outputs": [
    {
     "data": {
      "text/plain": [
       "scipy.sparse.coo.coo_matrix"
      ]
     },
     "execution_count": 35,
     "metadata": {},
     "output_type": "execute_result"
    }
   ],
   "source": [
    "type(vecs)"
   ]
  },
  {
   "cell_type": "code",
   "execution_count": 36,
   "metadata": {
    "collapsed": true
   },
   "outputs": [],
   "source": [
    "vecs = csr_matrix(vecs)"
   ]
  },
  {
   "cell_type": "markdown",
   "metadata": {},
   "source": [
    "one-hot the beer style and hstack to vecs"
   ]
  },
  {
   "cell_type": "code",
   "execution_count": 38,
   "metadata": {
    "collapsed": true
   },
   "outputs": [],
   "source": [
    "ohe = OneHotEncoder(sparse=True)\n",
    "\n",
    "styles = ohe.fit_transform([descrips['beer_style']])\n",
    "\n",
    "vecs = hstack([vecs, styles.transpose()])\n",
    "\n",
    "vecs = csr_matrix(vecs)"
   ]
  },
  {
   "cell_type": "markdown",
   "metadata": {},
   "source": [
    "(skip down to training)\n",
    "\n",
    "====================================================================================================  \n"
   ]
  },
  {
   "cell_type": "code",
   "execution_count": 307,
   "metadata": {
    "collapsed": false
   },
   "outputs": [],
   "source": [
    "model = SGDRegressor(penalty='elasticnet', early_stopping=True, validation_fraction=0.1, \n",
    "                     random_state=0, max_iter=500, tol=1e-5, l1_ratio=0.15)"
   ]
  },
  {
   "cell_type": "code",
   "execution_count": 308,
   "metadata": {
    "collapsed": true
   },
   "outputs": [],
   "source": [
    "trainX, testX, trainY, testY = train_test_split(vecs, descrips.rating_global, test_size=0.05, random_state=0)"
   ]
  },
  {
   "cell_type": "code",
   "execution_count": 309,
   "metadata": {
    "collapsed": false
   },
   "outputs": [
    {
     "data": {
      "text/plain": [
       "(107321, 14946)"
      ]
     },
     "execution_count": 309,
     "metadata": {},
     "output_type": "execute_result"
    }
   ],
   "source": [
    "trainX.shape"
   ]
  },
  {
   "cell_type": "code",
   "execution_count": 310,
   "metadata": {
    "collapsed": false
   },
   "outputs": [
    {
     "data": {
      "text/plain": [
       "SGDRegressor(alpha=0.0001, average=False, early_stopping=True, epsilon=0.1,\n",
       "       eta0=0.01, fit_intercept=True, l1_ratio=0.15,\n",
       "       learning_rate='invscaling', loss='squared_loss', max_iter=500,\n",
       "       n_iter=None, n_iter_no_change=5, penalty='elasticnet', power_t=0.25,\n",
       "       random_state=0, shuffle=True, tol=1e-05, validation_fraction=0.1,\n",
       "       verbose=0, warm_start=False)"
      ]
     },
     "execution_count": 310,
     "metadata": {},
     "output_type": "execute_result"
    }
   ],
   "source": [
    "model.fit(trainX, trainY.values)"
   ]
  },
  {
   "cell_type": "code",
   "execution_count": 311,
   "metadata": {
    "collapsed": true
   },
   "outputs": [],
   "source": [
    "preds = model.predict(testX)"
   ]
  },
  {
   "cell_type": "code",
   "execution_count": 312,
   "metadata": {
    "collapsed": false
   },
   "outputs": [
    {
     "name": "stdout",
     "output_type": "stream",
     "text": [
      "5.8934725332 3.09504643107\n"
     ]
    }
   ],
   "source": [
    "print(max(preds), min(preds))"
   ]
  },
  {
   "cell_type": "code",
   "execution_count": 313,
   "metadata": {
    "collapsed": false
   },
   "outputs": [
    {
     "data": {
      "text/plain": [
       "0.19437515935148203"
      ]
     },
     "execution_count": 313,
     "metadata": {},
     "output_type": "execute_result"
    }
   ],
   "source": [
    "preds = np.clip(preds, 0.25, 5) # possible ratings are 0.25 to 5\n",
    "diffs = preds - testY\n",
    "sumsq = np.dot(diffs, diffs)\n",
    "rmse = np.sqrt(sumsq / len(diffs))\n",
    "rmse"
   ]
  },
  {
   "cell_type": "markdown",
   "metadata": {},
   "source": [
    "How does a simple global mean of all training beers perform as a guess?"
   ]
  },
  {
   "cell_type": "code",
   "execution_count": 314,
   "metadata": {
    "collapsed": false
   },
   "outputs": [
    {
     "data": {
      "text/plain": [
       "0.28527865119061402"
      ]
     },
     "execution_count": 314,
     "metadata": {},
     "output_type": "execute_result"
    }
   ],
   "source": [
    "# Use the mean of the training set\n",
    "errors = testY - trainY.mean()\n",
    "sumsqerr = np.dot(errors, errors)\n",
    "rmse = np.sqrt(sumsqerr / len(errors))\n",
    "rmse"
   ]
  },
  {
   "cell_type": "code",
   "execution_count": 352,
   "metadata": {
    "collapsed": false
   },
   "outputs": [],
   "source": [
    "# checking what the max doc freq is (max_df was .71 for the CountVectorizer parameter)\n",
    "docfreqs = vecs.toarray().sum(axis=0)"
   ]
  },
  {
   "cell_type": "code",
   "execution_count": 354,
   "metadata": {
    "collapsed": false
   },
   "outputs": [
    {
     "data": {
      "text/plain": [
       "0.61982827299282994"
      ]
     },
     "execution_count": 354,
     "metadata": {},
     "output_type": "execute_result"
    }
   ],
   "source": [
    "max(docfreqs[:-2]) / vecs.shape[0]"
   ]
  },
  {
   "cell_type": "code",
   "execution_count": 367,
   "metadata": {
    "collapsed": false
   },
   "outputs": [],
   "source": [
    "counts = np.argsort(docfreqs[:-2])\n",
    "\n",
    "topidx = counts[:-11:-1]\n",
    "\n",
    "topwords = [cv.get_feature_names()[i] for i in counts[:-11:-1]]"
   ]
  },
  {
   "cell_type": "code",
   "execution_count": 370,
   "metadata": {
    "collapsed": false
   },
   "outputs": [
    {
     "name": "stdout",
     "output_type": "stream",
     "text": [
      "[('brewing', 0.61982827299282994), ('company', 0.34727803841727894), ('ipa', 0.2991148092413915), ('beer', 0.29614942020005314), ('hops', 0.29338762503319465), ('ale', 0.23142427193060106), ('brewed', 0.20581570328405771), ('hop', 0.16780561210940959), ('dry', 0.16090112419226343), ('brewery', 0.15913959458263255)]\n"
     ]
    }
   ],
   "source": [
    "print(list(zip(topwords, [docfreqs[i] / vecs.shape[0] for i in topidx])))"
   ]
  },
  {
   "cell_type": "code",
   "execution_count": 372,
   "metadata": {
    "collapsed": false
   },
   "outputs": [
    {
     "data": {
      "text/plain": [
       "(112970, 14937)"
      ]
     },
     "execution_count": 372,
     "metadata": {},
     "output_type": "execute_result"
    }
   ],
   "source": [
    "# lower the max_df to 0.17 to keep 'hop' and 'dry' but not 'brewed' and 'ale'.\n",
    "cv = CountVectorizer(stop_words='english', min_df=10, max_df=0.17, binary=True)\n",
    "vecs = cv.fit_transform(descrips.beer_description)\n",
    "vecs.shape"
   ]
  },
  {
   "cell_type": "code",
   "execution_count": 373,
   "metadata": {
    "collapsed": true
   },
   "outputs": [],
   "source": [
    "# add the abvs and style categories\n",
    "vecs = hstack([vecs, descrips.abv.values[:, np.newaxis] / 5.0])\n",
    "vecs = hstack([vecs, styles.transpose()])  # these are the OneHotEncoded styles\n",
    "vecs = csr_matrix(vecs)"
   ]
  },
  {
   "cell_type": "markdown",
   "metadata": {},
   "source": [
    "Now skip to the bottom and train the model on the sample1K"
   ]
  },
  {
   "cell_type": "code",
   "execution_count": null,
   "metadata": {
    "collapsed": true
   },
   "outputs": [],
   "source": []
  },
  {
   "cell_type": "code",
   "execution_count": null,
   "metadata": {
    "collapsed": true
   },
   "outputs": [],
   "source": []
  },
  {
   "cell_type": "code",
   "execution_count": null,
   "metadata": {
    "collapsed": true
   },
   "outputs": [],
   "source": []
  },
  {
   "cell_type": "code",
   "execution_count": null,
   "metadata": {
    "collapsed": true
   },
   "outputs": [],
   "source": []
  },
  {
   "cell_type": "code",
   "execution_count": null,
   "metadata": {
    "collapsed": true
   },
   "outputs": [],
   "source": []
  },
  {
   "cell_type": "code",
   "execution_count": 199,
   "metadata": {
    "collapsed": false
   },
   "outputs": [
    {
     "data": {
      "text/plain": [
       "0.28527538451367385"
      ]
     },
     "execution_count": 199,
     "metadata": {},
     "output_type": "execute_result"
    }
   ],
   "source": [
    "# vs. peeking by using the mean of all global ratings in the train and test sets combined\n",
    "errors = testY - descrips.rating_global.mean()\n",
    "sumsqerr = np.dot(errors, errors)\n",
    "rmse = np.sqrt(sumsqerr / len(errors))\n",
    "rmse"
   ]
  },
  {
   "cell_type": "code",
   "execution_count": 235,
   "metadata": {
    "collapsed": false
   },
   "outputs": [
    {
     "name": "stdout",
     "output_type": "stream",
     "text": [
      "[(3.4825868640193778, 3.56213), (3.9518020145291661, 4.21571), (3.8870596211520216, 4.077039999999999), (3.7722770464012245, 3.47297), (3.8549491909438274, 4.3338199999999985), (3.9474416850096095, 4.235150000000001), (4.0204725448669141, 3.8882199999999996), (4.0774886871238785, 4.0481300000000005), (3.9148055414477065, 4.00488), (3.7643488802080189, 3.96849), (3.6751454780801565, 3.536460000000002), (4.5156955416427174, 4.46966), (3.945871716567261, 4.101560000000003), (4.1505545119720519, 3.8046899999999995), (3.808455490322185, 3.67222), (3.6799362349346438, 3.27376), (3.5870880684370912, 3.5608800000000005), (3.8308689661251378, 3.786669999999994), (3.6431751340834899, 3.8661300000000014), (3.678309617954771, 3.50909), (4.1305744345066095, 3.95489), (3.7683018424151791, 3.64267)]\n"
     ]
    }
   ],
   "source": [
    "print(list(zip(preds[:22], testY[:22])))"
   ]
  },
  {
   "cell_type": "code",
   "execution_count": 204,
   "metadata": {
    "collapsed": false
   },
   "outputs": [],
   "source": [
    "import matplotlib.pyplot as plt\n",
    "%matplotlib inline"
   ]
  },
  {
   "cell_type": "code",
   "execution_count": 236,
   "metadata": {
    "collapsed": false
   },
   "outputs": [
    {
     "data": {
      "image/png": "[encoded data removed]",
      "text/plain": [
       "<matplotlib.figure.Figure at 0x118aba8d0>"
      ]
     },
     "metadata": {},
     "output_type": "display_data"
    }
   ],
   "source": [
    "# make everything share same bins (StackO. 23617129)\n",
    "bins = np.histogram(np.hstack((preds, testY.values)), bins=30)[1]\n",
    "plt.hist(preds, bins, label='predicted means')\n",
    "plt.hist(testY, bins, histtype='step', lw=2, label='actual means')\n",
    "plt.legend();"
   ]
  },
  {
   "cell_type": "code",
   "execution_count": 237,
   "metadata": {
    "collapsed": false
   },
   "outputs": [
    {
     "data": {
      "image/png": "[encoded data removed]",
      "text/plain": [
       "<matplotlib.figure.Figure at 0x118aae550>"
      ]
     },
     "metadata": {},
     "output_type": "display_data"
    }
   ],
   "source": [
    "plt.hist(model.coef_, bins=30);"
   ]
  },
  {
   "cell_type": "code",
   "execution_count": 238,
   "metadata": {
    "collapsed": false
   },
   "outputs": [
    {
     "data": {
      "text/plain": [
       "7425"
      ]
     },
     "execution_count": 238,
     "metadata": {},
     "output_type": "execute_result"
    }
   ],
   "source": [
    "len(model.coef_)"
   ]
  },
  {
   "cell_type": "code",
   "execution_count": 239,
   "metadata": {
    "collapsed": true
   },
   "outputs": [],
   "source": [
    "influencers = sorted(enumerate(model.coef_), key=lambda x: abs(x[1]), reverse=True)"
   ]
  },
  {
   "cell_type": "code",
   "execution_count": 240,
   "metadata": {
    "collapsed": false
   },
   "outputs": [
    {
     "data": {
      "text/plain": [
       "[(4301, 0.29095082627849705),\n",
       " (2597, 0.24961489009358373),\n",
       " (7184, 0.23332196409831532),\n",
       " (1101, -0.22040684215971354),\n",
       " (5083, -0.22012820165455399),\n",
       " (4257, 0.21690056616767114),\n",
       " (3653, -0.21388289465033022),\n",
       " (5153, 0.2082593484907424),\n",
       " (1635, -0.2060263270513582),\n",
       " (3844, 0.20600328767429829),\n",
       " (2, 0.20533489016441253),\n",
       " (2932, -0.18002955590721237),\n",
       " (1461, -0.17619005213785369),\n",
       " (6941, -0.16994482286906312),\n",
       " (803, -0.16366888862820955),\n",
       " (7413, -0.15018919898213579),\n",
       " (6745, 0.14700742201371553),\n",
       " (6474, 0.14008345744322809),\n",
       " (6886, 0.13869011518502336),\n",
       " (7214, 0.13816254524827523),\n",
       " (4272, -0.13619947186086548),\n",
       " (1810, 0.13570757667929384)]"
      ]
     },
     "execution_count": 240,
     "metadata": {},
     "output_type": "execute_result"
    }
   ],
   "source": [
    "influencers[:22]"
   ]
  },
  {
   "cell_type": "code",
   "execution_count": 261,
   "metadata": {
    "collapsed": false
   },
   "outputs": [
    {
     "data": {
      "image/png": "[encoded data removed]",
      "text/plain": [
       "<matplotlib.figure.Figure at 0x11f4f5c18>"
      ]
     },
     "metadata": {},
     "output_type": "display_data"
    }
   ],
   "source": [
    "topX = 20\n",
    "plt.bar(np.arange(topX), [(i[1]) for i in influencers[:topX]])\n",
    "plt.xticks(np.arange(topX), [cv.get_feature_names()[i[0]] for i in influencers[:topX]], rotation='vertical');"
   ]
  },
  {
   "cell_type": "code",
   "execution_count": 273,
   "metadata": {
    "collapsed": false
   },
   "outputs": [
    {
     "data": {
      "text/plain": [
       "beer_description\n",
       "False    3.802049\n",
       "True     4.395147\n",
       "Name: rating_global, dtype: float64"
      ]
     },
     "execution_count": 273,
     "metadata": {},
     "output_type": "execute_result"
    }
   ],
   "source": [
    "descrips.groupby(descrips.beer_description.str.lower().str.contains('melomel'))['rating_global'].mean()"
   ]
  },
  {
   "cell_type": "code",
   "execution_count": 272,
   "metadata": {
    "collapsed": false
   },
   "outputs": [
    {
     "data": {
      "text/plain": [
       "beer_description\n",
       "False    3.802783\n",
       "True     3.299480\n",
       "Name: rating_global, dtype: float64"
      ]
     },
     "execution_count": 272,
     "metadata": {},
     "output_type": "execute_result"
    }
   ],
   "source": [
    "descrips.groupby(descrips.beer_description.str.lower().str.contains('calories'))['rating_global'].mean()"
   ]
  },
  {
   "cell_type": "code",
   "execution_count": null,
   "metadata": {
    "collapsed": true
   },
   "outputs": [],
   "source": []
  },
  {
   "cell_type": "code",
   "execution_count": 57,
   "metadata": {
    "collapsed": true
   },
   "outputs": [],
   "source": [
    "# for each checkin, how much did the user rate the beer better or worse than rest of world?\n",
    "checkins['beer_bias'] = checkins.rating_user - checkins.rating_global"
   ]
  },
  {
   "cell_type": "code",
   "execution_count": 58,
   "metadata": {
    "collapsed": true
   },
   "outputs": [],
   "source": [
    "# use that new column to also make a column that shows the user's overall \"generosity\" or lack thereof\n",
    "userbiasdict = dict(checkins.groupby('user_id')['beer_bias'].mean())\n",
    "checkins['user_bias'] = checkins.user_id.map(userbiasdict)\n",
    "# and then see how much each rating deviates from that user's baseline bias/generosity\n",
    "checkins['user_pref'] = checkins.beer_bias - checkins.user_bias"
   ]
  },
  {
   "cell_type": "code",
   "execution_count": 59,
   "metadata": {
    "collapsed": false
   },
   "outputs": [
    {
     "data": {
      "text/html": [
       "<div>\n",
       "<style scoped>\n",
       "    .dataframe tbody tr th:only-of-type {\n",
       "        vertical-align: middle;\n",
       "    }\n",
       "\n",
       "    .dataframe tbody tr th {\n",
       "        vertical-align: top;\n",
       "    }\n",
       "\n",
       "    .dataframe thead th {\n",
       "        text-align: right;\n",
       "    }\n",
       "</style>\n",
       "<table border=\"1\" class=\"dataframe\">\n",
       "  <thead>\n",
       "    <tr style=\"text-align: right;\">\n",
       "      <th></th>\n",
       "      <th>user_id</th>\n",
       "      <th>rating_user</th>\n",
       "      <th>brewery_name</th>\n",
       "      <th>beer_name</th>\n",
       "      <th>beer_style</th>\n",
       "      <th>rating_global</th>\n",
       "      <th>abv</th>\n",
       "      <th>beer_description</th>\n",
       "      <th>beer_bias</th>\n",
       "      <th>user_bias</th>\n",
       "      <th>user_pref</th>\n",
       "    </tr>\n",
       "    <tr>\n",
       "      <th>beer_id</th>\n",
       "      <th></th>\n",
       "      <th></th>\n",
       "      <th></th>\n",
       "      <th></th>\n",
       "      <th></th>\n",
       "      <th></th>\n",
       "      <th></th>\n",
       "      <th></th>\n",
       "      <th></th>\n",
       "      <th></th>\n",
       "      <th></th>\n",
       "    </tr>\n",
       "  </thead>\n",
       "  <tbody>\n",
       "    <tr>\n",
       "      <th>2095023</th>\n",
       "      <td>3340203</td>\n",
       "      <td>3.75</td>\n",
       "      <td>Stone Brewing</td>\n",
       "      <td>Stone Scorpion Bowl IPA</td>\n",
       "      <td>IPA - American</td>\n",
       "      <td>3.73789</td>\n",
       "      <td>7.5</td>\n",
       "      <td>To create a recipe so tropical and fruity with...</td>\n",
       "      <td>0.01211</td>\n",
       "      <td>0.167938</td>\n",
       "      <td>-0.155828</td>\n",
       "    </tr>\n",
       "    <tr>\n",
       "      <th>2095023</th>\n",
       "      <td>2166716</td>\n",
       "      <td>3.50</td>\n",
       "      <td>Stone Brewing</td>\n",
       "      <td>Stone Scorpion Bowl IPA</td>\n",
       "      <td>IPA - American</td>\n",
       "      <td>3.73789</td>\n",
       "      <td>7.5</td>\n",
       "      <td>To create a recipe so tropical and fruity with...</td>\n",
       "      <td>-0.23789</td>\n",
       "      <td>-0.663801</td>\n",
       "      <td>0.425911</td>\n",
       "    </tr>\n",
       "    <tr>\n",
       "      <th>2095023</th>\n",
       "      <td>2607740</td>\n",
       "      <td>3.50</td>\n",
       "      <td>Stone Brewing</td>\n",
       "      <td>Stone Scorpion Bowl IPA</td>\n",
       "      <td>IPA - American</td>\n",
       "      <td>3.73789</td>\n",
       "      <td>7.5</td>\n",
       "      <td>To create a recipe so tropical and fruity with...</td>\n",
       "      <td>-0.23789</td>\n",
       "      <td>-0.207602</td>\n",
       "      <td>-0.030288</td>\n",
       "    </tr>\n",
       "    <tr>\n",
       "      <th>2095023</th>\n",
       "      <td>1040951</td>\n",
       "      <td>3.50</td>\n",
       "      <td>Stone Brewing</td>\n",
       "      <td>Stone Scorpion Bowl IPA</td>\n",
       "      <td>IPA - American</td>\n",
       "      <td>3.73789</td>\n",
       "      <td>7.5</td>\n",
       "      <td>To create a recipe so tropical and fruity with...</td>\n",
       "      <td>-0.23789</td>\n",
       "      <td>-0.078888</td>\n",
       "      <td>-0.159002</td>\n",
       "    </tr>\n",
       "    <tr>\n",
       "      <th>2095023</th>\n",
       "      <td>1338056</td>\n",
       "      <td>3.25</td>\n",
       "      <td>Stone Brewing</td>\n",
       "      <td>Stone Scorpion Bowl IPA</td>\n",
       "      <td>IPA - American</td>\n",
       "      <td>3.73789</td>\n",
       "      <td>7.5</td>\n",
       "      <td>To create a recipe so tropical and fruity with...</td>\n",
       "      <td>-0.48789</td>\n",
       "      <td>-0.027114</td>\n",
       "      <td>-0.460776</td>\n",
       "    </tr>\n",
       "  </tbody>\n",
       "</table>\n",
       "</div>"
      ],
      "text/plain": [
       "         user_id  rating_user   brewery_name                beer_name  \\\n",
       "beer_id                                                                 \n",
       "2095023  3340203         3.75  Stone Brewing  Stone Scorpion Bowl IPA   \n",
       "2095023  2166716         3.50  Stone Brewing  Stone Scorpion Bowl IPA   \n",
       "2095023  2607740         3.50  Stone Brewing  Stone Scorpion Bowl IPA   \n",
       "2095023  1040951         3.50  Stone Brewing  Stone Scorpion Bowl IPA   \n",
       "2095023  1338056         3.25  Stone Brewing  Stone Scorpion Bowl IPA   \n",
       "\n",
       "             beer_style  rating_global  abv  \\\n",
       "beer_id                                       \n",
       "2095023  IPA - American        3.73789  7.5   \n",
       "2095023  IPA - American        3.73789  7.5   \n",
       "2095023  IPA - American        3.73789  7.5   \n",
       "2095023  IPA - American        3.73789  7.5   \n",
       "2095023  IPA - American        3.73789  7.5   \n",
       "\n",
       "                                          beer_description  beer_bias  \\\n",
       "beer_id                                                                 \n",
       "2095023  To create a recipe so tropical and fruity with...    0.01211   \n",
       "2095023  To create a recipe so tropical and fruity with...   -0.23789   \n",
       "2095023  To create a recipe so tropical and fruity with...   -0.23789   \n",
       "2095023  To create a recipe so tropical and fruity with...   -0.23789   \n",
       "2095023  To create a recipe so tropical and fruity with...   -0.48789   \n",
       "\n",
       "         user_bias  user_pref  \n",
       "beer_id                        \n",
       "2095023   0.167938  -0.155828  \n",
       "2095023  -0.663801   0.425911  \n",
       "2095023  -0.207602  -0.030288  \n",
       "2095023  -0.078888  -0.159002  \n",
       "2095023  -0.027114  -0.460776  "
      ]
     },
     "execution_count": 59,
     "metadata": {},
     "output_type": "execute_result"
    }
   ],
   "source": [
    "checkins.head()"
   ]
  },
  {
   "cell_type": "markdown",
   "metadata": {},
   "source": [
    "Try training a regressor on each user with over a certain threshold of ratings in the descriptions Frame"
   ]
  },
  {
   "cell_type": "code",
   "execution_count": 60,
   "metadata": {
    "collapsed": false
   },
   "outputs": [],
   "source": [
    "bigs = checkins.groupby('user_id').size() > 100"
   ]
  },
  {
   "cell_type": "code",
   "execution_count": 61,
   "metadata": {
    "collapsed": false
   },
   "outputs": [
    {
     "data": {
      "text/plain": [
       "6277"
      ]
     },
     "execution_count": 61,
     "metadata": {},
     "output_type": "execute_result"
    }
   ],
   "source": [
    "sum(bigs)"
   ]
  },
  {
   "cell_type": "code",
   "execution_count": 62,
   "metadata": {
    "collapsed": false
   },
   "outputs": [
    {
     "data": {
      "text/plain": [
       "868621"
      ]
     },
     "execution_count": 62,
     "metadata": {},
     "output_type": "execute_result"
    }
   ],
   "source": [
    "freqs = checkins[checkins.user_id.map(bigs)]\n",
    "len(freqs)"
   ]
  },
  {
   "cell_type": "code",
   "execution_count": 63,
   "metadata": {
    "collapsed": false
   },
   "outputs": [
    {
     "data": {
      "text/plain": [
       "6277"
      ]
     },
     "execution_count": 63,
     "metadata": {},
     "output_type": "execute_result"
    }
   ],
   "source": [
    "freqs.user_id.nunique()"
   ]
  },
  {
   "cell_type": "code",
   "execution_count": 64,
   "metadata": {
    "collapsed": false
   },
   "outputs": [
    {
     "data": {
      "text/plain": [
       "RangeIndex(start=0, stop=112970, step=1)"
      ]
     },
     "execution_count": 64,
     "metadata": {},
     "output_type": "execute_result"
    }
   ],
   "source": [
    "descrips.reset_index(inplace=True)\n",
    "descrips.index"
   ]
  },
  {
   "cell_type": "code",
   "execution_count": 65,
   "metadata": {
    "collapsed": false
   },
   "outputs": [],
   "source": [
    "# now the descrips/vecs index can be looked up for each beer_id\n",
    "beer_id_to_vecs_index = dict(zip(descrips.beer_id, descrips.index))"
   ]
  },
  {
   "cell_type": "code",
   "execution_count": 74,
   "metadata": {
    "collapsed": true
   },
   "outputs": [],
   "source": [
    "user_gen = (user for user in freqs.user_id.unique())"
   ]
  },
  {
   "cell_type": "code",
   "execution_count": 471,
   "metadata": {
    "collapsed": true
   },
   "outputs": [],
   "source": [
    "model = SGDRegressor(penalty='elasticnet', early_stopping=True, validation_fraction=0.1, \n",
    "                     random_state=0, max_iter=500, tol=1e-4, l1_ratio=0.15)"
   ]
  },
  {
   "cell_type": "code",
   "execution_count": 69,
   "metadata": {
    "collapsed": false
   },
   "outputs": [
    {
     "data": {
      "text/html": [
       "<div>\n",
       "<style scoped>\n",
       "    .dataframe tbody tr th:only-of-type {\n",
       "        vertical-align: middle;\n",
       "    }\n",
       "\n",
       "    .dataframe tbody tr th {\n",
       "        vertical-align: top;\n",
       "    }\n",
       "\n",
       "    .dataframe thead th {\n",
       "        text-align: right;\n",
       "    }\n",
       "</style>\n",
       "<table border=\"1\" class=\"dataframe\">\n",
       "  <thead>\n",
       "    <tr style=\"text-align: right;\">\n",
       "      <th></th>\n",
       "      <th>user_id</th>\n",
       "      <th>rating_user</th>\n",
       "      <th>brewery_name</th>\n",
       "      <th>beer_name</th>\n",
       "      <th>beer_style</th>\n",
       "      <th>rating_global</th>\n",
       "      <th>abv</th>\n",
       "      <th>beer_description</th>\n",
       "      <th>beer_bias</th>\n",
       "      <th>user_bias</th>\n",
       "      <th>user_pref</th>\n",
       "    </tr>\n",
       "    <tr>\n",
       "      <th>beer_id</th>\n",
       "      <th></th>\n",
       "      <th></th>\n",
       "      <th></th>\n",
       "      <th></th>\n",
       "      <th></th>\n",
       "      <th></th>\n",
       "      <th></th>\n",
       "      <th></th>\n",
       "      <th></th>\n",
       "      <th></th>\n",
       "      <th></th>\n",
       "    </tr>\n",
       "  </thead>\n",
       "  <tbody>\n",
       "    <tr>\n",
       "      <th>2095023</th>\n",
       "      <td>3340203</td>\n",
       "      <td>3.75</td>\n",
       "      <td>Stone Brewing</td>\n",
       "      <td>Stone Scorpion Bowl IPA</td>\n",
       "      <td>IPA - American</td>\n",
       "      <td>3.73789</td>\n",
       "      <td>7.5</td>\n",
       "      <td>To create a recipe so tropical and fruity with...</td>\n",
       "      <td>0.01211</td>\n",
       "      <td>0.167938</td>\n",
       "      <td>-0.155828</td>\n",
       "    </tr>\n",
       "  </tbody>\n",
       "</table>\n",
       "</div>"
      ],
      "text/plain": [
       "         user_id  rating_user   brewery_name                beer_name  \\\n",
       "beer_id                                                                 \n",
       "2095023  3340203         3.75  Stone Brewing  Stone Scorpion Bowl IPA   \n",
       "\n",
       "             beer_style  rating_global  abv  \\\n",
       "beer_id                                       \n",
       "2095023  IPA - American        3.73789  7.5   \n",
       "\n",
       "                                          beer_description  beer_bias  \\\n",
       "beer_id                                                                 \n",
       "2095023  To create a recipe so tropical and fruity with...    0.01211   \n",
       "\n",
       "         user_bias  user_pref  \n",
       "beer_id                        \n",
       "2095023   0.167938  -0.155828  "
      ]
     },
     "execution_count": 69,
     "metadata": {},
     "output_type": "execute_result"
    }
   ],
   "source": [
    "freqs.head(1)"
   ]
  },
  {
   "cell_type": "code",
   "execution_count": 70,
   "metadata": {
    "collapsed": true
   },
   "outputs": [],
   "source": [
    "freqs.reset_index(inplace=True)"
   ]
  },
  {
   "cell_type": "code",
   "execution_count": 75,
   "metadata": {
    "collapsed": true
   },
   "outputs": [],
   "source": [
    "from tqdm import tqdm"
   ]
  },
  {
   "cell_type": "code",
   "execution_count": 78,
   "metadata": {
    "collapsed": false,
    "scrolled": true
   },
   "outputs": [
    {
     "name": "stderr",
     "output_type": "stream",
     "text": [
      "  1%|          | 6/1000 [00:04<12:27,  1.33it/s]/Applications/anaconda/lib/python3.6/site-packages/sklearn/linear_model/stochastic_gradient.py:1219: ConvergenceWarning: Maximum number of iteration reached before convergence. Consider increasing max_iter to improve the fit.\n",
      "  ConvergenceWarning)\n",
      "  1%|          | 10/1000 [00:06<10:02,  1.64it/s]/Applications/anaconda/lib/python3.6/site-packages/sklearn/linear_model/stochastic_gradient.py:1219: ConvergenceWarning: Maximum number of iteration reached before convergence. Consider increasing max_iter to improve the fit.\n",
      "  ConvergenceWarning)\n",
      "  2%|▏         | 16/1000 [00:10<09:24,  1.74it/s]/Applications/anaconda/lib/python3.6/site-packages/sklearn/linear_model/stochastic_gradient.py:1219: ConvergenceWarning: Maximum number of iteration reached before convergence. Consider increasing max_iter to improve the fit.\n",
      "  ConvergenceWarning)\n",
      "  2%|▏         | 19/1000 [00:12<09:45,  1.68it/s]/Applications/anaconda/lib/python3.6/site-packages/sklearn/linear_model/stochastic_gradient.py:1219: ConvergenceWarning: Maximum number of iteration reached before convergence. Consider increasing max_iter to improve the fit.\n",
      "  ConvergenceWarning)\n",
      "  2%|▏         | 20/1000 [00:13<11:12,  1.46it/s]/Applications/anaconda/lib/python3.6/site-packages/sklearn/linear_model/stochastic_gradient.py:1219: ConvergenceWarning: Maximum number of iteration reached before convergence. Consider increasing max_iter to improve the fit.\n",
      "  ConvergenceWarning)\n",
      "  3%|▎         | 31/1000 [00:20<09:03,  1.78it/s]/Applications/anaconda/lib/python3.6/site-packages/sklearn/linear_model/stochastic_gradient.py:1219: ConvergenceWarning: Maximum number of iteration reached before convergence. Consider increasing max_iter to improve the fit.\n",
      "  ConvergenceWarning)\n",
      "  4%|▎         | 37/1000 [00:23<08:53,  1.81it/s]/Applications/anaconda/lib/python3.6/site-packages/sklearn/linear_model/stochastic_gradient.py:1219: ConvergenceWarning: Maximum number of iteration reached before convergence. Consider increasing max_iter to improve the fit.\n",
      "  ConvergenceWarning)\n",
      "  4%|▍         | 42/1000 [00:26<08:25,  1.90it/s]/Applications/anaconda/lib/python3.6/site-packages/sklearn/linear_model/stochastic_gradient.py:1219: ConvergenceWarning: Maximum number of iteration reached before convergence. Consider increasing max_iter to improve the fit.\n",
      "  ConvergenceWarning)\n",
      "  4%|▍         | 45/1000 [00:28<09:28,  1.68it/s]/Applications/anaconda/lib/python3.6/site-packages/sklearn/linear_model/stochastic_gradient.py:1219: ConvergenceWarning: Maximum number of iteration reached before convergence. Consider increasing max_iter to improve the fit.\n",
      "  ConvergenceWarning)\n",
      "  5%|▍         | 46/1000 [00:29<09:55,  1.60it/s]/Applications/anaconda/lib/python3.6/site-packages/sklearn/linear_model/stochastic_gradient.py:1219: ConvergenceWarning: Maximum number of iteration reached before convergence. Consider increasing max_iter to improve the fit.\n",
      "  ConvergenceWarning)\n",
      "  5%|▍         | 48/1000 [00:30<11:18,  1.40it/s]/Applications/anaconda/lib/python3.6/site-packages/sklearn/linear_model/stochastic_gradient.py:1219: ConvergenceWarning: Maximum number of iteration reached before convergence. Consider increasing max_iter to improve the fit.\n",
      "  ConvergenceWarning)\n",
      "  6%|▌         | 59/1000 [00:37<08:42,  1.80it/s]/Applications/anaconda/lib/python3.6/site-packages/sklearn/linear_model/stochastic_gradient.py:1219: ConvergenceWarning: Maximum number of iteration reached before convergence. Consider increasing max_iter to improve the fit.\n",
      "  ConvergenceWarning)\n",
      "  6%|▌         | 62/1000 [00:39<11:15,  1.39it/s]/Applications/anaconda/lib/python3.6/site-packages/sklearn/linear_model/stochastic_gradient.py:1219: ConvergenceWarning: Maximum number of iteration reached before convergence. Consider increasing max_iter to improve the fit.\n",
      "  ConvergenceWarning)\n",
      "  7%|▋         | 66/1000 [00:42<10:25,  1.49it/s]/Applications/anaconda/lib/python3.6/site-packages/sklearn/linear_model/stochastic_gradient.py:1219: ConvergenceWarning: Maximum number of iteration reached before convergence. Consider increasing max_iter to improve the fit.\n",
      "  ConvergenceWarning)\n",
      "  8%|▊         | 77/1000 [00:48<07:18,  2.11it/s]/Applications/anaconda/lib/python3.6/site-packages/sklearn/linear_model/stochastic_gradient.py:1219: ConvergenceWarning: Maximum number of iteration reached before convergence. Consider increasing max_iter to improve the fit.\n",
      "  ConvergenceWarning)\n",
      "  8%|▊         | 78/1000 [00:49<08:57,  1.71it/s]/Applications/anaconda/lib/python3.6/site-packages/sklearn/linear_model/stochastic_gradient.py:1219: ConvergenceWarning: Maximum number of iteration reached before convergence. Consider increasing max_iter to improve the fit.\n",
      "  ConvergenceWarning)\n",
      "  8%|▊         | 81/1000 [00:51<08:27,  1.81it/s]/Applications/anaconda/lib/python3.6/site-packages/sklearn/linear_model/stochastic_gradient.py:1219: ConvergenceWarning: Maximum number of iteration reached before convergence. Consider increasing max_iter to improve the fit.\n",
      "  ConvergenceWarning)\n",
      " 10%|▉         | 98/1000 [01:00<07:45,  1.94it/s]/Applications/anaconda/lib/python3.6/site-packages/sklearn/linear_model/stochastic_gradient.py:1219: ConvergenceWarning: Maximum number of iteration reached before convergence. Consider increasing max_iter to improve the fit.\n",
      "  ConvergenceWarning)\n",
      " 12%|█▏        | 121/1000 [01:15<09:16,  1.58it/s]/Applications/anaconda/lib/python3.6/site-packages/sklearn/linear_model/stochastic_gradient.py:1219: ConvergenceWarning: Maximum number of iteration reached before convergence. Consider increasing max_iter to improve the fit.\n",
      "  ConvergenceWarning)\n",
      " 13%|█▎        | 129/1000 [01:19<07:25,  1.96it/s]/Applications/anaconda/lib/python3.6/site-packages/sklearn/linear_model/stochastic_gradient.py:1219: ConvergenceWarning: Maximum number of iteration reached before convergence. Consider increasing max_iter to improve the fit.\n",
      "  ConvergenceWarning)\n",
      " 13%|█▎        | 131/1000 [01:20<08:30,  1.70it/s]/Applications/anaconda/lib/python3.6/site-packages/sklearn/linear_model/stochastic_gradient.py:1219: ConvergenceWarning: Maximum number of iteration reached before convergence. Consider increasing max_iter to improve the fit.\n",
      "  ConvergenceWarning)\n",
      " 15%|█▍        | 147/1000 [01:29<07:49,  1.82it/s]/Applications/anaconda/lib/python3.6/site-packages/sklearn/linear_model/stochastic_gradient.py:1219: ConvergenceWarning: Maximum number of iteration reached before convergence. Consider increasing max_iter to improve the fit.\n",
      "  ConvergenceWarning)\n",
      " 15%|█▍        | 148/1000 [01:30<08:47,  1.61it/s]/Applications/anaconda/lib/python3.6/site-packages/sklearn/linear_model/stochastic_gradient.py:1219: ConvergenceWarning: Maximum number of iteration reached before convergence. Consider increasing max_iter to improve the fit.\n",
      "  ConvergenceWarning)\n",
      " 15%|█▍        | 149/1000 [01:31<09:12,  1.54it/s]/Applications/anaconda/lib/python3.6/site-packages/sklearn/linear_model/stochastic_gradient.py:1219: ConvergenceWarning: Maximum number of iteration reached before convergence. Consider increasing max_iter to improve the fit.\n",
      "  ConvergenceWarning)\n",
      " 17%|█▋        | 173/1000 [01:43<06:57,  1.98it/s]/Applications/anaconda/lib/python3.6/site-packages/sklearn/linear_model/stochastic_gradient.py:1219: ConvergenceWarning: Maximum number of iteration reached before convergence. Consider increasing max_iter to improve the fit.\n",
      "  ConvergenceWarning)\n",
      " 21%|██        | 206/1000 [02:01<06:54,  1.91it/s]/Applications/anaconda/lib/python3.6/site-packages/sklearn/linear_model/stochastic_gradient.py:1219: ConvergenceWarning: Maximum number of iteration reached before convergence. Consider increasing max_iter to improve the fit.\n",
      "  ConvergenceWarning)\n",
      " 21%|██        | 208/1000 [02:02<07:29,  1.76it/s]/Applications/anaconda/lib/python3.6/site-packages/sklearn/linear_model/stochastic_gradient.py:1219: ConvergenceWarning: Maximum number of iteration reached before convergence. Consider increasing max_iter to improve the fit.\n",
      "  ConvergenceWarning)\n",
      " 27%|██▋       | 272/1000 [02:37<05:52,  2.06it/s]/Applications/anaconda/lib/python3.6/site-packages/sklearn/linear_model/stochastic_gradient.py:1219: ConvergenceWarning: Maximum number of iteration reached before convergence. Consider increasing max_iter to improve the fit.\n",
      "  ConvergenceWarning)\n",
      " 27%|██▋       | 274/1000 [02:38<07:05,  1.71it/s]/Applications/anaconda/lib/python3.6/site-packages/sklearn/linear_model/stochastic_gradient.py:1219: ConvergenceWarning: Maximum number of iteration reached before convergence. Consider increasing max_iter to improve the fit.\n",
      "  ConvergenceWarning)\n",
      " 28%|██▊       | 275/1000 [02:39<07:41,  1.57it/s]/Applications/anaconda/lib/python3.6/site-packages/sklearn/linear_model/stochastic_gradient.py:1219: ConvergenceWarning: Maximum number of iteration reached before convergence. Consider increasing max_iter to improve the fit.\n",
      "  ConvergenceWarning)\n",
      " 28%|██▊       | 277/1000 [02:40<07:27,  1.61it/s]/Applications/anaconda/lib/python3.6/site-packages/sklearn/linear_model/stochastic_gradient.py:1219: ConvergenceWarning: Maximum number of iteration reached before convergence. Consider increasing max_iter to improve the fit.\n",
      "  ConvergenceWarning)\n",
      " 31%|███▏      | 314/1000 [03:00<06:18,  1.81it/s]/Applications/anaconda/lib/python3.6/site-packages/sklearn/linear_model/stochastic_gradient.py:1219: ConvergenceWarning: Maximum number of iteration reached before convergence. Consider increasing max_iter to improve the fit.\n",
      "  ConvergenceWarning)\n",
      " 32%|███▏      | 322/1000 [03:04<05:30,  2.05it/s]/Applications/anaconda/lib/python3.6/site-packages/sklearn/linear_model/stochastic_gradient.py:1219: ConvergenceWarning: Maximum number of iteration reached before convergence. Consider increasing max_iter to improve the fit.\n",
      "  ConvergenceWarning)\n",
      " 35%|███▌      | 351/1000 [03:19<05:09,  2.10it/s]/Applications/anaconda/lib/python3.6/site-packages/sklearn/linear_model/stochastic_gradient.py:1219: ConvergenceWarning: Maximum number of iteration reached before convergence. Consider increasing max_iter to improve the fit.\n",
      "  ConvergenceWarning)\n",
      " 36%|███▌      | 362/1000 [03:25<05:17,  2.01it/s]/Applications/anaconda/lib/python3.6/site-packages/sklearn/linear_model/stochastic_gradient.py:1219: ConvergenceWarning: Maximum number of iteration reached before convergence. Consider increasing max_iter to improve the fit.\n",
      "  ConvergenceWarning)\n",
      " 36%|███▋      | 363/1000 [03:25<06:06,  1.74it/s]/Applications/anaconda/lib/python3.6/site-packages/sklearn/linear_model/stochastic_gradient.py:1219: ConvergenceWarning: Maximum number of iteration reached before convergence. Consider increasing max_iter to improve the fit.\n",
      "  ConvergenceWarning)\n",
      " 39%|███▉      | 393/1000 [03:42<05:34,  1.81it/s]/Applications/anaconda/lib/python3.6/site-packages/sklearn/linear_model/stochastic_gradient.py:1219: ConvergenceWarning: Maximum number of iteration reached before convergence. Consider increasing max_iter to improve the fit.\n",
      "  ConvergenceWarning)\n",
      " 40%|███▉      | 397/1000 [03:44<05:00,  2.01it/s]/Applications/anaconda/lib/python3.6/site-packages/sklearn/linear_model/stochastic_gradient.py:1219: ConvergenceWarning: Maximum number of iteration reached before convergence. Consider increasing max_iter to improve the fit.\n",
      "  ConvergenceWarning)\n",
      " 40%|███▉      | 399/1000 [03:45<05:44,  1.74it/s]/Applications/anaconda/lib/python3.6/site-packages/sklearn/linear_model/stochastic_gradient.py:1219: ConvergenceWarning: Maximum number of iteration reached before convergence. Consider increasing max_iter to improve the fit.\n",
      "  ConvergenceWarning)\n",
      " 42%|████▏     | 423/1000 [03:59<05:45,  1.67it/s]/Applications/anaconda/lib/python3.6/site-packages/sklearn/linear_model/stochastic_gradient.py:1219: ConvergenceWarning: Maximum number of iteration reached before convergence. Consider increasing max_iter to improve the fit.\n",
      "  ConvergenceWarning)\n",
      " 43%|████▎     | 432/1000 [04:05<05:26,  1.74it/s]/Applications/anaconda/lib/python3.6/site-packages/sklearn/linear_model/stochastic_gradient.py:1219: ConvergenceWarning: Maximum number of iteration reached before convergence. Consider increasing max_iter to improve the fit.\n",
      "  ConvergenceWarning)\n",
      " 44%|████▍     | 440/1000 [04:09<05:28,  1.70it/s]/Applications/anaconda/lib/python3.6/site-packages/sklearn/linear_model/stochastic_gradient.py:1219: ConvergenceWarning: Maximum number of iteration reached before convergence. Consider increasing max_iter to improve the fit.\n",
      "  ConvergenceWarning)\n",
      " 47%|████▋     | 471/1000 [04:25<05:22,  1.64it/s]/Applications/anaconda/lib/python3.6/site-packages/sklearn/linear_model/stochastic_gradient.py:1219: ConvergenceWarning: Maximum number of iteration reached before convergence. Consider increasing max_iter to improve the fit.\n",
      "  ConvergenceWarning)\n",
      " 49%|████▉     | 489/1000 [04:34<04:11,  2.03it/s]/Applications/anaconda/lib/python3.6/site-packages/sklearn/linear_model/stochastic_gradient.py:1219: ConvergenceWarning: Maximum number of iteration reached before convergence. Consider increasing max_iter to improve the fit.\n",
      "  ConvergenceWarning)\n",
      " 49%|████▉     | 494/1000 [04:37<04:28,  1.88it/s]/Applications/anaconda/lib/python3.6/site-packages/sklearn/linear_model/stochastic_gradient.py:1219: ConvergenceWarning: Maximum number of iteration reached before convergence. Consider increasing max_iter to improve the fit.\n",
      "  ConvergenceWarning)\n",
      " 50%|████▉     | 496/1000 [04:38<05:00,  1.68it/s]/Applications/anaconda/lib/python3.6/site-packages/sklearn/linear_model/stochastic_gradient.py:1219: ConvergenceWarning: Maximum number of iteration reached before convergence. Consider increasing max_iter to improve the fit.\n",
      "  ConvergenceWarning)\n",
      " 51%|█████     | 512/1000 [04:47<04:21,  1.87it/s]/Applications/anaconda/lib/python3.6/site-packages/sklearn/linear_model/stochastic_gradient.py:1219: ConvergenceWarning: Maximum number of iteration reached before convergence. Consider increasing max_iter to improve the fit.\n",
      "  ConvergenceWarning)\n",
      " 51%|█████▏    | 513/1000 [04:48<05:01,  1.62it/s]/Applications/anaconda/lib/python3.6/site-packages/sklearn/linear_model/stochastic_gradient.py:1219: ConvergenceWarning: Maximum number of iteration reached before convergence. Consider increasing max_iter to improve the fit.\n",
      "  ConvergenceWarning)\n",
      " 52%|█████▏    | 517/1000 [04:51<05:00,  1.61it/s]/Applications/anaconda/lib/python3.6/site-packages/sklearn/linear_model/stochastic_gradient.py:1219: ConvergenceWarning: Maximum number of iteration reached before convergence. Consider increasing max_iter to improve the fit.\n",
      "  ConvergenceWarning)\n",
      " 52%|█████▏    | 520/1000 [04:53<05:03,  1.58it/s]/Applications/anaconda/lib/python3.6/site-packages/sklearn/linear_model/stochastic_gradient.py:1219: ConvergenceWarning: Maximum number of iteration reached before convergence. Consider increasing max_iter to improve the fit.\n",
      "  ConvergenceWarning)\n",
      " 52%|█████▏    | 524/1000 [04:55<04:13,  1.87it/s]/Applications/anaconda/lib/python3.6/site-packages/sklearn/linear_model/stochastic_gradient.py:1219: ConvergenceWarning: Maximum number of iteration reached before convergence. Consider increasing max_iter to improve the fit.\n",
      "  ConvergenceWarning)\n",
      " 53%|█████▎    | 531/1000 [04:59<04:07,  1.90it/s]/Applications/anaconda/lib/python3.6/site-packages/sklearn/linear_model/stochastic_gradient.py:1219: ConvergenceWarning: Maximum number of iteration reached before convergence. Consider increasing max_iter to improve the fit.\n",
      "  ConvergenceWarning)\n",
      " 54%|█████▎    | 535/1000 [05:01<04:08,  1.87it/s]/Applications/anaconda/lib/python3.6/site-packages/sklearn/linear_model/stochastic_gradient.py:1219: ConvergenceWarning: Maximum number of iteration reached before convergence. Consider increasing max_iter to improve the fit.\n",
      "  ConvergenceWarning)\n",
      " 57%|█████▋    | 574/1000 [05:21<03:41,  1.92it/s]/Applications/anaconda/lib/python3.6/site-packages/sklearn/linear_model/stochastic_gradient.py:1219: ConvergenceWarning: Maximum number of iteration reached before convergence. Consider increasing max_iter to improve the fit.\n",
      "  ConvergenceWarning)\n",
      " 58%|█████▊    | 576/1000 [05:23<04:21,  1.62it/s]/Applications/anaconda/lib/python3.6/site-packages/sklearn/linear_model/stochastic_gradient.py:1219: ConvergenceWarning: Maximum number of iteration reached before convergence. Consider increasing max_iter to improve the fit.\n",
      "  ConvergenceWarning)\n",
      " 59%|█████▊    | 587/1000 [05:28<03:32,  1.94it/s]/Applications/anaconda/lib/python3.6/site-packages/sklearn/linear_model/stochastic_gradient.py:1219: ConvergenceWarning: Maximum number of iteration reached before convergence. Consider increasing max_iter to improve the fit.\n",
      "  ConvergenceWarning)\n",
      " 60%|██████    | 605/1000 [05:38<03:19,  1.98it/s]/Applications/anaconda/lib/python3.6/site-packages/sklearn/linear_model/stochastic_gradient.py:1219: ConvergenceWarning: Maximum number of iteration reached before convergence. Consider increasing max_iter to improve the fit.\n",
      "  ConvergenceWarning)\n",
      " 62%|██████▏   | 620/1000 [05:46<03:11,  1.99it/s]/Applications/anaconda/lib/python3.6/site-packages/sklearn/linear_model/stochastic_gradient.py:1219: ConvergenceWarning: Maximum number of iteration reached before convergence. Consider increasing max_iter to improve the fit.\n",
      "  ConvergenceWarning)\n",
      " 63%|██████▎   | 632/1000 [05:53<03:24,  1.80it/s]/Applications/anaconda/lib/python3.6/site-packages/sklearn/linear_model/stochastic_gradient.py:1219: ConvergenceWarning: Maximum number of iteration reached before convergence. Consider increasing max_iter to improve the fit.\n",
      "  ConvergenceWarning)\n",
      " 64%|██████▍   | 639/1000 [05:56<02:52,  2.09it/s]/Applications/anaconda/lib/python3.6/site-packages/sklearn/linear_model/stochastic_gradient.py:1219: ConvergenceWarning: Maximum number of iteration reached before convergence. Consider increasing max_iter to improve the fit.\n",
      "  ConvergenceWarning)\n",
      " 64%|██████▍   | 642/1000 [05:58<03:22,  1.76it/s]/Applications/anaconda/lib/python3.6/site-packages/sklearn/linear_model/stochastic_gradient.py:1219: ConvergenceWarning: Maximum number of iteration reached before convergence. Consider increasing max_iter to improve the fit.\n",
      "  ConvergenceWarning)\n",
      " 64%|██████▍   | 643/1000 [05:59<03:47,  1.57it/s]/Applications/anaconda/lib/python3.6/site-packages/sklearn/linear_model/stochastic_gradient.py:1219: ConvergenceWarning: Maximum number of iteration reached before convergence. Consider increasing max_iter to improve the fit.\n",
      "  ConvergenceWarning)\n",
      " 64%|██████▍   | 645/1000 [06:00<03:29,  1.70it/s]/Applications/anaconda/lib/python3.6/site-packages/sklearn/linear_model/stochastic_gradient.py:1219: ConvergenceWarning: Maximum number of iteration reached before convergence. Consider increasing max_iter to improve the fit.\n",
      "  ConvergenceWarning)\n",
      " 65%|██████▌   | 650/1000 [06:03<03:01,  1.93it/s]/Applications/anaconda/lib/python3.6/site-packages/sklearn/linear_model/stochastic_gradient.py:1219: ConvergenceWarning: Maximum number of iteration reached before convergence. Consider increasing max_iter to improve the fit.\n",
      "  ConvergenceWarning)\n",
      " 66%|██████▌   | 660/1000 [06:08<02:51,  1.98it/s]/Applications/anaconda/lib/python3.6/site-packages/sklearn/linear_model/stochastic_gradient.py:1219: ConvergenceWarning: Maximum number of iteration reached before convergence. Consider increasing max_iter to improve the fit.\n",
      "  ConvergenceWarning)\n",
      " 67%|██████▋   | 666/1000 [06:11<02:57,  1.88it/s]/Applications/anaconda/lib/python3.6/site-packages/sklearn/linear_model/stochastic_gradient.py:1219: ConvergenceWarning: Maximum number of iteration reached before convergence. Consider increasing max_iter to improve the fit.\n",
      "  ConvergenceWarning)\n",
      " 69%|██████▉   | 689/1000 [06:26<03:52,  1.34it/s]/Applications/anaconda/lib/python3.6/site-packages/sklearn/linear_model/stochastic_gradient.py:1219: ConvergenceWarning: Maximum number of iteration reached before convergence. Consider increasing max_iter to improve the fit.\n",
      "  ConvergenceWarning)\n",
      " 69%|██████▉   | 693/1000 [06:29<03:36,  1.42it/s]/Applications/anaconda/lib/python3.6/site-packages/sklearn/linear_model/stochastic_gradient.py:1219: ConvergenceWarning: Maximum number of iteration reached before convergence. Consider increasing max_iter to improve the fit.\n",
      "  ConvergenceWarning)\n",
      " 71%|███████   | 706/1000 [06:37<03:04,  1.60it/s]/Applications/anaconda/lib/python3.6/site-packages/sklearn/linear_model/stochastic_gradient.py:1219: ConvergenceWarning: Maximum number of iteration reached before convergence. Consider increasing max_iter to improve the fit.\n",
      "  ConvergenceWarning)\n",
      " 71%|███████   | 709/1000 [06:39<03:03,  1.59it/s]/Applications/anaconda/lib/python3.6/site-packages/sklearn/linear_model/stochastic_gradient.py:1219: ConvergenceWarning: Maximum number of iteration reached before convergence. Consider increasing max_iter to improve the fit.\n",
      "  ConvergenceWarning)\n",
      " 71%|███████   | 710/1000 [06:40<03:21,  1.44it/s]/Applications/anaconda/lib/python3.6/site-packages/sklearn/linear_model/stochastic_gradient.py:1219: ConvergenceWarning: Maximum number of iteration reached before convergence. Consider increasing max_iter to improve the fit.\n",
      "  ConvergenceWarning)\n",
      " 72%|███████▏  | 716/1000 [06:43<02:27,  1.93it/s]/Applications/anaconda/lib/python3.6/site-packages/sklearn/linear_model/stochastic_gradient.py:1219: ConvergenceWarning: Maximum number of iteration reached before convergence. Consider increasing max_iter to improve the fit.\n",
      "  ConvergenceWarning)\n",
      " 72%|███████▏  | 724/1000 [06:48<02:33,  1.80it/s]/Applications/anaconda/lib/python3.6/site-packages/sklearn/linear_model/stochastic_gradient.py:1219: ConvergenceWarning: Maximum number of iteration reached before convergence. Consider increasing max_iter to improve the fit.\n",
      "  ConvergenceWarning)\n",
      " 72%|███████▎  | 725/1000 [06:49<03:33,  1.29it/s]/Applications/anaconda/lib/python3.6/site-packages/sklearn/linear_model/stochastic_gradient.py:1219: ConvergenceWarning: Maximum number of iteration reached before convergence. Consider increasing max_iter to improve the fit.\n",
      "  ConvergenceWarning)\n",
      " 73%|███████▎  | 730/1000 [06:52<03:12,  1.40it/s]/Applications/anaconda/lib/python3.6/site-packages/sklearn/linear_model/stochastic_gradient.py:1219: ConvergenceWarning: Maximum number of iteration reached before convergence. Consider increasing max_iter to improve the fit.\n",
      "  ConvergenceWarning)\n",
      " 76%|███████▋  | 765/1000 [07:16<02:11,  1.79it/s]/Applications/anaconda/lib/python3.6/site-packages/sklearn/linear_model/stochastic_gradient.py:1219: ConvergenceWarning: Maximum number of iteration reached before convergence. Consider increasing max_iter to improve the fit.\n",
      "  ConvergenceWarning)\n",
      " 77%|███████▋  | 769/1000 [07:20<02:56,  1.31it/s]/Applications/anaconda/lib/python3.6/site-packages/sklearn/linear_model/stochastic_gradient.py:1219: ConvergenceWarning: Maximum number of iteration reached before convergence. Consider increasing max_iter to improve the fit.\n",
      "  ConvergenceWarning)\n",
      " 78%|███████▊  | 780/1000 [07:27<01:57,  1.87it/s]/Applications/anaconda/lib/python3.6/site-packages/sklearn/linear_model/stochastic_gradient.py:1219: ConvergenceWarning: Maximum number of iteration reached before convergence. Consider increasing max_iter to improve the fit.\n",
      "  ConvergenceWarning)\n",
      " 78%|███████▊  | 783/1000 [07:29<01:53,  1.91it/s]/Applications/anaconda/lib/python3.6/site-packages/sklearn/linear_model/stochastic_gradient.py:1219: ConvergenceWarning: Maximum number of iteration reached before convergence. Consider increasing max_iter to improve the fit.\n",
      "  ConvergenceWarning)\n",
      " 78%|███████▊  | 785/1000 [07:30<02:01,  1.77it/s]/Applications/anaconda/lib/python3.6/site-packages/sklearn/linear_model/stochastic_gradient.py:1219: ConvergenceWarning: Maximum number of iteration reached before convergence. Consider increasing max_iter to improve the fit.\n",
      "  ConvergenceWarning)\n",
      " 80%|███████▉  | 795/1000 [07:36<01:50,  1.86it/s]/Applications/anaconda/lib/python3.6/site-packages/sklearn/linear_model/stochastic_gradient.py:1219: ConvergenceWarning: Maximum number of iteration reached before convergence. Consider increasing max_iter to improve the fit.\n",
      "  ConvergenceWarning)\n",
      " 80%|███████▉  | 796/1000 [07:36<02:04,  1.63it/s]/Applications/anaconda/lib/python3.6/site-packages/sklearn/linear_model/stochastic_gradient.py:1219: ConvergenceWarning: Maximum number of iteration reached before convergence. Consider increasing max_iter to improve the fit.\n",
      "  ConvergenceWarning)\n",
      " 80%|████████  | 800/1000 [07:39<01:48,  1.85it/s]/Applications/anaconda/lib/python3.6/site-packages/sklearn/linear_model/stochastic_gradient.py:1219: ConvergenceWarning: Maximum number of iteration reached before convergence. Consider increasing max_iter to improve the fit.\n",
      "  ConvergenceWarning)\n",
      " 80%|████████  | 804/1000 [07:41<01:40,  1.95it/s]/Applications/anaconda/lib/python3.6/site-packages/sklearn/linear_model/stochastic_gradient.py:1219: ConvergenceWarning: Maximum number of iteration reached before convergence. Consider increasing max_iter to improve the fit.\n",
      "  ConvergenceWarning)\n",
      " 81%|████████  | 810/1000 [07:44<01:31,  2.07it/s]/Applications/anaconda/lib/python3.6/site-packages/sklearn/linear_model/stochastic_gradient.py:1219: ConvergenceWarning: Maximum number of iteration reached before convergence. Consider increasing max_iter to improve the fit.\n",
      "  ConvergenceWarning)\n",
      " 82%|████████▏ | 816/1000 [07:48<01:45,  1.74it/s]/Applications/anaconda/lib/python3.6/site-packages/sklearn/linear_model/stochastic_gradient.py:1219: ConvergenceWarning: Maximum number of iteration reached before convergence. Consider increasing max_iter to improve the fit.\n",
      "  ConvergenceWarning)\n",
      " 84%|████████▍ | 838/1000 [08:02<01:35,  1.70it/s]/Applications/anaconda/lib/python3.6/site-packages/sklearn/linear_model/stochastic_gradient.py:1219: ConvergenceWarning: Maximum number of iteration reached before convergence. Consider increasing max_iter to improve the fit.\n",
      "  ConvergenceWarning)\n",
      " 85%|████████▌ | 852/1000 [08:12<01:16,  1.94it/s]/Applications/anaconda/lib/python3.6/site-packages/sklearn/linear_model/stochastic_gradient.py:1219: ConvergenceWarning: Maximum number of iteration reached before convergence. Consider increasing max_iter to improve the fit.\n",
      "  ConvergenceWarning)\n",
      " 86%|████████▌ | 860/1000 [08:17<01:07,  2.08it/s]/Applications/anaconda/lib/python3.6/site-packages/sklearn/linear_model/stochastic_gradient.py:1219: ConvergenceWarning: Maximum number of iteration reached before convergence. Consider increasing max_iter to improve the fit.\n",
      "  ConvergenceWarning)\n",
      " 87%|████████▋ | 868/1000 [08:21<01:06,  1.98it/s]/Applications/anaconda/lib/python3.6/site-packages/sklearn/linear_model/stochastic_gradient.py:1219: ConvergenceWarning: Maximum number of iteration reached before convergence. Consider increasing max_iter to improve the fit.\n",
      "  ConvergenceWarning)\n",
      " 87%|████████▋ | 870/1000 [08:22<01:25,  1.53it/s]/Applications/anaconda/lib/python3.6/site-packages/sklearn/linear_model/stochastic_gradient.py:1219: ConvergenceWarning: Maximum number of iteration reached before convergence. Consider increasing max_iter to improve the fit.\n",
      "  ConvergenceWarning)\n",
      " 88%|████████▊ | 884/1000 [08:32<01:11,  1.61it/s]/Applications/anaconda/lib/python3.6/site-packages/sklearn/linear_model/stochastic_gradient.py:1219: ConvergenceWarning: Maximum number of iteration reached before convergence. Consider increasing max_iter to improve the fit.\n",
      "  ConvergenceWarning)\n",
      " 90%|█████████ | 902/1000 [08:43<00:49,  1.97it/s]/Applications/anaconda/lib/python3.6/site-packages/sklearn/linear_model/stochastic_gradient.py:1219: ConvergenceWarning: Maximum number of iteration reached before convergence. Consider increasing max_iter to improve the fit.\n",
      "  ConvergenceWarning)\n",
      " 94%|█████████▎| 937/1000 [09:03<00:30,  2.06it/s]/Applications/anaconda/lib/python3.6/site-packages/sklearn/linear_model/stochastic_gradient.py:1219: ConvergenceWarning: Maximum number of iteration reached before convergence. Consider increasing max_iter to improve the fit.\n",
      "  ConvergenceWarning)\n",
      " 94%|█████████▍| 944/1000 [09:08<00:30,  1.83it/s]/Applications/anaconda/lib/python3.6/site-packages/sklearn/linear_model/stochastic_gradient.py:1219: ConvergenceWarning: Maximum number of iteration reached before convergence. Consider increasing max_iter to improve the fit.\n",
      "  ConvergenceWarning)\n",
      " 95%|█████████▍| 946/1000 [09:09<00:30,  1.77it/s]/Applications/anaconda/lib/python3.6/site-packages/sklearn/linear_model/stochastic_gradient.py:1219: ConvergenceWarning: Maximum number of iteration reached before convergence. Consider increasing max_iter to improve the fit.\n",
      "  ConvergenceWarning)\n",
      " 95%|█████████▍| 948/1000 [09:10<00:31,  1.63it/s]/Applications/anaconda/lib/python3.6/site-packages/sklearn/linear_model/stochastic_gradient.py:1219: ConvergenceWarning: Maximum number of iteration reached before convergence. Consider increasing max_iter to improve the fit.\n",
      "  ConvergenceWarning)\n",
      " 96%|█████████▌| 962/1000 [09:18<00:22,  1.69it/s]/Applications/anaconda/lib/python3.6/site-packages/sklearn/linear_model/stochastic_gradient.py:1219: ConvergenceWarning: Maximum number of iteration reached before convergence. Consider increasing max_iter to improve the fit.\n",
      "  ConvergenceWarning)\n",
      " 97%|█████████▋| 967/1000 [09:21<00:18,  1.82it/s]/Applications/anaconda/lib/python3.6/site-packages/sklearn/linear_model/stochastic_gradient.py:1219: ConvergenceWarning: Maximum number of iteration reached before convergence. Consider increasing max_iter to improve the fit.\n",
      "  ConvergenceWarning)\n",
      " 97%|█████████▋| 968/1000 [09:22<00:20,  1.55it/s]/Applications/anaconda/lib/python3.6/site-packages/sklearn/linear_model/stochastic_gradient.py:1219: ConvergenceWarning: Maximum number of iteration reached before convergence. Consider increasing max_iter to improve the fit.\n",
      "  ConvergenceWarning)\n",
      " 98%|█████████▊| 980/1000 [09:28<00:10,  1.98it/s]/Applications/anaconda/lib/python3.6/site-packages/sklearn/linear_model/stochastic_gradient.py:1219: ConvergenceWarning: Maximum number of iteration reached before convergence. Consider increasing max_iter to improve the fit.\n",
      "  ConvergenceWarning)\n",
      " 99%|█████████▉| 988/1000 [09:32<00:05,  2.19it/s]/Applications/anaconda/lib/python3.6/site-packages/sklearn/linear_model/stochastic_gradient.py:1219: ConvergenceWarning: Maximum number of iteration reached before convergence. Consider increasing max_iter to improve the fit.\n",
      "  ConvergenceWarning)\n",
      "100%|██████████| 1000/1000 [09:39<00:00,  1.94it/s]\n"
     ]
    }
   ],
   "source": [
    "rmses = []\n",
    "for _ in tqdm(range(1000)):\n",
    "    u = next(user_gen)\n",
    "    udf = freqs[freqs.user_id == u]    \n",
    "    vi = udf.beer_id.map(beer_id_to_vecs_index)\n",
    "\n",
    "    xtrain, xtest, ytrain, ytest = train_test_split(vecs[vi, :],\n",
    "                                                    udf.user_pref.values,\n",
    "                                                    test_size = 0.1, random_state=0)\n",
    "    model.fit(xtrain, ytrain)\n",
    "    preds = model.predict(xtest)\n",
    "    diffs = preds - ytest\n",
    "    sumsq = np.dot(diffs, diffs)\n",
    "    rmse = np.sqrt(sumsq / len(diffs))\n",
    "    rmses.append(rmse)"
   ]
  },
  {
   "cell_type": "code",
   "execution_count": 77,
   "metadata": {
    "collapsed": false
   },
   "outputs": [
    {
     "data": {
      "text/plain": [
       "0.40666412277531083"
      ]
     },
     "execution_count": 77,
     "metadata": {},
     "output_type": "execute_result"
    }
   ],
   "source": [
    "# WITH BEER NAME AND BREWERY NAME ADDED TO BAG OF WORDS, AND WITH ABV/5.0, 10-0.71 min-max_df, FIRST 1000 USERS\n",
    "#   AND WITH OHE HOT BEER STYLES\n",
    "np.mean(rmses)"
   ]
  },
  {
   "cell_type": "code",
   "execution_count": 79,
   "metadata": {
    "collapsed": false
   },
   "outputs": [
    {
     "data": {
      "text/plain": [
       "0.40866462084021121"
      ]
     },
     "execution_count": 79,
     "metadata": {},
     "output_type": "execute_result"
    }
   ],
   "source": [
    "# WITH BEER NAME AND BREWERY NAME ADDED TO BAG OF WORDS, AND WITH ABV/5.0, 10-0.71 min-max_df, 2nd 1000 USERS\n",
    "#   AND WITH OHE HOT BEER STYLES\n",
    "np.mean(rmses)"
   ]
  },
  {
   "cell_type": "code",
   "execution_count": null,
   "metadata": {
    "collapsed": true
   },
   "outputs": [],
   "source": []
  },
  {
   "cell_type": "code",
   "execution_count": 403,
   "metadata": {
    "collapsed": false
   },
   "outputs": [
    {
     "data": {
      "text/plain": [
       "0.41770131939694782"
      ]
     },
     "execution_count": 403,
     "metadata": {},
     "output_type": "execute_result"
    }
   ],
   "source": [
    "# WITH JUST DESCRIPS, NO ABV, NO BREWERYNAME, NO BEERNAME, FIRST 1000 USERS\n",
    "np.mean(rmses)"
   ]
  },
  {
   "cell_type": "markdown",
   "metadata": {},
   "source": [
    "While that's effective, if we're going to train a model for each user, we might as well add the brewery name into the bag of words, and feature the a.b.v. as well."
   ]
  },
  {
   "cell_type": "code",
   "execution_count": 481,
   "metadata": {
    "collapsed": false
   },
   "outputs": [
    {
     "data": {
      "text/plain": [
       "0.41045456724343349"
      ]
     },
     "execution_count": 481,
     "metadata": {},
     "output_type": "execute_result"
    }
   ],
   "source": [
    "# WITH BEER NAME AND BREWERY NAME ADDED TO BAG OF WORDS, AND WITH ABV/10.0, FIRST 1000 USERS\n",
    "np.mean(rmses)"
   ]
  },
  {
   "cell_type": "code",
   "execution_count": 482,
   "metadata": {
    "collapsed": false
   },
   "outputs": [
    {
     "data": {
      "text/plain": [
       "0.029312253664937806"
      ]
     },
     "execution_count": 482,
     "metadata": {},
     "output_type": "execute_result"
    }
   ],
   "source": [
    "# how much of a factor was abv for the last user? \n",
    "model.coef_[-1]"
   ]
  },
  {
   "cell_type": "code",
   "execution_count": 484,
   "metadata": {
    "collapsed": false
   },
   "outputs": [
    {
     "data": {
      "text/plain": [
       "0.41219801463392686"
      ]
     },
     "execution_count": 484,
     "metadata": {},
     "output_type": "execute_result"
    }
   ],
   "source": [
    "# WITH BEER NAME AND BREWERY NAME ADDED TO BAG OF WORDS, AND WITH ABV/10.0, SECOND 1000 USERS\n",
    "np.mean(rmses)"
   ]
  },
  {
   "cell_type": "code",
   "execution_count": 486,
   "metadata": {
    "collapsed": false
   },
   "outputs": [
    {
     "data": {
      "text/plain": [
       "0.40342371577009351"
      ]
     },
     "execution_count": 486,
     "metadata": {},
     "output_type": "execute_result"
    }
   ],
   "source": [
    "# WITH BEER NAME AND BREWERY NAME ADDED TO BAG OF WORDS, AND WITH ABV/10.0, THIRD 1000 USERS\n",
    "np.mean(rmses)"
   ]
  },
  {
   "cell_type": "code",
   "execution_count": 488,
   "metadata": {
    "collapsed": false
   },
   "outputs": [
    {
     "data": {
      "text/plain": [
       "0.39471921597581955"
      ]
     },
     "execution_count": 488,
     "metadata": {},
     "output_type": "execute_result"
    }
   ],
   "source": [
    "# WITH BEER NAME AND BREWERY NAME ADDED TO BAG OF WORDS, AND WITH ABV/10.0, FOURTH 1000 USERS\n",
    "np.mean(rmses)"
   ]
  },
  {
   "cell_type": "code",
   "execution_count": 491,
   "metadata": {
    "collapsed": false
   },
   "outputs": [
    {
     "data": {
      "text/plain": [
       "0.40582003370423486"
      ]
     },
     "execution_count": 491,
     "metadata": {},
     "output_type": "execute_result"
    }
   ],
   "source": [
    "# WITH BEER NAME AND BREWERY NAME ADDED TO BAG OF WORDS, AND WITH ABV/10.0, FIFTH 1000 USERS\n",
    "np.mean(rmses)"
   ]
  },
  {
   "cell_type": "code",
   "execution_count": 493,
   "metadata": {
    "collapsed": false
   },
   "outputs": [
    {
     "data": {
      "text/plain": [
       "0.36608485008657315"
      ]
     },
     "execution_count": 493,
     "metadata": {},
     "output_type": "execute_result"
    }
   ],
   "source": [
    "# WITH BEER NAME AND BREWERY NAME ADDED TO BAG OF WORDS, AND WITH ABV/10.0, SIXTH 1000 USERS\n",
    "np.mean(rmses)"
   ]
  },
  {
   "cell_type": "markdown",
   "metadata": {},
   "source": [
    "Try different min and max doc_freqs:"
   ]
  },
  {
   "cell_type": "code",
   "execution_count": 563,
   "metadata": {
    "collapsed": false
   },
   "outputs": [
    {
     "data": {
      "text/plain": [
       "(112970, 17250)"
      ]
     },
     "execution_count": 563,
     "metadata": {},
     "output_type": "execute_result"
    }
   ],
   "source": [
    "cv = CountVectorizer(stop_words='english', min_df=8, max_df=0.67, binary=True)\n",
    "vecs = cv.fit_transform(descrips.beer_description)\n",
    "vecs.shape"
   ]
  },
  {
   "cell_type": "code",
   "execution_count": 564,
   "metadata": {
    "collapsed": false
   },
   "outputs": [],
   "source": [
    "vecs = hstack([vecs, descrips.abv.values[:, np.newaxis] / 5.0])"
   ]
  },
  {
   "cell_type": "code",
   "execution_count": 565,
   "metadata": {
    "collapsed": true
   },
   "outputs": [],
   "source": [
    "vecs = csr_matrix(vecs)"
   ]
  },
  {
   "cell_type": "code",
   "execution_count": 566,
   "metadata": {
    "collapsed": false
   },
   "outputs": [
    {
     "data": {
      "text/plain": [
       "(112970, 17251)"
      ]
     },
     "execution_count": 566,
     "metadata": {},
     "output_type": "execute_result"
    }
   ],
   "source": [
    "vecs.shape"
   ]
  },
  {
   "cell_type": "code",
   "execution_count": 567,
   "metadata": {
    "collapsed": true
   },
   "outputs": [],
   "source": [
    "model = SGDRegressor(penalty='elasticnet', early_stopping=True, validation_fraction=0.1, \n",
    "                     random_state=0, max_iter=500, tol=1e-4, l1_ratio=0.15)"
   ]
  },
  {
   "cell_type": "code",
   "execution_count": 568,
   "metadata": {
    "collapsed": false
   },
   "outputs": [
    {
     "name": "stderr",
     "output_type": "stream",
     "text": [
      "  2%|▏         | 19/1000 [00:13<11:25,  1.43it/s]/Applications/anaconda/lib/python3.6/site-packages/sklearn/linear_model/stochastic_gradient.py:1219: ConvergenceWarning: Maximum number of iteration reached before convergence. Consider increasing max_iter to improve the fit.\n",
      "  ConvergenceWarning)\n",
      "  2%|▏         | 22/1000 [00:15<10:28,  1.56it/s]/Applications/anaconda/lib/python3.6/site-packages/sklearn/linear_model/stochastic_gradient.py:1219: ConvergenceWarning: Maximum number of iteration reached before convergence. Consider increasing max_iter to improve the fit.\n",
      "  ConvergenceWarning)\n",
      "  2%|▏         | 23/1000 [00:16<11:40,  1.39it/s]/Applications/anaconda/lib/python3.6/site-packages/sklearn/linear_model/stochastic_gradient.py:1219: ConvergenceWarning: Maximum number of iteration reached before convergence. Consider increasing max_iter to improve the fit.\n",
      "  ConvergenceWarning)\n",
      "  3%|▎         | 29/1000 [00:20<10:35,  1.53it/s]/Applications/anaconda/lib/python3.6/site-packages/sklearn/linear_model/stochastic_gradient.py:1219: ConvergenceWarning: Maximum number of iteration reached before convergence. Consider increasing max_iter to improve the fit.\n",
      "  ConvergenceWarning)\n",
      "  3%|▎         | 31/1000 [00:22<10:04,  1.60it/s]/Applications/anaconda/lib/python3.6/site-packages/sklearn/linear_model/stochastic_gradient.py:1219: ConvergenceWarning: Maximum number of iteration reached before convergence. Consider increasing max_iter to improve the fit.\n",
      "  ConvergenceWarning)\n",
      "  6%|▌         | 61/1000 [00:40<08:40,  1.80it/s]/Applications/anaconda/lib/python3.6/site-packages/sklearn/linear_model/stochastic_gradient.py:1219: ConvergenceWarning: Maximum number of iteration reached before convergence. Consider increasing max_iter to improve the fit.\n",
      "  ConvergenceWarning)\n",
      "  6%|▋         | 65/1000 [00:42<08:56,  1.74it/s]/Applications/anaconda/lib/python3.6/site-packages/sklearn/linear_model/stochastic_gradient.py:1219: ConvergenceWarning: Maximum number of iteration reached before convergence. Consider increasing max_iter to improve the fit.\n",
      "  ConvergenceWarning)\n",
      "  9%|▊         | 87/1000 [00:54<08:40,  1.76it/s]/Applications/anaconda/lib/python3.6/site-packages/sklearn/linear_model/stochastic_gradient.py:1219: ConvergenceWarning: Maximum number of iteration reached before convergence. Consider increasing max_iter to improve the fit.\n",
      "  ConvergenceWarning)\n",
      "  9%|▉         | 94/1000 [00:58<08:40,  1.74it/s]/Applications/anaconda/lib/python3.6/site-packages/sklearn/linear_model/stochastic_gradient.py:1219: ConvergenceWarning: Maximum number of iteration reached before convergence. Consider increasing max_iter to improve the fit.\n",
      "  ConvergenceWarning)\n",
      " 10%|▉         | 98/1000 [01:01<08:26,  1.78it/s]/Applications/anaconda/lib/python3.6/site-packages/sklearn/linear_model/stochastic_gradient.py:1219: ConvergenceWarning: Maximum number of iteration reached before convergence. Consider increasing max_iter to improve the fit.\n",
      "  ConvergenceWarning)\n",
      " 11%|█         | 106/1000 [01:06<08:30,  1.75it/s]/Applications/anaconda/lib/python3.6/site-packages/sklearn/linear_model/stochastic_gradient.py:1219: ConvergenceWarning: Maximum number of iteration reached before convergence. Consider increasing max_iter to improve the fit.\n",
      "  ConvergenceWarning)\n",
      " 11%|█         | 107/1000 [01:07<10:17,  1.45it/s]/Applications/anaconda/lib/python3.6/site-packages/sklearn/linear_model/stochastic_gradient.py:1219: ConvergenceWarning: Maximum number of iteration reached before convergence. Consider increasing max_iter to improve the fit.\n",
      "  ConvergenceWarning)\n",
      " 11%|█▏        | 113/1000 [01:10<07:35,  1.95it/s]/Applications/anaconda/lib/python3.6/site-packages/sklearn/linear_model/stochastic_gradient.py:1219: ConvergenceWarning: Maximum number of iteration reached before convergence. Consider increasing max_iter to improve the fit.\n",
      "  ConvergenceWarning)\n",
      " 12%|█▏        | 119/1000 [01:14<09:03,  1.62it/s]/Applications/anaconda/lib/python3.6/site-packages/sklearn/linear_model/stochastic_gradient.py:1219: ConvergenceWarning: Maximum number of iteration reached before convergence. Consider increasing max_iter to improve the fit.\n",
      "  ConvergenceWarning)\n",
      " 13%|█▎        | 126/1000 [01:18<08:13,  1.77it/s]/Applications/anaconda/lib/python3.6/site-packages/sklearn/linear_model/stochastic_gradient.py:1219: ConvergenceWarning: Maximum number of iteration reached before convergence. Consider increasing max_iter to improve the fit.\n",
      "  ConvergenceWarning)\n",
      " 14%|█▍        | 144/1000 [01:29<07:28,  1.91it/s]/Applications/anaconda/lib/python3.6/site-packages/sklearn/linear_model/stochastic_gradient.py:1219: ConvergenceWarning: Maximum number of iteration reached before convergence. Consider increasing max_iter to improve the fit.\n",
      "  ConvergenceWarning)\n",
      " 16%|█▋        | 165/1000 [01:41<07:25,  1.87it/s]/Applications/anaconda/lib/python3.6/site-packages/sklearn/linear_model/stochastic_gradient.py:1219: ConvergenceWarning: Maximum number of iteration reached before convergence. Consider increasing max_iter to improve the fit.\n",
      "  ConvergenceWarning)\n",
      " 17%|█▋        | 167/1000 [01:43<08:09,  1.70it/s]/Applications/anaconda/lib/python3.6/site-packages/sklearn/linear_model/stochastic_gradient.py:1219: ConvergenceWarning: Maximum number of iteration reached before convergence. Consider increasing max_iter to improve the fit.\n",
      "  ConvergenceWarning)\n",
      " 17%|█▋        | 170/1000 [01:45<09:20,  1.48it/s]/Applications/anaconda/lib/python3.6/site-packages/sklearn/linear_model/stochastic_gradient.py:1219: ConvergenceWarning: Maximum number of iteration reached before convergence. Consider increasing max_iter to improve the fit.\n",
      "  ConvergenceWarning)\n",
      " 18%|█▊        | 184/1000 [01:53<09:08,  1.49it/s]/Applications/anaconda/lib/python3.6/site-packages/sklearn/linear_model/stochastic_gradient.py:1219: ConvergenceWarning: Maximum number of iteration reached before convergence. Consider increasing max_iter to improve the fit.\n",
      "  ConvergenceWarning)\n",
      " 20%|█▉        | 195/1000 [01:59<07:07,  1.88it/s]/Applications/anaconda/lib/python3.6/site-packages/sklearn/linear_model/stochastic_gradient.py:1219: ConvergenceWarning: Maximum number of iteration reached before convergence. Consider increasing max_iter to improve the fit.\n",
      "  ConvergenceWarning)\n",
      " 20%|█▉        | 196/1000 [02:00<08:38,  1.55it/s]/Applications/anaconda/lib/python3.6/site-packages/sklearn/linear_model/stochastic_gradient.py:1219: ConvergenceWarning: Maximum number of iteration reached before convergence. Consider increasing max_iter to improve the fit.\n",
      "  ConvergenceWarning)\n",
      " 20%|█▉        | 197/1000 [02:01<09:35,  1.39it/s]/Applications/anaconda/lib/python3.6/site-packages/sklearn/linear_model/stochastic_gradient.py:1219: ConvergenceWarning: Maximum number of iteration reached before convergence. Consider increasing max_iter to improve the fit.\n",
      "  ConvergenceWarning)\n",
      " 20%|██        | 203/1000 [02:05<08:09,  1.63it/s]/Applications/anaconda/lib/python3.6/site-packages/sklearn/linear_model/stochastic_gradient.py:1219: ConvergenceWarning: Maximum number of iteration reached before convergence. Consider increasing max_iter to improve the fit.\n",
      "  ConvergenceWarning)\n",
      " 21%|██        | 212/1000 [02:10<06:44,  1.95it/s]/Applications/anaconda/lib/python3.6/site-packages/sklearn/linear_model/stochastic_gradient.py:1219: ConvergenceWarning: Maximum number of iteration reached before convergence. Consider increasing max_iter to improve the fit.\n",
      "  ConvergenceWarning)\n",
      " 22%|██▏       | 222/1000 [02:16<07:41,  1.69it/s]/Applications/anaconda/lib/python3.6/site-packages/sklearn/linear_model/stochastic_gradient.py:1219: ConvergenceWarning: Maximum number of iteration reached before convergence. Consider increasing max_iter to improve the fit.\n",
      "  ConvergenceWarning)\n",
      " 23%|██▎       | 232/1000 [02:22<07:00,  1.83it/s]/Applications/anaconda/lib/python3.6/site-packages/sklearn/linear_model/stochastic_gradient.py:1219: ConvergenceWarning: Maximum number of iteration reached before convergence. Consider increasing max_iter to improve the fit.\n",
      "  ConvergenceWarning)\n",
      " 23%|██▎       | 234/1000 [02:24<08:32,  1.50it/s]/Applications/anaconda/lib/python3.6/site-packages/sklearn/linear_model/stochastic_gradient.py:1219: ConvergenceWarning: Maximum number of iteration reached before convergence. Consider increasing max_iter to improve the fit.\n",
      "  ConvergenceWarning)\n",
      " 25%|██▌       | 251/1000 [02:34<07:50,  1.59it/s]/Applications/anaconda/lib/python3.6/site-packages/sklearn/linear_model/stochastic_gradient.py:1219: ConvergenceWarning: Maximum number of iteration reached before convergence. Consider increasing max_iter to improve the fit.\n",
      "  ConvergenceWarning)\n",
      " 25%|██▌       | 254/1000 [02:37<08:51,  1.40it/s]/Applications/anaconda/lib/python3.6/site-packages/sklearn/linear_model/stochastic_gradient.py:1219: ConvergenceWarning: Maximum number of iteration reached before convergence. Consider increasing max_iter to improve the fit.\n",
      "  ConvergenceWarning)\n",
      " 26%|██▌       | 258/1000 [02:40<09:34,  1.29it/s]/Applications/anaconda/lib/python3.6/site-packages/sklearn/linear_model/stochastic_gradient.py:1219: ConvergenceWarning: Maximum number of iteration reached before convergence. Consider increasing max_iter to improve the fit.\n",
      "  ConvergenceWarning)\n",
      " 26%|██▌       | 259/1000 [02:41<10:07,  1.22it/s]/Applications/anaconda/lib/python3.6/site-packages/sklearn/linear_model/stochastic_gradient.py:1219: ConvergenceWarning: Maximum number of iteration reached before convergence. Consider increasing max_iter to improve the fit.\n",
      "  ConvergenceWarning)\n",
      " 27%|██▋       | 266/1000 [02:45<07:37,  1.60it/s]/Applications/anaconda/lib/python3.6/site-packages/sklearn/linear_model/stochastic_gradient.py:1219: ConvergenceWarning: Maximum number of iteration reached before convergence. Consider increasing max_iter to improve the fit.\n",
      "  ConvergenceWarning)\n",
      " 27%|██▋       | 271/1000 [02:48<06:54,  1.76it/s]/Applications/anaconda/lib/python3.6/site-packages/sklearn/linear_model/stochastic_gradient.py:1219: ConvergenceWarning: Maximum number of iteration reached before convergence. Consider increasing max_iter to improve the fit.\n",
      "  ConvergenceWarning)\n",
      " 28%|██▊       | 275/1000 [02:51<07:01,  1.72it/s]/Applications/anaconda/lib/python3.6/site-packages/sklearn/linear_model/stochastic_gradient.py:1219: ConvergenceWarning: Maximum number of iteration reached before convergence. Consider increasing max_iter to improve the fit.\n",
      "  ConvergenceWarning)\n",
      " 28%|██▊       | 281/1000 [02:54<06:44,  1.78it/s]/Applications/anaconda/lib/python3.6/site-packages/sklearn/linear_model/stochastic_gradient.py:1219: ConvergenceWarning: Maximum number of iteration reached before convergence. Consider increasing max_iter to improve the fit.\n",
      "  ConvergenceWarning)\n",
      " 28%|██▊       | 284/1000 [02:56<06:23,  1.87it/s]/Applications/anaconda/lib/python3.6/site-packages/sklearn/linear_model/stochastic_gradient.py:1219: ConvergenceWarning: Maximum number of iteration reached before convergence. Consider increasing max_iter to improve the fit.\n",
      "  ConvergenceWarning)\n",
      " 29%|██▉       | 289/1000 [02:59<07:07,  1.66it/s]/Applications/anaconda/lib/python3.6/site-packages/sklearn/linear_model/stochastic_gradient.py:1219: ConvergenceWarning: Maximum number of iteration reached before convergence. Consider increasing max_iter to improve the fit.\n",
      "  ConvergenceWarning)\n",
      " 29%|██▉       | 291/1000 [03:01<08:04,  1.46it/s]/Applications/anaconda/lib/python3.6/site-packages/sklearn/linear_model/stochastic_gradient.py:1219: ConvergenceWarning: Maximum number of iteration reached before convergence. Consider increasing max_iter to improve the fit.\n",
      "  ConvergenceWarning)\n",
      " 34%|███▎      | 336/1000 [03:28<05:39,  1.96it/s]/Applications/anaconda/lib/python3.6/site-packages/sklearn/linear_model/stochastic_gradient.py:1219: ConvergenceWarning: Maximum number of iteration reached before convergence. Consider increasing max_iter to improve the fit.\n",
      "  ConvergenceWarning)\n",
      " 34%|███▍      | 340/1000 [03:30<06:39,  1.65it/s]/Applications/anaconda/lib/python3.6/site-packages/sklearn/linear_model/stochastic_gradient.py:1219: ConvergenceWarning: Maximum number of iteration reached before convergence. Consider increasing max_iter to improve the fit.\n",
      "  ConvergenceWarning)\n",
      " 34%|███▍      | 345/1000 [03:34<06:38,  1.64it/s]/Applications/anaconda/lib/python3.6/site-packages/sklearn/linear_model/stochastic_gradient.py:1219: ConvergenceWarning: Maximum number of iteration reached before convergence. Consider increasing max_iter to improve the fit.\n",
      "  ConvergenceWarning)\n",
      " 35%|███▍      | 347/1000 [03:35<06:50,  1.59it/s]/Applications/anaconda/lib/python3.6/site-packages/sklearn/linear_model/stochastic_gradient.py:1219: ConvergenceWarning: Maximum number of iteration reached before convergence. Consider increasing max_iter to improve the fit.\n",
      "  ConvergenceWarning)\n",
      " 35%|███▌      | 352/1000 [03:38<06:50,  1.58it/s]/Applications/anaconda/lib/python3.6/site-packages/sklearn/linear_model/stochastic_gradient.py:1219: ConvergenceWarning: Maximum number of iteration reached before convergence. Consider increasing max_iter to improve the fit.\n",
      "  ConvergenceWarning)\n",
      " 36%|███▌      | 356/1000 [03:41<07:12,  1.49it/s]/Applications/anaconda/lib/python3.6/site-packages/sklearn/linear_model/stochastic_gradient.py:1219: ConvergenceWarning: Maximum number of iteration reached before convergence. Consider increasing max_iter to improve the fit.\n",
      "  ConvergenceWarning)\n",
      " 36%|███▋      | 365/1000 [03:46<05:59,  1.77it/s]/Applications/anaconda/lib/python3.6/site-packages/sklearn/linear_model/stochastic_gradient.py:1219: ConvergenceWarning: Maximum number of iteration reached before convergence. Consider increasing max_iter to improve the fit.\n",
      "  ConvergenceWarning)\n",
      " 37%|███▋      | 369/1000 [03:49<06:31,  1.61it/s]/Applications/anaconda/lib/python3.6/site-packages/sklearn/linear_model/stochastic_gradient.py:1219: ConvergenceWarning: Maximum number of iteration reached before convergence. Consider increasing max_iter to improve the fit.\n",
      "  ConvergenceWarning)\n",
      " 39%|███▉      | 389/1000 [04:00<05:57,  1.71it/s]/Applications/anaconda/lib/python3.6/site-packages/sklearn/linear_model/stochastic_gradient.py:1219: ConvergenceWarning: Maximum number of iteration reached before convergence. Consider increasing max_iter to improve the fit.\n",
      "  ConvergenceWarning)\n",
      " 39%|███▉      | 393/1000 [04:03<07:00,  1.44it/s]/Applications/anaconda/lib/python3.6/site-packages/sklearn/linear_model/stochastic_gradient.py:1219: ConvergenceWarning: Maximum number of iteration reached before convergence. Consider increasing max_iter to improve the fit.\n",
      "  ConvergenceWarning)\n",
      " 40%|███▉      | 397/1000 [04:06<07:03,  1.42it/s]/Applications/anaconda/lib/python3.6/site-packages/sklearn/linear_model/stochastic_gradient.py:1219: ConvergenceWarning: Maximum number of iteration reached before convergence. Consider increasing max_iter to improve the fit.\n",
      "  ConvergenceWarning)\n",
      " 41%|████      | 407/1000 [04:12<05:40,  1.74it/s]/Applications/anaconda/lib/python3.6/site-packages/sklearn/linear_model/stochastic_gradient.py:1219: ConvergenceWarning: Maximum number of iteration reached before convergence. Consider increasing max_iter to improve the fit.\n",
      "  ConvergenceWarning)\n",
      " 42%|████▏     | 423/1000 [04:22<05:25,  1.77it/s]/Applications/anaconda/lib/python3.6/site-packages/sklearn/linear_model/stochastic_gradient.py:1219: ConvergenceWarning: Maximum number of iteration reached before convergence. Consider increasing max_iter to improve the fit.\n",
      "  ConvergenceWarning)\n",
      " 43%|████▎     | 428/1000 [04:25<05:29,  1.74it/s]/Applications/anaconda/lib/python3.6/site-packages/sklearn/linear_model/stochastic_gradient.py:1219: ConvergenceWarning: Maximum number of iteration reached before convergence. Consider increasing max_iter to improve the fit.\n",
      "  ConvergenceWarning)\n",
      " 44%|████▍     | 440/1000 [04:32<04:57,  1.88it/s]/Applications/anaconda/lib/python3.6/site-packages/sklearn/linear_model/stochastic_gradient.py:1219: ConvergenceWarning: Maximum number of iteration reached before convergence. Consider increasing max_iter to improve the fit.\n",
      "  ConvergenceWarning)\n",
      " 44%|████▍     | 444/1000 [04:34<04:54,  1.89it/s]/Applications/anaconda/lib/python3.6/site-packages/sklearn/linear_model/stochastic_gradient.py:1219: ConvergenceWarning: Maximum number of iteration reached before convergence. Consider increasing max_iter to improve the fit.\n",
      "  ConvergenceWarning)\n",
      " 44%|████▍     | 445/1000 [04:35<05:44,  1.61it/s]/Applications/anaconda/lib/python3.6/site-packages/sklearn/linear_model/stochastic_gradient.py:1219: ConvergenceWarning: Maximum number of iteration reached before convergence. Consider increasing max_iter to improve the fit.\n",
      "  ConvergenceWarning)\n",
      " 45%|████▌     | 452/1000 [04:39<05:16,  1.73it/s]/Applications/anaconda/lib/python3.6/site-packages/sklearn/linear_model/stochastic_gradient.py:1219: ConvergenceWarning: Maximum number of iteration reached before convergence. Consider increasing max_iter to improve the fit.\n",
      "  ConvergenceWarning)\n",
      " 46%|████▋     | 464/1000 [04:46<05:06,  1.75it/s]/Applications/anaconda/lib/python3.6/site-packages/sklearn/linear_model/stochastic_gradient.py:1219: ConvergenceWarning: Maximum number of iteration reached before convergence. Consider increasing max_iter to improve the fit.\n",
      "  ConvergenceWarning)\n",
      " 47%|████▋     | 470/1000 [04:49<04:49,  1.83it/s]/Applications/anaconda/lib/python3.6/site-packages/sklearn/linear_model/stochastic_gradient.py:1219: ConvergenceWarning: Maximum number of iteration reached before convergence. Consider increasing max_iter to improve the fit.\n",
      "  ConvergenceWarning)\n",
      " 47%|████▋     | 471/1000 [04:50<05:36,  1.57it/s]/Applications/anaconda/lib/python3.6/site-packages/sklearn/linear_model/stochastic_gradient.py:1219: ConvergenceWarning: Maximum number of iteration reached before convergence. Consider increasing max_iter to improve the fit.\n",
      "  ConvergenceWarning)\n",
      " 47%|████▋     | 474/1000 [04:53<06:16,  1.40it/s]/Applications/anaconda/lib/python3.6/site-packages/sklearn/linear_model/stochastic_gradient.py:1219: ConvergenceWarning: Maximum number of iteration reached before convergence. Consider increasing max_iter to improve the fit.\n",
      "  ConvergenceWarning)\n",
      " 48%|████▊     | 485/1000 [04:59<05:26,  1.58it/s]/Applications/anaconda/lib/python3.6/site-packages/sklearn/linear_model/stochastic_gradient.py:1219: ConvergenceWarning: Maximum number of iteration reached before convergence. Consider increasing max_iter to improve the fit.\n",
      "  ConvergenceWarning)\n",
      " 49%|████▊     | 486/1000 [05:00<06:10,  1.39it/s]/Applications/anaconda/lib/python3.6/site-packages/sklearn/linear_model/stochastic_gradient.py:1219: ConvergenceWarning: Maximum number of iteration reached before convergence. Consider increasing max_iter to improve the fit.\n",
      "  ConvergenceWarning)\n",
      " 50%|████▉     | 498/1000 [05:07<04:52,  1.72it/s]/Applications/anaconda/lib/python3.6/site-packages/sklearn/linear_model/stochastic_gradient.py:1219: ConvergenceWarning: Maximum number of iteration reached before convergence. Consider increasing max_iter to improve the fit.\n",
      "  ConvergenceWarning)\n",
      " 50%|█████     | 501/1000 [05:10<05:46,  1.44it/s]/Applications/anaconda/lib/python3.6/site-packages/sklearn/linear_model/stochastic_gradient.py:1219: ConvergenceWarning: Maximum number of iteration reached before convergence. Consider increasing max_iter to improve the fit.\n",
      "  ConvergenceWarning)\n",
      " 52%|█████▏    | 516/1000 [05:18<04:39,  1.73it/s]/Applications/anaconda/lib/python3.6/site-packages/sklearn/linear_model/stochastic_gradient.py:1219: ConvergenceWarning: Maximum number of iteration reached before convergence. Consider increasing max_iter to improve the fit.\n",
      "  ConvergenceWarning)\n",
      " 52%|█████▏    | 520/1000 [05:20<04:27,  1.79it/s]/Applications/anaconda/lib/python3.6/site-packages/sklearn/linear_model/stochastic_gradient.py:1219: ConvergenceWarning: Maximum number of iteration reached before convergence. Consider increasing max_iter to improve the fit.\n",
      "  ConvergenceWarning)\n",
      " 54%|█████▎    | 535/1000 [05:29<03:58,  1.95it/s]/Applications/anaconda/lib/python3.6/site-packages/sklearn/linear_model/stochastic_gradient.py:1219: ConvergenceWarning: Maximum number of iteration reached before convergence. Consider increasing max_iter to improve the fit.\n",
      "  ConvergenceWarning)\n",
      " 55%|█████▍    | 545/1000 [05:34<04:06,  1.84it/s]/Applications/anaconda/lib/python3.6/site-packages/sklearn/linear_model/stochastic_gradient.py:1219: ConvergenceWarning: Maximum number of iteration reached before convergence. Consider increasing max_iter to improve the fit.\n",
      "  ConvergenceWarning)\n",
      " 55%|█████▍    | 547/1000 [05:36<04:41,  1.61it/s]/Applications/anaconda/lib/python3.6/site-packages/sklearn/linear_model/stochastic_gradient.py:1219: ConvergenceWarning: Maximum number of iteration reached before convergence. Consider increasing max_iter to improve the fit.\n",
      "  ConvergenceWarning)\n",
      " 56%|█████▌    | 557/1000 [05:42<04:51,  1.52it/s]/Applications/anaconda/lib/python3.6/site-packages/sklearn/linear_model/stochastic_gradient.py:1219: ConvergenceWarning: Maximum number of iteration reached before convergence. Consider increasing max_iter to improve the fit.\n",
      "  ConvergenceWarning)\n",
      " 56%|█████▋    | 564/1000 [05:46<04:20,  1.67it/s]/Applications/anaconda/lib/python3.6/site-packages/sklearn/linear_model/stochastic_gradient.py:1219: ConvergenceWarning: Maximum number of iteration reached before convergence. Consider increasing max_iter to improve the fit.\n",
      "  ConvergenceWarning)\n",
      " 58%|█████▊    | 580/1000 [05:55<03:37,  1.93it/s]/Applications/anaconda/lib/python3.6/site-packages/sklearn/linear_model/stochastic_gradient.py:1219: ConvergenceWarning: Maximum number of iteration reached before convergence. Consider increasing max_iter to improve the fit.\n",
      "  ConvergenceWarning)\n",
      " 59%|█████▊    | 586/1000 [05:59<04:11,  1.64it/s]/Applications/anaconda/lib/python3.6/site-packages/sklearn/linear_model/stochastic_gradient.py:1219: ConvergenceWarning: Maximum number of iteration reached before convergence. Consider increasing max_iter to improve the fit.\n",
      "  ConvergenceWarning)\n",
      " 60%|█████▉    | 598/1000 [06:07<05:19,  1.26it/s]/Applications/anaconda/lib/python3.6/site-packages/sklearn/linear_model/stochastic_gradient.py:1219: ConvergenceWarning: Maximum number of iteration reached before convergence. Consider increasing max_iter to improve the fit.\n",
      "  ConvergenceWarning)\n",
      " 60%|██████    | 603/1000 [06:11<04:39,  1.42it/s]/Applications/anaconda/lib/python3.6/site-packages/sklearn/linear_model/stochastic_gradient.py:1219: ConvergenceWarning: Maximum number of iteration reached before convergence. Consider increasing max_iter to improve the fit.\n",
      "  ConvergenceWarning)\n",
      " 61%|██████    | 607/1000 [06:14<04:27,  1.47it/s]/Applications/anaconda/lib/python3.6/site-packages/sklearn/linear_model/stochastic_gradient.py:1219: ConvergenceWarning: Maximum number of iteration reached before convergence. Consider increasing max_iter to improve the fit.\n",
      "  ConvergenceWarning)\n",
      " 61%|██████    | 610/1000 [06:16<04:31,  1.44it/s]/Applications/anaconda/lib/python3.6/site-packages/sklearn/linear_model/stochastic_gradient.py:1219: ConvergenceWarning: Maximum number of iteration reached before convergence. Consider increasing max_iter to improve the fit.\n",
      "  ConvergenceWarning)\n",
      " 61%|██████▏   | 613/1000 [06:18<04:47,  1.35it/s]/Applications/anaconda/lib/python3.6/site-packages/sklearn/linear_model/stochastic_gradient.py:1219: ConvergenceWarning: Maximum number of iteration reached before convergence. Consider increasing max_iter to improve the fit.\n",
      "  ConvergenceWarning)\n",
      " 61%|██████▏   | 614/1000 [06:20<05:31,  1.17it/s]/Applications/anaconda/lib/python3.6/site-packages/sklearn/linear_model/stochastic_gradient.py:1219: ConvergenceWarning: Maximum number of iteration reached before convergence. Consider increasing max_iter to improve the fit.\n",
      "  ConvergenceWarning)\n",
      " 62%|██████▏   | 623/1000 [06:25<04:03,  1.55it/s]/Applications/anaconda/lib/python3.6/site-packages/sklearn/linear_model/stochastic_gradient.py:1219: ConvergenceWarning: Maximum number of iteration reached before convergence. Consider increasing max_iter to improve the fit.\n",
      "  ConvergenceWarning)\n",
      " 63%|██████▎   | 627/1000 [06:28<03:48,  1.63it/s]/Applications/anaconda/lib/python3.6/site-packages/sklearn/linear_model/stochastic_gradient.py:1219: ConvergenceWarning: Maximum number of iteration reached before convergence. Consider increasing max_iter to improve the fit.\n",
      "  ConvergenceWarning)\n",
      " 64%|██████▍   | 638/1000 [06:35<03:10,  1.90it/s]/Applications/anaconda/lib/python3.6/site-packages/sklearn/linear_model/stochastic_gradient.py:1219: ConvergenceWarning: Maximum number of iteration reached before convergence. Consider increasing max_iter to improve the fit.\n",
      "  ConvergenceWarning)\n",
      " 65%|██████▍   | 647/1000 [06:40<03:51,  1.52it/s]/Applications/anaconda/lib/python3.6/site-packages/sklearn/linear_model/stochastic_gradient.py:1219: ConvergenceWarning: Maximum number of iteration reached before convergence. Consider increasing max_iter to improve the fit.\n",
      "  ConvergenceWarning)\n",
      " 66%|██████▌   | 660/1000 [06:48<03:26,  1.65it/s]/Applications/anaconda/lib/python3.6/site-packages/sklearn/linear_model/stochastic_gradient.py:1219: ConvergenceWarning: Maximum number of iteration reached before convergence. Consider increasing max_iter to improve the fit.\n",
      "  ConvergenceWarning)\n",
      " 66%|██████▋   | 664/1000 [06:51<03:25,  1.64it/s]/Applications/anaconda/lib/python3.6/site-packages/sklearn/linear_model/stochastic_gradient.py:1219: ConvergenceWarning: Maximum number of iteration reached before convergence. Consider increasing max_iter to improve the fit.\n",
      "  ConvergenceWarning)\n",
      " 67%|██████▋   | 670/1000 [06:54<02:53,  1.90it/s]/Applications/anaconda/lib/python3.6/site-packages/sklearn/linear_model/stochastic_gradient.py:1219: ConvergenceWarning: Maximum number of iteration reached before convergence. Consider increasing max_iter to improve the fit.\n",
      "  ConvergenceWarning)\n",
      " 68%|██████▊   | 680/1000 [07:01<03:29,  1.53it/s]/Applications/anaconda/lib/python3.6/site-packages/sklearn/linear_model/stochastic_gradient.py:1219: ConvergenceWarning: Maximum number of iteration reached before convergence. Consider increasing max_iter to improve the fit.\n",
      "  ConvergenceWarning)\n",
      " 68%|██████▊   | 682/1000 [07:02<03:21,  1.58it/s]/Applications/anaconda/lib/python3.6/site-packages/sklearn/linear_model/stochastic_gradient.py:1219: ConvergenceWarning: Maximum number of iteration reached before convergence. Consider increasing max_iter to improve the fit.\n",
      "  ConvergenceWarning)\n",
      " 71%|███████▏  | 714/1000 [07:21<02:46,  1.71it/s]/Applications/anaconda/lib/python3.6/site-packages/sklearn/linear_model/stochastic_gradient.py:1219: ConvergenceWarning: Maximum number of iteration reached before convergence. Consider increasing max_iter to improve the fit.\n",
      "  ConvergenceWarning)\n",
      " 72%|███████▎  | 725/1000 [07:27<02:24,  1.90it/s]/Applications/anaconda/lib/python3.6/site-packages/sklearn/linear_model/stochastic_gradient.py:1219: ConvergenceWarning: Maximum number of iteration reached before convergence. Consider increasing max_iter to improve the fit.\n",
      "  ConvergenceWarning)\n",
      " 74%|███████▍  | 743/1000 [07:38<02:17,  1.87it/s]/Applications/anaconda/lib/python3.6/site-packages/sklearn/linear_model/stochastic_gradient.py:1219: ConvergenceWarning: Maximum number of iteration reached before convergence. Consider increasing max_iter to improve the fit.\n",
      "  ConvergenceWarning)\n",
      " 75%|███████▍  | 747/1000 [07:40<02:21,  1.79it/s]/Applications/anaconda/lib/python3.6/site-packages/sklearn/linear_model/stochastic_gradient.py:1219: ConvergenceWarning: Maximum number of iteration reached before convergence. Consider increasing max_iter to improve the fit.\n",
      "  ConvergenceWarning)\n",
      " 75%|███████▌  | 754/1000 [07:44<02:14,  1.83it/s]/Applications/anaconda/lib/python3.6/site-packages/sklearn/linear_model/stochastic_gradient.py:1219: ConvergenceWarning: Maximum number of iteration reached before convergence. Consider increasing max_iter to improve the fit.\n",
      "  ConvergenceWarning)\n",
      " 77%|███████▋  | 770/1000 [07:54<02:14,  1.71it/s]/Applications/anaconda/lib/python3.6/site-packages/sklearn/linear_model/stochastic_gradient.py:1219: ConvergenceWarning: Maximum number of iteration reached before convergence. Consider increasing max_iter to improve the fit.\n",
      "  ConvergenceWarning)\n",
      " 78%|███████▊  | 778/1000 [07:59<02:23,  1.55it/s]/Applications/anaconda/lib/python3.6/site-packages/sklearn/linear_model/stochastic_gradient.py:1219: ConvergenceWarning: Maximum number of iteration reached before convergence. Consider increasing max_iter to improve the fit.\n",
      "  ConvergenceWarning)\n",
      " 79%|███████▉  | 791/1000 [08:07<02:10,  1.61it/s]/Applications/anaconda/lib/python3.6/site-packages/sklearn/linear_model/stochastic_gradient.py:1219: ConvergenceWarning: Maximum number of iteration reached before convergence. Consider increasing max_iter to improve the fit.\n",
      "  ConvergenceWarning)\n",
      " 79%|███████▉  | 792/1000 [08:08<02:24,  1.44it/s]/Applications/anaconda/lib/python3.6/site-packages/sklearn/linear_model/stochastic_gradient.py:1219: ConvergenceWarning: Maximum number of iteration reached before convergence. Consider increasing max_iter to improve the fit.\n",
      "  ConvergenceWarning)\n",
      " 81%|████████  | 806/1000 [08:16<01:46,  1.82it/s]/Applications/anaconda/lib/python3.6/site-packages/sklearn/linear_model/stochastic_gradient.py:1219: ConvergenceWarning: Maximum number of iteration reached before convergence. Consider increasing max_iter to improve the fit.\n",
      "  ConvergenceWarning)\n",
      " 81%|████████▏ | 814/1000 [08:21<01:33,  1.98it/s]/Applications/anaconda/lib/python3.6/site-packages/sklearn/linear_model/stochastic_gradient.py:1219: ConvergenceWarning: Maximum number of iteration reached before convergence. Consider increasing max_iter to improve the fit.\n",
      "  ConvergenceWarning)\n",
      " 83%|████████▎ | 827/1000 [08:31<02:10,  1.33it/s]/Applications/anaconda/lib/python3.6/site-packages/sklearn/linear_model/stochastic_gradient.py:1219: ConvergenceWarning: Maximum number of iteration reached before convergence. Consider increasing max_iter to improve the fit.\n",
      "  ConvergenceWarning)\n",
      " 84%|████████▍ | 839/1000 [08:37<01:33,  1.72it/s]/Applications/anaconda/lib/python3.6/site-packages/sklearn/linear_model/stochastic_gradient.py:1219: ConvergenceWarning: Maximum number of iteration reached before convergence. Consider increasing max_iter to improve the fit.\n",
      "  ConvergenceWarning)\n",
      " 84%|████████▍ | 843/1000 [08:40<01:47,  1.46it/s]/Applications/anaconda/lib/python3.6/site-packages/sklearn/linear_model/stochastic_gradient.py:1219: ConvergenceWarning: Maximum number of iteration reached before convergence. Consider increasing max_iter to improve the fit.\n",
      "  ConvergenceWarning)\n",
      " 84%|████████▍ | 844/1000 [08:41<01:48,  1.44it/s]/Applications/anaconda/lib/python3.6/site-packages/sklearn/linear_model/stochastic_gradient.py:1219: ConvergenceWarning: Maximum number of iteration reached before convergence. Consider increasing max_iter to improve the fit.\n",
      "  ConvergenceWarning)\n",
      " 84%|████████▍ | 845/1000 [08:42<01:52,  1.38it/s]/Applications/anaconda/lib/python3.6/site-packages/sklearn/linear_model/stochastic_gradient.py:1219: ConvergenceWarning: Maximum number of iteration reached before convergence. Consider increasing max_iter to improve the fit.\n",
      "  ConvergenceWarning)\n",
      " 85%|████████▌ | 852/1000 [08:46<01:18,  1.88it/s]/Applications/anaconda/lib/python3.6/site-packages/sklearn/linear_model/stochastic_gradient.py:1219: ConvergenceWarning: Maximum number of iteration reached before convergence. Consider increasing max_iter to improve the fit.\n",
      "  ConvergenceWarning)\n",
      " 85%|████████▌ | 853/1000 [08:47<01:32,  1.60it/s]/Applications/anaconda/lib/python3.6/site-packages/sklearn/linear_model/stochastic_gradient.py:1219: ConvergenceWarning: Maximum number of iteration reached before convergence. Consider increasing max_iter to improve the fit.\n",
      "  ConvergenceWarning)\n",
      " 86%|████████▌ | 859/1000 [08:50<01:18,  1.80it/s]/Applications/anaconda/lib/python3.6/site-packages/sklearn/linear_model/stochastic_gradient.py:1219: ConvergenceWarning: Maximum number of iteration reached before convergence. Consider increasing max_iter to improve the fit.\n",
      "  ConvergenceWarning)\n",
      " 86%|████████▌ | 862/1000 [08:52<01:23,  1.65it/s]/Applications/anaconda/lib/python3.6/site-packages/sklearn/linear_model/stochastic_gradient.py:1219: ConvergenceWarning: Maximum number of iteration reached before convergence. Consider increasing max_iter to improve the fit.\n",
      "  ConvergenceWarning)\n",
      " 86%|████████▋ | 864/1000 [08:54<01:35,  1.42it/s]/Applications/anaconda/lib/python3.6/site-packages/sklearn/linear_model/stochastic_gradient.py:1219: ConvergenceWarning: Maximum number of iteration reached before convergence. Consider increasing max_iter to improve the fit.\n",
      "  ConvergenceWarning)\n",
      " 88%|████████▊ | 877/1000 [09:04<01:18,  1.56it/s]/Applications/anaconda/lib/python3.6/site-packages/sklearn/linear_model/stochastic_gradient.py:1219: ConvergenceWarning: Maximum number of iteration reached before convergence. Consider increasing max_iter to improve the fit.\n",
      "  ConvergenceWarning)\n",
      " 89%|████████▉ | 889/1000 [09:12<01:14,  1.49it/s]/Applications/anaconda/lib/python3.6/site-packages/sklearn/linear_model/stochastic_gradient.py:1219: ConvergenceWarning: Maximum number of iteration reached before convergence. Consider increasing max_iter to improve the fit.\n",
      "  ConvergenceWarning)\n",
      " 90%|████████▉ | 895/1000 [09:18<01:47,  1.02s/it]/Applications/anaconda/lib/python3.6/site-packages/sklearn/linear_model/stochastic_gradient.py:1219: ConvergenceWarning: Maximum number of iteration reached before convergence. Consider increasing max_iter to improve the fit.\n",
      "  ConvergenceWarning)\n",
      " 90%|████████▉ | 896/1000 [09:19<01:48,  1.04s/it]/Applications/anaconda/lib/python3.6/site-packages/sklearn/linear_model/stochastic_gradient.py:1219: ConvergenceWarning: Maximum number of iteration reached before convergence. Consider increasing max_iter to improve the fit.\n",
      "  ConvergenceWarning)\n",
      " 90%|█████████ | 900/1000 [09:23<01:23,  1.20it/s]/Applications/anaconda/lib/python3.6/site-packages/sklearn/linear_model/stochastic_gradient.py:1219: ConvergenceWarning: Maximum number of iteration reached before convergence. Consider increasing max_iter to improve the fit.\n",
      "  ConvergenceWarning)\n",
      " 91%|█████████ | 908/1000 [09:27<00:53,  1.73it/s]/Applications/anaconda/lib/python3.6/site-packages/sklearn/linear_model/stochastic_gradient.py:1219: ConvergenceWarning: Maximum number of iteration reached before convergence. Consider increasing max_iter to improve the fit.\n",
      "  ConvergenceWarning)\n",
      " 93%|█████████▎| 927/1000 [09:38<00:43,  1.68it/s]/Applications/anaconda/lib/python3.6/site-packages/sklearn/linear_model/stochastic_gradient.py:1219: ConvergenceWarning: Maximum number of iteration reached before convergence. Consider increasing max_iter to improve the fit.\n",
      "  ConvergenceWarning)\n",
      " 94%|█████████▍| 938/1000 [09:46<00:41,  1.49it/s]/Applications/anaconda/lib/python3.6/site-packages/sklearn/linear_model/stochastic_gradient.py:1219: ConvergenceWarning: Maximum number of iteration reached before convergence. Consider increasing max_iter to improve the fit.\n",
      "  ConvergenceWarning)\n",
      " 94%|█████████▍| 943/1000 [09:51<00:52,  1.08it/s]/Applications/anaconda/lib/python3.6/site-packages/sklearn/linear_model/stochastic_gradient.py:1219: ConvergenceWarning: Maximum number of iteration reached before convergence. Consider increasing max_iter to improve the fit.\n",
      "  ConvergenceWarning)\n",
      " 95%|█████████▍| 949/1000 [09:55<00:35,  1.43it/s]/Applications/anaconda/lib/python3.6/site-packages/sklearn/linear_model/stochastic_gradient.py:1219: ConvergenceWarning: Maximum number of iteration reached before convergence. Consider increasing max_iter to improve the fit.\n",
      "  ConvergenceWarning)\n",
      " 95%|█████████▌| 954/1000 [09:59<00:37,  1.24it/s]/Applications/anaconda/lib/python3.6/site-packages/sklearn/linear_model/stochastic_gradient.py:1219: ConvergenceWarning: Maximum number of iteration reached before convergence. Consider increasing max_iter to improve the fit.\n",
      "  ConvergenceWarning)\n",
      " 97%|█████████▋| 973/1000 [10:13<00:18,  1.47it/s]/Applications/anaconda/lib/python3.6/site-packages/sklearn/linear_model/stochastic_gradient.py:1219: ConvergenceWarning: Maximum number of iteration reached before convergence. Consider increasing max_iter to improve the fit.\n",
      "  ConvergenceWarning)\n",
      " 97%|█████████▋| 974/1000 [10:14<00:19,  1.31it/s]/Applications/anaconda/lib/python3.6/site-packages/sklearn/linear_model/stochastic_gradient.py:1219: ConvergenceWarning: Maximum number of iteration reached before convergence. Consider increasing max_iter to improve the fit.\n",
      "  ConvergenceWarning)\n",
      " 98%|█████████▊| 982/1000 [10:20<00:14,  1.25it/s]/Applications/anaconda/lib/python3.6/site-packages/sklearn/linear_model/stochastic_gradient.py:1219: ConvergenceWarning: Maximum number of iteration reached before convergence. Consider increasing max_iter to improve the fit.\n",
      "  ConvergenceWarning)\n",
      " 99%|█████████▊| 986/1000 [10:24<00:11,  1.20it/s]/Applications/anaconda/lib/python3.6/site-packages/sklearn/linear_model/stochastic_gradient.py:1219: ConvergenceWarning: Maximum number of iteration reached before convergence. Consider increasing max_iter to improve the fit.\n",
      "  ConvergenceWarning)\n",
      "100%|██████████| 1000/1000 [10:34<00:00,  1.38it/s]\n"
     ]
    }
   ],
   "source": [
    "rmses = []\n",
    "for _ in tqdm(range(1000)):\n",
    "    u = next(user_gen)\n",
    "    udf = freqs[freqs.user_id == u]    \n",
    "    vi = udf.beer_id.map(beer_id_to_vecs_index)\n",
    "\n",
    "    xtrain, xtest, ytrain, ytest = train_test_split(vecs[vi, :],\n",
    "                                                    udf.user_pref.values,\n",
    "                                                    test_size = 0.1, random_state=0)\n",
    "    model.fit(xtrain, ytrain)\n",
    "    preds = model.predict(xtest)\n",
    "    diffs = preds - ytest\n",
    "    sumsq = np.dot(diffs, diffs)\n",
    "    rmse = np.sqrt(sumsq / len(diffs))\n",
    "    rmses.append(rmse)"
   ]
  },
  {
   "cell_type": "code",
   "execution_count": 531,
   "metadata": {
    "collapsed": false
   },
   "outputs": [
    {
     "data": {
      "text/plain": [
       "0.40935367156602692"
      ]
     },
     "execution_count": 531,
     "metadata": {},
     "output_type": "execute_result"
    }
   ],
   "source": [
    "# WITH BEER NAME AND BREWERY NAME ADDED TO BAG OF WORDS, AND WITH ABV/10.0, wider min-max_df, FIRST 1000 USERS\n",
    "np.mean(rmses)"
   ]
  },
  {
   "cell_type": "code",
   "execution_count": 533,
   "metadata": {
    "collapsed": false
   },
   "outputs": [
    {
     "data": {
      "text/plain": [
       "0.41102899786202451"
      ]
     },
     "execution_count": 533,
     "metadata": {},
     "output_type": "execute_result"
    }
   ],
   "source": [
    "# WITH BEER NAME AND BREWERY NAME ADDED TO BAG OF WORDS, AND WITH ABV/10.0, wider min-max_df, SECOND 1000 USERS\n",
    "np.mean(rmses)"
   ]
  },
  {
   "cell_type": "code",
   "execution_count": 551,
   "metadata": {
    "collapsed": false
   },
   "outputs": [
    {
     "data": {
      "text/plain": [
       "0.40099016637930346"
      ]
     },
     "execution_count": 551,
     "metadata": {},
     "output_type": "execute_result"
    }
   ],
   "source": [
    "# WITH BEER NAME AND BREWERY NAME ADDED TO BAG OF WORDS, AND WITH ABV/5.0, wider min-max_df, THIRD 1000 USERS\n",
    "np.mean(rmses)"
   ]
  },
  {
   "cell_type": "code",
   "execution_count": 554,
   "metadata": {
    "collapsed": false
   },
   "outputs": [
    {
     "data": {
      "text/plain": [
       "0.39267224585736399"
      ]
     },
     "execution_count": 554,
     "metadata": {},
     "output_type": "execute_result"
    }
   ],
   "source": [
    "# WITH BEER NAME AND BREWERY NAME ADDED TO BAG OF WORDS, AND WITH ABV/2.0, wider min-max_df, FOURTH 1000 USERS\n",
    "np.mean(rmses)"
   ]
  },
  {
   "cell_type": "markdown",
   "metadata": {},
   "source": [
    "abv / 5.0 worked slightly better than abv / 2.0"
   ]
  },
  {
   "cell_type": "code",
   "execution_count": 562,
   "metadata": {
    "collapsed": false
   },
   "outputs": [
    {
     "data": {
      "text/plain": [
       "0.40347976746241548"
      ]
     },
     "execution_count": 562,
     "metadata": {},
     "output_type": "execute_result"
    }
   ],
   "source": [
    "# WITH BEER NAME AND BREWERY NAME ADDED TO BAG OF WORDS, AND WITH ABV/5.0, 10-0.8 min-max_df, FIFTH 1000 USERS\n",
    "np.mean(rmses)"
   ]
  },
  {
   "cell_type": "code",
   "execution_count": 569,
   "metadata": {
    "collapsed": false
   },
   "outputs": [
    {
     "data": {
      "text/plain": [
       "0.3640813027042098"
      ]
     },
     "execution_count": 569,
     "metadata": {},
     "output_type": "execute_result"
    }
   ],
   "source": [
    "# WITH BEER NAME AND BREWERY NAME ADDED TO BAG OF WORDS, AND WITH ABV/5.0, 8-0.67 min-max_df, SIXTH 1000 USERS\n",
    "np.mean(rmses)"
   ]
  },
  {
   "cell_type": "markdown",
   "metadata": {},
   "source": []
  },
  {
   "cell_type": "code",
   "execution_count": 95,
   "metadata": {
    "collapsed": true
   },
   "outputs": [],
   "source": [
    "# boolean array marking which users rated exactly 4 beers\n",
    "fours = checkins.groupby('user_id').size() == 4"
   ]
  },
  {
   "cell_type": "code",
   "execution_count": 96,
   "metadata": {
    "collapsed": false
   },
   "outputs": [
    {
     "data": {
      "text/plain": [
       "8989"
      ]
     },
     "execution_count": 96,
     "metadata": {},
     "output_type": "execute_result"
    }
   ],
   "source": [
    "sum(fours)"
   ]
  },
  {
   "cell_type": "code",
   "execution_count": 97,
   "metadata": {
    "collapsed": false
   },
   "outputs": [
    {
     "data": {
      "text/html": [
       "<div>\n",
       "<style scoped>\n",
       "    .dataframe tbody tr th:only-of-type {\n",
       "        vertical-align: middle;\n",
       "    }\n",
       "\n",
       "    .dataframe tbody tr th {\n",
       "        vertical-align: top;\n",
       "    }\n",
       "\n",
       "    .dataframe thead th {\n",
       "        text-align: right;\n",
       "    }\n",
       "</style>\n",
       "<table border=\"1\" class=\"dataframe\">\n",
       "  <thead>\n",
       "    <tr style=\"text-align: right;\">\n",
       "      <th></th>\n",
       "      <th>user_id</th>\n",
       "      <th>rating_user</th>\n",
       "      <th>brewery_name</th>\n",
       "      <th>beer_name</th>\n",
       "      <th>beer_style</th>\n",
       "      <th>rating_global</th>\n",
       "      <th>abv</th>\n",
       "      <th>beer_description</th>\n",
       "      <th>beer_bias</th>\n",
       "      <th>user_bias</th>\n",
       "      <th>user_pref</th>\n",
       "    </tr>\n",
       "    <tr>\n",
       "      <th>beer_id</th>\n",
       "      <th></th>\n",
       "      <th></th>\n",
       "      <th></th>\n",
       "      <th></th>\n",
       "      <th></th>\n",
       "      <th></th>\n",
       "      <th></th>\n",
       "      <th></th>\n",
       "      <th></th>\n",
       "      <th></th>\n",
       "      <th></th>\n",
       "    </tr>\n",
       "  </thead>\n",
       "  <tbody>\n",
       "    <tr>\n",
       "      <th>2595866</th>\n",
       "      <td>836231</td>\n",
       "      <td>3.25</td>\n",
       "      <td>Stone Brewing</td>\n",
       "      <td>Stone Liberty Station POMMA Said Knock You Out</td>\n",
       "      <td>IPA - Red</td>\n",
       "      <td>3.75349</td>\n",
       "      <td>7.5</td>\n",
       "      <td>Red India Pale Ale w/ Pommegranate made by Pin...</td>\n",
       "      <td>-0.50349</td>\n",
       "      <td>-0.192930</td>\n",
       "      <td>-0.310560</td>\n",
       "    </tr>\n",
       "    <tr>\n",
       "      <th>2595866</th>\n",
       "      <td>310841</td>\n",
       "      <td>4.00</td>\n",
       "      <td>Stone Brewing</td>\n",
       "      <td>Stone Liberty Station POMMA Said Knock You Out</td>\n",
       "      <td>IPA - Red</td>\n",
       "      <td>3.75349</td>\n",
       "      <td>7.5</td>\n",
       "      <td>Red India Pale Ale w/ Pommegranate made by Pin...</td>\n",
       "      <td>0.24651</td>\n",
       "      <td>0.375592</td>\n",
       "      <td>-0.129083</td>\n",
       "    </tr>\n",
       "    <tr>\n",
       "      <th>2595866</th>\n",
       "      <td>2395919</td>\n",
       "      <td>4.00</td>\n",
       "      <td>Stone Brewing</td>\n",
       "      <td>Stone Liberty Station POMMA Said Knock You Out</td>\n",
       "      <td>IPA - Red</td>\n",
       "      <td>3.75349</td>\n",
       "      <td>7.5</td>\n",
       "      <td>Red India Pale Ale w/ Pommegranate made by Pin...</td>\n",
       "      <td>0.24651</td>\n",
       "      <td>0.257727</td>\n",
       "      <td>-0.011218</td>\n",
       "    </tr>\n",
       "    <tr>\n",
       "      <th>301381</th>\n",
       "      <td>13106</td>\n",
       "      <td>3.50</td>\n",
       "      <td>Hop Valley Brewing Company</td>\n",
       "      <td>Citrus Mistress IPA</td>\n",
       "      <td>IPA - American</td>\n",
       "      <td>3.73392</td>\n",
       "      <td>6.5</td>\n",
       "      <td>Munich malt, 4 different hops and grapefruit p...</td>\n",
       "      <td>-0.23392</td>\n",
       "      <td>-0.038338</td>\n",
       "      <td>-0.195582</td>\n",
       "    </tr>\n",
       "    <tr>\n",
       "      <th>2222013</th>\n",
       "      <td>3650609</td>\n",
       "      <td>4.00</td>\n",
       "      <td>Claremont Craft Ales</td>\n",
       "      <td>35 Miles NE</td>\n",
       "      <td>IPA - New England</td>\n",
       "      <td>3.82279</td>\n",
       "      <td>7.0</td>\n",
       "      <td>hazy IPA</td>\n",
       "      <td>0.17721</td>\n",
       "      <td>0.334958</td>\n",
       "      <td>-0.157747</td>\n",
       "    </tr>\n",
       "  </tbody>\n",
       "</table>\n",
       "</div>"
      ],
      "text/plain": [
       "         user_id  rating_user                brewery_name  \\\n",
       "beer_id                                                     \n",
       "2595866   836231         3.25               Stone Brewing   \n",
       "2595866   310841         4.00               Stone Brewing   \n",
       "2595866  2395919         4.00               Stone Brewing   \n",
       "301381     13106         3.50  Hop Valley Brewing Company   \n",
       "2222013  3650609         4.00        Claremont Craft Ales   \n",
       "\n",
       "                                              beer_name         beer_style  \\\n",
       "beer_id                                                                      \n",
       "2595866  Stone Liberty Station POMMA Said Knock You Out          IPA - Red   \n",
       "2595866  Stone Liberty Station POMMA Said Knock You Out          IPA - Red   \n",
       "2595866  Stone Liberty Station POMMA Said Knock You Out          IPA - Red   \n",
       "301381                              Citrus Mistress IPA     IPA - American   \n",
       "2222013                                     35 Miles NE  IPA - New England   \n",
       "\n",
       "         rating_global  abv  \\\n",
       "beer_id                       \n",
       "2595866        3.75349  7.5   \n",
       "2595866        3.75349  7.5   \n",
       "2595866        3.75349  7.5   \n",
       "301381         3.73392  6.5   \n",
       "2222013        3.82279  7.0   \n",
       "\n",
       "                                          beer_description  beer_bias  \\\n",
       "beer_id                                                                 \n",
       "2595866  Red India Pale Ale w/ Pommegranate made by Pin...   -0.50349   \n",
       "2595866  Red India Pale Ale w/ Pommegranate made by Pin...    0.24651   \n",
       "2595866  Red India Pale Ale w/ Pommegranate made by Pin...    0.24651   \n",
       "301381   Munich malt, 4 different hops and grapefruit p...   -0.23392   \n",
       "2222013                                           hazy IPA    0.17721   \n",
       "\n",
       "         user_bias  user_pref  \n",
       "beer_id                        \n",
       "2595866  -0.192930  -0.310560  \n",
       "2595866   0.375592  -0.129083  \n",
       "2595866   0.257727  -0.011218  \n",
       "301381   -0.038338  -0.195582  \n",
       "2222013   0.334958  -0.157747  "
      ]
     },
     "execution_count": 97,
     "metadata": {},
     "output_type": "execute_result"
    }
   ],
   "source": [
    "# use the boolean array as a map to select the 36K checkins of these 9K users\n",
    "fours = checkins[checkins.user_id.map(fours)]\n",
    "fours.head()"
   ]
  },
  {
   "cell_type": "code",
   "execution_count": 136,
   "metadata": {
    "collapsed": true
   },
   "outputs": [],
   "source": [
    "four_gen = (user for user in fours.user_id.unique())"
   ]
  },
  {
   "cell_type": "code",
   "execution_count": 100,
   "metadata": {
    "collapsed": true
   },
   "outputs": [],
   "source": [
    "fours.reset_index(inplace=True)"
   ]
  },
  {
   "cell_type": "code",
   "execution_count": 112,
   "metadata": {
    "collapsed": false
   },
   "outputs": [
    {
     "name": "stderr",
     "output_type": "stream",
     "text": [
      "/Applications/anaconda/lib/python3.6/site-packages/ipykernel/__main__.py:1: SettingWithCopyWarning: \n",
      "A value is trying to be set on a copy of a slice from a DataFrame.\n",
      "Try using .loc[row_indexer,col_indexer] = value instead\n",
      "\n",
      "See the caveats in the documentation: http://pandas.pydata.org/pandas-docs/stable/indexing.html#indexing-view-versus-copy\n",
      "  if __name__ == '__main__':\n"
     ]
    }
   ],
   "source": [
    "fours['beer_description'] = fours.brewery_name + ' ' + fours.beer_name + ' ' + fours.beer_description"
   ]
  },
  {
   "cell_type": "code",
   "execution_count": 113,
   "metadata": {
    "collapsed": false
   },
   "outputs": [
    {
     "data": {
      "text/html": [
       "<div>\n",
       "<style scoped>\n",
       "    .dataframe tbody tr th:only-of-type {\n",
       "        vertical-align: middle;\n",
       "    }\n",
       "\n",
       "    .dataframe tbody tr th {\n",
       "        vertical-align: top;\n",
       "    }\n",
       "\n",
       "    .dataframe thead th {\n",
       "        text-align: right;\n",
       "    }\n",
       "</style>\n",
       "<table border=\"1\" class=\"dataframe\">\n",
       "  <thead>\n",
       "    <tr style=\"text-align: right;\">\n",
       "      <th></th>\n",
       "      <th>beer_id</th>\n",
       "      <th>user_id</th>\n",
       "      <th>rating_user</th>\n",
       "      <th>brewery_name</th>\n",
       "      <th>beer_name</th>\n",
       "      <th>beer_style</th>\n",
       "      <th>rating_global</th>\n",
       "      <th>abv</th>\n",
       "      <th>beer_description</th>\n",
       "      <th>beer_bias</th>\n",
       "      <th>user_bias</th>\n",
       "      <th>user_pref</th>\n",
       "    </tr>\n",
       "  </thead>\n",
       "  <tbody>\n",
       "    <tr>\n",
       "      <th>0</th>\n",
       "      <td>2595866</td>\n",
       "      <td>836231</td>\n",
       "      <td>3.25</td>\n",
       "      <td>Stone Brewing</td>\n",
       "      <td>Stone Liberty Station POMMA Said Knock You Out</td>\n",
       "      <td>IPA - Red</td>\n",
       "      <td>3.75349</td>\n",
       "      <td>7.5</td>\n",
       "      <td>Stone Brewing Stone Liberty Station POMMA Said...</td>\n",
       "      <td>-0.50349</td>\n",
       "      <td>-0.19293</td>\n",
       "      <td>-0.31056</td>\n",
       "    </tr>\n",
       "  </tbody>\n",
       "</table>\n",
       "</div>"
      ],
      "text/plain": [
       "   beer_id  user_id  rating_user   brewery_name  \\\n",
       "0  2595866   836231         3.25  Stone Brewing   \n",
       "\n",
       "                                        beer_name beer_style  rating_global  \\\n",
       "0  Stone Liberty Station POMMA Said Knock You Out  IPA - Red        3.75349   \n",
       "\n",
       "   abv                                   beer_description  beer_bias  \\\n",
       "0  7.5  Stone Brewing Stone Liberty Station POMMA Said...   -0.50349   \n",
       "\n",
       "   user_bias  user_pref  \n",
       "0   -0.19293   -0.31056  "
      ]
     },
     "execution_count": 113,
     "metadata": {},
     "output_type": "execute_result"
    }
   ],
   "source": [
    "fours.head(1)"
   ]
  },
  {
   "cell_type": "code",
   "execution_count": 101,
   "metadata": {
    "collapsed": false
   },
   "outputs": [
    {
     "name": "stderr",
     "output_type": "stream",
     "text": [
      "  3%|▎         | 30/1000 [00:10<05:30,  2.93it/s]/Applications/anaconda/lib/python3.6/site-packages/sklearn/linear_model/stochastic_gradient.py:1219: ConvergenceWarning: Maximum number of iteration reached before convergence. Consider increasing max_iter to improve the fit.\n",
      "  ConvergenceWarning)\n",
      " 46%|████▌     | 458/1000 [02:36<03:08,  2.87it/s]/Applications/anaconda/lib/python3.6/site-packages/sklearn/linear_model/stochastic_gradient.py:1219: ConvergenceWarning: Maximum number of iteration reached before convergence. Consider increasing max_iter to improve the fit.\n",
      "  ConvergenceWarning)\n",
      "100%|██████████| 1000/1000 [05:55<00:00,  2.74it/s]\n"
     ]
    }
   ],
   "source": [
    "rmses = []\n",
    "for _ in tqdm(range(1000)):\n",
    "    u = next(four_gen)\n",
    "    udf = fours[fours.user_id == u]    \n",
    "    vi = udf.beer_id.map(beer_id_to_vecs_index)\n",
    "\n",
    "    xtrain, xtest, ytrain, ytest = train_test_split(vecs[vi, :],\n",
    "                                                    udf.user_pref.values,\n",
    "                                                    test_size = 0.25, random_state=0)\n",
    "    model.fit(xtrain, ytrain)\n",
    "    preds = model.predict(xtest)\n",
    "    diffs = preds - ytest\n",
    "    sumsq = np.dot(diffs, diffs)\n",
    "    rmse = np.sqrt(sumsq / len(diffs))\n",
    "    rmses.append(rmse)"
   ]
  },
  {
   "cell_type": "code",
   "execution_count": 102,
   "metadata": {
    "collapsed": false
   },
   "outputs": [
    {
     "data": {
      "text/plain": [
       "0.2884738178097056"
      ]
     },
     "execution_count": 102,
     "metadata": {},
     "output_type": "execute_result"
    }
   ],
   "source": [
    "# just fours!  first 1000\n",
    "# (so this is users who have only rated 3 beers and we want to predict the fourth, so results won't be great)\n",
    "np.mean(rmses)"
   ]
  },
  {
   "cell_type": "markdown",
   "metadata": {},
   "source": [
    "OK, that's way too low, and highlights the need to calculate the user biases only on the training data."
   ]
  },
  {
   "cell_type": "code",
   "execution_count": 103,
   "metadata": {
    "collapsed": false
   },
   "outputs": [
    {
     "data": {
      "text/plain": [
       "35956"
      ]
     },
     "execution_count": 103,
     "metadata": {},
     "output_type": "execute_result"
    }
   ],
   "source": [
    "# here's the cell where the biases were calculated\n",
    "# Make a column that shows the user's overall \"generosity\" or lack thereof\n",
    "userbiasdict = dict(checkins.groupby('user_id')['beer_bias'].mean())\n",
    "checkins['user_bias'] = checkins.user_id.map(userbiasdict)\n",
    "# and then see how much each rating deviates from that user's baseline bias/generosity\n",
    "checkins['user_pref'] = checkins.beer_bias - checkins.user_bias"
   ]
  },
  {
   "cell_type": "code",
   "execution_count": 135,
   "metadata": {
    "collapsed": true
   },
   "outputs": [],
   "source": [
    "def user_models(df, test_frac, wordvecs, beer_2_vec_map, user_generator, batch_size, rando=0):\n",
    "    '''\n",
    "    @df input has columns indicating the user's ratings biases,\n",
    "    but the training will only use the biases calculate on itself.\n",
    "    '''\n",
    "    rmses = []\n",
    "    for _ in tqdm(range(batch_size)):\n",
    "        u = next(user_generator)\n",
    "        udf = df[df.user_id == u]\n",
    "        ratings = len(udf)\n",
    "        # use the last @test_frac fraction of each user's checkins as the test group\n",
    "        split = int(ratings * (1-test_frac))\n",
    "        utrain = udf.iloc[:split, :]\n",
    "        utest = udf.iloc[split:, :]\n",
    "        # make the corresponding split to the vector indices, vi\n",
    "        vi = udf.beer_id.map(beer_2_vec_map)\n",
    "        trainvecs = wordvecs[vi[:split], :]\n",
    "        testvecs = wordvecs[vi[split:], :]\n",
    "        # calculate the user's avg generosity/stinginess towards KNOWN ratings\n",
    "        known_bias = utrain.beer_bias.mean()\n",
    "        train_targets = utrain.beer_bias - known_bias\n",
    "        # especially after only 3 ratings, those training targets will be changing with each rating,\n",
    "        ##  so these results will not be great if the user's ratings vary much\n",
    "        stop_early = len(utrain) > 10\n",
    "        model = SGDRegressor(penalty='elasticnet', early_stopping=stop_early, validation_fraction=0.1, \n",
    "                     random_state=rando, max_iter=500, tol=1e-4, l1_ratio=0.15)\n",
    "        model.fit(trainvecs, train_targets)\n",
    "        preds = model.predict(testvecs)\n",
    "        diffs = preds - utest.user_pref\n",
    "        sumsq = np.dot(diffs, diffs)\n",
    "        rmse = np.sqrt(sumsq / len(diffs))\n",
    "        rmses.append(rmse)\n",
    "    return np.mean(rmses)"
   ]
  },
  {
   "cell_type": "markdown",
   "metadata": {},
   "source": [
    "Keep this randomly sampled first user's four checkins as an example of how the first 3 checkins can  \n",
    "be vastly misleading for the fourth checkin."
   ]
  },
  {
   "cell_type": "code",
   "execution_count": 116,
   "metadata": {
    "collapsed": false
   },
   "outputs": [
    {
     "data": {
      "text/html": [
       "<div>\n",
       "<style scoped>\n",
       "    .dataframe tbody tr th:only-of-type {\n",
       "        vertical-align: middle;\n",
       "    }\n",
       "\n",
       "    .dataframe tbody tr th {\n",
       "        vertical-align: top;\n",
       "    }\n",
       "\n",
       "    .dataframe thead th {\n",
       "        text-align: right;\n",
       "    }\n",
       "</style>\n",
       "<table border=\"1\" class=\"dataframe\">\n",
       "  <thead>\n",
       "    <tr style=\"text-align: right;\">\n",
       "      <th></th>\n",
       "      <th>beer_id</th>\n",
       "      <th>user_id</th>\n",
       "      <th>rating_user</th>\n",
       "      <th>brewery_name</th>\n",
       "      <th>beer_name</th>\n",
       "      <th>beer_style</th>\n",
       "      <th>rating_global</th>\n",
       "      <th>abv</th>\n",
       "      <th>beer_description</th>\n",
       "      <th>beer_bias</th>\n",
       "      <th>user_bias</th>\n",
       "      <th>user_pref</th>\n",
       "    </tr>\n",
       "  </thead>\n",
       "  <tbody>\n",
       "    <tr>\n",
       "      <th>0</th>\n",
       "      <td>2595866</td>\n",
       "      <td>836231</td>\n",
       "      <td>3.25</td>\n",
       "      <td>Stone Brewing</td>\n",
       "      <td>Stone Liberty Station POMMA Said Knock You Out</td>\n",
       "      <td>IPA - Red</td>\n",
       "      <td>3.75349</td>\n",
       "      <td>7.5</td>\n",
       "      <td>Stone Brewing Stone Liberty Station POMMA Said...</td>\n",
       "      <td>-0.50349</td>\n",
       "      <td>-0.19293</td>\n",
       "      <td>-0.31056</td>\n",
       "    </tr>\n",
       "    <tr>\n",
       "      <th>26960</th>\n",
       "      <td>3383299</td>\n",
       "      <td>836231</td>\n",
       "      <td>3.50</td>\n",
       "      <td>The Fermentorium Beverage Co.</td>\n",
       "      <td>Pilot 0X61: South African DIPA</td>\n",
       "      <td>IPA - Imperial / Double</td>\n",
       "      <td>3.87289</td>\n",
       "      <td>9.0</td>\n",
       "      <td>The Fermentorium Beverage Co. Pilot 0X61: Sout...</td>\n",
       "      <td>-0.37289</td>\n",
       "      <td>-0.19293</td>\n",
       "      <td>-0.17996</td>\n",
       "    </tr>\n",
       "    <tr>\n",
       "      <th>28099</th>\n",
       "      <td>3043409</td>\n",
       "      <td>836231</td>\n",
       "      <td>3.25</td>\n",
       "      <td>Boston Beer Company</td>\n",
       "      <td>Harvest New England IPA</td>\n",
       "      <td>IPA - New England</td>\n",
       "      <td>3.45455</td>\n",
       "      <td>4.6</td>\n",
       "      <td>Boston Beer Company Harvest New England IPA Ha...</td>\n",
       "      <td>-0.20455</td>\n",
       "      <td>-0.19293</td>\n",
       "      <td>-0.01162</td>\n",
       "    </tr>\n",
       "    <tr>\n",
       "      <th>33865</th>\n",
       "      <td>1258262</td>\n",
       "      <td>836231</td>\n",
       "      <td>4.00</td>\n",
       "      <td>One Mile Brewing Co</td>\n",
       "      <td>No Limits IPA</td>\n",
       "      <td>IPA - American</td>\n",
       "      <td>3.69079</td>\n",
       "      <td>6.5</td>\n",
       "      <td>One Mile Brewing Co No Limits IPA Hop driven I...</td>\n",
       "      <td>0.30921</td>\n",
       "      <td>-0.19293</td>\n",
       "      <td>0.50214</td>\n",
       "    </tr>\n",
       "  </tbody>\n",
       "</table>\n",
       "</div>"
      ],
      "text/plain": [
       "       beer_id  user_id  rating_user                   brewery_name  \\\n",
       "0      2595866   836231         3.25                  Stone Brewing   \n",
       "26960  3383299   836231         3.50  The Fermentorium Beverage Co.   \n",
       "28099  3043409   836231         3.25            Boston Beer Company   \n",
       "33865  1258262   836231         4.00            One Mile Brewing Co   \n",
       "\n",
       "                                            beer_name  \\\n",
       "0      Stone Liberty Station POMMA Said Knock You Out   \n",
       "26960                  Pilot 0X61: South African DIPA   \n",
       "28099                         Harvest New England IPA   \n",
       "33865                                   No Limits IPA   \n",
       "\n",
       "                    beer_style  rating_global  abv  \\\n",
       "0                    IPA - Red        3.75349  7.5   \n",
       "26960  IPA - Imperial / Double        3.87289  9.0   \n",
       "28099        IPA - New England        3.45455  4.6   \n",
       "33865           IPA - American        3.69079  6.5   \n",
       "\n",
       "                                        beer_description  beer_bias  \\\n",
       "0      Stone Brewing Stone Liberty Station POMMA Said...   -0.50349   \n",
       "26960  The Fermentorium Beverage Co. Pilot 0X61: Sout...   -0.37289   \n",
       "28099  Boston Beer Company Harvest New England IPA Ha...   -0.20455   \n",
       "33865  One Mile Brewing Co No Limits IPA Hop driven I...    0.30921   \n",
       "\n",
       "       user_bias  user_pref  \n",
       "0       -0.19293   -0.31056  \n",
       "26960   -0.19293   -0.17996  \n",
       "28099   -0.19293   -0.01162  \n",
       "33865   -0.19293    0.50214  "
      ]
     },
     "execution_count": 116,
     "metadata": {},
     "output_type": "execute_result"
    }
   ],
   "source": [
    "fours[fours.user_id == 836231]"
   ]
  },
  {
   "cell_type": "code",
   "execution_count": 137,
   "metadata": {
    "collapsed": false
   },
   "outputs": [
    {
     "name": "stderr",
     "output_type": "stream",
     "text": [
      "100%|██████████| 1000/1000 [04:48<00:00,  3.50it/s]\n"
     ]
    },
    {
     "data": {
      "text/plain": [
       "0.25414542955815506"
      ]
     },
     "execution_count": 137,
     "metadata": {},
     "output_type": "execute_result"
    }
   ],
   "source": [
    "user_models(df=fours,\n",
    "            test_frac=0.25,\n",
    "            wordvecs=vecs,\n",
    "            beer_2_vec_map=beer_id_to_vecs_index,\n",
    "            user_generator=four_gen,\n",
    "            batch_size=1000)"
   ]
  },
  {
   "cell_type": "markdown",
   "metadata": {},
   "source": [
    "So after you get these user preference predictions down to this .25 rmse, you have to calculate what the user would actually rate the beers.  Start with the global mean, add this predicted user preference, and then add a user bias, which should just consist of the known bias of the (user-specific) training set.  This sort of formulation should work best with constant updates to the user's profile (model), adjusting the user bias as you go, and re-training on the new means every checkin.  The overhead isn't much, just a series of 10-20K floats per user, which can be used to initialize the training with a warm start for quicker convergence."
   ]
  },
  {
   "cell_type": "markdown",
   "metadata": {},
   "source": [
    "#### For all users with at least 5 ratings, train this NLP/abv SGDRegressor on all but their last rating, then predict the last, and compare how those predictions do compared to the smart baseline predictions with Pearson similarities between users."
   ]
  },
  {
   "cell_type": "code",
   "execution_count": 142,
   "metadata": {
    "collapsed": false
   },
   "outputs": [
    {
     "name": "stdout",
     "output_type": "stream",
     "text": [
      "1037030\n"
     ]
    },
    {
     "data": {
      "text/plain": [
       "19264"
      ]
     },
     "execution_count": 142,
     "metadata": {},
     "output_type": "execute_result"
    }
   ],
   "source": [
    "fiveplus = checkins.groupby('user_id').size() > 4\n",
    "fiveplus = checkins[checkins.user_id.map(fiveplus)]\n",
    "print(len(fiveplus))\n",
    "fiveplus.user_id.nunique()"
   ]
  },
  {
   "cell_type": "code",
   "execution_count": 429,
   "metadata": {
    "collapsed": false
   },
   "outputs": [],
   "source": [
    "def test_last(df, wordvecs, beer_2_vec_map, last_x=1, rando=0):\n",
    "    '''\n",
    "    @df input has columns indicating the user's ratings biases,\n",
    "    but the training will only use the biases calculated on itself.\n",
    "    '''\n",
    "    # keep scores in this dict\n",
    "    scores = dict()\n",
    "    #nlp_rmses = []\n",
    "    #baseline_rmses = []\n",
    "    \n",
    "    for u in tqdm(df.user_id.unique()):\n",
    "        udf = df[df.user_id == u]\n",
    "        ratings = len(udf)\n",
    "        # use the @last_x of each user's checkins as the test group\n",
    "        split = ratings - last_x\n",
    "        utrain = udf.iloc[:split, :]\n",
    "        utest = udf.iloc[split:, :]\n",
    "        # make the corresponding split to the vector indices, vi\n",
    "        vi = udf.beer_id.map(beer_2_vec_map)\n",
    "        trainvecs = wordvecs[vi[:split], :]\n",
    "        testvecs = wordvecs[vi[split:], :]\n",
    "        # calculate the user's avg generosity/stinginess towards KNOWN ratings\n",
    "        known_bias = utrain.beer_bias.mean()\n",
    "        train_targets = utrain.beer_bias - known_bias\n",
    "        \n",
    "        stop_early = len(utrain) > 10\n",
    "        model = SGDRegressor(penalty='elasticnet', early_stopping=stop_early, validation_fraction=0.1, \n",
    "                     random_state=rando, max_iter=500, tol=1e-5, l1_ratio=0.75)\n",
    "        model.fit(trainvecs, train_targets)\n",
    "        \n",
    "        preds = model.predict(testvecs)\n",
    "        baseline_preds = utest.rating_global + known_bias\n",
    "        nlp_preds = (0.3 + 1 / trainvecs.shape[0]) * preds + baseline_preds\n",
    "        \n",
    "        diffs_base = baseline_preds - utest.rating_user\n",
    "        sumsq = np.dot(diffs_base, diffs_base)\n",
    "        rmse_base = np.sqrt(sumsq / len(diffs_base))\n",
    "        #baseline_rmses.append(rmse_base)\n",
    "        \n",
    "        diffs_nlp = nlp_preds - utest.rating_user\n",
    "        sumsq = np.dot(diffs_nlp, diffs_nlp)\n",
    "        rmse_nlp = np.sqrt(sumsq / len(diffs_nlp))\n",
    "        #nlp_rmses.append(rmse_nlp)\n",
    "        \n",
    "        scores[u] = (rmse_base, rmse_nlp)\n",
    "        \n",
    "    return scores #np.mean(baseline_rmses), np.mean(nlp_rmses)"
   ]
  },
  {
   "cell_type": "code",
   "execution_count": null,
   "metadata": {
    "collapsed": true
   },
   "outputs": [],
   "source": [
    "# commenting out the first line here, after running it already.  It's unnecessary even once.\n",
    "#fiveplus['beer_description'] = fiveplus.brewery_name + ' ' + fiveplus.beer_name + ' ' + fiveplus.beer_description\n",
    "fiveplus.reset_index(inplace=True)  # reset the indices so the mapper to BOW vecs works"
   ]
  },
  {
   "cell_type": "code",
   "execution_count": 154,
   "metadata": {
    "collapsed": false
   },
   "outputs": [
    {
     "data": {
      "text/html": [
       "<div>\n",
       "<style scoped>\n",
       "    .dataframe tbody tr th:only-of-type {\n",
       "        vertical-align: middle;\n",
       "    }\n",
       "\n",
       "    .dataframe tbody tr th {\n",
       "        vertical-align: top;\n",
       "    }\n",
       "\n",
       "    .dataframe thead th {\n",
       "        text-align: right;\n",
       "    }\n",
       "</style>\n",
       "<table border=\"1\" class=\"dataframe\">\n",
       "  <thead>\n",
       "    <tr style=\"text-align: right;\">\n",
       "      <th></th>\n",
       "      <th>beer_id</th>\n",
       "      <th>user_id</th>\n",
       "      <th>rating_user</th>\n",
       "      <th>brewery_name</th>\n",
       "      <th>beer_name</th>\n",
       "      <th>beer_style</th>\n",
       "      <th>rating_global</th>\n",
       "      <th>abv</th>\n",
       "      <th>beer_description</th>\n",
       "      <th>beer_bias</th>\n",
       "      <th>user_bias</th>\n",
       "      <th>user_pref</th>\n",
       "    </tr>\n",
       "  </thead>\n",
       "  <tbody>\n",
       "    <tr>\n",
       "      <th>0</th>\n",
       "      <td>2095023</td>\n",
       "      <td>3340203</td>\n",
       "      <td>3.75</td>\n",
       "      <td>Stone Brewing</td>\n",
       "      <td>Stone Scorpion Bowl IPA</td>\n",
       "      <td>IPA - American</td>\n",
       "      <td>3.73789</td>\n",
       "      <td>7.5</td>\n",
       "      <td>Stone Brewing Stone Scorpion Bowl IPA To creat...</td>\n",
       "      <td>0.01211</td>\n",
       "      <td>0.167938</td>\n",
       "      <td>-0.155828</td>\n",
       "    </tr>\n",
       "    <tr>\n",
       "      <th>1</th>\n",
       "      <td>2095023</td>\n",
       "      <td>2166716</td>\n",
       "      <td>3.50</td>\n",
       "      <td>Stone Brewing</td>\n",
       "      <td>Stone Scorpion Bowl IPA</td>\n",
       "      <td>IPA - American</td>\n",
       "      <td>3.73789</td>\n",
       "      <td>7.5</td>\n",
       "      <td>Stone Brewing Stone Scorpion Bowl IPA To creat...</td>\n",
       "      <td>-0.23789</td>\n",
       "      <td>-0.663801</td>\n",
       "      <td>0.425911</td>\n",
       "    </tr>\n",
       "    <tr>\n",
       "      <th>2</th>\n",
       "      <td>2095023</td>\n",
       "      <td>2607740</td>\n",
       "      <td>3.50</td>\n",
       "      <td>Stone Brewing</td>\n",
       "      <td>Stone Scorpion Bowl IPA</td>\n",
       "      <td>IPA - American</td>\n",
       "      <td>3.73789</td>\n",
       "      <td>7.5</td>\n",
       "      <td>Stone Brewing Stone Scorpion Bowl IPA To creat...</td>\n",
       "      <td>-0.23789</td>\n",
       "      <td>-0.207602</td>\n",
       "      <td>-0.030288</td>\n",
       "    </tr>\n",
       "    <tr>\n",
       "      <th>3</th>\n",
       "      <td>2095023</td>\n",
       "      <td>1040951</td>\n",
       "      <td>3.50</td>\n",
       "      <td>Stone Brewing</td>\n",
       "      <td>Stone Scorpion Bowl IPA</td>\n",
       "      <td>IPA - American</td>\n",
       "      <td>3.73789</td>\n",
       "      <td>7.5</td>\n",
       "      <td>Stone Brewing Stone Scorpion Bowl IPA To creat...</td>\n",
       "      <td>-0.23789</td>\n",
       "      <td>-0.078888</td>\n",
       "      <td>-0.159002</td>\n",
       "    </tr>\n",
       "    <tr>\n",
       "      <th>4</th>\n",
       "      <td>2095023</td>\n",
       "      <td>1338056</td>\n",
       "      <td>3.25</td>\n",
       "      <td>Stone Brewing</td>\n",
       "      <td>Stone Scorpion Bowl IPA</td>\n",
       "      <td>IPA - American</td>\n",
       "      <td>3.73789</td>\n",
       "      <td>7.5</td>\n",
       "      <td>Stone Brewing Stone Scorpion Bowl IPA To creat...</td>\n",
       "      <td>-0.48789</td>\n",
       "      <td>-0.027114</td>\n",
       "      <td>-0.460776</td>\n",
       "    </tr>\n",
       "  </tbody>\n",
       "</table>\n",
       "</div>"
      ],
      "text/plain": [
       "   beer_id  user_id  rating_user   brewery_name                beer_name  \\\n",
       "0  2095023  3340203         3.75  Stone Brewing  Stone Scorpion Bowl IPA   \n",
       "1  2095023  2166716         3.50  Stone Brewing  Stone Scorpion Bowl IPA   \n",
       "2  2095023  2607740         3.50  Stone Brewing  Stone Scorpion Bowl IPA   \n",
       "3  2095023  1040951         3.50  Stone Brewing  Stone Scorpion Bowl IPA   \n",
       "4  2095023  1338056         3.25  Stone Brewing  Stone Scorpion Bowl IPA   \n",
       "\n",
       "       beer_style  rating_global  abv  \\\n",
       "0  IPA - American        3.73789  7.5   \n",
       "1  IPA - American        3.73789  7.5   \n",
       "2  IPA - American        3.73789  7.5   \n",
       "3  IPA - American        3.73789  7.5   \n",
       "4  IPA - American        3.73789  7.5   \n",
       "\n",
       "                                    beer_description  beer_bias  user_bias  \\\n",
       "0  Stone Brewing Stone Scorpion Bowl IPA To creat...    0.01211   0.167938   \n",
       "1  Stone Brewing Stone Scorpion Bowl IPA To creat...   -0.23789  -0.663801   \n",
       "2  Stone Brewing Stone Scorpion Bowl IPA To creat...   -0.23789  -0.207602   \n",
       "3  Stone Brewing Stone Scorpion Bowl IPA To creat...   -0.23789  -0.078888   \n",
       "4  Stone Brewing Stone Scorpion Bowl IPA To creat...   -0.48789  -0.027114   \n",
       "\n",
       "   user_pref  \n",
       "0  -0.155828  \n",
       "1   0.425911  \n",
       "2  -0.030288  \n",
       "3  -0.159002  \n",
       "4  -0.460776  "
      ]
     },
     "execution_count": 154,
     "metadata": {},
     "output_type": "execute_result"
    }
   ],
   "source": [
    "fiveplus.head()"
   ]
  },
  {
   "cell_type": "code",
   "execution_count": 155,
   "metadata": {
    "collapsed": false
   },
   "outputs": [
    {
     "name": "stdout",
     "output_type": "stream",
     "text": [
      "249 2\n"
     ]
    }
   ],
   "source": [
    "short_test = fiveplus[(fiveplus.user_id == 2607740) | (fiveplus.user_id == 1040951)]\n",
    "print(len(short_test), short_test.user_id.nunique())"
   ]
  },
  {
   "cell_type": "code",
   "execution_count": 156,
   "metadata": {
    "collapsed": false
   },
   "outputs": [
    {
     "name": "stderr",
     "output_type": "stream",
     "text": [
      "100%|██████████| 2/2 [00:01<00:00,  1.06s/it]\n"
     ]
    }
   ],
   "source": [
    "baseline_error, nlp_error = test_last(short_test, vecs, beer_id_to_vecs_index)"
   ]
  },
  {
   "cell_type": "code",
   "execution_count": 157,
   "metadata": {
    "collapsed": false
   },
   "outputs": [
    {
     "name": "stdout",
     "output_type": "stream",
     "text": [
      "test_baseline_error = 0.27962614819309595\n",
      "test_nlp_error = 0.3123180189674395\n"
     ]
    }
   ],
   "source": [
    "print(f'test_baseline_error = {baseline_error}')\n",
    "print(f'test_nlp_error = {nlp_error}')"
   ]
  },
  {
   "cell_type": "code",
   "execution_count": 158,
   "metadata": {
    "collapsed": false
   },
   "outputs": [
    {
     "name": "stderr",
     "output_type": "stream",
     "text": [
      "  2%|▏         | 331/19264 [02:51<2:43:17,  1.93it/s]/Applications/anaconda/lib/python3.6/site-packages/sklearn/linear_model/stochastic_gradient.py:1219: ConvergenceWarning: Maximum number of iteration reached before convergence. Consider increasing max_iter to improve the fit.\n",
      "  ConvergenceWarning)\n",
      "  2%|▏         | 390/19264 [03:23<2:32:02,  2.07it/s]/Applications/anaconda/lib/python3.6/site-packages/sklearn/linear_model/stochastic_gradient.py:1219: ConvergenceWarning: Maximum number of iteration reached before convergence. Consider increasing max_iter to improve the fit.\n",
      "  ConvergenceWarning)\n",
      "  2%|▏         | 467/19264 [04:07<2:31:09,  2.07it/s]/Applications/anaconda/lib/python3.6/site-packages/sklearn/linear_model/stochastic_gradient.py:1219: ConvergenceWarning: Maximum number of iteration reached before convergence. Consider increasing max_iter to improve the fit.\n",
      "  ConvergenceWarning)\n",
      "  3%|▎         | 571/19264 [04:57<2:24:28,  2.16it/s]/Applications/anaconda/lib/python3.6/site-packages/sklearn/linear_model/stochastic_gradient.py:1219: ConvergenceWarning: Maximum number of iteration reached before convergence. Consider increasing max_iter to improve the fit.\n",
      "  ConvergenceWarning)\n",
      "  4%|▎         | 698/19264 [05:56<2:24:05,  2.15it/s]/Applications/anaconda/lib/python3.6/site-packages/sklearn/linear_model/stochastic_gradient.py:1219: ConvergenceWarning: Maximum number of iteration reached before convergence. Consider increasing max_iter to improve the fit.\n",
      "  ConvergenceWarning)\n",
      "  4%|▎         | 705/19264 [05:59<2:19:06,  2.22it/s]/Applications/anaconda/lib/python3.6/site-packages/sklearn/linear_model/stochastic_gradient.py:1219: ConvergenceWarning: Maximum number of iteration reached before convergence. Consider increasing max_iter to improve the fit.\n",
      "  ConvergenceWarning)\n",
      "  4%|▍         | 784/19264 [06:38<2:32:20,  2.02it/s]/Applications/anaconda/lib/python3.6/site-packages/sklearn/linear_model/stochastic_gradient.py:1219: ConvergenceWarning: Maximum number of iteration reached before convergence. Consider increasing max_iter to improve the fit.\n",
      "  ConvergenceWarning)\n",
      "  4%|▍         | 807/19264 [06:49<2:27:59,  2.08it/s]/Applications/anaconda/lib/python3.6/site-packages/sklearn/linear_model/stochastic_gradient.py:1219: ConvergenceWarning: Maximum number of iteration reached before convergence. Consider increasing max_iter to improve the fit.\n",
      "  ConvergenceWarning)\n",
      "  4%|▍         | 815/19264 [06:55<3:27:22,  1.48it/s]/Applications/anaconda/lib/python3.6/site-packages/sklearn/linear_model/stochastic_gradient.py:1219: ConvergenceWarning: Maximum number of iteration reached before convergence. Consider increasing max_iter to improve the fit.\n",
      "  ConvergenceWarning)\n",
      "  4%|▍         | 844/19264 [07:12<2:57:57,  1.73it/s]/Applications/anaconda/lib/python3.6/site-packages/sklearn/linear_model/stochastic_gradient.py:1219: ConvergenceWarning: Maximum number of iteration reached before convergence. Consider increasing max_iter to improve the fit.\n",
      "  ConvergenceWarning)\n",
      "  4%|▍         | 857/19264 [07:19<2:40:52,  1.91it/s]/Applications/anaconda/lib/python3.6/site-packages/sklearn/linear_model/stochastic_gradient.py:1219: ConvergenceWarning: Maximum number of iteration reached before convergence. Consider increasing max_iter to improve the fit.\n",
      "  ConvergenceWarning)\n",
      "  5%|▌         | 980/19264 [08:25<3:00:12,  1.69it/s]/Applications/anaconda/lib/python3.6/site-packages/sklearn/linear_model/stochastic_gradient.py:1219: ConvergenceWarning: Maximum number of iteration reached before convergence. Consider increasing max_iter to improve the fit.\n",
      "  ConvergenceWarning)\n",
      "  5%|▌         | 1059/19264 [09:06<2:21:21,  2.15it/s]/Applications/anaconda/lib/python3.6/site-packages/sklearn/linear_model/stochastic_gradient.py:1219: ConvergenceWarning: Maximum number of iteration reached before convergence. Consider increasing max_iter to improve the fit.\n",
      "  ConvergenceWarning)\n",
      "  6%|▌         | 1129/19264 [09:43<2:32:44,  1.98it/s]/Applications/anaconda/lib/python3.6/site-packages/sklearn/linear_model/stochastic_gradient.py:1219: ConvergenceWarning: Maximum number of iteration reached before convergence. Consider increasing max_iter to improve the fit.\n",
      "  ConvergenceWarning)\n",
      "  6%|▌         | 1161/19264 [10:03<3:02:32,  1.65it/s]/Applications/anaconda/lib/python3.6/site-packages/sklearn/linear_model/stochastic_gradient.py:1219: ConvergenceWarning: Maximum number of iteration reached before convergence. Consider increasing max_iter to improve the fit.\n",
      "  ConvergenceWarning)\n",
      "  6%|▋         | 1221/19264 [10:33<2:20:45,  2.14it/s]/Applications/anaconda/lib/python3.6/site-packages/sklearn/linear_model/stochastic_gradient.py:1219: ConvergenceWarning: Maximum number of iteration reached before convergence. Consider increasing max_iter to improve the fit.\n",
      "  ConvergenceWarning)\n",
      "  6%|▋         | 1228/19264 [10:37<2:54:21,  1.72it/s]/Applications/anaconda/lib/python3.6/site-packages/sklearn/linear_model/stochastic_gradient.py:1219: ConvergenceWarning: Maximum number of iteration reached before convergence. Consider increasing max_iter to improve the fit.\n",
      "  ConvergenceWarning)\n",
      "  6%|▋         | 1242/19264 [10:45<2:28:03,  2.03it/s]/Applications/anaconda/lib/python3.6/site-packages/sklearn/linear_model/stochastic_gradient.py:1219: ConvergenceWarning: Maximum number of iteration reached before convergence. Consider increasing max_iter to improve the fit.\n",
      "  ConvergenceWarning)\n",
      "  6%|▋         | 1248/19264 [10:48<2:46:50,  1.80it/s]/Applications/anaconda/lib/python3.6/site-packages/sklearn/linear_model/stochastic_gradient.py:1219: ConvergenceWarning: Maximum number of iteration reached before convergence. Consider increasing max_iter to improve the fit.\n",
      "  ConvergenceWarning)\n",
      "  6%|▋         | 1249/19264 [10:49<3:04:03,  1.63it/s]/Applications/anaconda/lib/python3.6/site-packages/sklearn/linear_model/stochastic_gradient.py:1219: ConvergenceWarning: Maximum number of iteration reached before convergence. Consider increasing max_iter to improve the fit.\n",
      "  ConvergenceWarning)\n",
      "  7%|▋         | 1267/19264 [10:59<2:27:32,  2.03it/s]/Applications/anaconda/lib/python3.6/site-packages/sklearn/linear_model/stochastic_gradient.py:1219: ConvergenceWarning: Maximum number of iteration reached before convergence. Consider increasing max_iter to improve the fit.\n",
      "  ConvergenceWarning)\n",
      "  7%|▋         | 1276/19264 [11:04<3:02:37,  1.64it/s]/Applications/anaconda/lib/python3.6/site-packages/sklearn/linear_model/stochastic_gradient.py:1219: ConvergenceWarning: Maximum number of iteration reached before convergence. Consider increasing max_iter to improve the fit.\n",
      "  ConvergenceWarning)\n",
      "  7%|▋         | 1351/19264 [11:44<2:59:53,  1.66it/s]/Applications/anaconda/lib/python3.6/site-packages/sklearn/linear_model/stochastic_gradient.py:1219: ConvergenceWarning: Maximum number of iteration reached before convergence. Consider increasing max_iter to improve the fit.\n",
      "  ConvergenceWarning)\n",
      "  7%|▋         | 1363/19264 [11:51<2:55:44,  1.70it/s]/Applications/anaconda/lib/python3.6/site-packages/sklearn/linear_model/stochastic_gradient.py:1219: ConvergenceWarning: Maximum number of iteration reached before convergence. Consider increasing max_iter to improve the fit.\n",
      "  ConvergenceWarning)\n",
      "  7%|▋         | 1376/19264 [11:58<2:41:38,  1.84it/s]/Applications/anaconda/lib/python3.6/site-packages/sklearn/linear_model/stochastic_gradient.py:1219: ConvergenceWarning: Maximum number of iteration reached before convergence. Consider increasing max_iter to improve the fit.\n",
      "  ConvergenceWarning)\n",
      "  7%|▋         | 1389/19264 [12:05<2:41:13,  1.85it/s]/Applications/anaconda/lib/python3.6/site-packages/sklearn/linear_model/stochastic_gradient.py:1219: ConvergenceWarning: Maximum number of iteration reached before convergence. Consider increasing max_iter to improve the fit.\n",
      "  ConvergenceWarning)\n",
      "  7%|▋         | 1404/19264 [12:13<2:35:20,  1.92it/s]/Applications/anaconda/lib/python3.6/site-packages/sklearn/linear_model/stochastic_gradient.py:1219: ConvergenceWarning: Maximum number of iteration reached before convergence. Consider increasing max_iter to improve the fit.\n",
      "  ConvergenceWarning)\n",
      "  7%|▋         | 1422/19264 [12:23<2:38:40,  1.87it/s]/Applications/anaconda/lib/python3.6/site-packages/sklearn/linear_model/stochastic_gradient.py:1219: ConvergenceWarning: Maximum number of iteration reached before convergence. Consider increasing max_iter to improve the fit.\n",
      "  ConvergenceWarning)\n",
      "  7%|▋         | 1439/19264 [12:33<2:57:06,  1.68it/s]/Applications/anaconda/lib/python3.6/site-packages/sklearn/linear_model/stochastic_gradient.py:1219: ConvergenceWarning: Maximum number of iteration reached before convergence. Consider increasing max_iter to improve the fit.\n",
      "  ConvergenceWarning)\n",
      "  7%|▋         | 1440/19264 [12:34<3:11:40,  1.55it/s]/Applications/anaconda/lib/python3.6/site-packages/sklearn/linear_model/stochastic_gradient.py:1219: ConvergenceWarning: Maximum number of iteration reached before convergence. Consider increasing max_iter to improve the fit.\n",
      "  ConvergenceWarning)\n",
      "  8%|▊         | 1478/19264 [12:55<2:40:20,  1.85it/s]/Applications/anaconda/lib/python3.6/site-packages/sklearn/linear_model/stochastic_gradient.py:1219: ConvergenceWarning: Maximum number of iteration reached before convergence. Consider increasing max_iter to improve the fit.\n",
      "  ConvergenceWarning)\n",
      "  8%|▊         | 1520/19264 [13:17<2:18:26,  2.14it/s]/Applications/anaconda/lib/python3.6/site-packages/sklearn/linear_model/stochastic_gradient.py:1219: ConvergenceWarning: Maximum number of iteration reached before convergence. Consider increasing max_iter to improve the fit.\n",
      "  ConvergenceWarning)\n",
      "  8%|▊         | 1523/19264 [13:19<2:29:20,  1.98it/s]/Applications/anaconda/lib/python3.6/site-packages/sklearn/linear_model/stochastic_gradient.py:1219: ConvergenceWarning: Maximum number of iteration reached before convergence. Consider increasing max_iter to improve the fit.\n",
      "  ConvergenceWarning)\n",
      "  8%|▊         | 1545/19264 [13:31<2:59:38,  1.64it/s]/Applications/anaconda/lib/python3.6/site-packages/sklearn/linear_model/stochastic_gradient.py:1219: ConvergenceWarning: Maximum number of iteration reached before convergence. Consider increasing max_iter to improve the fit.\n",
      "  ConvergenceWarning)\n",
      "  8%|▊         | 1546/19264 [13:32<3:11:00,  1.55it/s]/Applications/anaconda/lib/python3.6/site-packages/sklearn/linear_model/stochastic_gradient.py:1219: ConvergenceWarning: Maximum number of iteration reached before convergence. Consider increasing max_iter to improve the fit.\n",
      "  ConvergenceWarning)\n",
      "  8%|▊         | 1548/19264 [13:34<3:45:16,  1.31it/s]/Applications/anaconda/lib/python3.6/site-packages/sklearn/linear_model/stochastic_gradient.py:1219: ConvergenceWarning: Maximum number of iteration reached before convergence. Consider increasing max_iter to improve the fit.\n",
      "  ConvergenceWarning)\n",
      "  8%|▊         | 1549/19264 [13:34<3:49:51,  1.28it/s]/Applications/anaconda/lib/python3.6/site-packages/sklearn/linear_model/stochastic_gradient.py:1219: ConvergenceWarning: Maximum number of iteration reached before convergence. Consider increasing max_iter to improve the fit.\n",
      "  ConvergenceWarning)\n",
      "  8%|▊         | 1553/19264 [13:37<2:48:56,  1.75it/s]/Applications/anaconda/lib/python3.6/site-packages/sklearn/linear_model/stochastic_gradient.py:1219: ConvergenceWarning: Maximum number of iteration reached before convergence. Consider increasing max_iter to improve the fit.\n",
      "  ConvergenceWarning)\n",
      "  8%|▊         | 1554/19264 [13:38<3:07:39,  1.57it/s]/Applications/anaconda/lib/python3.6/site-packages/sklearn/linear_model/stochastic_gradient.py:1219: ConvergenceWarning: Maximum number of iteration reached before convergence. Consider increasing max_iter to improve the fit.\n",
      "  ConvergenceWarning)\n",
      "  8%|▊         | 1560/19264 [13:42<3:01:18,  1.63it/s]/Applications/anaconda/lib/python3.6/site-packages/sklearn/linear_model/stochastic_gradient.py:1219: ConvergenceWarning: Maximum number of iteration reached before convergence. Consider increasing max_iter to improve the fit.\n",
      "  ConvergenceWarning)\n",
      "  8%|▊         | 1562/19264 [13:43<2:54:21,  1.69it/s]/Applications/anaconda/lib/python3.6/site-packages/sklearn/linear_model/stochastic_gradient.py:1219: ConvergenceWarning: Maximum number of iteration reached before convergence. Consider increasing max_iter to improve the fit.\n",
      "  ConvergenceWarning)\n",
      "  8%|▊         | 1568/19264 [13:46<2:41:14,  1.83it/s]/Applications/anaconda/lib/python3.6/site-packages/sklearn/linear_model/stochastic_gradient.py:1219: ConvergenceWarning: Maximum number of iteration reached before convergence. Consider increasing max_iter to improve the fit.\n",
      "  ConvergenceWarning)\n",
      "  8%|▊         | 1574/19264 [13:50<3:12:15,  1.53it/s]/Applications/anaconda/lib/python3.6/site-packages/sklearn/linear_model/stochastic_gradient.py:1219: ConvergenceWarning: Maximum number of iteration reached before convergence. Consider increasing max_iter to improve the fit.\n",
      "  ConvergenceWarning)\n",
      "  8%|▊         | 1580/19264 [13:54<3:35:43,  1.37it/s]/Applications/anaconda/lib/python3.6/site-packages/sklearn/linear_model/stochastic_gradient.py:1219: ConvergenceWarning: Maximum number of iteration reached before convergence. Consider increasing max_iter to improve the fit.\n",
      "  ConvergenceWarning)\n",
      "  8%|▊         | 1582/19264 [13:56<4:00:26,  1.23it/s]/Applications/anaconda/lib/python3.6/site-packages/sklearn/linear_model/stochastic_gradient.py:1219: ConvergenceWarning: Maximum number of iteration reached before convergence. Consider increasing max_iter to improve the fit.\n",
      "  ConvergenceWarning)\n",
      "  8%|▊         | 1591/19264 [14:01<2:44:37,  1.79it/s]/Applications/anaconda/lib/python3.6/site-packages/sklearn/linear_model/stochastic_gradient.py:1219: ConvergenceWarning: Maximum number of iteration reached before convergence. Consider increasing max_iter to improve the fit.\n",
      "  ConvergenceWarning)\n",
      "  8%|▊         | 1603/19264 [14:08<2:27:15,  2.00it/s]/Applications/anaconda/lib/python3.6/site-packages/sklearn/linear_model/stochastic_gradient.py:1219: ConvergenceWarning: Maximum number of iteration reached before convergence. Consider increasing max_iter to improve the fit.\n",
      "  ConvergenceWarning)\n",
      "  8%|▊         | 1613/19264 [14:14<2:31:19,  1.94it/s]/Applications/anaconda/lib/python3.6/site-packages/sklearn/linear_model/stochastic_gradient.py:1219: ConvergenceWarning: Maximum number of iteration reached before convergence. Consider increasing max_iter to improve the fit.\n",
      "  ConvergenceWarning)\n",
      "  8%|▊         | 1620/19264 [14:17<2:39:40,  1.84it/s]/Applications/anaconda/lib/python3.6/site-packages/sklearn/linear_model/stochastic_gradient.py:1219: ConvergenceWarning: Maximum number of iteration reached before convergence. Consider increasing max_iter to improve the fit.\n",
      "  ConvergenceWarning)\n",
      "  8%|▊         | 1621/19264 [14:18<2:56:25,  1.67it/s]/Applications/anaconda/lib/python3.6/site-packages/sklearn/linear_model/stochastic_gradient.py:1219: ConvergenceWarning: Maximum number of iteration reached before convergence. Consider increasing max_iter to improve the fit.\n",
      "  ConvergenceWarning)\n",
      "  8%|▊         | 1629/19264 [14:22<2:33:57,  1.91it/s]/Applications/anaconda/lib/python3.6/site-packages/sklearn/linear_model/stochastic_gradient.py:1219: ConvergenceWarning: Maximum number of iteration reached before convergence. Consider increasing max_iter to improve the fit.\n",
      "  ConvergenceWarning)\n",
      "  8%|▊         | 1633/19264 [14:24<2:22:02,  2.07it/s]/Applications/anaconda/lib/python3.6/site-packages/sklearn/linear_model/stochastic_gradient.py:1219: ConvergenceWarning: Maximum number of iteration reached before convergence. Consider increasing max_iter to improve the fit.\n",
      "  ConvergenceWarning)\n",
      "  9%|▊         | 1639/19264 [14:28<2:35:00,  1.90it/s]/Applications/anaconda/lib/python3.6/site-packages/sklearn/linear_model/stochastic_gradient.py:1219: ConvergenceWarning: Maximum number of iteration reached before convergence. Consider increasing max_iter to improve the fit.\n",
      "  ConvergenceWarning)\n",
      "  9%|▊         | 1645/19264 [14:31<2:22:22,  2.06it/s]/Applications/anaconda/lib/python3.6/site-packages/sklearn/linear_model/stochastic_gradient.py:1219: ConvergenceWarning: Maximum number of iteration reached before convergence. Consider increasing max_iter to improve the fit.\n",
      "  ConvergenceWarning)\n",
      "  9%|▊         | 1646/19264 [14:32<2:49:55,  1.73it/s]/Applications/anaconda/lib/python3.6/site-packages/sklearn/linear_model/stochastic_gradient.py:1219: ConvergenceWarning: Maximum number of iteration reached before convergence. Consider increasing max_iter to improve the fit.\n",
      "  ConvergenceWarning)\n",
      "  9%|▊         | 1655/19264 [14:37<2:39:27,  1.84it/s]/Applications/anaconda/lib/python3.6/site-packages/sklearn/linear_model/stochastic_gradient.py:1219: ConvergenceWarning: Maximum number of iteration reached before convergence. Consider increasing max_iter to improve the fit.\n",
      "  ConvergenceWarning)\n",
      "  9%|▊         | 1659/19264 [14:39<3:01:46,  1.61it/s]/Applications/anaconda/lib/python3.6/site-packages/sklearn/linear_model/stochastic_gradient.py:1219: ConvergenceWarning: Maximum number of iteration reached before convergence. Consider increasing max_iter to improve the fit.\n",
      "  ConvergenceWarning)\n",
      "  9%|▊         | 1660/19264 [14:40<3:16:25,  1.49it/s]/Applications/anaconda/lib/python3.6/site-packages/sklearn/linear_model/stochastic_gradient.py:1219: ConvergenceWarning: Maximum number of iteration reached before convergence. Consider increasing max_iter to improve the fit.\n",
      "  ConvergenceWarning)\n",
      "  9%|▊         | 1675/19264 [14:49<2:42:14,  1.81it/s]/Applications/anaconda/lib/python3.6/site-packages/sklearn/linear_model/stochastic_gradient.py:1219: ConvergenceWarning: Maximum number of iteration reached before convergence. Consider increasing max_iter to improve the fit.\n",
      "  ConvergenceWarning)\n",
      "  9%|▊         | 1677/19264 [14:50<2:56:28,  1.66it/s]/Applications/anaconda/lib/python3.6/site-packages/sklearn/linear_model/stochastic_gradient.py:1219: ConvergenceWarning: Maximum number of iteration reached before convergence. Consider increasing max_iter to improve the fit.\n",
      "  ConvergenceWarning)\n",
      "  9%|▊         | 1685/19264 [14:56<3:28:23,  1.41it/s]/Applications/anaconda/lib/python3.6/site-packages/sklearn/linear_model/stochastic_gradient.py:1219: ConvergenceWarning: Maximum number of iteration reached before convergence. Consider increasing max_iter to improve the fit.\n",
      "  ConvergenceWarning)\n",
      "  9%|▉         | 1687/19264 [14:57<3:12:33,  1.52it/s]/Applications/anaconda/lib/python3.6/site-packages/sklearn/linear_model/stochastic_gradient.py:1219: ConvergenceWarning: Maximum number of iteration reached before convergence. Consider increasing max_iter to improve the fit.\n",
      "  ConvergenceWarning)\n",
      "  9%|▉         | 1688/19264 [14:58<3:22:40,  1.45it/s]/Applications/anaconda/lib/python3.6/site-packages/sklearn/linear_model/stochastic_gradient.py:1219: ConvergenceWarning: Maximum number of iteration reached before convergence. Consider increasing max_iter to improve the fit.\n",
      "  ConvergenceWarning)\n",
      "  9%|▉         | 1702/19264 [15:05<2:27:49,  1.98it/s]/Applications/anaconda/lib/python3.6/site-packages/sklearn/linear_model/stochastic_gradient.py:1219: ConvergenceWarning: Maximum number of iteration reached before convergence. Consider increasing max_iter to improve the fit.\n",
      "  ConvergenceWarning)\n",
      "  9%|▉         | 1704/19264 [15:07<2:39:45,  1.83it/s]/Applications/anaconda/lib/python3.6/site-packages/sklearn/linear_model/stochastic_gradient.py:1219: ConvergenceWarning: Maximum number of iteration reached before convergence. Consider increasing max_iter to improve the fit.\n",
      "  ConvergenceWarning)\n",
      "  9%|▉         | 1715/19264 [15:13<2:51:06,  1.71it/s]/Applications/anaconda/lib/python3.6/site-packages/sklearn/linear_model/stochastic_gradient.py:1219: ConvergenceWarning: Maximum number of iteration reached before convergence. Consider increasing max_iter to improve the fit.\n",
      "  ConvergenceWarning)\n",
      "  9%|▉         | 1716/19264 [15:14<3:06:21,  1.57it/s]/Applications/anaconda/lib/python3.6/site-packages/sklearn/linear_model/stochastic_gradient.py:1219: ConvergenceWarning: Maximum number of iteration reached before convergence. Consider increasing max_iter to improve the fit.\n",
      "  ConvergenceWarning)\n",
      "  9%|▉         | 1726/19264 [15:20<2:27:54,  1.98it/s]/Applications/anaconda/lib/python3.6/site-packages/sklearn/linear_model/stochastic_gradient.py:1219: ConvergenceWarning: Maximum number of iteration reached before convergence. Consider increasing max_iter to improve the fit.\n",
      "  ConvergenceWarning)\n",
      "  9%|▉         | 1728/19264 [15:21<2:56:23,  1.66it/s]/Applications/anaconda/lib/python3.6/site-packages/sklearn/linear_model/stochastic_gradient.py:1219: ConvergenceWarning: Maximum number of iteration reached before convergence. Consider increasing max_iter to improve the fit.\n",
      "  ConvergenceWarning)\n",
      "  9%|▉         | 1749/19264 [15:34<2:50:18,  1.71it/s]/Applications/anaconda/lib/python3.6/site-packages/sklearn/linear_model/stochastic_gradient.py:1219: ConvergenceWarning: Maximum number of iteration reached before convergence. Consider increasing max_iter to improve the fit.\n",
      "  ConvergenceWarning)\n",
      "  9%|▉         | 1802/19264 [16:00<2:26:05,  1.99it/s]/Applications/anaconda/lib/python3.6/site-packages/sklearn/linear_model/stochastic_gradient.py:1219: ConvergenceWarning: Maximum number of iteration reached before convergence. Consider increasing max_iter to improve the fit.\n",
      "  ConvergenceWarning)\n",
      " 12%|█▏        | 2226/19264 [19:37<2:12:18,  2.15it/s]/Applications/anaconda/lib/python3.6/site-packages/sklearn/linear_model/stochastic_gradient.py:1219: ConvergenceWarning: Maximum number of iteration reached before convergence. Consider increasing max_iter to improve the fit.\n",
      "  ConvergenceWarning)\n",
      " 12%|█▏        | 2322/19264 [20:26<2:27:16,  1.92it/s]/Applications/anaconda/lib/python3.6/site-packages/sklearn/linear_model/stochastic_gradient.py:1219: ConvergenceWarning: Maximum number of iteration reached before convergence. Consider increasing max_iter to improve the fit.\n",
      "  ConvergenceWarning)\n",
      " 12%|█▏        | 2344/19264 [20:38<2:38:14,  1.78it/s]/Applications/anaconda/lib/python3.6/site-packages/sklearn/linear_model/stochastic_gradient.py:1219: ConvergenceWarning: Maximum number of iteration reached before convergence. Consider increasing max_iter to improve the fit.\n",
      "  ConvergenceWarning)\n",
      " 12%|█▏        | 2379/19264 [20:56<2:33:38,  1.83it/s]/Applications/anaconda/lib/python3.6/site-packages/sklearn/linear_model/stochastic_gradient.py:1219: ConvergenceWarning: Maximum number of iteration reached before convergence. Consider increasing max_iter to improve the fit.\n",
      "  ConvergenceWarning)\n",
      " 13%|█▎        | 2568/19264 [22:29<2:42:11,  1.72it/s]/Applications/anaconda/lib/python3.6/site-packages/sklearn/linear_model/stochastic_gradient.py:1219: ConvergenceWarning: Maximum number of iteration reached before convergence. Consider increasing max_iter to improve the fit.\n",
      "  ConvergenceWarning)\n",
      " 14%|█▍        | 2719/19264 [23:45<2:17:19,  2.01it/s]/Applications/anaconda/lib/python3.6/site-packages/sklearn/linear_model/stochastic_gradient.py:1219: ConvergenceWarning: Maximum number of iteration reached before convergence. Consider increasing max_iter to improve the fit.\n",
      "  ConvergenceWarning)\n",
      " 14%|█▍        | 2732/19264 [23:52<2:52:08,  1.60it/s]/Applications/anaconda/lib/python3.6/site-packages/sklearn/linear_model/stochastic_gradient.py:1219: ConvergenceWarning: Maximum number of iteration reached before convergence. Consider increasing max_iter to improve the fit.\n",
      "  ConvergenceWarning)\n",
      " 15%|█▍        | 2799/19264 [24:28<2:16:34,  2.01it/s]/Applications/anaconda/lib/python3.6/site-packages/sklearn/linear_model/stochastic_gradient.py:1219: ConvergenceWarning: Maximum number of iteration reached before convergence. Consider increasing max_iter to improve the fit.\n",
      "  ConvergenceWarning)\n",
      " 15%|█▍        | 2857/19264 [25:00<3:01:00,  1.51it/s]/Applications/anaconda/lib/python3.6/site-packages/sklearn/linear_model/stochastic_gradient.py:1219: ConvergenceWarning: Maximum number of iteration reached before convergence. Consider increasing max_iter to improve the fit.\n",
      "  ConvergenceWarning)\n",
      " 15%|█▍        | 2859/19264 [25:01<3:05:24,  1.47it/s]/Applications/anaconda/lib/python3.6/site-packages/sklearn/linear_model/stochastic_gradient.py:1219: ConvergenceWarning: Maximum number of iteration reached before convergence. Consider increasing max_iter to improve the fit.\n",
      "  ConvergenceWarning)\n",
      " 15%|█▌        | 2928/19264 [25:38<2:16:25,  2.00it/s]/Applications/anaconda/lib/python3.6/site-packages/sklearn/linear_model/stochastic_gradient.py:1219: ConvergenceWarning: Maximum number of iteration reached before convergence. Consider increasing max_iter to improve the fit.\n",
      "  ConvergenceWarning)\n",
      " 15%|█▌        | 2948/19264 [25:50<2:28:59,  1.83it/s]/Applications/anaconda/lib/python3.6/site-packages/sklearn/linear_model/stochastic_gradient.py:1219: ConvergenceWarning: Maximum number of iteration reached before convergence. Consider increasing max_iter to improve the fit.\n",
      "  ConvergenceWarning)\n",
      " 15%|█▌        | 2952/19264 [25:53<2:28:43,  1.83it/s]/Applications/anaconda/lib/python3.6/site-packages/sklearn/linear_model/stochastic_gradient.py:1219: ConvergenceWarning: Maximum number of iteration reached before convergence. Consider increasing max_iter to improve the fit.\n",
      "  ConvergenceWarning)\n",
      " 16%|█▌        | 3018/19264 [26:29<2:12:18,  2.05it/s]/Applications/anaconda/lib/python3.6/site-packages/sklearn/linear_model/stochastic_gradient.py:1219: ConvergenceWarning: Maximum number of iteration reached before convergence. Consider increasing max_iter to improve the fit.\n",
      "  ConvergenceWarning)\n",
      " 16%|█▌        | 3085/19264 [27:03<2:09:40,  2.08it/s]/Applications/anaconda/lib/python3.6/site-packages/sklearn/linear_model/stochastic_gradient.py:1219: ConvergenceWarning: Maximum number of iteration reached before convergence. Consider increasing max_iter to improve the fit.\n",
      "  ConvergenceWarning)\n",
      " 17%|█▋        | 3367/19264 [29:25<2:41:46,  1.64it/s]/Applications/anaconda/lib/python3.6/site-packages/sklearn/linear_model/stochastic_gradient.py:1219: ConvergenceWarning: Maximum number of iteration reached before convergence. Consider increasing max_iter to improve the fit.\n",
      "  ConvergenceWarning)\n",
      " 18%|█▊        | 3395/19264 [29:40<2:24:34,  1.83it/s]/Applications/anaconda/lib/python3.6/site-packages/sklearn/linear_model/stochastic_gradient.py:1219: ConvergenceWarning: Maximum number of iteration reached before convergence. Consider increasing max_iter to improve the fit.\n",
      "  ConvergenceWarning)\n",
      " 18%|█▊        | 3396/19264 [29:40<2:46:53,  1.58it/s]/Applications/anaconda/lib/python3.6/site-packages/sklearn/linear_model/stochastic_gradient.py:1219: ConvergenceWarning: Maximum number of iteration reached before convergence. Consider increasing max_iter to improve the fit.\n",
      "  ConvergenceWarning)\n",
      " 18%|█▊        | 3399/19264 [29:42<2:32:06,  1.74it/s]/Applications/anaconda/lib/python3.6/site-packages/sklearn/linear_model/stochastic_gradient.py:1219: ConvergenceWarning: Maximum number of iteration reached before convergence. Consider increasing max_iter to improve the fit.\n",
      "  ConvergenceWarning)\n",
      " 18%|█▊        | 3401/19264 [29:43<2:31:47,  1.74it/s]/Applications/anaconda/lib/python3.6/site-packages/sklearn/linear_model/stochastic_gradient.py:1219: ConvergenceWarning: Maximum number of iteration reached before convergence. Consider increasing max_iter to improve the fit.\n",
      "  ConvergenceWarning)\n",
      " 18%|█▊        | 3410/19264 [29:49<2:35:44,  1.70it/s]/Applications/anaconda/lib/python3.6/site-packages/sklearn/linear_model/stochastic_gradient.py:1219: ConvergenceWarning: Maximum number of iteration reached before convergence. Consider increasing max_iter to improve the fit.\n",
      "  ConvergenceWarning)\n",
      " 18%|█▊        | 3411/19264 [29:50<2:57:21,  1.49it/s]/Applications/anaconda/lib/python3.6/site-packages/sklearn/linear_model/stochastic_gradient.py:1219: ConvergenceWarning: Maximum number of iteration reached before convergence. Consider increasing max_iter to improve the fit.\n",
      "  ConvergenceWarning)\n",
      " 18%|█▊        | 3415/19264 [29:52<2:23:13,  1.84it/s]/Applications/anaconda/lib/python3.6/site-packages/sklearn/linear_model/stochastic_gradient.py:1219: ConvergenceWarning: Maximum number of iteration reached before convergence. Consider increasing max_iter to improve the fit.\n",
      "  ConvergenceWarning)\n",
      " 18%|█▊        | 3418/19264 [29:54<2:19:48,  1.89it/s]/Applications/anaconda/lib/python3.6/site-packages/sklearn/linear_model/stochastic_gradient.py:1219: ConvergenceWarning: Maximum number of iteration reached before convergence. Consider increasing max_iter to improve the fit.\n",
      "  ConvergenceWarning)\n",
      " 18%|█▊        | 3426/19264 [29:58<2:10:49,  2.02it/s]/Applications/anaconda/lib/python3.6/site-packages/sklearn/linear_model/stochastic_gradient.py:1219: ConvergenceWarning: Maximum number of iteration reached before convergence. Consider increasing max_iter to improve the fit.\n",
      "  ConvergenceWarning)\n",
      " 18%|█▊        | 3427/19264 [29:59<2:34:00,  1.71it/s]/Applications/anaconda/lib/python3.6/site-packages/sklearn/linear_model/stochastic_gradient.py:1219: ConvergenceWarning: Maximum number of iteration reached before convergence. Consider increasing max_iter to improve the fit.\n",
      "  ConvergenceWarning)\n",
      " 19%|█▊        | 3591/19264 [31:23<2:03:03,  2.12it/s]/Applications/anaconda/lib/python3.6/site-packages/sklearn/linear_model/stochastic_gradient.py:1219: ConvergenceWarning: Maximum number of iteration reached before convergence. Consider increasing max_iter to improve the fit.\n",
      "  ConvergenceWarning)\n",
      " 19%|█▊        | 3595/19264 [31:25<2:15:05,  1.93it/s]/Applications/anaconda/lib/python3.6/site-packages/sklearn/linear_model/stochastic_gradient.py:1219: ConvergenceWarning: Maximum number of iteration reached before convergence. Consider increasing max_iter to improve the fit.\n",
      "  ConvergenceWarning)\n",
      " 19%|█▊        | 3601/19264 [31:29<2:28:26,  1.76it/s]/Applications/anaconda/lib/python3.6/site-packages/sklearn/linear_model/stochastic_gradient.py:1219: ConvergenceWarning: Maximum number of iteration reached before convergence. Consider increasing max_iter to improve the fit.\n",
      "  ConvergenceWarning)\n",
      " 19%|█▊        | 3603/19264 [31:30<2:32:55,  1.71it/s]/Applications/anaconda/lib/python3.6/site-packages/sklearn/linear_model/stochastic_gradient.py:1219: ConvergenceWarning: Maximum number of iteration reached before convergence. Consider increasing max_iter to improve the fit.\n",
      "  ConvergenceWarning)\n",
      " 19%|█▊        | 3605/19264 [31:32<2:56:26,  1.48it/s]/Applications/anaconda/lib/python3.6/site-packages/sklearn/linear_model/stochastic_gradient.py:1219: ConvergenceWarning: Maximum number of iteration reached before convergence. Consider increasing max_iter to improve the fit.\n",
      "  ConvergenceWarning)\n",
      " 19%|█▊        | 3608/19264 [31:33<2:47:13,  1.56it/s]/Applications/anaconda/lib/python3.6/site-packages/sklearn/linear_model/stochastic_gradient.py:1219: ConvergenceWarning: Maximum number of iteration reached before convergence. Consider increasing max_iter to improve the fit.\n",
      "  ConvergenceWarning)\n",
      " 19%|█▉        | 3616/19264 [31:38<2:16:07,  1.92it/s]/Applications/anaconda/lib/python3.6/site-packages/sklearn/linear_model/stochastic_gradient.py:1219: ConvergenceWarning: Maximum number of iteration reached before convergence. Consider increasing max_iter to improve the fit.\n",
      "  ConvergenceWarning)\n",
      " 19%|█▉        | 3618/19264 [31:39<2:24:11,  1.81it/s]/Applications/anaconda/lib/python3.6/site-packages/sklearn/linear_model/stochastic_gradient.py:1219: ConvergenceWarning: Maximum number of iteration reached before convergence. Consider increasing max_iter to improve the fit.\n",
      "  ConvergenceWarning)\n",
      " 19%|█▉        | 3625/19264 [31:43<2:27:46,  1.76it/s]/Applications/anaconda/lib/python3.6/site-packages/sklearn/linear_model/stochastic_gradient.py:1219: ConvergenceWarning: Maximum number of iteration reached before convergence. Consider increasing max_iter to improve the fit.\n",
      "  ConvergenceWarning)\n",
      " 19%|█▉        | 3627/19264 [31:45<2:46:35,  1.56it/s]/Applications/anaconda/lib/python3.6/site-packages/sklearn/linear_model/stochastic_gradient.py:1219: ConvergenceWarning: Maximum number of iteration reached before convergence. Consider increasing max_iter to improve the fit.\n",
      "  ConvergenceWarning)\n",
      " 19%|█▉        | 3633/19264 [31:49<2:46:35,  1.56it/s]/Applications/anaconda/lib/python3.6/site-packages/sklearn/linear_model/stochastic_gradient.py:1219: ConvergenceWarning: Maximum number of iteration reached before convergence. Consider increasing max_iter to improve the fit.\n",
      "  ConvergenceWarning)\n",
      " 19%|█▉        | 3636/19264 [31:51<2:39:34,  1.63it/s]/Applications/anaconda/lib/python3.6/site-packages/sklearn/linear_model/stochastic_gradient.py:1219: ConvergenceWarning: Maximum number of iteration reached before convergence. Consider increasing max_iter to improve the fit.\n",
      "  ConvergenceWarning)\n",
      " 19%|█▉        | 3639/19264 [31:53<2:38:10,  1.65it/s]/Applications/anaconda/lib/python3.6/site-packages/sklearn/linear_model/stochastic_gradient.py:1219: ConvergenceWarning: Maximum number of iteration reached before convergence. Consider increasing max_iter to improve the fit.\n",
      "  ConvergenceWarning)\n",
      " 19%|█▉        | 3644/19264 [31:55<2:24:30,  1.80it/s]/Applications/anaconda/lib/python3.6/site-packages/sklearn/linear_model/stochastic_gradient.py:1219: ConvergenceWarning: Maximum number of iteration reached before convergence. Consider increasing max_iter to improve the fit.\n",
      "  ConvergenceWarning)\n",
      " 19%|█▉        | 3654/19264 [32:01<2:26:53,  1.77it/s]/Applications/anaconda/lib/python3.6/site-packages/sklearn/linear_model/stochastic_gradient.py:1219: ConvergenceWarning: Maximum number of iteration reached before convergence. Consider increasing max_iter to improve the fit.\n",
      "  ConvergenceWarning)\n",
      " 20%|█▉        | 3769/19264 [32:59<2:06:34,  2.04it/s]/Applications/anaconda/lib/python3.6/site-packages/sklearn/linear_model/stochastic_gradient.py:1219: ConvergenceWarning: Maximum number of iteration reached before convergence. Consider increasing max_iter to improve the fit.\n",
      "  ConvergenceWarning)\n",
      " 20%|█▉        | 3784/19264 [33:07<2:09:18,  2.00it/s]/Applications/anaconda/lib/python3.6/site-packages/sklearn/linear_model/stochastic_gradient.py:1219: ConvergenceWarning: Maximum number of iteration reached before convergence. Consider increasing max_iter to improve the fit.\n",
      "  ConvergenceWarning)\n",
      " 20%|█▉        | 3817/19264 [33:24<2:09:27,  1.99it/s]/Applications/anaconda/lib/python3.6/site-packages/sklearn/linear_model/stochastic_gradient.py:1219: ConvergenceWarning: Maximum number of iteration reached before convergence. Consider increasing max_iter to improve the fit.\n",
      "  ConvergenceWarning)\n",
      " 20%|█▉        | 3836/19264 [33:35<2:14:55,  1.91it/s]/Applications/anaconda/lib/python3.6/site-packages/sklearn/linear_model/stochastic_gradient.py:1219: ConvergenceWarning: Maximum number of iteration reached before convergence. Consider increasing max_iter to improve the fit.\n",
      "  ConvergenceWarning)\n",
      " 20%|█▉        | 3844/19264 [33:39<2:06:06,  2.04it/s]/Applications/anaconda/lib/python3.6/site-packages/sklearn/linear_model/stochastic_gradient.py:1219: ConvergenceWarning: Maximum number of iteration reached before convergence. Consider increasing max_iter to improve the fit.\n",
      "  ConvergenceWarning)\n",
      " 20%|██        | 3868/19264 [33:51<2:11:35,  1.95it/s]/Applications/anaconda/lib/python3.6/site-packages/sklearn/linear_model/stochastic_gradient.py:1219: ConvergenceWarning: Maximum number of iteration reached before convergence. Consider increasing max_iter to improve the fit.\n",
      "  ConvergenceWarning)\n",
      " 20%|██        | 3921/19264 [34:19<2:11:28,  1.95it/s]/Applications/anaconda/lib/python3.6/site-packages/sklearn/linear_model/stochastic_gradient.py:1219: ConvergenceWarning: Maximum number of iteration reached before convergence. Consider increasing max_iter to improve the fit.\n",
      "  ConvergenceWarning)\n",
      " 20%|██        | 3924/19264 [34:21<2:28:20,  1.72it/s]/Applications/anaconda/lib/python3.6/site-packages/sklearn/linear_model/stochastic_gradient.py:1219: ConvergenceWarning: Maximum number of iteration reached before convergence. Consider increasing max_iter to improve the fit.\n",
      "  ConvergenceWarning)\n",
      " 20%|██        | 3927/19264 [34:23<2:13:58,  1.91it/s]/Applications/anaconda/lib/python3.6/site-packages/sklearn/linear_model/stochastic_gradient.py:1219: ConvergenceWarning: Maximum number of iteration reached before convergence. Consider increasing max_iter to improve the fit.\n",
      "  ConvergenceWarning)\n",
      " 20%|██        | 3928/19264 [34:23<2:33:06,  1.67it/s]/Applications/anaconda/lib/python3.6/site-packages/sklearn/linear_model/stochastic_gradient.py:1219: ConvergenceWarning: Maximum number of iteration reached before convergence. Consider increasing max_iter to improve the fit.\n",
      "  ConvergenceWarning)\n",
      " 20%|██        | 3945/19264 [34:32<2:08:39,  1.98it/s]/Applications/anaconda/lib/python3.6/site-packages/sklearn/linear_model/stochastic_gradient.py:1219: ConvergenceWarning: Maximum number of iteration reached before convergence. Consider increasing max_iter to improve the fit.\n",
      "  ConvergenceWarning)\n",
      " 21%|██        | 3991/19264 [34:57<2:20:04,  1.82it/s]/Applications/anaconda/lib/python3.6/site-packages/sklearn/linear_model/stochastic_gradient.py:1219: ConvergenceWarning: Maximum number of iteration reached before convergence. Consider increasing max_iter to improve the fit.\n",
      "  ConvergenceWarning)\n",
      " 21%|██        | 3997/19264 [35:00<2:12:40,  1.92it/s]/Applications/anaconda/lib/python3.6/site-packages/sklearn/linear_model/stochastic_gradient.py:1219: ConvergenceWarning: Maximum number of iteration reached before convergence. Consider increasing max_iter to improve the fit.\n",
      "  ConvergenceWarning)\n",
      " 22%|██▏       | 4154/19264 [36:21<1:57:36,  2.14it/s]/Applications/anaconda/lib/python3.6/site-packages/sklearn/linear_model/stochastic_gradient.py:1219: ConvergenceWarning: Maximum number of iteration reached before convergence. Consider increasing max_iter to improve the fit.\n",
      "  ConvergenceWarning)\n",
      " 23%|██▎       | 4365/19264 [38:12<2:13:32,  1.86it/s]/Applications/anaconda/lib/python3.6/site-packages/sklearn/linear_model/stochastic_gradient.py:1219: ConvergenceWarning: Maximum number of iteration reached before convergence. Consider increasing max_iter to improve the fit.\n",
      "  ConvergenceWarning)\n",
      " 23%|██▎       | 4499/19264 [39:26<2:28:46,  1.65it/s]/Applications/anaconda/lib/python3.6/site-packages/sklearn/linear_model/stochastic_gradient.py:1219: ConvergenceWarning: Maximum number of iteration reached before convergence. Consider increasing max_iter to improve the fit.\n",
      "  ConvergenceWarning)\n",
      " 24%|██▍       | 4615/19264 [40:26<2:18:13,  1.77it/s]/Applications/anaconda/lib/python3.6/site-packages/sklearn/linear_model/stochastic_gradient.py:1219: ConvergenceWarning: Maximum number of iteration reached before convergence. Consider increasing max_iter to improve the fit.\n",
      "  ConvergenceWarning)\n",
      " 24%|██▍       | 4623/19264 [40:30<2:10:12,  1.87it/s]/Applications/anaconda/lib/python3.6/site-packages/sklearn/linear_model/stochastic_gradient.py:1219: ConvergenceWarning: Maximum number of iteration reached before convergence. Consider increasing max_iter to improve the fit.\n",
      "  ConvergenceWarning)\n",
      " 24%|██▍       | 4665/19264 [40:53<2:04:00,  1.96it/s]/Applications/anaconda/lib/python3.6/site-packages/sklearn/linear_model/stochastic_gradient.py:1219: ConvergenceWarning: Maximum number of iteration reached before convergence. Consider increasing max_iter to improve the fit.\n",
      "  ConvergenceWarning)\n",
      " 24%|██▍       | 4707/19264 [41:17<1:53:54,  2.13it/s]/Applications/anaconda/lib/python3.6/site-packages/sklearn/linear_model/stochastic_gradient.py:1219: ConvergenceWarning: Maximum number of iteration reached before convergence. Consider increasing max_iter to improve the fit.\n",
      "  ConvergenceWarning)\n",
      " 25%|██▍       | 4786/19264 [41:58<2:21:29,  1.71it/s]/Applications/anaconda/lib/python3.6/site-packages/sklearn/linear_model/stochastic_gradient.py:1219: ConvergenceWarning: Maximum number of iteration reached before convergence. Consider increasing max_iter to improve the fit.\n",
      "  ConvergenceWarning)\n",
      " 25%|██▍       | 4802/19264 [42:07<1:59:37,  2.01it/s]/Applications/anaconda/lib/python3.6/site-packages/sklearn/linear_model/stochastic_gradient.py:1219: ConvergenceWarning: Maximum number of iteration reached before convergence. Consider increasing max_iter to improve the fit.\n",
      "  ConvergenceWarning)\n",
      " 25%|██▍       | 4811/19264 [42:12<2:15:05,  1.78it/s]/Applications/anaconda/lib/python3.6/site-packages/sklearn/linear_model/stochastic_gradient.py:1219: ConvergenceWarning: Maximum number of iteration reached before convergence. Consider increasing max_iter to improve the fit.\n",
      "  ConvergenceWarning)\n",
      " 25%|██▍       | 4814/19264 [42:14<2:15:33,  1.78it/s]/Applications/anaconda/lib/python3.6/site-packages/sklearn/linear_model/stochastic_gradient.py:1219: ConvergenceWarning: Maximum number of iteration reached before convergence. Consider increasing max_iter to improve the fit.\n",
      "  ConvergenceWarning)\n",
      " 25%|██▌       | 4820/19264 [42:18<2:27:22,  1.63it/s]/Applications/anaconda/lib/python3.6/site-packages/sklearn/linear_model/stochastic_gradient.py:1219: ConvergenceWarning: Maximum number of iteration reached before convergence. Consider increasing max_iter to improve the fit.\n",
      "  ConvergenceWarning)\n",
      " 25%|██▌       | 4863/19264 [42:40<2:04:35,  1.93it/s]/Applications/anaconda/lib/python3.6/site-packages/sklearn/linear_model/stochastic_gradient.py:1219: ConvergenceWarning: Maximum number of iteration reached before convergence. Consider increasing max_iter to improve the fit.\n",
      "  ConvergenceWarning)\n",
      " 26%|██▌       | 4936/19264 [43:21<2:25:42,  1.64it/s]/Applications/anaconda/lib/python3.6/site-packages/sklearn/linear_model/stochastic_gradient.py:1219: ConvergenceWarning: Maximum number of iteration reached before convergence. Consider increasing max_iter to improve the fit.\n",
      "  ConvergenceWarning)\n",
      " 26%|██▌       | 4943/19264 [43:25<2:12:31,  1.80it/s]/Applications/anaconda/lib/python3.6/site-packages/sklearn/linear_model/stochastic_gradient.py:1219: ConvergenceWarning: Maximum number of iteration reached before convergence. Consider increasing max_iter to improve the fit.\n",
      "  ConvergenceWarning)\n",
      " 26%|██▌       | 4949/19264 [43:28<2:05:01,  1.91it/s]/Applications/anaconda/lib/python3.6/site-packages/sklearn/linear_model/stochastic_gradient.py:1219: ConvergenceWarning: Maximum number of iteration reached before convergence. Consider increasing max_iter to improve the fit.\n",
      "  ConvergenceWarning)\n",
      " 26%|██▌       | 4967/19264 [43:38<2:02:30,  1.95it/s]/Applications/anaconda/lib/python3.6/site-packages/sklearn/linear_model/stochastic_gradient.py:1219: ConvergenceWarning: Maximum number of iteration reached before convergence. Consider increasing max_iter to improve the fit.\n",
      "  ConvergenceWarning)\n",
      " 26%|██▌       | 4999/19264 [43:55<2:12:35,  1.79it/s]/Applications/anaconda/lib/python3.6/site-packages/sklearn/linear_model/stochastic_gradient.py:1219: ConvergenceWarning: Maximum number of iteration reached before convergence. Consider increasing max_iter to improve the fit.\n",
      "  ConvergenceWarning)\n",
      " 26%|██▌       | 5000/19264 [43:56<2:24:52,  1.64it/s]/Applications/anaconda/lib/python3.6/site-packages/sklearn/linear_model/stochastic_gradient.py:1219: ConvergenceWarning: Maximum number of iteration reached before convergence. Consider increasing max_iter to improve the fit.\n",
      "  ConvergenceWarning)\n",
      " 26%|██▌       | 5017/19264 [44:06<2:41:32,  1.47it/s]/Applications/anaconda/lib/python3.6/site-packages/sklearn/linear_model/stochastic_gradient.py:1219: ConvergenceWarning: Maximum number of iteration reached before convergence. Consider increasing max_iter to improve the fit.\n",
      "  ConvergenceWarning)\n",
      " 26%|██▌       | 5026/19264 [44:12<2:28:27,  1.60it/s]/Applications/anaconda/lib/python3.6/site-packages/sklearn/linear_model/stochastic_gradient.py:1219: ConvergenceWarning: Maximum number of iteration reached before convergence. Consider increasing max_iter to improve the fit.\n",
      "  ConvergenceWarning)\n",
      " 26%|██▌       | 5029/19264 [44:14<2:29:52,  1.58it/s]/Applications/anaconda/lib/python3.6/site-packages/sklearn/linear_model/stochastic_gradient.py:1219: ConvergenceWarning: Maximum number of iteration reached before convergence. Consider increasing max_iter to improve the fit.\n",
      "  ConvergenceWarning)\n",
      " 26%|██▌       | 5031/19264 [44:16<2:34:31,  1.54it/s]/Applications/anaconda/lib/python3.6/site-packages/sklearn/linear_model/stochastic_gradient.py:1219: ConvergenceWarning: Maximum number of iteration reached before convergence. Consider increasing max_iter to improve the fit.\n",
      "  ConvergenceWarning)\n",
      " 26%|██▌       | 5045/19264 [44:23<1:55:17,  2.06it/s]/Applications/anaconda/lib/python3.6/site-packages/sklearn/linear_model/stochastic_gradient.py:1219: ConvergenceWarning: Maximum number of iteration reached before convergence. Consider increasing max_iter to improve the fit.\n",
      "  ConvergenceWarning)\n",
      " 26%|██▋       | 5089/19264 [44:45<2:04:56,  1.89it/s]/Applications/anaconda/lib/python3.6/site-packages/sklearn/linear_model/stochastic_gradient.py:1219: ConvergenceWarning: Maximum number of iteration reached before convergence. Consider increasing max_iter to improve the fit.\n",
      "  ConvergenceWarning)\n",
      " 27%|██▋       | 5166/19264 [45:24<2:13:09,  1.76it/s]/Applications/anaconda/lib/python3.6/site-packages/sklearn/linear_model/stochastic_gradient.py:1219: ConvergenceWarning: Maximum number of iteration reached before convergence. Consider increasing max_iter to improve the fit.\n",
      "  ConvergenceWarning)\n",
      " 27%|██▋       | 5167/19264 [45:24<2:22:11,  1.65it/s]/Applications/anaconda/lib/python3.6/site-packages/sklearn/linear_model/stochastic_gradient.py:1219: ConvergenceWarning: Maximum number of iteration reached before convergence. Consider increasing max_iter to improve the fit.\n",
      "  ConvergenceWarning)\n",
      " 27%|██▋       | 5172/19264 [45:27<2:16:58,  1.71it/s]/Applications/anaconda/lib/python3.6/site-packages/sklearn/linear_model/stochastic_gradient.py:1219: ConvergenceWarning: Maximum number of iteration reached before convergence. Consider increasing max_iter to improve the fit.\n",
      "  ConvergenceWarning)\n",
      " 27%|██▋       | 5187/19264 [45:36<2:16:52,  1.71it/s]/Applications/anaconda/lib/python3.6/site-packages/sklearn/linear_model/stochastic_gradient.py:1219: ConvergenceWarning: Maximum number of iteration reached before convergence. Consider increasing max_iter to improve the fit.\n",
      "  ConvergenceWarning)\n",
      " 28%|██▊       | 5420/19264 [47:36<1:53:12,  2.04it/s]/Applications/anaconda/lib/python3.6/site-packages/sklearn/linear_model/stochastic_gradient.py:1219: ConvergenceWarning: Maximum number of iteration reached before convergence. Consider increasing max_iter to improve the fit.\n",
      "  ConvergenceWarning)\n",
      " 29%|██▊       | 5501/19264 [48:16<2:31:53,  1.51it/s]/Applications/anaconda/lib/python3.6/site-packages/sklearn/linear_model/stochastic_gradient.py:1219: ConvergenceWarning: Maximum number of iteration reached before convergence. Consider increasing max_iter to improve the fit.\n",
      "  ConvergenceWarning)\n",
      " 29%|██▊       | 5506/19264 [48:19<2:33:12,  1.50it/s]/Applications/anaconda/lib/python3.6/site-packages/sklearn/linear_model/stochastic_gradient.py:1219: ConvergenceWarning: Maximum number of iteration reached before convergence. Consider increasing max_iter to improve the fit.\n",
      "  ConvergenceWarning)\n",
      " 29%|██▊       | 5508/19264 [48:21<2:21:48,  1.62it/s]/Applications/anaconda/lib/python3.6/site-packages/sklearn/linear_model/stochastic_gradient.py:1219: ConvergenceWarning: Maximum number of iteration reached before convergence. Consider increasing max_iter to improve the fit.\n",
      "  ConvergenceWarning)\n",
      " 29%|██▊       | 5509/19264 [48:21<2:30:55,  1.52it/s]/Applications/anaconda/lib/python3.6/site-packages/sklearn/linear_model/stochastic_gradient.py:1219: ConvergenceWarning: Maximum number of iteration reached before convergence. Consider increasing max_iter to improve the fit.\n",
      "  ConvergenceWarning)\n",
      " 29%|██▊       | 5511/19264 [48:23<3:17:14,  1.16it/s]/Applications/anaconda/lib/python3.6/site-packages/sklearn/linear_model/stochastic_gradient.py:1219: ConvergenceWarning: Maximum number of iteration reached before convergence. Consider increasing max_iter to improve the fit.\n",
      "  ConvergenceWarning)\n",
      " 30%|███       | 5873/19264 [51:24<1:56:15,  1.92it/s]/Applications/anaconda/lib/python3.6/site-packages/sklearn/linear_model/stochastic_gradient.py:1219: ConvergenceWarning: Maximum number of iteration reached before convergence. Consider increasing max_iter to improve the fit.\n",
      "  ConvergenceWarning)\n",
      " 31%|███       | 5878/19264 [51:27<2:00:21,  1.85it/s]/Applications/anaconda/lib/python3.6/site-packages/sklearn/linear_model/stochastic_gradient.py:1219: ConvergenceWarning: Maximum number of iteration reached before convergence. Consider increasing max_iter to improve the fit.\n",
      "  ConvergenceWarning)\n",
      " 31%|███       | 5972/19264 [52:18<2:14:17,  1.65it/s]/Applications/anaconda/lib/python3.6/site-packages/sklearn/linear_model/stochastic_gradient.py:1219: ConvergenceWarning: Maximum number of iteration reached before convergence. Consider increasing max_iter to improve the fit.\n",
      "  ConvergenceWarning)\n",
      " 32%|███▏      | 6090/19264 [53:22<1:42:54,  2.13it/s]/Applications/anaconda/lib/python3.6/site-packages/sklearn/linear_model/stochastic_gradient.py:1219: ConvergenceWarning: Maximum number of iteration reached before convergence. Consider increasing max_iter to improve the fit.\n",
      "  ConvergenceWarning)\n",
      " 32%|███▏      | 6128/19264 [53:43<2:12:25,  1.65it/s]/Applications/anaconda/lib/python3.6/site-packages/sklearn/linear_model/stochastic_gradient.py:1219: ConvergenceWarning: Maximum number of iteration reached before convergence. Consider increasing max_iter to improve the fit.\n",
      "  ConvergenceWarning)\n",
      " 32%|███▏      | 6160/19264 [54:04<2:08:30,  1.70it/s]/Applications/anaconda/lib/python3.6/site-packages/sklearn/linear_model/stochastic_gradient.py:1219: ConvergenceWarning: Maximum number of iteration reached before convergence. Consider increasing max_iter to improve the fit.\n",
      "  ConvergenceWarning)\n",
      " 32%|███▏      | 6168/19264 [54:09<2:32:18,  1.43it/s]/Applications/anaconda/lib/python3.6/site-packages/sklearn/linear_model/stochastic_gradient.py:1219: ConvergenceWarning: Maximum number of iteration reached before convergence. Consider increasing max_iter to improve the fit.\n",
      "  ConvergenceWarning)\n",
      " 32%|███▏      | 6171/19264 [54:11<2:28:08,  1.47it/s]/Applications/anaconda/lib/python3.6/site-packages/sklearn/linear_model/stochastic_gradient.py:1219: ConvergenceWarning: Maximum number of iteration reached before convergence. Consider increasing max_iter to improve the fit.\n",
      "  ConvergenceWarning)\n",
      " 33%|███▎      | 6309/19264 [55:12<1:36:04,  2.25it/s]/Applications/anaconda/lib/python3.6/site-packages/sklearn/linear_model/stochastic_gradient.py:1219: ConvergenceWarning: Maximum number of iteration reached before convergence. Consider increasing max_iter to improve the fit.\n",
      "  ConvergenceWarning)\n",
      " 33%|███▎      | 6358/19264 [55:36<1:56:09,  1.85it/s]/Applications/anaconda/lib/python3.6/site-packages/sklearn/linear_model/stochastic_gradient.py:1219: ConvergenceWarning: Maximum number of iteration reached before convergence. Consider increasing max_iter to improve the fit.\n",
      "  ConvergenceWarning)\n",
      " 33%|███▎      | 6360/19264 [55:38<2:00:20,  1.79it/s]/Applications/anaconda/lib/python3.6/site-packages/sklearn/linear_model/stochastic_gradient.py:1219: ConvergenceWarning: Maximum number of iteration reached before convergence. Consider increasing max_iter to improve the fit.\n",
      "  ConvergenceWarning)\n",
      " 33%|███▎      | 6373/19264 [55:45<2:18:09,  1.56it/s]/Applications/anaconda/lib/python3.6/site-packages/sklearn/linear_model/stochastic_gradient.py:1219: ConvergenceWarning: Maximum number of iteration reached before convergence. Consider increasing max_iter to improve the fit.\n",
      "  ConvergenceWarning)\n",
      " 33%|███▎      | 6377/19264 [55:48<2:08:48,  1.67it/s]/Applications/anaconda/lib/python3.6/site-packages/sklearn/linear_model/stochastic_gradient.py:1219: ConvergenceWarning: Maximum number of iteration reached before convergence. Consider increasing max_iter to improve the fit.\n",
      "  ConvergenceWarning)\n",
      " 33%|███▎      | 6391/19264 [55:56<2:05:02,  1.72it/s]/Applications/anaconda/lib/python3.6/site-packages/sklearn/linear_model/stochastic_gradient.py:1219: ConvergenceWarning: Maximum number of iteration reached before convergence. Consider increasing max_iter to improve the fit.\n",
      "  ConvergenceWarning)\n",
      " 34%|███▍      | 6530/19264 [57:12<3:11:24,  1.11it/s]/Applications/anaconda/lib/python3.6/site-packages/sklearn/linear_model/stochastic_gradient.py:1219: ConvergenceWarning: Maximum number of iteration reached before convergence. Consider increasing max_iter to improve the fit.\n",
      "  ConvergenceWarning)\n",
      " 34%|███▍      | 6539/19264 [57:19<3:00:20,  1.18it/s]/Applications/anaconda/lib/python3.6/site-packages/sklearn/linear_model/stochastic_gradient.py:1219: ConvergenceWarning: Maximum number of iteration reached before convergence. Consider increasing max_iter to improve the fit.\n",
      "  ConvergenceWarning)\n",
      " 34%|███▍      | 6572/19264 [57:37<1:30:20,  2.34it/s]/Applications/anaconda/lib/python3.6/site-packages/sklearn/linear_model/stochastic_gradient.py:1219: ConvergenceWarning: Maximum number of iteration reached before convergence. Consider increasing max_iter to improve the fit.\n",
      "  ConvergenceWarning)\n",
      " 34%|███▍      | 6575/19264 [57:39<1:58:45,  1.78it/s]/Applications/anaconda/lib/python3.6/site-packages/sklearn/linear_model/stochastic_gradient.py:1219: ConvergenceWarning: Maximum number of iteration reached before convergence. Consider increasing max_iter to improve the fit.\n",
      "  ConvergenceWarning)\n",
      " 34%|███▍      | 6576/19264 [57:40<2:07:11,  1.66it/s]/Applications/anaconda/lib/python3.6/site-packages/sklearn/linear_model/stochastic_gradient.py:1219: ConvergenceWarning: Maximum number of iteration reached before convergence. Consider increasing max_iter to improve the fit.\n",
      "  ConvergenceWarning)\n",
      " 34%|███▍      | 6594/19264 [57:52<2:14:36,  1.57it/s]/Applications/anaconda/lib/python3.6/site-packages/sklearn/linear_model/stochastic_gradient.py:1219: ConvergenceWarning: Maximum number of iteration reached before convergence. Consider increasing max_iter to improve the fit.\n",
      "  ConvergenceWarning)\n",
      " 34%|███▍      | 6620/19264 [58:06<1:38:20,  2.14it/s]/Applications/anaconda/lib/python3.6/site-packages/sklearn/linear_model/stochastic_gradient.py:1219: ConvergenceWarning: Maximum number of iteration reached before convergence. Consider increasing max_iter to improve the fit.\n",
      "  ConvergenceWarning)\n",
      " 34%|███▍      | 6624/19264 [58:09<2:00:48,  1.74it/s]/Applications/anaconda/lib/python3.6/site-packages/sklearn/linear_model/stochastic_gradient.py:1219: ConvergenceWarning: Maximum number of iteration reached before convergence. Consider increasing max_iter to improve the fit.\n",
      "  ConvergenceWarning)\n",
      " 34%|███▍      | 6627/19264 [58:10<1:53:44,  1.85it/s]/Applications/anaconda/lib/python3.6/site-packages/sklearn/linear_model/stochastic_gradient.py:1219: ConvergenceWarning: Maximum number of iteration reached before convergence. Consider increasing max_iter to improve the fit.\n",
      "  ConvergenceWarning)\n",
      " 34%|███▍      | 6634/19264 [58:14<1:53:05,  1.86it/s]/Applications/anaconda/lib/python3.6/site-packages/sklearn/linear_model/stochastic_gradient.py:1219: ConvergenceWarning: Maximum number of iteration reached before convergence. Consider increasing max_iter to improve the fit.\n",
      "  ConvergenceWarning)\n",
      " 35%|███▍      | 6724/19264 [58:59<1:40:15,  2.08it/s]/Applications/anaconda/lib/python3.6/site-packages/sklearn/linear_model/stochastic_gradient.py:1219: ConvergenceWarning: Maximum number of iteration reached before convergence. Consider increasing max_iter to improve the fit.\n",
      "  ConvergenceWarning)\n",
      " 35%|███▍      | 6726/19264 [59:00<1:55:25,  1.81it/s]/Applications/anaconda/lib/python3.6/site-packages/sklearn/linear_model/stochastic_gradient.py:1219: ConvergenceWarning: Maximum number of iteration reached before convergence. Consider increasing max_iter to improve the fit.\n",
      "  ConvergenceWarning)\n",
      " 35%|███▍      | 6727/19264 [59:01<2:10:40,  1.60it/s]/Applications/anaconda/lib/python3.6/site-packages/sklearn/linear_model/stochastic_gradient.py:1219: ConvergenceWarning: Maximum number of iteration reached before convergence. Consider increasing max_iter to improve the fit.\n",
      "  ConvergenceWarning)\n",
      " 35%|███▌      | 6754/19264 [59:15<1:48:09,  1.93it/s]/Applications/anaconda/lib/python3.6/site-packages/sklearn/linear_model/stochastic_gradient.py:1219: ConvergenceWarning: Maximum number of iteration reached before convergence. Consider increasing max_iter to improve the fit.\n",
      "  ConvergenceWarning)\n",
      " 35%|███▌      | 6777/19264 [59:28<1:35:08,  2.19it/s]/Applications/anaconda/lib/python3.6/site-packages/sklearn/linear_model/stochastic_gradient.py:1219: ConvergenceWarning: Maximum number of iteration reached before convergence. Consider increasing max_iter to improve the fit.\n",
      "  ConvergenceWarning)\n",
      " 35%|███▌      | 6791/19264 [59:34<1:36:26,  2.16it/s]/Applications/anaconda/lib/python3.6/site-packages/sklearn/linear_model/stochastic_gradient.py:1219: ConvergenceWarning: Maximum number of iteration reached before convergence. Consider increasing max_iter to improve the fit.\n",
      "  ConvergenceWarning)\n",
      " 36%|███▌      | 6903/19264 [1:00:28<1:40:15,  2.05it/s]/Applications/anaconda/lib/python3.6/site-packages/sklearn/linear_model/stochastic_gradient.py:1219: ConvergenceWarning: Maximum number of iteration reached before convergence. Consider increasing max_iter to improve the fit.\n",
      "  ConvergenceWarning)\n",
      " 36%|███▌      | 6970/19264 [1:01:01<1:36:04,  2.13it/s]/Applications/anaconda/lib/python3.6/site-packages/sklearn/linear_model/stochastic_gradient.py:1219: ConvergenceWarning: Maximum number of iteration reached before convergence. Consider increasing max_iter to improve the fit.\n",
      "  ConvergenceWarning)\n",
      " 36%|███▋      | 6999/19264 [1:01:16<1:50:14,  1.85it/s]/Applications/anaconda/lib/python3.6/site-packages/sklearn/linear_model/stochastic_gradient.py:1219: ConvergenceWarning: Maximum number of iteration reached before convergence. Consider increasing max_iter to improve the fit.\n",
      "  ConvergenceWarning)\n",
      " 37%|███▋      | 7080/19264 [1:01:51<1:21:13,  2.50it/s]/Applications/anaconda/lib/python3.6/site-packages/sklearn/linear_model/stochastic_gradient.py:1219: ConvergenceWarning: Maximum number of iteration reached before convergence. Consider increasing max_iter to improve the fit.\n",
      "  ConvergenceWarning)\n",
      " 37%|███▋      | 7124/19264 [1:02:12<1:45:40,  1.91it/s]/Applications/anaconda/lib/python3.6/site-packages/sklearn/linear_model/stochastic_gradient.py:1219: ConvergenceWarning: Maximum number of iteration reached before convergence. Consider increasing max_iter to improve the fit.\n",
      "  ConvergenceWarning)\n",
      " 37%|███▋      | 7153/19264 [1:02:27<1:58:46,  1.70it/s]/Applications/anaconda/lib/python3.6/site-packages/sklearn/linear_model/stochastic_gradient.py:1219: ConvergenceWarning: Maximum number of iteration reached before convergence. Consider increasing max_iter to improve the fit.\n",
      "  ConvergenceWarning)\n",
      " 37%|███▋      | 7207/19264 [1:02:55<2:03:21,  1.63it/s]/Applications/anaconda/lib/python3.6/site-packages/sklearn/linear_model/stochastic_gradient.py:1219: ConvergenceWarning: Maximum number of iteration reached before convergence. Consider increasing max_iter to improve the fit.\n",
      "  ConvergenceWarning)\n",
      " 37%|███▋      | 7208/19264 [1:02:56<2:08:09,  1.57it/s]/Applications/anaconda/lib/python3.6/site-packages/sklearn/linear_model/stochastic_gradient.py:1219: ConvergenceWarning: Maximum number of iteration reached before convergence. Consider increasing max_iter to improve the fit.\n",
      "  ConvergenceWarning)\n",
      " 38%|███▊      | 7261/19264 [1:03:25<1:56:26,  1.72it/s]/Applications/anaconda/lib/python3.6/site-packages/sklearn/linear_model/stochastic_gradient.py:1219: ConvergenceWarning: Maximum number of iteration reached before convergence. Consider increasing max_iter to improve the fit.\n",
      "  ConvergenceWarning)\n",
      " 38%|███▊      | 7294/19264 [1:03:40<2:02:01,  1.63it/s]/Applications/anaconda/lib/python3.6/site-packages/sklearn/linear_model/stochastic_gradient.py:1219: ConvergenceWarning: Maximum number of iteration reached before convergence. Consider increasing max_iter to improve the fit.\n",
      "  ConvergenceWarning)\n",
      " 38%|███▊      | 7305/19264 [1:03:46<1:50:25,  1.80it/s]/Applications/anaconda/lib/python3.6/site-packages/sklearn/linear_model/stochastic_gradient.py:1219: ConvergenceWarning: Maximum number of iteration reached before convergence. Consider increasing max_iter to improve the fit.\n",
      "  ConvergenceWarning)\n",
      " 38%|███▊      | 7341/19264 [1:04:05<1:36:57,  2.05it/s]/Applications/anaconda/lib/python3.6/site-packages/sklearn/linear_model/stochastic_gradient.py:1219: ConvergenceWarning: Maximum number of iteration reached before convergence. Consider increasing max_iter to improve the fit.\n",
      "  ConvergenceWarning)\n",
      " 38%|███▊      | 7388/19264 [1:04:32<1:48:30,  1.82it/s]/Applications/anaconda/lib/python3.6/site-packages/sklearn/linear_model/stochastic_gradient.py:1219: ConvergenceWarning: Maximum number of iteration reached before convergence. Consider increasing max_iter to improve the fit.\n",
      "  ConvergenceWarning)\n",
      " 38%|███▊      | 7413/19264 [1:04:46<1:47:35,  1.84it/s]/Applications/anaconda/lib/python3.6/site-packages/sklearn/linear_model/stochastic_gradient.py:1219: ConvergenceWarning: Maximum number of iteration reached before convergence. Consider increasing max_iter to improve the fit.\n",
      "  ConvergenceWarning)\n",
      " 39%|███▊      | 7439/19264 [1:04:58<1:36:37,  2.04it/s]/Applications/anaconda/lib/python3.6/site-packages/sklearn/linear_model/stochastic_gradient.py:1219: ConvergenceWarning: Maximum number of iteration reached before convergence. Consider increasing max_iter to improve the fit.\n",
      "  ConvergenceWarning)\n",
      " 39%|███▉      | 7537/19264 [1:05:42<1:19:46,  2.45it/s]/Applications/anaconda/lib/python3.6/site-packages/sklearn/linear_model/stochastic_gradient.py:1219: ConvergenceWarning: Maximum number of iteration reached before convergence. Consider increasing max_iter to improve the fit.\n",
      "  ConvergenceWarning)\n",
      " 39%|███▉      | 7545/19264 [1:05:47<1:55:56,  1.68it/s]/Applications/anaconda/lib/python3.6/site-packages/sklearn/linear_model/stochastic_gradient.py:1219: ConvergenceWarning: Maximum number of iteration reached before convergence. Consider increasing max_iter to improve the fit.\n",
      "  ConvergenceWarning)\n",
      " 39%|███▉      | 7555/19264 [1:05:52<1:42:20,  1.91it/s]/Applications/anaconda/lib/python3.6/site-packages/sklearn/linear_model/stochastic_gradient.py:1219: ConvergenceWarning: Maximum number of iteration reached before convergence. Consider increasing max_iter to improve the fit.\n",
      "  ConvergenceWarning)\n",
      " 40%|███▉      | 7701/19264 [1:06:49<1:12:21,  2.66it/s]/Applications/anaconda/lib/python3.6/site-packages/sklearn/linear_model/stochastic_gradient.py:1219: ConvergenceWarning: Maximum number of iteration reached before convergence. Consider increasing max_iter to improve the fit.\n",
      "  ConvergenceWarning)\n",
      " 40%|████      | 7780/19264 [1:07:19<1:24:23,  2.27it/s]/Applications/anaconda/lib/python3.6/site-packages/sklearn/linear_model/stochastic_gradient.py:1219: ConvergenceWarning: Maximum number of iteration reached before convergence. Consider increasing max_iter to improve the fit.\n",
      "  ConvergenceWarning)\n",
      " 41%|████      | 7834/19264 [1:07:39<1:02:10,  3.06it/s]/Applications/anaconda/lib/python3.6/site-packages/sklearn/linear_model/stochastic_gradient.py:1219: ConvergenceWarning: Maximum number of iteration reached before convergence. Consider increasing max_iter to improve the fit.\n",
      "  ConvergenceWarning)\n",
      " 41%|████      | 7943/19264 [1:08:22<1:16:38,  2.46it/s]/Applications/anaconda/lib/python3.6/site-packages/sklearn/linear_model/stochastic_gradient.py:1219: ConvergenceWarning: Maximum number of iteration reached before convergence. Consider increasing max_iter to improve the fit.\n",
      "  ConvergenceWarning)\n",
      " 41%|████▏     | 7947/19264 [1:08:24<1:39:04,  1.90it/s]/Applications/anaconda/lib/python3.6/site-packages/sklearn/linear_model/stochastic_gradient.py:1219: ConvergenceWarning: Maximum number of iteration reached before convergence. Consider increasing max_iter to improve the fit.\n",
      "  ConvergenceWarning)\n",
      " 41%|████▏     | 7975/19264 [1:08:37<52:01,  3.62it/s]  /Applications/anaconda/lib/python3.6/site-packages/sklearn/linear_model/stochastic_gradient.py:1219: ConvergenceWarning: Maximum number of iteration reached before convergence. Consider increasing max_iter to improve the fit.\n",
      "  ConvergenceWarning)\n",
      " 41%|████▏     | 7976/19264 [1:08:38<1:19:40,  2.36it/s]/Applications/anaconda/lib/python3.6/site-packages/sklearn/linear_model/stochastic_gradient.py:1219: ConvergenceWarning: Maximum number of iteration reached before convergence. Consider increasing max_iter to improve the fit.\n",
      "  ConvergenceWarning)\n",
      " 42%|████▏     | 8029/19264 [1:08:55<59:46,  3.13it/s]  /Applications/anaconda/lib/python3.6/site-packages/sklearn/linear_model/stochastic_gradient.py:1219: ConvergenceWarning: Maximum number of iteration reached before convergence. Consider increasing max_iter to improve the fit.\n",
      "  ConvergenceWarning)\n",
      " 43%|████▎     | 8281/19264 [1:10:14<1:20:20,  2.28it/s]/Applications/anaconda/lib/python3.6/site-packages/sklearn/linear_model/stochastic_gradient.py:1219: ConvergenceWarning: Maximum number of iteration reached before convergence. Consider increasing max_iter to improve the fit.\n",
      "  ConvergenceWarning)\n",
      " 43%|████▎     | 8374/19264 [1:10:43<1:16:19,  2.38it/s]/Applications/anaconda/lib/python3.6/site-packages/sklearn/linear_model/stochastic_gradient.py:1219: ConvergenceWarning: Maximum number of iteration reached before convergence. Consider increasing max_iter to improve the fit.\n",
      "  ConvergenceWarning)\n",
      " 45%|████▍     | 8620/19264 [1:12:05<54:15,  3.27it/s]  /Applications/anaconda/lib/python3.6/site-packages/sklearn/linear_model/stochastic_gradient.py:1219: ConvergenceWarning: Maximum number of iteration reached before convergence. Consider increasing max_iter to improve the fit.\n",
      "  ConvergenceWarning)\n",
      " 45%|████▍     | 8631/19264 [1:12:09<54:27,  3.25it/s]  /Applications/anaconda/lib/python3.6/site-packages/sklearn/linear_model/stochastic_gradient.py:1219: ConvergenceWarning: Maximum number of iteration reached before convergence. Consider increasing max_iter to improve the fit.\n",
      "  ConvergenceWarning)\n",
      " 45%|████▌     | 8672/19264 [1:12:21<48:57,  3.61it/s]  /Applications/anaconda/lib/python3.6/site-packages/sklearn/linear_model/stochastic_gradient.py:1219: ConvergenceWarning: Maximum number of iteration reached before convergence. Consider increasing max_iter to improve the fit.\n",
      "  ConvergenceWarning)\n",
      " 45%|████▌     | 8728/19264 [1:12:40<1:12:21,  2.43it/s]/Applications/anaconda/lib/python3.6/site-packages/sklearn/linear_model/stochastic_gradient.py:1219: ConvergenceWarning: Maximum number of iteration reached before convergence. Consider increasing max_iter to improve the fit.\n",
      "  ConvergenceWarning)\n",
      " 45%|████▌     | 8735/19264 [1:12:44<1:32:17,  1.90it/s]/Applications/anaconda/lib/python3.6/site-packages/sklearn/linear_model/stochastic_gradient.py:1219: ConvergenceWarning: Maximum number of iteration reached before convergence. Consider increasing max_iter to improve the fit.\n",
      "  ConvergenceWarning)\n",
      " 45%|████▌     | 8759/19264 [1:12:53<1:07:16,  2.60it/s]/Applications/anaconda/lib/python3.6/site-packages/sklearn/linear_model/stochastic_gradient.py:1219: ConvergenceWarning: Maximum number of iteration reached before convergence. Consider increasing max_iter to improve the fit.\n",
      "  ConvergenceWarning)\n",
      " 46%|████▌     | 8785/19264 [1:13:02<56:52,  3.07it/s]  /Applications/anaconda/lib/python3.6/site-packages/sklearn/linear_model/stochastic_gradient.py:1219: ConvergenceWarning: Maximum number of iteration reached before convergence. Consider increasing max_iter to improve the fit.\n",
      "  ConvergenceWarning)\n",
      " 48%|████▊     | 9171/19264 [1:14:58<48:05,  3.50it/s]  /Applications/anaconda/lib/python3.6/site-packages/sklearn/linear_model/stochastic_gradient.py:1219: ConvergenceWarning: Maximum number of iteration reached before convergence. Consider increasing max_iter to improve the fit.\n",
      "  ConvergenceWarning)\n",
      " 49%|████▉     | 9402/19264 [1:16:06<48:14,  3.41it/s]  /Applications/anaconda/lib/python3.6/site-packages/sklearn/linear_model/stochastic_gradient.py:1219: ConvergenceWarning: Maximum number of iteration reached before convergence. Consider increasing max_iter to improve the fit.\n",
      "  ConvergenceWarning)\n",
      " 50%|████▉     | 9544/19264 [1:16:48<46:45,  3.46it/s]  /Applications/anaconda/lib/python3.6/site-packages/sklearn/linear_model/stochastic_gradient.py:1219: ConvergenceWarning: Maximum number of iteration reached before convergence. Consider increasing max_iter to improve the fit.\n",
      "  ConvergenceWarning)\n",
      " 50%|████▉     | 9596/19264 [1:17:03<45:41,  3.53it/s]  /Applications/anaconda/lib/python3.6/site-packages/sklearn/linear_model/stochastic_gradient.py:1219: ConvergenceWarning: Maximum number of iteration reached before convergence. Consider increasing max_iter to improve the fit.\n",
      "  ConvergenceWarning)\n",
      " 51%|█████     | 9766/19264 [1:17:53<44:50,  3.53it/s]  /Applications/anaconda/lib/python3.6/site-packages/sklearn/linear_model/stochastic_gradient.py:1219: ConvergenceWarning: Maximum number of iteration reached before convergence. Consider increasing max_iter to improve the fit.\n",
      "  ConvergenceWarning)\n",
      " 51%|█████     | 9769/19264 [1:17:54<53:02,  2.98it/s]  /Applications/anaconda/lib/python3.6/site-packages/sklearn/linear_model/stochastic_gradient.py:1219: ConvergenceWarning: Maximum number of iteration reached before convergence. Consider increasing max_iter to improve the fit.\n",
      "  ConvergenceWarning)\n",
      " 54%|█████▍    | 10378/19264 [1:20:54<41:25,  3.57it/s]  /Applications/anaconda/lib/python3.6/site-packages/sklearn/linear_model/stochastic_gradient.py:1219: ConvergenceWarning: Maximum number of iteration reached before convergence. Consider increasing max_iter to improve the fit.\n",
      "  ConvergenceWarning)\n",
      " 57%|█████▋    | 10971/19264 [1:23:49<39:13,  3.52it/s]/Applications/anaconda/lib/python3.6/site-packages/sklearn/linear_model/stochastic_gradient.py:1219: ConvergenceWarning: Maximum number of iteration reached before convergence. Consider increasing max_iter to improve the fit.\n",
      "  ConvergenceWarning)\n",
      " 58%|█████▊    | 11249/19264 [1:25:11<39:10,  3.41it/s]/Applications/anaconda/lib/python3.6/site-packages/sklearn/linear_model/stochastic_gradient.py:1219: ConvergenceWarning: Maximum number of iteration reached before convergence. Consider increasing max_iter to improve the fit.\n",
      "  ConvergenceWarning)\n",
      " 64%|██████▍   | 12345/19264 [1:30:34<53:08,  2.17it/s]/Applications/anaconda/lib/python3.6/site-packages/sklearn/linear_model/stochastic_gradient.py:1219: ConvergenceWarning: Maximum number of iteration reached before convergence. Consider increasing max_iter to improve the fit.\n",
      "  ConvergenceWarning)\n",
      " 65%|██████▌   | 12599/19264 [1:31:49<35:50,  3.10it/s]/Applications/anaconda/lib/python3.6/site-packages/sklearn/linear_model/stochastic_gradient.py:1219: ConvergenceWarning: Maximum number of iteration reached before convergence. Consider increasing max_iter to improve the fit.\n",
      "  ConvergenceWarning)\n",
      " 66%|██████▌   | 12673/19264 [1:32:11<31:00,  3.54it/s]/Applications/anaconda/lib/python3.6/site-packages/sklearn/linear_model/stochastic_gradient.py:1219: ConvergenceWarning: Maximum number of iteration reached before convergence. Consider increasing max_iter to improve the fit.\n",
      "  ConvergenceWarning)\n",
      " 68%|██████▊   | 13053/19264 [1:34:04<30:07,  3.44it/s]/Applications/anaconda/lib/python3.6/site-packages/sklearn/linear_model/stochastic_gradient.py:1219: ConvergenceWarning: Maximum number of iteration reached before convergence. Consider increasing max_iter to improve the fit.\n",
      "  ConvergenceWarning)\n",
      " 69%|██████▉   | 13381/19264 [1:35:41<28:19,  3.46it/s]/Applications/anaconda/lib/python3.6/site-packages/sklearn/linear_model/stochastic_gradient.py:1219: ConvergenceWarning: Maximum number of iteration reached before convergence. Consider increasing max_iter to improve the fit.\n",
      "  ConvergenceWarning)\n",
      " 70%|███████   | 13562/19264 [1:36:35<29:20,  3.24it/s]/Applications/anaconda/lib/python3.6/site-packages/sklearn/linear_model/stochastic_gradient.py:1219: ConvergenceWarning: Maximum number of iteration reached before convergence. Consider increasing max_iter to improve the fit.\n",
      "  ConvergenceWarning)\n",
      " 71%|███████   | 13611/19264 [1:36:49<28:41,  3.28it/s]/Applications/anaconda/lib/python3.6/site-packages/sklearn/linear_model/stochastic_gradient.py:1219: ConvergenceWarning: Maximum number of iteration reached before convergence. Consider increasing max_iter to improve the fit.\n",
      "  ConvergenceWarning)\n",
      " 73%|███████▎  | 13985/19264 [1:38:38<25:02,  3.51it/s]/Applications/anaconda/lib/python3.6/site-packages/sklearn/linear_model/stochastic_gradient.py:1219: ConvergenceWarning: Maximum number of iteration reached before convergence. Consider increasing max_iter to improve the fit.\n",
      "  ConvergenceWarning)\n",
      " 73%|███████▎  | 14101/19264 [1:39:13<28:59,  2.97it/s]/Applications/anaconda/lib/python3.6/site-packages/sklearn/linear_model/stochastic_gradient.py:1219: ConvergenceWarning: Maximum number of iteration reached before convergence. Consider increasing max_iter to improve the fit.\n",
      "  ConvergenceWarning)\n",
      " 73%|███████▎  | 14158/19264 [1:39:30<30:03,  2.83it/s]/Applications/anaconda/lib/python3.6/site-packages/sklearn/linear_model/stochastic_gradient.py:1219: ConvergenceWarning: Maximum number of iteration reached before convergence. Consider increasing max_iter to improve the fit.\n",
      "  ConvergenceWarning)\n",
      " 73%|███████▎  | 14159/19264 [1:39:30<34:43,  2.45it/s]/Applications/anaconda/lib/python3.6/site-packages/sklearn/linear_model/stochastic_gradient.py:1219: ConvergenceWarning: Maximum number of iteration reached before convergence. Consider increasing max_iter to improve the fit.\n",
      "  ConvergenceWarning)\n",
      " 77%|███████▋  | 14847/19264 [1:42:52<21:13,  3.47it/s]/Applications/anaconda/lib/python3.6/site-packages/sklearn/linear_model/stochastic_gradient.py:1219: ConvergenceWarning: Maximum number of iteration reached before convergence. Consider increasing max_iter to improve the fit.\n",
      "  ConvergenceWarning)\n",
      " 78%|███████▊  | 15071/19264 [1:44:01<23:59,  2.91it/s]/Applications/anaconda/lib/python3.6/site-packages/sklearn/linear_model/stochastic_gradient.py:1219: ConvergenceWarning: Maximum number of iteration reached before convergence. Consider increasing max_iter to improve the fit.\n",
      "  ConvergenceWarning)\n",
      " 81%|████████▏ | 15652/19264 [1:46:52<18:19,  3.28it/s]/Applications/anaconda/lib/python3.6/site-packages/sklearn/linear_model/stochastic_gradient.py:1219: ConvergenceWarning: Maximum number of iteration reached before convergence. Consider increasing max_iter to improve the fit.\n",
      "  ConvergenceWarning)\n",
      " 88%|████████▊ | 16929/19264 [1:53:08<10:51,  3.58it/s]/Applications/anaconda/lib/python3.6/site-packages/sklearn/linear_model/stochastic_gradient.py:1219: ConvergenceWarning: Maximum number of iteration reached before convergence. Consider increasing max_iter to improve the fit.\n",
      "  ConvergenceWarning)\n",
      " 89%|████████▉ | 17104/19264 [1:53:59<11:06,  3.24it/s]/Applications/anaconda/lib/python3.6/site-packages/sklearn/linear_model/stochastic_gradient.py:1219: ConvergenceWarning: Maximum number of iteration reached before convergence. Consider increasing max_iter to improve the fit.\n",
      "  ConvergenceWarning)\n",
      " 90%|████████▉ | 17295/19264 [1:54:54<09:31,  3.45it/s]/Applications/anaconda/lib/python3.6/site-packages/sklearn/linear_model/stochastic_gradient.py:1219: ConvergenceWarning: Maximum number of iteration reached before convergence. Consider increasing max_iter to improve the fit.\n",
      "  ConvergenceWarning)\n",
      " 93%|█████████▎| 17857/19264 [1:57:38<06:46,  3.46it/s]/Applications/anaconda/lib/python3.6/site-packages/sklearn/linear_model/stochastic_gradient.py:1219: ConvergenceWarning: Maximum number of iteration reached before convergence. Consider increasing max_iter to improve the fit.\n",
      "  ConvergenceWarning)\n",
      " 93%|█████████▎| 17963/19264 [1:58:08<06:15,  3.47it/s]/Applications/anaconda/lib/python3.6/site-packages/sklearn/linear_model/stochastic_gradient.py:1219: ConvergenceWarning: Maximum number of iteration reached before convergence. Consider increasing max_iter to improve the fit.\n",
      "  ConvergenceWarning)\n",
      " 96%|█████████▌| 18529/19264 [2:00:55<03:35,  3.41it/s]/Applications/anaconda/lib/python3.6/site-packages/sklearn/linear_model/stochastic_gradient.py:1219: ConvergenceWarning: Maximum number of iteration reached before convergence. Consider increasing max_iter to improve the fit.\n",
      "  ConvergenceWarning)\n",
      " 99%|█████████▉| 19067/19264 [2:03:30<00:58,  3.37it/s]/Applications/anaconda/lib/python3.6/site-packages/sklearn/linear_model/stochastic_gradient.py:1219: ConvergenceWarning: Maximum number of iteration reached before convergence. Consider increasing max_iter to improve the fit.\n",
      "  ConvergenceWarning)\n",
      "100%|██████████| 19264/19264 [2:04:28<00:00,  3.40it/s]\n"
     ]
    }
   ],
   "source": [
    "baseline_error, nlp_error = test_last(fiveplus, vecs, beer_id_to_vecs_index)"
   ]
  },
  {
   "cell_type": "code",
   "execution_count": 159,
   "metadata": {
    "collapsed": false
   },
   "outputs": [
    {
     "name": "stdout",
     "output_type": "stream",
     "text": [
      "test_baseline_error = 0.3081064876194298\n",
      "test_nlp_error = 0.3126100764886783\n"
     ]
    }
   ],
   "source": [
    "# all 19K users and 1M checkins\n",
    "print(f'test_baseline_error = {baseline_error}')\n",
    "print(f'test_nlp_error = {nlp_error}')"
   ]
  },
  {
   "cell_type": "code",
   "execution_count": 180,
   "metadata": {
    "collapsed": true
   },
   "outputs": [],
   "source": [
    "fivers = (u for u in fiveplus.user_id.unique())"
   ]
  },
  {
   "cell_type": "code",
   "execution_count": 181,
   "metadata": {
    "collapsed": false
   },
   "outputs": [
    {
     "data": {
      "text/plain": [
       "1073271"
      ]
     },
     "execution_count": 181,
     "metadata": {},
     "output_type": "execute_result"
    }
   ],
   "source": [
    "for _ in range(11):\n",
    "    u=next(fivers)\n",
    "u=next(fivers)\n",
    "u"
   ]
  },
  {
   "cell_type": "code",
   "execution_count": 182,
   "metadata": {
    "collapsed": false
   },
   "outputs": [
    {
     "data": {
      "text/plain": [
       "144"
      ]
     },
     "execution_count": 182,
     "metadata": {},
     "output_type": "execute_result"
    }
   ],
   "source": [
    "u_df = fiveplus[fiveplus.user_id == u]\n",
    "len(u_df)"
   ]
  },
  {
   "cell_type": "code",
   "execution_count": 183,
   "metadata": {
    "collapsed": false
   },
   "outputs": [
    {
     "data": {
      "text/html": [
       "<div>\n",
       "<style scoped>\n",
       "    .dataframe tbody tr th:only-of-type {\n",
       "        vertical-align: middle;\n",
       "    }\n",
       "\n",
       "    .dataframe tbody tr th {\n",
       "        vertical-align: top;\n",
       "    }\n",
       "\n",
       "    .dataframe thead th {\n",
       "        text-align: right;\n",
       "    }\n",
       "</style>\n",
       "<table border=\"1\" class=\"dataframe\">\n",
       "  <thead>\n",
       "    <tr style=\"text-align: right;\">\n",
       "      <th></th>\n",
       "      <th>beer_id</th>\n",
       "      <th>user_id</th>\n",
       "      <th>rating_user</th>\n",
       "      <th>brewery_name</th>\n",
       "      <th>beer_name</th>\n",
       "      <th>beer_style</th>\n",
       "      <th>rating_global</th>\n",
       "      <th>abv</th>\n",
       "      <th>beer_description</th>\n",
       "      <th>beer_bias</th>\n",
       "      <th>user_bias</th>\n",
       "      <th>user_pref</th>\n",
       "    </tr>\n",
       "  </thead>\n",
       "  <tbody>\n",
       "    <tr>\n",
       "      <th>389595</th>\n",
       "      <td>1016561</td>\n",
       "      <td>1073271</td>\n",
       "      <td>4.50</td>\n",
       "      <td>3 Stars Brewing Company</td>\n",
       "      <td>Above the Clouds</td>\n",
       "      <td>Farmhouse Ale - Saison</td>\n",
       "      <td>3.57005</td>\n",
       "      <td>6.3</td>\n",
       "      <td>3 Stars Brewing Company Above the Clouds Style...</td>\n",
       "      <td>0.92995</td>\n",
       "      <td>0.432022</td>\n",
       "      <td>0.497928</td>\n",
       "    </tr>\n",
       "    <tr>\n",
       "      <th>389608</th>\n",
       "      <td>2452100</td>\n",
       "      <td>1073271</td>\n",
       "      <td>4.25</td>\n",
       "      <td>Old Ox Brewery</td>\n",
       "      <td>Goal Crusher</td>\n",
       "      <td>IPA - International</td>\n",
       "      <td>3.70614</td>\n",
       "      <td>7.5</td>\n",
       "      <td>Old Ox Brewery Goal Crusher This amazing mix o...</td>\n",
       "      <td>0.54386</td>\n",
       "      <td>0.432022</td>\n",
       "      <td>0.111838</td>\n",
       "    </tr>\n",
       "    <tr>\n",
       "      <th>389611</th>\n",
       "      <td>659313</td>\n",
       "      <td>1073271</td>\n",
       "      <td>4.00</td>\n",
       "      <td>Blue Mountain Brewery</td>\n",
       "      <td>A Hopwork Orange</td>\n",
       "      <td>IPA - American</td>\n",
       "      <td>3.63205</td>\n",
       "      <td>7.0</td>\n",
       "      <td>Blue Mountain Brewery A Hopwork Orange An IPA ...</td>\n",
       "      <td>0.36795</td>\n",
       "      <td>0.432022</td>\n",
       "      <td>-0.064072</td>\n",
       "    </tr>\n",
       "    <tr>\n",
       "      <th>389676</th>\n",
       "      <td>2922244</td>\n",
       "      <td>1073271</td>\n",
       "      <td>4.25</td>\n",
       "      <td>AleSmith Brewing Company</td>\n",
       "      <td>Gregarious Nature</td>\n",
       "      <td>IPA - American</td>\n",
       "      <td>3.78609</td>\n",
       "      <td>7.0</td>\n",
       "      <td>AleSmith Brewing Company Gregarious Nature Two...</td>\n",
       "      <td>0.46391</td>\n",
       "      <td>0.432022</td>\n",
       "      <td>0.031888</td>\n",
       "    </tr>\n",
       "    <tr>\n",
       "      <th>389768</th>\n",
       "      <td>2485082</td>\n",
       "      <td>1073271</td>\n",
       "      <td>4.00</td>\n",
       "      <td>Center Of The Universe Brewing Company</td>\n",
       "      <td>Chameleon IPA Green</td>\n",
       "      <td>IPA - American</td>\n",
       "      <td>3.80481</td>\n",
       "      <td>6.8</td>\n",
       "      <td>Center Of The Universe Brewing Company Chamele...</td>\n",
       "      <td>0.19519</td>\n",
       "      <td>0.432022</td>\n",
       "      <td>-0.236832</td>\n",
       "    </tr>\n",
       "    <tr>\n",
       "      <th>389803</th>\n",
       "      <td>2365122</td>\n",
       "      <td>1073271</td>\n",
       "      <td>4.25</td>\n",
       "      <td>Terrapin Beer Co.</td>\n",
       "      <td>So Fresh &amp; So Green, Green - Citra</td>\n",
       "      <td>IPA - American</td>\n",
       "      <td>3.72725</td>\n",
       "      <td>6.6</td>\n",
       "      <td>Terrapin Beer Co.  So Fresh &amp; So Green, Green ...</td>\n",
       "      <td>0.52275</td>\n",
       "      <td>0.432022</td>\n",
       "      <td>0.090728</td>\n",
       "    </tr>\n",
       "    <tr>\n",
       "      <th>389819</th>\n",
       "      <td>2415824</td>\n",
       "      <td>1073271</td>\n",
       "      <td>4.25</td>\n",
       "      <td>6 Bears &amp; A Goat Brewing Company</td>\n",
       "      <td>Trop Hours</td>\n",
       "      <td>Pale Ale - American</td>\n",
       "      <td>3.58494</td>\n",
       "      <td>5.6</td>\n",
       "      <td>6 Bears &amp; A Goat Brewing Company Trop Hours Am...</td>\n",
       "      <td>0.66506</td>\n",
       "      <td>0.432022</td>\n",
       "      <td>0.233038</td>\n",
       "    </tr>\n",
       "    <tr>\n",
       "      <th>389823</th>\n",
       "      <td>2534246</td>\n",
       "      <td>1073271</td>\n",
       "      <td>4.25</td>\n",
       "      <td>Northern Outer Banks Brewing Company</td>\n",
       "      <td>Corolla Lager</td>\n",
       "      <td>Lager - American Amber / Red</td>\n",
       "      <td>3.53250</td>\n",
       "      <td>6.0</td>\n",
       "      <td>Northern Outer Banks Brewing Company Corolla L...</td>\n",
       "      <td>0.71750</td>\n",
       "      <td>0.432022</td>\n",
       "      <td>0.285478</td>\n",
       "    </tr>\n",
       "    <tr>\n",
       "      <th>389828</th>\n",
       "      <td>19562</td>\n",
       "      <td>1073271</td>\n",
       "      <td>4.00</td>\n",
       "      <td>Mad Fox Brewing Company</td>\n",
       "      <td>Defender American Pale Ale</td>\n",
       "      <td>Pale Ale - American</td>\n",
       "      <td>3.37204</td>\n",
       "      <td>5.2</td>\n",
       "      <td>Mad Fox Brewing Company Defender American Pale...</td>\n",
       "      <td>0.62796</td>\n",
       "      <td>0.432022</td>\n",
       "      <td>0.195938</td>\n",
       "    </tr>\n",
       "    <tr>\n",
       "      <th>389832</th>\n",
       "      <td>28524</td>\n",
       "      <td>1073271</td>\n",
       "      <td>4.25</td>\n",
       "      <td>Port City Brewing</td>\n",
       "      <td>Optimal® Wit</td>\n",
       "      <td>Witbier</td>\n",
       "      <td>3.62283</td>\n",
       "      <td>4.9</td>\n",
       "      <td>Port City Brewing Optimal® Wit GABF: 2013 Gold...</td>\n",
       "      <td>0.62717</td>\n",
       "      <td>0.432022</td>\n",
       "      <td>0.195148</td>\n",
       "    </tr>\n",
       "  </tbody>\n",
       "</table>\n",
       "</div>"
      ],
      "text/plain": [
       "        beer_id  user_id  rating_user                            brewery_name  \\\n",
       "389595  1016561  1073271         4.50                 3 Stars Brewing Company   \n",
       "389608  2452100  1073271         4.25                          Old Ox Brewery   \n",
       "389611   659313  1073271         4.00                   Blue Mountain Brewery   \n",
       "389676  2922244  1073271         4.25                AleSmith Brewing Company   \n",
       "389768  2485082  1073271         4.00  Center Of The Universe Brewing Company   \n",
       "389803  2365122  1073271         4.25                      Terrapin Beer Co.    \n",
       "389819  2415824  1073271         4.25        6 Bears & A Goat Brewing Company   \n",
       "389823  2534246  1073271         4.25    Northern Outer Banks Brewing Company   \n",
       "389828    19562  1073271         4.00                 Mad Fox Brewing Company   \n",
       "389832    28524  1073271         4.25                       Port City Brewing   \n",
       "\n",
       "                                 beer_name                    beer_style  \\\n",
       "389595                    Above the Clouds        Farmhouse Ale - Saison   \n",
       "389608                        Goal Crusher           IPA - International   \n",
       "389611                    A Hopwork Orange                IPA - American   \n",
       "389676                   Gregarious Nature                IPA - American   \n",
       "389768                 Chameleon IPA Green                IPA - American   \n",
       "389803  So Fresh & So Green, Green - Citra                IPA - American   \n",
       "389819                          Trop Hours           Pale Ale - American   \n",
       "389823                       Corolla Lager  Lager - American Amber / Red   \n",
       "389828          Defender American Pale Ale           Pale Ale - American   \n",
       "389832                        Optimal® Wit                       Witbier   \n",
       "\n",
       "        rating_global  abv                                   beer_description  \\\n",
       "389595        3.57005  6.3  3 Stars Brewing Company Above the Clouds Style...   \n",
       "389608        3.70614  7.5  Old Ox Brewery Goal Crusher This amazing mix o...   \n",
       "389611        3.63205  7.0  Blue Mountain Brewery A Hopwork Orange An IPA ...   \n",
       "389676        3.78609  7.0  AleSmith Brewing Company Gregarious Nature Two...   \n",
       "389768        3.80481  6.8  Center Of The Universe Brewing Company Chamele...   \n",
       "389803        3.72725  6.6  Terrapin Beer Co.  So Fresh & So Green, Green ...   \n",
       "389819        3.58494  5.6  6 Bears & A Goat Brewing Company Trop Hours Am...   \n",
       "389823        3.53250  6.0  Northern Outer Banks Brewing Company Corolla L...   \n",
       "389828        3.37204  5.2  Mad Fox Brewing Company Defender American Pale...   \n",
       "389832        3.62283  4.9  Port City Brewing Optimal® Wit GABF: 2013 Gold...   \n",
       "\n",
       "        beer_bias  user_bias  user_pref  \n",
       "389595    0.92995   0.432022   0.497928  \n",
       "389608    0.54386   0.432022   0.111838  \n",
       "389611    0.36795   0.432022  -0.064072  \n",
       "389676    0.46391   0.432022   0.031888  \n",
       "389768    0.19519   0.432022  -0.236832  \n",
       "389803    0.52275   0.432022   0.090728  \n",
       "389819    0.66506   0.432022   0.233038  \n",
       "389823    0.71750   0.432022   0.285478  \n",
       "389828    0.62796   0.432022   0.195938  \n",
       "389832    0.62717   0.432022   0.195148  "
      ]
     },
     "execution_count": 183,
     "metadata": {},
     "output_type": "execute_result"
    }
   ],
   "source": [
    "u_df.tail(10)"
   ]
  },
  {
   "cell_type": "code",
   "execution_count": 184,
   "metadata": {
    "collapsed": false
   },
   "outputs": [
    {
     "name": "stderr",
     "output_type": "stream",
     "text": [
      "100%|██████████| 1/1 [00:01<00:00,  1.76s/it]\n"
     ]
    },
    {
     "data": {
      "text/plain": [
       "{1073271: (0.19651279720279735, 0.1777578412714842)}"
      ]
     },
     "execution_count": 184,
     "metadata": {},
     "output_type": "execute_result"
    }
   ],
   "source": [
    "test_last(u_df, vecs, beer_id_to_vecs_index)"
   ]
  },
  {
   "cell_type": "code",
   "execution_count": 374,
   "metadata": {
    "collapsed": true
   },
   "outputs": [],
   "source": [
    "np.random.seed(0)"
   ]
  },
  {
   "cell_type": "code",
   "execution_count": 241,
   "metadata": {
    "collapsed": false
   },
   "outputs": [],
   "source": [
    "sample1K = np.random.choice(fiveplus.user_id.unique(), 1000)"
   ]
  },
  {
   "cell_type": "code",
   "execution_count": 242,
   "metadata": {
    "collapsed": false
   },
   "outputs": [
    {
     "name": "stderr",
     "output_type": "stream",
     "text": [
      "/Applications/anaconda/lib/python3.6/site-packages/ipykernel/__main__.py:1: SettingWithCopyWarning: \n",
      "A value is trying to be set on a copy of a slice from a DataFrame.\n",
      "Try using .loc[row_indexer,col_indexer] = value instead\n",
      "\n",
      "See the caveats in the documentation: http://pandas.pydata.org/pandas-docs/stable/indexing.html#indexing-view-versus-copy\n",
      "  if __name__ == '__main__':\n"
     ]
    }
   ],
   "source": [
    "fiveplus['sampled'] = fiveplus.user_id.apply(lambda uid: uid in sample1K)"
   ]
  },
  {
   "cell_type": "code",
   "execution_count": 375,
   "metadata": {
    "collapsed": false
   },
   "outputs": [
    {
     "data": {
      "text/plain": [
       "52139"
      ]
     },
     "execution_count": 375,
     "metadata": {},
     "output_type": "execute_result"
    }
   ],
   "source": [
    "sum(fiveplus.sampled)"
   ]
  },
  {
   "cell_type": "code",
   "execution_count": 256,
   "metadata": {
    "collapsed": false,
    "scrolled": true
   },
   "outputs": [
    {
     "name": "stderr",
     "output_type": "stream",
     "text": [
      "  2%|▏         | 18/973 [00:10<08:06,  1.96it/s]/Applications/anaconda/lib/python3.6/site-packages/sklearn/linear_model/stochastic_gradient.py:1219: ConvergenceWarning: Maximum number of iteration reached before convergence. Consider increasing max_iter to improve the fit.\n",
      "  ConvergenceWarning)\n",
      "  8%|▊         | 77/973 [00:41<08:45,  1.70it/s]/Applications/anaconda/lib/python3.6/site-packages/sklearn/linear_model/stochastic_gradient.py:1219: ConvergenceWarning: Maximum number of iteration reached before convergence. Consider increasing max_iter to improve the fit.\n",
      "  ConvergenceWarning)\n",
      "  8%|▊         | 82/973 [00:44<08:55,  1.67it/s]/Applications/anaconda/lib/python3.6/site-packages/sklearn/linear_model/stochastic_gradient.py:1219: ConvergenceWarning: Maximum number of iteration reached before convergence. Consider increasing max_iter to improve the fit.\n",
      "  ConvergenceWarning)\n",
      " 15%|█▍        | 144/973 [01:17<07:49,  1.76it/s]/Applications/anaconda/lib/python3.6/site-packages/sklearn/linear_model/stochastic_gradient.py:1219: ConvergenceWarning: Maximum number of iteration reached before convergence. Consider increasing max_iter to improve the fit.\n",
      "  ConvergenceWarning)\n",
      " 17%|█▋        | 167/973 [01:30<07:35,  1.77it/s]/Applications/anaconda/lib/python3.6/site-packages/sklearn/linear_model/stochastic_gradient.py:1219: ConvergenceWarning: Maximum number of iteration reached before convergence. Consider increasing max_iter to improve the fit.\n",
      "  ConvergenceWarning)\n",
      " 17%|█▋        | 169/973 [01:31<07:47,  1.72it/s]/Applications/anaconda/lib/python3.6/site-packages/sklearn/linear_model/stochastic_gradient.py:1219: ConvergenceWarning: Maximum number of iteration reached before convergence. Consider increasing max_iter to improve the fit.\n",
      "  ConvergenceWarning)\n",
      " 19%|█▉        | 187/973 [01:41<07:08,  1.83it/s]/Applications/anaconda/lib/python3.6/site-packages/sklearn/linear_model/stochastic_gradient.py:1219: ConvergenceWarning: Maximum number of iteration reached before convergence. Consider increasing max_iter to improve the fit.\n",
      "  ConvergenceWarning)\n",
      " 20%|█▉        | 193/973 [01:44<06:43,  1.93it/s]/Applications/anaconda/lib/python3.6/site-packages/sklearn/linear_model/stochastic_gradient.py:1219: ConvergenceWarning: Maximum number of iteration reached before convergence. Consider increasing max_iter to improve the fit.\n",
      "  ConvergenceWarning)\n",
      " 25%|██▍       | 241/973 [02:10<07:10,  1.70it/s]/Applications/anaconda/lib/python3.6/site-packages/sklearn/linear_model/stochastic_gradient.py:1219: ConvergenceWarning: Maximum number of iteration reached before convergence. Consider increasing max_iter to improve the fit.\n",
      "  ConvergenceWarning)\n",
      " 33%|███▎      | 317/973 [02:49<05:33,  1.97it/s]/Applications/anaconda/lib/python3.6/site-packages/sklearn/linear_model/stochastic_gradient.py:1219: ConvergenceWarning: Maximum number of iteration reached before convergence. Consider increasing max_iter to improve the fit.\n",
      "  ConvergenceWarning)\n",
      " 35%|███▍      | 339/973 [03:00<05:19,  1.98it/s]/Applications/anaconda/lib/python3.6/site-packages/sklearn/linear_model/stochastic_gradient.py:1219: ConvergenceWarning: Maximum number of iteration reached before convergence. Consider increasing max_iter to improve the fit.\n",
      "  ConvergenceWarning)\n",
      " 38%|███▊      | 367/973 [03:14<05:11,  1.95it/s]/Applications/anaconda/lib/python3.6/site-packages/sklearn/linear_model/stochastic_gradient.py:1219: ConvergenceWarning: Maximum number of iteration reached before convergence. Consider increasing max_iter to improve the fit.\n",
      "  ConvergenceWarning)\n",
      " 98%|█████████▊| 949/973 [06:23<00:07,  3.30it/s]/Applications/anaconda/lib/python3.6/site-packages/sklearn/linear_model/stochastic_gradient.py:1219: ConvergenceWarning: Maximum number of iteration reached before convergence. Consider increasing max_iter to improve the fit.\n",
      "  ConvergenceWarning)\n",
      "100%|██████████| 973/973 [06:31<00:00,  3.21it/s]\n"
     ]
    }
   ],
   "source": [
    "sample1K_scores = test_last(fiveplus[fiveplus.sampled], vecs, beer_id_to_vecs_index, rando=1)"
   ]
  },
  {
   "cell_type": "code",
   "execution_count": 257,
   "metadata": {
    "collapsed": false
   },
   "outputs": [
    {
     "data": {
      "text/plain": [
       "array([ 0.31365449,  0.31276952])"
      ]
     },
     "execution_count": 257,
     "metadata": {},
     "output_type": "execute_result"
    }
   ],
   "source": [
    "np.mean([val for val in sample1K_scores.values()], axis=0)  # ([baseline error only, baseline plus regression error])"
   ]
  },
  {
   "cell_type": "code",
   "execution_count": 201,
   "metadata": {
    "collapsed": false
   },
   "outputs": [],
   "source": [
    "sizes = dict(fiveplus.groupby('user_id').size())\n",
    "by_size = [sizes[key] for key in sample1K_scores.keys()]\n",
    "baselines = [v[0] for v in sample1K_scores.values()]\n",
    "nlps = [v[1] for v in sample1K_scores.values()]"
   ]
  },
  {
   "cell_type": "code",
   "execution_count": 202,
   "metadata": {
    "collapsed": false
   },
   "outputs": [
    {
     "data": {
      "text/plain": [
       "True"
      ]
     },
     "execution_count": 202,
     "metadata": {},
     "output_type": "execute_result"
    }
   ],
   "source": [
    "# assertion test\n",
    "len(by_size) == len(baselines) == len(nlps)"
   ]
  },
  {
   "cell_type": "code",
   "execution_count": 289,
   "metadata": {
    "collapsed": false
   },
   "outputs": [
    {
     "data": {
      "image/png": "[encoded data removed]",
      "text/plain": [
       "<matplotlib.figure.Figure at 0x1a4a7a4ba8>"
      ]
     },
     "metadata": {},
     "output_type": "display_data"
    }
   ],
   "source": [
    "plt.figure(figsize=(15, 10))\n",
    "plt.scatter(by_size, np.array(baselines) - np.array(nlps), facecolors='none', edgecolors='b', alpha=0.5)\n",
    "plt.axhline(0.25, c='g')\n",
    "plt.axhline(-0.25, c='g')\n",
    "plt.axhline(0, c='k', alpha=0.3)\n",
    "plt.ylabel('<--  Baseline model better \\\n",
    "        NLP model better -->')\n",
    "plt.xlabel('Size of training set')\n",
    "plt.ylim(-0.75, 0.75);"
   ]
  },
  {
   "cell_type": "markdown",
   "metadata": {},
   "source": [
    "With max_df set to 0.17, removing top 8 most frequent words:"
   ]
  },
  {
   "cell_type": "code",
   "execution_count": 378,
   "metadata": {
    "collapsed": false
   },
   "outputs": [
    {
     "name": "stderr",
     "output_type": "stream",
     "text": [
      "  1%|▏         | 13/973 [00:07<08:09,  1.96it/s]/Applications/anaconda/lib/python3.6/site-packages/sklearn/linear_model/stochastic_gradient.py:1219: ConvergenceWarning: Maximum number of iteration reached before convergence. Consider increasing max_iter to improve the fit.\n",
      "  ConvergenceWarning)\n",
      "  2%|▏         | 18/973 [00:10<08:01,  1.98it/s]/Applications/anaconda/lib/python3.6/site-packages/sklearn/linear_model/stochastic_gradient.py:1219: ConvergenceWarning: Maximum number of iteration reached before convergence. Consider increasing max_iter to improve the fit.\n",
      "  ConvergenceWarning)\n",
      "  3%|▎         | 31/973 [00:17<07:49,  2.01it/s]/Applications/anaconda/lib/python3.6/site-packages/sklearn/linear_model/stochastic_gradient.py:1219: ConvergenceWarning: Maximum number of iteration reached before convergence. Consider increasing max_iter to improve the fit.\n",
      "  ConvergenceWarning)\n",
      "  3%|▎         | 33/973 [00:18<08:33,  1.83it/s]/Applications/anaconda/lib/python3.6/site-packages/sklearn/linear_model/stochastic_gradient.py:1219: ConvergenceWarning: Maximum number of iteration reached before convergence. Consider increasing max_iter to improve the fit.\n",
      "  ConvergenceWarning)\n",
      "  5%|▍         | 44/973 [00:25<09:02,  1.71it/s]/Applications/anaconda/lib/python3.6/site-packages/sklearn/linear_model/stochastic_gradient.py:1219: ConvergenceWarning: Maximum number of iteration reached before convergence. Consider increasing max_iter to improve the fit.\n",
      "  ConvergenceWarning)\n",
      "  8%|▊         | 75/973 [00:41<07:05,  2.11it/s]/Applications/anaconda/lib/python3.6/site-packages/sklearn/linear_model/stochastic_gradient.py:1219: ConvergenceWarning: Maximum number of iteration reached before convergence. Consider increasing max_iter to improve the fit.\n",
      "  ConvergenceWarning)\n",
      "  8%|▊         | 77/973 [00:43<08:44,  1.71it/s]/Applications/anaconda/lib/python3.6/site-packages/sklearn/linear_model/stochastic_gradient.py:1219: ConvergenceWarning: Maximum number of iteration reached before convergence. Consider increasing max_iter to improve the fit.\n",
      "  ConvergenceWarning)\n",
      "  8%|▊         | 81/973 [00:45<09:25,  1.58it/s]/Applications/anaconda/lib/python3.6/site-packages/sklearn/linear_model/stochastic_gradient.py:1219: ConvergenceWarning: Maximum number of iteration reached before convergence. Consider increasing max_iter to improve the fit.\n",
      "  ConvergenceWarning)\n",
      "  8%|▊         | 82/973 [00:46<10:11,  1.46it/s]/Applications/anaconda/lib/python3.6/site-packages/sklearn/linear_model/stochastic_gradient.py:1219: ConvergenceWarning: Maximum number of iteration reached before convergence. Consider increasing max_iter to improve the fit.\n",
      "  ConvergenceWarning)\n",
      "  9%|▊         | 83/973 [00:47<10:46,  1.38it/s]/Applications/anaconda/lib/python3.6/site-packages/sklearn/linear_model/stochastic_gradient.py:1219: ConvergenceWarning: Maximum number of iteration reached before convergence. Consider increasing max_iter to improve the fit.\n",
      "  ConvergenceWarning)\n",
      "  9%|▊         | 85/973 [00:49<11:24,  1.30it/s]/Applications/anaconda/lib/python3.6/site-packages/sklearn/linear_model/stochastic_gradient.py:1219: ConvergenceWarning: Maximum number of iteration reached before convergence. Consider increasing max_iter to improve the fit.\n",
      "  ConvergenceWarning)\n",
      " 13%|█▎        | 130/973 [01:12<07:30,  1.87it/s]/Applications/anaconda/lib/python3.6/site-packages/sklearn/linear_model/stochastic_gradient.py:1219: ConvergenceWarning: Maximum number of iteration reached before convergence. Consider increasing max_iter to improve the fit.\n",
      "  ConvergenceWarning)\n",
      " 14%|█▍        | 134/973 [01:14<07:21,  1.90it/s]/Applications/anaconda/lib/python3.6/site-packages/sklearn/linear_model/stochastic_gradient.py:1219: ConvergenceWarning: Maximum number of iteration reached before convergence. Consider increasing max_iter to improve the fit.\n",
      "  ConvergenceWarning)\n",
      " 14%|█▍        | 140/973 [01:18<07:43,  1.80it/s]/Applications/anaconda/lib/python3.6/site-packages/sklearn/linear_model/stochastic_gradient.py:1219: ConvergenceWarning: Maximum number of iteration reached before convergence. Consider increasing max_iter to improve the fit.\n",
      "  ConvergenceWarning)\n",
      " 15%|█▍        | 144/973 [01:20<08:39,  1.59it/s]/Applications/anaconda/lib/python3.6/site-packages/sklearn/linear_model/stochastic_gradient.py:1219: ConvergenceWarning: Maximum number of iteration reached before convergence. Consider increasing max_iter to improve the fit.\n",
      "  ConvergenceWarning)\n",
      " 15%|█▌        | 146/973 [01:22<08:29,  1.62it/s]/Applications/anaconda/lib/python3.6/site-packages/sklearn/linear_model/stochastic_gradient.py:1219: ConvergenceWarning: Maximum number of iteration reached before convergence. Consider increasing max_iter to improve the fit.\n",
      "  ConvergenceWarning)\n",
      " 15%|█▌        | 148/973 [01:23<09:10,  1.50it/s]/Applications/anaconda/lib/python3.6/site-packages/sklearn/linear_model/stochastic_gradient.py:1219: ConvergenceWarning: Maximum number of iteration reached before convergence. Consider increasing max_iter to improve the fit.\n",
      "  ConvergenceWarning)\n",
      " 15%|█▌        | 150/973 [01:24<08:57,  1.53it/s]/Applications/anaconda/lib/python3.6/site-packages/sklearn/linear_model/stochastic_gradient.py:1219: ConvergenceWarning: Maximum number of iteration reached before convergence. Consider increasing max_iter to improve the fit.\n",
      "  ConvergenceWarning)\n",
      " 17%|█▋        | 165/973 [01:32<06:12,  2.17it/s]/Applications/anaconda/lib/python3.6/site-packages/sklearn/linear_model/stochastic_gradient.py:1219: ConvergenceWarning: Maximum number of iteration reached before convergence. Consider increasing max_iter to improve the fit.\n",
      "  ConvergenceWarning)\n",
      " 17%|█▋        | 166/973 [01:33<07:44,  1.74it/s]/Applications/anaconda/lib/python3.6/site-packages/sklearn/linear_model/stochastic_gradient.py:1219: ConvergenceWarning: Maximum number of iteration reached before convergence. Consider increasing max_iter to improve the fit.\n",
      "  ConvergenceWarning)\n",
      " 17%|█▋        | 167/973 [01:34<08:46,  1.53it/s]/Applications/anaconda/lib/python3.6/site-packages/sklearn/linear_model/stochastic_gradient.py:1219: ConvergenceWarning: Maximum number of iteration reached before convergence. Consider increasing max_iter to improve the fit.\n",
      "  ConvergenceWarning)\n",
      " 17%|█▋        | 169/973 [01:35<07:51,  1.71it/s]/Applications/anaconda/lib/python3.6/site-packages/sklearn/linear_model/stochastic_gradient.py:1219: ConvergenceWarning: Maximum number of iteration reached before convergence. Consider increasing max_iter to improve the fit.\n",
      "  ConvergenceWarning)\n",
      " 18%|█▊        | 180/973 [01:41<06:21,  2.08it/s]/Applications/anaconda/lib/python3.6/site-packages/sklearn/linear_model/stochastic_gradient.py:1219: ConvergenceWarning: Maximum number of iteration reached before convergence. Consider increasing max_iter to improve the fit.\n",
      "  ConvergenceWarning)\n",
      " 19%|█▉        | 187/973 [01:44<07:08,  1.83it/s]/Applications/anaconda/lib/python3.6/site-packages/sklearn/linear_model/stochastic_gradient.py:1219: ConvergenceWarning: Maximum number of iteration reached before convergence. Consider increasing max_iter to improve the fit.\n",
      "  ConvergenceWarning)\n",
      " 20%|█▉        | 193/973 [01:48<06:43,  1.93it/s]/Applications/anaconda/lib/python3.6/site-packages/sklearn/linear_model/stochastic_gradient.py:1219: ConvergenceWarning: Maximum number of iteration reached before convergence. Consider increasing max_iter to improve the fit.\n",
      "  ConvergenceWarning)\n",
      " 22%|██▏       | 217/973 [02:01<07:06,  1.77it/s]/Applications/anaconda/lib/python3.6/site-packages/sklearn/linear_model/stochastic_gradient.py:1219: ConvergenceWarning: Maximum number of iteration reached before convergence. Consider increasing max_iter to improve the fit.\n",
      "  ConvergenceWarning)\n",
      " 24%|██▎       | 231/973 [02:09<05:47,  2.13it/s]/Applications/anaconda/lib/python3.6/site-packages/sklearn/linear_model/stochastic_gradient.py:1219: ConvergenceWarning: Maximum number of iteration reached before convergence. Consider increasing max_iter to improve the fit.\n",
      "  ConvergenceWarning)\n",
      " 25%|██▍       | 241/973 [02:14<07:03,  1.73it/s]/Applications/anaconda/lib/python3.6/site-packages/sklearn/linear_model/stochastic_gradient.py:1219: ConvergenceWarning: Maximum number of iteration reached before convergence. Consider increasing max_iter to improve the fit.\n",
      "  ConvergenceWarning)\n",
      " 25%|██▍       | 242/973 [02:15<07:13,  1.69it/s]/Applications/anaconda/lib/python3.6/site-packages/sklearn/linear_model/stochastic_gradient.py:1219: ConvergenceWarning: Maximum number of iteration reached before convergence. Consider increasing max_iter to improve the fit.\n",
      "  ConvergenceWarning)\n",
      " 25%|██▌       | 244/973 [02:16<07:32,  1.61it/s]/Applications/anaconda/lib/python3.6/site-packages/sklearn/linear_model/stochastic_gradient.py:1219: ConvergenceWarning: Maximum number of iteration reached before convergence. Consider increasing max_iter to improve the fit.\n",
      "  ConvergenceWarning)\n",
      " 25%|██▌       | 248/973 [02:18<06:26,  1.88it/s]/Applications/anaconda/lib/python3.6/site-packages/sklearn/linear_model/stochastic_gradient.py:1219: ConvergenceWarning: Maximum number of iteration reached before convergence. Consider increasing max_iter to improve the fit.\n",
      "  ConvergenceWarning)\n",
      " 26%|██▌       | 249/973 [02:19<07:00,  1.72it/s]/Applications/anaconda/lib/python3.6/site-packages/sklearn/linear_model/stochastic_gradient.py:1219: ConvergenceWarning: Maximum number of iteration reached before convergence. Consider increasing max_iter to improve the fit.\n",
      "  ConvergenceWarning)\n",
      " 28%|██▊       | 270/973 [02:30<05:47,  2.03it/s]/Applications/anaconda/lib/python3.6/site-packages/sklearn/linear_model/stochastic_gradient.py:1219: ConvergenceWarning: Maximum number of iteration reached before convergence. Consider increasing max_iter to improve the fit.\n",
      "  ConvergenceWarning)\n",
      " 29%|██▉       | 284/973 [02:37<04:51,  2.37it/s]/Applications/anaconda/lib/python3.6/site-packages/sklearn/linear_model/stochastic_gradient.py:1219: ConvergenceWarning: Maximum number of iteration reached before convergence. Consider increasing max_iter to improve the fit.\n",
      "  ConvergenceWarning)\n",
      " 31%|███       | 303/973 [02:47<05:49,  1.92it/s]/Applications/anaconda/lib/python3.6/site-packages/sklearn/linear_model/stochastic_gradient.py:1219: ConvergenceWarning: Maximum number of iteration reached before convergence. Consider increasing max_iter to improve the fit.\n",
      "  ConvergenceWarning)\n",
      " 33%|███▎      | 317/973 [02:54<06:12,  1.76it/s]/Applications/anaconda/lib/python3.6/site-packages/sklearn/linear_model/stochastic_gradient.py:1219: ConvergenceWarning: Maximum number of iteration reached before convergence. Consider increasing max_iter to improve the fit.\n",
      "  ConvergenceWarning)\n",
      " 34%|███▎      | 328/973 [03:01<05:36,  1.91it/s]/Applications/anaconda/lib/python3.6/site-packages/sklearn/linear_model/stochastic_gradient.py:1219: ConvergenceWarning: Maximum number of iteration reached before convergence. Consider increasing max_iter to improve the fit.\n",
      "  ConvergenceWarning)\n",
      " 34%|███▍      | 330/973 [03:02<05:45,  1.86it/s]/Applications/anaconda/lib/python3.6/site-packages/sklearn/linear_model/stochastic_gradient.py:1219: ConvergenceWarning: Maximum number of iteration reached before convergence. Consider increasing max_iter to improve the fit.\n",
      "  ConvergenceWarning)\n",
      " 35%|███▍      | 339/973 [03:07<06:00,  1.76it/s]/Applications/anaconda/lib/python3.6/site-packages/sklearn/linear_model/stochastic_gradient.py:1219: ConvergenceWarning: Maximum number of iteration reached before convergence. Consider increasing max_iter to improve the fit.\n",
      "  ConvergenceWarning)\n",
      " 36%|███▋      | 354/973 [03:16<05:31,  1.87it/s]/Applications/anaconda/lib/python3.6/site-packages/sklearn/linear_model/stochastic_gradient.py:1219: ConvergenceWarning: Maximum number of iteration reached before convergence. Consider increasing max_iter to improve the fit.\n",
      "  ConvergenceWarning)\n",
      " 38%|███▊      | 367/973 [03:22<04:47,  2.11it/s]/Applications/anaconda/lib/python3.6/site-packages/sklearn/linear_model/stochastic_gradient.py:1219: ConvergenceWarning: Maximum number of iteration reached before convergence. Consider increasing max_iter to improve the fit.\n",
      "  ConvergenceWarning)\n",
      " 40%|████      | 394/973 [03:35<03:20,  2.89it/s]/Applications/anaconda/lib/python3.6/site-packages/sklearn/linear_model/stochastic_gradient.py:1219: ConvergenceWarning: Maximum number of iteration reached before convergence. Consider increasing max_iter to improve the fit.\n",
      "  ConvergenceWarning)\n",
      " 44%|████▍     | 431/973 [03:47<03:10,  2.85it/s]/Applications/anaconda/lib/python3.6/site-packages/sklearn/linear_model/stochastic_gradient.py:1219: ConvergenceWarning: Maximum number of iteration reached before convergence. Consider increasing max_iter to improve the fit.\n",
      "  ConvergenceWarning)\n",
      " 45%|████▍     | 436/973 [03:49<03:18,  2.70it/s]/Applications/anaconda/lib/python3.6/site-packages/sklearn/linear_model/stochastic_gradient.py:1219: ConvergenceWarning: Maximum number of iteration reached before convergence. Consider increasing max_iter to improve the fit.\n",
      "  ConvergenceWarning)\n",
      " 47%|████▋     | 456/973 [03:56<02:21,  3.66it/s]/Applications/anaconda/lib/python3.6/site-packages/sklearn/linear_model/stochastic_gradient.py:1219: ConvergenceWarning: Maximum number of iteration reached before convergence. Consider increasing max_iter to improve the fit.\n",
      "  ConvergenceWarning)\n",
      " 74%|███████▍  | 719/973 [05:17<01:14,  3.42it/s]/Applications/anaconda/lib/python3.6/site-packages/sklearn/linear_model/stochastic_gradient.py:1219: ConvergenceWarning: Maximum number of iteration reached before convergence. Consider increasing max_iter to improve the fit.\n",
      "  ConvergenceWarning)\n",
      " 76%|███████▌  | 736/973 [05:22<01:11,  3.33it/s]/Applications/anaconda/lib/python3.6/site-packages/sklearn/linear_model/stochastic_gradient.py:1219: ConvergenceWarning: Maximum number of iteration reached before convergence. Consider increasing max_iter to improve the fit.\n",
      "  ConvergenceWarning)\n",
      " 95%|█████████▍| 923/973 [06:20<00:14,  3.49it/s]/Applications/anaconda/lib/python3.6/site-packages/sklearn/linear_model/stochastic_gradient.py:1219: ConvergenceWarning: Maximum number of iteration reached before convergence. Consider increasing max_iter to improve the fit.\n",
      "  ConvergenceWarning)\n",
      " 98%|█████████▊| 949/973 [06:28<00:07,  3.29it/s]/Applications/anaconda/lib/python3.6/site-packages/sklearn/linear_model/stochastic_gradient.py:1219: ConvergenceWarning: Maximum number of iteration reached before convergence. Consider increasing max_iter to improve the fit.\n",
      "  ConvergenceWarning)\n",
      " 99%|█████████▊| 960/973 [06:31<00:03,  3.32it/s]/Applications/anaconda/lib/python3.6/site-packages/sklearn/linear_model/stochastic_gradient.py:1219: ConvergenceWarning: Maximum number of iteration reached before convergence. Consider increasing max_iter to improve the fit.\n",
      "  ConvergenceWarning)\n",
      "100%|██████████| 973/973 [06:36<00:00,  3.42it/s]\n"
     ]
    }
   ],
   "source": [
    "# also lowered early stopping tol param in the model, from 1e-4 to 1e-5\n",
    "sample1K_scores = test_last(fiveplus[fiveplus.sampled], vecs, beer_id_to_vecs_index, rando=1)"
   ]
  },
  {
   "cell_type": "code",
   "execution_count": 379,
   "metadata": {
    "collapsed": false
   },
   "outputs": [
    {
     "data": {
      "text/plain": [
       "array([ 0.31365449,  0.31241381])"
      ]
     },
     "execution_count": 379,
     "metadata": {},
     "output_type": "execute_result"
    }
   ],
   "source": [
    "np.mean([val for val in sample1K_scores.values()], axis=0)  # ([baseline error only, baseline plus regression error])"
   ]
  },
  {
   "cell_type": "code",
   "execution_count": 380,
   "metadata": {
    "collapsed": false
   },
   "outputs": [
    {
     "name": "stderr",
     "output_type": "stream",
     "text": [
      "/Applications/anaconda/lib/python3.6/site-packages/ipykernel/__main__.py:4: SettingWithCopyWarning: \n",
      "A value is trying to be set on a copy of a slice from a DataFrame.\n",
      "Try using .loc[row_indexer,col_indexer] = value instead\n",
      "\n",
      "See the caveats in the documentation: http://pandas.pydata.org/pandas-docs/stable/indexing.html#indexing-view-versus-copy\n",
      "  5%|▍         | 23/489 [00:13<04:05,  1.90it/s]/Applications/anaconda/lib/python3.6/site-packages/sklearn/linear_model/stochastic_gradient.py:1219: ConvergenceWarning: Maximum number of iteration reached before convergence. Consider increasing max_iter to improve the fit.\n",
      "  ConvergenceWarning)\n",
      "  5%|▌         | 26/489 [00:15<05:05,  1.52it/s]/Applications/anaconda/lib/python3.6/site-packages/sklearn/linear_model/stochastic_gradient.py:1219: ConvergenceWarning: Maximum number of iteration reached before convergence. Consider increasing max_iter to improve the fit.\n",
      "  ConvergenceWarning)\n",
      "  6%|▌         | 27/489 [00:15<05:07,  1.50it/s]/Applications/anaconda/lib/python3.6/site-packages/sklearn/linear_model/stochastic_gradient.py:1219: ConvergenceWarning: Maximum number of iteration reached before convergence. Consider increasing max_iter to improve the fit.\n",
      "  ConvergenceWarning)\n",
      "  6%|▋         | 31/489 [00:18<05:02,  1.52it/s]/Applications/anaconda/lib/python3.6/site-packages/sklearn/linear_model/stochastic_gradient.py:1219: ConvergenceWarning: Maximum number of iteration reached before convergence. Consider increasing max_iter to improve the fit.\n",
      "  ConvergenceWarning)\n",
      "  7%|▋         | 36/489 [00:21<04:14,  1.78it/s]/Applications/anaconda/lib/python3.6/site-packages/sklearn/linear_model/stochastic_gradient.py:1219: ConvergenceWarning: Maximum number of iteration reached before convergence. Consider increasing max_iter to improve the fit.\n",
      "  ConvergenceWarning)\n",
      "  8%|▊         | 39/489 [00:23<04:15,  1.76it/s]/Applications/anaconda/lib/python3.6/site-packages/sklearn/linear_model/stochastic_gradient.py:1219: ConvergenceWarning: Maximum number of iteration reached before convergence. Consider increasing max_iter to improve the fit.\n",
      "  ConvergenceWarning)\n",
      "  9%|▉         | 44/489 [00:27<05:03,  1.47it/s]/Applications/anaconda/lib/python3.6/site-packages/sklearn/linear_model/stochastic_gradient.py:1219: ConvergenceWarning: Maximum number of iteration reached before convergence. Consider increasing max_iter to improve the fit.\n",
      "  ConvergenceWarning)\n",
      "  9%|▉         | 45/489 [00:27<05:06,  1.45it/s]/Applications/anaconda/lib/python3.6/site-packages/sklearn/linear_model/stochastic_gradient.py:1219: ConvergenceWarning: Maximum number of iteration reached before convergence. Consider increasing max_iter to improve the fit.\n",
      "  ConvergenceWarning)\n",
      " 10%|█         | 51/489 [00:31<04:53,  1.49it/s]/Applications/anaconda/lib/python3.6/site-packages/sklearn/linear_model/stochastic_gradient.py:1219: ConvergenceWarning: Maximum number of iteration reached before convergence. Consider increasing max_iter to improve the fit.\n",
      "  ConvergenceWarning)\n",
      " 13%|█▎        | 64/489 [00:39<04:21,  1.63it/s]/Applications/anaconda/lib/python3.6/site-packages/sklearn/linear_model/stochastic_gradient.py:1219: ConvergenceWarning: Maximum number of iteration reached before convergence. Consider increasing max_iter to improve the fit.\n",
      "  ConvergenceWarning)\n",
      " 14%|█▍        | 70/489 [00:42<04:11,  1.67it/s]/Applications/anaconda/lib/python3.6/site-packages/sklearn/linear_model/stochastic_gradient.py:1219: ConvergenceWarning: Maximum number of iteration reached before convergence. Consider increasing max_iter to improve the fit.\n",
      "  ConvergenceWarning)\n",
      " 15%|█▍        | 72/489 [00:44<04:34,  1.52it/s]/Applications/anaconda/lib/python3.6/site-packages/sklearn/linear_model/stochastic_gradient.py:1219: ConvergenceWarning: Maximum number of iteration reached before convergence. Consider increasing max_iter to improve the fit.\n",
      "  ConvergenceWarning)\n",
      " 16%|█▌        | 77/489 [00:47<04:23,  1.57it/s]/Applications/anaconda/lib/python3.6/site-packages/sklearn/linear_model/stochastic_gradient.py:1219: ConvergenceWarning: Maximum number of iteration reached before convergence. Consider increasing max_iter to improve the fit.\n",
      "  ConvergenceWarning)\n",
      " 18%|█▊        | 89/489 [00:55<04:29,  1.48it/s]/Applications/anaconda/lib/python3.6/site-packages/sklearn/linear_model/stochastic_gradient.py:1219: ConvergenceWarning: Maximum number of iteration reached before convergence. Consider increasing max_iter to improve the fit.\n",
      "  ConvergenceWarning)\n",
      " 19%|█▉        | 93/489 [00:57<03:32,  1.86it/s]/Applications/anaconda/lib/python3.6/site-packages/sklearn/linear_model/stochastic_gradient.py:1219: ConvergenceWarning: Maximum number of iteration reached before convergence. Consider increasing max_iter to improve the fit.\n",
      "  ConvergenceWarning)\n",
      " 25%|██▍       | 122/489 [01:14<03:12,  1.91it/s]/Applications/anaconda/lib/python3.6/site-packages/sklearn/linear_model/stochastic_gradient.py:1219: ConvergenceWarning: Maximum number of iteration reached before convergence. Consider increasing max_iter to improve the fit.\n",
      "  ConvergenceWarning)\n",
      " 26%|██▌       | 125/489 [01:15<03:13,  1.88it/s]/Applications/anaconda/lib/python3.6/site-packages/sklearn/linear_model/stochastic_gradient.py:1219: ConvergenceWarning: Maximum number of iteration reached before convergence. Consider increasing max_iter to improve the fit.\n",
      "  ConvergenceWarning)\n",
      " 28%|██▊       | 136/489 [01:24<03:09,  1.86it/s]/Applications/anaconda/lib/python3.6/site-packages/sklearn/linear_model/stochastic_gradient.py:1219: ConvergenceWarning: Maximum number of iteration reached before convergence. Consider increasing max_iter to improve the fit.\n",
      "  ConvergenceWarning)\n",
      " 33%|███▎      | 162/489 [01:40<03:39,  1.49it/s]/Applications/anaconda/lib/python3.6/site-packages/sklearn/linear_model/stochastic_gradient.py:1219: ConvergenceWarning: Maximum number of iteration reached before convergence. Consider increasing max_iter to improve the fit.\n",
      "  ConvergenceWarning)\n",
      " 35%|███▍      | 170/489 [01:45<03:22,  1.57it/s]/Applications/anaconda/lib/python3.6/site-packages/sklearn/linear_model/stochastic_gradient.py:1219: ConvergenceWarning: Maximum number of iteration reached before convergence. Consider increasing max_iter to improve the fit.\n",
      "  ConvergenceWarning)\n",
      " 40%|████      | 198/489 [02:00<01:55,  2.51it/s]/Applications/anaconda/lib/python3.6/site-packages/sklearn/linear_model/stochastic_gradient.py:1219: ConvergenceWarning: Maximum number of iteration reached before convergence. Consider increasing max_iter to improve the fit.\n",
      "  ConvergenceWarning)\n",
      " 44%|████▍     | 216/489 [02:06<01:19,  3.43it/s]/Applications/anaconda/lib/python3.6/site-packages/sklearn/linear_model/stochastic_gradient.py:1219: ConvergenceWarning: Maximum number of iteration reached before convergence. Consider increasing max_iter to improve the fit.\n",
      "  ConvergenceWarning)\n",
      " 46%|████▌     | 224/489 [02:09<01:22,  3.19it/s]/Applications/anaconda/lib/python3.6/site-packages/sklearn/linear_model/stochastic_gradient.py:1219: ConvergenceWarning: Maximum number of iteration reached before convergence. Consider increasing max_iter to improve the fit.\n",
      "  ConvergenceWarning)\n",
      " 46%|████▌     | 226/489 [02:10<02:08,  2.04it/s]/Applications/anaconda/lib/python3.6/site-packages/sklearn/linear_model/stochastic_gradient.py:1219: ConvergenceWarning: Maximum number of iteration reached before convergence. Consider increasing max_iter to improve the fit.\n",
      "  ConvergenceWarning)\n",
      " 82%|████████▏ | 400/489 [03:04<00:28,  3.07it/s]/Applications/anaconda/lib/python3.6/site-packages/sklearn/linear_model/stochastic_gradient.py:1219: ConvergenceWarning: Maximum number of iteration reached before convergence. Consider increasing max_iter to improve the fit.\n",
      "  ConvergenceWarning)\n",
      "100%|██████████| 489/489 [03:31<00:00,  3.21it/s]\n"
     ]
    },
    {
     "name": "stdout",
     "output_type": "stream",
     "text": [
      "[ 0.30772315  0.30482691]\n"
     ]
    }
   ],
   "source": [
    "# try a different sample\n",
    "np.random.seed(1)\n",
    "sample500 = np.random.choice(fiveplus.user_id.unique(), 500)\n",
    "fiveplus['sampled'] = fiveplus.user_id.apply(lambda uid: uid in sample500)\n",
    "sample500_scores = test_last(fiveplus[fiveplus.sampled], vecs, beer_id_to_vecs_index, rando=1)\n",
    "print(np.mean([val for val in sample500_scores.values()], axis=0))"
   ]
  },
  {
   "cell_type": "markdown",
   "metadata": {},
   "source": [
    "Take a look at the coefficients for one user, to see how sparse they might be, since the scores for the baseline seem to be essentially the same as for NLP/abv/style predictions."
   ]
  },
  {
   "cell_type": "code",
   "execution_count": 381,
   "metadata": {
    "collapsed": false
   },
   "outputs": [
    {
     "data": {
      "text/plain": [
       "(145, 13)"
      ]
     },
     "execution_count": 381,
     "metadata": {},
     "output_type": "execute_result"
    }
   ],
   "source": [
    "u = sample500[-1]\n",
    "udf = fiveplus[fiveplus.user_id == u]\n",
    "udf.shape"
   ]
  },
  {
   "cell_type": "code",
   "execution_count": 384,
   "metadata": {
    "collapsed": false
   },
   "outputs": [
    {
     "name": "stdout",
     "output_type": "stream",
     "text": [
      "0.968302777778 1.02550631114\n"
     ]
    }
   ],
   "source": [
    "ratings = len(udf)\n",
    "# use the last rating only as test\n",
    "split = ratings - 1\n",
    "utrain = udf.iloc[:split, :]\n",
    "utest = udf.iloc[split:, :]\n",
    "# make the corresponding split to the vector indices, vi\n",
    "vi = udf.beer_id.map(beer_id_to_vecs_index)\n",
    "trainvecs = vecs[vi[:split], :]\n",
    "testvecs = vecs[vi[split:], :]\n",
    "# calculate the user's avg generosity/stinginess towards KNOWN ratings\n",
    "known_bias = utrain.beer_bias.mean()\n",
    "train_targets = utrain.beer_bias - known_bias\n",
    "        \n",
    "stop_early = len(utrain) > 10\n",
    "model = SGDRegressor(penalty='elasticnet', early_stopping=stop_early, validation_fraction=0.1, \n",
    "                     random_state=1, max_iter=500, tol=1e-5, l1_ratio=0.15)\n",
    "model.fit(trainvecs, train_targets)\n",
    "        \n",
    "preds = model.predict(testvecs)\n",
    "baseline_preds = utest.rating_global + known_bias\n",
    "nlp_preds = (0.3 + 1 / trainvecs.shape[0]) * preds + baseline_preds\n",
    "        \n",
    "diffs_base = baseline_preds - utest.rating_user\n",
    "sumsq = np.dot(diffs_base, diffs_base)\n",
    "rmse_base = np.sqrt(sumsq / len(diffs_base))\n",
    "\n",
    "diffs_nlp = nlp_preds - utest.rating_user\n",
    "sumsq = np.dot(diffs_nlp, diffs_nlp)\n",
    "rmse_nlp = np.sqrt(sumsq / len(diffs_nlp))\n",
    "\n",
    "print(rmse_base, rmse_nlp)\n",
    "        "
   ]
  },
  {
   "cell_type": "code",
   "execution_count": 385,
   "metadata": {
    "collapsed": false
   },
   "outputs": [
    {
     "data": {
      "text/html": [
       "<div>\n",
       "<style scoped>\n",
       "    .dataframe tbody tr th:only-of-type {\n",
       "        vertical-align: middle;\n",
       "    }\n",
       "\n",
       "    .dataframe tbody tr th {\n",
       "        vertical-align: top;\n",
       "    }\n",
       "\n",
       "    .dataframe thead th {\n",
       "        text-align: right;\n",
       "    }\n",
       "</style>\n",
       "<table border=\"1\" class=\"dataframe\">\n",
       "  <thead>\n",
       "    <tr style=\"text-align: right;\">\n",
       "      <th></th>\n",
       "      <th>beer_id</th>\n",
       "      <th>user_id</th>\n",
       "      <th>rating_user</th>\n",
       "      <th>brewery_name</th>\n",
       "      <th>beer_name</th>\n",
       "      <th>beer_style</th>\n",
       "      <th>rating_global</th>\n",
       "      <th>abv</th>\n",
       "      <th>beer_description</th>\n",
       "      <th>beer_bias</th>\n",
       "      <th>user_bias</th>\n",
       "      <th>user_pref</th>\n",
       "      <th>sampled</th>\n",
       "    </tr>\n",
       "  </thead>\n",
       "  <tbody>\n",
       "    <tr>\n",
       "      <th>926456</th>\n",
       "      <td>3038137</td>\n",
       "      <td>2348465</td>\n",
       "      <td>5.00</td>\n",
       "      <td>Bottle Logic Brewing</td>\n",
       "      <td>Time Trials</td>\n",
       "      <td>IPA - Imperial / Double New England</td>\n",
       "      <td>3.96855</td>\n",
       "      <td>7.8</td>\n",
       "      <td>Bottle Logic Brewing Time Trials A mosaic and ...</td>\n",
       "      <td>1.03145</td>\n",
       "      <td>0.271575</td>\n",
       "      <td>0.759875</td>\n",
       "      <td>True</td>\n",
       "    </tr>\n",
       "    <tr>\n",
       "      <th>926461</th>\n",
       "      <td>2810477</td>\n",
       "      <td>2348465</td>\n",
       "      <td>4.00</td>\n",
       "      <td>Left Coast Brewing Co.</td>\n",
       "      <td>Simply Citra</td>\n",
       "      <td>Pale Ale - New England</td>\n",
       "      <td>3.49517</td>\n",
       "      <td>5.5</td>\n",
       "      <td>Left Coast Brewing Co. Simply Citra New Englan...</td>\n",
       "      <td>0.50483</td>\n",
       "      <td>0.271575</td>\n",
       "      <td>0.233255</td>\n",
       "      <td>True</td>\n",
       "    </tr>\n",
       "    <tr>\n",
       "      <th>926464</th>\n",
       "      <td>1226915</td>\n",
       "      <td>2348465</td>\n",
       "      <td>4.00</td>\n",
       "      <td>Four Sons Brewing</td>\n",
       "      <td>King Coco</td>\n",
       "      <td>Red Ale - Imperial / Double</td>\n",
       "      <td>3.87233</td>\n",
       "      <td>10.0</td>\n",
       "      <td>Four Sons Brewing King Coco Coconuts for days.</td>\n",
       "      <td>0.12767</td>\n",
       "      <td>0.271575</td>\n",
       "      <td>-0.143905</td>\n",
       "      <td>True</td>\n",
       "    </tr>\n",
       "    <tr>\n",
       "      <th>926466</th>\n",
       "      <td>2945404</td>\n",
       "      <td>2348465</td>\n",
       "      <td>4.75</td>\n",
       "      <td>FiftyFifty Brewing Co.</td>\n",
       "      <td>I Did It All For the Cookie</td>\n",
       "      <td>Brown Ale - Imperial / Double</td>\n",
       "      <td>3.70066</td>\n",
       "      <td>9.0</td>\n",
       "      <td>FiftyFifty Brewing Co. I Did It All For the Co...</td>\n",
       "      <td>1.04934</td>\n",
       "      <td>0.271575</td>\n",
       "      <td>0.777765</td>\n",
       "      <td>True</td>\n",
       "    </tr>\n",
       "    <tr>\n",
       "      <th>926468</th>\n",
       "      <td>2722461</td>\n",
       "      <td>2348465</td>\n",
       "      <td>3.25</td>\n",
       "      <td>The Bruery</td>\n",
       "      <td>Rice &amp; Beans (2018)</td>\n",
       "      <td>Blonde Ale</td>\n",
       "      <td>3.94005</td>\n",
       "      <td>7.7</td>\n",
       "      <td>The Bruery Rice &amp; Beans (2018) Rice and Beans ...</td>\n",
       "      <td>-0.69005</td>\n",
       "      <td>0.271575</td>\n",
       "      <td>-0.961625</td>\n",
       "      <td>True</td>\n",
       "    </tr>\n",
       "  </tbody>\n",
       "</table>\n",
       "</div>"
      ],
      "text/plain": [
       "        beer_id  user_id  rating_user            brewery_name  \\\n",
       "926456  3038137  2348465         5.00    Bottle Logic Brewing   \n",
       "926461  2810477  2348465         4.00  Left Coast Brewing Co.   \n",
       "926464  1226915  2348465         4.00       Four Sons Brewing   \n",
       "926466  2945404  2348465         4.75  FiftyFifty Brewing Co.   \n",
       "926468  2722461  2348465         3.25              The Bruery   \n",
       "\n",
       "                          beer_name                           beer_style  \\\n",
       "926456                  Time Trials  IPA - Imperial / Double New England   \n",
       "926461                 Simply Citra               Pale Ale - New England   \n",
       "926464                    King Coco          Red Ale - Imperial / Double   \n",
       "926466  I Did It All For the Cookie        Brown Ale - Imperial / Double   \n",
       "926468          Rice & Beans (2018)                           Blonde Ale   \n",
       "\n",
       "        rating_global   abv  \\\n",
       "926456        3.96855   7.8   \n",
       "926461        3.49517   5.5   \n",
       "926464        3.87233  10.0   \n",
       "926466        3.70066   9.0   \n",
       "926468        3.94005   7.7   \n",
       "\n",
       "                                         beer_description  beer_bias  \\\n",
       "926456  Bottle Logic Brewing Time Trials A mosaic and ...    1.03145   \n",
       "926461  Left Coast Brewing Co. Simply Citra New Englan...    0.50483   \n",
       "926464     Four Sons Brewing King Coco Coconuts for days.    0.12767   \n",
       "926466  FiftyFifty Brewing Co. I Did It All For the Co...    1.04934   \n",
       "926468  The Bruery Rice & Beans (2018) Rice and Beans ...   -0.69005   \n",
       "\n",
       "        user_bias  user_pref  sampled  \n",
       "926456   0.271575   0.759875     True  \n",
       "926461   0.271575   0.233255     True  \n",
       "926464   0.271575  -0.143905     True  \n",
       "926466   0.271575   0.777765     True  \n",
       "926468   0.271575  -0.961625     True  "
      ]
     },
     "execution_count": 385,
     "metadata": {},
     "output_type": "execute_result"
    }
   ],
   "source": [
    "udf.tail()"
   ]
  },
  {
   "cell_type": "code",
   "execution_count": 390,
   "metadata": {
    "collapsed": false
   },
   "outputs": [
    {
     "data": {
      "text/plain": [
       "1754"
      ]
     },
     "execution_count": 390,
     "metadata": {},
     "output_type": "execute_result"
    }
   ],
   "source": [
    "# how many terms were weighted in the trained model?\n",
    "len(np.nonzero(model.coef_)[0])"
   ]
  },
  {
   "cell_type": "code",
   "execution_count": 396,
   "metadata": {
    "collapsed": false
   },
   "outputs": [],
   "source": [
    "# and how many of the terms in the single test rating were in those 1754?\n",
    "lastbeerID = udf.loc[udf.index[-1], 'beer_id']\n",
    "vect = beer_id_to_vecs_index[lastbeerID]\n",
    "vect = vecs.toarray()[vect, :]"
   ]
  },
  {
   "cell_type": "code",
   "execution_count": 398,
   "metadata": {
    "collapsed": false
   },
   "outputs": [
    {
     "data": {
      "text/plain": [
       "(array([  170,   481,  1339,  1401,  2110,  2634,  2828,  2974,  3472,\n",
       "         4244,  4992,  5144,  5317,  5612,  6435,  6696,  7373,  7601,\n",
       "         7858,  8559, 11152, 13399, 14077, 14937, 14938]),)"
      ]
     },
     "execution_count": 398,
     "metadata": {},
     "output_type": "execute_result"
    }
   ],
   "source": [
    "np.nonzero(vect)"
   ]
  },
  {
   "cell_type": "code",
   "execution_count": 399,
   "metadata": {
    "collapsed": true
   },
   "outputs": [],
   "source": [
    "weighted = [feat for feat in np.nonzero(vect)[0] if feat in set(np.nonzero(model.coef_)[0])]"
   ]
  },
  {
   "cell_type": "code",
   "execution_count": 401,
   "metadata": {
    "collapsed": false
   },
   "outputs": [
    {
     "name": "stdout",
     "output_type": "stream",
     "text": [
      "[170, 481, 1339, 1401, 2110, 2634, 2828, 2974, 3472, 4244, 4992, 5144, 5317, 5612, 6435, 6696, 7373, 7601, 7858, 8559, 11152, 13399, 14077, 14937, 14938]\n"
     ]
    }
   ],
   "source": [
    "print(weighted)"
   ]
  },
  {
   "cell_type": "code",
   "execution_count": 402,
   "metadata": {
    "collapsed": false
   },
   "outputs": [
    {
     "data": {
      "text/plain": [
       "array([ 0.18636445])"
      ]
     },
     "execution_count": 402,
     "metadata": {},
     "output_type": "execute_result"
    }
   ],
   "source": [
    "# so at least all words in the test rating description were seen and fit in the training ratings.\n",
    "## how much did the dot product contribute?\n",
    "model.predict(testvecs)"
   ]
  },
  {
   "cell_type": "markdown",
   "metadata": {},
   "source": [
    "The user rated this beer .69 below the global mean, where he tended to rate beers .27 over the mean, so the baseline  \n",
    "was off by .96, and the NLP/abv/style model was off another 0.19 in the wrong direction, which got mutiplied down to  \n",
    ".06, for a total of 1.02 wrong.  Let's see why the model leaned the wrong way on this:"
   ]
  },
  {
   "cell_type": "code",
   "execution_count": 405,
   "metadata": {
    "collapsed": false
   },
   "outputs": [
    {
     "name": "stdout",
     "output_type": "stream",
     "text": [
      "['2018', 'add', 'base', 'beans', 'bruery', 'character', 'cinnamon', 'coffee', 'creamy', 'dosing', 'extra', 'features', 'fit', 'fresh', 'heavy', 'horchata', 'just', 'lactose', 'like', 'mia', 'rice', 'tierra', 'vanilla']\n"
     ]
    }
   ],
   "source": [
    "print([cv.get_feature_names()[word] for word in np.nonzero(vect)[0][:-2]])"
   ]
  },
  {
   "cell_type": "markdown",
   "metadata": {},
   "source": [
    "It's really hard to believe the the training ratings, all 144 of them, included descriptions with 'horchata', 'cinnamon', and 'tierra', so maybe the random initializations of the SGD Regressor didn't get pushed to zero by the regularizers.  But let's see where the model went wrong before adjusting regularizers."
   ]
  },
  {
   "cell_type": "code",
   "execution_count": 417,
   "metadata": {
    "collapsed": false
   },
   "outputs": [
    {
     "name": "stdout",
     "output_type": "stream",
     "text": [
      "[(0.063637492968631651, 'character'), (0.049800001767233204, 'fresh'), (-0.043483593152654244, 'just'), (0.04100373763695872, 'vanilla'), (-0.035334403770771787, 'like'), (0.029497633207047933, 'beans'), (0.024502455017940034, 'features'), (0.02235863034129186, 'cinnamon'), (0.011553906457230553, 'rice'), (-0.010920592089463405, 'coffee'), (0.0090194635071176258, 'lactose'), (-0.0088118005099497802, 'creamy'), (-0.0086635022053072799, 'base'), (0.0067852116403035647, 'dosing'), (0.0067852116403035647, 'horchata'), (0.0067852116403035647, 'mia'), (0.0067852116403035647, 'tierra'), (0.0055841977006605807, 'fit'), (0.0050789552507178645, 'heavy'), (0.0035017682115361937, 'extra'), (-0.0029137693361845083, '2018'), (0.0027293080727261339, 'add'), (0.002074350911327369, 'bruery')]\n"
     ]
    }
   ],
   "source": [
    "coefs = [model.coef_[x] for x in np.nonzero(vect)[0][:-2]]\n",
    "print(sorted(list(zip(coefs, [cv.get_feature_names()[word]\n",
    "                              for word in np.nonzero(vect)[0][:-2]])),\n",
    "             key=lambda tup: abs(tup[0]), reverse=True))"
   ]
  },
  {
   "cell_type": "code",
   "execution_count": 413,
   "metadata": {
    "collapsed": false
   },
   "outputs": [
    {
     "data": {
      "text/plain": [
       "0.18735508654730298"
      ]
     },
     "execution_count": 413,
     "metadata": {},
     "output_type": "execute_result"
    }
   ],
   "source": [
    "sum(coefs)"
   ]
  },
  {
   "cell_type": "code",
   "execution_count": 425,
   "metadata": {
    "collapsed": false
   },
   "outputs": [
    {
     "data": {
      "text/plain": [
       "False"
      ]
     },
     "execution_count": 425,
     "metadata": {},
     "output_type": "execute_result"
    }
   ],
   "source": [
    "# had the user tried a blonde ale before the test?\n",
    "'Blonde Ale' in udf.beer_style.iloc[:-1]"
   ]
  },
  {
   "cell_type": "code",
   "execution_count": 491,
   "metadata": {
    "collapsed": false
   },
   "outputs": [
    {
     "name": "stdout",
     "output_type": "stream",
     "text": [
      "0.968302777778 1.02439600448\n"
     ]
    }
   ],
   "source": [
    "# try pushing some more weights to zero\n",
    "model = SGDRegressor(penalty='elasticnet', early_stopping=stop_early, validation_fraction=0.1, \n",
    "                     random_state=1, max_iter=100, tol=1e-5, l1_ratio=0.75)\n",
    "model.fit(trainvecs, train_targets)\n",
    "        \n",
    "preds = model.predict(testvecs)\n",
    "baseline_preds = utest.rating_global + known_bias\n",
    "nlp_preds = (0.3 + 1 / trainvecs.shape[0]) * preds + baseline_preds\n",
    "        \n",
    "diffs_base = baseline_preds - utest.rating_user\n",
    "sumsq = np.dot(diffs_base, diffs_base)\n",
    "rmse_base = np.sqrt(sumsq / len(diffs_base))\n",
    "\n",
    "diffs_nlp = nlp_preds - utest.rating_user\n",
    "sumsq = np.dot(diffs_nlp, diffs_nlp)\n",
    "rmse_nlp = np.sqrt(sumsq / len(diffs_nlp))\n",
    "\n",
    "print(rmse_base, rmse_nlp)"
   ]
  },
  {
   "cell_type": "markdown",
   "metadata": {},
   "source": [
    "Barely better. see how it fares on sample500"
   ]
  },
  {
   "cell_type": "code",
   "execution_count": 492,
   "metadata": {
    "collapsed": false,
    "scrolled": true
   },
   "outputs": [
    {
     "name": "stderr",
     "output_type": "stream",
     "text": [
      "/Applications/anaconda/lib/python3.6/site-packages/ipykernel/__main__.py:3: SettingWithCopyWarning: \n",
      "A value is trying to be set on a copy of a slice from a DataFrame.\n",
      "Try using .loc[row_indexer,col_indexer] = value instead\n",
      "\n",
      "See the caveats in the documentation: http://pandas.pydata.org/pandas-docs/stable/indexing.html#indexing-view-versus-copy\n",
      "  app.launch_new_instance()\n",
      "  6%|▋         | 31/489 [00:17<04:37,  1.65it/s]/Applications/anaconda/lib/python3.6/site-packages/sklearn/linear_model/stochastic_gradient.py:1219: ConvergenceWarning: Maximum number of iteration reached before convergence. Consider increasing max_iter to improve the fit.\n",
      "  ConvergenceWarning)\n",
      "  7%|▋         | 36/489 [00:20<03:47,  1.99it/s]/Applications/anaconda/lib/python3.6/site-packages/sklearn/linear_model/stochastic_gradient.py:1219: ConvergenceWarning: Maximum number of iteration reached before convergence. Consider increasing max_iter to improve the fit.\n",
      "  ConvergenceWarning)\n",
      "  9%|▊         | 42/489 [00:24<04:27,  1.67it/s]/Applications/anaconda/lib/python3.6/site-packages/sklearn/linear_model/stochastic_gradient.py:1219: ConvergenceWarning: Maximum number of iteration reached before convergence. Consider increasing max_iter to improve the fit.\n",
      "  ConvergenceWarning)\n",
      "  9%|▉         | 44/489 [00:25<05:08,  1.44it/s]/Applications/anaconda/lib/python3.6/site-packages/sklearn/linear_model/stochastic_gradient.py:1219: ConvergenceWarning: Maximum number of iteration reached before convergence. Consider increasing max_iter to improve the fit.\n",
      "  ConvergenceWarning)\n",
      "  9%|▉         | 45/489 [00:26<05:33,  1.33it/s]/Applications/anaconda/lib/python3.6/site-packages/sklearn/linear_model/stochastic_gradient.py:1219: ConvergenceWarning: Maximum number of iteration reached before convergence. Consider increasing max_iter to improve the fit.\n",
      "  ConvergenceWarning)\n",
      " 10%|█         | 51/489 [00:30<04:12,  1.74it/s]/Applications/anaconda/lib/python3.6/site-packages/sklearn/linear_model/stochastic_gradient.py:1219: ConvergenceWarning: Maximum number of iteration reached before convergence. Consider increasing max_iter to improve the fit.\n",
      "  ConvergenceWarning)\n",
      " 15%|█▍        | 72/489 [00:41<04:23,  1.58it/s]/Applications/anaconda/lib/python3.6/site-packages/sklearn/linear_model/stochastic_gradient.py:1219: ConvergenceWarning: Maximum number of iteration reached before convergence. Consider increasing max_iter to improve the fit.\n",
      "  ConvergenceWarning)\n",
      " 16%|█▌        | 77/489 [00:45<04:36,  1.49it/s]/Applications/anaconda/lib/python3.6/site-packages/sklearn/linear_model/stochastic_gradient.py:1219: ConvergenceWarning: Maximum number of iteration reached before convergence. Consider increasing max_iter to improve the fit.\n",
      "  ConvergenceWarning)\n",
      " 18%|█▊        | 89/489 [00:52<03:59,  1.67it/s]/Applications/anaconda/lib/python3.6/site-packages/sklearn/linear_model/stochastic_gradient.py:1219: ConvergenceWarning: Maximum number of iteration reached before convergence. Consider increasing max_iter to improve the fit.\n",
      "  ConvergenceWarning)\n",
      " 20%|██        | 99/489 [00:58<03:35,  1.81it/s]/Applications/anaconda/lib/python3.6/site-packages/sklearn/linear_model/stochastic_gradient.py:1219: ConvergenceWarning: Maximum number of iteration reached before convergence. Consider increasing max_iter to improve the fit.\n",
      "  ConvergenceWarning)\n",
      " 25%|██▍       | 122/489 [01:10<03:13,  1.89it/s]/Applications/anaconda/lib/python3.6/site-packages/sklearn/linear_model/stochastic_gradient.py:1219: ConvergenceWarning: Maximum number of iteration reached before convergence. Consider increasing max_iter to improve the fit.\n",
      "  ConvergenceWarning)\n",
      " 26%|██▌       | 125/489 [01:12<03:27,  1.75it/s]/Applications/anaconda/lib/python3.6/site-packages/sklearn/linear_model/stochastic_gradient.py:1219: ConvergenceWarning: Maximum number of iteration reached before convergence. Consider increasing max_iter to improve the fit.\n",
      "  ConvergenceWarning)\n",
      " 26%|██▋       | 129/489 [01:15<03:23,  1.77it/s]/Applications/anaconda/lib/python3.6/site-packages/sklearn/linear_model/stochastic_gradient.py:1219: ConvergenceWarning: Maximum number of iteration reached before convergence. Consider increasing max_iter to improve the fit.\n",
      "  ConvergenceWarning)\n",
      " 28%|██▊       | 136/489 [01:18<02:34,  2.29it/s]/Applications/anaconda/lib/python3.6/site-packages/sklearn/linear_model/stochastic_gradient.py:1219: ConvergenceWarning: Maximum number of iteration reached before convergence. Consider increasing max_iter to improve the fit.\n",
      "  ConvergenceWarning)\n",
      " 35%|███▍      | 170/489 [01:36<02:47,  1.91it/s]/Applications/anaconda/lib/python3.6/site-packages/sklearn/linear_model/stochastic_gradient.py:1219: ConvergenceWarning: Maximum number of iteration reached before convergence. Consider increasing max_iter to improve the fit.\n",
      "  ConvergenceWarning)\n",
      " 40%|████      | 198/489 [01:50<01:59,  2.43it/s]/Applications/anaconda/lib/python3.6/site-packages/sklearn/linear_model/stochastic_gradient.py:1219: ConvergenceWarning: Maximum number of iteration reached before convergence. Consider increasing max_iter to improve the fit.\n",
      "  ConvergenceWarning)\n",
      " 44%|████▍     | 216/489 [01:57<01:29,  3.04it/s]/Applications/anaconda/lib/python3.6/site-packages/sklearn/linear_model/stochastic_gradient.py:1219: ConvergenceWarning: Maximum number of iteration reached before convergence. Consider increasing max_iter to improve the fit.\n",
      "  ConvergenceWarning)\n",
      " 46%|████▌     | 224/489 [01:59<01:28,  2.99it/s]/Applications/anaconda/lib/python3.6/site-packages/sklearn/linear_model/stochastic_gradient.py:1219: ConvergenceWarning: Maximum number of iteration reached before convergence. Consider increasing max_iter to improve the fit.\n",
      "  ConvergenceWarning)\n",
      " 46%|████▌     | 226/489 [02:01<02:23,  1.83it/s]/Applications/anaconda/lib/python3.6/site-packages/sklearn/linear_model/stochastic_gradient.py:1219: ConvergenceWarning: Maximum number of iteration reached before convergence. Consider increasing max_iter to improve the fit.\n",
      "  ConvergenceWarning)\n",
      " 59%|█████▊    | 287/489 [02:21<01:01,  3.28it/s]/Applications/anaconda/lib/python3.6/site-packages/sklearn/linear_model/stochastic_gradient.py:1219: ConvergenceWarning: Maximum number of iteration reached before convergence. Consider increasing max_iter to improve the fit.\n",
      "  ConvergenceWarning)\n",
      " 82%|████████▏ | 400/489 [02:57<00:29,  2.98it/s]/Applications/anaconda/lib/python3.6/site-packages/sklearn/linear_model/stochastic_gradient.py:1219: ConvergenceWarning: Maximum number of iteration reached before convergence. Consider increasing max_iter to improve the fit.\n",
      "  ConvergenceWarning)\n",
      "100%|██████████| 489/489 [03:26<00:00,  3.17it/s]"
     ]
    },
    {
     "name": "stdout",
     "output_type": "stream",
     "text": [
      "[ 0.30772315  0.30463446]\n"
     ]
    },
    {
     "name": "stderr",
     "output_type": "stream",
     "text": [
      "\n"
     ]
    }
   ],
   "source": [
    "np.random.seed(1)\n",
    "sample500 = np.random.choice(fiveplus.user_id.unique(), 500)\n",
    "fiveplus['sampled'] = fiveplus.user_id.apply(lambda uid: uid in sample500)\n",
    "sample500_scores = test_last(fiveplus[fiveplus.sampled], vecs, beer_id_to_vecs_index, rando=1)\n",
    "print(np.mean([val for val in sample500_scores.values()], axis=0))"
   ]
  },
  {
   "cell_type": "code",
   "execution_count": 431,
   "metadata": {
    "collapsed": false
   },
   "outputs": [
    {
     "name": "stdout",
     "output_type": "stream",
     "text": [
      "[(0.063662178004126671, 'character'), (0.049732278331194188, 'fresh'), (-0.043785656852763082, 'just'), (0.040501732606832763, 'vanilla'), (-0.035720248303768645, 'like'), (0.029580759492395421, 'beans'), (0.023966031928233506, 'features'), (0.022053733167995984, 'cinnamon'), (0.011343376941701904, 'rice'), (-0.009927475188164378, 'coffee'), (0.0084905683606552942, 'lactose'), (-0.0083185806795426833, 'base'), (-0.0081361642462119549, 'creamy'), (0.0063762141014153456, 'dosing'), (0.0063762141014153456, 'horchata'), (0.0063762141014153456, 'mia'), (0.0063762141014153456, 'tierra'), (0.0052082504019391549, 'fit'), (0.0043961449926575927, 'heavy'), (0.0031807966938111202, 'extra'), (0.0024689257767401317, 'add'), (-0.0016727371125001089, '2018'), (0.0014625024310899188, 'bruery')]\n"
     ]
    }
   ],
   "source": [
    "# vs. (.3077, .3048) with l1=0.15 in elasticnet\n",
    "\n",
    "coefs = [model.coef_[x] for x in np.nonzero(vect)[0][:-2]]\n",
    "print(sorted(list(zip(coefs, [cv.get_feature_names()[word]\n",
    "                              for word in np.nonzero(vect)[0][:-2]])),\n",
    "             key=lambda tup: abs(tup[0]), reverse=True))"
   ]
  },
  {
   "cell_type": "code",
   "execution_count": 455,
   "metadata": {
    "collapsed": false
   },
   "outputs": [
    {
     "data": {
      "text/plain": [
       "9"
      ]
     },
     "execution_count": 455,
     "metadata": {},
     "output_type": "execute_result"
    }
   ],
   "source": [
    "sum(['vanilla' in udf.beer_description.iloc[i].split() for i in range(len(udf)-1)])"
   ]
  },
  {
   "cell_type": "code",
   "execution_count": 456,
   "metadata": {
    "collapsed": false
   },
   "outputs": [
    {
     "data": {
      "text/plain": [
       "5"
      ]
     },
     "execution_count": 456,
     "metadata": {},
     "output_type": "execute_result"
    }
   ],
   "source": [
    "sum(['character' in udf.beer_description.iloc[i].split() for i in range(len(udf)-1)])"
   ]
  },
  {
   "cell_type": "code",
   "execution_count": 458,
   "metadata": {
    "collapsed": false
   },
   "outputs": [
    {
     "data": {
      "text/plain": [
       "1"
      ]
     },
     "execution_count": 458,
     "metadata": {},
     "output_type": "execute_result"
    }
   ],
   "source": [
    "sum(['blonde' in udf.beer_description.iloc[i].split() for i in range(len(udf)-1)])"
   ]
  },
  {
   "cell_type": "code",
   "execution_count": 460,
   "metadata": {
    "collapsed": false
   },
   "outputs": [],
   "source": [
    "# find the rating for that beer that had 'blonde' in descrip\n",
    "blondie = udf[udf.beer_description.str.contains('blonde')]"
   ]
  },
  {
   "cell_type": "code",
   "execution_count": 461,
   "metadata": {
    "collapsed": false
   },
   "outputs": [
    {
     "data": {
      "text/plain": [
       "1"
      ]
     },
     "execution_count": 461,
     "metadata": {},
     "output_type": "execute_result"
    }
   ],
   "source": [
    "len(blondie)"
   ]
  },
  {
   "cell_type": "code",
   "execution_count": 490,
   "metadata": {
    "collapsed": false
   },
   "outputs": [
    {
     "data": {
      "text/plain": [
       "['SLO Brew Blueberry A SLO Brew Classic loved near and far, this light-bodied blonde ale is infused with organic blueberry flavor to bring you a fresh “crop to can” aroma and balanced body. With this can in hand, you’re ripe for enhanced well being.']"
      ]
     },
     "execution_count": 490,
     "metadata": {},
     "output_type": "execute_result"
    }
   ],
   "source": [
    "list(blondie.loc[blondie.index, 'beer_description'])"
   ]
  },
  {
   "cell_type": "code",
   "execution_count": null,
   "metadata": {
    "collapsed": true
   },
   "outputs": [],
   "source": []
  }
 ],
 "metadata": {
  "kernelspec": {
   "display_name": "Python 3",
   "language": "python",
   "name": "python3"
  },
  "language_info": {
   "codemirror_mode": {
    "name": "ipython",
    "version": 3
   },
   "file_extension": ".py",
   "mimetype": "text/x-python",
   "name": "python",
   "nbconvert_exporter": "python",
   "pygments_lexer": "ipython3",
   "version": "3.6.9"
  }
 },
 "nbformat": 4,
 "nbformat_minor": 2
}
