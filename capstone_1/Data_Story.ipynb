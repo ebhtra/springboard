{
 "cells": [
  {
   "cell_type": "code",
   "execution_count": 9,
   "metadata": {
    "collapsed": true
   },
   "outputs": [],
   "source": [
    "import pandas as pd\n",
    "import matplotlib.pyplot as plt\n",
    "import numpy as np\n",
    "import seaborn as sns\n",
    "\n",
    "%matplotlib inline"
   ]
  },
  {
   "cell_type": "code",
   "execution_count": null,
   "metadata": {
    "collapsed": true
   },
   "outputs": [],
   "source": [
    "df = pd.read_csv('bigframe.csv')"
   ]
  },
  {
   "cell_type": "code",
   "execution_count": 122,
   "metadata": {
    "collapsed": false
   },
   "outputs": [
    {
     "name": "stdout",
     "output_type": "stream",
     "text": [
      "(1425447, 28)\n"
     ]
    },
    {
     "data": {
      "text/html": [
       "<div>\n",
       "<style scoped>\n",
       "    .dataframe tbody tr th:only-of-type {\n",
       "        vertical-align: middle;\n",
       "    }\n",
       "\n",
       "    .dataframe tbody tr th {\n",
       "        vertical-align: top;\n",
       "    }\n",
       "\n",
       "    .dataframe thead th {\n",
       "        text-align: right;\n",
       "    }\n",
       "</style>\n",
       "<table border=\"1\" class=\"dataframe\">\n",
       "  <thead>\n",
       "    <tr style=\"text-align: right;\">\n",
       "      <th></th>\n",
       "      <th>checkin_id</th>\n",
       "      <th>beer_id</th>\n",
       "      <th>user_id</th>\n",
       "      <th>rating_user</th>\n",
       "      <th>brewery_name</th>\n",
       "      <th>beer_name</th>\n",
       "      <th>beer_style</th>\n",
       "      <th>brewery_id</th>\n",
       "      <th>brewery_type</th>\n",
       "      <th>brewery_country</th>\n",
       "      <th>...</th>\n",
       "      <th>venue_state</th>\n",
       "      <th>venue_cat</th>\n",
       "      <th>venue_id</th>\n",
       "      <th>checkin_comment</th>\n",
       "      <th>venue_type</th>\n",
       "      <th>rating_global</th>\n",
       "      <th>beer_description</th>\n",
       "      <th>abv</th>\n",
       "      <th>date</th>\n",
       "      <th>ipa</th>\n",
       "    </tr>\n",
       "  </thead>\n",
       "  <tbody>\n",
       "    <tr>\n",
       "      <th>0</th>\n",
       "      <td>821797539</td>\n",
       "      <td>2095023</td>\n",
       "      <td>3340203</td>\n",
       "      <td>3.75</td>\n",
       "      <td>Stone Brewing</td>\n",
       "      <td>Stone Scorpion Bowl IPA</td>\n",
       "      <td>IPA - American</td>\n",
       "      <td>1204</td>\n",
       "      <td>Regional Brewery</td>\n",
       "      <td>United States</td>\n",
       "      <td>...</td>\n",
       "      <td>NaN</td>\n",
       "      <td>NaN</td>\n",
       "      <td>NaN</td>\n",
       "      <td>Easy-drinking, not too hoppy. Solid.</td>\n",
       "      <td>[]</td>\n",
       "      <td>3.73789</td>\n",
       "      <td>To create a recipe so tropical and fruity with...</td>\n",
       "      <td>7.5</td>\n",
       "      <td>2019-10-26 03:52:50+00:00</td>\n",
       "      <td>True</td>\n",
       "    </tr>\n",
       "    <tr>\n",
       "      <th>1</th>\n",
       "      <td>818949121</td>\n",
       "      <td>1709568</td>\n",
       "      <td>3340203</td>\n",
       "      <td>3.50</td>\n",
       "      <td>Ritual Brewing Company</td>\n",
       "      <td>Pale Ale</td>\n",
       "      <td>Pale Ale - American</td>\n",
       "      <td>39329</td>\n",
       "      <td>Micro Brewery</td>\n",
       "      <td>United States</td>\n",
       "      <td>...</td>\n",
       "      <td>CA</td>\n",
       "      <td>Nightlife Spot</td>\n",
       "      <td>376422.0</td>\n",
       "      <td>Solid.</td>\n",
       "      <td>['brewery']</td>\n",
       "      <td>3.43165</td>\n",
       "      <td>NaN</td>\n",
       "      <td>5.2</td>\n",
       "      <td>2019-10-19 03:07:43+00:00</td>\n",
       "      <td>False</td>\n",
       "    </tr>\n",
       "    <tr>\n",
       "      <th>2</th>\n",
       "      <td>818856642</td>\n",
       "      <td>2734572</td>\n",
       "      <td>3340203</td>\n",
       "      <td>4.25</td>\n",
       "      <td>Ritual Brewing Company</td>\n",
       "      <td>Oil Rig</td>\n",
       "      <td>IPA - Imperial / Double</td>\n",
       "      <td>39329</td>\n",
       "      <td>Micro Brewery</td>\n",
       "      <td>United States</td>\n",
       "      <td>...</td>\n",
       "      <td>CA</td>\n",
       "      <td>Nightlife Spot</td>\n",
       "      <td>376422.0</td>\n",
       "      <td>Gooood stuff. Cool place too.</td>\n",
       "      <td>['brewery']</td>\n",
       "      <td>3.87873</td>\n",
       "      <td>NEW TRADITIONS CALL FOR NEW HOLIDAYS AND NEW H...</td>\n",
       "      <td>9.0</td>\n",
       "      <td>2019-10-19 00:37:37+00:00</td>\n",
       "      <td>True</td>\n",
       "    </tr>\n",
       "    <tr>\n",
       "      <th>3</th>\n",
       "      <td>815159720</td>\n",
       "      <td>1044097</td>\n",
       "      <td>3340203</td>\n",
       "      <td>4.25</td>\n",
       "      <td>Stone Brewing</td>\n",
       "      <td>Stone Ruination Double IPA 2.0</td>\n",
       "      <td>IPA - Imperial / Double</td>\n",
       "      <td>1204</td>\n",
       "      <td>Regional Brewery</td>\n",
       "      <td>United States</td>\n",
       "      <td>...</td>\n",
       "      <td>NaN</td>\n",
       "      <td>NaN</td>\n",
       "      <td>NaN</td>\n",
       "      <td>Probably the best Stone beer I’ve had. I’m a fan.</td>\n",
       "      <td>[]</td>\n",
       "      <td>4.01290</td>\n",
       "      <td>Stone Ruination IPA was the first full-time br...</td>\n",
       "      <td>8.5</td>\n",
       "      <td>2019-10-10 02:20:55+00:00</td>\n",
       "      <td>True</td>\n",
       "    </tr>\n",
       "    <tr>\n",
       "      <th>4</th>\n",
       "      <td>814916483</td>\n",
       "      <td>1070</td>\n",
       "      <td>3340203</td>\n",
       "      <td>3.75</td>\n",
       "      <td>Lagunitas Brewing Company</td>\n",
       "      <td>Imperial Stout</td>\n",
       "      <td>Stout - Russian Imperial</td>\n",
       "      <td>765</td>\n",
       "      <td>Macro Brewery</td>\n",
       "      <td>United States</td>\n",
       "      <td>...</td>\n",
       "      <td>NaN</td>\n",
       "      <td>NaN</td>\n",
       "      <td>NaN</td>\n",
       "      <td>A really nice, if unspectacular, stout.</td>\n",
       "      <td>[]</td>\n",
       "      <td>3.91420</td>\n",
       "      <td>Made with Highly roasted malted barley, and pl...</td>\n",
       "      <td>9.9</td>\n",
       "      <td>2019-10-09 04:25:53+00:00</td>\n",
       "      <td>False</td>\n",
       "    </tr>\n",
       "  </tbody>\n",
       "</table>\n",
       "<p>5 rows × 28 columns</p>\n",
       "</div>"
      ],
      "text/plain": [
       "   checkin_id  beer_id  user_id  rating_user               brewery_name  \\\n",
       "0   821797539  2095023  3340203         3.75              Stone Brewing   \n",
       "1   818949121  1709568  3340203         3.50     Ritual Brewing Company   \n",
       "2   818856642  2734572  3340203         4.25     Ritual Brewing Company   \n",
       "3   815159720  1044097  3340203         4.25              Stone Brewing   \n",
       "4   814916483     1070  3340203         3.75  Lagunitas Brewing Company   \n",
       "\n",
       "                        beer_name                beer_style  brewery_id  \\\n",
       "0         Stone Scorpion Bowl IPA            IPA - American        1204   \n",
       "1                        Pale Ale       Pale Ale - American       39329   \n",
       "2                         Oil Rig   IPA - Imperial / Double       39329   \n",
       "3  Stone Ruination Double IPA 2.0   IPA - Imperial / Double        1204   \n",
       "4                  Imperial Stout  Stout - Russian Imperial         765   \n",
       "\n",
       "       brewery_type brewery_country  ... venue_state       venue_cat  \\\n",
       "0  Regional Brewery   United States  ...         NaN             NaN   \n",
       "1     Micro Brewery   United States  ...          CA  Nightlife Spot   \n",
       "2     Micro Brewery   United States  ...          CA  Nightlife Spot   \n",
       "3  Regional Brewery   United States  ...         NaN             NaN   \n",
       "4     Macro Brewery   United States  ...         NaN             NaN   \n",
       "\n",
       "   venue_id                                    checkin_comment   venue_type  \\\n",
       "0       NaN               Easy-drinking, not too hoppy. Solid.           []   \n",
       "1  376422.0                                             Solid.  ['brewery']   \n",
       "2  376422.0                      Gooood stuff. Cool place too.  ['brewery']   \n",
       "3       NaN  Probably the best Stone beer I’ve had. I’m a fan.           []   \n",
       "4       NaN            A really nice, if unspectacular, stout.           []   \n",
       "\n",
       "   rating_global                                   beer_description  abv  \\\n",
       "0        3.73789  To create a recipe so tropical and fruity with...  7.5   \n",
       "1        3.43165                                                NaN  5.2   \n",
       "2        3.87873  NEW TRADITIONS CALL FOR NEW HOLIDAYS AND NEW H...  9.0   \n",
       "3        4.01290  Stone Ruination IPA was the first full-time br...  8.5   \n",
       "4        3.91420  Made with Highly roasted malted barley, and pl...  9.9   \n",
       "\n",
       "                        date    ipa  \n",
       "0  2019-10-26 03:52:50+00:00   True  \n",
       "1  2019-10-19 03:07:43+00:00  False  \n",
       "2  2019-10-19 00:37:37+00:00   True  \n",
       "3  2019-10-10 02:20:55+00:00   True  \n",
       "4  2019-10-09 04:25:53+00:00  False  \n",
       "\n",
       "[5 rows x 28 columns]"
      ]
     },
     "execution_count": 122,
     "metadata": {},
     "output_type": "execute_result"
    }
   ],
   "source": [
    "print(df.shape)\n",
    "df.head()"
   ]
  },
  {
   "cell_type": "code",
   "execution_count": 237,
   "metadata": {
    "collapsed": false
   },
   "outputs": [
    {
     "data": {
      "text/plain": [
       "0    2019-10-26 03:52:50+00:00\n",
       "1    2019-10-19 03:07:43+00:00\n",
       "2    2019-10-19 00:37:37+00:00\n",
       "3    2019-10-10 02:20:55+00:00\n",
       "4    2019-10-09 04:25:53+00:00\n",
       "Name: date, dtype: object"
      ]
     },
     "execution_count": 237,
     "metadata": {},
     "output_type": "execute_result"
    }
   ],
   "source": [
    "df.date[:5]"
   ]
  },
  {
   "cell_type": "code",
   "execution_count": 238,
   "metadata": {
    "collapsed": false
   },
   "outputs": [
    {
     "data": {
      "text/plain": [
       "0   2019-10-26 03:52:50+00:00\n",
       "1   2019-10-19 03:07:43+00:00\n",
       "2   2019-10-19 00:37:37+00:00\n",
       "3   2019-10-10 02:20:55+00:00\n",
       "4   2019-10-09 04:25:53+00:00\n",
       "Name: date, dtype: datetime64[ns, UTC]"
      ]
     },
     "execution_count": 238,
     "metadata": {},
     "output_type": "execute_result"
    }
   ],
   "source": [
    "# pd.to_csv changes datetimes back to strings, so this has to be converted back to datetimes now\n",
    "\n",
    "df['date'] = pd.to_datetime(df.date)\n",
    "df.date[:5]"
   ]
  },
  {
   "cell_type": "markdown",
   "metadata": {},
   "source": [
    "=====================================================================================================================\n",
    "\n",
    "Each line in these dataframes represents a single check-in by a user of the Untappd app, where the user left a rating for the beer.\n",
    "\n",
    "The main focus of this project is predicting ratings specifically for IPA's, as opposed to the dozens of other styles of beer.  To that end, and despite the memory it will use, it will be worth splitting the dataframe into two subframes at the start of analysis.\n",
    "\n",
    "IPA's vs non-IPA's"
   ]
  },
  {
   "cell_type": "code",
   "execution_count": 26,
   "metadata": {
    "collapsed": false
   },
   "outputs": [],
   "source": [
    "df['ipa'] = df.beer_style.str.startswith('IPA')\n",
    "# don't necessarily need that boolean column to be part of the frame, but it may be useful later\n",
    "ipas = df[df.ipa]\n",
    "non_ipas = df[df.ipa == False]"
   ]
  },
  {
   "cell_type": "markdown",
   "metadata": {},
   "source": [
    "## This first part of the notebook explores the basic counts and distributions of the beers, users, and checkins.  The second part will focus on the ratings."
   ]
  },
  {
   "cell_type": "code",
   "execution_count": 222,
   "metadata": {
    "collapsed": false
   },
   "outputs": [
    {
     "name": "stdout",
     "output_type": "stream",
     "text": [
      "Number of IPA's reviewed: 688887\n",
      "Number of unique IPA's: 84894\n",
      "\n",
      "Number of other beers: 736560\n",
      "Number of unique other beers: 179749\n"
     ]
    }
   ],
   "source": [
    "print(f\"Number of IPA's reviewed: {len(ipas)}\")\n",
    "print(f\"Number of unique IPA's: {ipas.beer_id.nunique()}\")\n",
    "print()\n",
    "print(f'Number of other beers: {len(non_ipas)}')\n",
    "print(f'Number of unique other beers: {non_ipas.beer_id.nunique()}')"
   ]
  },
  {
   "cell_type": "code",
   "execution_count": 81,
   "metadata": {
    "collapsed": false
   },
   "outputs": [
    {
     "data": {
      "image/png": "[encoded data removed]",
      "text/plain": [
       "<matplotlib.figure.Figure at 0x1ad3d5d3c8>"
      ]
     },
     "metadata": {},
     "output_type": "display_data"
    }
   ],
   "source": [
    "_ = plt.bar([1,2,5,6], [len(ipas), ipas.beer_id.nunique(),\n",
    "                    len(non_ipas), non_ipas.beer_id.nunique()], \n",
    "        width=2, color=['darkgreen', 'lightgreen', 'darkblue', 'lightblue'],\n",
    "        tick_label=[\"IPA's   ||  Unique IPA's\", \"\", 'Other beers   ||  Unique other beers', \"\"],\n",
    "        linewidth=2, edgecolor='k')\n",
    "\n",
    "_ = plt.ylabel('Count')\n",
    "_ = plt.title(\"Checkin counts for IPA's vs. non-IPA's\")\n"
   ]
  },
  {
   "cell_type": "markdown",
   "metadata": {},
   "source": [
    "#### The number of checkins is about the same for IPA's vs. non-IPA's, but the IPA checkins are much more concentrated on a smaller number of unique beers. "
   ]
  },
  {
   "cell_type": "markdown",
   "metadata": {},
   "source": [
    "Distribution of the number of ratings each user has in this dataset:"
   ]
  },
  {
   "cell_type": "code",
   "execution_count": 261,
   "metadata": {
    "collapsed": false
   },
   "outputs": [
    {
     "data": {
      "image/png": "[encoded data removed]",
      "text/plain": [
       "<matplotlib.figure.Figure at 0x1b2e2fb128>"
      ]
     },
     "metadata": {},
     "output_type": "display_data"
    }
   ],
   "source": [
    "df.groupby('user_id').size().plot(kind='hist');\n",
    "plt.xlabel('Number of ratings for each user');"
   ]
  },
  {
   "cell_type": "markdown",
   "metadata": {},
   "source": [
    "Determining the best way to analyze and predict user ratings will in part depend on how sparse the ratings are.  I.e., how many users in this dataset rated each beer?"
   ]
  },
  {
   "cell_type": "code",
   "execution_count": 135,
   "metadata": {
    "collapsed": false
   },
   "outputs": [
    {
     "name": "stdout",
     "output_type": "stream",
     "text": [
      "Number of reviewers in this set of 1.4 million reviews: 7907\n",
      "Number of beers reviewed in those 1.4 million reviews:  264620\n",
      "Beer-to-User ratio:  33.467\n",
      "Avg. number of beers reviewed by each user: 180.277\n"
     ]
    }
   ],
   "source": [
    "n_users = df.user_id.nunique()\n",
    "n_beers = df.beer_id.nunique()\n",
    "print(f'Number of reviewers in this set of 1.4 million reviews: {n_users}')\n",
    "print(f'Number of beers reviewed in those 1.4 million reviews:  {n_beers}')\n",
    "print(f'Beer-to-User ratio:  {np.round(n_beers / n_users, 3)}')\n",
    "print(f'Avg. number of beers reviewed by each user: \\\n",
    "{np.round(df.groupby(df.user_id).size().mean(), 3)}')"
   ]
  },
  {
   "cell_type": "code",
   "execution_count": 230,
   "metadata": {
    "collapsed": false
   },
   "outputs": [
    {
     "name": "stdout",
     "output_type": "stream",
     "text": [
      "The ratio between the last 2 ratios shows that the average number of times any one beer was reviewed was 5.387\n"
     ]
    }
   ],
   "source": [
    "print(f'The ratio between the last 2 ratios shows that the average number of times any one \\\n",
    "beer was reviewed was {np.round(180.277 / 33.467, 3)}')"
   ]
  },
  {
   "cell_type": "markdown",
   "metadata": {},
   "source": [
    "#### Another way of seeing that is to look at the previous bar chart, where we can see that for IPA's (the green bars), there are about 8 checkins for each unique beer, whereas for other styles (in blue) the ratio is about 4 checkins per unique beer."
   ]
  },
  {
   "cell_type": "markdown",
   "metadata": {},
   "source": [
    "So on the one hand, this describes an extremely sparse User x Beer matrix of ratings, but at least it is denser for the IPA ratings.\n",
    "Let's see how that ratio is distributed.  Maybe the ratio holds somewhat even, and every beer has at least a few ratings.  Or maybe there's a small group of very popular/commonly available beers that get most of the ratings, and many more that are only rated once or twice."
   ]
  },
  {
   "cell_type": "code",
   "execution_count": 174,
   "metadata": {
    "collapsed": false
   },
   "outputs": [
    {
     "name": "stdout",
     "output_type": "stream",
     "text": [
      "The max number of reviews for any one beer is 2412\n",
      "The median number is 2\n"
     ]
    }
   ],
   "source": [
    "counts = df.groupby(df.beer_id).size().sort_values(ascending=False)\n",
    "\n",
    "print(f'The max number of reviews for any one beer is {counts.iloc[0]}')\n",
    "print(f'The median number is {counts.iloc[len(counts) // 2]}')"
   ]
  },
  {
   "cell_type": "markdown",
   "metadata": {},
   "source": [
    "#### This shows an extremely uneven, exponential distribution of ratings, with the max 1200 times higher than the median.  Attempts to use collaborative filtering to predict ratings are likely to rely very much on how users rated a small group of beers."
   ]
  },
  {
   "cell_type": "code",
   "execution_count": 187,
   "metadata": {
    "collapsed": false
   },
   "outputs": [
    {
     "data": {
      "image/png": "[encoded data removed]",
      "text/plain": [
       "<matplotlib.figure.Figure at 0x1af0dc8cf8>"
      ]
     },
     "metadata": {},
     "output_type": "display_data"
    }
   ],
   "source": [
    "plt.plot([10**p for p in range(6)],[counts.iloc[10**p-1] for p in range(6)])\n",
    "plt.xscale('log')\n",
    "plt.title('Distribution of ratings counts at logarithmic intervals')\n",
    "plt.xlabel('Logarithmic rank of beers')\n",
    "plt.ylabel('ratings count');"
   ]
  },
  {
   "cell_type": "code",
   "execution_count": 259,
   "metadata": {
    "collapsed": false
   },
   "outputs": [
    {
     "name": "stdout",
     "output_type": "stream",
     "text": [
      "Beer 1:\n",
      "   2412 ratings\n",
      "Beer 10:\n",
      "   1378 ratings\n",
      "Beer 100:\n",
      "   487 ratings\n",
      "Beer 1000:\n",
      "   118 ratings\n",
      "Beer 10000:\n",
      "   22 ratings\n",
      "Beer 100000:\n",
      "   2 ratings\n",
      "Beers with just 1 rating:  123345\n"
     ]
    }
   ],
   "source": [
    "for power in range(6):\n",
    "    print(f'Beer {10**power}:')\n",
    "    print(f'   {counts.iloc[10**power-1]} ratings')\n",
    "print(f'Beers with just 1 rating:  {counts.value_counts().loc[1]}')"
   ]
  },
  {
   "cell_type": "markdown",
   "metadata": {},
   "source": [
    "As far as where these beers are being rated and brewed:"
   ]
  },
  {
   "cell_type": "code",
   "execution_count": 226,
   "metadata": {
    "collapsed": false
   },
   "outputs": [
    {
     "data": {
      "image/png": "[encoded data removed]",
      "text/plain": [
       "<matplotlib.figure.Figure at 0x1b495a25f8>"
      ]
     },
     "metadata": {},
     "output_type": "display_data"
    }
   ],
   "source": [
    "geos = df.dropna(subset=['venue_lat','venue_lon'])\n",
    "\n",
    "_ = plt.hist2d(geos.venue_lon, geos.venue_lat, bins=50)\n",
    "_ = plt.xlabel('longitude')\n",
    "_ = plt.ylabel('latitude')\n",
    "_ = plt.text(x=-5, y=40, s='spain')\n",
    "_ = plt.text(x=-61, y=-7, s='brazil')\n",
    "_ = plt.text(x=77, y=21, s='india')\n",
    "_ = plt.text(x=7, y=5, s='nigeria')\n",
    "_ = plt.text(x=-111, y=54, s='canada')\n",
    "_ = plt.text(x=121, y=-4, s='indonesia')\n",
    "_ = plt.title('Geo locations of checkins')\n",
    "_ = plt.colorbar()"
   ]
  },
  {
   "cell_type": "code",
   "execution_count": 228,
   "metadata": {
    "collapsed": false
   },
   "outputs": [
    {
     "data": {
      "image/png": "[encoded data removed]",
      "text/plain": [
       "<matplotlib.figure.Figure at 0x1a1a1139b0>"
      ]
     },
     "metadata": {},
     "output_type": "display_data"
    }
   ],
   "source": [
    "geos = df.dropna(subset=['brewery_lat','brewery_lon'])\n",
    "\n",
    "_ = plt.hist2d(geos.brewery_lon, geos.brewery_lat, bins=50)\n",
    "_ = plt.xlabel('longitude')\n",
    "_ = plt.ylabel('latitude')\n",
    "_ = plt.text(x=-5, y=40, s='spain')\n",
    "_ = plt.text(x=-61, y=-7, s='brazil')\n",
    "_ = plt.text(x=77, y=21, s='india')\n",
    "_ = plt.text(x=7, y=5, s='nigeria')\n",
    "_ = plt.text(x=-111, y=54, s='canada')\n",
    "_ = plt.text(x=121, y=-4, s='indonesia')\n",
    "_ = plt.title('Geo locations of breweries (non-unique)')\n",
    "_ = plt.colorbar()"
   ]
  },
  {
   "cell_type": "markdown",
   "metadata": {},
   "source": [
    "#### As expected, the bulk of the checkins are for breweries located in the NE of the U.S. and along its West Coast.  A secondary grouping of breweries lies in the U.K. and NW Europe, with a smaller cluster in SE Australia and New Zealand, plus one area in West Africa and another in Japan.  The checkin venues themselves (the upper of the two plots) are similarly distributed, although the people rating the West African beers are not doing so from that part of the world."
   ]
  },
  {
   "cell_type": "markdown",
   "metadata": {},
   "source": [
    "Perhaps the checkin (user) locations have been trending some direction over time?"
   ]
  },
  {
   "cell_type": "code",
   "execution_count": 242,
   "metadata": {
    "collapsed": false
   },
   "outputs": [
    {
     "data": {
      "image/png": "[encoded data removed]",
      "text/plain": [
       "<matplotlib.figure.Figure at 0x1b12059f28>"
      ]
     },
     "metadata": {},
     "output_type": "display_data"
    }
   ],
   "source": [
    "yrmo = df.groupby([df.date.dt.year, df.date.dt.month])\n",
    "\n",
    "yrmo.venue_lat.mean().plot(color='C1')\n",
    "yrmo.venue_lon.mean().plot(color='C3')\n",
    "plt.legend()\n",
    "plt.xlabel('(year, month)')\n",
    "plt.text(s='NORTH', color='C1', x=50,y=50)\n",
    "plt.text(s='SOUTH', color='C1', x=50,y=20)\n",
    "plt.text(s='EAST', color='C3', x=50,y=-70)\n",
    "plt.text(s='WEST', color='C3', x=50,y=-120);"
   ]
  },
  {
   "cell_type": "markdown",
   "metadata": {},
   "source": [
    "#### The mean latitude of checkin venues has stayed very steady over the years, but the longitude has shifted significantly to the east in the last 2-3 years."
   ]
  },
  {
   "cell_type": "markdown",
   "metadata": {},
   "source": [
    "Having brought time into the equation, let's see if we can determine from this sample of 8K users how the flow of action for Untappd has evolved over time, i.e. how does growth look?  Since the checkins were pulled into this dataset by using Untappd's API, the data were retrieved in order of most recent checkins for each user.  That makes it impossible to use checkin counts to determine growth rate for the app.  But fortunately Untappd enumerates and indexes their checkins with the `checkin_id`, so we can use those as y-values and the checkin dates as x-values, to get a pretty accurate picture of Untappd's growth."
   ]
  },
  {
   "cell_type": "code",
   "execution_count": 246,
   "metadata": {
    "collapsed": true
   },
   "outputs": [],
   "source": [
    "# set index to dates to be able to sort them and work with them faster\n",
    "dated = df.set_index('date').sort_index()"
   ]
  },
  {
   "cell_type": "code",
   "execution_count": 245,
   "metadata": {
    "collapsed": false
   },
   "outputs": [
    {
     "data": {
      "image/png": "[encoded data removed]",
      "text/plain": [
       "<matplotlib.figure.Figure at 0x10f3c8160>"
      ]
     },
     "metadata": {},
     "output_type": "display_data"
    }
   ],
   "source": [
    "# This is a proxy for the flow of all checkins.  The rate of change of the slope is growth.\n",
    "dated.checkin_id.plot()\n",
    "plt.ylabel('Cumulative total of User checkins');"
   ]
  },
  {
   "cell_type": "markdown",
   "metadata": {},
   "source": [
    "#### It looks like it was growing fastest 2013-2015 and has tapered off since then, but is slowly growing still.  Their billionth checkin should come in about a year.\n"
   ]
  },
  {
   "cell_type": "markdown",
   "metadata": {},
   "source": [
    "Let's take a more detailed look at those same growth data."
   ]
  },
  {
   "cell_type": "code",
   "execution_count": 247,
   "metadata": {
    "collapsed": false
   },
   "outputs": [
    {
     "data": {
      "text/plain": [
       "DatetimeIndex(['2011-05-01 00:00:00+00:00', '2011-07-31 00:00:00+00:00',\n",
       "               '2011-10-30 00:00:00+00:00', '2012-01-29 00:00:00+00:00',\n",
       "               '2012-04-29 00:00:00+00:00', '2012-07-29 00:00:00+00:00',\n",
       "               '2012-10-28 00:00:00+00:00', '2013-01-27 00:00:00+00:00',\n",
       "               '2013-04-28 00:00:00+00:00', '2013-07-28 00:00:00+00:00',\n",
       "               '2013-10-27 00:00:00+00:00', '2014-01-26 00:00:00+00:00',\n",
       "               '2014-04-27 00:00:00+00:00', '2014-07-27 00:00:00+00:00',\n",
       "               '2014-10-26 00:00:00+00:00', '2015-01-25 00:00:00+00:00',\n",
       "               '2015-04-26 00:00:00+00:00', '2015-07-26 00:00:00+00:00',\n",
       "               '2015-10-25 00:00:00+00:00', '2016-01-24 00:00:00+00:00',\n",
       "               '2016-04-24 00:00:00+00:00', '2016-07-24 00:00:00+00:00',\n",
       "               '2016-10-23 00:00:00+00:00', '2017-01-22 00:00:00+00:00',\n",
       "               '2017-04-23 00:00:00+00:00', '2017-07-23 00:00:00+00:00',\n",
       "               '2017-10-22 00:00:00+00:00', '2018-01-21 00:00:00+00:00',\n",
       "               '2018-04-22 00:00:00+00:00', '2018-07-22 00:00:00+00:00',\n",
       "               '2018-10-21 00:00:00+00:00', '2019-01-20 00:00:00+00:00',\n",
       "               '2019-04-21 00:00:00+00:00', '2019-07-21 00:00:00+00:00',\n",
       "               '2019-10-20 00:00:00+00:00'],\n",
       "              dtype='datetime64[ns, UTC]', freq='13W-SUN')"
      ]
     },
     "execution_count": 247,
     "metadata": {},
     "output_type": "execute_result"
    }
   ],
   "source": [
    "# we'll take 13-week intervals and see the mean checkin_id for that quarter, then compare\n",
    "## the quarter-on-quarter changes and see when they're growing fastest and slowest (a.k.a. growth)\n",
    "dates = pd.date_range(start=dated.index[0], periods=35, freq='91D').normalize()  # remove the clock time\n",
    "dates"
   ]
  },
  {
   "cell_type": "code",
   "execution_count": 252,
   "metadata": {
    "collapsed": false
   },
   "outputs": [
    {
     "data": {
      "image/png": "[encoded data removed]",
      "text/plain": [
       "<matplotlib.figure.Figure at 0x1a399eb9b0>"
      ]
     },
     "metadata": {},
     "output_type": "display_data"
    }
   ],
   "source": [
    "# This sets all times to midnight, for comparisons\n",
    "dated = dated.set_index(dated.index.normalize())\n",
    "\n",
    "# Use those quarterly dates to make a column of date bins to be able to group by them\n",
    "dated['datebin'] = pd.cut(dated.index, dates)\n",
    "\n",
    "# this makes a Series whose index is the date bins\n",
    "means = dated.groupby('datebin')['checkin_id'].mean()\n",
    "\n",
    "# Now make a column of quarterly diffs, and use the bin (index) midpoints as xticks\n",
    "diffs = pd.Series([int(means[i]-means[i-1]) for i in range(1,len(means))], \n",
    "                  index=[i.mid.date() for i in means.index[1:]])\n",
    "diffs.plot(kind='bar', figsize=(12,6))\n",
    "plt.text(x=2, y=3.5e7, s='Quarterly Checkins for all Untappd Users', fontsize=16)\n",
    "plt.show()"
   ]
  },
  {
   "cell_type": "markdown",
   "metadata": {},
   "source": [
    "#### As expected, checkin growth was fastest in 2013-2015, and while the app has seen consecutive quarters of falling usage numbers 3 times since then, the overall trend is still upwards.  From June of 2015 to June of 2019 (4 years) the quarterly checkins went up by a million.  By comparison, in the 1 year from June of 2014 to June of 2015, the quarterly checkins went up more than that.  "
   ]
  },
  {
   "cell_type": "markdown",
   "metadata": {},
   "source": [
    "What about for IPA's?  They seem to have followed a similar trajectory of popularity.  Let's see what percentage of checkins they've accounted for over this timeframe."
   ]
  },
  {
   "cell_type": "code",
   "execution_count": 253,
   "metadata": {
    "collapsed": false
   },
   "outputs": [
    {
     "data": {
      "text/html": [
       "<div>\n",
       "<style scoped>\n",
       "    .dataframe tbody tr th:only-of-type {\n",
       "        vertical-align: middle;\n",
       "    }\n",
       "\n",
       "    .dataframe tbody tr th {\n",
       "        vertical-align: top;\n",
       "    }\n",
       "\n",
       "    .dataframe thead th {\n",
       "        text-align: right;\n",
       "    }\n",
       "</style>\n",
       "<table border=\"1\" class=\"dataframe\">\n",
       "  <thead>\n",
       "    <tr style=\"text-align: right;\">\n",
       "      <th></th>\n",
       "      <th>0</th>\n",
       "      <th>1</th>\n",
       "    </tr>\n",
       "    <tr>\n",
       "      <th>datebin</th>\n",
       "      <th></th>\n",
       "      <th></th>\n",
       "    </tr>\n",
       "  </thead>\n",
       "  <tbody>\n",
       "    <tr>\n",
       "      <th>(2011-05-01, 2011-07-31]</th>\n",
       "      <td>20</td>\n",
       "      <td>3</td>\n",
       "    </tr>\n",
       "    <tr>\n",
       "      <th>(2011-07-31, 2011-10-30]</th>\n",
       "      <td>15</td>\n",
       "      <td>7</td>\n",
       "    </tr>\n",
       "    <tr>\n",
       "      <th>(2011-10-30, 2012-01-29]</th>\n",
       "      <td>216</td>\n",
       "      <td>69</td>\n",
       "    </tr>\n",
       "    <tr>\n",
       "      <th>(2012-01-29, 2012-04-29]</th>\n",
       "      <td>285</td>\n",
       "      <td>113</td>\n",
       "    </tr>\n",
       "    <tr>\n",
       "      <th>(2012-04-29, 2012-07-29]</th>\n",
       "      <td>126</td>\n",
       "      <td>38</td>\n",
       "    </tr>\n",
       "  </tbody>\n",
       "</table>\n",
       "</div>"
      ],
      "text/plain": [
       "                            0    1\n",
       "datebin                           \n",
       "(2011-05-01, 2011-07-31]   20    3\n",
       "(2011-07-31, 2011-10-30]   15    7\n",
       "(2011-10-30, 2012-01-29]  216   69\n",
       "(2012-01-29, 2012-04-29]  285  113\n",
       "(2012-04-29, 2012-07-29]  126   38"
      ]
     },
     "execution_count": 253,
     "metadata": {},
     "output_type": "execute_result"
    }
   ],
   "source": [
    "all_checkins = dated.groupby('datebin').size()\n",
    "ipa_checkins = dated[dated.ipa].groupby('datebin').size()\n",
    "\n",
    "ipa_pct = pd.concat([all_checkins, ipa_checkins], axis=1)\n",
    "\n",
    "ipa_pct.head()"
   ]
  },
  {
   "cell_type": "code",
   "execution_count": 254,
   "metadata": {
    "collapsed": false
   },
   "outputs": [
    {
     "data": {
      "text/html": [
       "<div>\n",
       "<style scoped>\n",
       "    .dataframe tbody tr th:only-of-type {\n",
       "        vertical-align: middle;\n",
       "    }\n",
       "\n",
       "    .dataframe tbody tr th {\n",
       "        vertical-align: top;\n",
       "    }\n",
       "\n",
       "    .dataframe thead th {\n",
       "        text-align: right;\n",
       "    }\n",
       "</style>\n",
       "<table border=\"1\" class=\"dataframe\">\n",
       "  <thead>\n",
       "    <tr style=\"text-align: right;\">\n",
       "      <th></th>\n",
       "      <th>0</th>\n",
       "      <th>1</th>\n",
       "      <th>pct</th>\n",
       "    </tr>\n",
       "  </thead>\n",
       "  <tbody>\n",
       "    <tr>\n",
       "      <th>2011-06-15</th>\n",
       "      <td>20</td>\n",
       "      <td>3</td>\n",
       "      <td>15.000000</td>\n",
       "    </tr>\n",
       "    <tr>\n",
       "      <th>2011-09-14</th>\n",
       "      <td>15</td>\n",
       "      <td>7</td>\n",
       "      <td>46.666667</td>\n",
       "    </tr>\n",
       "    <tr>\n",
       "      <th>2011-12-14</th>\n",
       "      <td>216</td>\n",
       "      <td>69</td>\n",
       "      <td>31.944444</td>\n",
       "    </tr>\n",
       "    <tr>\n",
       "      <th>2012-03-14</th>\n",
       "      <td>285</td>\n",
       "      <td>113</td>\n",
       "      <td>39.649123</td>\n",
       "    </tr>\n",
       "    <tr>\n",
       "      <th>2012-06-13</th>\n",
       "      <td>126</td>\n",
       "      <td>38</td>\n",
       "      <td>30.158730</td>\n",
       "    </tr>\n",
       "  </tbody>\n",
       "</table>\n",
       "</div>"
      ],
      "text/plain": [
       "              0    1        pct\n",
       "2011-06-15   20    3  15.000000\n",
       "2011-09-14   15    7  46.666667\n",
       "2011-12-14  216   69  31.944444\n",
       "2012-03-14  285  113  39.649123\n",
       "2012-06-13  126   38  30.158730"
      ]
     },
     "execution_count": 254,
     "metadata": {},
     "output_type": "execute_result"
    }
   ],
   "source": [
    "# I'd rather see just one date on the x-axis, even if it blurs the fine-grained scale of the data\n",
    "ipa_pct.index = [i.mid.date() for i in ipa_pct.index]\n",
    "\n",
    "ipa_pct['pct'] = ipa_pct[1] * 100 / ipa_pct[0]\n",
    "\n",
    "ipa_pct.head()"
   ]
  },
  {
   "cell_type": "code",
   "execution_count": 256,
   "metadata": {
    "collapsed": false
   },
   "outputs": [
    {
     "data": {
      "image/png": "[encoded data removed]",
      "text/plain": [
       "<matplotlib.figure.Figure at 0x1b120594a8>"
      ]
     },
     "metadata": {},
     "output_type": "display_data"
    }
   ],
   "source": [
    "# Those first few quarters consist of too small a number of checkins to\n",
    "## rightfully include in the following graph, but in the interest of\n",
    "### keeping the dimensions similar to the previous chart, they're included.\n",
    "ipa_pct.pct.plot(kind='bar', figsize=(12,6));\n",
    "plt.ylabel('% of all checkins');\n",
    "plt.title('IPA checkins as a % of all checkins, over time');"
   ]
  },
  {
   "cell_type": "markdown",
   "metadata": {},
   "source": [
    "#### While that chart does seem to show how the popularity of IPA's is progressing over time, it should be noted that this group of 8K users was selected by who had checked in the most on a random sample of IPA's, where the IPA's were likely skewed toward recent releases.  Nevertheless, an occasional reader of beer industry headlines knows that IPA sales growth is outpacing other styles in recent years, and this chart is probably an accurate reflection of that."
   ]
  },
  {
   "cell_type": "markdown",
   "metadata": {},
   "source": [
    "Before we get into the ratings, let's take a quick look at a few more dataframe columns, starting with the distribution of abv (alcohol by volume) in these beers."
   ]
  },
  {
   "cell_type": "code",
   "execution_count": 265,
   "metadata": {
    "collapsed": false
   },
   "outputs": [
    {
     "name": "stdout",
     "output_type": "stream",
     "text": [
      "Number of beers with no given abv: 15790\n",
      "Max abv listed:  80.0\n"
     ]
    }
   ],
   "source": [
    "print(f'Number of beers with no given abv: {len(df[df.abv==0])}')\n",
    "print(f'Max abv listed:  {max(df.abv)}')"
   ]
  },
  {
   "cell_type": "code",
   "execution_count": 266,
   "metadata": {
    "collapsed": false
   },
   "outputs": [
    {
     "data": {
      "image/png": "[encoded data removed]",
      "text/plain": [
       "<matplotlib.figure.Figure at 0x1a38c45080>"
      ]
     },
     "metadata": {},
     "output_type": "display_data"
    }
   ],
   "source": [
    "# Remove those outliers (abv = 80% ??) to make the histogram more accurate\n",
    "_ = plt.hist(df.abv[(df.abv > 0) & (df.abv < 15)], bins=50)\n",
    "_ = plt.xlabel('% alcohol by volume, all beers')\n",
    "_ = plt.ylabel('frequency')\n",
    "plt.show()"
   ]
  },
  {
   "cell_type": "markdown",
   "metadata": {},
   "source": [
    "Compare the alcohol levels of IPA's vs other beers."
   ]
  },
  {
   "cell_type": "code",
   "execution_count": 267,
   "metadata": {
    "collapsed": false
   },
   "outputs": [
    {
     "data": {
      "image/png": "[encoded data removed]",
      "text/plain": [
       "<matplotlib.figure.Figure at 0x1b12e12e80>"
      ]
     },
     "metadata": {},
     "output_type": "display_data"
    }
   ],
   "source": [
    "ipas[(ipas.abv > 0) & (ipas.abv < 15)].abv.plot(kind='hist', color='C1',\n",
    "                                                label='ipas', bins=50)\n",
    "non_ipas[(non_ipas.abv > 0) & (non_ipas.abv < 15)].abv.plot(kind='hist', color='k', lw=2,\n",
    "                                                            histtype='step', label='non-ipas', bins=50)\n",
    "plt.xlabel('% abv')\n",
    "plt.legend()\n",
    "plt.show()"
   ]
  },
  {
   "cell_type": "code",
   "execution_count": 269,
   "metadata": {
    "collapsed": false
   },
   "outputs": [
    {
     "name": "stdout",
     "output_type": "stream",
     "text": [
      "The mean abv for an IPA in this dataset is 7.112 %\n",
      "For other beers in this dataset, the mean abv is 6.447 %\n",
      "\n",
      "The abv standard deviation for an IPA in this dataset is 1.417\n",
      "For other beers in this dataset, the abv std is 2.639\n"
     ]
    }
   ],
   "source": [
    "print(f'The mean abv for an IPA in this dataset is {round(np.mean(ipas.abv), 3)} %')\n",
    "print(f'For other beers in this dataset, the mean abv is {round(np.mean(non_ipas.abv), 3)} %')\n",
    "print()\n",
    "print(f'The abv standard deviation for an IPA in this dataset is {round(np.std(ipas.abv), 3)}')\n",
    "print(f'For other beers in this dataset, the abv std is {round(np.std(non_ipas.abv), 3)}')"
   ]
  },
  {
   "cell_type": "markdown",
   "metadata": {},
   "source": [
    "#### The mean abv for IPA's is higher, but the non-IPA's are spread out more and cover the extremes in both directions.  Their spread is  a consequence of their encompassing more styles."
   ]
  },
  {
   "cell_type": "markdown",
   "metadata": {},
   "source": [
    "Finally, what sorts of breweries make these checked in beers?"
   ]
  },
  {
   "cell_type": "code",
   "execution_count": 271,
   "metadata": {
    "collapsed": false
   },
   "outputs": [
    {
     "data": {
      "image/png": "[encoded data removed]",
      "text/plain": [
       "<matplotlib.figure.Figure at 0x1a39a8bba8>"
      ]
     },
     "metadata": {},
     "output_type": "display_data"
    }
   ],
   "source": [
    "df.groupby('brewery_type').size().plot(kind='bar')\n",
    "plt.ylabel('count')\n",
    "plt.xlabel('brewery type')\n",
    "plt.show()"
   ]
  },
  {
   "cell_type": "markdown",
   "metadata": {},
   "source": [
    "#### Over half of the 1.4 mil checkins are for microbrews, so it's clear that the people using Untappd's app are not interested in rating and sharing with the world their consumption of macrobrews, which in reality make up the vast majority of beer sales in the U.S. and the rest of the world."
   ]
  },
  {
   "cell_type": "markdown",
   "metadata": {},
   "source": [
    "\n",
    "======================================================================================================================\n"
   ]
  },
  {
   "cell_type": "markdown",
   "metadata": {},
   "source": [
    "## In this second part of the notebook we'll take a look at how ratings are distributed and how they relate to other features."
   ]
  },
  {
   "cell_type": "markdown",
   "metadata": {},
   "source": [
    "First off, there are 2 ratings columns in this dataset, one for the user who checked in ('rating_user') and another for the mean of all user ratings ever ('rating_global') for the beer.\n",
    "\n",
    "For the most part, users can rate a beer in any 0.25 increment up to 5.00, although there are some ratings in increments of 0.10, which come from users that have paid Untappd for some sort of Premium level of the app (which is free otherwise).  I removed all the 0.00 ratings from the data, on the assumption that they are much more likely to reflect \"No Rating\" than \"The Worst Beer Ever,\" and though the app defaults to 0.00 on its rating slider, it states to the user that the rating is \"No Rating.\"  A quick look at the ratings distribution, with its scarcity of 0.25-1.75 ratings, supports this approach:  "
   ]
  },
  {
   "cell_type": "code",
   "execution_count": 285,
   "metadata": {
    "collapsed": false
   },
   "outputs": [
    {
     "data": {
      "image/png": "[encoded data removed]",
      "text/plain": [
       "<matplotlib.figure.Figure at 0x1a1a0edc88>"
      ]
     },
     "metadata": {},
     "output_type": "display_data"
    }
   ],
   "source": [
    "plt.hist(df.rating_user, bins=20, label='user ratings')\n",
    "plt.hist(df[df.rating_global > 0].rating_global, histtype='step',\n",
    "         color='k', bins=20, label='global ratings', lw=2)\n",
    "plt.xlabel('rating')\n",
    "plt.ylabel('count')\n",
    "plt.axvline(x=df.rating_user.mean(), color='y', linestyle='--',\n",
    "            label='avg. user rating')\n",
    "plt.axvline(x=df[df.rating_global > 0].rating_global.mean(), linestyle='--',\n",
    "            label='avg. global rating', color='r')\n",
    "plt.legend();"
   ]
  },
  {
   "cell_type": "markdown",
   "metadata": {},
   "source": [
    "#### Globally, almost all ratings averages have settled into the 3.25 - 4.5 range over time, while the local user ratings are more spread out, having so many fewer ratings per beer."
   ]
  },
  {
   "cell_type": "markdown",
   "metadata": {},
   "source": [
    "Break down the blue part of the above graph into user ratings for IPA vs non_IPA"
   ]
  },
  {
   "cell_type": "code",
   "execution_count": 290,
   "metadata": {
    "collapsed": false
   },
   "outputs": [
    {
     "data": {
      "image/png": "[encoded data removed]",
      "text/plain": [
       "<matplotlib.figure.Figure at 0x1a39a66a90>"
      ]
     },
     "metadata": {},
     "output_type": "display_data"
    }
   ],
   "source": [
    "plt.hist(ipas.rating_user, bins=20, color='C1', label='IPA')\n",
    "plt.hist(non_ipas.rating_user, bins=20, histtype='step', lw=2, label='non-IPA', color='k')\n",
    "plt.xlabel('User Rating')\n",
    "plt.ylabel('Count')\n",
    "plt.axvline(x=ipas.rating_user.mean(), color='lightgreen', linestyle='--',\n",
    "            label='avg. IPA rating')\n",
    "plt.axvline(x=non_ipas.rating_user.mean(), color='k', linestyle='--',\n",
    "            label='avg. non-IPA rating')\n",
    "plt.legend(loc='center left');"
   ]
  },
  {
   "cell_type": "markdown",
   "metadata": {},
   "source": [
    "#### The IPA's are packed pretty closely around 4-star ratings, while the non-IPA's spread out more below 4 stars and also represent more of the 5-star ratings."
   ]
  },
  {
   "cell_type": "markdown",
   "metadata": {},
   "source": [
    "A few bar charts to compare the same user/global and IPA/non-IPA splits and their means:"
   ]
  },
  {
   "cell_type": "code",
   "execution_count": 291,
   "metadata": {
    "collapsed": false
   },
   "outputs": [
    {
     "data": {
      "image/png": "[encoded data removed]",
      "text/plain": [
       "<matplotlib.figure.Figure at 0x1a38c1cc88>"
      ]
     },
     "metadata": {},
     "output_type": "display_data"
    }
   ],
   "source": [
    "plt.figure(figsize=(9,4))\n",
    "\n",
    "plt.subplot(131)\n",
    "plt.bar(1, df.rating_global.mean(), width=1.9, label='mean global rating', linewidth=2, edgecolor='k')\n",
    "plt.bar(3, df.rating_user.mean(), width=1.9, label='mean user rating', \n",
    "        color='lightblue', linewidth=2, edgecolor='k', hatch='*')\n",
    "plt.legend(loc='upper center')\n",
    "plt.ylim([0,5])\n",
    "plt.xticks([])\n",
    "plt.title('global vs. user');\n",
    "\n",
    "plt.subplot(132)\n",
    "plt.bar(1, ipas.rating_user.mean(), width=1.9, label='mean user IPA rating', \n",
    "        color='k', linewidth=2, edgecolor='k')\n",
    "plt.bar(3, non_ipas.rating_user.mean(), width=1.9, label='mean user non-IPA rating',\n",
    "       color='w', linewidth=2, edgecolor='k')\n",
    "plt.legend(loc='upper center')\n",
    "plt.ylim([0,5])\n",
    "plt.xticks([])\n",
    "plt.title('user IPA vs. user other');\n",
    "\n",
    "plt.subplot(133)\n",
    "plt.bar(1, ipas.rating_global.mean(), width=1.9, label='mean global IPA rating', \n",
    "        color='k', linewidth=2, edgecolor='k')\n",
    "plt.bar(3, non_ipas.rating_global.mean(), width=1.9, label='mean global non-IPA rating',\n",
    "       color='w', linewidth=2, edgecolor='k')\n",
    "plt.legend(loc='upper center')\n",
    "plt.ylim([0,5])\n",
    "plt.xticks([])\n",
    "plt.title('global IPA vs global other');"
   ]
  },
  {
   "cell_type": "markdown",
   "metadata": {},
   "source": [
    "#### This group of users is slightly more generous than the rest of the world in terms of its mean rating for these beers.\n",
    "#### It is more noticeably generous towards IPA's than other beers in its ratings, as is the rest of the world."
   ]
  },
  {
   "cell_type": "code",
   "execution_count": null,
   "metadata": {
    "collapsed": true
   },
   "outputs": [],
   "source": []
  },
  {
   "cell_type": "code",
   "execution_count": null,
   "metadata": {
    "collapsed": true
   },
   "outputs": [],
   "source": []
  },
  {
   "cell_type": "code",
   "execution_count": null,
   "metadata": {
    "collapsed": true
   },
   "outputs": [],
   "source": []
  },
  {
   "cell_type": "code",
   "execution_count": null,
   "metadata": {
    "collapsed": true
   },
   "outputs": [],
   "source": []
  },
  {
   "cell_type": "code",
   "execution_count": null,
   "metadata": {
    "collapsed": true
   },
   "outputs": [],
   "source": []
  }
 ],
 "metadata": {
  "kernelspec": {
   "display_name": "Python 3",
   "language": "python",
   "name": "python3"
  },
  "language_info": {
   "codemirror_mode": {
    "name": "ipython",
    "version": 3
   },
   "file_extension": ".py",
   "mimetype": "text/x-python",
   "name": "python",
   "nbconvert_exporter": "python",
   "pygments_lexer": "ipython3",
   "version": "3.6.9"
  }
 },
 "nbformat": 4,
 "nbformat_minor": 2
}
