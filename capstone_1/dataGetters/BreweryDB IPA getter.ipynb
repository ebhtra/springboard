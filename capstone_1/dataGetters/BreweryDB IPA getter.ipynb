{
 "cells": [
  {
   "cell_type": "code",
   "execution_count": 1,
   "metadata": {
    "collapsed": true
   },
   "outputs": [],
   "source": [
    "import pandas as pd\n",
    "import requests\n",
    "import json\n",
    "# Assign private constants from a separate file, for API calls to brewerydb and untappd\n",
    "from api_keys import prodKEY, prodURL, untappd_ID, untappd_SECRET, untappd_URL"
   ]
  },
  {
   "cell_type": "markdown",
   "metadata": {},
   "source": [
    "### Start by getting all beer styles listed on breweryDB"
   ]
  },
  {
   "cell_type": "code",
   "execution_count": 2,
   "metadata": {
    "collapsed": true
   },
   "outputs": [],
   "source": [
    "all_styles = requests.get(prodURL + 'styles?key=' + prodKEY).json()\n",
    "# parse that JSON response into a readable list\n",
    "style_list = [(style['id'], style['name']) for style in all_styles['data']]"
   ]
  },
  {
   "cell_type": "code",
   "execution_count": 5,
   "metadata": {
    "collapsed": false
   },
   "outputs": [
    {
     "name": "stdout",
     "output_type": "stream",
     "text": [
      "181\n",
      "[(25, 'American-Style Pale Ale'), (26, 'Fresh \"Wet\" Hop Ale'), (27, 'Pale American-Belgo-Style Ale'), (28, 'Dark American-Belgo-Style Ale'), (29, 'American-Style Strong Pale Ale'), (30, 'American-Style India Pale Ale'), (31, 'Imperial or Double India Pale Ale'), (32, 'American-Style Amber/Red Ale')] [(171, 'Juicy or Hazy Pale Ale'), (172, 'Juicy or Hazy India Pale Ale'), (173, 'Juicy or Hazy Imperial or Double India Pale Ale'), (174, 'Contemporary American-Style Pilsener'), (175, 'Classic Australian-Style Pale Ale'), (176, 'Juicy or Hazy Strong Pale Ale'), (177, 'Contemporary Belgian-Style Gueuze Lambic')]\n"
     ]
    }
   ],
   "source": [
    "print(len(style_list))\n",
    "print(style_list[24:32], style_list[-11:-4])"
   ]
  },
  {
   "cell_type": "code",
   "execution_count": 6,
   "metadata": {
    "collapsed": true
   },
   "outputs": [],
   "source": [
    "# I'm going to choose these 6 styles from the above list to focus on for this project.\n",
    "# ('Fresh \"Wet\" Hop Ale', 'American-Style India Pale Ale', 'Imperial or Double India Pale Ale',\n",
    "#  'Juicy or Hazy Pale Ale', 'Juicy or Hazy India Pale Ale', 'Juicy or Hazy Imperial or Double India Pale Ale' )\n",
    "ipas = [26,30,31,171,172,173]"
   ]
  },
  {
   "cell_type": "markdown",
   "metadata": {},
   "source": [
    "### Using those 6 style ID's, amass the IPA's breweryDB has listed"
   ]
  },
  {
   "cell_type": "code",
   "execution_count": 7,
   "metadata": {
    "collapsed": true
   },
   "outputs": [],
   "source": [
    "# The breweryDB API returns beers 50 per page\n",
    "def getBeerPageByStyle(styleID, page):\n",
    "    method = 'beers/'\n",
    "    query = prodURL + method\n",
    "    params = {'styleId': str(styleID), 'p': str(page), 'key': prodKEY,\n",
    "              'withSocialAccounts': 'Y', 'withIngredients': 'Y', 'withBreweries': 'Y'}\n",
    "    response = requests.get(query, params)\n",
    "    \n",
    "    # parse the response\n",
    "    if response:  # response==True for codes 200-400, False otherwise\n",
    "        remaining_calls = response.headers['X-Ratelimit-Remaining'] # 200 API calls per day is the limit\n",
    "        return remaining_calls, response.json()\n",
    "    else: \n",
    "        print(f\"That GET request with params={params.items()} failed, with code: {response.status_code}\")\n",
    "        print(response.json())\n",
    "        return 0,0\n",
    "    "
   ]
  },
  {
   "cell_type": "code",
   "execution_count": 8,
   "metadata": {
    "collapsed": false
   },
   "outputs": [
    {
     "name": "stdout",
     "output_type": "stream",
     "text": [
      "You have 199 daily calls left.\n"
     ]
    }
   ],
   "source": [
    "# Sample response for style 30 (American IPA)\n",
    "calls_left, resp = getBeerPageByStyle(30, 1)\n",
    "\n",
    "print(f'You have {calls_left} daily calls left.')\n",
    "# uncomment below to see example response\n",
    "#resp  "
   ]
  },
  {
   "cell_type": "code",
   "execution_count": 10,
   "metadata": {
    "collapsed": false
   },
   "outputs": [
    {
     "data": {
      "text/plain": [
       "[('Dust Bowl Brewing Company', '\"Galactic Wrath\" IPA'),\n",
       " ('Working Man Brewing Company', '\"Ignition\" IPA'),\n",
       " (\"Three Notch'd Brewing Company\", '\"Roux 40\" Red IPA'),\n",
       " ('Little Machine Beer', '\"Sniff\" IPA'),\n",
       " ('Four Fathers Brewing, LLC', '#15')]"
      ]
     },
     "execution_count": 10,
     "metadata": {},
     "output_type": "execute_result"
    }
   ],
   "source": [
    "# Show a few beers on that first style 30 page, along with their brewery.\n",
    "#  (Only going to use the first brewer listed, in the case where there are more than one for the beer.  Cleaner.)\n",
    "[(beer['breweries'][0]['name'], beer['name']) for beer in resp['data']][:5]"
   ]
  },
  {
   "cell_type": "code",
   "execution_count": 11,
   "metadata": {
    "collapsed": false
   },
   "outputs": [
    {
     "data": {
      "text/plain": [
       "dict_keys(['currentPage', 'numberOfPages', 'totalResults', 'data', 'status'])"
      ]
     },
     "execution_count": 11,
     "metadata": {},
     "output_type": "execute_result"
    }
   ],
   "source": [
    "resp.keys()"
   ]
  },
  {
   "cell_type": "code",
   "execution_count": 12,
   "metadata": {
    "collapsed": false
   },
   "outputs": [
    {
     "data": {
      "text/plain": [
       "199"
      ]
     },
     "execution_count": 12,
     "metadata": {},
     "output_type": "execute_result"
    }
   ],
   "source": [
    "# Use response['numberOfPages'] to learn how many calls to make to each style\n",
    "pages = resp['numberOfPages']\n",
    "pages"
   ]
  },
  {
   "cell_type": "code",
   "execution_count": 13,
   "metadata": {
    "collapsed": true
   },
   "outputs": [],
   "source": [
    "def growDF(df, styleID, start_page, num_pages=10):  # there's a rate limit like 10/sec on brewerydb\n",
    "    \"\"\"Build a pandas DataFrame for each IPA style.\"\"\"\n",
    "    for i in range(num_pages):\n",
    "        limit, beer_data = getBeerPageByStyle(styleID, start_page+i)\n",
    "        print(f'You have {limit} calls left today.')\n",
    "        if beer_data:  # This will evaluate to False if the GET method failed\n",
    "            df = df.append(pd.DataFrame(beer_data['data']))\n",
    "    return df"
   ]
  },
  {
   "cell_type": "code",
   "execution_count": 14,
   "metadata": {
    "collapsed": false
   },
   "outputs": [
    {
     "name": "stdout",
     "output_type": "stream",
     "text": [
      "<class 'pandas.core.frame.DataFrame'>\n",
      "RangeIndex: 50 entries, 0 to 49\n",
      "Data columns (total 28 columns):\n",
      "abv                          45 non-null object\n",
      "available                    21 non-null object\n",
      "availableId                  21 non-null float64\n",
      "breweries                    50 non-null object\n",
      "createDate                   50 non-null object\n",
      "description                  38 non-null object\n",
      "foodPairings                 1 non-null object\n",
      "glass                        12 non-null object\n",
      "glasswareId                  12 non-null float64\n",
      "ibu                          30 non-null object\n",
      "id                           50 non-null object\n",
      "ingredients                  1 non-null object\n",
      "isOrganic                    50 non-null object\n",
      "isRetired                    50 non-null object\n",
      "labels                       22 non-null object\n",
      "name                         50 non-null object\n",
      "nameDisplay                  50 non-null object\n",
      "originalGravity              8 non-null object\n",
      "servingTemperature           8 non-null object\n",
      "servingTemperatureDisplay    8 non-null object\n",
      "socialAccounts               8 non-null object\n",
      "srm                          8 non-null object\n",
      "srmId                        8 non-null float64\n",
      "status                       50 non-null object\n",
      "statusDisplay                50 non-null object\n",
      "style                        50 non-null object\n",
      "styleId                      50 non-null int64\n",
      "updateDate                   50 non-null object\n",
      "dtypes: float64(3), int64(1), object(24)\n",
      "memory usage: 11.0+ KB\n"
     ]
    }
   ],
   "source": [
    "# Initialize a DF with page 1 of style 30\n",
    "style_30_df = pd.DataFrame(resp['data'])\n",
    "\n",
    "style_30_df.info()"
   ]
  },
  {
   "cell_type": "markdown",
   "metadata": {},
   "source": [
    "Well, that stinks that only 1 of the first 50 IPA's has ingredients listed, but at least 38 of them have descriptions, which maybe can be analyzed for keywords like ingredients."
   ]
  },
  {
   "cell_type": "code",
   "execution_count": 16,
   "metadata": {
    "collapsed": false,
    "scrolled": true
   },
   "outputs": [],
   "source": [
    "# concatenate vertically pages 2-199\n",
    "##  NOTE THAT THIS WILL USE ALL YOUR CALLS UP FOR A DAY, FOR STYLE 30 ##\n",
    "style_30_df = growDF(style_30_df, styleID=30, start_page=2, num_pages=198)"
   ]
  },
  {
   "cell_type": "code",
   "execution_count": 17,
   "metadata": {
    "collapsed": false
   },
   "outputs": [],
   "source": [
    "len(style_30_df)"
   ]
  },
  {
   "cell_type": "code",
   "execution_count": null,
   "metadata": {
    "collapsed": true
   },
   "outputs": [],
   "source": [
    "style_30_df.to_pickle('style_30_df.pkl')"
   ]
  },
  {
   "cell_type": "markdown",
   "metadata": {},
   "source": [
    "### So that's it for the largest style, #30, and that's it for API calls for the day.\n",
    "### Here's the encapsulated routine for the other 5 styles:"
   ]
  },
  {
   "cell_type": "code",
   "execution_count": 48,
   "metadata": {
    "collapsed": false
   },
   "outputs": [
    {
     "data": {
      "text/plain": [
       "[26, 31, 171, 172, 173]"
      ]
     },
     "execution_count": 48,
     "metadata": {},
     "output_type": "execute_result"
    }
   ],
   "source": [
    "ipas.remove(30)\n",
    "\n",
    "ipas"
   ]
  },
  {
   "cell_type": "code",
   "execution_count": 51,
   "metadata": {
    "collapsed": true
   },
   "outputs": [
    {
     "name": "stdout",
     "output_type": "stream",
     "text": [
      "You have 197 daily calls left.\n",
      "You have 196 calls left today.\n",
      "You have 195 calls left today.\n",
      "You have 194 calls left today.\n",
      "You have 193 calls left today.\n",
      "You have 192 calls left today.\n",
      "You have 191 calls left today.\n",
      "You have 190 calls left today.\n",
      "You have 189 calls left today.\n",
      "You have 188 calls left today.\n",
      "You have 187 calls left today.\n",
      "You have 186 calls left today.\n",
      "You have 185 calls left today.\n",
      "You have 184 calls left today.\n",
      "You have 183 calls left today.\n",
      "You have 182 calls left today.\n",
      "You have 181 calls left today.\n",
      "You have 180 calls left today.\n",
      "You have 179 calls left today.\n",
      "You have 178 calls left today.\n",
      "You have 177 calls left today.\n",
      "You have 176 calls left today.\n",
      "You have 175 calls left today.\n",
      "You have 174 calls left today.\n",
      "You have 173 calls left today.\n",
      "You have 172 calls left today.\n",
      "You have 171 calls left today.\n",
      "You have 170 calls left today.\n",
      "You have 169 calls left today.\n",
      "You have 168 calls left today.\n",
      "You have 167 calls left today.\n",
      "You have 166 calls left today.\n",
      "You have 165 calls left today.\n",
      "You have 164 calls left today.\n",
      "You have 163 calls left today.\n",
      "You have 162 calls left today.\n",
      "You have 161 calls left today.\n",
      "You have 160 calls left today.\n",
      "You have 159 calls left today.\n",
      "You have 158 calls left today.\n",
      "You have 157 calls left today.\n",
      "You have 156 calls left today.\n",
      "You have 155 calls left today.\n",
      "You have 154 calls left today.\n",
      "You have 153 calls left today.\n",
      "You have 152 calls left today.\n",
      "You have 151 calls left today.\n",
      "You have 150 calls left today.\n",
      "You have 149 calls left today.\n",
      "You have 148 calls left today.\n",
      "You have 147 calls left today.\n",
      "You have 146 calls left today.\n",
      "You have 145 calls left today.\n",
      "You have 144 calls left today.\n",
      "You have 143 calls left today.\n",
      "You have 142 calls left today.\n",
      "You have 141 calls left today.\n",
      "You have 140 calls left today.\n",
      "You have 139 calls left today.\n",
      "You have 138 calls left today.\n",
      "You have 137 calls left today.\n",
      "You have 136 calls left today.\n",
      "You have 135 calls left today.\n",
      "You have 134 calls left today.\n",
      "You have 133 calls left today.\n",
      "You have 132 calls left today.\n",
      "You have 131 calls left today.\n",
      "You have 130 calls left today.\n",
      "You have 129 calls left today.\n",
      "You have 128 calls left today.\n",
      "You have 127 calls left today.\n",
      "You have 126 calls left today.\n",
      "You have 125 calls left today.\n",
      "You have 124 calls left today.\n",
      "You have 123 calls left today.\n",
      "You have 122 calls left today.\n",
      "You have 121 calls left today.\n",
      "You have 120 calls left today.\n",
      "You have 119 calls left today.\n",
      "You have 118 calls left today.\n",
      "You have 117 calls left today.\n",
      "You have 116 calls left today.\n",
      "You have 115 calls left today.\n",
      "Pickling 4149 style 31 IPAs to \"style_31_df.pkl\"\n",
      "You have 114 daily calls left.\n",
      "You have 113 calls left today.\n",
      "Pickling 69 style 171 IPAs to \"style_171_df.pkl\"\n",
      "You have 112 daily calls left.\n",
      "You have 111 calls left today.\n",
      "You have 110 calls left today.\n",
      "You have 109 calls left today.\n",
      "You have 108 calls left today.\n",
      "You have 107 calls left today.\n",
      "You have 106 calls left today.\n",
      "You have 105 calls left today.\n",
      "You have 104 calls left today.\n",
      "You have 103 calls left today.\n",
      "You have 102 calls left today.\n",
      "You have 101 calls left today.\n",
      "You have 100 calls left today.\n",
      "You have 99 calls left today.\n",
      "Pickling 679 style 172 IPAs to \"style_172_df.pkl\"\n",
      "You have 98 daily calls left.\n",
      "You have 97 calls left today.\n",
      "You have 96 calls left today.\n",
      "You have 95 calls left today.\n",
      "Pickling 168 style 173 IPAs to \"style_173_df.pkl\"\n"
     ]
    }
   ],
   "source": [
    "for ipa in ipas:\n",
    "    # initialize a pd DF from the first page of the style\n",
    "    calls_left, resp = getBeerPageByStyle(ipa, page=1)\n",
    "    print(f'You have {calls_left} daily calls left.')\n",
    "    df = pd.DataFrame(resp['data'])\n",
    "    # see how many total pages to query\n",
    "    pages = resp['numberOfPages']\n",
    "    df = growDF(df, styleID=ipa, start_page=2, num_pages=pages-1)\n",
    "    # pickle the resulting df\n",
    "    print(f'Pickling {len(df)} style {ipa} IPAs to \"style_{ipa}_df.pkl\"')\n",
    "    df.to_pickle('style_' + str(ipa) + '_df.pkl')\n",
    "    "
   ]
  },
  {
   "cell_type": "code",
   "execution_count": null,
   "metadata": {
    "collapsed": true
   },
   "outputs": [],
   "source": []
  }
 ],
 "metadata": {
  "kernelspec": {
   "display_name": "Python 3",
   "language": "python",
   "name": "python3"
  },
  "language_info": {
   "codemirror_mode": {
    "name": "ipython",
    "version": 3
   },
   "file_extension": ".py",
   "mimetype": "text/x-python",
   "name": "python",
   "nbconvert_exporter": "python",
   "pygments_lexer": "ipython3",
   "version": "3.6.9"
  }
 },
 "nbformat": 4,
 "nbformat_minor": 2
}
