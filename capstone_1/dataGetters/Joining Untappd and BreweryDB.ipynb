{
 "cells": [
  {
   "cell_type": "code",
   "execution_count": 1,
   "metadata": {
    "collapsed": true
   },
   "outputs": [],
   "source": [
    "import pandas as pd\n",
    "import pickle\n",
    "import requests\n",
    "import json\n",
    "\n",
    "from api_keys import prodURL, prodKEY, untappd_ID, untappd_SECRET, untappd_URL  # Local constants imports"
   ]
  },
  {
   "cell_type": "markdown",
   "metadata": {},
   "source": [
    "#### First a few utilities that may be needed"
   ]
  },
  {
   "cell_type": "code",
   "execution_count": 2,
   "metadata": {
    "collapsed": true
   },
   "outputs": [],
   "source": [
    "# Method for searching breweryDB for an untappd beername\n",
    "def get_bdb_beer_by_untappd_name(beername):\n",
    "    method = 'beers/'\n",
    "    params = {'key': prodKEY, 'withSocialAccounts': 'Y', 'withIngredients': 'Y', 'withBreweries': 'Y',\n",
    "              'name': beername}\n",
    "    response = requests.get(prodURL + method, params=params)\n",
    "    return response\n",
    "\n",
    "#  Same method but with the additional specification of an abv in order to disambiguate results\n",
    "def get_bdb_beer_by_untappd_name_and_abv(name, abv):\n",
    "    method = 'beers/'\n",
    "    params = {'key': prodKEY, 'withSocialAccounts': 'Y', 'withIngredients': 'Y', 'withBreweries': 'Y',\n",
    "             'abv': str(abv), 'name': name}\n",
    "    response = requests.get(prodURL + method, params=params)\n",
    "    return response\n",
    "\n",
    "#  If attempting to get ingredients of a beer, after having learned its ID on bDB\n",
    "def get_ingredients(bdb_ID):\n",
    "    method = 'beer/' + str(bdb_ID) + '/ingredients'\n",
    "    params = {'key': prodKEY}\n",
    "    response = requests.get(prodURL + method, params=params)\n",
    "    return response"
   ]
  },
  {
   "cell_type": "markdown",
   "metadata": {},
   "source": [
    "### Resetting the stage here:  We've gotten all the IPA's from BreweryDB's API by querying its Beer-By-Style endpoint for styles 26, 30, 31, 171, 172, and 173.  We want User Checkins from Untappd for those IPA's, but have no way to look them up on Untappd yet, other than by their name, which will take too long for current purposes."
   ]
  },
  {
   "cell_type": "markdown",
   "metadata": {},
   "source": [
    "Instead, we'll query Untappd by searching for the names of the brewers of those IPA's, and dragging onboard whatever we catch.  Start by getting the breweries' names."
   ]
  },
  {
   "cell_type": "code",
   "execution_count": 7,
   "metadata": {
    "collapsed": false
   },
   "outputs": [
    {
     "data": {
      "text/plain": [
       "Index(['index', 'abv', 'available', 'availableId', 'beerVariation',\n",
       "       'beerVariationId', 'breweries', 'createDate', 'description',\n",
       "       'foodPairings', 'glass', 'glasswareId', 'ibu', 'id', 'ingredients',\n",
       "       'isOrganic', 'isRetired', 'labels', 'name', 'nameDisplay',\n",
       "       'originalGravity', 'servingTemperature', 'servingTemperatureDisplay',\n",
       "       'socialAccounts', 'srm', 'srmId', 'status', 'statusDisplay', 'style',\n",
       "       'styleId', 'updateDate', 'year'],\n",
       "      dtype='object')"
      ]
     },
     "execution_count": 7,
     "metadata": {},
     "output_type": "execute_result"
    }
   ],
   "source": [
    "# Open a pickled pandas DataFrame\n",
    "style_30_df = pd.read_pickle('capstone_1/brewkettle/style_30_df.pkl')\n",
    "\n",
    "# quick check on the columns we have\n",
    "style_30_df.columns"
   ]
  },
  {
   "cell_type": "code",
   "execution_count": 8,
   "metadata": {
    "collapsed": false
   },
   "outputs": [
    {
     "data": {
      "text/plain": [
       "0    [{'id': 'Xnf2WT', 'name': 'Dust Bowl Brewing C...\n",
       "1    [{'id': 'H8jawh', 'name': 'Working Man Brewing...\n",
       "2    [{'id': 'X38nDm', 'name': 'Three Notch'd Brewi...\n",
       "3    [{'id': 'FfMi8U', 'name': 'Little Machine Beer...\n",
       "Name: breweries, dtype: object"
      ]
     },
     "execution_count": 8,
     "metadata": {},
     "output_type": "execute_result"
    }
   ],
   "source": [
    "# We want the breweries.  What's the format there?\n",
    "style_30_df.loc[:3, 'breweries']"
   ]
  },
  {
   "cell_type": "code",
   "execution_count": 10,
   "metadata": {
    "collapsed": false
   },
   "outputs": [
    {
     "data": {
      "text/plain": [
       "3632"
      ]
     },
     "execution_count": 10,
     "metadata": {},
     "output_type": "execute_result"
    }
   ],
   "source": [
    "# So we want the values of the 'name' key, and we're only using the first name when there are multiple brewers\n",
    "style_30_brewers = set([brewer[0]['name'] for brewer in style_30_df['breweries']])\n",
    "len(style_30_brewers)"
   ]
  },
  {
   "cell_type": "code",
   "execution_count": 11,
   "metadata": {
    "collapsed": false
   },
   "outputs": [
    {
     "data": {
      "text/plain": [
       "Index(['currentPage', 'data', 'numberOfPages', 'status', 'totalResults'], dtype='object')"
      ]
     },
     "execution_count": 11,
     "metadata": {},
     "output_type": "execute_result"
    }
   ],
   "source": [
    "style_31_df = pd.read_pickle('capstone_1/brewkettle/style_31_df.pkl')\n",
    "style_31_df.columns"
   ]
  },
  {
   "cell_type": "markdown",
   "metadata": {},
   "source": [
    "#### Styles 31, 26, 171, 172, and 173 were pickled in a different structure than Style 30. The 'data' column holds all the dictionaries that had their own rows in style_30_df, so we need to unpack an extra dimension."
   ]
  },
  {
   "cell_type": "code",
   "execution_count": 16,
   "metadata": {
    "collapsed": false
   },
   "outputs": [
    {
     "data": {
      "text/plain": [
       "1864"
      ]
     },
     "execution_count": 16,
     "metadata": {},
     "output_type": "execute_result"
    }
   ],
   "source": [
    "style_31_brewers = set([beer['breweries'][0]['name'] for row in range(style_31_df.shape[0])\n",
    "                      for beer in style_31_df['data'][row]])\n",
    "len(style_31_brewers)"
   ]
  },
  {
   "cell_type": "code",
   "execution_count": 17,
   "metadata": {
    "collapsed": false
   },
   "outputs": [
    {
     "name": "stdout",
     "output_type": "stream",
     "text": [
      "style_26_df has 104 unique brewers.\n",
      "style_171_df has 57 unique brewers.\n",
      "style_172_df has 443 unique brewers.\n",
      "style_173_df has 120 unique brewers.\n"
     ]
    }
   ],
   "source": [
    "# see how many brewers are in the other 4 styles\n",
    "for sty in [26, 171, 172, 173]:\n",
    "    df = pd.read_pickle('capstone_1/brewkettle/style_' + str(sty) + '_df.pkl')\n",
    "    brewers = set([beer['breweries'][0]['name'] for row in range(df.shape[0])\n",
    "                      for beer in df['data'][row]])\n",
    "    print(f'style_{sty}_df has {len(brewers)} unique brewers.')"
   ]
  },
  {
   "cell_type": "markdown",
   "metadata": {},
   "source": [
    "So as expected, the \"American IPA\" category has the bulk of the brewers:  3632\n",
    "\n",
    "And there will be overlap in these numbers:"
   ]
  },
  {
   "cell_type": "code",
   "execution_count": 18,
   "metadata": {
    "collapsed": false
   },
   "outputs": [
    {
     "data": {
      "text/plain": [
       "312"
      ]
     },
     "execution_count": 18,
     "metadata": {},
     "output_type": "execute_result"
    }
   ],
   "source": [
    "# How many of the 1864 brewers in the second largest group, style 31, are not in the largest group, style 30 ?\n",
    "len(style_31_brewers.difference(style_30_brewers))"
   ]
  },
  {
   "cell_type": "code",
   "execution_count": 19,
   "metadata": {
    "collapsed": true
   },
   "outputs": [],
   "source": [
    "# Use a brewery generator to search Untappd\n",
    "search_gen = (b for b in style_30_brewers)\n",
    "# Track searched terms, for progress indication and to avoid duplicated efforts\n",
    "searched = set()"
   ]
  },
  {
   "cell_type": "code",
   "execution_count": 20,
   "metadata": {
    "collapsed": true
   },
   "outputs": [],
   "source": [
    "def searchBeers(beersearch_params):\n",
    "    method_endpoint = '/search/beer/'\n",
    "    query = untappd_URL + method_endpoint\n",
    "    response = requests.get(query, beersearch_params)\n",
    "    if response:  # response==True for codes 200-400\n",
    "        remaining_calls = response.headers['X-Ratelimit-Remaining']\n",
    "        return remaining_calls, response\n",
    "    return 'That GET request for \"' + beersearch_params + '\" failed, with code: ' + str(response.status_code)"
   ]
  },
  {
   "cell_type": "code",
   "execution_count": null,
   "metadata": {
    "collapsed": true
   },
   "outputs": [],
   "source": [
    "# Compile a list of the search results and periodically save them.\n",
    "# This is done here as a manual process, due to the variable lengths of the results and\n",
    "##   the hourly limits.\n",
    "\n",
    "results = []\n",
    "\n",
    "while True:   # until hourly limit is reached or every search result for every query has been returned\n",
    "    try:\n",
    "        # generate the next search brewery\n",
    "        search_string = next(search_gen)\n",
    "        # keep track of what's been searched\n",
    "        searched.add(search_string)\n",
    "        # use the offset parameter to control pagination of API calls/results\n",
    "        params = {'q':search_string, 'limit':50, 'offset':-50, 'client_id':untappd_ID, 'client_secret':untappd_SECRET}\n",
    "        search_done = False  # sentinel\n",
    "        remaining_calls = 100  # this could be initialized to anything > 1 (It'll get reset by the response header)\n",
    "        while not search_done and remaining_calls > 1:\n",
    "            params['offset'] += 50  # or could set this to 'limit' param\n",
    "            limit, resp = searchBeers(params)\n",
    "            remaining_calls = int(limit)\n",
    "            resp = resp.json()\n",
    "            if resp['response']['beers']['count'] < 50:  # The final page of results for each brewery\n",
    "                search_done = True\n",
    "            results.append(resp)\n",
    "        print(f'search done:{search_done}, remaining calls = {remaining_calls}')\n",
    "        if remaining_calls < 2:\n",
    "            offset = params['offset']\n",
    "            print(f'Hit the hourly limit. Last search was \"{search_string}\". Offset was {offset}')\n",
    "            break\n",
    "    except StopIteration:\n",
    "        print('all done.')\n",
    "        break"
   ]
  },
  {
   "cell_type": "markdown",
   "metadata": {},
   "source": [
    "Periodically saving the results:"
   ]
  },
  {
   "cell_type": "code",
   "execution_count": null,
   "metadata": {
    "collapsed": true
   },
   "outputs": [],
   "source": [
    "batch_counter = 23  # (22 was my last one so I incremented to 23 here to avoid accidental overwrite)\n",
    "################################\n",
    "#####  CHANGE THE BATCH NUMBER EVERY TIME OR OVERWRITE HARD WORK!!!!\n",
    "#########################\n",
    "searchDF = pd.DataFrame(results)\n",
    "searchDF.to_pickle(f'beer_search_batch_{batch_counter}.pkl')"
   ]
  },
  {
   "cell_type": "markdown",
   "metadata": {},
   "source": [
    "### Timeout to inspect results"
   ]
  },
  {
   "cell_type": "code",
   "execution_count": 28,
   "metadata": {
    "collapsed": false
   },
   "outputs": [
    {
     "data": {
      "text/plain": [
       "(1, 85)"
      ]
     },
     "execution_count": 28,
     "metadata": {},
     "output_type": "execute_result"
    }
   ],
   "source": [
    "batch_0 = pd.read_pickle('capstone_1/beerSearches/beer_search_batch_0.pkl')\n",
    "\n",
    "batch_0.shape"
   ]
  },
  {
   "cell_type": "code",
   "execution_count": 30,
   "metadata": {
    "collapsed": false
   },
   "outputs": [
    {
     "data": {
      "text/plain": [
       "dict_keys(['meta', 'notifications', 'response'])"
      ]
     },
     "execution_count": 30,
     "metadata": {},
     "output_type": "execute_result"
    }
   ],
   "source": [
    "batch_0.iloc[0,0].keys()"
   ]
  },
  {
   "cell_type": "markdown",
   "metadata": {},
   "source": [
    "Drill down through the keys to see the nesting structure"
   ]
  },
  {
   "cell_type": "code",
   "execution_count": 31,
   "metadata": {
    "collapsed": false
   },
   "outputs": [
    {
     "data": {
      "text/plain": [
       "dict_keys(['message', 'time_taken', 'brewery_id', 'search_type', 'type_id', 'search_version', 'found', 'offset', 'limit', 'term', 'parsed_term', 'beers', 'homebrew', 'breweries'])"
      ]
     },
     "execution_count": 31,
     "metadata": {},
     "output_type": "execute_result"
    }
   ],
   "source": [
    "batch_0.iloc[0,0]['response'].keys()"
   ]
  },
  {
   "cell_type": "code",
   "execution_count": 32,
   "metadata": {
    "collapsed": false
   },
   "outputs": [
    {
     "data": {
      "text/plain": [
       "dict_keys(['count', 'items'])"
      ]
     },
     "execution_count": 32,
     "metadata": {},
     "output_type": "execute_result"
    }
   ],
   "source": [
    "batch_0.iloc[0,0]['response']['beers'].keys()"
   ]
  },
  {
   "cell_type": "code",
   "execution_count": 33,
   "metadata": {
    "collapsed": false
   },
   "outputs": [
    {
     "data": {
      "text/plain": [
       "dict_keys(['checkin_count', 'have_had', 'your_count', 'beer', 'brewery'])"
      ]
     },
     "execution_count": 33,
     "metadata": {},
     "output_type": "execute_result"
    }
   ],
   "source": [
    "batch_0.iloc[0,0]['response']['beers']['items'][0].keys()"
   ]
  },
  {
   "cell_type": "code",
   "execution_count": 45,
   "metadata": {
    "collapsed": false
   },
   "outputs": [
    {
     "data": {
      "text/plain": [
       "{'auth_rating': 0,\n",
       " 'beer_abv': 5.6,\n",
       " 'beer_description': 'Our most popular beer, Sierra Nevada Pale Ale is a delightful interpretation of a classic style. It has a deep amber color and an exceptionally full-bodied, complex character. Generous quantities of premium Cascade hops give the Pale Ale its fragrant bouquet and spicy flavor. ',\n",
       " 'beer_ibu': 38,\n",
       " 'beer_label': 'https://untappd.akamaized.net/site/beer_logos/beer-6284_5418f_sm.jpeg',\n",
       " 'beer_name': 'Pale Ale',\n",
       " 'beer_slug': 'sierra-nevada-brewing-co-pale-ale',\n",
       " 'beer_style': 'Pale Ale - American',\n",
       " 'bid': 6284,\n",
       " 'created_at': 'Thu, 07 Oct 2010 10:23:34 +0000',\n",
       " 'in_production': 1,\n",
       " 'wish_list': False}"
      ]
     },
     "execution_count": 45,
     "metadata": {},
     "output_type": "execute_result"
    }
   ],
   "source": [
    "batch_0.iloc[0,0]['response']['beers']['items'][0]['beer']"
   ]
  },
  {
   "cell_type": "code",
   "execution_count": 35,
   "metadata": {
    "collapsed": false
   },
   "outputs": [
    {
     "data": {
      "text/plain": [
       "'Sierra Nevada Brewing Co. Pale Ale'"
      ]
     },
     "execution_count": 35,
     "metadata": {},
     "output_type": "execute_result"
    }
   ],
   "source": [
    "# BreweryDB results were searchable/matchable by <brewery_name beer_name> format, so let's get that for these.\n",
    "test_beer = batch_0.iloc[0,0]['response']['beers']['items'][0]\n",
    "(test_beer['brewery']['brewery_name'] + ' ' + test_beer['beer']['beer_name'])"
   ]
  },
  {
   "cell_type": "code",
   "execution_count": 36,
   "metadata": {
    "collapsed": true
   },
   "outputs": [],
   "source": [
    "found_names = set()  # collect results here\n",
    "messy = []   # collect parsing issues here\n",
    "\n",
    "for col in range(batch_0.shape[1]):\n",
    "    try:\n",
    "        for beer in batch_0.iloc[0,col]['response']['beers']['items']:\n",
    "            name = beer['brewery']['brewery_name'] + ' ' + beer['beer']['beer_name']\n",
    "            found_names.add(name)\n",
    "    except:\n",
    "        print(f'Column {col} does not parse right')\n",
    "        messy.append(batch_0.iloc[0,col])\n",
    "        break\n",
    "                           "
   ]
  },
  {
   "cell_type": "code",
   "execution_count": 37,
   "metadata": {
    "collapsed": false
   },
   "outputs": [
    {
     "data": {
      "text/plain": [
       "0"
      ]
     },
     "execution_count": 37,
     "metadata": {},
     "output_type": "execute_result"
    }
   ],
   "source": [
    "len(messy)"
   ]
  },
  {
   "cell_type": "code",
   "execution_count": 41,
   "metadata": {
    "collapsed": false
   },
   "outputs": [
    {
     "name": "stdout",
     "output_type": "stream",
     "text": [
      "4122\n"
     ]
    }
   ],
   "source": [
    "print(len(found_names))\n",
    "#found_names     # commenting out in case scrolling isn't set"
   ]
  },
  {
   "cell_type": "markdown",
   "metadata": {},
   "source": [
    "Looks like that worked well, so let's add on the other 22 batches"
   ]
  },
  {
   "cell_type": "code",
   "execution_count": 42,
   "metadata": {
    "collapsed": true
   },
   "outputs": [],
   "source": [
    "# Note that these frames got structured vertically rather than horiz, so we iterate over rows not cols\n",
    "for i in range(1,23):  \n",
    "    frame = pd.read_pickle('capstone_1/beerSearches/beer_search_batch_' + str(i) + '.pkl')\n",
    "    for row in range(frame.shape[0]):\n",
    "        try:\n",
    "            for beer in frame.loc[row,'response']['beers']['items']:\n",
    "                name = beer['brewery']['brewery_name'] + ' ' + beer['beer']['beer_name']\n",
    "                found_names.add(name)\n",
    "        except:\n",
    "            print(f'Batch {i} Row {row} does not parse right')\n",
    "            messy.append(frame.loc[row,'response'])\n",
    "            break"
   ]
  },
  {
   "cell_type": "code",
   "execution_count": 43,
   "metadata": {
    "collapsed": false
   },
   "outputs": [
    {
     "data": {
      "text/plain": [
       "0"
      ]
     },
     "execution_count": 43,
     "metadata": {},
     "output_type": "execute_result"
    }
   ],
   "source": [
    "len(messy)"
   ]
  },
  {
   "cell_type": "code",
   "execution_count": 44,
   "metadata": {
    "collapsed": false
   },
   "outputs": [
    {
     "data": {
      "text/plain": [
       "99774"
      ]
     },
     "execution_count": 44,
     "metadata": {},
     "output_type": "execute_result"
    }
   ],
   "source": [
    "len(found_names)"
   ]
  },
  {
   "cell_type": "markdown",
   "metadata": {},
   "source": [
    "### How many of those names (most aren't even IPA's) match the BreweryDB IPA names?"
   ]
  },
  {
   "cell_type": "code",
   "execution_count": 57,
   "metadata": {
    "collapsed": false
   },
   "outputs": [
    {
     "data": {
      "text/plain": [
       "Index(['index', 'abv', 'available', 'availableId', 'beerVariation',\n",
       "       'beerVariationId', 'breweries', 'createDate', 'description',\n",
       "       'foodPairings', 'glass', 'glasswareId', 'ibu', 'id', 'ingredients',\n",
       "       'isOrganic', 'isRetired', 'labels', 'name', 'nameDisplay',\n",
       "       'originalGravity', 'servingTemperature', 'servingTemperatureDisplay',\n",
       "       'socialAccounts', 'srm', 'srmId', 'status', 'statusDisplay', 'style',\n",
       "       'styleId', 'updateDate', 'year'],\n",
       "      dtype='object')"
      ]
     },
     "execution_count": 57,
     "metadata": {},
     "output_type": "execute_result"
    }
   ],
   "source": [
    "style_30_df.columns"
   ]
  },
  {
   "cell_type": "code",
   "execution_count": 61,
   "metadata": {
    "collapsed": false
   },
   "outputs": [],
   "source": [
    "# style_30_df was the one with the more unpacked structure, so just combine breweries and name columns\n",
    "style_30_df['fullname'] = style_30_df.apply(lambda beer: beer['breweries'][0]['name'] + ' ' +\n",
    "                                           beer['name'], axis=1)"
   ]
  },
  {
   "cell_type": "code",
   "execution_count": 62,
   "metadata": {
    "collapsed": false
   },
   "outputs": [
    {
     "data": {
      "text/plain": [
       "0      Dust Bowl Brewing Company \"Galactic Wrath\" IPA\n",
       "1          Working Man Brewing Company \"Ignition\" IPA\n",
       "2     Three Notch'd Brewing Company \"Roux 40\" Red IPA\n",
       "3                     Little Machine Beer \"Sniff\" IPA\n",
       "4                       Four Fathers Brewing, LLC #15\n",
       "5                Victory Brewing Company #429 Red IPA\n",
       "6                  Evil Genius Beer Company #Adulting\n",
       "7                  Ohana Brewing Co #Hashtag Hops IPA\n",
       "8                 Thomas Hooker Brewing #NOFILTER IPA\n",
       "9                             Mikkeller #Overtime IPA\n",
       "10     Three Floyds Brewing Company $600 Lizard Shoes\n",
       "Name: fullname, dtype: object"
      ]
     },
     "execution_count": 62,
     "metadata": {},
     "output_type": "execute_result"
    }
   ],
   "source": [
    "style_30_df.loc[:10, 'fullname']"
   ]
  },
  {
   "cell_type": "code",
   "execution_count": 64,
   "metadata": {
    "collapsed": false
   },
   "outputs": [
    {
     "name": "stdout",
     "output_type": "stream",
     "text": [
      "9650\n",
      "9619\n"
     ]
    }
   ],
   "source": [
    "# how many dupes wee there?\n",
    "print(style_30_df.shape[0])\n",
    "print(len(set(style_30_df['fullname'])))"
   ]
  },
  {
   "cell_type": "markdown",
   "metadata": {},
   "source": [
    "Now for the other 5 df's"
   ]
  },
  {
   "cell_type": "code",
   "execution_count": 65,
   "metadata": {
    "collapsed": false
   },
   "outputs": [
    {
     "data": {
      "text/plain": [
       "(83, 5)"
      ]
     },
     "execution_count": 65,
     "metadata": {},
     "output_type": "execute_result"
    }
   ],
   "source": [
    "style_31_df.shape"
   ]
  },
  {
   "cell_type": "code",
   "execution_count": 66,
   "metadata": {
    "collapsed": false
   },
   "outputs": [
    {
     "data": {
      "text/plain": [
       "Index(['currentPage', 'data', 'numberOfPages', 'status', 'totalResults'], dtype='object')"
      ]
     },
     "execution_count": 66,
     "metadata": {},
     "output_type": "execute_result"
    }
   ],
   "source": [
    "style_31_df.columns"
   ]
  },
  {
   "cell_type": "code",
   "execution_count": 73,
   "metadata": {
    "collapsed": false
   },
   "outputs": [
    {
     "data": {
      "text/plain": [
       "dict_keys(['id', 'name', 'nameDisplay', 'description', 'abv', 'ibu', 'glasswareId', 'availableId', 'styleId', 'isOrganic', 'isRetired', 'status', 'statusDisplay', 'createDate', 'updateDate', 'glass', 'available', 'style', 'socialAccounts', 'breweries'])"
      ]
     },
     "execution_count": 73,
     "metadata": {},
     "output_type": "execute_result"
    }
   ],
   "source": [
    "style_31_df.data[0][0].keys()"
   ]
  },
  {
   "cell_type": "code",
   "execution_count": 74,
   "metadata": {
    "collapsed": true
   },
   "outputs": [],
   "source": [
    "s31_names = set([beer['breweries'][0]['name'] + ' ' + beer['name'] for row in range(style_31_df.shape[0])\n",
    "                      for beer in style_31_df['data'][row]])"
   ]
  },
  {
   "cell_type": "code",
   "execution_count": 75,
   "metadata": {
    "collapsed": false
   },
   "outputs": [
    {
     "data": {
      "text/plain": [
       "4102"
      ]
     },
     "execution_count": 75,
     "metadata": {},
     "output_type": "execute_result"
    }
   ],
   "source": [
    "len(s31_names)"
   ]
  },
  {
   "cell_type": "code",
   "execution_count": 76,
   "metadata": {
    "collapsed": false
   },
   "outputs": [
    {
     "name": "stdout",
     "output_type": "stream",
     "text": [
      "style_26_df has 127 unique beernames.\n",
      "style_171_df has 64 unique beernames.\n",
      "style_172_df has 659 unique beernames.\n",
      "style_173_df has 163 unique beernames.\n"
     ]
    },
    {
     "data": {
      "text/plain": [
       "14733"
      ]
     },
     "execution_count": 76,
     "metadata": {},
     "output_type": "execute_result"
    }
   ],
   "source": [
    "# initialize a master set from df's 30 and 31, then add the remaining 4 styles to it\n",
    "bdb_IPA_nameset = set(style_30_df['fullname']).union(s31_names)\n",
    "for sty in [26, 171, 172, 173]:\n",
    "    df = pd.read_pickle('capstone_1/brewkettle/style_' + str(sty) + '_df.pkl')\n",
    "    fullnames = set([beer['breweries'][0]['name'] + ' ' + beer['name']\n",
    "                     for row in range(df.shape[0])\n",
    "                      for beer in df['data'][row]])\n",
    "    print(f'style_{sty}_df has {len(fullnames)} unique beernames.')\n",
    "    bdb_IPA_nameset = bdb_IPA_nameset.union(fullnames)\n",
    "    \n",
    "len(bdb_IPA_nameset)"
   ]
  },
  {
   "cell_type": "markdown",
   "metadata": {},
   "source": [
    "#### so......how many matches?"
   ]
  },
  {
   "cell_type": "code",
   "execution_count": 77,
   "metadata": {
    "collapsed": false
   },
   "outputs": [
    {
     "data": {
      "text/plain": [
       "1175"
      ]
     },
     "execution_count": 77,
     "metadata": {},
     "output_type": "execute_result"
    }
   ],
   "source": [
    "len(bdb_IPA_nameset.intersection(found_names))"
   ]
  },
  {
   "cell_type": "markdown",
   "metadata": {},
   "source": [
    "#### ...and how many of the ~100K untappd results are IPA's?"
   ]
  },
  {
   "cell_type": "code",
   "execution_count": 88,
   "metadata": {
    "collapsed": true
   },
   "outputs": [],
   "source": [
    "from collections import Counter\n",
    "styleCounter = Counter()"
   ]
  },
  {
   "cell_type": "code",
   "execution_count": 90,
   "metadata": {
    "collapsed": true
   },
   "outputs": [],
   "source": [
    "# batch_0 had the horizontal aspect, so start with it and then add batches 1-22\n",
    "\n",
    "batch_0_styles = [beer['beer']['beer_style'] for col in range(batch_0.shape[1])\n",
    "                  for beer in batch_0.iloc[0,col]['response']['beers']['items']]\n",
    "styleCounter.update(batch_0_styles)\n",
    "\n",
    "for i in range(1,23):  \n",
    "    frame = pd.read_pickle('capstone_1/beerSearches/beer_search_batch_' + str(i) + '.pkl')\n",
    "    steez = [beer['beer']['beer_style'] for row in range(frame.shape[0])\n",
    "            for beer in frame.loc[row,'response']['beers']['items']]\n",
    "    styleCounter.update(steez)"
   ]
  },
  {
   "cell_type": "code",
   "execution_count": 91,
   "metadata": {
    "collapsed": false
   },
   "outputs": [
    {
     "data": {
      "text/plain": [
       "Counter({'Adambier': 7,\n",
       "         'Altbier': 330,\n",
       "         'American Wild Ale': 884,\n",
       "         'Australian Sparkling Ale': 21,\n",
       "         'Barleywine - American': 741,\n",
       "         'Barleywine - English': 340,\n",
       "         'Barleywine - Other': 112,\n",
       "         'Belgian Blonde': 715,\n",
       "         'Belgian Dubbel': 586,\n",
       "         'Belgian Quadrupel': 431,\n",
       "         'Belgian Strong Dark Ale': 512,\n",
       "         'Belgian Strong Golden Ale': 423,\n",
       "         'Belgian Tripel': 835,\n",
       "         'Bière de Champagne / Bière Brut': 34,\n",
       "         'Bière de Garde': 227,\n",
       "         'Bière de Mars': 21,\n",
       "         'Black & Tan': 32,\n",
       "         'Blonde Ale': 1969,\n",
       "         'Bock - Doppelbock': 373,\n",
       "         'Bock - Eisbock (Traditional)': 37,\n",
       "         'Bock - Hell / Maibock / Lentebock': 220,\n",
       "         'Bock - Single / Traditional': 250,\n",
       "         'Bock - Weizenbock': 163,\n",
       "         'Brett Beer': 14,\n",
       "         'Brown Ale - American': 1600,\n",
       "         'Brown Ale - Belgian': 141,\n",
       "         'Brown Ale - English': 480,\n",
       "         'Brown Ale - Imperial / Double': 270,\n",
       "         'Brown Ale - Other': 340,\n",
       "         'Burton Ale': 13,\n",
       "         'California Common': 221,\n",
       "         'Chilli / Chile Beer': 14,\n",
       "         'Cider - Dry': 53,\n",
       "         'Cider - Herbed / Spiced / Hopped': 17,\n",
       "         'Cider - Ice / Applewine': 7,\n",
       "         'Cider - Other Fruit': 61,\n",
       "         'Cider - Perry': 9,\n",
       "         'Cider - Rosé': 2,\n",
       "         'Cider - Sweet': 17,\n",
       "         'Cider - Traditional': 351,\n",
       "         'Cream Ale': 792,\n",
       "         'Dampfbier': 10,\n",
       "         'Dark Ale': 272,\n",
       "         'Dunkelweizen': 324,\n",
       "         'English Bitter': 420,\n",
       "         'English Mild Ale': 360,\n",
       "         'Extra Special / Strong Bitter': 556,\n",
       "         'Farmhouse Ale - Other': 32,\n",
       "         'Farmhouse Ale - Sahti': 34,\n",
       "         'Farmhouse Ale - Saison': 4776,\n",
       "         'Festbier': 112,\n",
       "         'Freeze-distilled Beer': 7,\n",
       "         'Fruit Beer': 1496,\n",
       "         'Ginger Beer': 67,\n",
       "         'Gluten-Free': 72,\n",
       "         'Golden Ale': 747,\n",
       "         'Graff': 10,\n",
       "         'Grisette': 176,\n",
       "         'Gruit / Ancient Herbed Ale': 90,\n",
       "         'Grätzer / Grodziskie': 44,\n",
       "         'Hard Seltzer': 95,\n",
       "         'Hefeweizen': 1133,\n",
       "         'Hefeweizen Light / Leicht': 19,\n",
       "         'Honey Beer': 53,\n",
       "         'IPA - American': 12815,\n",
       "         'IPA - Belgian': 462,\n",
       "         'IPA - Black / Cascadian Dark Ale': 915,\n",
       "         'IPA - Brut': 486,\n",
       "         'IPA - English': 360,\n",
       "         'IPA - Farmhouse': 46,\n",
       "         'IPA - Imperial / Double': 5168,\n",
       "         'IPA - Imperial / Double Black': 104,\n",
       "         'IPA - Imperial / Double Milkshake': 26,\n",
       "         'IPA - Imperial / Double New England': 623,\n",
       "         'IPA - International': 213,\n",
       "         'IPA - Milkshake': 424,\n",
       "         'IPA - New England': 2972,\n",
       "         'IPA - Red': 297,\n",
       "         'IPA - Rye': 286,\n",
       "         'IPA - Session / India Session Ale': 1334,\n",
       "         'IPA - Sour': 124,\n",
       "         'IPA - Triple': 447,\n",
       "         'IPA - Triple New England': 20,\n",
       "         'IPA - White': 294,\n",
       "         'Italian Grape Ale': 12,\n",
       "         'Kellerbier / Zwickelbier': 135,\n",
       "         'Kentucky Common': 25,\n",
       "         'Kombucha': 16,\n",
       "         'Kristallweizen': 27,\n",
       "         'Kvass': 25,\n",
       "         'Kölsch': 1027,\n",
       "         'Lager - Amber': 387,\n",
       "         'Lager - American': 301,\n",
       "         'Lager - American Amber / Red': 259,\n",
       "         'Lager - American Light': 611,\n",
       "         'Lager - Dark': 256,\n",
       "         'Lager - Dortmunder / Export': 70,\n",
       "         'Lager - Euro Dark': 41,\n",
       "         'Lager - Euro Pale': 139,\n",
       "         'Lager - Euro Strong': 15,\n",
       "         'Lager - Helles': 337,\n",
       "         'Lager - IPL (India Pale Lager)': 443,\n",
       "         'Lager - Japanese Rice': 59,\n",
       "         'Lager - Munich Dunkel': 161,\n",
       "         'Lager - Pale': 666,\n",
       "         'Lager - Red': 38,\n",
       "         'Lager - Vienna': 325,\n",
       "         'Lager - Winter': 23,\n",
       "         'Lambic - Framboise': 5,\n",
       "         'Lambic - Fruit': 17,\n",
       "         'Lambic - Gueuze': 12,\n",
       "         'Lambic - Kriek': 18,\n",
       "         'Lambic - Traditional': 57,\n",
       "         'Lichtenhainer': 12,\n",
       "         'Malt Beer': 45,\n",
       "         'Malt Liquor ': 57,\n",
       "         'Mead - Braggot': 98,\n",
       "         'Mead - Cyser': 15,\n",
       "         'Mead - Melomel': 26,\n",
       "         'Mead - Metheglin': 2,\n",
       "         'Mead - Other': 74,\n",
       "         'Mead - Pyment': 4,\n",
       "         'Mead - Traditional': 1,\n",
       "         'Märzen': 684,\n",
       "         'Non-Alcoholic Beer': 30,\n",
       "         'Old Ale': 289,\n",
       "         'Other': 329,\n",
       "         'Pale Ale - American': 5762,\n",
       "         'Pale Ale - Australian': 124,\n",
       "         'Pale Ale - Belgian': 515,\n",
       "         'Pale Ale - English': 419,\n",
       "         'Pale Ale - International': 117,\n",
       "         'Pale Ale - Milkshake': 6,\n",
       "         'Pale Ale - New England': 236,\n",
       "         'Pale Ale - New Zealand': 105,\n",
       "         'Patersbier': 29,\n",
       "         'Pilsner - Czech': 329,\n",
       "         'Pilsner - German': 442,\n",
       "         'Pilsner - Imperial / Double': 81,\n",
       "         'Pilsner - Other': 1038,\n",
       "         'Porter - American': 1588,\n",
       "         'Porter - Baltic': 364,\n",
       "         'Porter - Baltic Imperial / Double': 9,\n",
       "         'Porter - Coffee': 105,\n",
       "         'Porter - English': 267,\n",
       "         'Porter - Imperial / Double': 744,\n",
       "         'Porter - Other': 1542,\n",
       "         'Pumpkin / Yam Beer': 832,\n",
       "         'Rauchbier': 96,\n",
       "         'Red Ale - American Amber / Red': 1753,\n",
       "         'Red Ale - Imperial / Double': 443,\n",
       "         'Red Ale - Irish': 536,\n",
       "         'Red Ale - Other': 186,\n",
       "         'Roggenbier': 66,\n",
       "         'Root Beer': 84,\n",
       "         'Rye Beer': 654,\n",
       "         'Rye Wine': 10,\n",
       "         'Schwarzbier': 246,\n",
       "         'Scotch Ale / Wee Heavy': 599,\n",
       "         'Scottish Ale': 417,\n",
       "         'Scottish Export Ale': 52,\n",
       "         'Shandy / Radler': 290,\n",
       "         'Smoked Beer': 298,\n",
       "         'Sour - Berliner Weisse': 1686,\n",
       "         'Sour - Farmhouse IPA': 30,\n",
       "         'Sour - Flanders Oud Bruin': 117,\n",
       "         'Sour - Flanders Red Ale': 139,\n",
       "         'Sour - Fruited': 880,\n",
       "         'Sour - Gose': 1261,\n",
       "         'Sour - Gose - Fruited': 212,\n",
       "         'Sour - Other': 2858,\n",
       "         'Specialty Grain': 71,\n",
       "         'Spiced / Herbed Beer': 512,\n",
       "         'Steinbier': 5,\n",
       "         'Stout - American': 1320,\n",
       "         'Stout - American Imperial / Double': 1335,\n",
       "         'Stout - Coffee': 261,\n",
       "         'Stout - English': 22,\n",
       "         'Stout - Foreign / Export': 138,\n",
       "         'Stout - Imperial / Double': 1834,\n",
       "         'Stout - Imperial / Double Milk': 449,\n",
       "         'Stout - Imperial / Double Oatmeal': 245,\n",
       "         'Stout - Imperial / Double White': 12,\n",
       "         'Stout - Irish Dry': 454,\n",
       "         'Stout - Milk / Sweet': 1243,\n",
       "         'Stout - Oatmeal': 760,\n",
       "         'Stout - Other': 1597,\n",
       "         'Stout - Oyster': 114,\n",
       "         'Stout - Pastry': 30,\n",
       "         'Stout - Russian Imperial': 1276,\n",
       "         'Stout - White': 63,\n",
       "         'Strong Ale - American': 446,\n",
       "         'Strong Ale - English': 131,\n",
       "         'Strong Ale - Other': 34,\n",
       "         'Table Beer': 70,\n",
       "         'Traditional Ale': 85,\n",
       "         'Wheat Beer - American Pale Wheat': 1186,\n",
       "         'Wheat Beer - Other': 340,\n",
       "         'Wheat Wine': 176,\n",
       "         'Winter Ale': 339,\n",
       "         'Winter Warmer': 247,\n",
       "         'Witbier': 1242,\n",
       "         'Zoigl': 2})"
      ]
     },
     "execution_count": 91,
     "metadata": {},
     "output_type": "execute_result"
    }
   ],
   "source": [
    "styleCounter"
   ]
  },
  {
   "cell_type": "code",
   "execution_count": 92,
   "metadata": {
    "collapsed": false
   },
   "outputs": [
    {
     "data": {
      "text/plain": [
       "102765"
      ]
     },
     "execution_count": 92,
     "metadata": {},
     "output_type": "execute_result"
    }
   ],
   "source": [
    "sum(styleCounter.values())"
   ]
  },
  {
   "cell_type": "code",
   "execution_count": 95,
   "metadata": {
    "collapsed": false
   },
   "outputs": [
    {
     "data": {
      "text/plain": [
       "27416"
      ]
     },
     "execution_count": 95,
     "metadata": {},
     "output_type": "execute_result"
    }
   ],
   "source": [
    "sum(styleCounter[s] for s in styleCounter if s.startswith(\"IPA\"))"
   ]
  },
  {
   "cell_type": "code",
   "execution_count": 97,
   "metadata": {
    "collapsed": false
   },
   "outputs": [
    {
     "data": {
      "text/plain": [
       "[('IPA - American', 12815),\n",
       " ('Pale Ale - American', 5762),\n",
       " ('IPA - Imperial / Double', 5168),\n",
       " ('Farmhouse Ale - Saison', 4776),\n",
       " ('IPA - New England', 2972)]"
      ]
     },
     "execution_count": 97,
     "metadata": {},
     "output_type": "execute_result"
    }
   ],
   "source": [
    "styleCounter.most_common(5)"
   ]
  },
  {
   "cell_type": "markdown",
   "metadata": {},
   "source": [
    "### Getting Checkins for specific beer ID's from Untappd"
   ]
  },
  {
   "cell_type": "code",
   "execution_count": 98,
   "metadata": {
    "collapsed": true
   },
   "outputs": [],
   "source": [
    "def searchBeerFeeds(beerFeed_params, bid):\n",
    "    method_endpoint = '/beer/checkins/' + str(bid)\n",
    "    query = untappd_URL + method_endpoint\n",
    "    response = requests.get(query, beerFeed_params)\n",
    "    if response:  # response==True for codes 200-400\n",
    "        remaining_calls = response.headers['X-Ratelimit-Remaining']\n",
    "        return remaining_calls, response\n",
    "    else: \n",
    "        print(f\"That GET request for beer {bid} with params={beerFeed_params.items()} \\\n",
    "failed, with code: {response.status_code}\")\n",
    "        print(response.json())\n",
    "        return 0,0"
   ]
  },
  {
   "cell_type": "code",
   "execution_count": 115,
   "metadata": {
    "collapsed": false
   },
   "outputs": [
    {
     "name": "stdout",
     "output_type": "stream",
     "text": [
      "That GET request for beer 179610 with params=dict_items([('min_id', 11), ('max_id', 0), ('client_id', 'FCD54D21A1313DC49DB8E6DA0B3EE321503A1EF1'), ('client_secret', '2615C26DDEA972D062A5E929EDD0D8E3E9160AD2')]) failed, with code: 400\n",
      "{'meta': {'code': 400, 'error_detail': \"Your 'min_id' is too low, please use a valid that is closer to the most recent ID. Your 'min_id' must be greater than 10 days from now.\", 'error_type': 'invalid_param', 'developer_friendly': '', 'response_time': {'time': 0.012, 'measure': 'seconds'}}, 'response': []}\n"
     ]
    },
    {
     "data": {
      "text/plain": [
       "(0, 0)"
      ]
     },
     "execution_count": 115,
     "metadata": {},
     "output_type": "execute_result"
    }
   ],
   "source": [
    "# Tweak these params to test how the method fails, so it doesn't fail disruptively during a large search\n",
    "searchBeerFeeds({'min_id':11, 'max_id':0, 'client_id':untappd_ID, 'client_secret':untappd_SECRET}, 179610)"
   ]
  },
  {
   "cell_type": "code",
   "execution_count": 117,
   "metadata": {
    "collapsed": true
   },
   "outputs": [],
   "source": [
    "## Since the goal of calling the BeerActivityFeed on the API is not to exhaust some beer list,\n",
    "#   but rather to gather reviews on every joined beer, this routine should take as input a\n",
    "#   beer_id ('bid') and a number of calls to make on that bid.  Then store with the results\n",
    "#   an ID of which checkin to start with next time you run that bid. Store the first checkin ID\n",
    "#   as well, to not run over the same ground on newer calls in the future.\n",
    "\n",
    "def brewFeedBatch(bid, builder_dict, olderthan=None, newerthan=None, numCalls=12):\n",
    "    '''\n",
    "    This method makes @numCalls queries (default=12 because untappd limits you to 300 most recent\n",
    "    checkins for a beer, so 300/25perpage calls) to untappd's beer Activity Feed,\n",
    "    for beer ID @bid, using either @olderthan or @newerthan to let untappd know\n",
    "    where to start (going back in time from @olderthan, which is untappd's \n",
    "    \"max_id\" param) or end (going from now to @newerthan, which is \"min_id\").\n",
    "    \n",
    "    The results and updated pagination limits are added to the \n",
    "    @builder_dict passed in.\n",
    "    '''\n",
    "    params = {'max_id': olderthan, 'min_id': newerthan, 'client_id':untappd_ID, 'client_secret':untappd_SECRET}\n",
    "       \n",
    "    for i in range(numCalls):\n",
    "        calls_left, response = searchBeerFeeds(params, bid)\n",
    "        if not response:\n",
    "            print('NO RESPONSE')\n",
    "            return\n",
    "        resp = response.json()\n",
    "        # start pagination and rate limit bookkeeping\n",
    "        try:\n",
    "            new_oldest = resp['response']['pagination']['max_id']\n",
    "            params['max_id'] = new_oldest\n",
    "            builder_dict[bid]['oldestID'] = new_oldest\n",
    "            builder_dict[bid]['datalist'].append(resp)\n",
    "            # this happens only first time; mark in this beer's dict the youngest checkin seen\n",
    "            if builder_dict[bid]['newestID'] is None:\n",
    "                builder_dict[bid]['newestID'] = resp['response']['checkins']['items'][0]['checkin_id']\n",
    "        except KeyError as kerr:\n",
    "            print(f'No {kerr} was included in the response.')\n",
    "            print(f'There are {calls_left} calls left.')\n",
    "            print(f'The max_id passed in was {olderthan}.')\n",
    "            print(f'The beerID was {bid}')\n",
    "            \n",
    "\n",
    "    print(f'Completed {i+1} calls. Hourly calls remaining: {calls_left}') \n",
    "    \n"
   ]
  },
  {
   "cell_type": "markdown",
   "metadata": {},
   "source": [
    "Get the untappd beer ID's from the 1175 name matches to query their feeds"
   ]
  },
  {
   "cell_type": "code",
   "execution_count": 123,
   "metadata": {
    "collapsed": false
   },
   "outputs": [],
   "source": [
    "# first batch_0 with the horizontal aspect\n",
    "matched_IDs = set(beer['beer']['bid'] for col in range(batch_0.shape[1])\n",
    "                  for beer in batch_0.iloc[0,col]['response']['beers']['items']\n",
    "                 if beer['brewery']['brewery_name'] + ' ' + beer['beer']['beer_name'] in bdb_IPA_nameset)\n"
   ]
  },
  {
   "cell_type": "code",
   "execution_count": 125,
   "metadata": {
    "collapsed": false
   },
   "outputs": [],
   "source": [
    "# that was too long of a comprehension, so will loop out the next 22 for clarity\n",
    "for batch in range(1, 23):\n",
    "    frame = pd.read_pickle(f'capstone_1/beerSearches/beer_search_batch_{batch}.pkl')\n",
    "    for row in range(frame.shape[0]):   # each row is a batch of results from an API call\n",
    "        for beer in frame.loc[row,'response']['beers']['items']:     \n",
    "            if beer['brewery']['brewery_name'] + ' ' + beer['beer']['beer_name'] in bdb_IPA_nameset:\n",
    "                matched_IDs.add(beer['beer']['bid']) "
   ]
  },
  {
   "cell_type": "code",
   "execution_count": 127,
   "metadata": {
    "collapsed": false
   },
   "outputs": [
    {
     "data": {
      "text/plain": [
       "1180"
      ]
     },
     "execution_count": 127,
     "metadata": {},
     "output_type": "execute_result"
    }
   ],
   "source": [
    "len(matched_IDs)\n",
    "# Looks like there are 1180 beer IDs and 1175 unique '<brewery> <beer>' combos.  Not unusual for name overlaps."
   ]
  },
  {
   "cell_type": "code",
   "execution_count": 129,
   "metadata": {
    "collapsed": true
   },
   "outputs": [],
   "source": [
    "# make a generator for beer ID's to feed into the calls\n",
    "bID_gen = (b for b in matched_IDs)\n",
    "# don't re-initialize this unless you want extra work rebuilding its state"
   ]
  },
  {
   "cell_type": "code",
   "execution_count": 128,
   "metadata": {
    "collapsed": false
   },
   "outputs": [],
   "source": [
    "# initialize a permanent dict of dicts to contain, for each bID, the pagination info as well as all feeds accrued\n",
    "\n",
    "beerFeedDicts = {bID: {'newestID':None, 'oldestID':None, 'datalist':[]} for bID in matched_IDs}"
   ]
  },
  {
   "cell_type": "markdown",
   "metadata": {},
   "source": [
    "#### Manually run this cell and tweak parameters as needed to keep the flow on"
   ]
  },
  {
   "cell_type": "code",
   "execution_count": null,
   "metadata": {
    "collapsed": true
   },
   "outputs": [],
   "source": [
    "# for managing API rate limits, get a clock\n",
    "import time\n",
    "\n",
    "for batch in range(8):  #  100 calls limit / (300 max checkins / 25 checkins per call) = 8 batches/ hour\n",
    "    beerID = next(bid_gen)\n",
    "                     # or  (newerthan=beerFeedDicts[beerID]['newestID'])   to fill in future checkins\n",
    "    brewFeedBatch(beerID, olderthan=beerFeedDicts[beerID]['oldestID'], numCalls=12)\n",
    "    print(f'Batch {batch} finished at {time.asctime()[11:16]}')"
   ]
  },
  {
   "cell_type": "markdown",
   "metadata": {},
   "source": [
    "#### When you want to save the results, run the cell below, and then reset the beerFeedDicts for the next batch"
   ]
  },
  {
   "cell_type": "code",
   "execution_count": null,
   "metadata": {
    "collapsed": true
   },
   "outputs": [],
   "source": [
    "batch = 0\n",
    "with open(f'capstone_1/beerFeeds/beerFeedDicts_{batch}.pkl', 'wb') as f:\n",
    "    pickle.dump(beerFeedDicts, f)"
   ]
  },
  {
   "cell_type": "markdown",
   "metadata": {},
   "source": [
    "### After getting enough Beer Feeds to get you started"
   ]
  },
  {
   "cell_type": "markdown",
   "metadata": {},
   "source": [
    "Find out which Users are responsible for the highest amount of those Checkins"
   ]
  },
  {
   "cell_type": "code",
   "execution_count": 161,
   "metadata": {
    "collapsed": false
   },
   "outputs": [
    {
     "name": "stdout",
     "output_type": "stream",
     "text": [
      "86041\n"
     ]
    }
   ],
   "source": [
    "#********************** THIS SLOWED MY LAPTOP TO A CRAWL AND TOOK 9 MINUTES FOR 210K CHECKINS\n",
    "from glob import glob\n",
    "# depending on what files you saved in the above Beer Feed Getter routine:\n",
    "beer_feed_files = glob('capstone_1/beerFeeds/beerFeedDicts*')\n",
    "userCounter = Counter()\n",
    "styles = Counter()\n",
    "\n",
    "for file in beer_feed_files:\n",
    "    with open(file, 'rb') as f:\n",
    "        beerdicts = pickle.load(f)\n",
    "    # There is a ton of data in these beerdicts, so generate and parse in bits\n",
    "    beer_feed_dict_gen = (datachunk for val in beerdicts.values() for datachunk in val['datalist'])\n",
    "\n",
    "    while True:\n",
    "        try:\n",
    "            chunk = next(beer_feed_dict_gen)\n",
    "            userCounter.update([item['user']['user_name'] \n",
    "                               for item in chunk['response']['checkins']['items']])\n",
    "            styles.update([item['beer']['beer_style']\n",
    "                          for item in chunk['response']['checkins']['items']])\n",
    "        except StopIteration:\n",
    "            break\n",
    "print(len(userCounter.keys()))"
   ]
  },
  {
   "cell_type": "code",
   "execution_count": 159,
   "metadata": {
    "collapsed": false
   },
   "outputs": [
    {
     "data": {
      "text/plain": [
       "[('jjstark24', 128),\n",
       " ('Rally', 88),\n",
       " ('collinmcclendon', 86),\n",
       " ('Stark_Stack', 83),\n",
       " ('kernel', 66),\n",
       " ('swoopjones', 52),\n",
       " ('taciturnity7', 52),\n",
       " ('innajunglestyle', 50),\n",
       " ('NYbeerogre', 46),\n",
       " ('Chudini', 44),\n",
       " ('kansasblonde', 44),\n",
       " ('Ryan_wollert', 44),\n",
       " ('Straymon', 39),\n",
       " ('BVery', 38),\n",
       " ('Jc1327', 38),\n",
       " ('Beerhopperken', 38),\n",
       " ('Sjones132', 37),\n",
       " ('Holydiverr33', 36),\n",
       " ('PoundingIPAs', 34),\n",
       " ('punkatz13', 33)]"
      ]
     },
     "execution_count": 159,
     "metadata": {},
     "output_type": "execute_result"
    }
   ],
   "source": [
    "# This is the order we'll search User Feeds in, for the balance of the data gathering\n",
    "userCounter.most_common(20)"
   ]
  },
  {
   "cell_type": "code",
   "execution_count": 160,
   "metadata": {
    "collapsed": false
   },
   "outputs": [
    {
     "data": {
      "text/plain": [
       "209722"
      ]
     },
     "execution_count": 160,
     "metadata": {},
     "output_type": "execute_result"
    }
   ],
   "source": [
    "# How many checkins did we get at this point, now that we're going to switch to querying User Feeds?\n",
    "sum(userCounter.values())"
   ]
  },
  {
   "cell_type": "code",
   "execution_count": 162,
   "metadata": {
    "collapsed": false
   },
   "outputs": [
    {
     "data": {
      "text/plain": [
       "200323"
      ]
     },
     "execution_count": 162,
     "metadata": {},
     "output_type": "execute_result"
    }
   ],
   "source": [
    "# And how many of those are IPA's ?\n",
    "sum(styles[s] for s in styles if s.startswith('IPA'))"
   ]
  },
  {
   "cell_type": "code",
   "execution_count": 165,
   "metadata": {
    "collapsed": false
   },
   "outputs": [
    {
     "data": {
      "text/plain": [
       "[('IPA - American', 145736),\n",
       " ('IPA - New England', 14504),\n",
       " ('IPA - Imperial / Double', 9196),\n",
       " ('IPA - Brut', 8184),\n",
       " ('IPA - Black / Cascadian Dark Ale', 5165),\n",
       " ('Pale Ale - American', 3226),\n",
       " ('IPA - Rye', 2750),\n",
       " ('IPA - White', 2750),\n",
       " ('IPA - Session / India Session Ale', 2200),\n",
       " ('IPA - Belgian', 2150),\n",
       " ('IPA - English', 1925),\n",
       " ('IPA - Red', 1913),\n",
       " ('Rye Beer', 1650),\n",
       " ('IPA - International', 1375),\n",
       " ('IPA - Sour', 1100),\n",
       " ('IPA - Imperial / Double New England', 1100),\n",
       " ('Spiced / Herbed Beer', 1050),\n",
       " ('Red Ale - American Amber / Red', 550),\n",
       " ('Pale Ale - Belgian', 550),\n",
       " ('Fruit Beer', 550),\n",
       " ('Farmhouse Ale - Saison', 514),\n",
       " ('Blonde Ale', 484),\n",
       " ('Winter Ale', 275),\n",
       " ('Freeze-distilled Beer', 275),\n",
       " ('Lager - IPL (India Pale Lager)', 275),\n",
       " ('IPA - Imperial / Double Milkshake', 275)]"
      ]
     },
     "execution_count": 165,
     "metadata": {},
     "output_type": "execute_result"
    }
   ],
   "source": [
    "styles.most_common()"
   ]
  },
  {
   "cell_type": "code",
   "execution_count": null,
   "metadata": {
    "collapsed": true
   },
   "outputs": [],
   "source": []
  }
 ],
 "metadata": {
  "kernelspec": {
   "display_name": "Python 3",
   "language": "python",
   "name": "python3"
  },
  "language_info": {
   "codemirror_mode": {
    "name": "ipython",
    "version": 3
   },
   "file_extension": ".py",
   "mimetype": "text/x-python",
   "name": "python",
   "nbconvert_exporter": "python",
   "pygments_lexer": "ipython3",
   "version": "3.6.9"
  }
 },
 "nbformat": 4,
 "nbformat_minor": 2
}
