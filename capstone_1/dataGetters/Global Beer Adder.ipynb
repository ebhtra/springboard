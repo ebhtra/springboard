{
 "cells": [
  {
   "cell_type": "markdown",
   "metadata": {},
   "source": [
    "### Just trying to fill in large blanks for beers that had no global ratings or descriptions"
   ]
  },
  {
   "cell_type": "code",
   "execution_count": 1,
   "metadata": {
    "collapsed": true
   },
   "outputs": [],
   "source": [
    "import numpy as np\n",
    "import pandas as pd\n",
    "import matplotlib.pyplot as plt\n"
   ]
  },
  {
   "cell_type": "code",
   "execution_count": 2,
   "metadata": {
    "collapsed": true
   },
   "outputs": [],
   "source": [
    "df = pd.read_csv('bigframe.csv')"
   ]
  },
  {
   "cell_type": "markdown",
   "metadata": {},
   "source": [
    "#### Remove all but the most recent one User/Beer combo for multiple such checkins"
   ]
  },
  {
   "cell_type": "code",
   "execution_count": 3,
   "metadata": {
    "collapsed": false
   },
   "outputs": [
    {
     "data": {
      "text/plain": [
       "(1296064, 27)"
      ]
     },
     "execution_count": 3,
     "metadata": {},
     "output_type": "execute_result"
    }
   ],
   "source": [
    "df.drop_duplicates(subset=['user_id', 'beer_id'], inplace=True)  # keep_first (default) means keep most recent checkin\n",
    "\n",
    "df.shape  # remaining from 1.42M prev"
   ]
  },
  {
   "cell_type": "code",
   "execution_count": 4,
   "metadata": {
    "collapsed": false
   },
   "outputs": [
    {
     "data": {
      "text/plain": [
       "(2519, 27)"
      ]
     },
     "execution_count": 4,
     "metadata": {},
     "output_type": "execute_result"
    }
   ],
   "source": [
    "zero_globs = df[df.rating_global == 0]\n",
    "zero_globs.shape"
   ]
  },
  {
   "cell_type": "code",
   "execution_count": 5,
   "metadata": {
    "collapsed": false
   },
   "outputs": [
    {
     "data": {
      "text/plain": [
       "203941"
      ]
     },
     "execution_count": 5,
     "metadata": {},
     "output_type": "execute_result"
    }
   ],
   "source": [
    "null_globs = df[df.rating_global.isnull()]\n",
    "len(null_globs)"
   ]
  },
  {
   "cell_type": "code",
   "execution_count": 6,
   "metadata": {
    "collapsed": false
   },
   "outputs": [
    {
     "data": {
      "text/plain": [
       "128147"
      ]
     },
     "execution_count": 6,
     "metadata": {},
     "output_type": "execute_result"
    }
   ],
   "source": [
    "null_globs.beer_id.nunique()"
   ]
  },
  {
   "cell_type": "code",
   "execution_count": 7,
   "metadata": {
    "collapsed": false
   },
   "outputs": [
    {
     "data": {
      "text/plain": [
       "264620"
      ]
     },
     "execution_count": 7,
     "metadata": {},
     "output_type": "execute_result"
    }
   ],
   "source": [
    "df.beer_id.nunique()  # so half the beers don't have globrates"
   ]
  },
  {
   "cell_type": "markdown",
   "metadata": {},
   "source": [
    "Just make sure there's no info to fill in from globs to nulls:"
   ]
  },
  {
   "cell_type": "code",
   "execution_count": 9,
   "metadata": {
    "collapsed": true
   },
   "outputs": [],
   "source": [
    "globs = df[df.rating_global.notnull()]"
   ]
  },
  {
   "cell_type": "code",
   "execution_count": 10,
   "metadata": {
    "collapsed": false
   },
   "outputs": [
    {
     "data": {
      "text/plain": [
       "0"
      ]
     },
     "execution_count": 10,
     "metadata": {},
     "output_type": "execute_result"
    }
   ],
   "source": [
    "null_ids = set(null_globs.beer_id)\n",
    "glob_ids = set(globs.beer_id)\n",
    "# check overlapping id's\n",
    "overlaps = null_ids.intersection(glob_ids)\n",
    "len(overlaps)"
   ]
  },
  {
   "cell_type": "markdown",
   "metadata": {},
   "source": [
    "### So half the beers have global ratings and descriptions and account for 1M ratings.  The other half don't have globals or descriptions, but they are barely rated (200K checkins).  There are diminishing returns on querying these 128K beers, but maybe if we query for a few days, starting with the IPA's, we can get some useful data and a few hundred K more checkins."
   ]
  },
  {
   "cell_type": "code",
   "execution_count": 2,
   "metadata": {
    "collapsed": false
   },
   "outputs": [],
   "source": [
    "from api_keys import untappd_URL, untappd_ID, untappd_SECRET   # private, local constants\n",
    "\n",
    "import pickle\n",
    "import requests\n",
    "import time"
   ]
  },
  {
   "cell_type": "code",
   "execution_count": 3,
   "metadata": {
    "collapsed": false
   },
   "outputs": [],
   "source": [
    "# make a call to untappd's API to get Beer Feed data for a specific Beer ID\n",
    "# This method is used in the main data getter, below (beerFeedBatch())\n",
    "def searchBeerInfo(beerInfo_params, bid):\n",
    "    # build the query string\n",
    "    method_endpoint = '/beer/info/' + str(bid)\n",
    "    query = untappd_URL + method_endpoint\n",
    "    response = requests.get(query, beerInfo_params)\n",
    "    # parse the response\n",
    "    if response:  # response==True for codes 200-400\n",
    "        remaining_calls = response.headers['X-Ratelimit-Remaining']\n",
    "        return remaining_calls, response\n",
    "    else: \n",
    "        print(f\"That GET request for beer {bid} with params={beerInfo_params.items()} \\\n",
    "failed, with code: {response.status_code}\")\n",
    "        print(response.json())\n",
    "        return 0,0"
   ]
  },
  {
   "cell_type": "code",
   "execution_count": 4,
   "metadata": {
    "collapsed": true
   },
   "outputs": [],
   "source": [
    "def beerInfoBatch(bid, builderDict, numCalls=1):\n",
    "    '''\n",
    "    This method makes @numCalls queries to untappd's \n",
    "    Beer Info endpoint, for beer @bid.\n",
    "    \n",
    "    The results are added to the \n",
    "    @builderDict passed into this method.\n",
    "    '''\n",
    "    # the max 'limit' accepted by untappd is 50\n",
    "    params = {'limit':50, 'client_id':untappd_ID, 'client_secret':untappd_SECRET}\n",
    "       \n",
    "    for i in range(numCalls):\n",
    "        calls_left, response = searchBeerInfo(params, bid)\n",
    "        if not response:\n",
    "            print('NO RESPONSE')\n",
    "            return\n",
    "        resp = response.json()\n",
    "        \n",
    "        try:\n",
    "            builderDict[bid] = resp\n",
    "        except KeyError as kerr:\n",
    "            print(f'No {kerr} was included in the response.')\n",
    "            print(f'There are {calls_left} calls left.')\n",
    "            print(f'The beerID was {bid}')\n",
    "            break\n",
    "\n",
    "    print(f'Completed {i+1} calls. Hourly calls remaining: {calls_left}') \n",
    "    \n",
    "    \n",
    "      "
   ]
  },
  {
   "cell_type": "markdown",
   "metadata": {},
   "source": [
    "=================================================================================================================  \n",
    "\n",
    "Code to initiate dict that stores data"
   ]
  },
  {
   "cell_type": "code",
   "execution_count": 18,
   "metadata": {
    "collapsed": false
   },
   "outputs": [],
   "source": [
    "bid = null_globs.beer_id.iloc[0]\n",
    "beerInfo_params = {'limit':100, 'client_id':untappd_ID, 'client_secret':untappd_SECRET} # limit turned out to be 50\n",
    "method_endpoint = '/beer/info/' + str(bid)\n",
    "query = untappd_URL + method_endpoint\n",
    "response = requests.get(query, beerInfo_params)"
   ]
  },
  {
   "cell_type": "code",
   "execution_count": 19,
   "metadata": {
    "collapsed": true
   },
   "outputs": [],
   "source": [
    "resp = response.json()\n",
    "\n",
    "resp.keys()"
   ]
  },
  {
   "cell_type": "code",
   "execution_count": 29,
   "metadata": {
    "collapsed": false
   },
   "outputs": [
    {
     "data": {
      "text/plain": [
       "'Richmond Dark Lager'"
      ]
     },
     "execution_count": 29,
     "metadata": {},
     "output_type": "execute_result"
    }
   ],
   "source": [
    "resp['response']['beer']['beer_name']"
   ]
  },
  {
   "cell_type": "code",
   "execution_count": 30,
   "metadata": {
    "collapsed": true
   },
   "outputs": [],
   "source": [
    "# initiate a dict to hold beer info\n",
    "beerInfoDicts = {bid: resp['response']}"
   ]
  },
  {
   "cell_type": "markdown",
   "metadata": {},
   "source": [
    "Would rather start with the IPA's if possible, not the Dark Lagers, so will sort that out here."
   ]
  },
  {
   "cell_type": "code",
   "execution_count": 32,
   "metadata": {
    "collapsed": false
   },
   "outputs": [
    {
     "data": {
      "text/plain": [
       "34883"
      ]
     },
     "execution_count": 32,
     "metadata": {},
     "output_type": "execute_result"
    }
   ],
   "source": [
    "null_glob_ipas = null_globs[null_globs.beer_style.str.startswith('IPA')]\n",
    "null_glob_ipas.beer_id.nunique()"
   ]
  },
  {
   "cell_type": "markdown",
   "metadata": {},
   "source": [
    "OK, so that's a good target group"
   ]
  },
  {
   "cell_type": "code",
   "execution_count": 53,
   "metadata": {
    "collapsed": true
   },
   "outputs": [],
   "source": [
    "ipa_id_gen = (x for x in null_glob_ipas.beer_id.unique())"
   ]
  },
  {
   "cell_type": "code",
   "execution_count": 22,
   "metadata": {
    "collapsed": false
   },
   "outputs": [
    {
     "name": "stdout",
     "output_type": "stream",
     "text": [
      "Completed 1 calls. Hourly calls remaining: 11\n",
      "Batch 0 finished at 08:16\n",
      "Completed 1 calls. Hourly calls remaining: 11\n",
      "Batch 1 finished at 08:17\n",
      "Completed 1 calls. Hourly calls remaining: 11\n",
      "Batch 2 finished at 08:18\n",
      "...many hours later...",
      "Completed 1 calls. Hourly calls remaining: 4\n",
      "Batch 1198 finished at 20:48\n",
      "Completed 1 calls. Hourly calls remaining: 4\n",
      "Batch 1199 finished at 20:49\n"
     ]
    }
   ],
   "source": [
    "for batch in range(1200):  # The argument here divided by about 100 is how many hours this cell will take\n",
    "    bID = next(ipa_id_gen)\n",
    "    beerInfoBatch(bID, beerInfoDicts_6, numCalls=1)\n",
    "    print(f'Batch {batch} finished at {time.asctime()[11:16]}')\n",
    "    time.sleep(36)  # 1 call per 36 secs = 100 calls per hour, with 100 being the API limit"
   ]
  },
  {
   "cell_type": "code",
   "execution_count": 23,
   "metadata": {
    "collapsed": false
   },
   "outputs": [
    {
     "data": {
      "text/plain": [
       "2195"
      ]
     },
     "execution_count": 23,
     "metadata": {},
     "output_type": "execute_result"
    }
   ],
   "source": [
    "len(beerInfoDicts_6)"
   ]
  },
  {
   "cell_type": "code",
   "execution_count": 24,
   "metadata": {
    "collapsed": false
   },
   "outputs": [],
   "source": [
    "# pickle the beerInfoDict\n",
    "with open('beerInfoDict6.pkl', 'wb') as f:\n",
    "    pickle.dump(beerInfoDicts_6, f)"
   ]
  },
  {
   "cell_type": "code",
   "execution_count": 25,
   "metadata": {
    "collapsed": false
   },
   "outputs": [
    {
     "name": "stdout",
     "output_type": "stream",
     "text": [
      "-rw-r--r--  1 ethanhaley  staff  359422923 Dec 29 21:00 ./beerInfoDict6.pkl\r\n"
     ]
    }
   ],
   "source": [
    "ls -l ./beerInfoDict6.pkl"
   ]
  },
  {
   "cell_type": "code",
   "execution_count": 16,
   "metadata": {
    "collapsed": true
   },
   "outputs": [],
   "source": [
    "# To avoid lengthy repickling every day:\n",
    "beerInfoDicts_7 = dict()"
   ]
  },
  {
   "cell_type": "code",
   "execution_count": 5,
   "metadata": {
    "collapsed": true
   },
   "outputs": [],
   "source": [
    "def unpickle_gen(pickled_filename):\n",
    "    \"\"\"Unpickles a generator, maintaining the order of its elements.\n",
    "    Returns the generator.\n",
    "    \"\"\"\n",
    "    with open(pickled_filename, 'rb') as f:\n",
    "        gen = (item for item in pickle.load(f))\n",
    "    return gen\n",
    "\n",
    "def pickle_gen(gen, to_pkl_filename):\n",
    "    \"\"\"Pickles a generator, preserving the order of its elements for later use.\"\"\"\n",
    "    with open(to_pkl_filename, 'wb') as f:\n",
    "        pickle.dump([item for item in gen], f)"
   ]
  },
  {
   "cell_type": "code",
   "execution_count": 26,
   "metadata": {
    "collapsed": false
   },
   "outputs": [],
   "source": [
    "pickle_gen(ipa_id_gen, 'ipagen.pkl')"
   ]
  },
  {
   "cell_type": "code",
   "execution_count": 6,
   "metadata": {
    "collapsed": true
   },
   "outputs": [],
   "source": [
    "ipa_id_gen = unpickle_gen('ipagen.pkl')"
   ]
  },
  {
   "cell_type": "code",
   "execution_count": null,
   "metadata": {
    "collapsed": true
   },
   "outputs": [],
   "source": []
  }
 ],
 "metadata": {
  "kernelspec": {
   "display_name": "Python 3",
   "language": "python",
   "name": "python3"
  },
  "language_info": {
   "codemirror_mode": {
    "name": "ipython",
    "version": 3
   },
   "file_extension": ".py",
   "mimetype": "text/x-python",
   "name": "python",
   "nbconvert_exporter": "python",
   "pygments_lexer": "ipython3",
   "version": "3.6.9"
  }
 },
 "nbformat": 4,
 "nbformat_minor": 2
}
