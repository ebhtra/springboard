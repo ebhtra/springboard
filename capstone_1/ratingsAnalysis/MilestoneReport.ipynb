{
 "cells": [
  {
   "cell_type": "markdown",
   "metadata": {},
   "source": [
    "#### Start with select columns of the biggest csv, merge them with descriptions csv, and remove users with fewer than 3 checkins and beers with fewer than 2 checkins"
   ]
  },
  {
   "cell_type": "code",
   "execution_count": 44,
   "metadata": {
    "collapsed": false
   },
   "outputs": [
    {
     "name": "stdout",
     "output_type": "stream",
     "text": [
      "(1894852, 9)\n",
      "(114347, 2)\n"
     ]
    }
   ],
   "source": [
    "import pandas as pd\n",
    "\n",
    "checkins = pd.read_csv('comboframe.csv', usecols=['beer_id', 'rating_user',\n",
    "                                                  'rating_global', 'user_id',\n",
    "                                                  'abv', 'brewery_name',\n",
    "                                                  'beer_style', 'beer_name',\n",
    "                                                  'checkin_id'])\n",
    "# only allow each user one rating for each beer\n",
    "checkins.drop_duplicates(subset=['beer_id', 'user_id'], inplace=True)\n",
    "print(checkins.shape)\n",
    "descrips = pd.read_csv('descriptions.csv')\n",
    "print(descrips.shape)"
   ]
  },
  {
   "cell_type": "code",
   "execution_count": 45,
   "metadata": {
    "collapsed": false
   },
   "outputs": [
    {
     "data": {
      "text/plain": [
       "(1394388, 10)"
      ]
     },
     "execution_count": 45,
     "metadata": {},
     "output_type": "execute_result"
    }
   ],
   "source": [
    "# merge in the descriptions and see how many checkins remain\n",
    "checkins = checkins.merge(descrips, how='inner')\n",
    "checkins.shape"
   ]
  },
  {
   "cell_type": "code",
   "execution_count": 46,
   "metadata": {
    "collapsed": false
   },
   "outputs": [
    {
     "data": {
      "text/plain": [
       "(1155870, 10)"
      ]
     },
     "execution_count": 46,
     "metadata": {},
     "output_type": "execute_result"
    }
   ],
   "source": [
    "checkins = checkins[checkins.user_id.map(checkins.groupby('user_id').size() > 2)]\n",
    "checkins.shape"
   ]
  },
  {
   "cell_type": "code",
   "execution_count": 47,
   "metadata": {
    "collapsed": false
   },
   "outputs": [
    {
     "data": {
      "text/plain": [
       "(1129526, 10)"
      ]
     },
     "execution_count": 47,
     "metadata": {},
     "output_type": "execute_result"
    }
   ],
   "source": [
    "checkins = checkins[checkins.beer_id.map(checkins.groupby('beer_id').size() > 1)]\n",
    "checkins.shape"
   ]
  },
  {
   "cell_type": "markdown",
   "metadata": {},
   "source": [
    "(gonna save a frame with slightly higher threshold for checkin counts: 4+ each for beer and user)"
   ]
  },
  {
   "cell_type": "code",
   "execution_count": 14,
   "metadata": {
    "collapsed": false
   },
   "outputs": [
    {
     "data": {
      "text/plain": [
       "(976800, 10)"
      ]
     },
     "execution_count": 14,
     "metadata": {},
     "output_type": "execute_result"
    }
   ],
   "source": [
    "# interestingly, you need to run this cell about 4 times to \"converge\" to a state where applying one of\n",
    "### these 2 constraints doesn't change the other....\n",
    "checkins = checkins[checkins.user_id.map(checkins.groupby('user_id').size() > 3)]\n",
    "checkins = checkins[checkins.beer_id.map(checkins.groupby('beer_id').size() > 3)]\n",
    "checkins.shape"
   ]
  },
  {
   "cell_type": "code",
   "execution_count": 24,
   "metadata": {
    "collapsed": true
   },
   "outputs": [],
   "source": [
    "checkins.to_csv('../checkins.csv', index=False)"
   ]
  },
  {
   "cell_type": "markdown",
   "metadata": {},
   "source": [
    "(OK, all done with that aside)"
   ]
  },
  {
   "cell_type": "code",
   "execution_count": 48,
   "metadata": {
    "collapsed": false
   },
   "outputs": [
    {
     "name": "stdout",
     "output_type": "stream",
     "text": [
      "<class 'pandas.core.frame.DataFrame'>\n",
      "Int64Index: 1129526 entries, 0 to 1394387\n",
      "Data columns (total 10 columns):\n",
      "checkin_id          1129526 non-null int64\n",
      "beer_id             1129526 non-null int64\n",
      "user_id             1129526 non-null int64\n",
      "rating_user         1129526 non-null float64\n",
      "brewery_name        1129526 non-null object\n",
      "beer_name           1129526 non-null object\n",
      "beer_style          1129526 non-null object\n",
      "rating_global       1104319 non-null float64\n",
      "abv                 1129526 non-null float64\n",
      "beer_description    1129526 non-null object\n",
      "dtypes: float64(3), int64(3), object(4)\n",
      "memory usage: 94.8+ MB\n"
     ]
    }
   ],
   "source": [
    "checkins.info()"
   ]
  },
  {
   "cell_type": "code",
   "execution_count": 49,
   "metadata": {
    "collapsed": false
   },
   "outputs": [
    {
     "data": {
      "text/plain": [
       "(1103369, 10)"
      ]
     },
     "execution_count": 49,
     "metadata": {},
     "output_type": "execute_result"
    }
   ],
   "source": [
    "# remove the ones with no global ratings\n",
    "checkins.dropna(subset=['rating_global'], axis=0, inplace=True)\n",
    "# and the zeros\n",
    "checkins = checkins[checkins.rating_global > 0]\n",
    "checkins.shape"
   ]
  },
  {
   "cell_type": "code",
   "execution_count": 7,
   "metadata": {
    "collapsed": false
   },
   "outputs": [
    {
     "data": {
      "text/html": [
       "<div>\n",
       "<style scoped>\n",
       "    .dataframe tbody tr th:only-of-type {\n",
       "        vertical-align: middle;\n",
       "    }\n",
       "\n",
       "    .dataframe tbody tr th {\n",
       "        vertical-align: top;\n",
       "    }\n",
       "\n",
       "    .dataframe thead th {\n",
       "        text-align: right;\n",
       "    }\n",
       "</style>\n",
       "<table border=\"1\" class=\"dataframe\">\n",
       "  <thead>\n",
       "    <tr style=\"text-align: right;\">\n",
       "      <th></th>\n",
       "      <th>checkin_id</th>\n",
       "      <th>beer_id</th>\n",
       "      <th>user_id</th>\n",
       "      <th>rating_user</th>\n",
       "      <th>brewery_name</th>\n",
       "      <th>beer_name</th>\n",
       "      <th>beer_style</th>\n",
       "      <th>rating_global</th>\n",
       "      <th>abv</th>\n",
       "      <th>beer_description</th>\n",
       "    </tr>\n",
       "  </thead>\n",
       "  <tbody>\n",
       "    <tr>\n",
       "      <th>0</th>\n",
       "      <td>821797539</td>\n",
       "      <td>2095023</td>\n",
       "      <td>3340203</td>\n",
       "      <td>3.75</td>\n",
       "      <td>Stone Brewing</td>\n",
       "      <td>Stone Scorpion Bowl IPA</td>\n",
       "      <td>IPA - American</td>\n",
       "      <td>3.73789</td>\n",
       "      <td>7.5</td>\n",
       "      <td>To create a recipe so tropical and fruity with...</td>\n",
       "    </tr>\n",
       "    <tr>\n",
       "      <th>1</th>\n",
       "      <td>793777280</td>\n",
       "      <td>2095023</td>\n",
       "      <td>2166716</td>\n",
       "      <td>3.50</td>\n",
       "      <td>Stone Brewing</td>\n",
       "      <td>Stone Scorpion Bowl IPA</td>\n",
       "      <td>IPA - American</td>\n",
       "      <td>3.73789</td>\n",
       "      <td>7.5</td>\n",
       "      <td>To create a recipe so tropical and fruity with...</td>\n",
       "    </tr>\n",
       "  </tbody>\n",
       "</table>\n",
       "</div>"
      ],
      "text/plain": [
       "   checkin_id  beer_id  user_id  rating_user   brewery_name  \\\n",
       "0   821797539  2095023  3340203         3.75  Stone Brewing   \n",
       "1   793777280  2095023  2166716         3.50  Stone Brewing   \n",
       "\n",
       "                 beer_name      beer_style  rating_global  abv  \\\n",
       "0  Stone Scorpion Bowl IPA  IPA - American        3.73789  7.5   \n",
       "1  Stone Scorpion Bowl IPA  IPA - American        3.73789  7.5   \n",
       "\n",
       "                                    beer_description  \n",
       "0  To create a recipe so tropical and fruity with...  \n",
       "1  To create a recipe so tropical and fruity with...  "
      ]
     },
     "execution_count": 7,
     "metadata": {},
     "output_type": "execute_result"
    }
   ],
   "source": [
    "checkins.head(2)"
   ]
  },
  {
   "cell_type": "code",
   "execution_count": 69,
   "metadata": {
    "collapsed": false
   },
   "outputs": [
    {
     "data": {
      "text/html": [
       "<div>\n",
       "<style scoped>\n",
       "    .dataframe tbody tr th:only-of-type {\n",
       "        vertical-align: middle;\n",
       "    }\n",
       "\n",
       "    .dataframe tbody tr th {\n",
       "        vertical-align: top;\n",
       "    }\n",
       "\n",
       "    .dataframe thead th {\n",
       "        text-align: right;\n",
       "    }\n",
       "</style>\n",
       "<table border=\"1\" class=\"dataframe\">\n",
       "  <thead>\n",
       "    <tr style=\"text-align: right;\">\n",
       "      <th></th>\n",
       "      <th>checkin_id</th>\n",
       "      <th>user_id</th>\n",
       "      <th>rating_user</th>\n",
       "      <th>rating_global</th>\n",
       "      <th>abv</th>\n",
       "    </tr>\n",
       "  </thead>\n",
       "  <tbody>\n",
       "    <tr>\n",
       "      <th>count</th>\n",
       "      <td>1.103369e+06</td>\n",
       "      <td>1.103369e+06</td>\n",
       "      <td>1.103369e+06</td>\n",
       "      <td>1.103369e+06</td>\n",
       "      <td>1.103369e+06</td>\n",
       "    </tr>\n",
       "    <tr>\n",
       "      <th>mean</th>\n",
       "      <td>7.546046e+08</td>\n",
       "      <td>2.094023e+06</td>\n",
       "      <td>3.826596e+00</td>\n",
       "      <td>3.828369e+00</td>\n",
       "      <td>6.927206e+00</td>\n",
       "    </tr>\n",
       "    <tr>\n",
       "      <th>std</th>\n",
       "      <td>1.028723e+08</td>\n",
       "      <td>1.729344e+06</td>\n",
       "      <td>5.743143e-01</td>\n",
       "      <td>2.891699e-01</td>\n",
       "      <td>1.984595e+00</td>\n",
       "    </tr>\n",
       "    <tr>\n",
       "      <th>min</th>\n",
       "      <td>9.773630e+05</td>\n",
       "      <td>1.900000e+01</td>\n",
       "      <td>1.000000e-01</td>\n",
       "      <td>1.536520e+00</td>\n",
       "      <td>0.000000e+00</td>\n",
       "    </tr>\n",
       "    <tr>\n",
       "      <th>25%</th>\n",
       "      <td>7.420015e+08</td>\n",
       "      <td>6.537330e+05</td>\n",
       "      <td>3.500000e+00</td>\n",
       "      <td>3.657270e+00</td>\n",
       "      <td>5.700000e+00</td>\n",
       "    </tr>\n",
       "    <tr>\n",
       "      <th>50%</th>\n",
       "      <td>7.892611e+08</td>\n",
       "      <td>1.651536e+06</td>\n",
       "      <td>4.000000e+00</td>\n",
       "      <td>3.811980e+00</td>\n",
       "      <td>6.700000e+00</td>\n",
       "    </tr>\n",
       "    <tr>\n",
       "      <th>75%</th>\n",
       "      <td>8.113865e+08</td>\n",
       "      <td>3.161810e+06</td>\n",
       "      <td>4.250000e+00</td>\n",
       "      <td>4.010630e+00</td>\n",
       "      <td>7.900000e+00</td>\n",
       "    </tr>\n",
       "    <tr>\n",
       "      <th>max</th>\n",
       "      <td>8.491104e+08</td>\n",
       "      <td>7.450082e+06</td>\n",
       "      <td>5.000000e+00</td>\n",
       "      <td>4.903410e+00</td>\n",
       "      <td>6.500000e+01</td>\n",
       "    </tr>\n",
       "  </tbody>\n",
       "</table>\n",
       "</div>"
      ],
      "text/plain": [
       "         checkin_id       user_id   rating_user  rating_global           abv\n",
       "count  1.103369e+06  1.103369e+06  1.103369e+06   1.103369e+06  1.103369e+06\n",
       "mean   7.546046e+08  2.094023e+06  3.826596e+00   3.828369e+00  6.927206e+00\n",
       "std    1.028723e+08  1.729344e+06  5.743143e-01   2.891699e-01  1.984595e+00\n",
       "min    9.773630e+05  1.900000e+01  1.000000e-01   1.536520e+00  0.000000e+00\n",
       "25%    7.420015e+08  6.537330e+05  3.500000e+00   3.657270e+00  5.700000e+00\n",
       "50%    7.892611e+08  1.651536e+06  4.000000e+00   3.811980e+00  6.700000e+00\n",
       "75%    8.113865e+08  3.161810e+06  4.250000e+00   4.010630e+00  7.900000e+00\n",
       "max    8.491104e+08  7.450082e+06  5.000000e+00   4.903410e+00  6.500000e+01"
      ]
     },
     "execution_count": 69,
     "metadata": {},
     "output_type": "execute_result"
    }
   ],
   "source": [
    "checkins[['checkin_id','user_id','rating_user','rating_global','abv']].describe()"
   ]
  },
  {
   "cell_type": "code",
   "execution_count": 50,
   "metadata": {
    "collapsed": false
   },
   "outputs": [
    {
     "data": {
      "text/plain": [
       "3284"
      ]
     },
     "execution_count": 50,
     "metadata": {},
     "output_type": "execute_result"
    }
   ],
   "source": [
    "sum(checkins.abv == 0)"
   ]
  },
  {
   "cell_type": "code",
   "execution_count": 51,
   "metadata": {
    "collapsed": false
   },
   "outputs": [
    {
     "data": {
      "text/html": [
       "<div>\n",
       "<style scoped>\n",
       "    .dataframe tbody tr th:only-of-type {\n",
       "        vertical-align: middle;\n",
       "    }\n",
       "\n",
       "    .dataframe tbody tr th {\n",
       "        vertical-align: top;\n",
       "    }\n",
       "\n",
       "    .dataframe thead th {\n",
       "        text-align: right;\n",
       "    }\n",
       "</style>\n",
       "<table border=\"1\" class=\"dataframe\">\n",
       "  <thead>\n",
       "    <tr style=\"text-align: right;\">\n",
       "      <th></th>\n",
       "      <th>abv</th>\n",
       "    </tr>\n",
       "  </thead>\n",
       "  <tbody>\n",
       "    <tr>\n",
       "      <th>count</th>\n",
       "      <td>1.099847e+06</td>\n",
       "    </tr>\n",
       "    <tr>\n",
       "      <th>mean</th>\n",
       "      <td>6.943406e+00</td>\n",
       "    </tr>\n",
       "    <tr>\n",
       "      <th>std</th>\n",
       "      <td>1.919718e+00</td>\n",
       "    </tr>\n",
       "    <tr>\n",
       "      <th>min</th>\n",
       "      <td>3.000000e-01</td>\n",
       "    </tr>\n",
       "    <tr>\n",
       "      <th>25%</th>\n",
       "      <td>5.700000e+00</td>\n",
       "    </tr>\n",
       "    <tr>\n",
       "      <th>50%</th>\n",
       "      <td>6.700000e+00</td>\n",
       "    </tr>\n",
       "    <tr>\n",
       "      <th>75%</th>\n",
       "      <td>7.900000e+00</td>\n",
       "    </tr>\n",
       "    <tr>\n",
       "      <th>max</th>\n",
       "      <td>1.990000e+01</td>\n",
       "    </tr>\n",
       "  </tbody>\n",
       "</table>\n",
       "</div>"
      ],
      "text/plain": [
       "                abv\n",
       "count  1.099847e+06\n",
       "mean   6.943406e+00\n",
       "std    1.919718e+00\n",
       "min    3.000000e-01\n",
       "25%    5.700000e+00\n",
       "50%    6.700000e+00\n",
       "75%    7.900000e+00\n",
       "max    1.990000e+01"
      ]
     },
     "execution_count": 51,
     "metadata": {},
     "output_type": "execute_result"
    }
   ],
   "source": [
    "# Those will mess up the predictions, since abv is a strong correlator with ratings.  Also get rid of that 65% abv!!\n",
    "checkins = checkins[(checkins.abv > 0) & (checkins.abv < 20)]\n",
    "checkins[['abv']].describe()"
   ]
  },
  {
   "cell_type": "code",
   "execution_count": 52,
   "metadata": {
    "collapsed": false
   },
   "outputs": [
    {
     "data": {
      "text/plain": [
       "46894"
      ]
     },
     "execution_count": 52,
     "metadata": {},
     "output_type": "execute_result"
    }
   ],
   "source": [
    "checkins.user_id.nunique()"
   ]
  },
  {
   "cell_type": "markdown",
   "metadata": {},
   "source": [
    "### Let's start with a scenario where we have no ratings for a user.  We'll say the user is looking at a menu of 10 beers.  With only this info, our only recourse is to recommend things in order of their global mean ratings.  Let's simulate that by taking the users who have exactly 10 ratings and seeing how the user ranked the top 3 recommendations."
   ]
  },
  {
   "cell_type": "code",
   "execution_count": 53,
   "metadata": {
    "collapsed": false
   },
   "outputs": [
    {
     "data": {
      "text/plain": [
       "4140"
      ]
     },
     "execution_count": 53,
     "metadata": {},
     "output_type": "execute_result"
    }
   ],
   "source": [
    "# a mapping from user to number of ratings can be helpful in many situations\n",
    "usercounts = checkins.groupby('user_id').size()\n",
    "tens = checkins[checkins.user_id.map(usercounts) == 10].set_index('user_id').sort_index()\n",
    "len(tens)"
   ]
  },
  {
   "cell_type": "markdown",
   "metadata": {},
   "source": [
    "Looks like we have 413 users.  Here's the \"digital menu\" staring our first user in the face:"
   ]
  },
  {
   "cell_type": "code",
   "execution_count": 73,
   "metadata": {
    "collapsed": false
   },
   "outputs": [
    {
     "data": {
      "text/html": [
       "<div>\n",
       "<style scoped>\n",
       "    .dataframe tbody tr th:only-of-type {\n",
       "        vertical-align: middle;\n",
       "    }\n",
       "\n",
       "    .dataframe tbody tr th {\n",
       "        vertical-align: top;\n",
       "    }\n",
       "\n",
       "    .dataframe thead th {\n",
       "        text-align: right;\n",
       "    }\n",
       "</style>\n",
       "<table border=\"1\" class=\"dataframe\">\n",
       "  <thead>\n",
       "    <tr style=\"text-align: right;\">\n",
       "      <th></th>\n",
       "      <th>brewery_name</th>\n",
       "      <th>beer_name</th>\n",
       "    </tr>\n",
       "  </thead>\n",
       "  <tbody>\n",
       "    <tr>\n",
       "      <th>0</th>\n",
       "      <td>Half Acre Beer Company</td>\n",
       "      <td>Logue</td>\n",
       "    </tr>\n",
       "    <tr>\n",
       "      <th>1</th>\n",
       "      <td>Yamorido</td>\n",
       "      <td>Coup De Grace</td>\n",
       "    </tr>\n",
       "    <tr>\n",
       "      <th>2</th>\n",
       "      <td>Westside Ale Works</td>\n",
       "      <td>Weekend Juice NEIPA</td>\n",
       "    </tr>\n",
       "    <tr>\n",
       "      <th>3</th>\n",
       "      <td>Chilly Water Brewing Company</td>\n",
       "      <td>Wagon Wheel</td>\n",
       "    </tr>\n",
       "    <tr>\n",
       "      <th>4</th>\n",
       "      <td>6 beers brewing co.</td>\n",
       "      <td>Limelight</td>\n",
       "    </tr>\n",
       "    <tr>\n",
       "      <th>5</th>\n",
       "      <td>Hemingway's Brewery</td>\n",
       "      <td>Doug's Courage XPA</td>\n",
       "    </tr>\n",
       "    <tr>\n",
       "      <th>6</th>\n",
       "      <td>Upslope Brewing Company</td>\n",
       "      <td>Hazy IPA</td>\n",
       "    </tr>\n",
       "    <tr>\n",
       "      <th>7</th>\n",
       "      <td>Half Acre Beer Company</td>\n",
       "      <td>Alive In Its Jaws</td>\n",
       "    </tr>\n",
       "    <tr>\n",
       "      <th>8</th>\n",
       "      <td>Uchu Brewing</td>\n",
       "      <td>Aldebaran (#65)</td>\n",
       "    </tr>\n",
       "    <tr>\n",
       "      <th>9</th>\n",
       "      <td>Y.Market Brewing</td>\n",
       "      <td>Hysteric IPA</td>\n",
       "    </tr>\n",
       "  </tbody>\n",
       "</table>\n",
       "</div>"
      ],
      "text/plain": [
       "                   brewery_name            beer_name\n",
       "0        Half Acre Beer Company                Logue\n",
       "1                      Yamorido        Coup De Grace\n",
       "2            Westside Ale Works  Weekend Juice NEIPA\n",
       "3  Chilly Water Brewing Company          Wagon Wheel\n",
       "4           6 beers brewing co.            Limelight\n",
       "5           Hemingway's Brewery   Doug's Courage XPA\n",
       "6       Upslope Brewing Company             Hazy IPA\n",
       "7        Half Acre Beer Company    Alive In Its Jaws\n",
       "8                  Uchu Brewing      Aldebaran (#65)\n",
       "9              Y.Market Brewing         Hysteric IPA"
      ]
     },
     "execution_count": 73,
     "metadata": {},
     "output_type": "execute_result"
    }
   ],
   "source": [
    "tens.reset_index()[['brewery_name', 'beer_name']].head(10)"
   ]
  },
  {
   "cell_type": "markdown",
   "metadata": {},
   "source": [
    "Here's how those 10 are rated globally, from best to worst:"
   ]
  },
  {
   "cell_type": "code",
   "execution_count": 74,
   "metadata": {
    "collapsed": false
   },
   "outputs": [
    {
     "data": {
      "text/html": [
       "<div>\n",
       "<style scoped>\n",
       "    .dataframe tbody tr th:only-of-type {\n",
       "        vertical-align: middle;\n",
       "    }\n",
       "\n",
       "    .dataframe tbody tr th {\n",
       "        vertical-align: top;\n",
       "    }\n",
       "\n",
       "    .dataframe thead th {\n",
       "        text-align: right;\n",
       "    }\n",
       "</style>\n",
       "<table border=\"1\" class=\"dataframe\">\n",
       "  <thead>\n",
       "    <tr style=\"text-align: right;\">\n",
       "      <th></th>\n",
       "      <th>beer_name</th>\n",
       "      <th>rating_global</th>\n",
       "    </tr>\n",
       "  </thead>\n",
       "  <tbody>\n",
       "    <tr>\n",
       "      <th>7</th>\n",
       "      <td>Alive In Its Jaws</td>\n",
       "      <td>4.28491</td>\n",
       "    </tr>\n",
       "    <tr>\n",
       "      <th>0</th>\n",
       "      <td>Logue</td>\n",
       "      <td>4.10604</td>\n",
       "    </tr>\n",
       "    <tr>\n",
       "      <th>8</th>\n",
       "      <td>Aldebaran (#65)</td>\n",
       "      <td>4.00521</td>\n",
       "    </tr>\n",
       "    <tr>\n",
       "      <th>6</th>\n",
       "      <td>Hazy IPA</td>\n",
       "      <td>3.87626</td>\n",
       "    </tr>\n",
       "    <tr>\n",
       "      <th>2</th>\n",
       "      <td>Weekend Juice NEIPA</td>\n",
       "      <td>3.74539</td>\n",
       "    </tr>\n",
       "    <tr>\n",
       "      <th>9</th>\n",
       "      <td>Hysteric IPA</td>\n",
       "      <td>3.74126</td>\n",
       "    </tr>\n",
       "    <tr>\n",
       "      <th>4</th>\n",
       "      <td>Limelight</td>\n",
       "      <td>3.67035</td>\n",
       "    </tr>\n",
       "    <tr>\n",
       "      <th>1</th>\n",
       "      <td>Coup De Grace</td>\n",
       "      <td>3.64394</td>\n",
       "    </tr>\n",
       "    <tr>\n",
       "      <th>3</th>\n",
       "      <td>Wagon Wheel</td>\n",
       "      <td>3.60677</td>\n",
       "    </tr>\n",
       "    <tr>\n",
       "      <th>5</th>\n",
       "      <td>Doug's Courage XPA</td>\n",
       "      <td>3.60528</td>\n",
       "    </tr>\n",
       "  </tbody>\n",
       "</table>\n",
       "</div>"
      ],
      "text/plain": [
       "             beer_name  rating_global\n",
       "7    Alive In Its Jaws        4.28491\n",
       "0                Logue        4.10604\n",
       "8      Aldebaran (#65)        4.00521\n",
       "6             Hazy IPA        3.87626\n",
       "2  Weekend Juice NEIPA        3.74539\n",
       "9         Hysteric IPA        3.74126\n",
       "4            Limelight        3.67035\n",
       "1        Coup De Grace        3.64394\n",
       "3          Wagon Wheel        3.60677\n",
       "5   Doug's Courage XPA        3.60528"
      ]
     },
     "execution_count": 74,
     "metadata": {},
     "output_type": "execute_result"
    }
   ],
   "source": [
    "t = tens.head(10)\n",
    "t.reset_index()[['beer_name', 'rating_global']].sort_values('rating_global', ascending=False)"
   ]
  },
  {
   "cell_type": "markdown",
   "metadata": {},
   "source": [
    "...and how the user rated them:"
   ]
  },
  {
   "cell_type": "code",
   "execution_count": 75,
   "metadata": {
    "collapsed": false
   },
   "outputs": [
    {
     "data": {
      "text/html": [
       "<div>\n",
       "<style scoped>\n",
       "    .dataframe tbody tr th:only-of-type {\n",
       "        vertical-align: middle;\n",
       "    }\n",
       "\n",
       "    .dataframe tbody tr th {\n",
       "        vertical-align: top;\n",
       "    }\n",
       "\n",
       "    .dataframe thead th {\n",
       "        text-align: right;\n",
       "    }\n",
       "</style>\n",
       "<table border=\"1\" class=\"dataframe\">\n",
       "  <thead>\n",
       "    <tr style=\"text-align: right;\">\n",
       "      <th></th>\n",
       "      <th>beer_name</th>\n",
       "      <th>rating_user</th>\n",
       "    </tr>\n",
       "  </thead>\n",
       "  <tbody>\n",
       "    <tr>\n",
       "      <th>0</th>\n",
       "      <td>Logue</td>\n",
       "      <td>3.75</td>\n",
       "    </tr>\n",
       "    <tr>\n",
       "      <th>7</th>\n",
       "      <td>Alive In Its Jaws</td>\n",
       "      <td>3.75</td>\n",
       "    </tr>\n",
       "    <tr>\n",
       "      <th>8</th>\n",
       "      <td>Aldebaran (#65)</td>\n",
       "      <td>3.75</td>\n",
       "    </tr>\n",
       "    <tr>\n",
       "      <th>1</th>\n",
       "      <td>Coup De Grace</td>\n",
       "      <td>3.50</td>\n",
       "    </tr>\n",
       "    <tr>\n",
       "      <th>4</th>\n",
       "      <td>Limelight</td>\n",
       "      <td>3.50</td>\n",
       "    </tr>\n",
       "    <tr>\n",
       "      <th>5</th>\n",
       "      <td>Doug's Courage XPA</td>\n",
       "      <td>3.50</td>\n",
       "    </tr>\n",
       "    <tr>\n",
       "      <th>6</th>\n",
       "      <td>Hazy IPA</td>\n",
       "      <td>3.50</td>\n",
       "    </tr>\n",
       "    <tr>\n",
       "      <th>9</th>\n",
       "      <td>Hysteric IPA</td>\n",
       "      <td>3.50</td>\n",
       "    </tr>\n",
       "    <tr>\n",
       "      <th>2</th>\n",
       "      <td>Weekend Juice NEIPA</td>\n",
       "      <td>3.25</td>\n",
       "    </tr>\n",
       "    <tr>\n",
       "      <th>3</th>\n",
       "      <td>Wagon Wheel</td>\n",
       "      <td>3.25</td>\n",
       "    </tr>\n",
       "  </tbody>\n",
       "</table>\n",
       "</div>"
      ],
      "text/plain": [
       "             beer_name  rating_user\n",
       "0                Logue         3.75\n",
       "7    Alive In Its Jaws         3.75\n",
       "8      Aldebaran (#65)         3.75\n",
       "1        Coup De Grace         3.50\n",
       "4            Limelight         3.50\n",
       "5   Doug's Courage XPA         3.50\n",
       "6             Hazy IPA         3.50\n",
       "9         Hysteric IPA         3.50\n",
       "2  Weekend Juice NEIPA         3.25\n",
       "3          Wagon Wheel         3.25"
      ]
     },
     "execution_count": 75,
     "metadata": {},
     "output_type": "execute_result"
    }
   ],
   "source": [
    "t.reset_index()[['beer_name', 'rating_user']].sort_values('rating_user', ascending=False)"
   ]
  },
  {
   "cell_type": "markdown",
   "metadata": {},
   "source": [
    "For this first user, the global mean works great:  The top 3 recommendations were the 3 the user ended up rating the highest.  This user would be happy to use this recommender again.  Before this user ever gets down to the 5th recommendation, the one that was tied for last in his actual ratings, he will hopefully have given the recommender some feedback (ratings) to make more informed decisions.  Also, a user in this situation very likely may repeat orders once he's happy with one or two, so the demands of such a recommender are different from, say, a book recommender.   Now let's see how this method works for all 413 users here. "
   ]
  },
  {
   "cell_type": "code",
   "execution_count": 76,
   "metadata": {
    "collapsed": true
   },
   "outputs": [],
   "source": [
    "import numpy as np"
   ]
  },
  {
   "cell_type": "code",
   "execution_count": 120,
   "metadata": {
    "collapsed": false
   },
   "outputs": [],
   "source": [
    "# make a func to deal with ties in rankings\n",
    "def untied_rank(arr, vals):\n",
    "    '''\n",
    "    Measure how well the input vals (list or np.array) has chosen\n",
    "    the top values of input arr (np.array). \n",
    "    vals must be subset of arr.\n",
    "    1.0 is perfect, 0.0 is worst.\n",
    "    '''\n",
    "    fails = 0\n",
    "    poss_fails = 0\n",
    "    ordered = np.sort(arr)\n",
    "    if max(ordered) == min(ordered): return 0.5  # like guessing, if all equal\n",
    "    for i in range(len(vals)):\n",
    "        fails += sum(arr > vals[i])\n",
    "        arr = np.delete(arr, np.where(arr == vals[i])[0][0])\n",
    "        poss_fails += sum(ordered > ordered[i])\n",
    "    \n",
    "    return 1 - fails / poss_fails\n",
    "    "
   ]
  },
  {
   "cell_type": "code",
   "execution_count": 78,
   "metadata": {
    "collapsed": false
   },
   "outputs": [
    {
     "data": {
      "text/plain": [
       "1.0"
      ]
     },
     "execution_count": 78,
     "metadata": {},
     "output_type": "execute_result"
    }
   ],
   "source": [
    "# The perfect rankings for the first user, above\n",
    "untied_rank(t.rating_user.values, t.rating_user.values[np.argsort(t.rating_global.values)[:-4:-1]])"
   ]
  },
  {
   "cell_type": "code",
   "execution_count": 79,
   "metadata": {
    "collapsed": false
   },
   "outputs": [
    {
     "name": "stdout",
     "output_type": "stream",
     "text": [
      "The average score picking the top 3 globally rated for 413 \"menus\":  0.7535366940665592\n"
     ]
    }
   ],
   "source": [
    "scores = []\n",
    "for u in tens.index.unique():\n",
    "    uten = tens.loc[u, ['rating_user','rating_global']]\n",
    "    scores.append(untied_rank(uten.rating_user.values, \n",
    "                              uten.rating_user.values[np.argsort(uten.rating_global.values)[:-4:-1]]))\n",
    "print(f'The average score picking the top 3 globally rated for 413 \"menus\":  {np.mean(scores)}')"
   ]
  },
  {
   "cell_type": "markdown",
   "metadata": {},
   "source": [
    "Let's see what a .75 score looks like for one user:"
   ]
  },
  {
   "cell_type": "code",
   "execution_count": 80,
   "metadata": {
    "collapsed": false
   },
   "outputs": [
    {
     "data": {
      "text/plain": [
       "0.75"
      ]
     },
     "execution_count": 80,
     "metadata": {},
     "output_type": "execute_result"
    }
   ],
   "source": [
    "scores[36]"
   ]
  },
  {
   "cell_type": "markdown",
   "metadata": {},
   "source": [
    "The global rankings/recommendations for that user:"
   ]
  },
  {
   "cell_type": "code",
   "execution_count": 81,
   "metadata": {
    "collapsed": false
   },
   "outputs": [
    {
     "data": {
      "text/html": [
       "<div>\n",
       "<style scoped>\n",
       "    .dataframe tbody tr th:only-of-type {\n",
       "        vertical-align: middle;\n",
       "    }\n",
       "\n",
       "    .dataframe tbody tr th {\n",
       "        vertical-align: top;\n",
       "    }\n",
       "\n",
       "    .dataframe thead th {\n",
       "        text-align: right;\n",
       "    }\n",
       "</style>\n",
       "<table border=\"1\" class=\"dataframe\">\n",
       "  <thead>\n",
       "    <tr style=\"text-align: right;\">\n",
       "      <th></th>\n",
       "      <th>beer_name</th>\n",
       "      <th>rating_global</th>\n",
       "    </tr>\n",
       "  </thead>\n",
       "  <tbody>\n",
       "    <tr>\n",
       "      <th>5</th>\n",
       "      <td>Cone Wars: Idaho 7 Fresh Hop IPA</td>\n",
       "      <td>4.03846</td>\n",
       "    </tr>\n",
       "    <tr>\n",
       "      <th>0</th>\n",
       "      <td>Wicked Haze</td>\n",
       "      <td>3.91730</td>\n",
       "    </tr>\n",
       "    <tr>\n",
       "      <th>9</th>\n",
       "      <td>The Emergent IPA</td>\n",
       "      <td>3.91379</td>\n",
       "    </tr>\n",
       "    <tr>\n",
       "      <th>1</th>\n",
       "      <td>Melon Rye IIIPA</td>\n",
       "      <td>3.90668</td>\n",
       "    </tr>\n",
       "    <tr>\n",
       "      <th>6</th>\n",
       "      <td>Citra IPA</td>\n",
       "      <td>3.81579</td>\n",
       "    </tr>\n",
       "    <tr>\n",
       "      <th>3</th>\n",
       "      <td>Humulus Unum Amarillo</td>\n",
       "      <td>3.77632</td>\n",
       "    </tr>\n",
       "    <tr>\n",
       "      <th>4</th>\n",
       "      <td>Capo Blood Orange IPA</td>\n",
       "      <td>3.71512</td>\n",
       "    </tr>\n",
       "    <tr>\n",
       "      <th>2</th>\n",
       "      <td>Fraud Alert</td>\n",
       "      <td>3.62619</td>\n",
       "    </tr>\n",
       "    <tr>\n",
       "      <th>7</th>\n",
       "      <td>Hophoria IPA</td>\n",
       "      <td>3.58289</td>\n",
       "    </tr>\n",
       "    <tr>\n",
       "      <th>8</th>\n",
       "      <td>Bullseye Pale Ale</td>\n",
       "      <td>3.57362</td>\n",
       "    </tr>\n",
       "  </tbody>\n",
       "</table>\n",
       "</div>"
      ],
      "text/plain": [
       "                          beer_name  rating_global\n",
       "5  Cone Wars: Idaho 7 Fresh Hop IPA        4.03846\n",
       "0                       Wicked Haze        3.91730\n",
       "9                  The Emergent IPA        3.91379\n",
       "1                   Melon Rye IIIPA        3.90668\n",
       "6                         Citra IPA        3.81579\n",
       "3             Humulus Unum Amarillo        3.77632\n",
       "4             Capo Blood Orange IPA        3.71512\n",
       "2                       Fraud Alert        3.62619\n",
       "7                      Hophoria IPA        3.58289\n",
       "8                 Bullseye Pale Ale        3.57362"
      ]
     },
     "execution_count": 81,
     "metadata": {},
     "output_type": "execute_result"
    }
   ],
   "source": [
    "t = tens.iloc[360:370, :]\n",
    "t.reset_index()[['beer_name', 'rating_global']].sort_values('rating_global', ascending=False)"
   ]
  },
  {
   "cell_type": "markdown",
   "metadata": {},
   "source": [
    "...and actual ratings:"
   ]
  },
  {
   "cell_type": "code",
   "execution_count": 82,
   "metadata": {
    "collapsed": false
   },
   "outputs": [
    {
     "data": {
      "text/html": [
       "<div>\n",
       "<style scoped>\n",
       "    .dataframe tbody tr th:only-of-type {\n",
       "        vertical-align: middle;\n",
       "    }\n",
       "\n",
       "    .dataframe tbody tr th {\n",
       "        vertical-align: top;\n",
       "    }\n",
       "\n",
       "    .dataframe thead th {\n",
       "        text-align: right;\n",
       "    }\n",
       "</style>\n",
       "<table border=\"1\" class=\"dataframe\">\n",
       "  <thead>\n",
       "    <tr style=\"text-align: right;\">\n",
       "      <th></th>\n",
       "      <th>beer_name</th>\n",
       "      <th>rating_user</th>\n",
       "    </tr>\n",
       "  </thead>\n",
       "  <tbody>\n",
       "    <tr>\n",
       "      <th>0</th>\n",
       "      <td>Wicked Haze</td>\n",
       "      <td>4.25</td>\n",
       "    </tr>\n",
       "    <tr>\n",
       "      <th>5</th>\n",
       "      <td>Cone Wars: Idaho 7 Fresh Hop IPA</td>\n",
       "      <td>4.00</td>\n",
       "    </tr>\n",
       "    <tr>\n",
       "      <th>1</th>\n",
       "      <td>Melon Rye IIIPA</td>\n",
       "      <td>3.75</td>\n",
       "    </tr>\n",
       "    <tr>\n",
       "      <th>6</th>\n",
       "      <td>Citra IPA</td>\n",
       "      <td>3.75</td>\n",
       "    </tr>\n",
       "    <tr>\n",
       "      <th>2</th>\n",
       "      <td>Fraud Alert</td>\n",
       "      <td>3.50</td>\n",
       "    </tr>\n",
       "    <tr>\n",
       "      <th>3</th>\n",
       "      <td>Humulus Unum Amarillo</td>\n",
       "      <td>3.50</td>\n",
       "    </tr>\n",
       "    <tr>\n",
       "      <th>4</th>\n",
       "      <td>Capo Blood Orange IPA</td>\n",
       "      <td>3.50</td>\n",
       "    </tr>\n",
       "    <tr>\n",
       "      <th>7</th>\n",
       "      <td>Hophoria IPA</td>\n",
       "      <td>3.50</td>\n",
       "    </tr>\n",
       "    <tr>\n",
       "      <th>8</th>\n",
       "      <td>Bullseye Pale Ale</td>\n",
       "      <td>3.50</td>\n",
       "    </tr>\n",
       "    <tr>\n",
       "      <th>9</th>\n",
       "      <td>The Emergent IPA</td>\n",
       "      <td>3.50</td>\n",
       "    </tr>\n",
       "  </tbody>\n",
       "</table>\n",
       "</div>"
      ],
      "text/plain": [
       "                          beer_name  rating_user\n",
       "0                       Wicked Haze         4.25\n",
       "5  Cone Wars: Idaho 7 Fresh Hop IPA         4.00\n",
       "1                   Melon Rye IIIPA         3.75\n",
       "6                         Citra IPA         3.75\n",
       "2                       Fraud Alert         3.50\n",
       "3             Humulus Unum Amarillo         3.50\n",
       "4             Capo Blood Orange IPA         3.50\n",
       "7                      Hophoria IPA         3.50\n",
       "8                 Bullseye Pale Ale         3.50\n",
       "9                  The Emergent IPA         3.50"
      ]
     },
     "execution_count": 82,
     "metadata": {},
     "output_type": "execute_result"
    }
   ],
   "source": [
    "t.reset_index()[['beer_name', 'rating_user']].sort_values('rating_user', ascending=False)"
   ]
  },
  {
   "cell_type": "markdown",
   "metadata": {},
   "source": [
    "That's good recommendations:  The top 2 came in second and first, and the 3rd rec was actually tied for 5th"
   ]
  },
  {
   "cell_type": "markdown",
   "metadata": {},
   "source": [
    "The worst-case scenario for this recommender method is when a user rates everything pretty equally, and the high global rating beers are unlikely to be picked out from the others by this user.  An example is this user whose ratings score 0.0 by this system:"
   ]
  },
  {
   "cell_type": "code",
   "execution_count": 83,
   "metadata": {
    "collapsed": false
   },
   "outputs": [
    {
     "data": {
      "text/html": [
       "<div>\n",
       "<style scoped>\n",
       "    .dataframe tbody tr th:only-of-type {\n",
       "        vertical-align: middle;\n",
       "    }\n",
       "\n",
       "    .dataframe tbody tr th {\n",
       "        vertical-align: top;\n",
       "    }\n",
       "\n",
       "    .dataframe thead th {\n",
       "        text-align: right;\n",
       "    }\n",
       "</style>\n",
       "<table border=\"1\" class=\"dataframe\">\n",
       "  <thead>\n",
       "    <tr style=\"text-align: right;\">\n",
       "      <th></th>\n",
       "      <th>beer_name</th>\n",
       "      <th>rating_global</th>\n",
       "    </tr>\n",
       "  </thead>\n",
       "  <tbody>\n",
       "    <tr>\n",
       "      <th>6</th>\n",
       "      <td>Peconic Project</td>\n",
       "      <td>4.07962</td>\n",
       "    </tr>\n",
       "    <tr>\n",
       "      <th>7</th>\n",
       "      <td>Wicked Smaht</td>\n",
       "      <td>3.97449</td>\n",
       "    </tr>\n",
       "    <tr>\n",
       "      <th>1</th>\n",
       "      <td>DJ Night</td>\n",
       "      <td>3.80664</td>\n",
       "    </tr>\n",
       "    <tr>\n",
       "      <th>3</th>\n",
       "      <td>Sigint</td>\n",
       "      <td>3.70455</td>\n",
       "    </tr>\n",
       "    <tr>\n",
       "      <th>9</th>\n",
       "      <td>Citralization</td>\n",
       "      <td>3.70051</td>\n",
       "    </tr>\n",
       "    <tr>\n",
       "      <th>5</th>\n",
       "      <td>Go Bigg Or Go Home IPA</td>\n",
       "      <td>3.66873</td>\n",
       "    </tr>\n",
       "    <tr>\n",
       "      <th>8</th>\n",
       "      <td>Smilin' Mike</td>\n",
       "      <td>3.62981</td>\n",
       "    </tr>\n",
       "    <tr>\n",
       "      <th>4</th>\n",
       "      <td>Useful Idiot</td>\n",
       "      <td>3.59771</td>\n",
       "    </tr>\n",
       "    <tr>\n",
       "      <th>2</th>\n",
       "      <td>Daayani</td>\n",
       "      <td>3.59000</td>\n",
       "    </tr>\n",
       "    <tr>\n",
       "      <th>0</th>\n",
       "      <td>West Coast IPA</td>\n",
       "      <td>3.56235</td>\n",
       "    </tr>\n",
       "  </tbody>\n",
       "</table>\n",
       "</div>"
      ],
      "text/plain": [
       "                beer_name  rating_global\n",
       "6         Peconic Project        4.07962\n",
       "7            Wicked Smaht        3.97449\n",
       "1                DJ Night        3.80664\n",
       "3                  Sigint        3.70455\n",
       "9           Citralization        3.70051\n",
       "5  Go Bigg Or Go Home IPA        3.66873\n",
       "8            Smilin' Mike        3.62981\n",
       "4           Useful Idiot         3.59771\n",
       "2                 Daayani        3.59000\n",
       "0          West Coast IPA        3.56235"
      ]
     },
     "execution_count": 83,
     "metadata": {},
     "output_type": "execute_result"
    }
   ],
   "source": [
    "t = tens.iloc[90:100, :]\n",
    "t.reset_index()[['beer_name', 'rating_global']].sort_values('rating_global', ascending=False)"
   ]
  },
  {
   "cell_type": "markdown",
   "metadata": {},
   "source": [
    "...and how this user made the recommender look horrible:"
   ]
  },
  {
   "cell_type": "code",
   "execution_count": 84,
   "metadata": {
    "collapsed": false
   },
   "outputs": [
    {
     "data": {
      "text/html": [
       "<div>\n",
       "<style scoped>\n",
       "    .dataframe tbody tr th:only-of-type {\n",
       "        vertical-align: middle;\n",
       "    }\n",
       "\n",
       "    .dataframe tbody tr th {\n",
       "        vertical-align: top;\n",
       "    }\n",
       "\n",
       "    .dataframe thead th {\n",
       "        text-align: right;\n",
       "    }\n",
       "</style>\n",
       "<table border=\"1\" class=\"dataframe\">\n",
       "  <thead>\n",
       "    <tr style=\"text-align: right;\">\n",
       "      <th></th>\n",
       "      <th>beer_name</th>\n",
       "      <th>rating_user</th>\n",
       "    </tr>\n",
       "  </thead>\n",
       "  <tbody>\n",
       "    <tr>\n",
       "      <th>4</th>\n",
       "      <td>Useful Idiot</td>\n",
       "      <td>4.50</td>\n",
       "    </tr>\n",
       "    <tr>\n",
       "      <th>5</th>\n",
       "      <td>Go Bigg Or Go Home IPA</td>\n",
       "      <td>4.25</td>\n",
       "    </tr>\n",
       "    <tr>\n",
       "      <th>0</th>\n",
       "      <td>West Coast IPA</td>\n",
       "      <td>4.00</td>\n",
       "    </tr>\n",
       "    <tr>\n",
       "      <th>1</th>\n",
       "      <td>DJ Night</td>\n",
       "      <td>4.00</td>\n",
       "    </tr>\n",
       "    <tr>\n",
       "      <th>2</th>\n",
       "      <td>Daayani</td>\n",
       "      <td>4.00</td>\n",
       "    </tr>\n",
       "    <tr>\n",
       "      <th>3</th>\n",
       "      <td>Sigint</td>\n",
       "      <td>4.00</td>\n",
       "    </tr>\n",
       "    <tr>\n",
       "      <th>6</th>\n",
       "      <td>Peconic Project</td>\n",
       "      <td>4.00</td>\n",
       "    </tr>\n",
       "    <tr>\n",
       "      <th>7</th>\n",
       "      <td>Wicked Smaht</td>\n",
       "      <td>4.00</td>\n",
       "    </tr>\n",
       "    <tr>\n",
       "      <th>8</th>\n",
       "      <td>Smilin' Mike</td>\n",
       "      <td>4.00</td>\n",
       "    </tr>\n",
       "    <tr>\n",
       "      <th>9</th>\n",
       "      <td>Citralization</td>\n",
       "      <td>4.00</td>\n",
       "    </tr>\n",
       "  </tbody>\n",
       "</table>\n",
       "</div>"
      ],
      "text/plain": [
       "                beer_name  rating_user\n",
       "4           Useful Idiot          4.50\n",
       "5  Go Bigg Or Go Home IPA         4.25\n",
       "0          West Coast IPA         4.00\n",
       "1                DJ Night         4.00\n",
       "2                 Daayani         4.00\n",
       "3                  Sigint         4.00\n",
       "6         Peconic Project         4.00\n",
       "7            Wicked Smaht         4.00\n",
       "8            Smilin' Mike         4.00\n",
       "9           Citralization         4.00"
      ]
     },
     "execution_count": 84,
     "metadata": {},
     "output_type": "execute_result"
    }
   ],
   "source": [
    "t.reset_index()[['beer_name', 'rating_user']].sort_values('rating_user', ascending=False)"
   ]
  },
  {
   "cell_type": "markdown",
   "metadata": {},
   "source": [
    "The recommender's top 3 picks actually all tied for 3rd in the user's ratings...and for last."
   ]
  },
  {
   "cell_type": "markdown",
   "metadata": {},
   "source": [
    "Before moving on, here's how the same system does for picking top 1 to top 10:"
   ]
  },
  {
   "cell_type": "code",
   "execution_count": 85,
   "metadata": {
    "collapsed": true
   },
   "outputs": [],
   "source": [
    "allscores = []\n",
    "for x in range(2,12):\n",
    "    scores = []\n",
    "    for u in tens.index.unique():\n",
    "        uten = tens.loc[u, ['rating_user','rating_global']]\n",
    "        scores.append(untied_rank(uten.rating_user.values, \n",
    "                    uten.rating_user.values[np.argsort(uten.rating_global.values)[:-x:-1]]))\n",
    "    allscores.append(np.mean(scores))"
   ]
  },
  {
   "cell_type": "code",
   "execution_count": 19,
   "metadata": {
    "collapsed": true
   },
   "outputs": [],
   "source": [
    "import matplotlib.pyplot as plt\n",
    "%matplotlib inline"
   ]
  },
  {
   "cell_type": "code",
   "execution_count": 87,
   "metadata": {
    "collapsed": false
   },
   "outputs": [
    {
     "data": {
      "image/png": "[encoded data removed]",
      "text/plain": [
       "<matplotlib.figure.Figure at 0x1a4ca592b0>"
      ]
     },
     "metadata": {},
     "output_type": "display_data"
    }
   ],
   "source": [
    "plt.plot(range(1,11), allscores, color='darkgreen')\n",
    "plt.title('Recommender accuracy when picking the top rated beers')\n",
    "plt.xlabel('Number of items recommended out of ten')\n",
    "plt.ylabel('Accuracy');"
   ]
  },
  {
   "cell_type": "markdown",
   "metadata": {},
   "source": [
    "Sanity check that random picks score about 0.5 ---"
   ]
  },
  {
   "cell_type": "code",
   "execution_count": 88,
   "metadata": {
    "collapsed": false
   },
   "outputs": [
    {
     "name": "stdout",
     "output_type": "stream",
     "text": [
      "Accuracy for randomly choosing 3 beers off the menu: 0.5375422929235585\n"
     ]
    }
   ],
   "source": [
    "scores = []\n",
    "for u in tens.index.unique():\n",
    "    uten = tens.loc[u, ['rating_user','rating_global']]\n",
    "    scores.append(untied_rank(uten.rating_user.values, \n",
    "                    uten.rating_user.values[np.random.permutation(range(10))[:3]]))\n",
    "print(f'Accuracy for randomly choosing 3 beers off the menu: {np.mean(scores)}')"
   ]
  },
  {
   "cell_type": "markdown",
   "metadata": {},
   "source": [
    "#### Now what about if we don't even have any global ratings for a beer?  This could be for a new beer, or maybe a brewer is trying to figure out what beer to brew in order to get good ratings.  "
   ]
  },
  {
   "cell_type": "markdown",
   "metadata": {},
   "source": [
    "Our main weapons here will be the one numerical feature that tends to correlate to ratings most, and the words comprising the brewery name, the beer name, and the beer description, as provided by the brewery.  The numerical feature is the alcohol by volume (abv) and we'll train a Linear Regressor on that plus a binary vector encoding of the words we have for each beer."
   ]
  },
  {
   "cell_type": "code",
   "execution_count": 20,
   "metadata": {
    "collapsed": true
   },
   "outputs": [],
   "source": [
    "from sklearn.feature_extraction.text import CountVectorizer\n",
    "from sklearn.linear_model import SGDRegressor"
   ]
  },
  {
   "cell_type": "markdown",
   "metadata": {},
   "source": [
    "I set the `max_df` threshold (the highest ratio of descriptions a word can appear in before it is dropped for being considered not informative enough to keep making noise) to 0.17 -- That was the divider that just barely keeps 'hop' and 'dry' but not 'brewed' and 'ale'.  \n",
    "I also made the term vectors binary, since the goal is to identify keywords that correlate to ratings, not to classify the text as belonging to some category.  This makes the relative importance of the words easier to interpret after training, too.  If the word \"hoppy\" appears 3 times in one description, it doesn't seem like it should drive down the word's weight for all the beers whose descriptions have it only once."
   ]
  },
  {
   "cell_type": "code",
   "execution_count": 54,
   "metadata": {
    "collapsed": true
   },
   "outputs": [],
   "source": [
    "# Add the beer and brewery names to the description\n",
    "checkins['beer_description'] = checkins.brewery_name + ' ' + checkins.beer_name + ' ' + checkins.beer_description"
   ]
  },
  {
   "cell_type": "code",
   "execution_count": 22,
   "metadata": {
    "collapsed": false
   },
   "outputs": [
    {
     "data": {
      "text/html": [
       "<div>\n",
       "<style scoped>\n",
       "    .dataframe tbody tr th:only-of-type {\n",
       "        vertical-align: middle;\n",
       "    }\n",
       "\n",
       "    .dataframe tbody tr th {\n",
       "        vertical-align: top;\n",
       "    }\n",
       "\n",
       "    .dataframe thead th {\n",
       "        text-align: right;\n",
       "    }\n",
       "</style>\n",
       "<table border=\"1\" class=\"dataframe\">\n",
       "  <thead>\n",
       "    <tr style=\"text-align: right;\">\n",
       "      <th></th>\n",
       "      <th>checkin_id</th>\n",
       "      <th>beer_id</th>\n",
       "      <th>user_id</th>\n",
       "      <th>rating_user</th>\n",
       "      <th>brewery_name</th>\n",
       "      <th>beer_name</th>\n",
       "      <th>beer_style</th>\n",
       "      <th>rating_global</th>\n",
       "      <th>abv</th>\n",
       "      <th>beer_description</th>\n",
       "    </tr>\n",
       "  </thead>\n",
       "  <tbody>\n",
       "    <tr>\n",
       "      <th>0</th>\n",
       "      <td>821797539</td>\n",
       "      <td>2095023</td>\n",
       "      <td>3340203</td>\n",
       "      <td>3.75</td>\n",
       "      <td>Stone Brewing</td>\n",
       "      <td>Stone Scorpion Bowl IPA</td>\n",
       "      <td>IPA - American</td>\n",
       "      <td>3.73789</td>\n",
       "      <td>7.5</td>\n",
       "      <td>Stone Brewing Stone Scorpion Bowl IPA To creat...</td>\n",
       "    </tr>\n",
       "  </tbody>\n",
       "</table>\n",
       "</div>"
      ],
      "text/plain": [
       "   checkin_id  beer_id  user_id  rating_user   brewery_name  \\\n",
       "0   821797539  2095023  3340203         3.75  Stone Brewing   \n",
       "\n",
       "                 beer_name      beer_style  rating_global  abv  \\\n",
       "0  Stone Scorpion Bowl IPA  IPA - American        3.73789  7.5   \n",
       "\n",
       "                                    beer_description  \n",
       "0  Stone Brewing Stone Scorpion Bowl IPA To creat...  "
      ]
     },
     "execution_count": 22,
     "metadata": {},
     "output_type": "execute_result"
    }
   ],
   "source": [
    "checkins.head(1)"
   ]
  },
  {
   "cell_type": "code",
   "execution_count": 55,
   "metadata": {
    "collapsed": false
   },
   "outputs": [
    {
     "data": {
      "text/plain": [
       "(86997, 2)"
      ]
     },
     "execution_count": 55,
     "metadata": {},
     "output_type": "execute_result"
    }
   ],
   "source": [
    "# vectorize just one of each beer description, to not skew document frequency\n",
    "uniqs = checkins[['beer_id', 'beer_description']].drop_duplicates(subset=['beer_id'])\n",
    "uniqs.shape"
   ]
  },
  {
   "cell_type": "code",
   "execution_count": 57,
   "metadata": {
    "collapsed": false
   },
   "outputs": [
    {
     "data": {
      "text/plain": [
       "(86997, 20125)"
      ]
     },
     "execution_count": 57,
     "metadata": {},
     "output_type": "execute_result"
    }
   ],
   "source": [
    "cv = CountVectorizer(stop_words='english', min_df=5, max_df=0.17, binary=True)\n",
    "vecs = cv.fit_transform(uniqs.beer_description)\n",
    "vecs.shape"
   ]
  },
  {
   "cell_type": "markdown",
   "metadata": {},
   "source": [
    "Now we're dealing with sparse matrices, so we'll need some scipy help"
   ]
  },
  {
   "cell_type": "code",
   "execution_count": 58,
   "metadata": {
    "collapsed": false
   },
   "outputs": [],
   "source": [
    "import numpy as np\n",
    "from scipy.sparse import csr_matrix, hstack\n",
    "# get the abv and global mean for each unique beer, to align with the term vectors for training\n",
    "uniqs['abv'] = uniqs.beer_id.map(checkins.groupby('beer_id')['abv'].mean())\n",
    "uniqs['rating_global'] = uniqs.beer_id.map(checkins.groupby('beer_id')['rating_global'].mean())\n",
    "# tack the abvs onto the vecs, after scaling them down to around the binary 1's\n",
    "vecs = hstack([vecs, uniqs.abv.values[:, np.newaxis] / 5.0])  # need the new axis for hstack\n",
    "vecs = csr_matrix(vecs)"
   ]
  },
  {
   "cell_type": "code",
   "execution_count": 59,
   "metadata": {
    "collapsed": false
   },
   "outputs": [
    {
     "data": {
      "text/plain": [
       "(86997, 20126)"
      ]
     },
     "execution_count": 59,
     "metadata": {},
     "output_type": "execute_result"
    }
   ],
   "source": [
    "vecs.shape"
   ]
  },
  {
   "cell_type": "markdown",
   "metadata": {},
   "source": [
    "Let's take a quick look at how the global ratings are distributed, just to know how random guessing would do for predicting ratings for a new beer:"
   ]
  },
  {
   "cell_type": "code",
   "execution_count": 60,
   "metadata": {
    "collapsed": false
   },
   "outputs": [
    {
     "data": {
      "image/png": "[encoded data removed]",
      "text/plain": [
       "<matplotlib.figure.Figure at 0x1a4095f630>"
      ]
     },
     "metadata": {},
     "output_type": "display_data"
    }
   ],
   "source": [
    "# ignore the couple of ratings that are outliers to the downside, for clarity in the chart\n",
    "uniqs[uniqs.rating_global > 2.4].rating_global.plot(kind='hist', bins=20, color='darkgreen')\n",
    "plt.xlabel('global mean rating by beer')\n",
    "plt.ylabel('count');"
   ]
  },
  {
   "cell_type": "markdown",
   "metadata": {},
   "source": [
    "That's a normal distribution leaning a little bit left for whatever reason.  \n",
    "The standard deviation should be a pretty good indicator of RMSE:"
   ]
  },
  {
   "cell_type": "code",
   "execution_count": 61,
   "metadata": {
    "collapsed": false
   },
   "outputs": [
    {
     "name": "stdout",
     "output_type": "stream",
     "text": [
      "standard deviation of the first ratings: 0.27696707500917545\n",
      "RMSE of the test batch: 0.28859394608494804\n"
     ]
    }
   ],
   "source": [
    "# shuffle the ratings\n",
    "globmeans = np.random.permutation(uniqs.rating_global.values)\n",
    "# Calculate the mean of all but 1000 beers\n",
    "head = globmeans[:-1000]\n",
    "tail = globmeans[-1000:]\n",
    "meanhead = np.mean(head)\n",
    "# See how far each of the final 1000 is from that mean\n",
    "devs = tail - meanhead\n",
    "# Get the RMSE of those estimates\n",
    "sumsqerr = np.dot(devs, devs)\n",
    "rmse = np.sqrt(sumsqerr / len(devs))\n",
    "print(f'standard deviation of the first ratings: {np.std(head)}')\n",
    "print(f'RMSE of the test batch: {rmse}')"
   ]
  },
  {
   "cell_type": "markdown",
   "metadata": {},
   "source": [
    "So that's kind of a baseline goal to beat, and we'll see how much better a Regressor can do."
   ]
  },
  {
   "cell_type": "markdown",
   "metadata": {},
   "source": [
    "We've fit a Vectorizer to all words and added abvs/5, but we'll only train on some of them, and then test on the rest.  \n",
    "So we need to split off the test group now.  \n",
    "To the tens group from before, we'll add the elevens, for more numbers.  We can test the Regression on their global means and then see how recommendations based on the model's predictions do with our custom accuracy score from before.  Most likely, the model will fare halfway between random choices and known global means."
   ]
  },
  {
   "cell_type": "code",
   "execution_count": 62,
   "metadata": {
    "collapsed": false
   },
   "outputs": [],
   "source": [
    "testers = checkins[(checkins.user_id.map(usercounts) == 10) | \n",
    "                   (checkins.user_id.map(usercounts) == 11)].set_index('user_id').sort_index()"
   ]
  },
  {
   "cell_type": "code",
   "execution_count": 63,
   "metadata": {
    "collapsed": false
   },
   "outputs": [
    {
     "data": {
      "text/plain": [
       "6758"
      ]
     },
     "execution_count": 63,
     "metadata": {},
     "output_type": "execute_result"
    }
   ],
   "source": [
    "len(testers)"
   ]
  },
  {
   "cell_type": "markdown",
   "metadata": {},
   "source": [
    "We're just using the unique term vectors to train and test on, so now is the time to split off all the beers that these tens and elevens have rated."
   ]
  },
  {
   "cell_type": "code",
   "execution_count": 64,
   "metadata": {
    "collapsed": true
   },
   "outputs": [],
   "source": [
    "testIDs = set(testers.beer_id)"
   ]
  },
  {
   "cell_type": "code",
   "execution_count": 65,
   "metadata": {
    "collapsed": false
   },
   "outputs": [
    {
     "data": {
      "text/plain": [
       "(4512, 4)"
      ]
     },
     "execution_count": 65,
     "metadata": {},
     "output_type": "execute_result"
    }
   ],
   "source": [
    "testbeers = uniqs[uniqs.beer_id.apply(lambda id: id in testIDs)]\n",
    "testbeers.shape"
   ]
  },
  {
   "cell_type": "code",
   "execution_count": 126,
   "metadata": {
    "collapsed": false
   },
   "outputs": [
    {
     "data": {
      "text/plain": [
       "(82485, 5)"
      ]
     },
     "execution_count": 126,
     "metadata": {},
     "output_type": "execute_result"
    }
   ],
   "source": [
    "trainbeers = uniqs[uniqs.beer_id.apply(lambda id: id not in testIDs)]\n",
    "trainbeers.shape"
   ]
  },
  {
   "cell_type": "code",
   "execution_count": 67,
   "metadata": {
    "collapsed": true
   },
   "outputs": [],
   "source": [
    "# the vecs sparse array is struggling to split into train and test based on the above boolean array, so plan B:\n",
    "uniqs.reset_index(inplace=True)\n",
    "# now with integer range as index, the uniqs/vecs index can be looked up for each beer_id\n",
    "beer_id_to_vecs_index = dict(zip(uniqs.beer_id, uniqs.index))"
   ]
  },
  {
   "cell_type": "code",
   "execution_count": 68,
   "metadata": {
    "collapsed": false
   },
   "outputs": [],
   "source": [
    "vi_test = testbeers.beer_id.map(beer_id_to_vecs_index)\n",
    "vi_train = trainbeers.beer_id.map(beer_id_to_vecs_index)"
   ]
  },
  {
   "cell_type": "code",
   "execution_count": 69,
   "metadata": {
    "collapsed": false
   },
   "outputs": [],
   "source": [
    "trainX = vecs.toarray()[vi_train, :]\n",
    "testX = vecs.toarray()[vi_test, :]"
   ]
  },
  {
   "cell_type": "code",
   "execution_count": 70,
   "metadata": {
    "collapsed": false
   },
   "outputs": [
    {
     "name": "stdout",
     "output_type": "stream",
     "text": [
      "82485 training beers and 4512 test beers\n"
     ]
    }
   ],
   "source": [
    "trainY = trainbeers.rating_global\n",
    "testY = testbeers.rating_global\n",
    "print(f'{len(trainY)} training beers and {len(testY)} test beers')"
   ]
  },
  {
   "cell_type": "code",
   "execution_count": 71,
   "metadata": {
    "collapsed": false
   },
   "outputs": [
    {
     "name": "stdout",
     "output_type": "stream",
     "text": [
      "0.186884579753\n"
     ]
    }
   ],
   "source": [
    "sgd = SGDRegressor(penalty='elasticnet', random_state=0, max_iter=1000, tol=1e-5, l1_ratio=0.05)\n",
    "sgd.fit(csr_matrix(trainX), trainY)\n",
    "\n",
    "preds = sgd.predict(testX)\n",
    "diffs = preds - testY\n",
    "sumsq = np.dot(diffs, diffs)\n",
    "rmse = np.sqrt(sumsq / len(diffs))\n",
    "print(rmse)"
   ]
  },
  {
   "cell_type": "markdown",
   "metadata": {
    "collapsed": true
   },
   "source": [
    "That's a pretty good improvement from just guessing.  Let's see what words were important, and how much abv mattered."
   ]
  },
  {
   "cell_type": "code",
   "execution_count": 72,
   "metadata": {
    "collapsed": false
   },
   "outputs": [
    {
     "data": {
      "text/plain": [
       "[(17221, 0.49889203139389737),\n",
       " (20125, 0.4908122917411909),\n",
       " (3168, 0.4756940830915134),\n",
       " (6778, 0.40438668270821654),\n",
       " (3311, 0.35437751696473313),\n",
       " (12910, -0.31102274863085988),\n",
       " (16367, 0.29390633837310437),\n",
       " (3402, 0.29171934443630182),\n",
       " (14153, 0.27828672038823088),\n",
       " (15334, 0.27781210476798512),\n",
       " (4512, 0.26770993350650546)]"
      ]
     },
     "execution_count": 72,
     "metadata": {},
     "output_type": "execute_result"
    }
   ],
   "source": [
    "influencers = sorted(enumerate(sgd.coef_), key=lambda x: abs(x[1]), reverse=True)\n",
    "influencers[:11]"
   ]
  },
  {
   "cell_type": "markdown",
   "metadata": {},
   "source": [
    "Mostly positive weightings, and abv looks like the second on the list (20126 features after tacking on abv)."
   ]
  },
  {
   "cell_type": "code",
   "execution_count": 76,
   "metadata": {
    "collapsed": true
   },
   "outputs": [],
   "source": [
    "def plot_influencers(countvec, sorted_weights, start_idx, count):\n",
    "    plt.figure(figsize=(12, 6))\n",
    "    plt.bar(np.arange(count), [(i[1]) for i in sorted_weights[start_idx:start_idx+count]],\n",
    "            color='k', label='Word Weighting')\n",
    "    plt.xticks(np.arange(count), \n",
    "               [countvec.get_feature_names()[i[0]] if i[0]\n",
    "                != len(sorted_weights)-1 else 'ABV' \n",
    "                for i in sorted_weights[start_idx:start_idx+count]],\n",
    "                rotation=90, fontsize=14)\n",
    "    plt.axhline(0, color='k')\n",
    "    plt.ylabel('coefficient')\n",
    "    plt.tight_layout()\n",
    "    plt.savefig('influencers.png')\n",
    "    plt.show()"
   ]
  },
  {
   "cell_type": "code",
   "execution_count": 77,
   "metadata": {
    "collapsed": false
   },
   "outputs": [
    {
     "data": {
      "image/png": "[encoded data removed]",
      "text/plain": [
       "<matplotlib.figure.Figure at 0x119afb1d0>"
      ]
     },
     "metadata": {},
     "output_type": "display_data"
    }
   ],
   "source": [
    "plot_influencers(cv, influencers, 0, 30)"
   ]
  },
  {
   "cell_type": "markdown",
   "metadata": {},
   "source": [
    "Mostly brewery names and abv dominating the weights."
   ]
  },
  {
   "cell_type": "code",
   "execution_count": 115,
   "metadata": {
    "collapsed": false
   },
   "outputs": [
    {
     "data": {
      "image/png": "[encoded data removed]",
      "text/plain": [
       "<matplotlib.figure.Figure at 0x11a8a9630>"
      ]
     },
     "metadata": {},
     "output_type": "display_data"
    }
   ],
   "source": [
    "plot_influencers(cv, influencers, 3333, 30)"
   ]
  },
  {
   "cell_type": "code",
   "execution_count": 116,
   "metadata": {
    "collapsed": false
   },
   "outputs": [
    {
     "data": {
      "text/plain": [
       "array([ 2.9889906])"
      ]
     },
     "execution_count": 116,
     "metadata": {},
     "output_type": "execute_result"
    }
   ],
   "source": [
    "sgd.intercept_"
   ]
  },
  {
   "cell_type": "code",
   "execution_count": 117,
   "metadata": {
    "collapsed": false
   },
   "outputs": [
    {
     "data": {
      "text/plain": [
       "6.982359485815611"
      ]
     },
     "execution_count": 117,
     "metadata": {},
     "output_type": "execute_result"
    }
   ],
   "source": [
    "testbeers.abv.mean()"
   ]
  },
  {
   "cell_type": "code",
   "execution_count": 118,
   "metadata": {
    "collapsed": false
   },
   "outputs": [
    {
     "data": {
      "text/plain": [
       "46894"
      ]
     },
     "execution_count": 118,
     "metadata": {},
     "output_type": "execute_result"
    }
   ],
   "source": [
    "checkins.user_id.nunique()"
   ]
  },
  {
   "cell_type": "markdown",
   "metadata": {},
   "source": [
    "Let's just take it for a run through the \"menus\" and see how accurate it is."
   ]
  },
  {
   "cell_type": "markdown",
   "metadata": {},
   "source": [
    "Random guesses first:"
   ]
  },
  {
   "cell_type": "code",
   "execution_count": 121,
   "metadata": {
    "collapsed": false
   },
   "outputs": [
    {
     "name": "stdout",
     "output_type": "stream",
     "text": [
      "Accuracy for randomly choosing 3 beers off the menu: 0.5477095504463065\n"
     ]
    }
   ],
   "source": [
    "scores = []\n",
    "for u in testers.index.unique():\n",
    "    udf = testers.loc[u, ['rating_user','rating_global']]\n",
    "    scores.append(untied_rank(udf.rating_user.values, \n",
    "                    udf.rating_user.values[np.random.permutation(range(len(udf)))[:3]]))\n",
    "print(f'Accuracy for randomly choosing 3 beers off the menu: {np.mean(scores)}')"
   ]
  },
  {
   "cell_type": "markdown",
   "metadata": {},
   "source": [
    "Now with slightly more educated guesses:"
   ]
  },
  {
   "cell_type": "code",
   "execution_count": 122,
   "metadata": {
    "collapsed": false
   },
   "outputs": [
    {
     "name": "stderr",
     "output_type": "stream",
     "text": [
      "100%|██████████| 652/652 [02:37<00:00,  4.09it/s]\n"
     ]
    }
   ],
   "source": [
    "from tqdm import tqdm\n",
    "\n",
    "scores = []\n",
    "vecs = vecs.toarray()\n",
    "for u in tqdm(testers.index.unique()):\n",
    "    udf = testers.loc[u, ['rating_user', 'beer_id']]\n",
    "    vi_test = udf.beer_id.map(beer_id_to_vecs_index)\n",
    "    udf['preds'] = sgd.predict(vecs[vi_test, :])\n",
    "    scores.append(untied_rank(udf.rating_user.values, \n",
    "                              udf.rating_user.values[np.argsort(udf.preds.values)[:-4:-1]]))"
   ]
  },
  {
   "cell_type": "code",
   "execution_count": 123,
   "metadata": {
    "collapsed": false
   },
   "outputs": [
    {
     "name": "stdout",
     "output_type": "stream",
     "text": [
      "The average score picking the top 3 globally rated for 652 \"menus\":  0.6670370946675722\n"
     ]
    }
   ],
   "source": [
    "print(f'The average score picking the top 3 globally rated for {len(scores)} \"menus\":  {np.mean(scores)}')"
   ]
  },
  {
   "cell_type": "markdown",
   "metadata": {},
   "source": [
    "As expected, halfway between guessing and using the global mean ratings."
   ]
  },
  {
   "cell_type": "markdown",
   "metadata": {},
   "source": [
    "#### Let's move on to a similar scenario, but this time we have some of the user's ratings under our belt, and can make better recommendations."
   ]
  },
  {
   "cell_type": "markdown",
   "metadata": {
    "collapsed": true
   },
   "source": [
    "One way of looking at the problem is to try to predict how the user would rate all of the possible choices and then recommend the top few in order.  Any such predictive model must consider two crucial factors:  1) The mean rating of the beers by the rest of the world, and 2) The current user's generosity or stinginess in rating.  \n",
    "Those 2 factors go a long way toward predicting how the user will rate any new beer.  And yet they really leave us no further than where we were earlier, when the user was looking at a menu of 10 beer choices.  We already saw that the global mean gives us a pretty good guide for recommendations, but can't we do better, now that we're armed with some knowledge of how generous the current user is with her ratings?  We can adjust the global means of the beers she considers by adding her historical bias, and thus get a better prediction for how she'll rate them.  But that does nothing to differentiate them from her other choices.  She'll rate them all higher or lower, on average, depending on her mental rating scale.  What we're looking for is something that will use patterns in her ratings that suggest when she'll rate beers above the combination of the beer's baseline (global mean rating) and her baseline (generosity/stinginess).  The job of the recommender, beyond indicating to the user which beers get highest ratings, is to tell the user, \"Based on your rating of beers A and B, it is more likely that you'll appreciate beer C than beers D and E.  Not because beer C has higher average ratings than D and E, but because the way your ratings for A and B deviated from the expected ratings suggests that your rating for C will deviate more positively than your ratings for D and E would.\"  \n",
    "This makes clear the choice we'll have to make when we score each recommendation, and there's really no other option than to make the scorer depend on the situation at hand. Our decisions depend on what choices the user has at the moment of recommendation, whether the user is looking for something that fits her tastes closely (no matter if it's highly or poorly rated), or whether she's looking for the top-rated choice, regardless of whether it fits her taste style.  It could be quite useful to have the recommender show \"These are the 3 most popular beers out of the ones you're considering\", alongside \"These are the 3 that seem to fit your rating history best\".  Since we already looked at the approach to the 3 most popular, let's take a look now at the 3 best fits."
   ]
  },
  {
   "cell_type": "markdown",
   "metadata": {},
   "source": [
    "Start by making a feature that shows for each checkin how the rating differed from the expected rating, given the user's inherent bias and the beer's global rating.  A key point here is that we must separate a training set from a testing set before calculating means and deviations from the mean.  When making recommendations, we can't have any more clue as to the user's overall tendencies than we already know at that point in time.  "
   ]
  },
  {
   "cell_type": "code",
   "execution_count": 34,
   "metadata": {
    "collapsed": false
   },
   "outputs": [
    {
     "data": {
      "text/plain": [
       "3814"
      ]
     },
     "execution_count": 34,
     "metadata": {},
     "output_type": "execute_result"
    }
   ],
   "source": [
    "# Here's all the users who have 20-something checkins.  Looks like about 150 of them (3814 / ~25)\n",
    "twenties = checkins[(checkins.user_id.map(usercounts) > 19) &\n",
    "                    (checkins.user_id.map(usercounts) < 30)]\n",
    "len(twenties)"
   ]
  },
  {
   "cell_type": "code",
   "execution_count": 35,
   "metadata": {
    "collapsed": false
   },
   "outputs": [
    {
     "data": {
      "text/html": [
       "<div>\n",
       "<style scoped>\n",
       "    .dataframe tbody tr th:only-of-type {\n",
       "        vertical-align: middle;\n",
       "    }\n",
       "\n",
       "    .dataframe tbody tr th {\n",
       "        vertical-align: top;\n",
       "    }\n",
       "\n",
       "    .dataframe thead th {\n",
       "        text-align: right;\n",
       "    }\n",
       "</style>\n",
       "<table border=\"1\" class=\"dataframe\">\n",
       "  <thead>\n",
       "    <tr style=\"text-align: right;\">\n",
       "      <th></th>\n",
       "      <th>checkin_id</th>\n",
       "      <th>beer_id</th>\n",
       "      <th>user_id</th>\n",
       "      <th>rating_user</th>\n",
       "      <th>brewery_name</th>\n",
       "      <th>beer_name</th>\n",
       "      <th>beer_style</th>\n",
       "      <th>rating_global</th>\n",
       "      <th>abv</th>\n",
       "      <th>beer_description</th>\n",
       "    </tr>\n",
       "  </thead>\n",
       "  <tbody>\n",
       "    <tr>\n",
       "      <th>29</th>\n",
       "      <td>802510823</td>\n",
       "      <td>2095023</td>\n",
       "      <td>1496514</td>\n",
       "      <td>3.75</td>\n",
       "      <td>Stone Brewing</td>\n",
       "      <td>Stone Scorpion Bowl IPA</td>\n",
       "      <td>IPA - American</td>\n",
       "      <td>3.73789</td>\n",
       "      <td>7.5</td>\n",
       "      <td>Stone Brewing Stone Scorpion Bowl IPA To creat...</td>\n",
       "    </tr>\n",
       "    <tr>\n",
       "      <th>794</th>\n",
       "      <td>790728295</td>\n",
       "      <td>1044097</td>\n",
       "      <td>1887470</td>\n",
       "      <td>4.00</td>\n",
       "      <td>Stone Brewing</td>\n",
       "      <td>Stone Ruination Double IPA 2.0</td>\n",
       "      <td>IPA - Imperial / Double</td>\n",
       "      <td>4.01290</td>\n",
       "      <td>8.5</td>\n",
       "      <td>Stone Brewing Stone Ruination Double IPA 2.0 S...</td>\n",
       "    </tr>\n",
       "    <tr>\n",
       "      <th>899</th>\n",
       "      <td>795640121</td>\n",
       "      <td>1070</td>\n",
       "      <td>1887470</td>\n",
       "      <td>4.00</td>\n",
       "      <td>Lagunitas Brewing Company</td>\n",
       "      <td>Imperial Stout</td>\n",
       "      <td>Stout - Russian Imperial</td>\n",
       "      <td>3.91420</td>\n",
       "      <td>9.9</td>\n",
       "      <td>Lagunitas Brewing Company Imperial Stout Made ...</td>\n",
       "    </tr>\n",
       "    <tr>\n",
       "      <th>954</th>\n",
       "      <td>734019632</td>\n",
       "      <td>490277</td>\n",
       "      <td>2930139</td>\n",
       "      <td>5.00</td>\n",
       "      <td>Pizza Port Brewing Company</td>\n",
       "      <td>Swami's IPA</td>\n",
       "      <td>IPA - American</td>\n",
       "      <td>3.84851</td>\n",
       "      <td>6.8</td>\n",
       "      <td>Pizza Port Brewing Company Swami's IPA Note: S...</td>\n",
       "    </tr>\n",
       "    <tr>\n",
       "      <th>2274</th>\n",
       "      <td>717409906</td>\n",
       "      <td>1390262</td>\n",
       "      <td>6419897</td>\n",
       "      <td>4.00</td>\n",
       "      <td>Coronado Brewing Company</td>\n",
       "      <td>Guava Islander</td>\n",
       "      <td>IPA - American</td>\n",
       "      <td>3.67951</td>\n",
       "      <td>7.0</td>\n",
       "      <td>Coronado Brewing Company Guava Islander Tropic...</td>\n",
       "    </tr>\n",
       "  </tbody>\n",
       "</table>\n",
       "</div>"
      ],
      "text/plain": [
       "      checkin_id  beer_id  user_id  rating_user                brewery_name  \\\n",
       "29     802510823  2095023  1496514         3.75               Stone Brewing   \n",
       "794    790728295  1044097  1887470         4.00               Stone Brewing   \n",
       "899    795640121     1070  1887470         4.00   Lagunitas Brewing Company   \n",
       "954    734019632   490277  2930139         5.00  Pizza Port Brewing Company   \n",
       "2274   717409906  1390262  6419897         4.00    Coronado Brewing Company   \n",
       "\n",
       "                           beer_name                beer_style  rating_global  \\\n",
       "29           Stone Scorpion Bowl IPA            IPA - American        3.73789   \n",
       "794   Stone Ruination Double IPA 2.0   IPA - Imperial / Double        4.01290   \n",
       "899                   Imperial Stout  Stout - Russian Imperial        3.91420   \n",
       "954                      Swami's IPA            IPA - American        3.84851   \n",
       "2274                  Guava Islander            IPA - American        3.67951   \n",
       "\n",
       "      abv                                   beer_description  \n",
       "29    7.5  Stone Brewing Stone Scorpion Bowl IPA To creat...  \n",
       "794   8.5  Stone Brewing Stone Ruination Double IPA 2.0 S...  \n",
       "899   9.9  Lagunitas Brewing Company Imperial Stout Made ...  \n",
       "954   6.8  Pizza Port Brewing Company Swami's IPA Note: S...  \n",
       "2274  7.0  Coronado Brewing Company Guava Islander Tropic...  "
      ]
     },
     "execution_count": 35,
     "metadata": {},
     "output_type": "execute_result"
    }
   ],
   "source": [
    "twenties.head()"
   ]
  },
  {
   "cell_type": "code",
   "execution_count": 35,
   "metadata": {
    "collapsed": false
   },
   "outputs": [
    {
     "name": "stderr",
     "output_type": "stream",
     "text": [
      "/Applications/anaconda/lib/python3.6/site-packages/ipykernel/__main__.py:2: SettingWithCopyWarning: \n",
      "A value is trying to be set on a copy of a slice from a DataFrame\n",
      "\n",
      "See the caveats in the documentation: http://pandas.pydata.org/pandas-docs/stable/indexing.html#indexing-view-versus-copy\n",
      "  from ipykernel import kernelapp as app\n"
     ]
    },
    {
     "data": {
      "text/html": [
       "<div>\n",
       "<style scoped>\n",
       "    .dataframe tbody tr th:only-of-type {\n",
       "        vertical-align: middle;\n",
       "    }\n",
       "\n",
       "    .dataframe tbody tr th {\n",
       "        vertical-align: top;\n",
       "    }\n",
       "\n",
       "    .dataframe thead th {\n",
       "        text-align: right;\n",
       "    }\n",
       "</style>\n",
       "<table border=\"1\" class=\"dataframe\">\n",
       "  <thead>\n",
       "    <tr style=\"text-align: right;\">\n",
       "      <th></th>\n",
       "      <th>checkin_id</th>\n",
       "      <th>beer_id</th>\n",
       "      <th>rating_user</th>\n",
       "      <th>brewery_name</th>\n",
       "      <th>beer_name</th>\n",
       "      <th>beer_style</th>\n",
       "      <th>rating_global</th>\n",
       "      <th>abv</th>\n",
       "      <th>beer_description</th>\n",
       "    </tr>\n",
       "    <tr>\n",
       "      <th>user_id</th>\n",
       "      <th></th>\n",
       "      <th></th>\n",
       "      <th></th>\n",
       "      <th></th>\n",
       "      <th></th>\n",
       "      <th></th>\n",
       "      <th></th>\n",
       "      <th></th>\n",
       "      <th></th>\n",
       "    </tr>\n",
       "  </thead>\n",
       "  <tbody>\n",
       "    <tr>\n",
       "      <th>15451</th>\n",
       "      <td>565488682</td>\n",
       "      <td>337182</td>\n",
       "      <td>3.00</td>\n",
       "      <td>Prohibition Brewing Co.</td>\n",
       "      <td>Lawless IPA</td>\n",
       "      <td>IPA - American</td>\n",
       "      <td>3.36052</td>\n",
       "      <td>6.5</td>\n",
       "      <td>Prohibition Brewing Co. Lawless IPA Prohibitio...</td>\n",
       "    </tr>\n",
       "    <tr>\n",
       "      <th>15451</th>\n",
       "      <td>643941101</td>\n",
       "      <td>1991090</td>\n",
       "      <td>3.50</td>\n",
       "      <td>Fuggles &amp; Warlock Craftworks</td>\n",
       "      <td>Valis Imperial IPA</td>\n",
       "      <td>IPA - Imperial / Double</td>\n",
       "      <td>3.83498</td>\n",
       "      <td>9.0</td>\n",
       "      <td>Fuggles &amp; Warlock Craftworks  Valis Imperial I...</td>\n",
       "    </tr>\n",
       "    <tr>\n",
       "      <th>15451</th>\n",
       "      <td>673136169</td>\n",
       "      <td>2890172</td>\n",
       "      <td>3.75</td>\n",
       "      <td>Callister Brewing Co.</td>\n",
       "      <td>Brut Force</td>\n",
       "      <td>IPA - Brut</td>\n",
       "      <td>3.58824</td>\n",
       "      <td>6.4</td>\n",
       "      <td>Callister Brewing Co. Brut Force Fresh-hopped ...</td>\n",
       "    </tr>\n",
       "    <tr>\n",
       "      <th>15451</th>\n",
       "      <td>701437622</td>\n",
       "      <td>2320558</td>\n",
       "      <td>4.25</td>\n",
       "      <td>Moody Ales</td>\n",
       "      <td>Black IPA</td>\n",
       "      <td>IPA - Black / Cascadian Dark Ale</td>\n",
       "      <td>3.61538</td>\n",
       "      <td>5.6</td>\n",
       "      <td>Moody Ales Black IPA Black IPA brewed with 100...</td>\n",
       "    </tr>\n",
       "    <tr>\n",
       "      <th>15451</th>\n",
       "      <td>719884360</td>\n",
       "      <td>3011095</td>\n",
       "      <td>4.50</td>\n",
       "      <td>Steel &amp; Oak Brewing Co.</td>\n",
       "      <td>A-Side</td>\n",
       "      <td>IPA - New England</td>\n",
       "      <td>3.91641</td>\n",
       "      <td>6.5</td>\n",
       "      <td>Steel &amp; Oak Brewing Co. A-Side We got together...</td>\n",
       "    </tr>\n",
       "  </tbody>\n",
       "</table>\n",
       "</div>"
      ],
      "text/plain": [
       "         checkin_id  beer_id  rating_user                   brewery_name  \\\n",
       "user_id                                                                    \n",
       "15451     565488682   337182         3.00        Prohibition Brewing Co.   \n",
       "15451     643941101  1991090         3.50  Fuggles & Warlock Craftworks    \n",
       "15451     673136169  2890172         3.75          Callister Brewing Co.   \n",
       "15451     701437622  2320558         4.25                     Moody Ales   \n",
       "15451     719884360  3011095         4.50        Steel & Oak Brewing Co.   \n",
       "\n",
       "                  beer_name                        beer_style  rating_global  \\\n",
       "user_id                                                                        \n",
       "15451           Lawless IPA                    IPA - American        3.36052   \n",
       "15451    Valis Imperial IPA           IPA - Imperial / Double        3.83498   \n",
       "15451            Brut Force                        IPA - Brut        3.58824   \n",
       "15451             Black IPA  IPA - Black / Cascadian Dark Ale        3.61538   \n",
       "15451                A-Side                 IPA - New England        3.91641   \n",
       "\n",
       "         abv                                   beer_description  \n",
       "user_id                                                          \n",
       "15451    6.5  Prohibition Brewing Co. Lawless IPA Prohibitio...  \n",
       "15451    9.0  Fuggles & Warlock Craftworks  Valis Imperial I...  \n",
       "15451    6.4  Callister Brewing Co. Brut Force Fresh-hopped ...  \n",
       "15451    5.6  Moody Ales Black IPA Black IPA brewed with 100...  \n",
       "15451    6.5  Steel & Oak Brewing Co. A-Side We got together...  "
      ]
     },
     "execution_count": 35,
     "metadata": {},
     "output_type": "execute_result"
    }
   ],
   "source": [
    "# with sorted checkins for each user, we can simulate having a user's rating history when recommending\n",
    "twenties.sort_values(by=['user_id', 'checkin_id'], inplace=True)\n",
    "twenties.set_index('user_id', inplace=True)\n",
    "twenties.head()\n"
   ]
  },
  {
   "cell_type": "code",
   "execution_count": 36,
   "metadata": {
    "collapsed": true
   },
   "outputs": [],
   "source": [
    "def split_last_X(frame, countDict, X):\n",
    "    '''\n",
    "    Split the input frame into training and testing,\n",
    "    using the last X for each user as testers.\n",
    "    CountDict input has the rows per user,\n",
    "    and the frame is indexed by user.\n",
    "    Returns the train split and test split\n",
    "    '''\n",
    "    boollist = [[True] * (countDict[u] - X) + [False] * X for u in frame.index.unique()]\n",
    "    boollist = np.array([boo for lis in boollist for boo in lis])  # numpy to help with the logic\n",
    "    \n",
    "    return frame[boollist], frame[~boollist]"
   ]
  },
  {
   "cell_type": "code",
   "execution_count": 124,
   "metadata": {
    "collapsed": false
   },
   "outputs": [
    {
     "ename": "NameError",
     "evalue": "name 'twenties' is not defined",
     "output_type": "error",
     "traceback": [
      "\u001b[0;31m---------------------------------------------------------------------------\u001b[0m",
      "\u001b[0;31mNameError\u001b[0m                                 Traceback (most recent call last)",
      "\u001b[0;32m<ipython-input-124-26b5d5cf38d7>\u001b[0m in \u001b[0;36m<module>\u001b[0;34m()\u001b[0m\n\u001b[0;32m----> 1\u001b[0;31m \u001b[0mtwenties\u001b[0m\u001b[0;34m.\u001b[0m\u001b[0mindex\u001b[0m\u001b[0;34m.\u001b[0m\u001b[0mnunique\u001b[0m\u001b[0;34m(\u001b[0m\u001b[0;34m)\u001b[0m  \u001b[0;31m# to make sure split function works\u001b[0m\u001b[0;34m\u001b[0m\u001b[0;34m\u001b[0m\u001b[0m\n\u001b[0m",
      "\u001b[0;31mNameError\u001b[0m: name 'twenties' is not defined"
     ]
    }
   ],
   "source": [
    "twenties.index.nunique()  # to make sure split function works"
   ]
  },
  {
   "cell_type": "code",
   "execution_count": 38,
   "metadata": {
    "collapsed": false
   },
   "outputs": [
    {
     "data": {
      "text/plain": [
       "1630"
      ]
     },
     "execution_count": 38,
     "metadata": {},
     "output_type": "execute_result"
    }
   ],
   "source": [
    "trainers, testers = split_last_X(twenties, usercounts, 10)\n",
    "len(testers)  # s/b 1630"
   ]
  },
  {
   "cell_type": "markdown",
   "metadata": {},
   "source": [
    "See what custom score we get just using the most popular 3 as before, then see if we can improve."
   ]
  },
  {
   "cell_type": "code",
   "execution_count": 128,
   "metadata": {
    "collapsed": false
   },
   "outputs": [
    {
     "name": "stdout",
     "output_type": "stream",
     "text": [
      "The average score picking the top 3 globally rated for 163 \"menus\":  0.76472085523876\n"
     ]
    }
   ],
   "source": [
    "top_rank_scores = []\n",
    "for u in testers.index.unique():\n",
    "    utest = testers.loc[u, ['rating_user','rating_global']]\n",
    "    top_rank_scores.append(untied_rank(utest.rating_user.values, \n",
    "                              utest.rating_user.values[np.argsort(utest.rating_global.values)[:-4:-1]]))\n",
    "print(f'The average score picking the top 3 globally rated for 163 \"menus\":  {np.mean(top_rank_scores)}')"
   ]
  },
  {
   "cell_type": "code",
   "execution_count": 125,
   "metadata": {
    "collapsed": false
   },
   "outputs": [
    {
     "ename": "NameError",
     "evalue": "name 'top_rank_scores' is not defined",
     "output_type": "error",
     "traceback": [
      "\u001b[0;31m---------------------------------------------------------------------------\u001b[0m",
      "\u001b[0;31mNameError\u001b[0m                                 Traceback (most recent call last)",
      "\u001b[0;32m<ipython-input-125-e9841109d380>\u001b[0m in \u001b[0;36m<module>\u001b[0;34m()\u001b[0m\n\u001b[0;32m----> 1\u001b[0;31m \u001b[0mlen\u001b[0m\u001b[0;34m(\u001b[0m\u001b[0mtop_rank_scores\u001b[0m\u001b[0;34m)\u001b[0m\u001b[0;34m\u001b[0m\u001b[0;34m\u001b[0m\u001b[0m\n\u001b[0m",
      "\u001b[0;31mNameError\u001b[0m: name 'top_rank_scores' is not defined"
     ]
    }
   ],
   "source": [
    "len(top_rank_scores)"
   ]
  },
  {
   "cell_type": "markdown",
   "metadata": {},
   "source": [
    "#### 0.765 is our target to beat."
   ]
  },
  {
   "cell_type": "code",
   "execution_count": 39,
   "metadata": {
    "collapsed": false
   },
   "outputs": [
    {
     "name": "stderr",
     "output_type": "stream",
     "text": [
      "/Applications/anaconda/lib/python3.6/site-packages/ipykernel/__main__.py:2: SettingWithCopyWarning: \n",
      "A value is trying to be set on a copy of a slice from a DataFrame.\n",
      "Try using .loc[row_indexer,col_indexer] = value instead\n",
      "\n",
      "See the caveats in the documentation: http://pandas.pydata.org/pandas-docs/stable/indexing.html#indexing-view-versus-copy\n",
      "  from ipykernel import kernelapp as app\n",
      "/Applications/anaconda/lib/python3.6/site-packages/ipykernel/__main__.py:3: SettingWithCopyWarning: \n",
      "A value is trying to be set on a copy of a slice from a DataFrame.\n",
      "Try using .loc[row_indexer,col_indexer] = value instead\n",
      "\n",
      "See the caveats in the documentation: http://pandas.pydata.org/pandas-docs/stable/indexing.html#indexing-view-versus-copy\n",
      "  app.launch_new_instance()\n"
     ]
    }
   ],
   "source": [
    "# Now for that training column that shows unexpected deviation from mean ratings\n",
    "trainers['udiff'] = trainers.rating_user - trainers.rating_global\n",
    "trainers['udev'] = trainers.udiff - trainers.index.map(trainers.groupby(trainers.index)['udiff'].mean())"
   ]
  },
  {
   "cell_type": "code",
   "execution_count": 40,
   "metadata": {
    "collapsed": false
   },
   "outputs": [
    {
     "data": {
      "text/html": [
       "<div>\n",
       "<style scoped>\n",
       "    .dataframe tbody tr th:only-of-type {\n",
       "        vertical-align: middle;\n",
       "    }\n",
       "\n",
       "    .dataframe tbody tr th {\n",
       "        vertical-align: top;\n",
       "    }\n",
       "\n",
       "    .dataframe thead th {\n",
       "        text-align: right;\n",
       "    }\n",
       "</style>\n",
       "<table border=\"1\" class=\"dataframe\">\n",
       "  <thead>\n",
       "    <tr style=\"text-align: right;\">\n",
       "      <th></th>\n",
       "      <th>checkin_id</th>\n",
       "      <th>beer_id</th>\n",
       "      <th>rating_user</th>\n",
       "      <th>brewery_name</th>\n",
       "      <th>beer_name</th>\n",
       "      <th>beer_style</th>\n",
       "      <th>rating_global</th>\n",
       "      <th>abv</th>\n",
       "      <th>beer_description</th>\n",
       "      <th>udiff</th>\n",
       "      <th>udev</th>\n",
       "    </tr>\n",
       "    <tr>\n",
       "      <th>user_id</th>\n",
       "      <th></th>\n",
       "      <th></th>\n",
       "      <th></th>\n",
       "      <th></th>\n",
       "      <th></th>\n",
       "      <th></th>\n",
       "      <th></th>\n",
       "      <th></th>\n",
       "      <th></th>\n",
       "      <th></th>\n",
       "      <th></th>\n",
       "    </tr>\n",
       "  </thead>\n",
       "  <tbody>\n",
       "    <tr>\n",
       "      <th>15451</th>\n",
       "      <td>565488682</td>\n",
       "      <td>337182</td>\n",
       "      <td>3.0</td>\n",
       "      <td>Prohibition Brewing Co.</td>\n",
       "      <td>Lawless IPA</td>\n",
       "      <td>IPA - American</td>\n",
       "      <td>3.36052</td>\n",
       "      <td>6.5</td>\n",
       "      <td>Prohibition Brewing Co. Lawless IPA Prohibitio...</td>\n",
       "      <td>-0.36052</td>\n",
       "      <td>-0.501174</td>\n",
       "    </tr>\n",
       "  </tbody>\n",
       "</table>\n",
       "</div>"
      ],
      "text/plain": [
       "         checkin_id  beer_id  rating_user             brewery_name  \\\n",
       "user_id                                                              \n",
       "15451     565488682   337182          3.0  Prohibition Brewing Co.   \n",
       "\n",
       "           beer_name      beer_style  rating_global  abv  \\\n",
       "user_id                                                    \n",
       "15451    Lawless IPA  IPA - American        3.36052  6.5   \n",
       "\n",
       "                                          beer_description    udiff      udev  \n",
       "user_id                                                                        \n",
       "15451    Prohibition Brewing Co. Lawless IPA Prohibitio... -0.36052 -0.501174  "
      ]
     },
     "execution_count": 40,
     "metadata": {},
     "output_type": "execute_result"
    }
   ],
   "source": [
    "trainers.head(1)"
   ]
  },
  {
   "cell_type": "markdown",
   "metadata": {},
   "source": [
    "So now we'll isolate that last column, \"udev\", when training for each user, and although we probably won't learn much training on 10-20 checkins for these users, we should see a slight improvement from 0.765"
   ]
  },
  {
   "cell_type": "markdown",
   "metadata": {},
   "source": [
    "Use the same bag of words from before.  The words may not show much, but at least likes/dislikes of specific breweries and preferences for abv should tick the score up a tiny bit.  Let's see...."
   ]
  },
  {
   "cell_type": "code",
   "execution_count": 41,
   "metadata": {
    "collapsed": true
   },
   "outputs": [],
   "source": [
    "sgd = SGDRegressor(penalty='elasticnet', random_state=0, max_iter=1000, tol=1e-5, l1_ratio=0.2)"
   ]
  },
  {
   "cell_type": "code",
   "execution_count": 42,
   "metadata": {
    "collapsed": true
   },
   "outputs": [],
   "source": [
    "from sklearn.ensemble import GradientBoostingRegressor\n",
    "gbr = GradientBoostingRegressor()"
   ]
  },
  {
   "cell_type": "code",
   "execution_count": 57,
   "metadata": {
    "collapsed": false
   },
   "outputs": [
    {
     "name": "stderr",
     "output_type": "stream",
     "text": [
      "100%|██████████| 163/163 [01:19<00:00,  2.03it/s]\n"
     ]
    }
   ],
   "source": [
    "from tqdm import tqdm\n",
    "alpha = 0.5  # reduce magnitude of predictions using this\n",
    "scores = []\n",
    "for u in tqdm(trainers.index.unique()):\n",
    "    udf = trainers.loc[u]\n",
    "    vi_train = udf.beer_id.map(beer_id_to_vecs_index)\n",
    "    trainX = vecs[vi_train, :]\n",
    "    vi_test = testers.loc[u].beer_id.map(beer_id_to_vecs_index)\n",
    "    testX = vecs[vi_test, :]\n",
    "    sgd.fit(trainX, udf.udev.values)\n",
    "    dev_preds = gbr.predict(testX)\n",
    "    preds = testers.loc[u].rating_global + alpha * dev_preds   # no need to add the (constant) user_bias here, since we want rankings\n",
    "    #preds = np.clip(preds, 0.25, 5.0)  # no need to clip since using relative rankings\n",
    "    scores.append(untied_rank(testers.loc[u].rating_user.values, \n",
    "                              testers.loc[u].rating_user.values[np.argsort(preds)[:-4:-1]]))"
   ]
  },
  {
   "cell_type": "code",
   "execution_count": 58,
   "metadata": {
    "collapsed": false
   },
   "outputs": [
    {
     "name": "stdout",
     "output_type": "stream",
     "text": [
      "Accuracy for choosing 3 beers off the menu, based on the user's first 10-20 ratings: 0.7627782872650855\n"
     ]
    }
   ],
   "source": [
    "print(f'Accuracy for choosing 3 beers off the menu, based on the user\\'s first 10-20 ratings: {np.mean(scores)}')"
   ]
  },
  {
   "cell_type": "markdown",
   "metadata": {},
   "source": [
    "That's worse than just using global ratings to rank"
   ]
  },
  {
   "cell_type": "code",
   "execution_count": 130,
   "metadata": {
    "collapsed": false
   },
   "outputs": [
    {
     "name": "stderr",
     "output_type": "stream",
     "text": [
      "100%|██████████| 163/163 [02:07<00:00,  1.33it/s]\n",
      "100%|██████████| 163/163 [02:04<00:00,  1.31it/s]\n",
      "100%|██████████| 163/163 [02:05<00:00,  1.34it/s]\n",
      "100%|██████████| 163/163 [02:04<00:00,  1.36it/s]\n",
      "100%|██████████| 163/163 [02:04<00:00,  1.35it/s]\n",
      "100%|██████████| 163/163 [02:05<00:00,  1.31it/s]\n",
      "100%|██████████| 163/163 [02:04<00:00,  1.32it/s]\n",
      "100%|██████████| 163/163 [02:05<00:00,  1.35it/s]\n",
      "100%|██████████| 163/163 [02:04<00:00,  1.32it/s]\n",
      "100%|██████████| 163/163 [02:04<00:00,  1.36it/s]\n"
     ]
    }
   ],
   "source": [
    "scoreboard = []\n",
    "for x in range(2,12):\n",
    "    scores = []\n",
    "    for u in tqdm(trainers.index.unique()):\n",
    "        udf = trainers.loc[u]\n",
    "        vi_train = udf.beer_id.map(beer_id_to_vecs_index)\n",
    "        trainX = vecs[vi_train, :]\n",
    "        vi_test = testers.loc[u].beer_id.map(beer_id_to_vecs_index)\n",
    "        testX = vecs[vi_test, :]\n",
    "        gbr.fit(trainX, udf.udev.values)\n",
    "        dev_preds = gbr.predict(testX)\n",
    "        preds = testers.loc[u].rating_global + dev_preds   # no need to add the (constant) user_bias here, since we want rankings\n",
    "\n",
    "        scores.append(untied_rank(testers.loc[u].rating_user.values, \n",
    "                              testers.loc[u].rating_user.values[np.argsort(preds)[:-x:-1]]))\n",
    "    scoreboard.append(np.mean(scores))"
   ]
  },
  {
   "cell_type": "code",
   "execution_count": 136,
   "metadata": {
    "collapsed": false
   },
   "outputs": [
    {
     "data": {
      "image/png": "[encoded data removed]",
      "text/plain": [
       "<matplotlib.figure.Figure at 0x111ab6dd8>"
      ]
     },
     "metadata": {},
     "output_type": "display_data"
    }
   ],
   "source": [
    "plt.plot(range(1,11), scoreboard, color='darkgreen', label='Adding GBR predictions')\n",
    "plt.plot(range(1,11), allscores, '--', label='Using top-rated for picks')\n",
    "plt.title('Recommender accuracy with and without GBR picks')\n",
    "plt.xlabel('Number of items recommended out of ten')\n",
    "plt.ylabel('Accuracy')\n",
    "plt.legend();"
   ]
  },
  {
   "cell_type": "markdown",
   "metadata": {},
   "source": [
    "#### Switch to user-based collaborative filtering"
   ]
  },
  {
   "cell_type": "code",
   "execution_count": 166,
   "metadata": {
    "collapsed": false
   },
   "outputs": [],
   "source": [
    "checkins.reset_index(inplace=True)"
   ]
  },
  {
   "cell_type": "code",
   "execution_count": 167,
   "metadata": {
    "collapsed": true
   },
   "outputs": [],
   "source": [
    "# with sorted checkins for each user, we can simulate having a user's rating history when recommending\n",
    "checkins.sort_values(by=['user_id', 'checkin_id'], inplace=True)\n",
    "checkins.set_index('user_id', inplace=True)"
   ]
  },
  {
   "cell_type": "code",
   "execution_count": 168,
   "metadata": {
    "collapsed": false
   },
   "outputs": [
    {
     "name": "stdout",
     "output_type": "stream",
     "text": [
      "1027674 training rows, 72370 testing rows\n"
     ]
    }
   ],
   "source": [
    "# gather the users who have more than 50 ratings and save their last 10 for testing\n",
    "bigs = checkins.index.map(usercounts) > 49\n",
    "smalls = checkins[~bigs]\n",
    "tr, test = split_last_X(checkins[bigs], usercounts, 10)\n",
    "train = pd.concat([smalls, tr])\n",
    "print(f'{train.shape[0]} training rows, {test.shape[0]} testing rows')"
   ]
  },
  {
   "cell_type": "code",
   "execution_count": 171,
   "metadata": {
    "collapsed": false
   },
   "outputs": [
    {
     "name": "stdout",
     "output_type": "stream",
     "text": [
      "The average score picking the top 3 globally rated for 7237 \"menus\":  0.7727329901323322\n"
     ]
    }
   ],
   "source": [
    "# baseline (top picks) results/target\n",
    "top_rank_scores = []\n",
    "for u in test.index.unique():\n",
    "    utest = test.loc[u, ['rating_user','rating_global']]\n",
    "    top_rank_scores.append(untied_rank(utest.rating_user.values, \n",
    "                              utest.rating_user.values[np.argsort(utest.rating_global.values)[:-4:-1]]))\n",
    "print(f'The average score picking the top 3 globally rated for {len(top_rank_scores)} \"menus\":  {np.mean(top_rank_scores)}')"
   ]
  },
  {
   "cell_type": "markdown",
   "metadata": {},
   "source": [
    "Not sure why that's higher than for the users with fewer ratings."
   ]
  },
  {
   "cell_type": "code",
   "execution_count": 172,
   "metadata": {
    "collapsed": false
   },
   "outputs": [],
   "source": [
    "train['udiff'] = train.rating_user - train.rating_global\n",
    "train['udev'] = train.udiff - train.index.map(train.groupby(train.index)['udiff'].mean())"
   ]
  },
  {
   "cell_type": "code",
   "execution_count": 174,
   "metadata": {
    "collapsed": false
   },
   "outputs": [],
   "source": [
    "train.reset_index(inplace=True)\n",
    "udict = {uid:dict() for uid in train.user_id.unique()}\n",
    "bdict = {bid:dict() for bid in train.beer_id.unique()}\n",
    "for checkin in zip(train.user_id, train.beer_id, train.udev):\n",
    "    udict[checkin[0]][checkin[1]] = checkin[2]\n",
    "    bdict[checkin[1]][checkin[0]] = checkin[2]"
   ]
  },
  {
   "cell_type": "code",
   "execution_count": 175,
   "metadata": {
    "collapsed": false
   },
   "outputs": [
    {
     "name": "stderr",
     "output_type": "stream",
     "text": [
      "100%|██████████| 46894/46894 [1:43:11<00:00,  7.57it/s]     \n"
     ]
    }
   ],
   "source": [
    "from collections import defaultdict\n",
    "# calculate user/user correlation/similarity \n",
    "shared = {u: defaultdict(lambda: defaultdict(float)) for u in udict}\n",
    "# this may take a minute or maybe an hour, depending on memory, with the nested loops, but seems messy otherwise\n",
    "for u in tqdm(udict):\n",
    "    # loop thru all checkins by u\n",
    "    for b in udict[u]:\n",
    "        # update the similarity factors for u-v for every checkin, as would happen with new checkins\n",
    "        for v in bdict[b]:\n",
    "            suv = shared[u][v]\n",
    "            suv['count'] += 1  # increment the common u-v ratings\n",
    "            #### stats.stackexchange has these going last, but then each new sample\n",
    "            ##### updates to a diff from mean that it contributes to, which seems wrong\n",
    "            ###### (and messes up the first one, where u_bar == u[b])  ####\n",
    "            u_dev = udict[u][b] - suv['u_bar']\n",
    "            v_dev = udict[v][b] - suv['v_bar']\n",
    "            suv['numer'] += u_dev * v_dev\n",
    "            suv['denom_1'] += u_dev ** 2\n",
    "            suv['denom_2'] += v_dev ** 2\n",
    "            #####\n",
    "            suv['u_bar'] = ((suv['count']-1) * suv['u_bar'] + udict[u][b]) / suv['count']\n",
    "            suv['v_bar'] = ((suv['count']-1) * suv['v_bar'] + udict[v][b]) / suv['count']\n",
    "            \n",
    "    # remove self-edges\n",
    "    del shared[u][u]"
   ]
  },
  {
   "cell_type": "code",
   "execution_count": 176,
   "metadata": {
    "collapsed": true
   },
   "outputs": [],
   "source": [
    "# the global rating for each beer differs slightly from checkin to checkin,\n",
    "## due to accumulating stats over time.  Also I'm using each beer's listed\n",
    "## global rating mean, instead of the mean of all global ratings...\n",
    "beer_mu = dict(train.groupby('beer_id').rating_global.mean())"
   ]
  },
  {
   "cell_type": "code",
   "execution_count": null,
   "metadata": {
    "collapsed": true
   },
   "outputs": [],
   "source": []
  }
 ],
 "metadata": {
  "kernelspec": {
   "display_name": "Python 3",
   "language": "python",
   "name": "python3"
  },
  "language_info": {
   "codemirror_mode": {
    "name": "ipython",
    "version": 3
   },
   "file_extension": ".py",
   "mimetype": "text/x-python",
   "name": "python",
   "nbconvert_exporter": "python",
   "pygments_lexer": "ipython3",
   "version": "3.6.9"
  }
 },
 "nbformat": 4,
 "nbformat_minor": 2
}
