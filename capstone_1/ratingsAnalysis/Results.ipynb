{
 "cells": [
  {
   "cell_type": "code",
   "execution_count": 1,
   "metadata": {
    "collapsed": true
   },
   "outputs": [],
   "source": [
    "import numpy as np\n",
    "import pandas as pd\n",
    "import matplotlib.pyplot as plt\n",
    "import networkx as nx\n",
    "\n",
    "from networkx.algorithms import bipartite\n",
    "from surprise import SVD, KNNBasic, Reader, Dataset, accuracy\n",
    "from surprise.model_selection import cross_validate, train_test_split, KFold, GridSearchCV\n",
    "from surprise.prediction_algorithms.baseline_only import BaselineOnly\n",
    "from tqdm import tqdm\n",
    "from sklearn.model_selection import train_test_split as tts\n",
    "\n",
    "%matplotlib inline"
   ]
  },
  {
   "cell_type": "code",
   "execution_count": null,
   "metadata": {
    "collapsed": true
   },
   "outputs": [],
   "source": [
    "df = pd.read_csv('bigframe.csv')\n",
    "\n",
    "# to avoid unamed:0, read_csv with index_col=0"
   ]
  },
  {
   "cell_type": "code",
   "execution_count": 35,
   "metadata": {
    "collapsed": true
   },
   "outputs": [],
   "source": [
    "def test_last_split(df, last_x=1):\n",
    "    '''\n",
    "    Split trainset to be all but last one, or more, of\n",
    "    each User's profile of checkins, chronologically, and then\n",
    "    test on the most recent checkin(s).\n",
    "    --------------\n",
    "    Inputs--\n",
    "    \n",
    "    df:  DataFrame with rows of User/Beer/Rating combos, a.k.a. 'checkins', \n",
    "        chronologically ordered, but not necessarily user-ordered\n",
    "    \n",
    "    last_x:  how many rows to use for testing.  defaults to 1, the most recent checkin.\n",
    "    \n",
    "    --------------\n",
    "    Returns-- A User-stratified split into training and testing \n",
    "    \n",
    "    '''\n",
    "    \n",
    "    trainers = []\n",
    "    testers = []\n",
    "    \n",
    "    # Loop over each user in the DataFrame input\n",
    "    for u in df.user_id.unique():\n",
    "        udf = df[df.user_id == u]\n",
    "        n_ratings = len(udf)\n",
    "        # use the @last_x integer, default=1, of each user's checkins as the test group\n",
    "        split = n_ratings - last_x  # (first) index of test rating(s)\n",
    "        trainers.append(udf.iloc[:split, :])  # train-test split\n",
    "        testers.append(udf.iloc[split:, :])\n",
    "\n",
    "    return trainers, testers"
   ]
  },
  {
   "cell_type": "code",
   "execution_count": 4,
   "metadata": {
    "collapsed": false
   },
   "outputs": [
    {
     "data": {
      "text/plain": [
       "(1425447, 27)"
      ]
     },
     "execution_count": 4,
     "metadata": {},
     "output_type": "execute_result"
    }
   ],
   "source": [
    "df.shape"
   ]
  },
  {
   "cell_type": "code",
   "execution_count": 5,
   "metadata": {
    "collapsed": false
   },
   "outputs": [
    {
     "data": {
      "text/plain": [
       "Index(['Unnamed: 0', 'checkin_id', 'beer_id', 'user_id', 'rating_user',\n",
       "       'brewery_name', 'beer_name', 'beer_style', 'brewery_id', 'brewery_type',\n",
       "       'brewery_country', 'brewery_city', 'brewery_state', 'brewery_lat',\n",
       "       'brewery_lon', 'venue_lat', 'venue_lon', 'venue_city', 'venue_country',\n",
       "       'venue_state', 'venue_cat', 'venue_id', 'checkin_comment', 'venue_type',\n",
       "       'rating_global', 'abv', 'date'],\n",
       "      dtype='object')"
      ]
     },
     "execution_count": 5,
     "metadata": {},
     "output_type": "execute_result"
    }
   ],
   "source": [
    "df.columns"
   ]
  },
  {
   "cell_type": "code",
   "execution_count": 6,
   "metadata": {
    "collapsed": false
   },
   "outputs": [],
   "source": [
    "df.drop('Unnamed: 0', axis=1, inplace=True)"
   ]
  },
  {
   "cell_type": "code",
   "execution_count": 7,
   "metadata": {
    "collapsed": false
   },
   "outputs": [
    {
     "data": {
      "text/plain": [
       "(1425447, 26)"
      ]
     },
     "execution_count": 7,
     "metadata": {},
     "output_type": "execute_result"
    }
   ],
   "source": [
    "df.shape"
   ]
  },
  {
   "cell_type": "code",
   "execution_count": null,
   "metadata": {
    "collapsed": true
   },
   "outputs": [],
   "source": []
  },
  {
   "cell_type": "markdown",
   "metadata": {},
   "source": [
    "#### Remove all but the most recent one User/Beer combo for multiple such checkins"
   ]
  },
  {
   "cell_type": "code",
   "execution_count": 8,
   "metadata": {
    "collapsed": false
   },
   "outputs": [
    {
     "data": {
      "text/plain": [
       "(1296064, 26)"
      ]
     },
     "execution_count": 8,
     "metadata": {},
     "output_type": "execute_result"
    }
   ],
   "source": [
    "df.drop_duplicates(subset=['user_id', 'beer_id'], inplace=True)  # keep_first (default) means keep most recent checkin\n",
    "\n",
    "df.shape  # remaining from 1.42M prev"
   ]
  },
  {
   "cell_type": "markdown",
   "metadata": {},
   "source": [
    "#####  drop all checkins without global ratings, since we need those ratings and would have them in normal prediction scenarios."
   ]
  },
  {
   "cell_type": "code",
   "execution_count": 24,
   "metadata": {
    "collapsed": false
   },
   "outputs": [
    {
     "data": {
      "text/plain": [
       "(1089604, 26)"
      ]
     },
     "execution_count": 24,
     "metadata": {},
     "output_type": "execute_result"
    }
   ],
   "source": [
    "df = df[df.rating_global > 0]\n",
    "df.shape"
   ]
  },
  {
   "cell_type": "markdown",
   "metadata": {},
   "source": [
    "====================================================================================================================="
   ]
  },
  {
   "cell_type": "markdown",
   "metadata": {},
   "source": [
    "The best results below come from a simple baseline mean, where each user has a \"generosity\" score for how she rates beers compared to the average user, and each beer has a similar score for how it rates compared to the mean.  But those user and beer biases include all beers, so let's see how they do with just a train set/ test set type of split."
   ]
  },
  {
   "cell_type": "code",
   "execution_count": 12,
   "metadata": {
    "collapsed": false
   },
   "outputs": [],
   "source": [
    "# make the split before calculating biases, to see how the results fare\n",
    "trainers, testers = tts(df, test_size=0.02, random_state=0)"
   ]
  },
  {
   "cell_type": "code",
   "execution_count": 13,
   "metadata": {
    "collapsed": false
   },
   "outputs": [
    {
     "data": {
      "text/plain": [
       "(21793, 26)"
      ]
     },
     "execution_count": 13,
     "metadata": {},
     "output_type": "execute_result"
    }
   ],
   "source": [
    "testers.shape"
   ]
  },
  {
   "cell_type": "code",
   "execution_count": 14,
   "metadata": {
    "collapsed": false
   },
   "outputs": [],
   "source": [
    "# the global rating for each beer differs slightly from checkin to checkin,\n",
    "## due to accumulating stats over time.  Also I'm using each beer's listed\n",
    "## global rating mean, instead of the mean of all global ratings...\n",
    "beer_mu = dict(trainers.groupby('beer_id').rating_global.mean())"
   ]
  },
  {
   "cell_type": "code",
   "execution_count": 15,
   "metadata": {
    "collapsed": false
   },
   "outputs": [
    {
     "name": "stderr",
     "output_type": "stream",
     "text": [
      "/Applications/anaconda/lib/python3.6/site-packages/ipykernel/__main__.py:1: SettingWithCopyWarning: \n",
      "A value is trying to be set on a copy of a slice from a DataFrame.\n",
      "Try using .loc[row_indexer,col_indexer] = value instead\n",
      "\n",
      "See the caveats in the documentation: http://pandas.pydata.org/pandas-docs/stable/indexing.html#indexing-view-versus-copy\n",
      "  if __name__ == '__main__':\n"
     ]
    }
   ],
   "source": [
    "trainers['user_bias'] = trainers.rating_user - trainers.rating_global\n",
    "userbiasdict = dict(trainers.groupby('user_id').user_bias.mean())"
   ]
  },
  {
   "cell_type": "markdown",
   "metadata": {},
   "source": [
    "#### for the testers that have user and beer in the trainers, predict and score rmse"
   ]
  },
  {
   "cell_type": "code",
   "execution_count": 58,
   "metadata": {
    "collapsed": true
   },
   "outputs": [],
   "source": [
    "preds = []\n",
    "actual = []\n",
    "for i in testers.index:\n",
    "    try:\n",
    "        preds.append(beer_mu[testers.loc[i, 'beer_id']] +\n",
    "                     userbiasdict[testers.loc[i, 'user_id']])\n",
    "        actual.append(testers.loc[i, 'rating_user'])\n",
    "    except KeyError:\n",
    "        continue"
   ]
  },
  {
   "cell_type": "code",
   "execution_count": 59,
   "metadata": {
    "collapsed": false
   },
   "outputs": [],
   "source": [
    "assert len(preds) == len(actual)"
   ]
  },
  {
   "cell_type": "code",
   "execution_count": 60,
   "metadata": {
    "collapsed": false
   },
   "outputs": [
    {
     "data": {
      "text/plain": [
       "0.43718955477433807"
      ]
     },
     "execution_count": 60,
     "metadata": {},
     "output_type": "execute_result"
    }
   ],
   "source": [
    "diffs = np.array(preds) - np.array(actual)\n",
    "rmse = np.sqrt(np.dot(diffs, diffs) / len(diffs))\n",
    "rmse"
   ]
  },
  {
   "cell_type": "code",
   "execution_count": 17,
   "metadata": {
    "collapsed": false
   },
   "outputs": [
    {
     "data": {
      "text/plain": [
       "0.0028213614300656525"
      ]
     },
     "execution_count": 17,
     "metadata": {},
     "output_type": "execute_result"
    }
   ],
   "source": [
    "# How generous are the data users versus global raters\n",
    "trainers.user_bias.mean()"
   ]
  },
  {
   "cell_type": "code",
   "execution_count": 16,
   "metadata": {
    "collapsed": false
   },
   "outputs": [
    {
     "name": "stderr",
     "output_type": "stream",
     "text": [
      "/Applications/anaconda/lib/python3.6/site-packages/ipykernel/__main__.py:3: SettingWithCopyWarning: \n",
      "A value is trying to be set on a copy of a slice from a DataFrame.\n",
      "Try using .loc[row_indexer,col_indexer] = value instead\n",
      "\n",
      "See the caveats in the documentation: http://pandas.pydata.org/pandas-docs/stable/indexing.html#indexing-view-versus-copy\n",
      "  app.launch_new_instance()\n"
     ]
    }
   ],
   "source": [
    "# how does a rating differ from what you'd expect for the given user and beer?\n",
    "#  trainers.user_bias - userbiasdict['user_id']\n",
    "trainers['deviation'] = trainers.user_bias - [userbiasdict[u] for u in trainers.user_id]"
   ]
  },
  {
   "cell_type": "code",
   "execution_count": 17,
   "metadata": {
    "collapsed": false
   },
   "outputs": [
    {
     "name": "stderr",
     "output_type": "stream",
     "text": [
      "/Applications/anaconda/lib/python3.6/site-packages/ipykernel/__main__.py:1: SettingWithCopyWarning: \n",
      "A value is trying to be set on a copy of a slice from a DataFrame.\n",
      "Try using .loc[row_indexer,col_indexer] = value instead\n",
      "\n",
      "See the caveats in the documentation: http://pandas.pydata.org/pandas-docs/stable/indexing.html#indexing-view-versus-copy\n",
      "  if __name__ == '__main__':\n"
     ]
    }
   ],
   "source": [
    "trainers['abs_dev'] = trainers.deviation.abs()"
   ]
  },
  {
   "cell_type": "code",
   "execution_count": 19,
   "metadata": {
    "collapsed": true
   },
   "outputs": [],
   "source": [
    "from scipy.stats import pearsonr"
   ]
  },
  {
   "cell_type": "code",
   "execution_count": 20,
   "metadata": {
    "collapsed": false
   },
   "outputs": [
    {
     "data": {
      "text/plain": [
       "(0.3730348371762281, 0.46640257370694121)"
      ]
     },
     "execution_count": 20,
     "metadata": {},
     "output_type": "execute_result"
    }
   ],
   "source": [
    "a = np.array([0.2,0,-0.1,0.3,-0.05,-0.09])\n",
    "b = np.array([0.04,.3,-.1,.1,0,-.1])\n",
    "pearsonr(a,b)"
   ]
  },
  {
   "cell_type": "markdown",
   "metadata": {},
   "source": [
    "Make graph representations of user rating biases in an attempt to identify similar/dissimilar users"
   ]
  },
  {
   "cell_type": "code",
   "execution_count": 22,
   "metadata": {
    "collapsed": true
   },
   "outputs": [],
   "source": [
    "udict = {uid:dict() for uid in trainers.user_id.unique()}\n",
    "bdict = {bid:dict() for bid in trainers.beer_id.unique()}\n",
    "for checkin in zip(trainers.user_id, trainers.beer_id, trainers.deviation):\n",
    "    udict[checkin[0]][checkin[1]] = checkin[2]\n",
    "    bdict[checkin[1]][checkin[0]] = checkin[2]\n",
    "    "
   ]
  },
  {
   "cell_type": "code",
   "execution_count": 23,
   "metadata": {
    "collapsed": true
   },
   "outputs": [],
   "source": [
    "from collections import defaultdict"
   ]
  },
  {
   "cell_type": "code",
   "execution_count": 24,
   "metadata": {
    "collapsed": false
   },
   "outputs": [],
   "source": [
    "# calculate user/user correlation/similarity \n",
    "shared = {u: defaultdict(lambda: defaultdict(float)) for u in udict}"
   ]
  },
  {
   "cell_type": "code",
   "execution_count": 25,
   "metadata": {
    "collapsed": false
   },
   "outputs": [
    {
     "name": "stderr",
     "output_type": "stream",
     "text": [
      "100%|██████████| 7896/7896 [2:09:43<00:00,  1.01it/s]     \n"
     ]
    }
   ],
   "source": [
    "# this takes an hour +-, with the nested loops, but seems messy otherwise\n",
    "for u in tqdm(udict):\n",
    "    # loop thru all checkins by u\n",
    "    for b in udict[u]:\n",
    "        # update the similarity factors for u-v for every checkin, as would happen with new checkins\n",
    "        for v in bdict[b]:\n",
    "            suv = shared[u][v]\n",
    "            suv['count'] += 1  # increment the common u-v ratings\n",
    "            #### stats.stackexchange has these going last, but then each new sample\n",
    "            ##### updates to a diff from mean that it contributes to, which seems wrong\n",
    "            ###### (and messes up the first one, where u_bar == u[b])  ####\n",
    "            u_dev = udict[u][b] - suv['u_bar']\n",
    "            v_dev = udict[v][b] - suv['v_bar']\n",
    "            suv['numer'] += u_dev * v_dev\n",
    "            suv['denom_1'] += u_dev ** 2\n",
    "            suv['denom_2'] += v_dev ** 2\n",
    "            #####\n",
    "            suv['u_bar'] = ((suv['count']-1) * suv['u_bar'] + udict[u][b]) / suv['count']\n",
    "            suv['v_bar'] = ((suv['count']-1) * suv['v_bar'] + udict[v][b]) / suv['count']\n",
    "            \n",
    "    # remove self-edges\n",
    "    del shared[u][u]"
   ]
  },
  {
   "cell_type": "code",
   "execution_count": 26,
   "metadata": {
    "collapsed": false
   },
   "outputs": [
    {
     "data": {
      "text/plain": [
       "4771"
      ]
     },
     "execution_count": 26,
     "metadata": {},
     "output_type": "execute_result"
    }
   ],
   "source": [
    "len(shared[206343])"
   ]
  },
  {
   "cell_type": "code",
   "execution_count": 48,
   "metadata": {
    "collapsed": false
   },
   "outputs": [
    {
     "name": "stderr",
     "output_type": "stream",
     "text": [
      "21793it [30:17,  9.31it/s]\n"
     ]
    },
    {
     "data": {
      "text/plain": [
       "0.43638834647435687"
      ]
     },
     "execution_count": 48,
     "metadata": {},
     "output_type": "execute_result"
    }
   ],
   "source": [
    "preds = []\n",
    "actual = []\n",
    "lam_4 = 25   # penalizes similarity scores based on few ratings\n",
    "lam_5 = 10  # cuts down on similarity influence on final prediction\n",
    "k = 2   # most similar or dissimilar raters\n",
    "eps = 1e-10  # occasional division by zero computing pearson\n",
    "start = 0  # index for testing\n",
    "end = len(testers)  # index for testing\n",
    "\n",
    "for row in tqdm(zip(testers.user_id[start:end], \n",
    "                    testers.beer_id[start:end], \n",
    "                    testers.rating_user[start:end])):\n",
    "    try:\n",
    "        x = row[1]  # beer\n",
    "        u = row[0]  # user\n",
    "        baseline = beer_mu[x] + userbiasdict[u]   # global rating for the beer plus user bias\n",
    "        # only looking for users v who rated the beer x in question\n",
    "        uv = [v for v in bdict[x] if v in shared[u]]\n",
    "        if not uv:  # sometimes there's no one in the training set who has common beers with user\n",
    "            preds.append(baseline)\n",
    "            actual.append(row[2])\n",
    "            continue\n",
    "        suv = [shared[u][v] for v in uv]\n",
    "        # first get u-v pearsons\n",
    "        ## https://stats.stackexchange.com/questions/410468/online-update-of-pearson-coefficient\n",
    "        sims = [s['numer'] / (np.sqrt(s['denom_1'] * s['denom_2'] + eps))\n",
    "                    for s in suv]  \n",
    "        # then shrink in relation to number of common u-v ratings\n",
    "        sims = np.multiply(np.array(sims),\n",
    "                           np.array([s['count'] / (s['count'] + lam_4) for s in suv]))\n",
    "        most_sim = sorted(list(zip(uv, sims)), key=lambda x: abs(x[1]), reverse=True)\n",
    "        # take the k most/least similar, or all for the many short lists\n",
    "        most_sim = most_sim[:min(k, len(most_sim))]\n",
    "        tweaks = [udict[sim[0]][x] * sim[1] for sim in most_sim]\n",
    "        tweak = sum(tweaks) / (sum(abs(sim[1]) for sim in most_sim) + lam_5)\n",
    "        preds.append(baseline + tweak)\n",
    "        actual.append(row[2])\n",
    "    except KeyError:\n",
    "        continue\n",
    "    except ZeroDivisionError:\n",
    "        print(row)\n",
    "        continue\n",
    "\n",
    "diffs = np.array(preds) - np.array(actual)\n",
    "rmse = np.sqrt(np.dot(diffs, diffs) / len(diffs))\n",
    "rmse"
   ]
  },
  {
   "cell_type": "code",
   "execution_count": 49,
   "metadata": {
    "collapsed": false
   },
   "outputs": [
    {
     "data": {
      "image/png": "[encoded data removed]",
      "text/plain": [
       "<matplotlib.figure.Figure at 0xa1e458cc0>"
      ]
     },
     "metadata": {},
     "output_type": "display_data"
    }
   ],
   "source": [
    "plt.hist(diffs, bins=50);"
   ]
  },
  {
   "cell_type": "code",
   "execution_count": null,
   "metadata": {
    "collapsed": true
   },
   "outputs": [],
   "source": []
  },
  {
   "cell_type": "markdown",
   "metadata": {},
   "source": [
    "#### Explore the ratings graph"
   ]
  },
  {
   "cell_type": "markdown",
   "metadata": {},
   "source": [
    "How many beer ID's are actually the same as user ID's? Because these could mess up graph analysis"
   ]
  },
  {
   "cell_type": "code",
   "execution_count": null,
   "metadata": {
    "collapsed": false
   },
   "outputs": [],
   "source": [
    "len(set(df.beer_id).intersection(set(df.user_id)))"
   ]
  },
  {
   "cell_type": "code",
   "execution_count": 6,
   "metadata": {
    "collapsed": true
   },
   "outputs": [],
   "source": [
    "# switch sign of user ID's so networkx doesn't confuse them with beer ID's\n",
    "df['neg_user_id'] = -df.user_id \n",
    "G = nx.from_pandas_dataframe(df, 'neg_user_id', 'beer_id', edge_attr='rating_user')"
   ]
  },
  {
   "cell_type": "code",
   "execution_count": 7,
   "metadata": {
    "collapsed": true
   },
   "outputs": [],
   "source": [
    "CCs = nx.connected_components(G)"
   ]
  },
  {
   "cell_type": "code",
   "execution_count": 9,
   "metadata": {
    "collapsed": false
   },
   "outputs": [
    {
     "data": {
      "text/plain": [
       "generator"
      ]
     },
     "execution_count": 9,
     "metadata": {},
     "output_type": "execute_result"
    }
   ],
   "source": [
    "type(CCs)"
   ]
  },
  {
   "cell_type": "code",
   "execution_count": 10,
   "metadata": {
    "collapsed": false
   },
   "outputs": [
    {
     "data": {
      "text/plain": [
       "6"
      ]
     },
     "execution_count": 10,
     "metadata": {},
     "output_type": "execute_result"
    }
   ],
   "source": [
    "nx.number_connected_components(G)"
   ]
  },
  {
   "cell_type": "code",
   "execution_count": 11,
   "metadata": {
    "collapsed": false
   },
   "outputs": [
    {
     "data": {
      "text/plain": [
       "[272515, 2, 3, 2, 2, 3]"
      ]
     },
     "execution_count": 11,
     "metadata": {},
     "output_type": "execute_result"
    }
   ],
   "source": [
    "CCsizes = [len(CC) for CC in CCs]\n",
    "CCsizes"
   ]
  },
  {
   "cell_type": "markdown",
   "metadata": {},
   "source": [
    "Better to just eliminate those 5 homebrew-type connected components so that the main component can be analyzed better."
   ]
  },
  {
   "cell_type": "code",
   "execution_count": 12,
   "metadata": {
    "collapsed": false
   },
   "outputs": [
    {
     "data": {
      "text/plain": [
       "[{-1073659, 2062392},\n",
       " {-6883764, 236187, 3288454},\n",
       " {-1911702, 3136176},\n",
       " {-472625, 3484065},\n",
       " {-783473, 282906, 1072155}]"
      ]
     },
     "execution_count": 12,
     "metadata": {},
     "output_type": "execute_result"
    }
   ],
   "source": [
    "CCs = nx.connected_components(G)\n",
    "[CC for CC in CCs if len(CC) < 4]"
   ]
  },
  {
   "cell_type": "code",
   "execution_count": 15,
   "metadata": {
    "collapsed": false
   },
   "outputs": [],
   "source": [
    "disconnected = df.set_index('user_id').loc[(1073659, 6883764, 1911702, 472625, 783473), :]"
   ]
  },
  {
   "cell_type": "code",
   "execution_count": 16,
   "metadata": {
    "collapsed": false
   },
   "outputs": [
    {
     "data": {
      "text/html": [
       "<div>\n",
       "<style scoped>\n",
       "    .dataframe tbody tr th:only-of-type {\n",
       "        vertical-align: middle;\n",
       "    }\n",
       "\n",
       "    .dataframe tbody tr th {\n",
       "        vertical-align: top;\n",
       "    }\n",
       "\n",
       "    .dataframe thead th {\n",
       "        text-align: right;\n",
       "    }\n",
       "</style>\n",
       "<table border=\"1\" class=\"dataframe\">\n",
       "  <thead>\n",
       "    <tr style=\"text-align: right;\">\n",
       "      <th></th>\n",
       "      <th>checkin_id</th>\n",
       "      <th>beer_id</th>\n",
       "      <th>rating_user</th>\n",
       "      <th>brewery_name</th>\n",
       "      <th>beer_name</th>\n",
       "      <th>beer_style</th>\n",
       "      <th>brewery_id</th>\n",
       "      <th>brewery_type</th>\n",
       "      <th>brewery_country</th>\n",
       "      <th>brewery_city</th>\n",
       "      <th>...</th>\n",
       "      <th>venue_state</th>\n",
       "      <th>venue_cat</th>\n",
       "      <th>venue_id</th>\n",
       "      <th>checkin_comment</th>\n",
       "      <th>venue_type</th>\n",
       "      <th>rating_global</th>\n",
       "      <th>beer_description</th>\n",
       "      <th>abv</th>\n",
       "      <th>date</th>\n",
       "      <th>neg_user_id</th>\n",
       "    </tr>\n",
       "    <tr>\n",
       "      <th>user_id</th>\n",
       "      <th></th>\n",
       "      <th></th>\n",
       "      <th></th>\n",
       "      <th></th>\n",
       "      <th></th>\n",
       "      <th></th>\n",
       "      <th></th>\n",
       "      <th></th>\n",
       "      <th></th>\n",
       "      <th></th>\n",
       "      <th></th>\n",
       "      <th></th>\n",
       "      <th></th>\n",
       "      <th></th>\n",
       "      <th></th>\n",
       "      <th></th>\n",
       "      <th></th>\n",
       "      <th></th>\n",
       "      <th></th>\n",
       "      <th></th>\n",
       "      <th></th>\n",
       "    </tr>\n",
       "  </thead>\n",
       "  <tbody>\n",
       "    <tr>\n",
       "      <th>1073659</th>\n",
       "      <td>450108472</td>\n",
       "      <td>2062392</td>\n",
       "      <td>0.5</td>\n",
       "      <td>Marble Brewery</td>\n",
       "      <td>Pina Pale</td>\n",
       "      <td>Pale Ale - American</td>\n",
       "      <td>825</td>\n",
       "      <td>Regional Brewery</td>\n",
       "      <td>United States</td>\n",
       "      <td>Albuquerque</td>\n",
       "      <td>...</td>\n",
       "      <td>NM</td>\n",
       "      <td>Nightlife Spot</td>\n",
       "      <td>5859322.0</td>\n",
       "      <td>NaN</td>\n",
       "      <td>['brewery', 'beer_bar', 'beer_garden', 'pub']</td>\n",
       "      <td>NaN</td>\n",
       "      <td>NaN</td>\n",
       "      <td>5.5</td>\n",
       "      <td>2017-05-09 02:44:03+00:00</td>\n",
       "      <td>-1073659</td>\n",
       "    </tr>\n",
       "    <tr>\n",
       "      <th>6883764</th>\n",
       "      <td>814644055</td>\n",
       "      <td>3288454</td>\n",
       "      <td>5.0</td>\n",
       "      <td>Mash House Brewing Company</td>\n",
       "      <td>Kilt Smasher BBA</td>\n",
       "      <td>Scotch Ale / Wee Heavy</td>\n",
       "      <td>834</td>\n",
       "      <td>Brew Pub</td>\n",
       "      <td>United States</td>\n",
       "      <td>Fayetteville</td>\n",
       "      <td>...</td>\n",
       "      <td>NaN</td>\n",
       "      <td>NaN</td>\n",
       "      <td>NaN</td>\n",
       "      <td>NaN</td>\n",
       "      <td>[]</td>\n",
       "      <td>NaN</td>\n",
       "      <td>NaN</td>\n",
       "      <td>8.0</td>\n",
       "      <td>2019-10-08 00:55:31+00:00</td>\n",
       "      <td>-6883764</td>\n",
       "    </tr>\n",
       "    <tr>\n",
       "      <th>6883764</th>\n",
       "      <td>814640718</td>\n",
       "      <td>236187</td>\n",
       "      <td>4.0</td>\n",
       "      <td>Mash House Brewing Company</td>\n",
       "      <td>Oktoberfest</td>\n",
       "      <td>Märzen</td>\n",
       "      <td>834</td>\n",
       "      <td>Brew Pub</td>\n",
       "      <td>United States</td>\n",
       "      <td>Fayetteville</td>\n",
       "      <td>...</td>\n",
       "      <td>NC</td>\n",
       "      <td>Nightlife Spot</td>\n",
       "      <td>28286.0</td>\n",
       "      <td>NaN</td>\n",
       "      <td>['brewery', 'american_restaurant', 'burger_joi...</td>\n",
       "      <td>NaN</td>\n",
       "      <td>NaN</td>\n",
       "      <td>6.5</td>\n",
       "      <td>2019-10-08 00:45:19+00:00</td>\n",
       "      <td>-6883764</td>\n",
       "    </tr>\n",
       "    <tr>\n",
       "      <th>1911702</th>\n",
       "      <td>727497696</td>\n",
       "      <td>3136176</td>\n",
       "      <td>4.0</td>\n",
       "      <td>R.Shea Brewing</td>\n",
       "      <td>Death By Milkshake: Raspberry + Strawberry</td>\n",
       "      <td>IPA - Milkshake</td>\n",
       "      <td>200442</td>\n",
       "      <td>Micro Brewery</td>\n",
       "      <td>United States</td>\n",
       "      <td>Akron</td>\n",
       "      <td>...</td>\n",
       "      <td>OH</td>\n",
       "      <td>Nightlife Spot</td>\n",
       "      <td>3560599.0</td>\n",
       "      <td>NaN</td>\n",
       "      <td>['brewery']</td>\n",
       "      <td>3.90545</td>\n",
       "      <td>New England style IPA with fermented on raspbe...</td>\n",
       "      <td>7.5</td>\n",
       "      <td>2019-03-23 21:52:08+00:00</td>\n",
       "      <td>-1911702</td>\n",
       "    </tr>\n",
       "    <tr>\n",
       "      <th>472625</th>\n",
       "      <td>818941280</td>\n",
       "      <td>3484065</td>\n",
       "      <td>5.0</td>\n",
       "      <td>Brewaucracy</td>\n",
       "      <td>Panic Buy (Riwaka)</td>\n",
       "      <td>Pale Ale - New Zealand</td>\n",
       "      <td>13426</td>\n",
       "      <td>Micro Brewery</td>\n",
       "      <td>New Zealand</td>\n",
       "      <td>Hamilton</td>\n",
       "      <td>...</td>\n",
       "      <td>Waikato</td>\n",
       "      <td>Nightlife Spot</td>\n",
       "      <td>7414747.0</td>\n",
       "      <td>NaN</td>\n",
       "      <td>['brewery']</td>\n",
       "      <td>4.20833</td>\n",
       "      <td>Anybody for the diesel-like goodness of a sing...</td>\n",
       "      <td>5.5</td>\n",
       "      <td>2019-10-19 02:49:44+00:00</td>\n",
       "      <td>-472625</td>\n",
       "    </tr>\n",
       "    <tr>\n",
       "      <th>783473</th>\n",
       "      <td>227845642</td>\n",
       "      <td>1072155</td>\n",
       "      <td>4.0</td>\n",
       "      <td>Taos Mesa Brewing</td>\n",
       "      <td>KNCE</td>\n",
       "      <td>IPA - American</td>\n",
       "      <td>38569</td>\n",
       "      <td>Brew Pub</td>\n",
       "      <td>United States</td>\n",
       "      <td>Taos</td>\n",
       "      <td>...</td>\n",
       "      <td>NaN</td>\n",
       "      <td>NaN</td>\n",
       "      <td>NaN</td>\n",
       "      <td>NaN</td>\n",
       "      <td>[]</td>\n",
       "      <td>NaN</td>\n",
       "      <td>NaN</td>\n",
       "      <td>0.0</td>\n",
       "      <td>2015-09-23 01:51:31+00:00</td>\n",
       "      <td>-783473</td>\n",
       "    </tr>\n",
       "    <tr>\n",
       "      <th>783473</th>\n",
       "      <td>103495838</td>\n",
       "      <td>282906</td>\n",
       "      <td>5.0</td>\n",
       "      <td>Taos Mesa Brewing</td>\n",
       "      <td>Hopper IPA</td>\n",
       "      <td>IPA - American</td>\n",
       "      <td>38569</td>\n",
       "      <td>Brew Pub</td>\n",
       "      <td>United States</td>\n",
       "      <td>Taos</td>\n",
       "      <td>...</td>\n",
       "      <td>NaN</td>\n",
       "      <td>NaN</td>\n",
       "      <td>NaN</td>\n",
       "      <td>NaN</td>\n",
       "      <td>[]</td>\n",
       "      <td>3.49510</td>\n",
       "      <td>This American style IPA has a strong floral no...</td>\n",
       "      <td>7.2</td>\n",
       "      <td>2014-07-31 01:27:58+00:00</td>\n",
       "      <td>-783473</td>\n",
       "    </tr>\n",
       "  </tbody>\n",
       "</table>\n",
       "<p>7 rows × 27 columns</p>\n",
       "</div>"
      ],
      "text/plain": [
       "         checkin_id  beer_id  rating_user                brewery_name  \\\n",
       "user_id                                                                 \n",
       "1073659   450108472  2062392          0.5              Marble Brewery   \n",
       "6883764   814644055  3288454          5.0  Mash House Brewing Company   \n",
       "6883764   814640718   236187          4.0  Mash House Brewing Company   \n",
       "1911702   727497696  3136176          4.0              R.Shea Brewing   \n",
       "472625    818941280  3484065          5.0                 Brewaucracy   \n",
       "783473    227845642  1072155          4.0           Taos Mesa Brewing   \n",
       "783473    103495838   282906          5.0           Taos Mesa Brewing   \n",
       "\n",
       "                                          beer_name              beer_style  \\\n",
       "user_id                                                                       \n",
       "1073659                                   Pina Pale     Pale Ale - American   \n",
       "6883764                            Kilt Smasher BBA  Scotch Ale / Wee Heavy   \n",
       "6883764                                 Oktoberfest                  Märzen   \n",
       "1911702  Death By Milkshake: Raspberry + Strawberry         IPA - Milkshake   \n",
       "472625                           Panic Buy (Riwaka)  Pale Ale - New Zealand   \n",
       "783473                                         KNCE          IPA - American   \n",
       "783473                                   Hopper IPA          IPA - American   \n",
       "\n",
       "         brewery_id      brewery_type brewery_country  brewery_city  ...  \\\n",
       "user_id                                                              ...   \n",
       "1073659         825  Regional Brewery   United States   Albuquerque  ...   \n",
       "6883764         834          Brew Pub   United States  Fayetteville  ...   \n",
       "6883764         834          Brew Pub   United States  Fayetteville  ...   \n",
       "1911702      200442     Micro Brewery   United States         Akron  ...   \n",
       "472625        13426     Micro Brewery     New Zealand      Hamilton  ...   \n",
       "783473        38569          Brew Pub   United States          Taos  ...   \n",
       "783473        38569          Brew Pub   United States          Taos  ...   \n",
       "\n",
       "        venue_state       venue_cat   venue_id  checkin_comment  \\\n",
       "user_id                                                           \n",
       "1073659          NM  Nightlife Spot  5859322.0              NaN   \n",
       "6883764         NaN             NaN        NaN              NaN   \n",
       "6883764          NC  Nightlife Spot    28286.0              NaN   \n",
       "1911702          OH  Nightlife Spot  3560599.0              NaN   \n",
       "472625      Waikato  Nightlife Spot  7414747.0              NaN   \n",
       "783473          NaN             NaN        NaN              NaN   \n",
       "783473          NaN             NaN        NaN              NaN   \n",
       "\n",
       "                                                venue_type rating_global  \\\n",
       "user_id                                                                    \n",
       "1073659      ['brewery', 'beer_bar', 'beer_garden', 'pub']           NaN   \n",
       "6883764                                                 []           NaN   \n",
       "6883764  ['brewery', 'american_restaurant', 'burger_joi...           NaN   \n",
       "1911702                                        ['brewery']       3.90545   \n",
       "472625                                         ['brewery']       4.20833   \n",
       "783473                                                  []           NaN   \n",
       "783473                                                  []       3.49510   \n",
       "\n",
       "                                          beer_description  abv  \\\n",
       "user_id                                                           \n",
       "1073659                                                NaN  5.5   \n",
       "6883764                                                NaN  8.0   \n",
       "6883764                                                NaN  6.5   \n",
       "1911702  New England style IPA with fermented on raspbe...  7.5   \n",
       "472625   Anybody for the diesel-like goodness of a sing...  5.5   \n",
       "783473                                                 NaN  0.0   \n",
       "783473   This American style IPA has a strong floral no...  7.2   \n",
       "\n",
       "                              date  neg_user_id  \n",
       "user_id                                          \n",
       "1073659  2017-05-09 02:44:03+00:00     -1073659  \n",
       "6883764  2019-10-08 00:55:31+00:00     -6883764  \n",
       "6883764  2019-10-08 00:45:19+00:00     -6883764  \n",
       "1911702  2019-03-23 21:52:08+00:00     -1911702  \n",
       "472625   2019-10-19 02:49:44+00:00      -472625  \n",
       "783473   2015-09-23 01:51:31+00:00      -783473  \n",
       "783473   2014-07-31 01:27:58+00:00      -783473  \n",
       "\n",
       "[7 rows x 27 columns]"
      ]
     },
     "execution_count": 16,
     "metadata": {},
     "output_type": "execute_result"
    }
   ],
   "source": [
    "disconnected"
   ]
  },
  {
   "cell_type": "code",
   "execution_count": 17,
   "metadata": {
    "collapsed": false
   },
   "outputs": [
    {
     "data": {
      "text/plain": [
       "1296057"
      ]
     },
     "execution_count": 17,
     "metadata": {},
     "output_type": "execute_result"
    }
   ],
   "source": [
    "df = df[(df.user_id !=1073659) & (df.user_id !=6883764) &\n",
    "        (df.user_id !=1911702) & (df.user_id !=472625) & (df.user_id !=783473)]\n",
    "len(df)"
   ]
  },
  {
   "cell_type": "code",
   "execution_count": 20,
   "metadata": {
    "collapsed": true
   },
   "outputs": [],
   "source": [
    "G = nx.from_pandas_dataframe(df, 'neg_user_id', 'beer_id', edge_attr='rating_user')"
   ]
  },
  {
   "cell_type": "code",
   "execution_count": 89,
   "metadata": {
    "collapsed": false
   },
   "outputs": [
    {
     "ename": "NameError",
     "evalue": "name 'G' is not defined",
     "output_type": "error",
     "traceback": [
      "\u001b[0;31m---------------------------------------------------------------------------\u001b[0m",
      "\u001b[0;31mNameError\u001b[0m                                 Traceback (most recent call last)",
      "\u001b[0;32m<ipython-input-89-6d6b2cafd34a>\u001b[0m in \u001b[0;36m<module>\u001b[0;34m()\u001b[0m\n\u001b[0;32m----> 1\u001b[0;31m \u001b[0mbipartite\u001b[0m\u001b[0;34m.\u001b[0m\u001b[0mis_bipartite\u001b[0m\u001b[0;34m(\u001b[0m\u001b[0mG\u001b[0m\u001b[0;34m)\u001b[0m\u001b[0;34m\u001b[0m\u001b[0;34m\u001b[0m\u001b[0m\n\u001b[0m",
      "\u001b[0;31mNameError\u001b[0m: name 'G' is not defined"
     ]
    }
   ],
   "source": [
    "bipartite.is_bipartite(G)"
   ]
  },
  {
   "cell_type": "code",
   "execution_count": 88,
   "metadata": {
    "collapsed": false
   },
   "outputs": [],
   "source": [
    "#  nx.diameter(G)\n",
    "## Takes too long"
   ]
  },
  {
   "cell_type": "code",
   "execution_count": 18,
   "metadata": {
    "collapsed": false
   },
   "outputs": [
    {
     "data": {
      "text/plain": [
       "0.0006194297270503944"
      ]
     },
     "execution_count": 18,
     "metadata": {},
     "output_type": "execute_result"
    }
   ],
   "source": [
    "bipartite.density(G, df.neg_user_id.unique())"
   ]
  },
  {
   "cell_type": "code",
   "execution_count": 19,
   "metadata": {
    "collapsed": false
   },
   "outputs": [
    {
     "data": {
      "text/plain": [
       "0.0006194297270503944"
      ]
     },
     "execution_count": 19,
     "metadata": {},
     "output_type": "execute_result"
    }
   ],
   "source": [
    "bipartite.density(G, df.beer_id.unique())"
   ]
  },
  {
   "cell_type": "markdown",
   "metadata": {},
   "source": [
    "#### Build graph from scratch for more custom analysis"
   ]
  },
  {
   "cell_type": "code",
   "execution_count": 21,
   "metadata": {
    "collapsed": true
   },
   "outputs": [],
   "source": [
    "# clear up some memory\n",
    "del G"
   ]
  },
  {
   "cell_type": "code",
   "execution_count": 22,
   "metadata": {
    "collapsed": true
   },
   "outputs": [],
   "source": [
    "udict = {uid:dict() for uid in df.neg_user_id.unique()}\n",
    "bdict = {bid:dict() for bid in df.beer_id.unique()}"
   ]
  },
  {
   "cell_type": "code",
   "execution_count": 23,
   "metadata": {
    "collapsed": false
   },
   "outputs": [],
   "source": [
    "for checkin in zip(df.neg_user_id, df.beer_id, df.rating_user):\n",
    "    udict[checkin[0]][checkin[1]] = checkin[2]\n",
    "    bdict[checkin[1]][checkin[0]] = checkin[2]"
   ]
  },
  {
   "cell_type": "code",
   "execution_count": 90,
   "metadata": {
    "collapsed": false
   },
   "outputs": [
    {
     "ename": "NameError",
     "evalue": "name 'bdict' is not defined",
     "output_type": "error",
     "traceback": [
      "\u001b[0;31m---------------------------------------------------------------------------\u001b[0m",
      "\u001b[0;31mNameError\u001b[0m                                 Traceback (most recent call last)",
      "\u001b[0;32m<ipython-input-90-ec72f505c4fb>\u001b[0m in \u001b[0;36m<module>\u001b[0;34m()\u001b[0m\n\u001b[0;32m----> 1\u001b[0;31m \u001b[0mbdict\u001b[0m\u001b[0;34m[\u001b[0m\u001b[0;36m10\u001b[0m\u001b[0;34m]\u001b[0m\u001b[0;34m\u001b[0m\u001b[0;34m\u001b[0m\u001b[0m\n\u001b[0m",
      "\u001b[0;31mNameError\u001b[0m: name 'bdict' is not defined"
     ]
    }
   ],
   "source": [
    "bdict[10]"
   ]
  },
  {
   "cell_type": "code",
   "execution_count": 25,
   "metadata": {
    "collapsed": false
   },
   "outputs": [
    {
     "data": {
      "text/html": [
       "<div>\n",
       "<style scoped>\n",
       "    .dataframe tbody tr th:only-of-type {\n",
       "        vertical-align: middle;\n",
       "    }\n",
       "\n",
       "    .dataframe tbody tr th {\n",
       "        vertical-align: top;\n",
       "    }\n",
       "\n",
       "    .dataframe thead th {\n",
       "        text-align: right;\n",
       "    }\n",
       "</style>\n",
       "<table border=\"1\" class=\"dataframe\">\n",
       "  <thead>\n",
       "    <tr style=\"text-align: right;\">\n",
       "      <th></th>\n",
       "      <th>checkin_id</th>\n",
       "      <th>beer_id</th>\n",
       "      <th>user_id</th>\n",
       "      <th>rating_user</th>\n",
       "      <th>brewery_name</th>\n",
       "      <th>beer_name</th>\n",
       "      <th>beer_style</th>\n",
       "      <th>brewery_id</th>\n",
       "      <th>brewery_type</th>\n",
       "      <th>brewery_country</th>\n",
       "      <th>...</th>\n",
       "      <th>venue_state</th>\n",
       "      <th>venue_cat</th>\n",
       "      <th>venue_id</th>\n",
       "      <th>checkin_comment</th>\n",
       "      <th>venue_type</th>\n",
       "      <th>rating_global</th>\n",
       "      <th>beer_description</th>\n",
       "      <th>abv</th>\n",
       "      <th>date</th>\n",
       "      <th>neg_user_id</th>\n",
       "    </tr>\n",
       "  </thead>\n",
       "  <tbody>\n",
       "    <tr>\n",
       "      <th>231947</th>\n",
       "      <td>173111507</td>\n",
       "      <td>10</td>\n",
       "      <td>206343</td>\n",
       "      <td>3.5</td>\n",
       "      <td>Fort Collins Brewery (FCB)</td>\n",
       "      <td>Chocolate Stout</td>\n",
       "      <td>Stout - American</td>\n",
       "      <td>545</td>\n",
       "      <td>Micro Brewery</td>\n",
       "      <td>United States</td>\n",
       "      <td>...</td>\n",
       "      <td>NaN</td>\n",
       "      <td>NaN</td>\n",
       "      <td>NaN</td>\n",
       "      <td>NaN</td>\n",
       "      <td>[]</td>\n",
       "      <td>3.38719</td>\n",
       "      <td>A velvety smooth mouthfeel, satisfyingly roast...</td>\n",
       "      <td>5.3</td>\n",
       "      <td>2015-04-16 01:35:20+00:00</td>\n",
       "      <td>-206343</td>\n",
       "    </tr>\n",
       "    <tr>\n",
       "      <th>279919</th>\n",
       "      <td>155151913</td>\n",
       "      <td>10</td>\n",
       "      <td>74754</td>\n",
       "      <td>3.0</td>\n",
       "      <td>Fort Collins Brewery (FCB)</td>\n",
       "      <td>Chocolate Stout</td>\n",
       "      <td>Stout - American</td>\n",
       "      <td>545</td>\n",
       "      <td>Micro Brewery</td>\n",
       "      <td>United States</td>\n",
       "      <td>...</td>\n",
       "      <td>NaN</td>\n",
       "      <td>NaN</td>\n",
       "      <td>NaN</td>\n",
       "      <td>NaN</td>\n",
       "      <td>[]</td>\n",
       "      <td>3.38719</td>\n",
       "      <td>A velvety smooth mouthfeel, satisfyingly roast...</td>\n",
       "      <td>5.3</td>\n",
       "      <td>2015-02-15 02:06:54+00:00</td>\n",
       "      <td>-74754</td>\n",
       "    </tr>\n",
       "    <tr>\n",
       "      <th>1160074</th>\n",
       "      <td>140077209</td>\n",
       "      <td>10</td>\n",
       "      <td>1854202</td>\n",
       "      <td>3.0</td>\n",
       "      <td>Fort Collins Brewery (FCB)</td>\n",
       "      <td>Chocolate Stout</td>\n",
       "      <td>Stout - American</td>\n",
       "      <td>545</td>\n",
       "      <td>Micro Brewery</td>\n",
       "      <td>United States</td>\n",
       "      <td>...</td>\n",
       "      <td>NaN</td>\n",
       "      <td>NaN</td>\n",
       "      <td>NaN</td>\n",
       "      <td>NaN</td>\n",
       "      <td>[]</td>\n",
       "      <td>3.38719</td>\n",
       "      <td>A velvety smooth mouthfeel, satisfyingly roast...</td>\n",
       "      <td>5.3</td>\n",
       "      <td>2014-12-24 05:22:14+00:00</td>\n",
       "      <td>-1854202</td>\n",
       "    </tr>\n",
       "  </tbody>\n",
       "</table>\n",
       "<p>3 rows × 28 columns</p>\n",
       "</div>"
      ],
      "text/plain": [
       "         checkin_id  beer_id  user_id  rating_user  \\\n",
       "231947    173111507       10   206343          3.5   \n",
       "279919    155151913       10    74754          3.0   \n",
       "1160074   140077209       10  1854202          3.0   \n",
       "\n",
       "                       brewery_name        beer_name        beer_style  \\\n",
       "231947   Fort Collins Brewery (FCB)  Chocolate Stout  Stout - American   \n",
       "279919   Fort Collins Brewery (FCB)  Chocolate Stout  Stout - American   \n",
       "1160074  Fort Collins Brewery (FCB)  Chocolate Stout  Stout - American   \n",
       "\n",
       "         brewery_id   brewery_type brewery_country  ... venue_state venue_cat  \\\n",
       "231947          545  Micro Brewery   United States  ...         NaN       NaN   \n",
       "279919          545  Micro Brewery   United States  ...         NaN       NaN   \n",
       "1160074         545  Micro Brewery   United States  ...         NaN       NaN   \n",
       "\n",
       "         venue_id  checkin_comment  venue_type  rating_global  \\\n",
       "231947        NaN              NaN          []        3.38719   \n",
       "279919        NaN              NaN          []        3.38719   \n",
       "1160074       NaN              NaN          []        3.38719   \n",
       "\n",
       "                                          beer_description  abv  \\\n",
       "231947   A velvety smooth mouthfeel, satisfyingly roast...  5.3   \n",
       "279919   A velvety smooth mouthfeel, satisfyingly roast...  5.3   \n",
       "1160074  A velvety smooth mouthfeel, satisfyingly roast...  5.3   \n",
       "\n",
       "                              date neg_user_id  \n",
       "231947   2015-04-16 01:35:20+00:00     -206343  \n",
       "279919   2015-02-15 02:06:54+00:00      -74754  \n",
       "1160074  2014-12-24 05:22:14+00:00    -1854202  \n",
       "\n",
       "[3 rows x 28 columns]"
      ]
     },
     "execution_count": 25,
     "metadata": {},
     "output_type": "execute_result"
    }
   ],
   "source": [
    "df[df.beer_id==10]"
   ]
  },
  {
   "cell_type": "code",
   "execution_count": 26,
   "metadata": {
    "collapsed": false
   },
   "outputs": [
    {
     "data": {
      "text/plain": [
       "{10: 3.5,\n",
       " 59: 3.0,\n",
       " 372: 3.5,\n",
       " 406: 4.0,\n",
       " 799: 3.75,\n",
       " 1070: 3.5,\n",
       " 1071: 4.0,\n",
       " 1253: 4.0,\n",
       " 1382: 4.0,\n",
       " 1425: 3.5,\n",
       " 1465: 4.0,\n",
       " 2178: 3.5,\n",
       " 2290: 3.5,\n",
       " 2983: 3.0,\n",
       " 3111: 3.5,\n",
       " 3351: 3.5,\n",
       " 3710: 4.0,\n",
       " 3770: 3.0,\n",
       " 3787: 3.0,\n",
       " 3832: 3.5,\n",
       " 3919: 4.0,\n",
       " 3950: 3.5,\n",
       " 3952: 3.5,\n",
       " 4136: 4.0,\n",
       " 4172: 3.5,\n",
       " 4182: 3.5,\n",
       " 4538: 3.0,\n",
       " 4593: 3.5,\n",
       " 4665: 3.0,\n",
       " 4863: 4.5,\n",
       " 4886: 5.0,\n",
       " 4888: 4.5,\n",
       " 4997: 3.0,\n",
       " 5009: 3.5,\n",
       " 5382: 4.0,\n",
       " 5406: 3.5,\n",
       " 5558: 3.5,\n",
       " 5729: 3.5,\n",
       " 5756: 4.0,\n",
       " 5771: 4.0,\n",
       " 5977: 3.5,\n",
       " 6102: 3.0,\n",
       " 6415: 4.0,\n",
       " 6469: 3.5,\n",
       " 6727: 3.0,\n",
       " 6775: 3.0,\n",
       " 6811: 4.0,\n",
       " 6857: 4.0,\n",
       " 6873: 4.0,\n",
       " 7600: 3.5,\n",
       " 9251: 3.5,\n",
       " 9657: 3.5,\n",
       " 10281: 4.0,\n",
       " 11950: 3.5,\n",
       " 12097: 4.0,\n",
       " 12238: 4.0,\n",
       " 12560: 3.5,\n",
       " 12943: 4.0,\n",
       " 13003: 3.5,\n",
       " 13105: 3.5,\n",
       " 13559: 5.0,\n",
       " 13560: 4.0,\n",
       " 14814: 3.5,\n",
       " 17513: 4.0,\n",
       " 20840: 3.5,\n",
       " 21004: 3.0,\n",
       " 23134: 3.5,\n",
       " 23650: 4.0,\n",
       " 24943: 3.5,\n",
       " 26414: 3.5,\n",
       " 26599: 3.5,\n",
       " 27915: 3.5,\n",
       " 29286: 3.0,\n",
       " 29679: 3.5,\n",
       " 36012: 4.0,\n",
       " 36834: 4.0,\n",
       " 42609: 3.5,\n",
       " 44575: 3.5,\n",
       " 45245: 3.5,\n",
       " 47157: 3.5,\n",
       " 47515: 4.0,\n",
       " 50428: 4.5,\n",
       " 50755: 3.0,\n",
       " 52208: 4.0,\n",
       " 65748: 3.5,\n",
       " 68394: 3.5,\n",
       " 74602: 5.0,\n",
       " 78774: 4.0,\n",
       " 81026: 4.0,\n",
       " 95445: 4.0,\n",
       " 104555: 3.5,\n",
       " 113562: 4.0,\n",
       " 114278: 3.5,\n",
       " 119436: 3.5,\n",
       " 123725: 3.5,\n",
       " 123854: 3.5,\n",
       " 129159: 3.5,\n",
       " 129417: 3.5,\n",
       " 129627: 3.5,\n",
       " 132097: 4.0,\n",
       " 141023: 3.5,\n",
       " 144153: 3.5,\n",
       " 144918: 3.0,\n",
       " 165103: 4.5,\n",
       " 167469: 3.5,\n",
       " 171054: 3.5,\n",
       " 175862: 4.0,\n",
       " 184812: 3.5,\n",
       " 198572: 4.0,\n",
       " 199781: 4.0,\n",
       " 223880: 4.0,\n",
       " 236863: 2.5,\n",
       " 243549: 3.5,\n",
       " 250923: 4.0,\n",
       " 262545: 4.0,\n",
       " 263329: 3.0,\n",
       " 275839: 4.0,\n",
       " 277104: 4.5,\n",
       " 278918: 4.0,\n",
       " 281819: 4.0,\n",
       " 285026: 3.5,\n",
       " 287002: 3.5,\n",
       " 288228: 4.0,\n",
       " 301756: 3.0,\n",
       " 305348: 4.0,\n",
       " 305835: 3.0,\n",
       " 306116: 3.25,\n",
       " 309347: 4.0,\n",
       " 317629: 4.0,\n",
       " 321429: 3.5,\n",
       " 323568: 3.0,\n",
       " 331207: 3.0,\n",
       " 335541: 4.0,\n",
       " 335672: 3.5,\n",
       " 338607: 3.0,\n",
       " 339414: 4.0,\n",
       " 351711: 4.0,\n",
       " 356980: 3.5,\n",
       " 369398: 4.0,\n",
       " 370350: 3.5,\n",
       " 375979: 3.5,\n",
       " 382755: 3.5,\n",
       " 386336: 4.0,\n",
       " 392797: 3.5,\n",
       " 393337: 3.5,\n",
       " 393414: 3.5,\n",
       " 395813: 4.0,\n",
       " 399797: 3.5,\n",
       " 408438: 3.5,\n",
       " 422923: 3.0,\n",
       " 430672: 3.5,\n",
       " 442106: 3.25,\n",
       " 444223: 3.5,\n",
       " 456261: 4.0,\n",
       " 463506: 4.0,\n",
       " 468020: 4.0,\n",
       " 488376: 3.5,\n",
       " 492633: 4.25,\n",
       " 496699: 3.5,\n",
       " 506129: 3.0,\n",
       " 511323: 3.5,\n",
       " 529396: 3.5,\n",
       " 534306: 2.75,\n",
       " 557688: 4.5,\n",
       " 564010: 5.0,\n",
       " 564031: 3.0,\n",
       " 572456: 4.0,\n",
       " 577315: 3.0,\n",
       " 588286: 4.0,\n",
       " 606165: 4.5,\n",
       " 616261: 3.5,\n",
       " 620616: 4.0,\n",
       " 642734: 4.0,\n",
       " 681640: 4.0,\n",
       " 690331: 3.5,\n",
       " 695996: 4.0,\n",
       " 710947: 4.0,\n",
       " 718586: 4.0,\n",
       " 732903: 3.5,\n",
       " 740982: 4.0,\n",
       " 747218: 4.0,\n",
       " 755655: 3.75,\n",
       " 763121: 4.0,\n",
       " 774459: 3.5,\n",
       " 776678: 4.0,\n",
       " 778105: 3.5,\n",
       " 778146: 3.5,\n",
       " 819728: 4.0,\n",
       " 822123: 4.0,\n",
       " 823010: 4.0,\n",
       " 850847: 4.0,\n",
       " 853554: 4.0,\n",
       " 861573: 4.0,\n",
       " 902149: 3.5,\n",
       " 915506: 3.5,\n",
       " 941619: 3.0,\n",
       " 983805: 4.0,\n",
       " 1041469: 3.5,\n",
       " 1057222: 3.5,\n",
       " 1075764: 4.0,\n",
       " 1121155: 4.0,\n",
       " 1145111: 3.5,\n",
       " 1157959: 4.0,\n",
       " 1162389: 3.0,\n",
       " 1177187: 4.0,\n",
       " 1178942: 3.5,\n",
       " 1199597: 3.75,\n",
       " 1278423: 3.0,\n",
       " 1278484: 4.0,\n",
       " 1342162: 4.0,\n",
       " 1403180: 3.5,\n",
       " 1447230: 4.5,\n",
       " 1484785: 4.0,\n",
       " 1490463: 3.5,\n",
       " 1497852: 3.75,\n",
       " 1517044: 3.5,\n",
       " 1518556: 4.0,\n",
       " 1576248: 3.25,\n",
       " 1597072: 4.0,\n",
       " 1650258: 3.0,\n",
       " 1658105: 4.5,\n",
       " 1673914: 4.0,\n",
       " 1817984: 4.5,\n",
       " 1824626: 4.0,\n",
       " 1931509: 4.0,\n",
       " 2163555: 3.5,\n",
       " 2380960: 3.25,\n",
       " 2388632: 4.0,\n",
       " 2424364: 3.75,\n",
       " 2430466: 4.0,\n",
       " 2557525: 4.0,\n",
       " 2602436: 4.0,\n",
       " 2826202: 3.5,\n",
       " 3049765: 4.0,\n",
       " 3094480: 4.0}"
      ]
     },
     "execution_count": 26,
     "metadata": {},
     "output_type": "execute_result"
    }
   ],
   "source": [
    "udict[-206343]"
   ]
  },
  {
   "cell_type": "markdown",
   "metadata": {},
   "source": [
    "#### Make the L-bipartite weighted projection graph:"
   ]
  },
  {
   "cell_type": "code",
   "execution_count": 28,
   "metadata": {
    "collapsed": true
   },
   "outputs": [],
   "source": [
    "from collections import defaultdict\n",
    "\n",
    "# this will show how many in-common beers each user has with \n",
    "## each other user who has at least one in common\n",
    "shared = {u: defaultdict(int) for u in df.neg_user_id.unique()}\n",
    "\n",
    "# this takes about a minute, with the nested loops, but seems messy otherwise\n",
    "for u1 in udict:\n",
    "    # loop thru all checkins by u1\n",
    "    for b in udict[u1]:\n",
    "        # mark where a common beer was rated\n",
    "        for u2 in bdict[b]:\n",
    "            shared[u1][u2] += 1\n",
    "    # remove self-edges\n",
    "    del shared[u1][u1]\n",
    "\n",
    "len(shared[-206343])"
   ]
  },
  {
   "cell_type": "code",
   "execution_count": 61,
   "metadata": {
    "collapsed": false
   },
   "outputs": [
    {
     "data": {
      "image/png": "[encoded data removed]",
      "text/plain": [
       "<matplotlib.figure.Figure at 0xa14c61ba8>"
      ]
     },
     "metadata": {},
     "output_type": "display_data"
    }
   ],
   "source": [
    "# how many other users have at least 1 rated beer in common with a user\n",
    "plt.hist([len(shared[user]) for user in shared], bins=20)\n",
    "plt.xlabel('number of other users')\n",
    "plt.ylabel('number of users');"
   ]
  },
  {
   "cell_type": "code",
   "execution_count": 52,
   "metadata": {
    "collapsed": false
   },
   "outputs": [
    {
     "data": {
      "text/plain": [
       "[27, 27, 23, 23, 16, 16, 15, 14, 13, 13, 13]"
      ]
     },
     "execution_count": 52,
     "metadata": {},
     "output_type": "execute_result"
    }
   ],
   "source": [
    "# how many shared items with the most similar users\n",
    "sorted(shared[-206343].values(), reverse=True)[:11]"
   ]
  },
  {
   "cell_type": "markdown",
   "metadata": {},
   "source": [
    "A dictionary of dictionaries is kind of overkill here, especially when sorting comes into it, so probably a dictionary of lists of tuples would be more efficient"
   ]
  },
  {
   "cell_type": "code",
   "execution_count": 67,
   "metadata": {
    "collapsed": false
   },
   "outputs": [],
   "source": [
    "shared = {u1: sorted([(u2, shared[u1][u2]) for u2 in shared[u1]],\n",
    "                     key=lambda tup: tup[1], reverse=True) for u1 in shared}\n"
   ]
  },
  {
   "cell_type": "markdown",
   "metadata": {},
   "source": [
    "How much harder to make the beer-centric R-bipartite projected weighted graph?"
   ]
  },
  {
   "cell_type": "code",
   "execution_count": 71,
   "metadata": {
    "collapsed": false
   },
   "outputs": [],
   "source": [
    "# this will show how many in-common raters each beer has with \n",
    "## each other beer that has at least one in common\n",
    "similars = {b: defaultdict(int) for b in df.beer_id.unique()}"
   ]
  },
  {
   "cell_type": "code",
   "execution_count": 72,
   "metadata": {
    "collapsed": true
   },
   "outputs": [],
   "source": [
    "# this takes about 2 minutes, with the nested loops, but seems messy otherwise\n",
    "for b1 in bdict:\n",
    "    # loop thru all checkins for b1\n",
    "    for u in bdict[b1]:\n",
    "        # mark which others were rated by same user\n",
    "        for b2 in udict[u]:\n",
    "            similars[b1][b2] += 1\n",
    "    # remove self-edges\n",
    "    del similars[b1][b1]"
   ]
  },
  {
   "cell_type": "code",
   "execution_count": 78,
   "metadata": {
    "collapsed": false
   },
   "outputs": [
    {
     "data": {
      "text/plain": [
       "[4, 4, 4, 4, 3, 3, 3, 3, 3, 3, 3, 3, 3, 3, 3, 2, 2, 2, 2, 2, 2, 2]"
      ]
     },
     "execution_count": 78,
     "metadata": {},
     "output_type": "execute_result"
    }
   ],
   "source": [
    "# how many common raters for a random beer, sorted\n",
    "sorted(similars[564010].values(), reverse=True)[:22]"
   ]
  },
  {
   "cell_type": "markdown",
   "metadata": {},
   "source": [
    "At first, random glance, the L-bipartite (User-centric) projection will be more useful, since denser."
   ]
  },
  {
   "cell_type": "code",
   "execution_count": null,
   "metadata": {
    "collapsed": true
   },
   "outputs": [],
   "source": []
  },
  {
   "cell_type": "code",
   "execution_count": null,
   "metadata": {
    "collapsed": true
   },
   "outputs": [],
   "source": []
  },
  {
   "cell_type": "code",
   "execution_count": null,
   "metadata": {
    "collapsed": true
   },
   "outputs": [],
   "source": []
  },
  {
   "cell_type": "code",
   "execution_count": null,
   "metadata": {
    "collapsed": true
   },
   "outputs": [],
   "source": []
  },
  {
   "cell_type": "code",
   "execution_count": null,
   "metadata": {
    "collapsed": true
   },
   "outputs": [],
   "source": []
  },
  {
   "cell_type": "code",
   "execution_count": 28,
   "metadata": {
    "collapsed": true
   },
   "outputs": [],
   "source": [
    "reader = Reader(rating_scale=(0.25, 5.0))"
   ]
  },
  {
   "cell_type": "markdown",
   "metadata": {},
   "source": [
    "### Put this into surprise's format (user, beer, rating)"
   ]
  },
  {
   "cell_type": "code",
   "execution_count": 29,
   "metadata": {
    "collapsed": false
   },
   "outputs": [],
   "source": [
    "# The columns must correspond to user_id, beer_id and ratings (in that order).\n",
    "data = Dataset.load_from_df(df[['user_id', 'beer_id', 'rating_user']], reader)"
   ]
  },
  {
   "cell_type": "code",
   "execution_count": 30,
   "metadata": {
    "collapsed": true
   },
   "outputs": [],
   "source": [
    "# define a cross-validation iterator\n",
    "kf = KFold(n_splits=5)\n",
    "algo = SVD()\n"
   ]
  },
  {
   "cell_type": "code",
   "execution_count": 33,
   "metadata": {
    "collapsed": false
   },
   "outputs": [
    {
     "name": "stdout",
     "output_type": "stream",
     "text": [
      "RMSE: 0.4650\n",
      "RMSE: 0.4650\n",
      "RMSE: 0.4634\n",
      "RMSE: 0.4653\n",
      "RMSE: 0.4633\n"
     ]
    }
   ],
   "source": [
    "\n",
    "for trainset, testset in kf.split(data):\n",
    "    # Train the algorithm on the trainset, and predict ratings for the testset\n",
    "    algo.fit(trainset)\n",
    "    predictions = algo.test(testset)\n",
    "\n",
    "    # Then compute RMSE\n",
    "    accuracy.rmse(predictions)"
   ]
  },
  {
   "cell_type": "code",
   "execution_count": 165,
   "metadata": {
    "collapsed": false
   },
   "outputs": [
    {
     "name": "stdout",
     "output_type": "stream",
     "text": [
      "RMSE: 0.4726\n",
      "RMSE: 0.4729\n",
      "RMSE: 0.4733\n",
      "RMSE: 0.4758\n",
      "RMSE: 0.4729\n"
     ]
    }
   ],
   "source": [
    "\n",
    "for trainset, testset in kf.split(data):\n",
    "    # Train the algorithm on the trainset, and predict ratings for the testset\n",
    "    algo.fit(trainset)\n",
    "    predictions = algo.test(testset)\n",
    "\n",
    "    # Then compute RMSE\n",
    "    accuracy.rmse(predictions)"
   ]
  },
  {
   "cell_type": "code",
   "execution_count": 17,
   "metadata": {
    "collapsed": false
   },
   "outputs": [
    {
     "data": {
      "text/plain": [
       "[Prediction(uid=171496, iid=3034980, r_ui=4.25, est=4.4778698277391804, details={'was_impossible': False}),\n",
       " Prediction(uid=1803223, iid=1828774, r_ui=3.25, est=3.5844314206255463, details={'was_impossible': False}),\n",
       " Prediction(uid=267320, iid=399609, r_ui=4.0, est=3.981760322915016, details={'was_impossible': False}),\n",
       " Prediction(uid=2924460, iid=1187911, r_ui=4.0, est=3.6026735719768013, details={'was_impossible': False}),\n",
       " Prediction(uid=1749282, iid=2686615, r_ui=3.5, est=3.6181331817534472, details={'was_impossible': False}),\n",
       " Prediction(uid=3292172, iid=3970, r_ui=3.25, est=3.9172385217788266, details={'was_impossible': False}),\n",
       " Prediction(uid=4396115, iid=4057, r_ui=4.0, est=3.2826608617101911, details={'was_impossible': False}),\n",
       " Prediction(uid=959498, iid=1473393, r_ui=3.5, est=3.6003136089757715, details={'was_impossible': False}),\n",
       " Prediction(uid=267320, iid=9681, r_ui=4.0, est=4.3961044757993522, details={'was_impossible': False}),\n",
       " Prediction(uid=1279351, iid=647032, r_ui=3.75, est=3.5760318107450173, details={'was_impossible': False}),\n",
       " Prediction(uid=1051191, iid=2679592, r_ui=4.5, est=4.2000853709982335, details={'was_impossible': False})]"
      ]
     },
     "execution_count": 17,
     "metadata": {},
     "output_type": "execute_result"
    }
   ],
   "source": [
    "predictions[:11]"
   ]
  },
  {
   "cell_type": "markdown",
   "metadata": {},
   "source": [
    "How does that compare to just guessing the global mean rating for every beer?  \n",
    "First we have to remove the beers that don't have global ratings.  We could  \n",
    "theoretically use the mean of all user ratings in place of the missing global  \n",
    "ratings, but for beers with few checkins, that would cheat  \n",
    "by skewing toward the rating of the user being predicted."
   ]
  },
  {
   "cell_type": "code",
   "execution_count": 21,
   "metadata": {
    "collapsed": true
   },
   "outputs": [],
   "source": [
    "global_rated = df[['rating_user', 'rating_global']]"
   ]
  },
  {
   "cell_type": "code",
   "execution_count": 22,
   "metadata": {
    "collapsed": false
   },
   "outputs": [
    {
     "data": {
      "text/plain": [
       "(1296064, 2)"
      ]
     },
     "execution_count": 22,
     "metadata": {},
     "output_type": "execute_result"
    }
   ],
   "source": [
    "global_rated.shape"
   ]
  },
  {
   "cell_type": "code",
   "execution_count": 98,
   "metadata": {
    "collapsed": false
   },
   "outputs": [
    {
     "data": {
      "text/plain": [
       "rating_user      5.00000\n",
       "rating_global    4.90672\n",
       "dtype: float64"
      ]
     },
     "execution_count": 98,
     "metadata": {},
     "output_type": "execute_result"
    }
   ],
   "source": [
    "global_rated.max()"
   ]
  },
  {
   "cell_type": "code",
   "execution_count": 23,
   "metadata": {
    "collapsed": false
   },
   "outputs": [
    {
     "data": {
      "text/plain": [
       "rating_user      0.25\n",
       "rating_global    0.00\n",
       "dtype: float64"
      ]
     },
     "execution_count": 23,
     "metadata": {},
     "output_type": "execute_result"
    }
   ],
   "source": [
    "global_rated.min()"
   ]
  },
  {
   "cell_type": "markdown",
   "metadata": {},
   "source": [
    "Whoops, went to the trouble of setting NaN global ratings to 0.0"
   ]
  },
  {
   "cell_type": "code",
   "execution_count": 24,
   "metadata": {
    "collapsed": true
   },
   "outputs": [],
   "source": [
    "# global_rated = global_rated[global_rated.rating_global > 0]"
   ]
  },
  {
   "cell_type": "code",
   "execution_count": 25,
   "metadata": {
    "collapsed": false
   },
   "outputs": [
    {
     "data": {
      "text/plain": [
       "(1089604, 2)"
      ]
     },
     "execution_count": 25,
     "metadata": {},
     "output_type": "execute_result"
    }
   ],
   "source": [
    "global_rated.shape"
   ]
  },
  {
   "cell_type": "code",
   "execution_count": 26,
   "metadata": {
    "collapsed": false
   },
   "outputs": [
    {
     "data": {
      "text/plain": [
       "rating_user      0.25000\n",
       "rating_global    1.00423\n",
       "dtype: float64"
      ]
     },
     "execution_count": 26,
     "metadata": {},
     "output_type": "execute_result"
    }
   ],
   "source": [
    "global_rated.min()"
   ]
  },
  {
   "cell_type": "code",
   "execution_count": 29,
   "metadata": {
    "collapsed": false
   },
   "outputs": [
    {
     "data": {
      "text/plain": [
       "0.51243794703341272"
      ]
     },
     "execution_count": 29,
     "metadata": {},
     "output_type": "execute_result"
    }
   ],
   "source": [
    "# calculate the rmse using global rating as prediction\n",
    "gr = global_rated\n",
    "diffs = gr.rating_global.values - gr.rating_user.values\n",
    "sum_errs_sq = np.dot(diffs, diffs)\n",
    "rmse = np.sqrt(sum_errs_sq / len(diffs))\n",
    "rmse"
   ]
  },
  {
   "cell_type": "markdown",
   "metadata": {},
   "source": [
    "So at least the Surprise rmse was lower than that of (the `global_rated` subset of) the whole population.\n",
    "  \n",
    "Quick check of what pct of ratings had globals: "
   ]
  },
  {
   "cell_type": "code",
   "execution_count": 109,
   "metadata": {
    "collapsed": false
   },
   "outputs": [
    {
     "name": "stdout",
     "output_type": "stream",
     "text": [
      "84.07 pct of checkins had global ratings.\n"
     ]
    }
   ],
   "source": [
    "print(f'{round(len(global_rated) * 100 / len(df), 3)} pct of checkins had global ratings.')"
   ]
  },
  {
   "cell_type": "code",
   "execution_count": 131,
   "metadata": {
    "collapsed": false
   },
   "outputs": [
    {
     "data": {
      "text/html": [
       "<div>\n",
       "<style scoped>\n",
       "    .dataframe tbody tr th:only-of-type {\n",
       "        vertical-align: middle;\n",
       "    }\n",
       "\n",
       "    .dataframe tbody tr th {\n",
       "        vertical-align: top;\n",
       "    }\n",
       "\n",
       "    .dataframe thead th {\n",
       "        text-align: right;\n",
       "    }\n",
       "</style>\n",
       "<table border=\"1\" class=\"dataframe\">\n",
       "  <thead>\n",
       "    <tr style=\"text-align: right;\">\n",
       "      <th></th>\n",
       "      <th>method</th>\n",
       "      <th>rmse</th>\n",
       "    </tr>\n",
       "  </thead>\n",
       "  <tbody>\n",
       "    <tr>\n",
       "      <th>0</th>\n",
       "      <td>naively predict global_mean_rating</td>\n",
       "      <td>0.512</td>\n",
       "    </tr>\n",
       "    <tr>\n",
       "      <th>1</th>\n",
       "      <td>Surprise SVD with default params</td>\n",
       "      <td>0.474</td>\n",
       "    </tr>\n",
       "  </tbody>\n",
       "</table>\n",
       "</div>"
      ],
      "text/plain": [
       "                               method   rmse\n",
       "0  naively predict global_mean_rating  0.512\n",
       "1    Surprise SVD with default params  0.474"
      ]
     },
     "execution_count": 131,
     "metadata": {},
     "output_type": "execute_result"
    }
   ],
   "source": [
    "# might as well keep track of evaluation results\n",
    "methods = ['naively predict global_mean_rating']\n",
    "rmses = [0.512]\n",
    "results = pd.DataFrame({'method': methods,\n",
    "                        'rmse': rmses})\n",
    "\n",
    "def add_results_row(meth_name, rmse_result):\n",
    "    methods.append(meth_name)\n",
    "    rmses.append(rmse_result)\n",
    "    results = pd.DataFrame({'method': methods,\n",
    "                            'rmse': rmses})\n",
    "    return results\n",
    "\n",
    "# make sure function works\n",
    "results = add_results_row('Surprise SVD with default params', 0.474)\n",
    "results.tail()"
   ]
  },
  {
   "cell_type": "code",
   "execution_count": 170,
   "metadata": {
    "collapsed": false
   },
   "outputs": [
    {
     "data": {
      "text/html": [
       "<div>\n",
       "<style scoped>\n",
       "    .dataframe tbody tr th:only-of-type {\n",
       "        vertical-align: middle;\n",
       "    }\n",
       "\n",
       "    .dataframe tbody tr th {\n",
       "        vertical-align: top;\n",
       "    }\n",
       "\n",
       "    .dataframe thead th {\n",
       "        text-align: right;\n",
       "    }\n",
       "</style>\n",
       "<table border=\"1\" class=\"dataframe\">\n",
       "  <thead>\n",
       "    <tr style=\"text-align: right;\">\n",
       "      <th></th>\n",
       "      <th>method</th>\n",
       "      <th>rmse</th>\n",
       "    </tr>\n",
       "  </thead>\n",
       "  <tbody>\n",
       "    <tr>\n",
       "      <th>0</th>\n",
       "      <td>naively predict global_mean_rating</td>\n",
       "      <td>0.512</td>\n",
       "    </tr>\n",
       "    <tr>\n",
       "      <th>1</th>\n",
       "      <td>Surprise SVD with default params</td>\n",
       "      <td>0.474</td>\n",
       "    </tr>\n",
       "    <tr>\n",
       "      <th>2</th>\n",
       "      <td>naive mean plus userbias</td>\n",
       "      <td>0.456</td>\n",
       "    </tr>\n",
       "    <tr>\n",
       "      <th>3</th>\n",
       "      <td>naive mean plus smart userbias</td>\n",
       "      <td>0.434</td>\n",
       "    </tr>\n",
       "    <tr>\n",
       "      <th>4</th>\n",
       "      <td>SVD lr=.02 epochs=20 reg=0.1</td>\n",
       "      <td>0.466</td>\n",
       "    </tr>\n",
       "  </tbody>\n",
       "</table>\n",
       "</div>"
      ],
      "text/plain": [
       "                               method   rmse\n",
       "0  naively predict global_mean_rating  0.512\n",
       "1    Surprise SVD with default params  0.474\n",
       "2            naive mean plus userbias  0.456\n",
       "3      naive mean plus smart userbias  0.434\n",
       "4        SVD lr=.02 epochs=20 reg=0.1  0.466"
      ]
     },
     "execution_count": 170,
     "metadata": {},
     "output_type": "execute_result"
    }
   ],
   "source": [
    "# append result rows here and check tail to make sure all good\n",
    "results = add_results_row('SVD lr=.02 epochs=20 reg=0.1', 0.466)\n",
    "results.tail()"
   ]
  },
  {
   "cell_type": "markdown",
   "metadata": {},
   "source": [
    "Let's just make sure the error for the testset alone was about the same (.512) as for whole population."
   ]
  },
  {
   "cell_type": "code",
   "execution_count": 112,
   "metadata": {
    "collapsed": false
   },
   "outputs": [
    {
     "data": {
      "text/plain": [
       "beer_id\n",
       "1     3.27892\n",
       "2     3.49213\n",
       "8     3.81242\n",
       "10    3.38719\n",
       "14    3.77430\n",
       "Name: rating_global, dtype: float64"
      ]
     },
     "execution_count": 112,
     "metadata": {},
     "output_type": "execute_result"
    }
   ],
   "source": [
    "# make a dictionary to map all beer_id's to global ratings, where available\n",
    "bidrates = df[df.rating_global > 0].groupby('beer_id').rating_global.mean()\n",
    "bidrates.head()"
   ]
  },
  {
   "cell_type": "code",
   "execution_count": 114,
   "metadata": {
    "collapsed": false
   },
   "outputs": [],
   "source": [
    "dbr = dict(bidrates)  # map beer_id's to glob_ratings"
   ]
  },
  {
   "cell_type": "code",
   "execution_count": 123,
   "metadata": {
    "collapsed": false
   },
   "outputs": [
    {
     "data": {
      "text/plain": [
       "0.51115640157523945"
      ]
     },
     "execution_count": 123,
     "metadata": {},
     "output_type": "execute_result"
    }
   ],
   "source": [
    "# Now line up all the beers in just the test set,\n",
    "#   filter out the ones with no global, and put them\n",
    "#   alongside all their ratings.\n",
    "\n",
    "globrates = pd.Series([dbr.get(triple[1], 0) for triple in testset])\n",
    "userrates = pd.Series([triple[2] for triple in testset])\n",
    "userrates = userrates[globrates > 0]\n",
    "globrates = globrates[globrates > 0]\n",
    "# calc rmse\n",
    "diffs = userrates.values - globrates.values\n",
    "sum_errs_sq = np.dot(diffs, diffs)\n",
    "rmse = np.sqrt(sum_errs_sq / len(diffs))\n",
    "rmse"
   ]
  },
  {
   "cell_type": "markdown",
   "metadata": {},
   "source": [
    "Let's factor in the user's rating generosity, which should help the naive guess a bit."
   ]
  },
  {
   "cell_type": "code",
   "execution_count": 125,
   "metadata": {
    "collapsed": true
   },
   "outputs": [],
   "source": [
    "# use groupby to get each rater's mean, \n",
    "# then use that mapping to add a new column to the end of the df for each checkin\n",
    "userbias = dict(df.groupby('user_id').rating_user.mean())\n",
    "df['userbias'] = df.user_id.map(lambda u: userbias[u]) - df.rating_user.mean()"
   ]
  },
  {
   "cell_type": "code",
   "execution_count": 129,
   "metadata": {
    "collapsed": false
   },
   "outputs": [
    {
     "data": {
      "text/plain": [
       "0.45625249039480498"
      ]
     },
     "execution_count": 129,
     "metadata": {},
     "output_type": "execute_result"
    }
   ],
   "source": [
    "bias_df = df[['rating_user', 'rating_global', 'userbias']]\n",
    "bias_df = bias_df[bias_df.rating_global > 0]\n",
    "# add the user's generosity vs the mean\n",
    "diffs = bias_df.rating_global.values + bias_df.userbias.values - bias_df.rating_user.values\n",
    "sum_errs_sq = np.dot(diffs, diffs)\n",
    "rmse = np.sqrt(sum_errs_sq / len(diffs))\n",
    "rmse"
   ]
  },
  {
   "cell_type": "markdown",
   "metadata": {},
   "source": [
    "That helped a lot.  A single 'feature' is already better than the Surprise SVD model.\n",
    "But the calculated userbias is simply how a user rates vis-a-vis the average rating,\n",
    "and doesn't take into account the fact that certain raters rate higher-rated beers.\n",
    "If user A lives where beers globally rated 4.5 stars are available, and gives them 4.25 stars,\n",
    "while user B rates average beers 4.0 where others rated them 3.75, why does user A get\n",
    "an extra quarter star added to his predictions compared to user B?  I.e. our generosity measure\n",
    "should maybe account for which beers are being rated."
   ]
  },
  {
   "cell_type": "code",
   "execution_count": 141,
   "metadata": {
    "collapsed": false
   },
   "outputs": [],
   "source": [
    "# for each user, find the difference between their ratings for their beers vs. the world's ratings for same ones\n",
    "userbeers = dict(userrates.rating_user.mean() - userrates.rating_global.mean())"
   ]
  },
  {
   "cell_type": "code",
   "execution_count": 146,
   "metadata": {
    "collapsed": false
   },
   "outputs": [],
   "source": [
    "df['userbeerbias'] = df[df.rating_global > 0].user_id.map(lambda u: userbeers[u])"
   ]
  },
  {
   "cell_type": "code",
   "execution_count": 152,
   "metadata": {
    "collapsed": false
   },
   "outputs": [
    {
     "data": {
      "text/plain": [
       "0.43369005337892269"
      ]
     },
     "execution_count": 152,
     "metadata": {},
     "output_type": "execute_result"
    }
   ],
   "source": [
    "bias_df = df[['rating_user', 'rating_global', 'userbeerbias']]\n",
    "bias_df = bias_df[bias_df.rating_global > 0]\n",
    "# add the user's generosity vs the mean\n",
    "diffs = bias_df.rating_global.values + bias_df.userbeerbias.values - bias_df.rating_user.values\n",
    "sum_errs_sq = np.dot(diffs, diffs)\n",
    "rmse = np.sqrt(sum_errs_sq / len(diffs))\n",
    "rmse "
   ]
  },
  {
   "cell_type": "code",
   "execution_count": null,
   "metadata": {
    "collapsed": true
   },
   "outputs": [],
   "source": []
  },
  {
   "cell_type": "markdown",
   "metadata": {},
   "source": [
    "That does better.  Let's see if it aligns with Surprise's BaselineOnly model."
   ]
  },
  {
   "cell_type": "code",
   "execution_count": 155,
   "metadata": {
    "collapsed": true
   },
   "outputs": [],
   "source": [
    "baseline = BaselineOnly()"
   ]
  },
  {
   "cell_type": "code",
   "execution_count": 156,
   "metadata": {
    "collapsed": false
   },
   "outputs": [
    {
     "name": "stdout",
     "output_type": "stream",
     "text": [
      "Estimating biases using als...\n"
     ]
    },
    {
     "data": {
      "text/plain": [
       "<surprise.prediction_algorithms.baseline_only.BaselineOnly at 0x172b2f4a8>"
      ]
     },
     "execution_count": 156,
     "metadata": {},
     "output_type": "execute_result"
    }
   ],
   "source": [
    "baseline.fit(trainset)"
   ]
  },
  {
   "cell_type": "code",
   "execution_count": 157,
   "metadata": {
    "collapsed": false
   },
   "outputs": [
    {
     "name": "stdout",
     "output_type": "stream",
     "text": [
      "RMSE: 0.4688\n"
     ]
    },
    {
     "data": {
      "text/plain": [
       "0.46881078934132836"
      ]
     },
     "execution_count": 157,
     "metadata": {},
     "output_type": "execute_result"
    }
   ],
   "source": [
    "predictions = baseline.test(testset)\n",
    "# Then compute RMSE\n",
    "accuracy.rmse(predictions)"
   ]
  },
  {
   "cell_type": "markdown",
   "metadata": {},
   "source": [
    "hmmmmm, thought that should be 0.434....guess surprise is using estimations where i used actual global ratings."
   ]
  },
  {
   "cell_type": "markdown",
   "metadata": {},
   "source": [
    "If Surprise can't keep up with simple baseline predictions, at least while using default parameters, maybe it's time for some GridSearching."
   ]
  },
  {
   "cell_type": "code",
   "execution_count": null,
   "metadata": {
    "collapsed": true
   },
   "outputs": [],
   "source": [
    "param_grid = {'n_epochs': [5, 10, 15], 'lr_all': [0.001, 0.002, 0.005, 0.01],\n",
    "              'reg_all': [0.2, 0.5, 1.0, 2.0]}\n",
    "gs = GridSearchCV(SVD, param_grid, measures=['rmse'], cv=3)"
   ]
  },
  {
   "cell_type": "code",
   "execution_count": 164,
   "metadata": {
    "collapsed": false
   },
   "outputs": [
    {
     "name": "stdout",
     "output_type": "stream",
     "text": [
      "0.470300063255\n",
      "{'n_epochs': 15, 'lr_all': 0.01, 'reg_all': 0.2}\n"
     ]
    }
   ],
   "source": [
    "gs.fit(data)\n",
    "\n",
    "# best RMSE score\n",
    "print(gs.best_score['rmse'])\n",
    "\n",
    "# combination of parameters that gave the best RMSE score\n",
    "print(gs.best_params['rmse'])"
   ]
  },
  {
   "cell_type": "markdown",
   "metadata": {},
   "source": [
    "Not much improvement there from the default params (.474 improved to .470), but since the best  \n",
    "params out of the grid were all at the end of the param range (15 epochs was the most in the grid,  \n",
    "0.01 was the highest learning rate, and 0.2 was the lowest regularization), let's try fitting  \n",
    "with the next step out in the directions of those params.\n"
   ]
  },
  {
   "cell_type": "code",
   "execution_count": 166,
   "metadata": {
    "collapsed": true
   },
   "outputs": [],
   "source": [
    "algo = SVD(lr_all=0.02, n_epochs=20, reg_all=0.1, verbose=True)\n",
    "# sample random trainset and testset\n",
    "# test set is made of 25% of the ratings.\n",
    "trainset, testset = train_test_split(data, test_size=.25)"
   ]
  },
  {
   "cell_type": "code",
   "execution_count": 167,
   "metadata": {
    "collapsed": false
   },
   "outputs": [
    {
     "name": "stdout",
     "output_type": "stream",
     "text": [
      "Processing epoch 0\n",
      "Processing epoch 1\n",
      "Processing epoch 2\n",
      "Processing epoch 3\n",
      "Processing epoch 4\n",
      "Processing epoch 5\n",
      "Processing epoch 6\n",
      "Processing epoch 7\n",
      "Processing epoch 8\n",
      "Processing epoch 9\n",
      "Processing epoch 10\n",
      "Processing epoch 11\n",
      "Processing epoch 12\n",
      "Processing epoch 13\n",
      "Processing epoch 14\n",
      "Processing epoch 15\n",
      "Processing epoch 16\n",
      "Processing epoch 17\n",
      "Processing epoch 18\n",
      "Processing epoch 19\n",
      "RMSE: 0.4664\n"
     ]
    },
    {
     "data": {
      "text/plain": [
       "0.46640651047237058"
      ]
     },
     "execution_count": 167,
     "metadata": {},
     "output_type": "execute_result"
    }
   ],
   "source": [
    "algo.fit(trainset)\n",
    "predictions = algo.test(testset)\n",
    "\n",
    "# Then compute RMSE\n",
    "accuracy.rmse(predictions)"
   ]
  },
  {
   "cell_type": "markdown",
   "metadata": {},
   "source": [
    "Better than 0.470, so keep trying, with higher step rate, and lower regularization, until things reverse."
   ]
  },
  {
   "cell_type": "code",
   "execution_count": 169,
   "metadata": {
    "collapsed": false
   },
   "outputs": [
    {
     "name": "stdout",
     "output_type": "stream",
     "text": [
      "Processing epoch 0\n",
      "Processing epoch 1\n",
      "Processing epoch 2\n",
      "Processing epoch 3\n",
      "Processing epoch 4\n",
      "Processing epoch 5\n",
      "Processing epoch 6\n",
      "Processing epoch 7\n",
      "Processing epoch 8\n",
      "Processing epoch 9\n",
      "Processing epoch 10\n",
      "Processing epoch 11\n",
      "Processing epoch 12\n",
      "Processing epoch 13\n",
      "Processing epoch 14\n",
      "Processing epoch 15\n",
      "Processing epoch 16\n",
      "Processing epoch 17\n",
      "Processing epoch 18\n",
      "Processing epoch 19\n",
      "RMSE: 0.4683\n"
     ]
    },
    {
     "data": {
      "text/plain": [
       "0.46830288741631865"
      ]
     },
     "execution_count": 169,
     "metadata": {},
     "output_type": "execute_result"
    }
   ],
   "source": [
    "algo = SVD(lr_all=0.03, n_epochs=20, reg_all=0.05, verbose=True)\n",
    "algo.fit(trainset)\n",
    "predictions = algo.test(testset)\n",
    "accuracy.rmse(predictions)"
   ]
  },
  {
   "cell_type": "markdown",
   "metadata": {},
   "source": [
    "That didn't take long.  So store the best params from previous fit into the results table."
   ]
  },
  {
   "cell_type": "code",
   "execution_count": 173,
   "metadata": {
    "collapsed": false
   },
   "outputs": [
    {
     "name": "stdout",
     "output_type": "stream",
     "text": [
      "Computing the pearson similarity matrix...\n"
     ]
    },
    {
     "name": "stderr",
     "output_type": "stream",
     "text": [
      "/Applications/anaconda/lib/python3.6/site-packages/surprise/prediction_algorithms/algo_base.py:248: RuntimeWarning: invalid value encountered in sqrt\n",
      "  sim = construction_func[name](*args)\n"
     ]
    },
    {
     "name": "stdout",
     "output_type": "stream",
     "text": [
      "Done computing similarity matrix.\n",
      "RMSE: 0.5886\n"
     ]
    },
    {
     "data": {
      "text/plain": [
       "0.58863602712876439"
      ]
     },
     "execution_count": 173,
     "metadata": {},
     "output_type": "execute_result"
    }
   ],
   "source": [
    "sim_options = {'name': 'pearson'}\n",
    "algo = KNNBasic(sim_options=sim_options)\n",
    "algo.fit(trainset)\n",
    "preds = algo.test(testset)\n",
    "accuracy.rmse(preds)"
   ]
  },
  {
   "cell_type": "code",
   "execution_count": null,
   "metadata": {
    "collapsed": true
   },
   "outputs": [],
   "source": []
  },
  {
   "cell_type": "code",
   "execution_count": null,
   "metadata": {
    "collapsed": true
   },
   "outputs": [],
   "source": []
  },
  {
   "cell_type": "code",
   "execution_count": null,
   "metadata": {
    "collapsed": true
   },
   "outputs": [],
   "source": []
  },
  {
   "cell_type": "markdown",
   "metadata": {},
   "source": [
    "How do individual user tastes determine which features correlate with ratings?"
   ]
  },
  {
   "cell_type": "code",
   "execution_count": 174,
   "metadata": {
    "collapsed": false
   },
   "outputs": [
    {
     "data": {
      "text/plain": [
       "Index(['checkin_id', 'beer_id', 'user_id', 'rating_user', 'brewery_name',\n",
       "       'beer_name', 'beer_style', 'brewery_id', 'brewery_type',\n",
       "       'brewery_country', 'brewery_city', 'brewery_state', 'brewery_lat',\n",
       "       'brewery_lon', 'venue_lat', 'venue_lon', 'venue_city', 'venue_country',\n",
       "       'venue_state', 'venue_cat', 'venue_id', 'checkin_comment', 'venue_type',\n",
       "       'rating_global', 'beer_description', 'abv', 'date', 'userbias',\n",
       "       'userbeerbias'],\n",
       "      dtype='object')"
      ]
     },
     "execution_count": 174,
     "metadata": {},
     "output_type": "execute_result"
    }
   ],
   "source": [
    "df.columns"
   ]
  },
  {
   "cell_type": "code",
   "execution_count": 175,
   "metadata": {
    "collapsed": false
   },
   "outputs": [
    {
     "data": {
      "text/plain": [
       "(1296064, 29)"
      ]
     },
     "execution_count": 175,
     "metadata": {},
     "output_type": "execute_result"
    }
   ],
   "source": [
    "df.shape"
   ]
  },
  {
   "cell_type": "markdown",
   "metadata": {},
   "source": [
    "==========================================================================================================="
   ]
  },
  {
   "cell_type": "code",
   "execution_count": 177,
   "metadata": {
    "collapsed": false
   },
   "outputs": [
    {
     "data": {
      "text/plain": [
       "(2519, 29)"
      ]
     },
     "execution_count": 177,
     "metadata": {},
     "output_type": "execute_result"
    }
   ],
   "source": [
    "no_globs = df[df.rating_global == 0]\n",
    "no_globs.shape"
   ]
  },
  {
   "cell_type": "code",
   "execution_count": 189,
   "metadata": {
    "collapsed": false
   },
   "outputs": [],
   "source": [
    "null_globs = df[df.rating_global.isnull()]\n",
    "\n",
    "len(null_globs)"
   ]
  },
  {
   "cell_type": "code",
   "execution_count": 191,
   "metadata": {
    "collapsed": false
   },
   "outputs": [
    {
     "data": {
      "text/plain": [
       "128147"
      ]
     },
     "execution_count": 191,
     "metadata": {},
     "output_type": "execute_result"
    }
   ],
   "source": [
    "null_globs.beer_id.nunique()"
   ]
  },
  {
   "cell_type": "code",
   "execution_count": 187,
   "metadata": {
    "collapsed": false
   },
   "outputs": [
    {
     "data": {
      "text/plain": [
       "array([3314111, 2222682,  501186, 2139385, 2319561, 1509915, 2616033,\n",
       "       2612066, 2515216, 2413550,  526725])"
      ]
     },
     "execution_count": 187,
     "metadata": {},
     "output_type": "execute_result"
    }
   ],
   "source": [
    "null_globs[:11]"
   ]
  },
  {
   "cell_type": "code",
   "execution_count": 188,
   "metadata": {
    "collapsed": false
   },
   "outputs": [
    {
     "data": {
      "text/plain": [
       "264620"
      ]
     },
     "execution_count": 188,
     "metadata": {},
     "output_type": "execute_result"
    }
   ],
   "source": [
    "df.beer_id.nunique()  # so half the beers don't have globrates"
   ]
  },
  {
   "cell_type": "code",
   "execution_count": 192,
   "metadata": {
    "collapsed": true
   },
   "outputs": [],
   "source": [
    "globs = df[df.rating_global.notnull()]"
   ]
  },
  {
   "cell_type": "code",
   "execution_count": 193,
   "metadata": {
    "collapsed": false
   },
   "outputs": [
    {
     "data": {
      "text/plain": [
       "1092123"
      ]
     },
     "execution_count": 193,
     "metadata": {},
     "output_type": "execute_result"
    }
   ],
   "source": [
    "len(globs)"
   ]
  },
  {
   "cell_type": "code",
   "execution_count": 194,
   "metadata": {
    "collapsed": false
   },
   "outputs": [
    {
     "data": {
      "text/plain": [
       "203941"
      ]
     },
     "execution_count": 194,
     "metadata": {},
     "output_type": "execute_result"
    }
   ],
   "source": [
    "len(null_globs)"
   ]
  },
  {
   "cell_type": "code",
   "execution_count": 195,
   "metadata": {
    "collapsed": true
   },
   "outputs": [],
   "source": [
    "null_ids = set(null_globs.beer_id)\n",
    "glob_ids = set(globs.beer_id)\n",
    "\n",
    "overlaps = null_ids.intersection(glob_ids)"
   ]
  },
  {
   "cell_type": "code",
   "execution_count": 197,
   "metadata": {
    "collapsed": false
   },
   "outputs": [
    {
     "data": {
      "text/plain": [
       "0"
      ]
     },
     "execution_count": 197,
     "metadata": {},
     "output_type": "execute_result"
    }
   ],
   "source": [
    "len(overlaps)"
   ]
  },
  {
   "cell_type": "markdown",
   "metadata": {
    "collapsed": true
   },
   "source": [
    "================================================================================================================"
   ]
  },
  {
   "cell_type": "markdown",
   "metadata": {},
   "source": [
    "Data splitter for cross-validation"
   ]
  },
  {
   "cell_type": "code",
   "execution_count": 91,
   "metadata": {
    "collapsed": true
   },
   "outputs": [],
   "source": [
    "def make_splits(df, folds, seed=0):\n",
    "    from random import shuffle, seed\n",
    "    seed(seed)\n",
    "    inds = list(df.index)\n",
    "    shuffle(inds)\n",
    "    foldsize = len(inds) // folds\n",
    "    indexlist = []\n",
    "    for f in range(folds):  # tuples of (train_inds, test_inds)\n",
    "        indexlist.append((inds[:f*foldsize] + inds[(f+1)*foldsize:],\n",
    "                        inds[f*foldsize:(f+1)*foldsize]))\n",
    "    return indexlist"
   ]
  },
  {
   "cell_type": "code",
   "execution_count": 92,
   "metadata": {
    "collapsed": false
   },
   "outputs": [],
   "source": [
    "splitdf = make_splits(df, 5)"
   ]
  },
  {
   "cell_type": "markdown",
   "metadata": {},
   "source": [
    "Let's try the splitter out on some cross-validation for baseline ratings"
   ]
  },
  {
   "cell_type": "code",
   "execution_count": 125,
   "metadata": {
    "collapsed": false
   },
   "outputs": [
    {
     "name": "stdout",
     "output_type": "stream",
     "text": [
      "0.454955347077\n",
      "0.455823411606\n",
      "0.456049159322\n",
      "0.45569594223\n",
      "0.454757755827\n"
     ]
    }
   ],
   "source": [
    "lam_2 = 5  # regularizer for baseline stats.  higher makes for less baselining\n",
    "lam_3 = 10\n",
    "#  see:  http://courses.ischool.berkeley.edu/i290-dm/s11/SECURE/a1-koren.pdf\n",
    "rmses = []  # accumulate the cross-val scores here\n",
    "for batch in splitdf:\n",
    "    # use the splits to cross-val\n",
    "    train_data = df.loc[batch[0], :]\n",
    "    val_data = df.loc[batch[1], :]\n",
    "    train_mu = train_data.rating_user.mean()  # average rating for the checkins in this dataset\n",
    "    \n",
    "    by_beer = train_data.groupby('beer_id')\n",
    "    beer_bias = dict((by_beer.rating_user.sum() - by_beer.size() * train_mu) /\n",
    "                    (lam_2 + by_beer.size()))\n",
    "    train_data['bbias'] = train_data.beer_id.map(lambda x: beer_bias[x])\n",
    "    \n",
    "    by_user = train_data.groupby('user_id')\n",
    "    user_bias = dict((by_user.rating_user.sum() - by_user.size() * train_mu - by_user.bbias.sum()) /\n",
    "                     (lam_3 + by_user.size()))\n",
    "    \n",
    "    val_data['bbias'] = val_data.beer_id.apply(lambda x: beer_bias[x] if x in beer_bias else np.nan)\n",
    "    val_data['ubias'] = val_data.user_id.apply(lambda x: user_bias[x] if x in user_bias else np.nan)\n",
    "    val_data.dropna(subset=['bbias','ubias'], axis=0, inplace=True)\n",
    "    \n",
    "    test_preds = val_data.bbias.values + val_data.ubias.values + train_mu\n",
    "    actuals = val_data.rating_user.values\n",
    "    diffs = test_preds - actuals\n",
    "    sum_errs_sq = np.dot(diffs, diffs)\n",
    "    rmse = np.sqrt(sum_errs_sq / len(diffs))\n",
    "    print(rmse)\n",
    "    rmses.append(rmse)"
   ]
  },
  {
   "cell_type": "markdown",
   "metadata": {},
   "source": [
    "lambda_2 = 5 and lambda_3 = 10 had as good of results as any combo (5 and 5 was same)"
   ]
  },
  {
   "cell_type": "markdown",
   "metadata": {
    "collapsed": true
   },
   "source": [
    "===================================================================================================================="
   ]
  },
  {
   "cell_type": "markdown",
   "metadata": {},
   "source": [
    "### Random Aside:  \n",
    "Should've split the \"beer_description\" column off from the rest of the data long ago, since it takes up the bulk of the memory and hasn't been part of most of the analysis so far."
   ]
  },
  {
   "cell_type": "code",
   "execution_count": 23,
   "metadata": {
    "collapsed": false
   },
   "outputs": [
    {
     "name": "stdout",
     "output_type": "stream",
     "text": [
      "-rw-r--r--  1 ethanhaley  staff  673417511 Dec  5 17:35 bigframe.csv\r\n"
     ]
    }
   ],
   "source": [
    "!ls -l bigframe.csv"
   ]
  },
  {
   "cell_type": "code",
   "execution_count": 24,
   "metadata": {
    "collapsed": true
   },
   "outputs": [],
   "source": [
    "df = pd.read_csv('bigframe.csv')"
   ]
  },
  {
   "cell_type": "code",
   "execution_count": 27,
   "metadata": {
    "collapsed": false
   },
   "outputs": [
    {
     "data": {
      "text/plain": [
       "0    To create a recipe so tropical and fruity with...\n",
       "1                                                  NaN\n",
       "2    NEW TRADITIONS CALL FOR NEW HOLIDAYS AND NEW H...\n",
       "3    Stone Ruination IPA was the first full-time br...\n",
       "4    Made with Highly roasted malted barley, and pl...\n",
       "Name: beer_description, dtype: object"
      ]
     },
     "execution_count": 27,
     "metadata": {},
     "output_type": "execute_result"
    }
   ],
   "source": [
    "df.beer_description[:5]"
   ]
  },
  {
   "cell_type": "code",
   "execution_count": 29,
   "metadata": {
    "collapsed": false
   },
   "outputs": [],
   "source": [
    "description = pd.DataFrame({'beer_id': df.beer_id, 'beer_description': df.beer_description})"
   ]
  },
  {
   "cell_type": "code",
   "execution_count": 30,
   "metadata": {
    "collapsed": false
   },
   "outputs": [
    {
     "data": {
      "text/plain": [
       "(1425447, 2)"
      ]
     },
     "execution_count": 30,
     "metadata": {},
     "output_type": "execute_result"
    }
   ],
   "source": [
    "description.shape"
   ]
  },
  {
   "cell_type": "code",
   "execution_count": 31,
   "metadata": {
    "collapsed": true
   },
   "outputs": [],
   "source": [
    "description.to_csv('descriptions.csv')"
   ]
  },
  {
   "cell_type": "code",
   "execution_count": 32,
   "metadata": {
    "collapsed": false
   },
   "outputs": [
    {
     "name": "stdout",
     "output_type": "stream",
     "text": [
      "-rw-r--r--  1 ethanhaley  staff  304210897 Dec 31 09:25 descriptions.csv\r\n"
     ]
    }
   ],
   "source": [
    "!ls -l descriptions.csv"
   ]
  },
  {
   "cell_type": "code",
   "execution_count": 34,
   "metadata": {
    "collapsed": false
   },
   "outputs": [
    {
     "data": {
      "text/plain": [
       "Index(['checkin_id', 'beer_id', 'user_id', 'rating_user', 'brewery_name',\n",
       "       'beer_name', 'beer_style', 'brewery_id', 'brewery_type',\n",
       "       'brewery_country', 'brewery_city', 'brewery_state', 'brewery_lat',\n",
       "       'brewery_lon', 'venue_lat', 'venue_lon', 'venue_city', 'venue_country',\n",
       "       'venue_state', 'venue_cat', 'venue_id', 'checkin_comment', 'venue_type',\n",
       "       'rating_global', 'abv', 'date'],\n",
       "      dtype='object')"
      ]
     },
     "execution_count": 34,
     "metadata": {},
     "output_type": "execute_result"
    }
   ],
   "source": [
    "df.drop('beer_description', axis=1, inplace=True)\n",
    "df.columns"
   ]
  },
  {
   "cell_type": "code",
   "execution_count": 35,
   "metadata": {
    "collapsed": false
   },
   "outputs": [
    {
     "data": {
      "text/plain": [
       "(1425447, 26)"
      ]
     },
     "execution_count": 35,
     "metadata": {},
     "output_type": "execute_result"
    }
   ],
   "source": [
    "df.shape"
   ]
  },
  {
   "cell_type": "code",
   "execution_count": 36,
   "metadata": {
    "collapsed": true
   },
   "outputs": [],
   "source": [
    "df.to_csv('bigframe.csv')"
   ]
  },
  {
   "cell_type": "code",
   "execution_count": 4,
   "metadata": {
    "collapsed": false
   },
   "outputs": [
    {
     "name": "stdout",
     "output_type": "stream",
     "text": [
      "-rw-r--r--  1 ethanhaley  staff  394024415 Dec 31 09:38 bigframe.csv\r\n"
     ]
    }
   ],
   "source": [
    "!ls -l bigframe.csv"
   ]
  },
  {
   "cell_type": "markdown",
   "metadata": {},
   "source": [
    "============================================================================================================"
   ]
  },
  {
   "cell_type": "code",
   "execution_count": null,
   "metadata": {
    "collapsed": true
   },
   "outputs": [],
   "source": []
  }
 ],
 "metadata": {
  "kernelspec": {
   "display_name": "Python 3",
   "language": "python",
   "name": "python3"
  },
  "language_info": {
   "codemirror_mode": {
    "name": "ipython",
    "version": 3
   },
   "file_extension": ".py",
   "mimetype": "text/x-python",
   "name": "python",
   "nbconvert_exporter": "python",
   "pygments_lexer": "ipython3",
   "version": "3.6.9"
  }
 },
 "nbformat": 4,
 "nbformat_minor": 2
}
