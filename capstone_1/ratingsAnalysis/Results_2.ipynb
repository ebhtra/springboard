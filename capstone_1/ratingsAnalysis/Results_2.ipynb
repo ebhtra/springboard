{
 "cells": [
  {
   "cell_type": "code",
   "execution_count": 1,
   "metadata": {
    "collapsed": true
   },
   "outputs": [],
   "source": [
    "import pandas as pd\n",
    "import numpy as np\n",
    "\n",
    "from sklearn.model_selection import train_test_split as tts\n",
    "from sklearn.preprocessing import OneHotEncoder\n",
    "from sklearn.ensemble import GradientBoostingRegressor"
   ]
  },
  {
   "cell_type": "code",
   "execution_count": null,
   "metadata": {
    "collapsed": true
   },
   "outputs": [],
   "source": []
  },
  {
   "cell_type": "markdown",
   "metadata": {},
   "source": [
    "Take a peek at first few rows, since df has 2M rows"
   ]
  },
  {
   "cell_type": "code",
   "execution_count": 2,
   "metadata": {
    "collapsed": false
   },
   "outputs": [
    {
     "data": {
      "text/html": [
       "<div>\n",
       "<style scoped>\n",
       "    .dataframe tbody tr th:only-of-type {\n",
       "        vertical-align: middle;\n",
       "    }\n",
       "\n",
       "    .dataframe tbody tr th {\n",
       "        vertical-align: top;\n",
       "    }\n",
       "\n",
       "    .dataframe thead th {\n",
       "        text-align: right;\n",
       "    }\n",
       "</style>\n",
       "<table border=\"1\" class=\"dataframe\">\n",
       "  <thead>\n",
       "    <tr style=\"text-align: right;\">\n",
       "      <th></th>\n",
       "      <th>checkin_id</th>\n",
       "      <th>beer_id</th>\n",
       "      <th>user_id</th>\n",
       "      <th>rating_user</th>\n",
       "      <th>brewery_name</th>\n",
       "      <th>beer_name</th>\n",
       "      <th>beer_style</th>\n",
       "      <th>brewery_id</th>\n",
       "      <th>brewery_type</th>\n",
       "      <th>brewery_country</th>\n",
       "      <th>...</th>\n",
       "      <th>venue_city</th>\n",
       "      <th>venue_country</th>\n",
       "      <th>venue_state</th>\n",
       "      <th>venue_cat</th>\n",
       "      <th>venue_id</th>\n",
       "      <th>checkin_comment</th>\n",
       "      <th>venue_type</th>\n",
       "      <th>rating_global</th>\n",
       "      <th>abv</th>\n",
       "      <th>date</th>\n",
       "    </tr>\n",
       "  </thead>\n",
       "  <tbody>\n",
       "    <tr>\n",
       "      <th>0</th>\n",
       "      <td>821797539</td>\n",
       "      <td>2095023</td>\n",
       "      <td>3340203</td>\n",
       "      <td>3.75</td>\n",
       "      <td>Stone Brewing</td>\n",
       "      <td>Stone Scorpion Bowl IPA</td>\n",
       "      <td>IPA - American</td>\n",
       "      <td>1204</td>\n",
       "      <td>Regional Brewery</td>\n",
       "      <td>United States</td>\n",
       "      <td>...</td>\n",
       "      <td>NaN</td>\n",
       "      <td>NaN</td>\n",
       "      <td>NaN</td>\n",
       "      <td>NaN</td>\n",
       "      <td>NaN</td>\n",
       "      <td>Easy-drinking, not too hoppy. Solid.</td>\n",
       "      <td>[]</td>\n",
       "      <td>3.73789</td>\n",
       "      <td>7.5</td>\n",
       "      <td>2019-10-26 03:52:50+00:00</td>\n",
       "    </tr>\n",
       "    <tr>\n",
       "      <th>1</th>\n",
       "      <td>818949121</td>\n",
       "      <td>1709568</td>\n",
       "      <td>3340203</td>\n",
       "      <td>3.50</td>\n",
       "      <td>Ritual Brewing Company</td>\n",
       "      <td>Pale Ale</td>\n",
       "      <td>Pale Ale - American</td>\n",
       "      <td>39329</td>\n",
       "      <td>Micro Brewery</td>\n",
       "      <td>United States</td>\n",
       "      <td>...</td>\n",
       "      <td>Redlands</td>\n",
       "      <td>United States</td>\n",
       "      <td>CA</td>\n",
       "      <td>Nightlife Spot</td>\n",
       "      <td>376422.0</td>\n",
       "      <td>Solid.</td>\n",
       "      <td>['brewery']</td>\n",
       "      <td>3.43165</td>\n",
       "      <td>5.2</td>\n",
       "      <td>2019-10-19 03:07:43+00:00</td>\n",
       "    </tr>\n",
       "    <tr>\n",
       "      <th>2</th>\n",
       "      <td>818856642</td>\n",
       "      <td>2734572</td>\n",
       "      <td>3340203</td>\n",
       "      <td>4.25</td>\n",
       "      <td>Ritual Brewing Company</td>\n",
       "      <td>Oil Rig</td>\n",
       "      <td>IPA - Imperial / Double</td>\n",
       "      <td>39329</td>\n",
       "      <td>Micro Brewery</td>\n",
       "      <td>United States</td>\n",
       "      <td>...</td>\n",
       "      <td>Redlands</td>\n",
       "      <td>United States</td>\n",
       "      <td>CA</td>\n",
       "      <td>Nightlife Spot</td>\n",
       "      <td>376422.0</td>\n",
       "      <td>Gooood stuff. Cool place too.</td>\n",
       "      <td>['brewery']</td>\n",
       "      <td>3.87873</td>\n",
       "      <td>9.0</td>\n",
       "      <td>2019-10-19 00:37:37+00:00</td>\n",
       "    </tr>\n",
       "  </tbody>\n",
       "</table>\n",
       "<p>3 rows × 26 columns</p>\n",
       "</div>"
      ],
      "text/plain": [
       "   checkin_id  beer_id  user_id  rating_user            brewery_name  \\\n",
       "0   821797539  2095023  3340203         3.75           Stone Brewing   \n",
       "1   818949121  1709568  3340203         3.50  Ritual Brewing Company   \n",
       "2   818856642  2734572  3340203         4.25  Ritual Brewing Company   \n",
       "\n",
       "                 beer_name               beer_style  brewery_id  \\\n",
       "0  Stone Scorpion Bowl IPA           IPA - American        1204   \n",
       "1                 Pale Ale      Pale Ale - American       39329   \n",
       "2                  Oil Rig  IPA - Imperial / Double       39329   \n",
       "\n",
       "       brewery_type brewery_country  ... venue_city  venue_country  \\\n",
       "0  Regional Brewery   United States  ...        NaN            NaN   \n",
       "1     Micro Brewery   United States  ...   Redlands  United States   \n",
       "2     Micro Brewery   United States  ...   Redlands  United States   \n",
       "\n",
       "   venue_state       venue_cat  venue_id  \\\n",
       "0          NaN             NaN       NaN   \n",
       "1           CA  Nightlife Spot  376422.0   \n",
       "2           CA  Nightlife Spot  376422.0   \n",
       "\n",
       "                        checkin_comment   venue_type rating_global  abv  \\\n",
       "0  Easy-drinking, not too hoppy. Solid.           []       3.73789  7.5   \n",
       "1                                Solid.  ['brewery']       3.43165  5.2   \n",
       "2         Gooood stuff. Cool place too.  ['brewery']       3.87873  9.0   \n",
       "\n",
       "                       date  \n",
       "0 2019-10-26 03:52:50+00:00  \n",
       "1 2019-10-19 03:07:43+00:00  \n",
       "2 2019-10-19 00:37:37+00:00  \n",
       "\n",
       "[3 rows x 26 columns]"
      ]
     },
     "execution_count": 2,
     "metadata": {},
     "output_type": "execute_result"
    }
   ],
   "source": [
    "df = pd.read_csv('comboframe.csv', nrows=3, parse_dates=['date'], infer_datetime_format=True)\n",
    "df"
   ]
  },
  {
   "cell_type": "code",
   "execution_count": 3,
   "metadata": {
    "collapsed": false
   },
   "outputs": [
    {
     "data": {
      "text/plain": [
       "checkin_id                       int64\n",
       "beer_id                          int64\n",
       "user_id                          int64\n",
       "rating_user                    float64\n",
       "brewery_name                    object\n",
       "beer_name                       object\n",
       "beer_style                      object\n",
       "brewery_id                       int64\n",
       "brewery_type                    object\n",
       "brewery_country                 object\n",
       "brewery_city                    object\n",
       "brewery_state                   object\n",
       "brewery_lat                    float64\n",
       "brewery_lon                    float64\n",
       "venue_lat                      float64\n",
       "venue_lon                      float64\n",
       "venue_city                      object\n",
       "venue_country                   object\n",
       "venue_state                     object\n",
       "venue_cat                       object\n",
       "venue_id                       float64\n",
       "checkin_comment                 object\n",
       "venue_type                      object\n",
       "rating_global                  float64\n",
       "abv                            float64\n",
       "date               datetime64[ns, UTC]\n",
       "dtype: object"
      ]
     },
     "execution_count": 3,
     "metadata": {},
     "output_type": "execute_result"
    }
   ],
   "source": [
    "df.dtypes"
   ]
  },
  {
   "cell_type": "markdown",
   "metadata": {},
   "source": [
    "Just focus on some columns that are more easily interpretable in decision trees.  \n",
    "Not using datetimes at this point, considering the difficulty in parsing out local  \n",
    "timezones from UTC info based on states, countries, unspecified venues, meaning of  \n",
    "days of the week, etc."
   ]
  },
  {
   "cell_type": "code",
   "execution_count": 2,
   "metadata": {
    "collapsed": false
   },
   "outputs": [],
   "source": [
    "keep_cols = ['checkin_id','beer_id','user_id','rating_user',\n",
    "             'beer_style','brewery_type','brewery_state','rating_global','abv']\n",
    "df = pd.read_csv('comboframe.csv', usecols=keep_cols)"
   ]
  },
  {
   "cell_type": "code",
   "execution_count": 31,
   "metadata": {
    "collapsed": false
   },
   "outputs": [
    {
     "name": "stdout",
     "output_type": "stream",
     "text": [
      "<class 'pandas.core.frame.DataFrame'>\n",
      "RangeIndex: 2061965 entries, 0 to 2061964\n",
      "Data columns (total 9 columns):\n",
      "checkin_id       int64\n",
      "beer_id          int64\n",
      "user_id          int64\n",
      "rating_user      float64\n",
      "beer_style       object\n",
      "brewery_type     object\n",
      "brewery_state    object\n",
      "rating_global    float64\n",
      "abv              float64\n",
      "dtypes: float64(3), int64(3), object(3)\n",
      "memory usage: 141.6+ MB\n"
     ]
    }
   ],
   "source": [
    "df.info()"
   ]
  },
  {
   "cell_type": "code",
   "execution_count": 32,
   "metadata": {
    "collapsed": false
   },
   "outputs": [
    {
     "data": {
      "text/html": [
       "<div>\n",
       "<style scoped>\n",
       "    .dataframe tbody tr th:only-of-type {\n",
       "        vertical-align: middle;\n",
       "    }\n",
       "\n",
       "    .dataframe tbody tr th {\n",
       "        vertical-align: top;\n",
       "    }\n",
       "\n",
       "    .dataframe thead th {\n",
       "        text-align: right;\n",
       "    }\n",
       "</style>\n",
       "<table border=\"1\" class=\"dataframe\">\n",
       "  <thead>\n",
       "    <tr style=\"text-align: right;\">\n",
       "      <th></th>\n",
       "      <th>checkin_id</th>\n",
       "      <th>beer_id</th>\n",
       "      <th>user_id</th>\n",
       "      <th>rating_user</th>\n",
       "      <th>beer_style</th>\n",
       "      <th>brewery_type</th>\n",
       "      <th>brewery_state</th>\n",
       "      <th>rating_global</th>\n",
       "      <th>abv</th>\n",
       "    </tr>\n",
       "  </thead>\n",
       "  <tbody>\n",
       "    <tr>\n",
       "      <th>0</th>\n",
       "      <td>821797539</td>\n",
       "      <td>2095023</td>\n",
       "      <td>3340203</td>\n",
       "      <td>3.75</td>\n",
       "      <td>IPA - American</td>\n",
       "      <td>Regional Brewery</td>\n",
       "      <td>CA</td>\n",
       "      <td>3.73789</td>\n",
       "      <td>7.5</td>\n",
       "    </tr>\n",
       "    <tr>\n",
       "      <th>1</th>\n",
       "      <td>818949121</td>\n",
       "      <td>1709568</td>\n",
       "      <td>3340203</td>\n",
       "      <td>3.50</td>\n",
       "      <td>Pale Ale - American</td>\n",
       "      <td>Micro Brewery</td>\n",
       "      <td>CA</td>\n",
       "      <td>3.43165</td>\n",
       "      <td>5.2</td>\n",
       "    </tr>\n",
       "    <tr>\n",
       "      <th>2</th>\n",
       "      <td>818856642</td>\n",
       "      <td>2734572</td>\n",
       "      <td>3340203</td>\n",
       "      <td>4.25</td>\n",
       "      <td>IPA - Imperial / Double</td>\n",
       "      <td>Micro Brewery</td>\n",
       "      <td>CA</td>\n",
       "      <td>3.87873</td>\n",
       "      <td>9.0</td>\n",
       "    </tr>\n",
       "    <tr>\n",
       "      <th>3</th>\n",
       "      <td>815159720</td>\n",
       "      <td>1044097</td>\n",
       "      <td>3340203</td>\n",
       "      <td>4.25</td>\n",
       "      <td>IPA - Imperial / Double</td>\n",
       "      <td>Regional Brewery</td>\n",
       "      <td>CA</td>\n",
       "      <td>4.01290</td>\n",
       "      <td>8.5</td>\n",
       "    </tr>\n",
       "    <tr>\n",
       "      <th>4</th>\n",
       "      <td>814916483</td>\n",
       "      <td>1070</td>\n",
       "      <td>3340203</td>\n",
       "      <td>3.75</td>\n",
       "      <td>Stout - Russian Imperial</td>\n",
       "      <td>Macro Brewery</td>\n",
       "      <td>CA</td>\n",
       "      <td>3.91420</td>\n",
       "      <td>9.9</td>\n",
       "    </tr>\n",
       "  </tbody>\n",
       "</table>\n",
       "</div>"
      ],
      "text/plain": [
       "   checkin_id  beer_id  user_id  rating_user                beer_style  \\\n",
       "0   821797539  2095023  3340203         3.75            IPA - American   \n",
       "1   818949121  1709568  3340203         3.50       Pale Ale - American   \n",
       "2   818856642  2734572  3340203         4.25   IPA - Imperial / Double   \n",
       "3   815159720  1044097  3340203         4.25   IPA - Imperial / Double   \n",
       "4   814916483     1070  3340203         3.75  Stout - Russian Imperial   \n",
       "\n",
       "       brewery_type brewery_state  rating_global  abv  \n",
       "0  Regional Brewery            CA        3.73789  7.5  \n",
       "1     Micro Brewery            CA        3.43165  5.2  \n",
       "2     Micro Brewery            CA        3.87873  9.0  \n",
       "3  Regional Brewery            CA        4.01290  8.5  \n",
       "4     Macro Brewery            CA        3.91420  9.9  "
      ]
     },
     "execution_count": 32,
     "metadata": {},
     "output_type": "execute_result"
    }
   ],
   "source": [
    "df.head()"
   ]
  },
  {
   "cell_type": "code",
   "execution_count": 33,
   "metadata": {
    "collapsed": false
   },
   "outputs": [
    {
     "data": {
      "text/plain": [
       "0.0"
      ]
     },
     "execution_count": 33,
     "metadata": {},
     "output_type": "execute_result"
    }
   ],
   "source": [
    "min(df.rating_global)"
   ]
  },
  {
   "cell_type": "code",
   "execution_count": 34,
   "metadata": {
    "collapsed": false
   },
   "outputs": [
    {
     "data": {
      "text/plain": [
       "212805"
      ]
     },
     "execution_count": 34,
     "metadata": {},
     "output_type": "execute_result"
    }
   ],
   "source": [
    "df.rating_global.isna().sum()"
   ]
  },
  {
   "cell_type": "code",
   "execution_count": 35,
   "metadata": {
    "collapsed": false
   },
   "outputs": [
    {
     "data": {
      "text/plain": [
       "7127"
      ]
     },
     "execution_count": 35,
     "metadata": {},
     "output_type": "execute_result"
    }
   ],
   "source": [
    "sum(df.rating_global == 0)"
   ]
  },
  {
   "cell_type": "code",
   "execution_count": 3,
   "metadata": {
    "collapsed": false
   },
   "outputs": [],
   "source": [
    "df.dropna(subset=['rating_global'], axis=0, inplace=True)"
   ]
  },
  {
   "cell_type": "code",
   "execution_count": 4,
   "metadata": {
    "collapsed": false
   },
   "outputs": [
    {
     "data": {
      "text/plain": [
       "(1842033, 9)"
      ]
     },
     "execution_count": 4,
     "metadata": {},
     "output_type": "execute_result"
    }
   ],
   "source": [
    "df = df[df.rating_global > 0]\n",
    "df.shape"
   ]
  },
  {
   "cell_type": "code",
   "execution_count": 38,
   "metadata": {
    "collapsed": false
   },
   "outputs": [
    {
     "data": {
      "text/plain": [
       "1.00423"
      ]
     },
     "execution_count": 38,
     "metadata": {},
     "output_type": "execute_result"
    }
   ],
   "source": [
    "min(df.rating_global)"
   ]
  },
  {
   "cell_type": "code",
   "execution_count": 39,
   "metadata": {
    "collapsed": false
   },
   "outputs": [
    {
     "data": {
      "text/plain": [
       "array(['Regional Brewery', 'Micro Brewery', 'Macro Brewery', 'Cidery',\n",
       "       'Nano Brewery', 'Brew Pub', 'Contract Brewery',\n",
       "       'Bar / Restaurant / Store', 'Home Brewery', 'Meadery'], dtype=object)"
      ]
     },
     "execution_count": 39,
     "metadata": {},
     "output_type": "execute_result"
    }
   ],
   "source": [
    "df.brewery_type.unique()"
   ]
  },
  {
   "cell_type": "code",
   "execution_count": 40,
   "metadata": {
    "collapsed": true
   },
   "outputs": [],
   "source": [
    "sampler = df.sample(5).copy()"
   ]
  },
  {
   "cell_type": "code",
   "execution_count": 41,
   "metadata": {
    "collapsed": false
   },
   "outputs": [
    {
     "data": {
      "text/html": [
       "<div>\n",
       "<style scoped>\n",
       "    .dataframe tbody tr th:only-of-type {\n",
       "        vertical-align: middle;\n",
       "    }\n",
       "\n",
       "    .dataframe tbody tr th {\n",
       "        vertical-align: top;\n",
       "    }\n",
       "\n",
       "    .dataframe thead th {\n",
       "        text-align: right;\n",
       "    }\n",
       "</style>\n",
       "<table border=\"1\" class=\"dataframe\">\n",
       "  <thead>\n",
       "    <tr style=\"text-align: right;\">\n",
       "      <th></th>\n",
       "      <th>checkin_id</th>\n",
       "      <th>beer_id</th>\n",
       "      <th>user_id</th>\n",
       "      <th>rating_user</th>\n",
       "      <th>beer_style</th>\n",
       "      <th>brewery_type</th>\n",
       "      <th>brewery_state</th>\n",
       "      <th>rating_global</th>\n",
       "      <th>abv</th>\n",
       "    </tr>\n",
       "  </thead>\n",
       "  <tbody>\n",
       "    <tr>\n",
       "      <th>1125827</th>\n",
       "      <td>731131231</td>\n",
       "      <td>2028176</td>\n",
       "      <td>2859099</td>\n",
       "      <td>3.25</td>\n",
       "      <td>IPA - American</td>\n",
       "      <td>Micro Brewery</td>\n",
       "      <td>WA</td>\n",
       "      <td>3.57797</td>\n",
       "      <td>6.2</td>\n",
       "    </tr>\n",
       "    <tr>\n",
       "      <th>215238</th>\n",
       "      <td>805198741</td>\n",
       "      <td>1102518</td>\n",
       "      <td>175522</td>\n",
       "      <td>3.50</td>\n",
       "      <td>Red Ale - American Amber / Red</td>\n",
       "      <td>Micro Brewery</td>\n",
       "      <td>WA</td>\n",
       "      <td>3.62687</td>\n",
       "      <td>5.3</td>\n",
       "    </tr>\n",
       "    <tr>\n",
       "      <th>1796577</th>\n",
       "      <td>813348609</td>\n",
       "      <td>3386463</td>\n",
       "      <td>2199731</td>\n",
       "      <td>1.00</td>\n",
       "      <td>IPA - Session / India Session Ale</td>\n",
       "      <td>Contract Brewery</td>\n",
       "      <td>Leinster</td>\n",
       "      <td>3.49013</td>\n",
       "      <td>4.3</td>\n",
       "    </tr>\n",
       "    <tr>\n",
       "      <th>121494</th>\n",
       "      <td>736365778</td>\n",
       "      <td>3830</td>\n",
       "      <td>2380419</td>\n",
       "      <td>3.75</td>\n",
       "      <td>Stout - American Imperial / Double</td>\n",
       "      <td>Regional Brewery</td>\n",
       "      <td>PA</td>\n",
       "      <td>3.72988</td>\n",
       "      <td>9.1</td>\n",
       "    </tr>\n",
       "    <tr>\n",
       "      <th>1489104</th>\n",
       "      <td>796872426</td>\n",
       "      <td>3314314</td>\n",
       "      <td>1743528</td>\n",
       "      <td>3.50</td>\n",
       "      <td>IPA - American</td>\n",
       "      <td>Nano Brewery</td>\n",
       "      <td>VA</td>\n",
       "      <td>3.68357</td>\n",
       "      <td>7.1</td>\n",
       "    </tr>\n",
       "  </tbody>\n",
       "</table>\n",
       "</div>"
      ],
      "text/plain": [
       "         checkin_id  beer_id  user_id  rating_user  \\\n",
       "1125827   731131231  2028176  2859099         3.25   \n",
       "215238    805198741  1102518   175522         3.50   \n",
       "1796577   813348609  3386463  2199731         1.00   \n",
       "121494    736365778     3830  2380419         3.75   \n",
       "1489104   796872426  3314314  1743528         3.50   \n",
       "\n",
       "                                 beer_style      brewery_type brewery_state  \\\n",
       "1125827                      IPA - American     Micro Brewery            WA   \n",
       "215238       Red Ale - American Amber / Red     Micro Brewery            WA   \n",
       "1796577   IPA - Session / India Session Ale  Contract Brewery      Leinster   \n",
       "121494   Stout - American Imperial / Double  Regional Brewery            PA   \n",
       "1489104                      IPA - American      Nano Brewery            VA   \n",
       "\n",
       "         rating_global  abv  \n",
       "1125827        3.57797  6.2  \n",
       "215238         3.62687  5.3  \n",
       "1796577        3.49013  4.3  \n",
       "121494         3.72988  9.1  \n",
       "1489104        3.68357  7.1  "
      ]
     },
     "execution_count": 41,
     "metadata": {},
     "output_type": "execute_result"
    }
   ],
   "source": [
    "sampler"
   ]
  },
  {
   "cell_type": "markdown",
   "metadata": {},
   "source": [
    "Make a mapping for user-specific rating tendency (how user rates vs. mean rating for beers user rates).  \n",
    "But only make the map for the training set, to avoid \"peeking\" at test data.  Then apply map to test set."
   ]
  },
  {
   "cell_type": "code",
   "execution_count": 5,
   "metadata": {
    "collapsed": true
   },
   "outputs": [],
   "source": [
    "# make the split before calculating biases, to see how the results fare\n",
    "trainers, testers = tts(df, test_size=0.02, random_state=0)"
   ]
  },
  {
   "cell_type": "code",
   "execution_count": 43,
   "metadata": {
    "collapsed": false
   },
   "outputs": [
    {
     "data": {
      "text/plain": [
       "(36841, 9)"
      ]
     },
     "execution_count": 43,
     "metadata": {},
     "output_type": "execute_result"
    }
   ],
   "source": [
    "testers.shape"
   ]
  },
  {
   "cell_type": "code",
   "execution_count": 6,
   "metadata": {
    "collapsed": false
   },
   "outputs": [
    {
     "name": "stderr",
     "output_type": "stream",
     "text": [
      "/Applications/anaconda/lib/python3.6/site-packages/ipykernel/__main__.py:1: SettingWithCopyWarning: \n",
      "A value is trying to be set on a copy of a slice from a DataFrame.\n",
      "Try using .loc[row_indexer,col_indexer] = value instead\n",
      "\n",
      "See the caveats in the documentation: http://pandas.pydata.org/pandas-docs/stable/indexing.html#indexing-view-versus-copy\n",
      "  if __name__ == '__main__':\n"
     ]
    }
   ],
   "source": [
    "trainers['user_bias'] = trainers.rating_user - trainers.rating_global\n",
    "userbiasdict = dict(trainers.groupby('user_id').user_bias.mean())"
   ]
  },
  {
   "cell_type": "code",
   "execution_count": 45,
   "metadata": {
    "collapsed": false
   },
   "outputs": [
    {
     "data": {
      "text/plain": [
       "0.22726999999999986"
      ]
     },
     "execution_count": 45,
     "metadata": {},
     "output_type": "execute_result"
    }
   ],
   "source": [
    "userbiasdict[1397554]   # random user"
   ]
  },
  {
   "cell_type": "code",
   "execution_count": 7,
   "metadata": {
    "collapsed": false
   },
   "outputs": [
    {
     "name": "stderr",
     "output_type": "stream",
     "text": [
      "/Applications/anaconda/lib/python3.6/site-packages/ipykernel/__main__.py:2: SettingWithCopyWarning: \n",
      "A value is trying to be set on a copy of a slice from a DataFrame.\n",
      "Try using .loc[row_indexer,col_indexer] = value instead\n",
      "\n",
      "See the caveats in the documentation: http://pandas.pydata.org/pandas-docs/stable/indexing.html#indexing-view-versus-copy\n",
      "  from ipykernel import kernelapp as app\n",
      "/Applications/anaconda/lib/python3.6/site-packages/ipykernel/__main__.py:3: SettingWithCopyWarning: \n",
      "A value is trying to be set on a copy of a slice from a DataFrame.\n",
      "Try using .loc[row_indexer,col_indexer] = value instead\n",
      "\n",
      "See the caveats in the documentation: http://pandas.pydata.org/pandas-docs/stable/indexing.html#indexing-view-versus-copy\n",
      "  app.launch_new_instance()\n"
     ]
    }
   ],
   "source": [
    "# now convert the bias column to the mean for the user\n",
    "trainers['user_bias'] = trainers.user_id.map(userbiasdict)\n",
    "testers['user_bias'] = testers.user_id.map(userbiasdict)"
   ]
  },
  {
   "cell_type": "code",
   "execution_count": 47,
   "metadata": {
    "collapsed": false
   },
   "outputs": [
    {
     "data": {
      "text/plain": [
       "0"
      ]
     },
     "execution_count": 47,
     "metadata": {},
     "output_type": "execute_result"
    }
   ],
   "source": [
    "trainers.user_bias.isna().sum() # should be 0, since map was built from it"
   ]
  },
  {
   "cell_type": "code",
   "execution_count": 48,
   "metadata": {
    "collapsed": false
   },
   "outputs": [
    {
     "data": {
      "text/plain": [
       "3427"
      ]
     },
     "execution_count": 48,
     "metadata": {},
     "output_type": "execute_result"
    }
   ],
   "source": [
    "testers.user_bias.isna().sum() # probably more than a few test set users weren't in train set"
   ]
  },
  {
   "cell_type": "markdown",
   "metadata": {},
   "source": [
    "Could just drop those unseen test users and decide not to predict ratings for first-time users,  \n",
    "but realistically, a recommender/predicter has to deal with cold-starts (first-time users whose bias is unknown)."
   ]
  },
  {
   "cell_type": "code",
   "execution_count": 8,
   "metadata": {
    "collapsed": false
   },
   "outputs": [
    {
     "name": "stderr",
     "output_type": "stream",
     "text": [
      "/Applications/anaconda/lib/python3.6/site-packages/pandas/core/generic.py:6130: SettingWithCopyWarning: \n",
      "A value is trying to be set on a copy of a slice from a DataFrame\n",
      "\n",
      "See the caveats in the documentation: http://pandas.pydata.org/pandas-docs/stable/indexing.html#indexing-view-versus-copy\n",
      "  self._update_inplace(new_data)\n"
     ]
    }
   ],
   "source": [
    "testers.user_bias.fillna(0.0, inplace=True)"
   ]
  },
  {
   "cell_type": "code",
   "execution_count": 50,
   "metadata": {
    "collapsed": false
   },
   "outputs": [
    {
     "data": {
      "text/plain": [
       "Index(['checkin_id', 'beer_id', 'user_id', 'rating_user', 'beer_style',\n",
       "       'brewery_type', 'brewery_state', 'rating_global', 'abv', 'user_bias'],\n",
       "      dtype='object')"
      ]
     },
     "execution_count": 50,
     "metadata": {},
     "output_type": "execute_result"
    }
   ],
   "source": [
    "testers.columns"
   ]
  },
  {
   "cell_type": "code",
   "execution_count": 9,
   "metadata": {
    "collapsed": true
   },
   "outputs": [],
   "source": [
    "# split the trainers into features and target, and the testers as well\n",
    "feats = ['checkin_id', 'rating_global', 'abv', 'beer_style',\n",
    "       'brewery_type', 'brewery_state','user_bias']\n",
    "target = 'rating_user'\n",
    "trainX = trainers[feats]\n",
    "trainY = trainers[target]\n",
    "testX = testers[feats]\n",
    "testY = testers[target]"
   ]
  },
  {
   "cell_type": "markdown",
   "metadata": {},
   "source": [
    "Attempt boosted regression on these features"
   ]
  },
  {
   "cell_type": "code",
   "execution_count": 10,
   "metadata": {
    "collapsed": false
   },
   "outputs": [
    {
     "name": "stderr",
     "output_type": "stream",
     "text": [
      "/Applications/anaconda/lib/python3.6/site-packages/pandas/core/frame.py:4034: SettingWithCopyWarning: \n",
      "A value is trying to be set on a copy of a slice from a DataFrame\n",
      "\n",
      "See the caveats in the documentation: http://pandas.pydata.org/pandas-docs/stable/indexing.html#indexing-view-versus-copy\n",
      "  downcast=downcast, **kwargs)\n"
     ]
    }
   ],
   "source": [
    "# need to one-hot encode the string features first\n",
    "# but sklearn doesn't want to encode NaN's, so convert to empty strings\n",
    "trainX.fillna('', inplace=True)\n",
    "testX.fillna('', inplace=True)"
   ]
  },
  {
   "cell_type": "code",
   "execution_count": 11,
   "metadata": {
    "collapsed": false
   },
   "outputs": [],
   "source": [
    "enc = OneHotEncoder(handle_unknown='ignore')  # ignore = convert unseen categories to zeros"
   ]
  },
  {
   "cell_type": "code",
   "execution_count": 12,
   "metadata": {
    "collapsed": false
   },
   "outputs": [],
   "source": [
    "onehots = enc.fit(pd.concat([trainX, testX])[['brewery_type','brewery_state', 'beer_style']])"
   ]
  },
  {
   "cell_type": "code",
   "execution_count": 13,
   "metadata": {
    "collapsed": false
   },
   "outputs": [],
   "source": [
    "train_cats = onehots.transform(trainX[['brewery_type','brewery_state', 'beer_style']])"
   ]
  },
  {
   "cell_type": "code",
   "execution_count": 56,
   "metadata": {
    "collapsed": false
   },
   "outputs": [
    {
     "data": {
      "text/plain": [
       "(1805192, 1018)"
      ]
     },
     "execution_count": 56,
     "metadata": {},
     "output_type": "execute_result"
    }
   ],
   "source": [
    "train_cats.shape"
   ]
  },
  {
   "cell_type": "code",
   "execution_count": 57,
   "metadata": {
    "collapsed": false
   },
   "outputs": [
    {
     "data": {
      "text/plain": [
       "(1805192, 7)"
      ]
     },
     "execution_count": 57,
     "metadata": {},
     "output_type": "execute_result"
    }
   ],
   "source": [
    "trainX.shape"
   ]
  },
  {
   "cell_type": "code",
   "execution_count": 31,
   "metadata": {
    "collapsed": false
   },
   "outputs": [
    {
     "data": {
      "text/plain": [
       "scipy.sparse.csr.csr_matrix"
      ]
     },
     "execution_count": 31,
     "metadata": {},
     "output_type": "execute_result"
    }
   ],
   "source": [
    "type(train_cats)"
   ]
  },
  {
   "cell_type": "code",
   "execution_count": 14,
   "metadata": {
    "collapsed": false
   },
   "outputs": [],
   "source": [
    "test_cats = onehots.transform(testX[['brewery_type','brewery_state', 'beer_style']])"
   ]
  },
  {
   "cell_type": "code",
   "execution_count": 33,
   "metadata": {
    "collapsed": false
   },
   "outputs": [
    {
     "data": {
      "text/plain": [
       "(36841, 1018)"
      ]
     },
     "execution_count": 33,
     "metadata": {},
     "output_type": "execute_result"
    }
   ],
   "source": [
    "test_cats.shape"
   ]
  },
  {
   "cell_type": "code",
   "execution_count": 36,
   "metadata": {
    "collapsed": false
   },
   "outputs": [
    {
     "data": {
      "text/plain": [
       "scipy.sparse.csr.csr_matrix"
      ]
     },
     "execution_count": 36,
     "metadata": {},
     "output_type": "execute_result"
    }
   ],
   "source": [
    "type(test_cats)"
   ]
  },
  {
   "cell_type": "code",
   "execution_count": 15,
   "metadata": {
    "collapsed": false
   },
   "outputs": [],
   "source": [
    "train_X = np.concatenate([trainX[['checkin_id', 'rating_global', 'user_bias', 'abv']].values, train_cats.toarray()], axis=1)"
   ]
  },
  {
   "cell_type": "code",
   "execution_count": 16,
   "metadata": {
    "collapsed": false
   },
   "outputs": [],
   "source": [
    "test_X = np.concatenate([testX[['checkin_id', 'rating_global', 'user_bias', 'abv']].values, test_cats.toarray()], axis=1)"
   ]
  },
  {
   "cell_type": "code",
   "execution_count": 38,
   "metadata": {
    "collapsed": true
   },
   "outputs": [],
   "source": [
    "from scipy.sparse import hstack, csr_matrix"
   ]
  },
  {
   "cell_type": "code",
   "execution_count": 39,
   "metadata": {
    "collapsed": false
   },
   "outputs": [
    {
     "name": "stderr",
     "output_type": "stream",
     "text": [
      "\n",
      "\n",
      "\u001b[A\u001b[A"
     ]
    }
   ],
   "source": [
    "train_X = hstack([csr_matrix(trainX[['checkin_id', 'rating_global', 'user_bias', 'abv']].values), train_cats])"
   ]
  },
  {
   "cell_type": "code",
   "execution_count": 41,
   "metadata": {
    "collapsed": false
   },
   "outputs": [
    {
     "data": {
      "text/plain": [
       "(1805192, 1022)"
      ]
     },
     "execution_count": 41,
     "metadata": {},
     "output_type": "execute_result"
    }
   ],
   "source": [
    "train_X.shape"
   ]
  },
  {
   "cell_type": "code",
   "execution_count": 42,
   "metadata": {
    "collapsed": true
   },
   "outputs": [],
   "source": [
    "test_X = hstack([csr_matrix(testX[['checkin_id', 'rating_global', 'user_bias', 'abv']].values), test_cats])"
   ]
  },
  {
   "cell_type": "code",
   "execution_count": 43,
   "metadata": {
    "collapsed": true
   },
   "outputs": [],
   "source": [
    "from tqdm import tqdm"
   ]
  },
  {
   "cell_type": "code",
   "execution_count": 71,
   "metadata": {
    "collapsed": true
   },
   "outputs": [],
   "source": [
    "gbr = GradientBoostingRegressor(verbose=1, n_estimators=20)"
   ]
  },
  {
   "cell_type": "code",
   "execution_count": 72,
   "metadata": {
    "collapsed": false
   },
   "outputs": [
    {
     "data": {
      "text/plain": [
       "(1805192, 1022)"
      ]
     },
     "execution_count": 72,
     "metadata": {},
     "output_type": "execute_result"
    }
   ],
   "source": [
    "train_X.shape"
   ]
  },
  {
   "cell_type": "code",
   "execution_count": 73,
   "metadata": {
    "collapsed": false
   },
   "outputs": [
    {
     "data": {
      "text/plain": [
       "(1805192,)"
      ]
     },
     "execution_count": 73,
     "metadata": {},
     "output_type": "execute_result"
    }
   ],
   "source": [
    "trainY.shape"
   ]
  },
  {
   "cell_type": "code",
   "execution_count": 74,
   "metadata": {
    "collapsed": false
   },
   "outputs": [
    {
     "data": {
      "text/plain": [
       "scipy.sparse.csr.csr_matrix"
      ]
     },
     "execution_count": 74,
     "metadata": {},
     "output_type": "execute_result"
    }
   ],
   "source": [
    "type(train_X)"
   ]
  },
  {
   "cell_type": "code",
   "execution_count": 75,
   "metadata": {
    "collapsed": true
   },
   "outputs": [],
   "source": [
    "train_X = csr_matrix(train_X)\n",
    "test_X = csr_matrix(test_X)"
   ]
  },
  {
   "cell_type": "code",
   "execution_count": 76,
   "metadata": {
    "collapsed": false
   },
   "outputs": [
    {
     "name": "stdout",
     "output_type": "stream",
     "text": [
      "      Iter       Train Loss   Remaining Time \n",
      "         1           0.3220            2.69m\n",
      "         2           0.2998            2.45m\n",
      "         3           0.2808            2.29m\n",
      "         4           0.2651            2.14m\n",
      "         5           0.2515            2.00m\n",
      "         6           0.2398            1.86m\n",
      "         7           0.2296            1.73m\n",
      "         8           0.2209            1.60m\n",
      "         9           0.2129            1.46m\n",
      "        10           0.2063            1.33m\n",
      "        20           0.1705            0.00s\n"
     ]
    },
    {
     "data": {
      "text/plain": [
       "GradientBoostingRegressor(alpha=0.9, criterion='friedman_mse', init=None,\n",
       "             learning_rate=0.1, loss='ls', max_depth=3, max_features=None,\n",
       "             max_leaf_nodes=None, min_impurity_decrease=0.0,\n",
       "             min_impurity_split=None, min_samples_leaf=1,\n",
       "             min_samples_split=2, min_weight_fraction_leaf=0.0,\n",
       "             n_estimators=20, n_iter_no_change=None, presort='auto',\n",
       "             random_state=None, subsample=1.0, tol=0.0001,\n",
       "             validation_fraction=0.1, verbose=1, warm_start=False)"
      ]
     },
     "execution_count": 76,
     "metadata": {},
     "output_type": "execute_result"
    }
   ],
   "source": [
    "gbr.fit(train_X, trainY.values)"
   ]
  },
  {
   "cell_type": "code",
   "execution_count": 77,
   "metadata": {
    "collapsed": true
   },
   "outputs": [],
   "source": [
    "preds = gbr.predict(test_X)"
   ]
  },
  {
   "cell_type": "code",
   "execution_count": 78,
   "metadata": {
    "collapsed": false
   },
   "outputs": [
    {
     "name": "stdout",
     "output_type": "stream",
     "text": [
      "1.59887669547 4.63276393538\n"
     ]
    }
   ],
   "source": [
    "print(min(preds), max(preds))"
   ]
  },
  {
   "cell_type": "code",
   "execution_count": 79,
   "metadata": {
    "collapsed": false
   },
   "outputs": [],
   "source": [
    "preds = np.clip(preds,0.25, 5.0)"
   ]
  },
  {
   "cell_type": "code",
   "execution_count": 80,
   "metadata": {
    "collapsed": true
   },
   "outputs": [],
   "source": [
    "def rmse(arr1, arr2):\n",
    "    assert(len(arr1) == len(arr2)), print('Inputs must be same length.')\n",
    "    diffs = arr1 - arr2\n",
    "    mse = np.dot(diffs, diffs) / len(diffs)\n",
    "    return np.sqrt(mse)"
   ]
  },
  {
   "cell_type": "code",
   "execution_count": 81,
   "metadata": {
    "collapsed": false
   },
   "outputs": [
    {
     "data": {
      "text/plain": [
       "0.47862522038952604"
      ]
     },
     "execution_count": 81,
     "metadata": {},
     "output_type": "execute_result"
    }
   ],
   "source": [
    "rmse(preds, testY)"
   ]
  },
  {
   "cell_type": "markdown",
   "metadata": {},
   "source": [
    "How about testing just on users whose bias has been shown?"
   ]
  },
  {
   "cell_type": "code",
   "execution_count": 69,
   "metadata": {
    "collapsed": false
   },
   "outputs": [
    {
     "name": "stdout",
     "output_type": "stream",
     "text": [
      "Inputs must be same length.\n"
     ]
    },
    {
     "ename": "AssertionError",
     "evalue": "None",
     "output_type": "error",
     "traceback": [
      "\u001b[0;31m---------------------------------------------------------------------------\u001b[0m",
      "\u001b[0;31mAssertionError\u001b[0m                            Traceback (most recent call last)",
      "\u001b[0;32m<ipython-input-69-3d7098be1c17>\u001b[0m in \u001b[0;36m<module>\u001b[0;34m()\u001b[0m\n\u001b[1;32m      1\u001b[0m \u001b[0mbiased_preds\u001b[0m \u001b[0;34m=\u001b[0m \u001b[0mgbr\u001b[0m\u001b[0;34m.\u001b[0m\u001b[0mpredict\u001b[0m\u001b[0;34m(\u001b[0m\u001b[0mtest_X\u001b[0m\u001b[0;34m[\u001b[0m\u001b[0mtestX\u001b[0m\u001b[0;34m.\u001b[0m\u001b[0muser_bias\u001b[0m \u001b[0;34m!=\u001b[0m \u001b[0;36m0\u001b[0m\u001b[0;34m,\u001b[0m \u001b[0;34m:\u001b[0m\u001b[0;34m]\u001b[0m\u001b[0;34m)\u001b[0m\u001b[0;34m\u001b[0m\u001b[0;34m\u001b[0m\u001b[0m\n\u001b[1;32m      2\u001b[0m \u001b[0mbiased_targets\u001b[0m \u001b[0;34m=\u001b[0m \u001b[0mtestY\u001b[0m\u001b[0;34m[\u001b[0m\u001b[0mtestX\u001b[0m\u001b[0;34m.\u001b[0m\u001b[0muser_bias\u001b[0m \u001b[0;34m!=\u001b[0m \u001b[0;36m0\u001b[0m\u001b[0;34m]\u001b[0m\u001b[0;34m\u001b[0m\u001b[0;34m\u001b[0m\u001b[0m\n\u001b[0;32m----> 3\u001b[0;31m \u001b[0mrmse\u001b[0m\u001b[0;34m(\u001b[0m\u001b[0mbiased_preds\u001b[0m\u001b[0;34m,\u001b[0m \u001b[0mbiased_targets\u001b[0m\u001b[0;34m)\u001b[0m\u001b[0;34m\u001b[0m\u001b[0;34m\u001b[0m\u001b[0m\n\u001b[0m",
      "\u001b[0;32m<ipython-input-56-8292abefa28f>\u001b[0m in \u001b[0;36mrmse\u001b[0;34m(arr1, arr2)\u001b[0m\n\u001b[1;32m      1\u001b[0m \u001b[0;32mdef\u001b[0m \u001b[0mrmse\u001b[0m\u001b[0;34m(\u001b[0m\u001b[0marr1\u001b[0m\u001b[0;34m,\u001b[0m \u001b[0marr2\u001b[0m\u001b[0;34m)\u001b[0m\u001b[0;34m:\u001b[0m\u001b[0;34m\u001b[0m\u001b[0;34m\u001b[0m\u001b[0m\n\u001b[0;32m----> 2\u001b[0;31m     \u001b[0;32massert\u001b[0m\u001b[0;34m(\u001b[0m\u001b[0mlen\u001b[0m\u001b[0;34m(\u001b[0m\u001b[0marr1\u001b[0m\u001b[0;34m)\u001b[0m \u001b[0;34m==\u001b[0m \u001b[0mlen\u001b[0m\u001b[0;34m(\u001b[0m\u001b[0marr2\u001b[0m\u001b[0;34m)\u001b[0m\u001b[0;34m)\u001b[0m\u001b[0;34m,\u001b[0m \u001b[0mprint\u001b[0m\u001b[0;34m(\u001b[0m\u001b[0;34m'Inputs must be same length.'\u001b[0m\u001b[0;34m)\u001b[0m\u001b[0;34m\u001b[0m\u001b[0;34m\u001b[0m\u001b[0m\n\u001b[0m\u001b[1;32m      3\u001b[0m     \u001b[0mdiffs\u001b[0m \u001b[0;34m=\u001b[0m \u001b[0marr1\u001b[0m \u001b[0;34m-\u001b[0m \u001b[0marr2\u001b[0m\u001b[0;34m\u001b[0m\u001b[0;34m\u001b[0m\u001b[0m\n\u001b[1;32m      4\u001b[0m     \u001b[0mmse\u001b[0m \u001b[0;34m=\u001b[0m \u001b[0mnp\u001b[0m\u001b[0;34m.\u001b[0m\u001b[0mdot\u001b[0m\u001b[0;34m(\u001b[0m\u001b[0mdiffs\u001b[0m\u001b[0;34m,\u001b[0m \u001b[0mdiffs\u001b[0m\u001b[0;34m)\u001b[0m \u001b[0;34m/\u001b[0m \u001b[0mlen\u001b[0m\u001b[0;34m(\u001b[0m\u001b[0mdiffs\u001b[0m\u001b[0;34m)\u001b[0m\u001b[0;34m\u001b[0m\u001b[0;34m\u001b[0m\u001b[0m\n\u001b[1;32m      5\u001b[0m     \u001b[0;32mreturn\u001b[0m \u001b[0mnp\u001b[0m\u001b[0;34m.\u001b[0m\u001b[0msqrt\u001b[0m\u001b[0;34m(\u001b[0m\u001b[0mmse\u001b[0m\u001b[0;34m)\u001b[0m\u001b[0;34m\u001b[0m\u001b[0;34m\u001b[0m\u001b[0m\n",
      "\u001b[0;31mAssertionError\u001b[0m: None"
     ]
    }
   ],
   "source": [
    "biased_preds = gbr.predict(test_X[testX.user_bias != 0, :])\n",
    "biased_targets = testY[testX.user_bias != 0]\n",
    "rmse(biased_preds, biased_targets)"
   ]
  },
  {
   "cell_type": "markdown",
   "metadata": {},
   "source": [
    "... vs just a baseline:"
   ]
  },
  {
   "cell_type": "code",
   "execution_count": 70,
   "metadata": {
    "collapsed": false
   },
   "outputs": [
    {
     "data": {
      "text/plain": [
       "0.4619086937490075"
      ]
     },
     "execution_count": 70,
     "metadata": {},
     "output_type": "execute_result"
    }
   ],
   "source": [
    "biased = testX[testX.user_bias != 0]\n",
    "biasedY = testY[testX.user_bias != 0]\n",
    "rmse(biasedY, biased.rating_global + biased.user_bias)"
   ]
  },
  {
   "cell_type": "code",
   "execution_count": 82,
   "metadata": {
    "collapsed": false
   },
   "outputs": [
    {
     "data": {
      "text/plain": [
       "[(0.64955881174236763, 'abv'),\n",
       " (0.35044118825763237, 'rating_global'),\n",
       " (0.0, 'user_bias'),\n",
       " (0.0, 'checkin_id'),\n",
       " (0.0, 'brewery_type'),\n",
       " (0.0, 'brewery_state'),\n",
       " (0.0, 'beer_style')]"
      ]
     },
     "execution_count": 82,
     "metadata": {},
     "output_type": "execute_result"
    }
   ],
   "source": [
    "sorted(list(zip(gbr.feature_importances_, trainX.columns)), reverse=True)[:10]"
   ]
  },
  {
   "cell_type": "code",
   "execution_count": 83,
   "metadata": {
    "collapsed": false
   },
   "outputs": [
    {
     "data": {
      "text/plain": [
       "(1805192, 7)"
      ]
     },
     "execution_count": 83,
     "metadata": {},
     "output_type": "execute_result"
    }
   ],
   "source": [
    "trainX.shape"
   ]
  },
  {
   "cell_type": "code",
   "execution_count": null,
   "metadata": {
    "collapsed": true
   },
   "outputs": [],
   "source": []
  }
 ],
 "metadata": {
  "kernelspec": {
   "display_name": "Python 3",
   "language": "python",
   "name": "python3"
  },
  "language_info": {
   "codemirror_mode": {
    "name": "ipython",
    "version": 3
   },
   "file_extension": ".py",
   "mimetype": "text/x-python",
   "name": "python",
   "nbconvert_exporter": "python",
   "pygments_lexer": "ipython3",
   "version": "3.6.9"
  }
 },
 "nbformat": 4,
 "nbformat_minor": 2
}
