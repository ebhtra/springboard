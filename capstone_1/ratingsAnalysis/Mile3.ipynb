{
 "cells": [
  {
   "cell_type": "code",
   "execution_count": 1,
   "metadata": {
    "collapsed": false
   },
   "outputs": [
    {
     "name": "stdout",
     "output_type": "stream",
     "text": [
      "(1894852, 9)\n"
     ]
    }
   ],
   "source": [
    "import pandas as pd\n",
    "\n",
    "checkins = pd.read_csv('comboframe.csv', usecols=['beer_id', 'rating_user',\n",
    "                                                  'rating_global', 'user_id',\n",
    "                                                  'abv', 'brewery_name',\n",
    "                                                  'beer_style', 'beer_name',\n",
    "                                                  'checkin_id'])\n",
    "# only allow each user one rating for each beer\n",
    "checkins.drop_duplicates(subset=['beer_id', 'user_id'], inplace=True)\n",
    "print(checkins.shape)"
   ]
  },
  {
   "cell_type": "code",
   "execution_count": 2,
   "metadata": {
    "collapsed": false
   },
   "outputs": [
    {
     "data": {
      "text/plain": [
       "(1529580, 9)"
      ]
     },
     "execution_count": 2,
     "metadata": {},
     "output_type": "execute_result"
    }
   ],
   "source": [
    "# remove the users who only checked in fewer than 4 times\n",
    "checkins = checkins[checkins.user_id.map(checkins.groupby('user_id').size() > 3)]\n",
    "checkins.shape"
   ]
  },
  {
   "cell_type": "code",
   "execution_count": 3,
   "metadata": {
    "collapsed": false
   },
   "outputs": [
    {
     "data": {
      "text/plain": [
       "(1257869, 9)"
      ]
     },
     "execution_count": 3,
     "metadata": {},
     "output_type": "execute_result"
    }
   ],
   "source": [
    "# remove the beers rated fewer than 4 times\n",
    "checkins = checkins[checkins.beer_id.map(checkins.groupby('beer_id').size() > 3)]\n",
    "checkins.shape"
   ]
  },
  {
   "cell_type": "code",
   "execution_count": 4,
   "metadata": {
    "collapsed": false
   },
   "outputs": [
    {
     "data": {
      "text/plain": [
       "(1193682, 9)"
      ]
     },
     "execution_count": 4,
     "metadata": {},
     "output_type": "execute_result"
    }
   ],
   "source": [
    "# remove the ones with no global ratings\n",
    "checkins.dropna(subset=['rating_global'], axis=0, inplace=True)\n",
    "# and the zeros\n",
    "checkins = checkins[checkins.rating_global > 0]\n",
    "checkins.shape"
   ]
  },
  {
   "cell_type": "code",
   "execution_count": 5,
   "metadata": {
    "collapsed": false
   },
   "outputs": [
    {
     "data": {
      "text/plain": [
       "(1184752, 9)"
      ]
     },
     "execution_count": 5,
     "metadata": {},
     "output_type": "execute_result"
    }
   ],
   "source": [
    "# remove beers that aren't really beer, based on the alcohol content\n",
    "checkins = checkins[(checkins.abv > 0) & (checkins.abv < 20)]\n",
    "checkins.shape"
   ]
  },
  {
   "cell_type": "code",
   "execution_count": 6,
   "metadata": {
    "collapsed": true
   },
   "outputs": [],
   "source": [
    "#checkins.to_csv('../checkins.csv')"
   ]
  },
  {
   "cell_type": "code",
   "execution_count": 6,
   "metadata": {
    "collapsed": true
   },
   "outputs": [],
   "source": [
    "# a mapping from user to number of ratings can be helpful in many situations\n",
    "usercounts = checkins.groupby('user_id').size()"
   ]
  },
  {
   "cell_type": "code",
   "execution_count": 7,
   "metadata": {
    "collapsed": true
   },
   "outputs": [],
   "source": [
    "def split_last_X(frame, countDict, X):\n",
    "    '''\n",
    "    Split the input frame into training and testing,\n",
    "    using the last X for each user as testers.\n",
    "    CountDict input has the rows per user,\n",
    "    and the frame is indexed by user.\n",
    "    Returns the train split and test split\n",
    "    '''\n",
    "    boollist = [[True] * (countDict[u] - X) + [False] * X for u in frame.index.unique()]\n",
    "    boollist = np.array([boo for lis in boollist for boo in lis])  # numpy to help with the logic\n",
    "    \n",
    "    return frame[boollist], frame[~boollist]"
   ]
  },
  {
   "cell_type": "code",
   "execution_count": 8,
   "metadata": {
    "collapsed": true
   },
   "outputs": [],
   "source": [
    "# make a func to deal with ties in rankings\n",
    "def untied_rank(arr, vals):\n",
    "    '''\n",
    "    Measure how well the input vals (list or np.array) has chosen\n",
    "    the top values of input arr (np.array). \n",
    "    vals must be subset of arr.\n",
    "    1.0 is perfect, 0.0 is worst.\n",
    "    '''\n",
    "    fails = 0\n",
    "    poss_fails = 0\n",
    "    ordered = np.sort(arr)\n",
    "    if max(ordered) == min(ordered): return 0.5  # like guessing\n",
    "    for i in range(len(vals)):\n",
    "        fails += sum(arr > vals[i])\n",
    "        arr = np.delete(arr, np.where(arr == vals[i])[0][0])\n",
    "        poss_fails += sum(ordered > ordered[i])\n",
    "    \n",
    "    return 1 - fails / poss_fails"
   ]
  },
  {
   "cell_type": "code",
   "execution_count": 9,
   "metadata": {
    "collapsed": false
   },
   "outputs": [
    {
     "name": "stdout",
     "output_type": "stream",
     "text": [
      "1112372 training rows, 72380 testing rows\n"
     ]
    }
   ],
   "source": [
    "import numpy as np\n",
    "\n",
    "# with sorted checkins for each user, we can simulate having a user's rating history when recommending\n",
    "checkins.sort_values(by=['user_id', 'checkin_id'], inplace=True)\n",
    "checkins.set_index('user_id', inplace=True)\n",
    "# gather the users who have more than 50 ratings and save their last 10 for testing\n",
    "bigs = checkins.index.map(usercounts) > 49\n",
    "smalls = checkins[~bigs]\n",
    "tr, test = split_last_X(checkins[bigs], usercounts, 10)\n",
    "train = pd.concat([smalls, tr])\n",
    "print(f'{train.shape[0]} training rows, {test.shape[0]} testing rows')"
   ]
  },
  {
   "cell_type": "code",
   "execution_count": 10,
   "metadata": {
    "collapsed": true
   },
   "outputs": [],
   "source": [
    "# need the space\n",
    "checkins = None"
   ]
  },
  {
   "cell_type": "code",
   "execution_count": 11,
   "metadata": {
    "collapsed": true
   },
   "outputs": [],
   "source": [
    "from tqdm import tqdm\n",
    "from collections import defaultdict"
   ]
  },
  {
   "cell_type": "code",
   "execution_count": 12,
   "metadata": {
    "collapsed": true
   },
   "outputs": [],
   "source": [
    "# show how each user's ratings deviate from global ratings and from their own ratings\n",
    "train['udiff'] = train.rating_user - train.rating_global\n",
    "train['udev'] = train.udiff - train.index.map(train.groupby(train.index)['udiff'].mean())"
   ]
  },
  {
   "cell_type": "code",
   "execution_count": 13,
   "metadata": {
    "collapsed": true
   },
   "outputs": [],
   "source": [
    "train.reset_index(inplace=True)\n",
    "udict = {uid:dict() for uid in train.user_id.unique()}\n",
    "bdict = {bid:dict() for bid in train.beer_id.unique()}\n",
    "for checkin in zip(train.user_id, train.beer_id, train.udev):\n",
    "    udict[checkin[0]][checkin[1]] = checkin[2]\n",
    "    bdict[checkin[1]][checkin[0]] = checkin[2]"
   ]
  },
  {
   "cell_type": "code",
   "execution_count": 14,
   "metadata": {
    "collapsed": true
   },
   "outputs": [],
   "source": [
    "from scipy import stats"
   ]
  },
  {
   "cell_type": "code",
   "execution_count": 15,
   "metadata": {
    "collapsed": false
   },
   "outputs": [
    {
     "name": "stderr",
     "output_type": "stream",
     "text": [
      "100%|██████████| 43641/43641 [08:39<00:00, 83.99it/s]   \n"
     ]
    }
   ],
   "source": [
    "# calculate user/user correlation/similarity \n",
    "pearsons = {u: dict() for u in udict}\n",
    "shared_beers = {u: defaultdict(list) for u in udict}  # track shared beers\n",
    "for u in tqdm(udict):\n",
    "    # loop thru all checkins by u\n",
    "    for b in udict[u]:\n",
    "        # loop thru all common raters\n",
    "        for v in bdict[b]:\n",
    "            if u < v:\n",
    "                shared_beers[u][v].append(b)\n",
    "                shared_beers[v][u].append(b)\n",
    "                \n",
    "                #combeers = [b for b in udict[u] if 2680 in bdict[bee]]"
   ]
  },
  {
   "cell_type": "code",
   "execution_count": 18,
   "metadata": {
    "collapsed": true
   },
   "outputs": [],
   "source": [
    "def pr(u,v):\n",
    "    return stats.pearsonr([udict[u][b] for b in shared_beers[u][v]],\n",
    "                            [udict[v][b] for b in shared_beers[v][u]])[0]"
   ]
  },
  {
   "cell_type": "code",
   "execution_count": 21,
   "metadata": {
    "collapsed": false,
    "scrolled": true
   },
   "outputs": [
    {
     "name": "stderr",
     "output_type": "stream",
     "text": [
      "\n",
      "  0%|          | 0/43641 [00:00<?, ?it/s]\u001b[A\n",
      "  0%|          | 82/43641 [00:00<00:56, 764.63it/s]\u001b[A\n",
      "  0%|          | 206/43641 [00:00<01:06, 655.99it/s]\u001b[A\n",
      "  1%|          | 314/43641 [00:00<01:00, 720.25it/s]\u001b[A\n",
      "  1%|          | 364/43641 [00:00<01:18, 550.56it/s]\u001b[A\n",
      "  1%|▏         | 614/43641 [00:00<00:59, 718.01it/s]\u001b[A\n",
      "  2%|▏         | 848/43641 [00:00<00:47, 906.40it/s]\u001b[A\n",
      "  3%|▎         | 1137/43641 [00:00<00:37, 1139.33it/s]\u001b[A\n",
      "  3%|▎         | 1324/43641 [00:01<00:34, 1244.42it/s]\u001b[A\n",
      "  4%|▎         | 1564/43641 [00:01<00:28, 1453.83it/s]\u001b[A\n",
      "  4%|▍         | 1962/43641 [00:01<00:23, 1795.53it/s]\u001b[A\n",
      "  6%|▌         | 2406/43641 [00:01<00:18, 2180.23it/s]\u001b[A\n",
      "  6%|▋         | 2812/43641 [00:01<00:16, 2474.27it/s]\u001b[A\n",
      "  8%|▊         | 3338/43641 [00:01<00:13, 2941.56it/s]\u001b[A\n",
      "  9%|▊         | 3724/43641 [00:01<00:12, 3121.22it/s]\u001b[A\n",
      "  9%|▉         | 4104/43641 [00:01<00:12, 3163.96it/s]\u001b[A\n",
      " 10%|█         | 4468/43641 [00:01<00:14, 2779.95it/s]\u001b[A\n",
      " 11%|█         | 4819/43641 [00:02<00:13, 2942.50it/s]\u001b[A\n",
      " 12%|█▏        | 5145/43641 [00:02<00:16, 2383.35it/s]\u001b[A\n",
      " 12%|█▏        | 5423/43641 [00:02<00:16, 2251.81it/s]\u001b[A\n",
      " 13%|█▎        | 5678/43641 [00:02<00:16, 2326.09it/s]\u001b[A\n",
      " 14%|█▍        | 6152/43641 [00:02<00:14, 2632.12it/s]\u001b[A\n",
      " 15%|█▍        | 6451/43641 [00:02<00:13, 2730.09it/s]\u001b[A\n",
      " 16%|█▌        | 6893/43641 [00:02<00:11, 3083.53it/s]\u001b[A\n",
      " 17%|█▋        | 7264/43641 [00:02<00:11, 3247.81it/s]\u001b[A\n",
      " 17%|█▋        | 7612/43641 [00:03<00:10, 3281.61it/s]\u001b[A\n",
      " 18%|█▊        | 8008/43641 [00:03<00:10, 3459.14it/s]\u001b[A\n",
      " 19%|█▉        | 8368/43641 [00:03<00:10, 3404.02it/s]\u001b[A\n",
      " 20%|█▉        | 8719/43641 [00:03<00:11, 2950.66it/s]\u001b[A\n",
      " 21%|██        | 9032/43641 [00:03<00:12, 2790.61it/s]\u001b[A\n",
      " 21%|██▏       | 9345/43641 [00:03<00:11, 2874.38it/s]\u001b[A\n",
      " 22%|██▏       | 9646/43641 [00:03<00:13, 2432.11it/s]\u001b[A\n",
      " 23%|██▎       | 10105/43641 [00:03<00:11, 2829.07it/s]\u001b[A\n",
      " 24%|██▍       | 10426/43641 [00:04<00:12, 2673.80it/s]\u001b[A\n",
      " 25%|██▍       | 10760/43641 [00:04<00:11, 2834.65it/s]\u001b[A\n",
      " 25%|██▌       | 11066/43641 [00:04<00:12, 2645.75it/s]\u001b[A\n",
      " 26%|██▌       | 11349/43641 [00:04<00:12, 2677.39it/s]\u001b[A\n",
      " 27%|██▋       | 11773/43641 [00:04<00:10, 3008.10it/s]\u001b[A\n",
      " 28%|██▊       | 12097/43641 [00:04<00:10, 2965.64it/s]\u001b[A\n",
      " 29%|██▊       | 12494/43641 [00:04<00:09, 3208.84it/s]\u001b[A\n",
      " 30%|██▉       | 12976/43641 [00:04<00:08, 3565.49it/s]\u001b[A\n",
      " 31%|███       | 13357/43641 [00:04<00:08, 3454.07it/s]\u001b[A\n",
      " 32%|███▏      | 13828/43641 [00:04<00:07, 3753.93it/s]\u001b[A\n",
      " 33%|███▎      | 14224/43641 [00:05<00:10, 2708.85it/s]\u001b[A\n",
      " 34%|███▍      | 14736/43641 [00:05<00:09, 3154.04it/s]\u001b[A\n",
      " 35%|███▍      | 15264/43641 [00:05<00:07, 3586.96it/s]\u001b[A\n",
      " 36%|███▌      | 15690/43641 [00:05<00:07, 3668.14it/s]\u001b[A\n",
      " 37%|███▋      | 16105/43641 [00:05<00:07, 3458.35it/s]\u001b[A\n",
      " 38%|███▊      | 16525/43641 [00:05<00:07, 3650.84it/s]\u001b[A\n",
      " 39%|███▉      | 16918/43641 [00:05<00:07, 3721.09it/s]\u001b[A\n",
      " 40%|████      | 17477/43641 [00:05<00:06, 4132.98it/s]\u001b[A\n",
      " 41%|████      | 17993/43641 [00:06<00:05, 4387.72it/s]\u001b[A\n",
      " 43%|████▎     | 18594/43641 [00:06<00:05, 4773.97it/s]\u001b[A\n",
      " 44%|████▍     | 19099/43641 [00:06<00:05, 4770.55it/s]\u001b[A\n",
      " 45%|████▍     | 19595/43641 [00:06<00:05, 4041.24it/s]\u001b[A\n",
      " 46%|████▌     | 20100/43641 [00:06<00:05, 4298.80it/s]\u001b[A\n",
      " 48%|████▊     | 20815/43641 [00:06<00:04, 4881.18it/s]\u001b[A\n",
      "100%|██████████| 43641/43641 [05:12<00:00, 139.46it/s]] \n"
     ]
    }
   ],
   "source": [
    "min_shared = 5\n",
    "for u in tqdm(udict):\n",
    "    for v in shared_beers[u]:\n",
    "        if u < v and len(shared_beers[u][v]) >= min_shared:\n",
    "            pearsons[u][v] = pr(u, v)"
   ]
  },
  {
   "cell_type": "code",
   "execution_count": 26,
   "metadata": {
    "collapsed": true
   },
   "outputs": [],
   "source": [
    "# easier just to have this dict sitting by and ready to use\n",
    "userbiasdict = dict(train.groupby('user_id').udiff.mean())"
   ]
  },
  {
   "cell_type": "code",
   "execution_count": 27,
   "metadata": {
    "collapsed": true
   },
   "outputs": [],
   "source": [
    "# the global rating for each beer differs slightly from checkin to checkin,\n",
    "## due to accumulating stats over time.  Also I'm using each beer's listed\n",
    "## global rating mean, instead of the mean of all global ratings...\n",
    "beer_mu = dict(train.groupby('beer_id').rating_global.mean())"
   ]
  },
  {
   "cell_type": "code",
   "execution_count": 28,
   "metadata": {
    "collapsed": false
   },
   "outputs": [
    {
     "data": {
      "text/plain": [
       "Int64Index([     89,      89,      89,      89,      89,      89,      89,\n",
       "                 89,      89,      89,\n",
       "            ...\n",
       "            7245674, 7245674, 7245674, 7245674, 7245674, 7245674, 7245674,\n",
       "            7245674, 7245674, 7245674],\n",
       "           dtype='int64', name='user_id', length=72380)"
      ]
     },
     "execution_count": 28,
     "metadata": {},
     "output_type": "execute_result"
    }
   ],
   "source": [
    "test.index"
   ]
  },
  {
   "cell_type": "code",
   "execution_count": 29,
   "metadata": {
    "collapsed": true
   },
   "outputs": [],
   "source": [
    "test.reset_index(inplace=True)"
   ]
  },
  {
   "cell_type": "code",
   "execution_count": null,
   "metadata": {
    "collapsed": true
   },
   "outputs": [],
   "source": []
  },
  {
   "cell_type": "code",
   "execution_count": 25,
   "metadata": {
    "collapsed": true
   },
   "outputs": [],
   "source": [
    "def score_frame(df, beer_mu, ubias_dict, share_dict, udict, pearson_dict,\n",
    "                penalty, k_most_sim, eps, min_shared, min_abs_corr):\n",
    "    preds = []\n",
    "    basers = []\n",
    "    actual = []\n",
    "    lam_4 = penalty  # higher value for this shrinks the prediction's deviation towards the global mean,\n",
    "            ## especially for u-v combos with fewer common beers\n",
    "    k = k_most_sim\n",
    "    eps = eps  # avoids div by zero and also shrinks deviation from global mean for predictions\n",
    "    min_shared_beers = min_shared  # this only starts to help around 20+, otherwise it's just noise\n",
    "    min_abs_corr = min_abs_corr  # how similar or dissimilar does user v have to be to user u, in order to have a say\n",
    "\n",
    "    for row in tqdm(zip(df.user_id, df.beer_id, df.rating_user)):\n",
    "        try:\n",
    "            x = row[1] # beer\n",
    "            u = row[0] # user\n",
    "            # before adding any tweaks, what's the baseline?\n",
    "            baseline = beer_mu[x] + ubias_dict[u]  # this alone scores 0.4371 RMSE\n",
    "        \n",
    "            # only looking for users v who rated the beer x in question\n",
    "            uv = [v for v in bdict[x] if \n",
    "                  len(share_dict[u][v]) >= min_shared_beers] # threshold for common beers rated\n",
    "            \n",
    "            # first get u-v pearsons\n",
    "            sims = [pearson_dict[min(u,v)][max(u,v)] for v in uv]\n",
    "            # then shrink in inverse relation to number of common u-v ratings\n",
    "            sims = np.multiply(np.array(sims),\n",
    "                               np.array([len(share_dict[u][v]) / (len(share_dict[u][v]) + lam_4) \n",
    "                                           for v in uv]))\n",
    "            most_sim = sorted(list(zip(uv, sims)), reverse=True, key=lambda x: abs(x[1]))\n",
    "            # take the k most similar/opposite, or all for the many short lists\n",
    "            most_sim = most_sim[:min(k, len(most_sim))]\n",
    "            tweaks = [udict[sim[0]][x] * sim[1] for sim in most_sim if abs(sim[1]) > min_abs_corr]\n",
    "            tweak = sum(tweaks) / (len(tweaks) + eps)\n",
    "            preds.append(baseline + tweak)\n",
    "            basers.append(baseline)\n",
    "            actual.append(row[2])\n",
    "        except KeyError:\n",
    "            basers.append(baseline)\n",
    "            preds.append(baseline)\n",
    "            actual.append(row[2])\n",
    "            continue\n",
    "\n",
    "    diffs = np.array(preds) - np.array(actual)\n",
    "    rmse = np.sqrt(np.dot(diffs, diffs) / len(diffs))\n",
    "    # don't really need to return rmse, since preds and actual can calculate it, but....\n",
    "    return rmse, np.array(preds), np.array(basers), np.array(actual)"
   ]
  },
  {
   "cell_type": "code",
   "execution_count": 30,
   "metadata": {
    "collapsed": false
   },
   "outputs": [
    {
     "name": "stderr",
     "output_type": "stream",
     "text": [
      "72380it [02:17, 526.71it/s] \n",
      "72380it [00:39, 1826.46it/s]\n",
      "72380it [00:42, 1702.53it/s]\n",
      "72380it [00:40, 1787.36it/s]\n",
      "72380it [00:44, 1617.63it/s]\n",
      "72380it [00:39, 1839.12it/s]\n",
      "72380it [00:38, 1870.14it/s]\n",
      "72380it [00:45, 1583.80it/s]\n",
      "72380it [00:36, 1961.24it/s]\n",
      "72380it [00:37, 1955.56it/s]\n",
      "72380it [00:39, 1814.18it/s]\n"
     ]
    }
   ],
   "source": [
    "rmses = []\n",
    "p_rmses = []\n",
    "b_rmses = []\n",
    "# start with 5 minimum common rated beers as a threshold and move up to 35\n",
    "for n in range(5,36,3):\n",
    "    # set epsilon, penalty, and min_abs_correlation to 0.1, for when n is higher\n",
    "    rmse, preds, basers, actual = score_frame(test, beer_mu, userbiasdict, shared_beers,\n",
    "                                             udict, pearsons, penalty = 1, k_most_sim=10,\n",
    "                                              eps=1e-1, min_shared=n, min_abs_corr=2e-1)\n",
    "    rmses.append(rmse)\n",
    "    nonbase = preds != basers \n",
    "    diff_actuals = actual[nonbase]\n",
    "    diff_preds = preds[nonbase]\n",
    "    diff_basers = basers[nonbase]\n",
    "    pred_acts = diff_preds - diff_actuals\n",
    "    base_acts = diff_basers - diff_actuals\n",
    "    pred_rmse = np.sqrt(np.dot(pred_acts, pred_acts) / len(pred_acts))\n",
    "    p_rmses.append(pred_rmse)\n",
    "    base_rmse = np.sqrt(np.dot(base_acts, base_acts) / len(base_acts))\n",
    "    b_rmses.append(base_rmse)"
   ]
  },
  {
   "cell_type": "code",
   "execution_count": 31,
   "metadata": {
    "collapsed": false
   },
   "outputs": [
    {
     "data": {
      "image/png": "[encoded data removed]",
      "text/plain": [
       "<matplotlib.figure.Figure at 0x110284b70>"
      ]
     },
     "metadata": {},
     "output_type": "display_data"
    }
   ],
   "source": [
    "import matplotlib.pyplot as plt\n",
    "%matplotlib inline\n",
    "\n",
    "plt.plot(range(5,36,3), rmses, color='grey', label='all RMSE')\n",
    "plt.plot(range(5,36,3), p_rmses, '--', color='k', label='collab RMSE')\n",
    "plt.plot(range(5,36,3), b_rmses, color='k', label='base RMSE')\n",
    "plt.xlabel('min number of shared beers rated')\n",
    "plt.ylabel('RMSE')\n",
    "plt.title('Effect of Number of Common Items Rated on Errors')\n",
    "plt.legend()\n",
    "plt.savefig('pearson_effectiveness_as_min_shared_increases.png');\n"
   ]
  },
  {
   "cell_type": "code",
   "execution_count": 32,
   "metadata": {
    "collapsed": false
   },
   "outputs": [
    {
     "name": "stderr",
     "output_type": "stream",
     "text": [
      "72380it [00:45, 1594.42it/s]\n"
     ]
    }
   ],
   "source": [
    "r35, p35, b35, a35 = score_frame(test, beer_mu, userbiasdict, shared_beers,\n",
    "                                             udict, pearsons, penalty = 1, k_most_sim=10,\n",
    "                                              eps=1e-1, min_shared=35, min_abs_corr=1e-1)"
   ]
  },
  {
   "cell_type": "code",
   "execution_count": 33,
   "metadata": {
    "collapsed": false
   },
   "outputs": [
    {
     "data": {
      "text/plain": [
       "1326"
      ]
     },
     "execution_count": 33,
     "metadata": {},
     "output_type": "execute_result"
    }
   ],
   "source": [
    "nonbase = p35 != b35\n",
    "sum(nonbase)"
   ]
  },
  {
   "cell_type": "code",
   "execution_count": 34,
   "metadata": {
    "collapsed": false
   },
   "outputs": [
    {
     "data": {
      "text/plain": [
       "459"
      ]
     },
     "execution_count": 34,
     "metadata": {},
     "output_type": "execute_result"
    }
   ],
   "source": [
    "u35 = test[nonbase].user_id.unique()\n",
    "len(u35)"
   ]
  },
  {
   "cell_type": "code",
   "execution_count": 37,
   "metadata": {
    "collapsed": true
   },
   "outputs": [],
   "source": [
    "test['preds'] = p35\n",
    "test['basers'] = b35"
   ]
  },
  {
   "cell_type": "code",
   "execution_count": 38,
   "metadata": {
    "collapsed": false
   },
   "outputs": [
    {
     "data": {
      "text/plain": [
       "4590"
      ]
     },
     "execution_count": 38,
     "metadata": {},
     "output_type": "execute_result"
    }
   ],
   "source": [
    "test35 = test.set_index('user_id').loc[u35,:]\n",
    "len(test35)"
   ]
  },
  {
   "cell_type": "code",
   "execution_count": 40,
   "metadata": {
    "collapsed": false
   },
   "outputs": [
    {
     "name": "stdout",
     "output_type": "stream",
     "text": [
      "The average score picking the top 3 globally rated for 459 \"menus\":  0.796069630023786\n",
      "The average score picking the top 3 collab rated for 459 \"menus\":  0.8040337552409789\n"
     ]
    }
   ],
   "source": [
    "glob_scores = []\n",
    "tweak_scores = []\n",
    "for u in test35.index.unique():\n",
    "    uten = test35.loc[u, ['rating_user','rating_global','preds']]\n",
    "    glob_scores.append(untied_rank(uten.rating_user.values, \n",
    "                              uten.rating_user.values[np.argsort(uten.rating_global.values)[:-4:-1]]))\n",
    "    tweak_scores.append(untied_rank(uten.rating_user.values, \n",
    "                              uten.rating_user.values[np.argsort(uten.preds.values)[:-4:-1]]))\n",
    "print(f'The average score picking the top 3 globally rated for 459 \"menus\":  {np.mean(glob_scores)}')\n",
    "print(f'The average score picking the top 3 collab rated for 459 \"menus\":  {np.mean(tweak_scores)}')"
   ]
  },
  {
   "cell_type": "code",
   "execution_count": null,
   "metadata": {
    "collapsed": true
   },
   "outputs": [],
   "source": []
  }
 ],
 "metadata": {
  "kernelspec": {
   "display_name": "Python 3",
   "language": "python",
   "name": "python3"
  },
  "language_info": {
   "codemirror_mode": {
    "name": "ipython",
    "version": 3
   },
   "file_extension": ".py",
   "mimetype": "text/x-python",
   "name": "python",
   "nbconvert_exporter": "python",
   "pygments_lexer": "ipython3",
   "version": "3.6.9"
  }
 },
 "nbformat": 4,
 "nbformat_minor": 2
}
