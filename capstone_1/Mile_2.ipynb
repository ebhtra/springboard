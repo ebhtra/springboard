{
 "cells": [
  {
   "cell_type": "code",
   "execution_count": 2,
   "metadata": {
    "collapsed": false
   },
   "outputs": [
    {
     "name": "stdout",
     "output_type": "stream",
     "text": [
      "(1894852, 9)\n"
     ]
    }
   ],
   "source": [
    "import pandas as pd\n",
    "\n",
    "checkins = pd.read_csv('comboframe.csv', usecols=['beer_id', 'rating_user',\n",
    "                                                  'rating_global', 'user_id',\n",
    "                                                  'abv', 'brewery_name',\n",
    "                                                  'beer_style', 'beer_name',\n",
    "                                                  'checkin_id'])\n",
    "# only allow each user one rating for each beer\n",
    "checkins.drop_duplicates(subset=['beer_id', 'user_id'], inplace=True)\n",
    "print(checkins.shape)"
   ]
  },
  {
   "cell_type": "code",
   "execution_count": 3,
   "metadata": {
    "collapsed": false
   },
   "outputs": [
    {
     "data": {
      "text/plain": [
       "(1529580, 9)"
      ]
     },
     "execution_count": 3,
     "metadata": {},
     "output_type": "execute_result"
    }
   ],
   "source": [
    "# remove the users who only checked fewer than 4 times\n",
    "checkins = checkins[checkins.user_id.map(checkins.groupby('user_id').size() > 3)]\n",
    "checkins.shape"
   ]
  },
  {
   "cell_type": "code",
   "execution_count": 4,
   "metadata": {
    "collapsed": false
   },
   "outputs": [
    {
     "data": {
      "text/plain": [
       "(1257869, 9)"
      ]
     },
     "execution_count": 4,
     "metadata": {},
     "output_type": "execute_result"
    }
   ],
   "source": [
    "# remove the beers rated fewer than 4 times\n",
    "checkins = checkins[checkins.beer_id.map(checkins.groupby('beer_id').size() > 3)]\n",
    "checkins.shape"
   ]
  },
  {
   "cell_type": "code",
   "execution_count": 5,
   "metadata": {
    "collapsed": false
   },
   "outputs": [
    {
     "data": {
      "text/plain": [
       "(1193682, 9)"
      ]
     },
     "execution_count": 5,
     "metadata": {},
     "output_type": "execute_result"
    }
   ],
   "source": [
    "# remove the ones with no global ratings\n",
    "checkins.dropna(subset=['rating_global'], axis=0, inplace=True)\n",
    "# and the zeros\n",
    "checkins = checkins[checkins.rating_global > 0]\n",
    "checkins.shape"
   ]
  },
  {
   "cell_type": "code",
   "execution_count": 6,
   "metadata": {
    "collapsed": false
   },
   "outputs": [
    {
     "data": {
      "text/plain": [
       "(1184752, 9)"
      ]
     },
     "execution_count": 6,
     "metadata": {},
     "output_type": "execute_result"
    }
   ],
   "source": [
    "# remove beers that aren't really beer, based on the alcohol content\n",
    "checkins = checkins[(checkins.abv > 0) & (checkins.abv < 20)]\n",
    "checkins.shape"
   ]
  },
  {
   "cell_type": "code",
   "execution_count": 7,
   "metadata": {
    "collapsed": false
   },
   "outputs": [
    {
     "data": {
      "text/html": [
       "<div>\n",
       "<style scoped>\n",
       "    .dataframe tbody tr th:only-of-type {\n",
       "        vertical-align: middle;\n",
       "    }\n",
       "\n",
       "    .dataframe tbody tr th {\n",
       "        vertical-align: top;\n",
       "    }\n",
       "\n",
       "    .dataframe thead th {\n",
       "        text-align: right;\n",
       "    }\n",
       "</style>\n",
       "<table border=\"1\" class=\"dataframe\">\n",
       "  <thead>\n",
       "    <tr style=\"text-align: right;\">\n",
       "      <th></th>\n",
       "      <th>checkin_id</th>\n",
       "      <th>beer_id</th>\n",
       "      <th>user_id</th>\n",
       "      <th>rating_user</th>\n",
       "      <th>brewery_name</th>\n",
       "      <th>beer_name</th>\n",
       "      <th>beer_style</th>\n",
       "      <th>rating_global</th>\n",
       "      <th>abv</th>\n",
       "    </tr>\n",
       "  </thead>\n",
       "  <tbody>\n",
       "    <tr>\n",
       "      <th>0</th>\n",
       "      <td>821797539</td>\n",
       "      <td>2095023</td>\n",
       "      <td>3340203</td>\n",
       "      <td>3.75</td>\n",
       "      <td>Stone Brewing</td>\n",
       "      <td>Stone Scorpion Bowl IPA</td>\n",
       "      <td>IPA - American</td>\n",
       "      <td>3.73789</td>\n",
       "      <td>7.5</td>\n",
       "    </tr>\n",
       "    <tr>\n",
       "      <th>1</th>\n",
       "      <td>818949121</td>\n",
       "      <td>1709568</td>\n",
       "      <td>3340203</td>\n",
       "      <td>3.50</td>\n",
       "      <td>Ritual Brewing Company</td>\n",
       "      <td>Pale Ale</td>\n",
       "      <td>Pale Ale - American</td>\n",
       "      <td>3.43165</td>\n",
       "      <td>5.2</td>\n",
       "    </tr>\n",
       "  </tbody>\n",
       "</table>\n",
       "</div>"
      ],
      "text/plain": [
       "   checkin_id  beer_id  user_id  rating_user            brewery_name  \\\n",
       "0   821797539  2095023  3340203         3.75           Stone Brewing   \n",
       "1   818949121  1709568  3340203         3.50  Ritual Brewing Company   \n",
       "\n",
       "                 beer_name           beer_style  rating_global  abv  \n",
       "0  Stone Scorpion Bowl IPA       IPA - American        3.73789  7.5  \n",
       "1                 Pale Ale  Pale Ale - American        3.43165  5.2  "
      ]
     },
     "execution_count": 7,
     "metadata": {},
     "output_type": "execute_result"
    }
   ],
   "source": [
    "checkins.head(2)"
   ]
  },
  {
   "cell_type": "code",
   "execution_count": 8,
   "metadata": {
    "collapsed": true
   },
   "outputs": [],
   "source": [
    "# a mapping from user to number of ratings can be helpful in many situations\n",
    "usercounts = checkins.groupby('user_id').size()"
   ]
  },
  {
   "cell_type": "code",
   "execution_count": 9,
   "metadata": {
    "collapsed": true
   },
   "outputs": [],
   "source": [
    "def split_last_X(frame, countDict, X):\n",
    "    '''\n",
    "    Split the input frame into training and testing,\n",
    "    using the last X for each user as testers.\n",
    "    CountDict input has the rows per user,\n",
    "    and the frame is indexed by user.\n",
    "    Returns the train split and test split\n",
    "    '''\n",
    "    boollist = [[True] * (countDict[u] - X) + [False] * X for u in frame.index.unique()]\n",
    "    boollist = np.array([boo for lis in boollist for boo in lis])  # numpy to help with the logic\n",
    "    \n",
    "    return frame[boollist], frame[~boollist]"
   ]
  },
  {
   "cell_type": "code",
   "execution_count": 10,
   "metadata": {
    "collapsed": true
   },
   "outputs": [],
   "source": [
    "# make a func to deal with ties in rankings\n",
    "def untied_rank(arr, vals):\n",
    "    '''\n",
    "    Measure how well the input vals (list or np.array) has chosen\n",
    "    the top values of input arr (np.array). \n",
    "    vals must be subset of arr.\n",
    "    1.0 is perfect, 0.0 is worst.\n",
    "    '''\n",
    "    fails = 0\n",
    "    poss_fails = 0\n",
    "    ordered = np.sort(arr)\n",
    "    if max(ordered) == min(ordered): return 0.5  # like guessing\n",
    "    for i in range(len(vals)):\n",
    "        fails += sum(arr > vals[i])\n",
    "        arr = np.delete(arr, np.where(arr == vals[i])[0][0])\n",
    "        poss_fails += sum(ordered > ordered[i])\n",
    "    \n",
    "    return 1 - fails / poss_fails"
   ]
  },
  {
   "cell_type": "code",
   "execution_count": 82,
   "metadata": {
    "collapsed": false
   },
   "outputs": [
    {
     "ename": "IndexError",
     "evalue": "index 0 is out of bounds for axis 0 with size 0",
     "output_type": "error",
     "traceback": [
      "\u001b[0;31m---------------------------------------------------------------------------\u001b[0m",
      "\u001b[0;31mIndexError\u001b[0m                                Traceback (most recent call last)",
      "\u001b[0;32m<ipython-input-82-194244d81db3>\u001b[0m in \u001b[0;36m<module>\u001b[0;34m()\u001b[0m\n\u001b[0;32m----> 1\u001b[0;31m \u001b[0muntied_rank\u001b[0m\u001b[0;34m(\u001b[0m\u001b[0mnp\u001b[0m\u001b[0;34m.\u001b[0m\u001b[0marray\u001b[0m\u001b[0;34m(\u001b[0m\u001b[0;34m[\u001b[0m\u001b[0;36m2\u001b[0m\u001b[0;34m,\u001b[0m\u001b[0;36m3\u001b[0m\u001b[0;34m,\u001b[0m\u001b[0;36m2\u001b[0m\u001b[0;34m,\u001b[0m\u001b[0;36m2\u001b[0m\u001b[0;34m]\u001b[0m\u001b[0;34m)\u001b[0m\u001b[0;34m,\u001b[0m \u001b[0;34m[\u001b[0m\u001b[0;36m4\u001b[0m\u001b[0;34m,\u001b[0m\u001b[0;36m3\u001b[0m\u001b[0;34m]\u001b[0m\u001b[0;34m)\u001b[0m\u001b[0;34m\u001b[0m\u001b[0;34m\u001b[0m\u001b[0m\n\u001b[0m",
      "\u001b[0;32m<ipython-input-10-6c510289ef70>\u001b[0m in \u001b[0;36muntied_rank\u001b[0;34m(arr, vals)\u001b[0m\n\u001b[1;32m     13\u001b[0m     \u001b[0;32mfor\u001b[0m \u001b[0mi\u001b[0m \u001b[0;32min\u001b[0m \u001b[0mrange\u001b[0m\u001b[0;34m(\u001b[0m\u001b[0mlen\u001b[0m\u001b[0;34m(\u001b[0m\u001b[0mvals\u001b[0m\u001b[0;34m)\u001b[0m\u001b[0;34m)\u001b[0m\u001b[0;34m:\u001b[0m\u001b[0;34m\u001b[0m\u001b[0;34m\u001b[0m\u001b[0m\n\u001b[1;32m     14\u001b[0m         \u001b[0mfails\u001b[0m \u001b[0;34m+=\u001b[0m \u001b[0msum\u001b[0m\u001b[0;34m(\u001b[0m\u001b[0marr\u001b[0m \u001b[0;34m>\u001b[0m \u001b[0mvals\u001b[0m\u001b[0;34m[\u001b[0m\u001b[0mi\u001b[0m\u001b[0;34m]\u001b[0m\u001b[0;34m)\u001b[0m\u001b[0;34m\u001b[0m\u001b[0;34m\u001b[0m\u001b[0m\n\u001b[0;32m---> 15\u001b[0;31m         \u001b[0marr\u001b[0m \u001b[0;34m=\u001b[0m \u001b[0mnp\u001b[0m\u001b[0;34m.\u001b[0m\u001b[0mdelete\u001b[0m\u001b[0;34m(\u001b[0m\u001b[0marr\u001b[0m\u001b[0;34m,\u001b[0m \u001b[0mnp\u001b[0m\u001b[0;34m.\u001b[0m\u001b[0mwhere\u001b[0m\u001b[0;34m(\u001b[0m\u001b[0marr\u001b[0m \u001b[0;34m==\u001b[0m \u001b[0mvals\u001b[0m\u001b[0;34m[\u001b[0m\u001b[0mi\u001b[0m\u001b[0;34m]\u001b[0m\u001b[0;34m)\u001b[0m\u001b[0;34m[\u001b[0m\u001b[0;36m0\u001b[0m\u001b[0;34m]\u001b[0m\u001b[0;34m[\u001b[0m\u001b[0;36m0\u001b[0m\u001b[0;34m]\u001b[0m\u001b[0;34m)\u001b[0m\u001b[0;34m\u001b[0m\u001b[0;34m\u001b[0m\u001b[0m\n\u001b[0m\u001b[1;32m     16\u001b[0m         \u001b[0mposs_fails\u001b[0m \u001b[0;34m+=\u001b[0m \u001b[0msum\u001b[0m\u001b[0;34m(\u001b[0m\u001b[0mordered\u001b[0m \u001b[0;34m>\u001b[0m \u001b[0mordered\u001b[0m\u001b[0;34m[\u001b[0m\u001b[0mi\u001b[0m\u001b[0;34m]\u001b[0m\u001b[0;34m)\u001b[0m\u001b[0;34m\u001b[0m\u001b[0;34m\u001b[0m\u001b[0m\n\u001b[1;32m     17\u001b[0m \u001b[0;34m\u001b[0m\u001b[0m\n",
      "\u001b[0;31mIndexError\u001b[0m: index 0 is out of bounds for axis 0 with size 0"
     ]
    }
   ],
   "source": [
    "untied_rank(np.array([2,3,2,2]), [4,3])"
   ]
  },
  {
   "cell_type": "code",
   "execution_count": 1,
   "metadata": {
    "collapsed": true
   },
   "outputs": [],
   "source": [
    "import numpy as np"
   ]
  },
  {
   "cell_type": "code",
   "execution_count": 11,
   "metadata": {
    "collapsed": false
   },
   "outputs": [
    {
     "name": "stdout",
     "output_type": "stream",
     "text": [
      "1112372 training rows, 72380 testing rows\n"
     ]
    }
   ],
   "source": [
    "# with sorted checkins for each user, we can simulate having a user's rating history when recommending\n",
    "checkins.sort_values(by=['user_id', 'checkin_id'], inplace=True)\n",
    "checkins.set_index('user_id', inplace=True)\n",
    "# gather the users who have more than 50 ratings and save their last 10 for testing\n",
    "bigs = checkins.index.map(usercounts) > 49\n",
    "smalls = checkins[~bigs]\n",
    "tr, test = split_last_X(checkins[bigs], usercounts, 10)\n",
    "train = pd.concat([smalls, tr])\n",
    "print(f'{train.shape[0]} training rows, {test.shape[0]} testing rows')"
   ]
  },
  {
   "cell_type": "code",
   "execution_count": 12,
   "metadata": {
    "collapsed": true
   },
   "outputs": [],
   "source": [
    "# need the space\n",
    "checkins = None"
   ]
  },
  {
   "cell_type": "markdown",
   "metadata": {},
   "source": [
    "Get the baseline score of recommending top-rated beers, regardless of user."
   ]
  },
  {
   "cell_type": "code",
   "execution_count": 17,
   "metadata": {
    "collapsed": false
   },
   "outputs": [
    {
     "name": "stdout",
     "output_type": "stream",
     "text": [
      "The average score picking the top 3 globally rated for 7238 \"menus\":  0.7752973184428179\n"
     ]
    }
   ],
   "source": [
    "# baseline (top picks) results/target\n",
    "top_rank_scores = []\n",
    "for u in test.index.unique():\n",
    "    utest = test.loc[u, ['rating_user','rating_global']]\n",
    "    top_rank_scores.append(untied_rank(utest.rating_user.values, \n",
    "                              utest.rating_user.values[np.argsort(utest.rating_global.values)[:-4:-1]]))\n",
    "print(f'The average score picking the top 3 globally rated for {len(top_rank_scores)} \"menus\":  {np.mean(top_rank_scores)}')"
   ]
  },
  {
   "cell_type": "markdown",
   "metadata": {},
   "source": [
    "Now see where collaborative filtering can get us."
   ]
  },
  {
   "cell_type": "code",
   "execution_count": 13,
   "metadata": {
    "collapsed": true
   },
   "outputs": [],
   "source": [
    "from tqdm import tqdm"
   ]
  },
  {
   "cell_type": "code",
   "execution_count": 14,
   "metadata": {
    "collapsed": true
   },
   "outputs": [],
   "source": [
    "from collections import defaultdict"
   ]
  },
  {
   "cell_type": "code",
   "execution_count": 15,
   "metadata": {
    "collapsed": true
   },
   "outputs": [],
   "source": [
    "# show how each user's ratings deviate from global ratings and from their own ratings\n",
    "train['udiff'] = train.rating_user - train.rating_global\n",
    "train['udev'] = train.udiff - train.index.map(train.groupby(train.index)['udiff'].mean())"
   ]
  },
  {
   "cell_type": "code",
   "execution_count": 16,
   "metadata": {
    "collapsed": true
   },
   "outputs": [],
   "source": [
    "train.reset_index(inplace=True)\n",
    "udict = {uid:dict() for uid in train.user_id.unique()}\n",
    "bdict = {bid:dict() for bid in train.beer_id.unique()}\n",
    "for checkin in zip(train.user_id, train.beer_id, train.udev):\n",
    "    udict[checkin[0]][checkin[1]] = checkin[2]\n",
    "    bdict[checkin[1]][checkin[0]] = checkin[2]"
   ]
  },
  {
   "cell_type": "code",
   "execution_count": 34,
   "metadata": {
    "collapsed": false
   },
   "outputs": [
    {
     "name": "stderr",
     "output_type": "stream",
     "text": [
      "100%|██████████| 43641/43641 [14:08<00:00, 16.06it/s]   \n"
     ]
    }
   ],
   "source": [
    "# in order to pickle the default dict, use this instead of a lambda:\n",
    "def dd():\n",
    "    return defaultdict(float)\n",
    "\n",
    "# calculate user/user correlation/similarity \n",
    "shared = {u: defaultdict(dd) for u in udict}\n",
    "# this may take a minute or maybe an hour, depending on memory, with the nested loops, but seems messy otherwise\n",
    "for u in tqdm(udict):\n",
    "    # loop thru all checkins by u\n",
    "    for b in udict[u]:\n",
    "        # update the similarity factors for u-v for every checkin, as would happen with new checkins\n",
    "        for v in bdict[b]:\n",
    "            suv = shared[u][v]\n",
    "            suv['count'] += 1  # increment the common u-v ratings\n",
    "            #### stats.stackexchange has these going last, but then each new sample\n",
    "            ##### updates to a diff from mean that it contributes to, which seems wrong\n",
    "            ###### (and messes up the first one, where u_bar == u[b])  ####\n",
    "            u_dev = udict[u][b] - suv['u_bar']\n",
    "            v_dev = udict[v][b] - suv['v_bar']\n",
    "            suv['numer'] += u_dev * v_dev\n",
    "            suv['denom_1'] += u_dev ** 2\n",
    "            suv['denom_2'] += v_dev ** 2\n",
    "            #####\n",
    "            suv['u_bar'] = ((suv['count']-1) * suv['u_bar'] + udict[u][b]) / suv['count']\n",
    "            suv['v_bar'] = ((suv['count']-1) * suv['v_bar'] + udict[v][b]) / suv['count']\n",
    "    # too much data for this notebook's memory to hold, so let's start by \n",
    "    ## filtering out user/user pairs with < 5 common beers (this shouldn't be done here, but space is needed)\n",
    "    for v in shared[u]:\n",
    "        if shared[u][v]['count'] < 5:\n",
    "            shared[u][v] = []\n",
    "    # remove self-edges\n",
    "    del shared[u][u]"
   ]
  },
  {
   "cell_type": "code",
   "execution_count": 38,
   "metadata": {
    "collapsed": false
   },
   "outputs": [
    {
     "name": "stdout",
     "output_type": "stream",
     "text": [
      "766\n",
      "5459\n"
     ]
    }
   ],
   "source": [
    "print(len([v for v in shared[89] if shared[89][v] and shared[89][v]['count'] > 4]))\n",
    "print(len(shared[2680]))"
   ]
  },
  {
   "cell_type": "code",
   "execution_count": 37,
   "metadata": {
    "collapsed": false
   },
   "outputs": [
    {
     "ename": "KeyboardInterrupt",
     "evalue": "",
     "output_type": "error",
     "traceback": [
      "\u001b[0;31m---------------------------------------------------------------------------\u001b[0m",
      "\u001b[0;31mKeyboardInterrupt\u001b[0m                         Traceback (most recent call last)",
      "\u001b[0;32m<ipython-input-37-e4a99a864de7>\u001b[0m in \u001b[0;36m<module>\u001b[0;34m()\u001b[0m\n\u001b[1;32m      2\u001b[0m \u001b[0;31m# get this thing saved, since the memory required to build it is not always available\u001b[0m\u001b[0;34m\u001b[0m\u001b[0;34m\u001b[0m\u001b[0;34m\u001b[0m\u001b[0m\n\u001b[1;32m      3\u001b[0m \u001b[0;32mwith\u001b[0m \u001b[0mopen\u001b[0m\u001b[0;34m(\u001b[0m\u001b[0;34m'suvdict.pkl'\u001b[0m\u001b[0;34m,\u001b[0m \u001b[0;34m'wb'\u001b[0m\u001b[0;34m)\u001b[0m \u001b[0;32mas\u001b[0m \u001b[0mf\u001b[0m\u001b[0;34m:\u001b[0m\u001b[0;34m\u001b[0m\u001b[0;34m\u001b[0m\u001b[0m\n\u001b[0;32m----> 4\u001b[0;31m     \u001b[0mpickle\u001b[0m\u001b[0;34m.\u001b[0m\u001b[0mdump\u001b[0m\u001b[0;34m(\u001b[0m\u001b[0mshared\u001b[0m\u001b[0;34m,\u001b[0m \u001b[0mf\u001b[0m\u001b[0;34m)\u001b[0m\u001b[0;34m\u001b[0m\u001b[0;34m\u001b[0m\u001b[0m\n\u001b[0m",
      "\u001b[0;31mKeyboardInterrupt\u001b[0m: "
     ]
    }
   ],
   "source": [
    "import pickle\n",
    "# get this thing saved, since the memory required to build it is not always available\n",
    "with open('suvdict.pkl', 'wb') as f:\n",
    "    pickle.dump(shared, f)"
   ]
  },
  {
   "cell_type": "code",
   "execution_count": 39,
   "metadata": {
    "collapsed": true
   },
   "outputs": [],
   "source": [
    "# easier just to have this dict sitting by and ready to use\n",
    "userbiasdict = dict(train.groupby('user_id').udiff.mean())"
   ]
  },
  {
   "cell_type": "code",
   "execution_count": 40,
   "metadata": {
    "collapsed": true
   },
   "outputs": [],
   "source": [
    "# the global rating for each beer differs slightly from checkin to checkin,\n",
    "## due to accumulating stats over time.  Also I'm using each beer's listed\n",
    "## global rating mean, instead of the mean of all global ratings...\n",
    "beer_mu = dict(train.groupby('beer_id').rating_global.mean())"
   ]
  },
  {
   "cell_type": "code",
   "execution_count": 41,
   "metadata": {
    "collapsed": false
   },
   "outputs": [
    {
     "data": {
      "text/plain": [
       "Int64Index([     89,      89,      89,      89,      89,      89,      89,\n",
       "                 89,      89,      89,\n",
       "            ...\n",
       "            7245674, 7245674, 7245674, 7245674, 7245674, 7245674, 7245674,\n",
       "            7245674, 7245674, 7245674],\n",
       "           dtype='int64', name='user_id', length=72380)"
      ]
     },
     "execution_count": 41,
     "metadata": {},
     "output_type": "execute_result"
    }
   ],
   "source": [
    "test.index"
   ]
  },
  {
   "cell_type": "code",
   "execution_count": 42,
   "metadata": {
    "collapsed": false
   },
   "outputs": [],
   "source": [
    "test.reset_index(inplace=True)"
   ]
  },
  {
   "cell_type": "code",
   "execution_count": 361,
   "metadata": {
    "collapsed": false
   },
   "outputs": [
    {
     "name": "stderr",
     "output_type": "stream",
     "text": [
      "72380it [01:01, 1180.35it/s]\n"
     ]
    },
    {
     "data": {
      "text/plain": [
       "0.43542932256195488"
      ]
     },
     "execution_count": 361,
     "metadata": {},
     "output_type": "execute_result"
    }
   ],
   "source": [
    "\n",
    "preds = []\n",
    "basers = []\n",
    "actual = []\n",
    "lam_4 = 1e-4  # higher value for this shrinks the prediction's deviation towards the global mean,\n",
    "            ## especially for u-v combos with fewer common beers\n",
    "k = 10\n",
    "eps = 1e-4  # avoids div by zero and also shrinks deviation from global mean for predictions\n",
    "min_shared_beers = 30  # this only starts to help around 20+, otherwise it's just noise\n",
    "min_abs_corr = 0.2  # how similar or dissimilar does user v have to be to user u, in order to have a say\n",
    "\n",
    "for row in tqdm(zip(test.user_id, test.beer_id, test.rating_user)):\n",
    "    try:\n",
    "        x = row[1]\n",
    "        u = row[0]\n",
    "        # before adding any tweaks, what's the baseline?\n",
    "        baseline = beer_mu[x] + userbiasdict[u]  # this alone scores 0.4371 RMSE\n",
    "        \n",
    "        # only looking for users v who rated the beer x in question\n",
    "        uv = [v for v in bdict[x] if v in shared[u] and len(shared[u][v]) and\n",
    "              shared[u][v]['count'] >= min_shared_beers] # threshold for common beers rated\n",
    "        suv = [shared[u][v] for v in uv]\n",
    "        if not suv:\n",
    "            basers.append(baseline)\n",
    "            preds.append(baseline)\n",
    "            actual.append(row[2])\n",
    "            continue\n",
    "        \n",
    "        # first get u-v pearsons\n",
    "        ## https://stats.stackexchange.com/questions/410468/online-update-of-pearson-coefficient\n",
    "        sims = [s['numer'] / np.sqrt(s['denom_1'] * s['denom_2'])\n",
    "                    for s in suv if len(s) ]  # need to filter out empty list s's\n",
    "        # then shrink in inverse relation to number of common u-v ratings\n",
    "        sims = np.multiply(np.array(sims),\n",
    "                           np.array([s['count'] / (s['count'] + lam_4) \n",
    "                                     for s in suv if len(s)]))\n",
    "        most_sim = sorted(list(zip(uv, sims)), reverse=True, key=lambda x: abs(x[1]))\n",
    "        # take the k most similar/opposite, or all for the many short lists\n",
    "        most_sim = most_sim[:min(k, len(most_sim))]\n",
    "        tweaks = [udict[sim[0]][x] * sim[1] for sim in most_sim if abs(sim[1]) > min_abs_corr]\n",
    "        tweak = sum(tweaks) / (len(tweaks) + eps)\n",
    "        preds.append(baseline + tweak)\n",
    "        basers.append(baseline)\n",
    "        actual.append(row[2])\n",
    "    except KeyError:\n",
    "        basers.append(baseline)\n",
    "        preds.append(baseline)\n",
    "        actual.append(row[2])\n",
    "        continue\n",
    "\n",
    "diffs = np.array(preds) - np.array(actual)\n",
    "rmse = np.sqrt(np.dot(diffs, diffs) / len(diffs))\n",
    "rmse"
   ]
  },
  {
   "cell_type": "code",
   "execution_count": null,
   "metadata": {
    "collapsed": true
   },
   "outputs": [],
   "source": []
  },
  {
   "cell_type": "code",
   "execution_count": null,
   "metadata": {
    "collapsed": true
   },
   "outputs": [],
   "source": []
  },
  {
   "cell_type": "code",
   "execution_count": 362,
   "metadata": {
    "collapsed": false
   },
   "outputs": [
    {
     "data": {
      "text/plain": [
       "1446"
      ]
     },
     "execution_count": 362,
     "metadata": {},
     "output_type": "execute_result"
    }
   ],
   "source": [
    "dees = np.array(preds) - np.array(basers)\n",
    "nonbase = dees != 0\n",
    "sum(nonbase)"
   ]
  },
  {
   "cell_type": "code",
   "execution_count": 363,
   "metadata": {
    "collapsed": false
   },
   "outputs": [
    {
     "data": {
      "text/plain": [
       "True"
      ]
     },
     "execution_count": 363,
     "metadata": {},
     "output_type": "execute_result"
    }
   ],
   "source": [
    "diff_actuals = np.array(actual)[nonbase]\n",
    "diff_preds = np.array(preds)[nonbase]\n",
    "diff_basers = np.array(basers)[nonbase]\n",
    "len(diff_actuals) == len(diff_preds) == len(diff_basers)"
   ]
  },
  {
   "cell_type": "code",
   "execution_count": 364,
   "metadata": {
    "collapsed": false
   },
   "outputs": [
    {
     "name": "stdout",
     "output_type": "stream",
     "text": [
      "0.366800113605\n",
      "0.386856045364\n"
     ]
    }
   ],
   "source": [
    "pred_acts = diff_preds - diff_actuals\n",
    "base_acts = diff_basers - diff_actuals\n",
    "pred_rmse = np.sqrt(np.dot(pred_acts, pred_acts) / len(pred_acts))\n",
    "print(pred_rmse)\n",
    "base_rmse = np.sqrt(np.dot(base_acts, base_acts) / len(base_acts))\n",
    "print(base_rmse)"
   ]
  },
  {
   "cell_type": "code",
   "execution_count": null,
   "metadata": {
    "collapsed": true
   },
   "outputs": [],
   "source": []
  },
  {
   "cell_type": "code",
   "execution_count": null,
   "metadata": {
    "collapsed": true
   },
   "outputs": [],
   "source": []
  },
  {
   "cell_type": "code",
   "execution_count": null,
   "metadata": {
    "collapsed": true
   },
   "outputs": [],
   "source": []
  },
  {
   "cell_type": "code",
   "execution_count": 334,
   "metadata": {
    "collapsed": false
   },
   "outputs": [],
   "source": [
    "tweak_df = test[nonbase]"
   ]
  },
  {
   "cell_type": "code",
   "execution_count": 335,
   "metadata": {
    "collapsed": false
   },
   "outputs": [
    {
     "data": {
      "text/plain": [
       "836"
      ]
     },
     "execution_count": 335,
     "metadata": {},
     "output_type": "execute_result"
    }
   ],
   "source": [
    "tweak_df.user_id.nunique()"
   ]
  },
  {
   "cell_type": "code",
   "execution_count": 336,
   "metadata": {
    "collapsed": false
   },
   "outputs": [
    {
     "data": {
      "text/plain": [
       "2310"
      ]
     },
     "execution_count": 336,
     "metadata": {},
     "output_type": "execute_result"
    }
   ],
   "source": [
    "len(tweak_df)"
   ]
  },
  {
   "cell_type": "code",
   "execution_count": 365,
   "metadata": {
    "collapsed": false
   },
   "outputs": [
    {
     "name": "stdout",
     "output_type": "stream",
     "text": [
      "The average score picking the top 3 globally rated for 7238 \"menus\":  0.7755099418471806\n",
      "And the average score using global means: 0.7752973184428179\n"
     ]
    }
   ],
   "source": [
    "scores = []\n",
    "bases = []\n",
    "for i in range(test.user_id.nunique()):\n",
    "    udf = test.iloc[10*i: 10*(i+1), :]\n",
    "    scores.append(untied_rank(udf.rating_user.values, \n",
    "                              udf.rating_user.values[np.argsort(preds[10*i: 10*(i+1)])[:-4:-1]]))\n",
    "    bases.append(untied_rank(udf.rating_user.values, \n",
    "                              udf.rating_user.values[np.argsort(udf.rating_global.values)[:-4:-1]]))\n",
    "\n",
    "print(f'The average score picking the top 3 predicted for {len(scores)} \"menus\":  {np.mean(scores)}')\n",
    "print(f'And the average score using global means: {np.mean(bases)}')"
   ]
  },
  {
   "cell_type": "code",
   "execution_count": 366,
   "metadata": {
    "collapsed": false
   },
   "outputs": [
    {
     "name": "stdout",
     "output_type": "stream",
     "text": [
      "The average score for the baseline prediction when the tweaked version was different:         0.7563623131747779\n",
      "And the average score for the tweaked scores: 0.7502064403716712\n"
     ]
    }
   ],
   "source": [
    "new_scores = np.array(scores) != np.array(bases)\n",
    "print(f'The average score for the baseline prediction when the tweaked version was different: \\\n",
    "        {np.mean(np.array(bases)[new_scores])}')\n",
    "print(f'And the average score for the tweaked scores: {np.mean(np.array(scores)[new_scores])}')\n"
   ]
  },
  {
   "cell_type": "code",
   "execution_count": 367,
   "metadata": {
    "collapsed": false
   },
   "outputs": [
    {
     "name": "stdout",
     "output_type": "stream",
     "text": [
      "no tweak: 6988\n",
      "tweak helped: 135\n",
      "tweak hurt: 115\n"
     ]
    }
   ],
   "source": [
    "print(f'no tweak: {sum(np.array(scores) == np.array(bases))}')\n",
    "print(f'tweak helped: {sum(np.array(scores) > np.array(bases))}')\n",
    "print(f'tweak hurt: {sum(np.array(scores) < np.array(bases))}')"
   ]
  },
  {
   "cell_type": "markdown",
   "metadata": {},
   "source": [
    "Basically, the signal coming from correlated users is just noise.  \n",
    "Taking users with 25+ commonly rated beers does show a small improvement."
   ]
  },
  {
   "cell_type": "code",
   "execution_count": null,
   "metadata": {
    "collapsed": true
   },
   "outputs": [],
   "source": []
  },
  {
   "cell_type": "code",
   "execution_count": null,
   "metadata": {
    "collapsed": true
   },
   "outputs": [],
   "source": []
  },
  {
   "cell_type": "code",
   "execution_count": 371,
   "metadata": {
    "collapsed": true
   },
   "outputs": [],
   "source": [
    "def score_frame(df, beer_mu, ubias_dict, share_dict, udict, \n",
    "                penalty, k_most_sim, eps, min_shared, min_abs_corr):\n",
    "    preds = []\n",
    "    basers = []\n",
    "    actual = []\n",
    "    lam_4 = penalty  # higher value for this shrinks the prediction's deviation towards the global mean,\n",
    "            ## especially for u-v combos with fewer common beers\n",
    "    k = k_most_sim\n",
    "    eps = eps  # avoids div by zero and also shrinks deviation from global mean for predictions\n",
    "    min_shared_beers = min_shared  # this only starts to help around 20+, otherwise it's just noise\n",
    "    min_abs_corr = min_abs_corr  # how similar or dissimilar does user v have to be to user u, in order to have a say\n",
    "\n",
    "    for row in tqdm(zip(df.user_id, df.beer_id, df.rating_user)):\n",
    "        try:\n",
    "            x = row[1] # beer\n",
    "            u = row[0] # user\n",
    "            # before adding any tweaks, what's the baseline?\n",
    "            baseline = beer_mu[x] + ubias_dict[u]  # this alone scores 0.4371 RMSE\n",
    "        \n",
    "            # only looking for users v who rated the beer x in question\n",
    "            uv = [v for v in bdict[x] if v in share_dict[u] and len(share_dict[u][v]) and\n",
    "              share_dict[u][v]['count'] >= min_shared_beers] # threshold for common beers rated\n",
    "            suv = [share_dict[u][v] for v in uv]\n",
    "            if not suv:\n",
    "                basers.append(baseline)\n",
    "                preds.append(baseline)\n",
    "                actual.append(row[2])\n",
    "                continue\n",
    "        \n",
    "            # first get u-v pearsons\n",
    "            ## https://stats.stackexchange.com/questions/410468/online-update-of-pearson-coefficient\n",
    "            sims = [s['numer'] / np.sqrt(s['denom_1'] * s['denom_2'])\n",
    "                    for s in suv if len(s) ]  # need to filter out empty list s's\n",
    "            # then shrink in inverse relation to number of common u-v ratings\n",
    "            sims = np.multiply(np.array(sims),\n",
    "                               np.array([s['count'] / (s['count'] + lam_4) \n",
    "                               for s in suv if len(s)]))\n",
    "            most_sim = sorted(list(zip(uv, sims)), reverse=True, key=lambda x: abs(x[1]))\n",
    "            # take the k most similar/opposite, or all for the many short lists\n",
    "            most_sim = most_sim[:min(k, len(most_sim))]\n",
    "            tweaks = [udict[sim[0]][x] * sim[1] for sim in most_sim if abs(sim[1]) > min_abs_corr]\n",
    "            tweak = sum(tweaks) / (len(tweaks) + eps)\n",
    "            preds.append(baseline + tweak)\n",
    "            basers.append(baseline)\n",
    "            actual.append(row[2])\n",
    "        except KeyError:\n",
    "            basers.append(baseline)\n",
    "            preds.append(baseline)\n",
    "            actual.append(row[2])\n",
    "            continue\n",
    "\n",
    "    diffs = np.array(preds) - np.array(actual)\n",
    "    rmse = np.sqrt(np.dot(diffs, diffs) / len(diffs))\n",
    "    # don't really need to return rmse, since preds and actual can calculate it, but....\n",
    "    return rmse, np.array(preds), np.array(basers), np.array(actual)"
   ]
  },
  {
   "cell_type": "code",
   "execution_count": 377,
   "metadata": {
    "collapsed": false
   },
   "outputs": [
    {
     "name": "stderr",
     "output_type": "stream",
     "text": [
      "72380it [01:19, 910.65it/s] \n",
      "72380it [00:53, 1365.27it/s]\n",
      "72380it [00:31, 2274.53it/s]\n",
      "72380it [00:27, 2655.20it/s]\n",
      "72380it [00:27, 2663.55it/s]\n",
      "72380it [00:32, 2247.12it/s]\n",
      "72380it [00:28, 2560.51it/s]\n",
      "72380it [00:24, 2949.21it/s]\n",
      "72380it [00:24, 2961.31it/s]\n",
      "72380it [00:23, 3064.07it/s]\n",
      "72380it [00:29, 2436.86it/s]\n"
     ]
    }
   ],
   "source": [
    "rmses = []\n",
    "p_rmses = []\n",
    "b_rmses = []\n",
    "# start with 5 minimum common rated beers as a threshold and move up to 35\n",
    "for n in range(5,36,3):\n",
    "    # set epsilon, penalty, and min_abs_correlation to 0.1, for when n is higher\n",
    "    rmse, preds, basers, actual = score_frame(test, beer_mu, userbiasdict, shared,\n",
    "                                             udict, 1e-1, 10, 1e-1, n, 1e-1)\n",
    "    rmses.append(rmse)\n",
    "    nonbase = preds != basers \n",
    "    diff_actuals = actual[nonbase]\n",
    "    diff_preds = preds[nonbase]\n",
    "    diff_basers = basers[nonbase]\n",
    "    pred_acts = diff_preds - diff_actuals\n",
    "    base_acts = diff_basers - diff_actuals\n",
    "    pred_rmse = np.sqrt(np.dot(pred_acts, pred_acts) / len(pred_acts))\n",
    "    p_rmses.append(pred_rmse)\n",
    "    base_rmse = np.sqrt(np.dot(base_acts, base_acts) / len(base_acts))\n",
    "    b_rmses.append(base_rmse)"
   ]
  },
  {
   "cell_type": "code",
   "execution_count": 378,
   "metadata": {
    "collapsed": false
   },
   "outputs": [
    {
     "data": {
      "image/png": "[encoded data removed]",
      "text/plain": [
       "<matplotlib.figure.Figure at 0x11dd75080>"
      ]
     },
     "metadata": {},
     "output_type": "display_data"
    }
   ],
   "source": [
    "import matplotlib.pyplot as plt\n",
    "%matplotlib inline\n",
    "\n",
    "plt.plot(range(5,36,3), rmses, color='lightgreen', label='all RMSE')\n",
    "plt.plot(range(5,36,3), p_rmses, color='darkgreen', label='collab RMSE')\n",
    "plt.plot(range(5,36,3), b_rmses, '--', color='darkgreen', label='base RMSE')\n",
    "plt.xlabel('min number of shared beers rated')\n",
    "plt.ylabel('RootMeanSquaredError')\n",
    "plt.title('Effect of Number of Common Items Rated on Errors')\n",
    "plt.legend();\n"
   ]
  },
  {
   "cell_type": "markdown",
   "metadata": {},
   "source": [
    "Let's look at 35 minimum shared ratings to see how the collaborative filtering tweak helped"
   ]
  },
  {
   "cell_type": "code",
   "execution_count": 379,
   "metadata": {
    "collapsed": false
   },
   "outputs": [
    {
     "name": "stderr",
     "output_type": "stream",
     "text": [
      "72380it [01:09, 1037.43it/s]\n"
     ]
    }
   ],
   "source": [
    "r35, p35, b35, a35 = score_frame(test, beer_mu, userbiasdict, shared,\n",
    "                                             udict, 1e-1, 10, 1e-1, 35, 1e-1)"
   ]
  },
  {
   "cell_type": "code",
   "execution_count": 380,
   "metadata": {
    "collapsed": false
   },
   "outputs": [
    {
     "data": {
      "text/plain": [
       "1321"
      ]
     },
     "execution_count": 380,
     "metadata": {},
     "output_type": "execute_result"
    }
   ],
   "source": [
    "nonbase = p35 != b35\n",
    "sum(nonbase)"
   ]
  },
  {
   "cell_type": "code",
   "execution_count": null,
   "metadata": {
    "collapsed": true
   },
   "outputs": [],
   "source": []
  },
  {
   "cell_type": "code",
   "execution_count": null,
   "metadata": {
    "collapsed": true
   },
   "outputs": [],
   "source": []
  },
  {
   "cell_type": "raw",
   "metadata": {},
   "source": []
  },
  {
   "cell_type": "markdown",
   "metadata": {},
   "source": [
    "So only in 1321 out of 72380 ratings was the 35-minimum threshold met, and collaborative filtering came into play."
   ]
  },
  {
   "cell_type": "code",
   "execution_count": 381,
   "metadata": {
    "collapsed": false
   },
   "outputs": [
    {
     "data": {
      "text/plain": [
       "455"
      ]
     },
     "execution_count": 381,
     "metadata": {},
     "output_type": "execute_result"
    }
   ],
   "source": [
    "u35 = test[nonbase].user_id.unique()\n",
    "len(u35)"
   ]
  },
  {
   "cell_type": "markdown",
   "metadata": {},
   "source": [
    "455 users for those 1321 tweaked ratings, so maybe the order of recommendations changes from the baseline for some of them?"
   ]
  },
  {
   "cell_type": "code",
   "execution_count": 354,
   "metadata": {
    "collapsed": false
   },
   "outputs": [],
   "source": [
    "test['preds'] = p35\n",
    "test['basers'] = b35"
   ]
  },
  {
   "cell_type": "code",
   "execution_count": 382,
   "metadata": {
    "collapsed": false
   },
   "outputs": [
    {
     "data": {
      "text/plain": [
       "4550"
      ]
     },
     "execution_count": 382,
     "metadata": {},
     "output_type": "execute_result"
    }
   ],
   "source": [
    "test35 = test.set_index('user_id').loc[u35,:]\n",
    "len(test35)"
   ]
  },
  {
   "cell_type": "code",
   "execution_count": 383,
   "metadata": {
    "collapsed": false
   },
   "outputs": [
    {
     "data": {
      "text/html": [
       "<div>\n",
       "<style scoped>\n",
       "    .dataframe tbody tr th:only-of-type {\n",
       "        vertical-align: middle;\n",
       "    }\n",
       "\n",
       "    .dataframe tbody tr th {\n",
       "        vertical-align: top;\n",
       "    }\n",
       "\n",
       "    .dataframe thead th {\n",
       "        text-align: right;\n",
       "    }\n",
       "</style>\n",
       "<table border=\"1\" class=\"dataframe\">\n",
       "  <thead>\n",
       "    <tr style=\"text-align: right;\">\n",
       "      <th></th>\n",
       "      <th>checkin_id</th>\n",
       "      <th>beer_id</th>\n",
       "      <th>rating_user</th>\n",
       "      <th>brewery_name</th>\n",
       "      <th>beer_name</th>\n",
       "      <th>beer_style</th>\n",
       "      <th>rating_global</th>\n",
       "      <th>abv</th>\n",
       "      <th>preds</th>\n",
       "      <th>basers</th>\n",
       "    </tr>\n",
       "    <tr>\n",
       "      <th>user_id</th>\n",
       "      <th></th>\n",
       "      <th></th>\n",
       "      <th></th>\n",
       "      <th></th>\n",
       "      <th></th>\n",
       "      <th></th>\n",
       "      <th></th>\n",
       "      <th></th>\n",
       "      <th></th>\n",
       "      <th></th>\n",
       "    </tr>\n",
       "  </thead>\n",
       "  <tbody>\n",
       "    <tr>\n",
       "      <th>8279</th>\n",
       "      <td>822879983</td>\n",
       "      <td>2480487</td>\n",
       "      <td>4.00</td>\n",
       "      <td>Great Divide Brewing Company</td>\n",
       "      <td>Mexican Chocolate Yeti</td>\n",
       "      <td>Stout - American Imperial / Double</td>\n",
       "      <td>4.17568</td>\n",
       "      <td>9.5</td>\n",
       "      <td>3.902036</td>\n",
       "      <td>4.055862</td>\n",
       "    </tr>\n",
       "    <tr>\n",
       "      <th>8279</th>\n",
       "      <td>822886926</td>\n",
       "      <td>2368153</td>\n",
       "      <td>3.75</td>\n",
       "      <td>Ass Clown Brewing Company</td>\n",
       "      <td>Partly Cloudy with a Chance of Fun</td>\n",
       "      <td>IPA - New England</td>\n",
       "      <td>3.91192</td>\n",
       "      <td>6.7</td>\n",
       "      <td>3.792102</td>\n",
       "      <td>3.792102</td>\n",
       "    </tr>\n",
       "    <tr>\n",
       "      <th>8279</th>\n",
       "      <td>822898315</td>\n",
       "      <td>607480</td>\n",
       "      <td>3.75</td>\n",
       "      <td>Night Shift Brewing</td>\n",
       "      <td>Whirlpool</td>\n",
       "      <td>Pale Ale - New England</td>\n",
       "      <td>3.88808</td>\n",
       "      <td>4.5</td>\n",
       "      <td>3.768262</td>\n",
       "      <td>3.768262</td>\n",
       "    </tr>\n",
       "    <tr>\n",
       "      <th>8279</th>\n",
       "      <td>823138648</td>\n",
       "      <td>2388315</td>\n",
       "      <td>4.00</td>\n",
       "      <td>J. Wakefield Brewing</td>\n",
       "      <td>Chains</td>\n",
       "      <td>IPA - New England</td>\n",
       "      <td>4.17647</td>\n",
       "      <td>6.5</td>\n",
       "      <td>4.056652</td>\n",
       "      <td>4.056652</td>\n",
       "    </tr>\n",
       "    <tr>\n",
       "      <th>8279</th>\n",
       "      <td>823143970</td>\n",
       "      <td>3430819</td>\n",
       "      <td>4.00</td>\n",
       "      <td>J. Wakefield Brewing</td>\n",
       "      <td>No Mas</td>\n",
       "      <td>Sour - Gose - Fruited</td>\n",
       "      <td>4.01127</td>\n",
       "      <td>7.0</td>\n",
       "      <td>3.829066</td>\n",
       "      <td>3.891452</td>\n",
       "    </tr>\n",
       "    <tr>\n",
       "      <th>8279</th>\n",
       "      <td>823152967</td>\n",
       "      <td>2606937</td>\n",
       "      <td>3.75</td>\n",
       "      <td>Crooked Run</td>\n",
       "      <td>Double Vibes (Blackberry)</td>\n",
       "      <td>Sour - Berliner Weisse</td>\n",
       "      <td>3.92647</td>\n",
       "      <td>5.0</td>\n",
       "      <td>3.806652</td>\n",
       "      <td>3.806652</td>\n",
       "    </tr>\n",
       "    <tr>\n",
       "      <th>8279</th>\n",
       "      <td>823153194</td>\n",
       "      <td>3482530</td>\n",
       "      <td>4.00</td>\n",
       "      <td>Sun Lab Brewing Co.</td>\n",
       "      <td>Drift Deeper</td>\n",
       "      <td>Sour - Berliner Weisse</td>\n",
       "      <td>4.03498</td>\n",
       "      <td>5.7</td>\n",
       "      <td>3.915162</td>\n",
       "      <td>3.915162</td>\n",
       "    </tr>\n",
       "    <tr>\n",
       "      <th>8279</th>\n",
       "      <td>823161544</td>\n",
       "      <td>1861131</td>\n",
       "      <td>3.75</td>\n",
       "      <td>Ardent Craft Ales</td>\n",
       "      <td>Imperial Milk Stout</td>\n",
       "      <td>Stout - Imperial / Double Milk</td>\n",
       "      <td>3.83450</td>\n",
       "      <td>10.0</td>\n",
       "      <td>3.714682</td>\n",
       "      <td>3.714682</td>\n",
       "    </tr>\n",
       "    <tr>\n",
       "      <th>8279</th>\n",
       "      <td>837271489</td>\n",
       "      <td>3299217</td>\n",
       "      <td>4.00</td>\n",
       "      <td>Beat Culture Brewery</td>\n",
       "      <td>Vamoose Hazy DIPA</td>\n",
       "      <td>IPA - New England</td>\n",
       "      <td>3.94457</td>\n",
       "      <td>8.1</td>\n",
       "      <td>3.824752</td>\n",
       "      <td>3.824752</td>\n",
       "    </tr>\n",
       "    <tr>\n",
       "      <th>8279</th>\n",
       "      <td>839138525</td>\n",
       "      <td>2150752</td>\n",
       "      <td>4.00</td>\n",
       "      <td>Monkish Brewing Co.</td>\n",
       "      <td>Space Cookie</td>\n",
       "      <td>IPA - Imperial / Double</td>\n",
       "      <td>4.36217</td>\n",
       "      <td>8.3</td>\n",
       "      <td>4.242352</td>\n",
       "      <td>4.242352</td>\n",
       "    </tr>\n",
       "  </tbody>\n",
       "</table>\n",
       "</div>"
      ],
      "text/plain": [
       "         checkin_id  beer_id  rating_user                  brewery_name  \\\n",
       "user_id                                                                   \n",
       "8279      822879983  2480487         4.00  Great Divide Brewing Company   \n",
       "8279      822886926  2368153         3.75     Ass Clown Brewing Company   \n",
       "8279      822898315   607480         3.75           Night Shift Brewing   \n",
       "8279      823138648  2388315         4.00          J. Wakefield Brewing   \n",
       "8279      823143970  3430819         4.00          J. Wakefield Brewing   \n",
       "8279      823152967  2606937         3.75                   Crooked Run   \n",
       "8279      823153194  3482530         4.00           Sun Lab Brewing Co.   \n",
       "8279      823161544  1861131         3.75             Ardent Craft Ales   \n",
       "8279      837271489  3299217         4.00          Beat Culture Brewery   \n",
       "8279      839138525  2150752         4.00           Monkish Brewing Co.   \n",
       "\n",
       "                                   beer_name  \\\n",
       "user_id                                        \n",
       "8279                  Mexican Chocolate Yeti   \n",
       "8279     Partly Cloudy with a Chance of Fun    \n",
       "8279                               Whirlpool   \n",
       "8279                                  Chains   \n",
       "8279                                  No Mas   \n",
       "8279               Double Vibes (Blackberry)   \n",
       "8279                            Drift Deeper   \n",
       "8279                     Imperial Milk Stout   \n",
       "8279                       Vamoose Hazy DIPA   \n",
       "8279                            Space Cookie   \n",
       "\n",
       "                                 beer_style  rating_global   abv     preds  \\\n",
       "user_id                                                                      \n",
       "8279     Stout - American Imperial / Double        4.17568   9.5  3.902036   \n",
       "8279                      IPA - New England        3.91192   6.7  3.792102   \n",
       "8279                 Pale Ale - New England        3.88808   4.5  3.768262   \n",
       "8279                      IPA - New England        4.17647   6.5  4.056652   \n",
       "8279                  Sour - Gose - Fruited        4.01127   7.0  3.829066   \n",
       "8279                 Sour - Berliner Weisse        3.92647   5.0  3.806652   \n",
       "8279                 Sour - Berliner Weisse        4.03498   5.7  3.915162   \n",
       "8279         Stout - Imperial / Double Milk        3.83450  10.0  3.714682   \n",
       "8279                      IPA - New England        3.94457   8.1  3.824752   \n",
       "8279                IPA - Imperial / Double        4.36217   8.3  4.242352   \n",
       "\n",
       "           basers  \n",
       "user_id            \n",
       "8279     4.055862  \n",
       "8279     3.792102  \n",
       "8279     3.768262  \n",
       "8279     4.056652  \n",
       "8279     3.891452  \n",
       "8279     3.806652  \n",
       "8279     3.915162  \n",
       "8279     3.714682  \n",
       "8279     3.824752  \n",
       "8279     4.242352  "
      ]
     },
     "execution_count": 383,
     "metadata": {},
     "output_type": "execute_result"
    }
   ],
   "source": [
    "t = test35.head(10)\n",
    "t"
   ]
  },
  {
   "cell_type": "code",
   "execution_count": 384,
   "metadata": {
    "collapsed": false
   },
   "outputs": [
    {
     "data": {
      "text/html": [
       "<div>\n",
       "<style scoped>\n",
       "    .dataframe tbody tr th:only-of-type {\n",
       "        vertical-align: middle;\n",
       "    }\n",
       "\n",
       "    .dataframe tbody tr th {\n",
       "        vertical-align: top;\n",
       "    }\n",
       "\n",
       "    .dataframe thead th {\n",
       "        text-align: right;\n",
       "    }\n",
       "</style>\n",
       "<table border=\"1\" class=\"dataframe\">\n",
       "  <thead>\n",
       "    <tr style=\"text-align: right;\">\n",
       "      <th></th>\n",
       "      <th>beer_name</th>\n",
       "      <th>rating_global</th>\n",
       "    </tr>\n",
       "  </thead>\n",
       "  <tbody>\n",
       "    <tr>\n",
       "      <th>9</th>\n",
       "      <td>Space Cookie</td>\n",
       "      <td>4.36217</td>\n",
       "    </tr>\n",
       "    <tr>\n",
       "      <th>3</th>\n",
       "      <td>Chains</td>\n",
       "      <td>4.17647</td>\n",
       "    </tr>\n",
       "    <tr>\n",
       "      <th>0</th>\n",
       "      <td>Mexican Chocolate Yeti</td>\n",
       "      <td>4.17568</td>\n",
       "    </tr>\n",
       "    <tr>\n",
       "      <th>6</th>\n",
       "      <td>Drift Deeper</td>\n",
       "      <td>4.03498</td>\n",
       "    </tr>\n",
       "    <tr>\n",
       "      <th>4</th>\n",
       "      <td>No Mas</td>\n",
       "      <td>4.01127</td>\n",
       "    </tr>\n",
       "    <tr>\n",
       "      <th>8</th>\n",
       "      <td>Vamoose Hazy DIPA</td>\n",
       "      <td>3.94457</td>\n",
       "    </tr>\n",
       "    <tr>\n",
       "      <th>5</th>\n",
       "      <td>Double Vibes (Blackberry)</td>\n",
       "      <td>3.92647</td>\n",
       "    </tr>\n",
       "    <tr>\n",
       "      <th>1</th>\n",
       "      <td>Partly Cloudy with a Chance of Fun</td>\n",
       "      <td>3.91192</td>\n",
       "    </tr>\n",
       "    <tr>\n",
       "      <th>2</th>\n",
       "      <td>Whirlpool</td>\n",
       "      <td>3.88808</td>\n",
       "    </tr>\n",
       "    <tr>\n",
       "      <th>7</th>\n",
       "      <td>Imperial Milk Stout</td>\n",
       "      <td>3.83450</td>\n",
       "    </tr>\n",
       "  </tbody>\n",
       "</table>\n",
       "</div>"
      ],
      "text/plain": [
       "                             beer_name  rating_global\n",
       "9                         Space Cookie        4.36217\n",
       "3                               Chains        4.17647\n",
       "0               Mexican Chocolate Yeti        4.17568\n",
       "6                         Drift Deeper        4.03498\n",
       "4                               No Mas        4.01127\n",
       "8                    Vamoose Hazy DIPA        3.94457\n",
       "5            Double Vibes (Blackberry)        3.92647\n",
       "1  Partly Cloudy with a Chance of Fun         3.91192\n",
       "2                            Whirlpool        3.88808\n",
       "7                  Imperial Milk Stout        3.83450"
      ]
     },
     "execution_count": 384,
     "metadata": {},
     "output_type": "execute_result"
    }
   ],
   "source": [
    "t.reset_index()[['beer_name', 'rating_global']].sort_values('rating_global', ascending=False)"
   ]
  },
  {
   "cell_type": "code",
   "execution_count": 385,
   "metadata": {
    "collapsed": false
   },
   "outputs": [
    {
     "data": {
      "text/html": [
       "<div>\n",
       "<style scoped>\n",
       "    .dataframe tbody tr th:only-of-type {\n",
       "        vertical-align: middle;\n",
       "    }\n",
       "\n",
       "    .dataframe tbody tr th {\n",
       "        vertical-align: top;\n",
       "    }\n",
       "\n",
       "    .dataframe thead th {\n",
       "        text-align: right;\n",
       "    }\n",
       "</style>\n",
       "<table border=\"1\" class=\"dataframe\">\n",
       "  <thead>\n",
       "    <tr style=\"text-align: right;\">\n",
       "      <th></th>\n",
       "      <th>beer_name</th>\n",
       "      <th>rating_user</th>\n",
       "    </tr>\n",
       "  </thead>\n",
       "  <tbody>\n",
       "    <tr>\n",
       "      <th>0</th>\n",
       "      <td>Mexican Chocolate Yeti</td>\n",
       "      <td>4.00</td>\n",
       "    </tr>\n",
       "    <tr>\n",
       "      <th>3</th>\n",
       "      <td>Chains</td>\n",
       "      <td>4.00</td>\n",
       "    </tr>\n",
       "    <tr>\n",
       "      <th>4</th>\n",
       "      <td>No Mas</td>\n",
       "      <td>4.00</td>\n",
       "    </tr>\n",
       "    <tr>\n",
       "      <th>6</th>\n",
       "      <td>Drift Deeper</td>\n",
       "      <td>4.00</td>\n",
       "    </tr>\n",
       "    <tr>\n",
       "      <th>8</th>\n",
       "      <td>Vamoose Hazy DIPA</td>\n",
       "      <td>4.00</td>\n",
       "    </tr>\n",
       "    <tr>\n",
       "      <th>9</th>\n",
       "      <td>Space Cookie</td>\n",
       "      <td>4.00</td>\n",
       "    </tr>\n",
       "    <tr>\n",
       "      <th>1</th>\n",
       "      <td>Partly Cloudy with a Chance of Fun</td>\n",
       "      <td>3.75</td>\n",
       "    </tr>\n",
       "    <tr>\n",
       "      <th>2</th>\n",
       "      <td>Whirlpool</td>\n",
       "      <td>3.75</td>\n",
       "    </tr>\n",
       "    <tr>\n",
       "      <th>5</th>\n",
       "      <td>Double Vibes (Blackberry)</td>\n",
       "      <td>3.75</td>\n",
       "    </tr>\n",
       "    <tr>\n",
       "      <th>7</th>\n",
       "      <td>Imperial Milk Stout</td>\n",
       "      <td>3.75</td>\n",
       "    </tr>\n",
       "  </tbody>\n",
       "</table>\n",
       "</div>"
      ],
      "text/plain": [
       "                             beer_name  rating_user\n",
       "0               Mexican Chocolate Yeti         4.00\n",
       "3                               Chains         4.00\n",
       "4                               No Mas         4.00\n",
       "6                         Drift Deeper         4.00\n",
       "8                    Vamoose Hazy DIPA         4.00\n",
       "9                         Space Cookie         4.00\n",
       "1  Partly Cloudy with a Chance of Fun          3.75\n",
       "2                            Whirlpool         3.75\n",
       "5            Double Vibes (Blackberry)         3.75\n",
       "7                  Imperial Milk Stout         3.75"
      ]
     },
     "execution_count": 385,
     "metadata": {},
     "output_type": "execute_result"
    }
   ],
   "source": [
    "t.reset_index()[['beer_name', 'rating_user']].sort_values('rating_user', ascending=False)"
   ]
  },
  {
   "cell_type": "code",
   "execution_count": 386,
   "metadata": {
    "collapsed": false
   },
   "outputs": [
    {
     "data": {
      "text/html": [
       "<div>\n",
       "<style scoped>\n",
       "    .dataframe tbody tr th:only-of-type {\n",
       "        vertical-align: middle;\n",
       "    }\n",
       "\n",
       "    .dataframe tbody tr th {\n",
       "        vertical-align: top;\n",
       "    }\n",
       "\n",
       "    .dataframe thead th {\n",
       "        text-align: right;\n",
       "    }\n",
       "</style>\n",
       "<table border=\"1\" class=\"dataframe\">\n",
       "  <thead>\n",
       "    <tr style=\"text-align: right;\">\n",
       "      <th></th>\n",
       "      <th>beer_name</th>\n",
       "      <th>preds</th>\n",
       "    </tr>\n",
       "  </thead>\n",
       "  <tbody>\n",
       "    <tr>\n",
       "      <th>9</th>\n",
       "      <td>Space Cookie</td>\n",
       "      <td>4.242352</td>\n",
       "    </tr>\n",
       "    <tr>\n",
       "      <th>3</th>\n",
       "      <td>Chains</td>\n",
       "      <td>4.056652</td>\n",
       "    </tr>\n",
       "    <tr>\n",
       "      <th>6</th>\n",
       "      <td>Drift Deeper</td>\n",
       "      <td>3.915162</td>\n",
       "    </tr>\n",
       "    <tr>\n",
       "      <th>0</th>\n",
       "      <td>Mexican Chocolate Yeti</td>\n",
       "      <td>3.902036</td>\n",
       "    </tr>\n",
       "    <tr>\n",
       "      <th>4</th>\n",
       "      <td>No Mas</td>\n",
       "      <td>3.829066</td>\n",
       "    </tr>\n",
       "    <tr>\n",
       "      <th>8</th>\n",
       "      <td>Vamoose Hazy DIPA</td>\n",
       "      <td>3.824752</td>\n",
       "    </tr>\n",
       "    <tr>\n",
       "      <th>5</th>\n",
       "      <td>Double Vibes (Blackberry)</td>\n",
       "      <td>3.806652</td>\n",
       "    </tr>\n",
       "    <tr>\n",
       "      <th>1</th>\n",
       "      <td>Partly Cloudy with a Chance of Fun</td>\n",
       "      <td>3.792102</td>\n",
       "    </tr>\n",
       "    <tr>\n",
       "      <th>2</th>\n",
       "      <td>Whirlpool</td>\n",
       "      <td>3.768262</td>\n",
       "    </tr>\n",
       "    <tr>\n",
       "      <th>7</th>\n",
       "      <td>Imperial Milk Stout</td>\n",
       "      <td>3.714682</td>\n",
       "    </tr>\n",
       "  </tbody>\n",
       "</table>\n",
       "</div>"
      ],
      "text/plain": [
       "                             beer_name     preds\n",
       "9                         Space Cookie  4.242352\n",
       "3                               Chains  4.056652\n",
       "6                         Drift Deeper  3.915162\n",
       "0               Mexican Chocolate Yeti  3.902036\n",
       "4                               No Mas  3.829066\n",
       "8                    Vamoose Hazy DIPA  3.824752\n",
       "5            Double Vibes (Blackberry)  3.806652\n",
       "1  Partly Cloudy with a Chance of Fun   3.792102\n",
       "2                            Whirlpool  3.768262\n",
       "7                  Imperial Milk Stout  3.714682"
      ]
     },
     "execution_count": 386,
     "metadata": {},
     "output_type": "execute_result"
    }
   ],
   "source": [
    "t.reset_index()[['beer_name', 'preds']].sort_values('preds', ascending=False)"
   ]
  },
  {
   "cell_type": "markdown",
   "metadata": {},
   "source": [
    "The third pick changed for the tweaked version, but the accuracy score would've been the same.  \n",
    "You could argue that the recommender found a different beer for the user, but only by the slimmest of margins here."
   ]
  },
  {
   "cell_type": "code",
   "execution_count": 388,
   "metadata": {
    "collapsed": false
   },
   "outputs": [
    {
     "name": "stdout",
     "output_type": "stream",
     "text": [
      "The average score picking the top 3 globally rated for 455 \"menus\":  0.7945799158340003\n",
      "The average score picking the top 3 collab rated for 455 \"menus\":  0.8024770669263444\n"
     ]
    }
   ],
   "source": [
    "glob_scores = []\n",
    "tweak_scores = []\n",
    "for u in test35.index.unique():\n",
    "    uten = test35.loc[u, ['rating_user','rating_global','preds']]\n",
    "    glob_scores.append(untied_rank(uten.rating_user.values, \n",
    "                              uten.rating_user.values[np.argsort(uten.rating_global.values)[:-4:-1]]))\n",
    "    tweak_scores.append(untied_rank(uten.rating_user.values, \n",
    "                              uten.rating_user.values[np.argsort(uten.preds.values)[:-4:-1]]))\n",
    "print(f'The average score picking the top 3 globally rated for 455 \"menus\":  {np.mean(glob_scores)}')\n",
    "print(f'The average score picking the top 3 collab rated for 455 \"menus\":  {np.mean(tweak_scores)}')"
   ]
  },
  {
   "cell_type": "code",
   "execution_count": 389,
   "metadata": {
    "collapsed": false
   },
   "outputs": [
    {
     "name": "stdout",
     "output_type": "stream",
     "text": [
      "254 139\n"
     ]
    }
   ],
   "source": [
    "best_tweak = np.argmax(np.array(tweak_scores) - np.array(glob_scores))\n",
    "worst_tweak = np.argmax(np.array(glob_scores) - np.array(tweak_scores))\n",
    "print(best_tweak, worst_tweak)"
   ]
  },
  {
   "cell_type": "markdown",
   "metadata": {},
   "source": [
    "##### best tweak results:"
   ]
  },
  {
   "cell_type": "code",
   "execution_count": 390,
   "metadata": {
    "collapsed": true
   },
   "outputs": [],
   "source": [
    "t = test.set_index('user_id').loc[u35[best_tweak],:]"
   ]
  },
  {
   "cell_type": "markdown",
   "metadata": {},
   "source": [
    "Global preds:"
   ]
  },
  {
   "cell_type": "code",
   "execution_count": 391,
   "metadata": {
    "collapsed": false
   },
   "outputs": [
    {
     "data": {
      "text/html": [
       "<div>\n",
       "<style scoped>\n",
       "    .dataframe tbody tr th:only-of-type {\n",
       "        vertical-align: middle;\n",
       "    }\n",
       "\n",
       "    .dataframe tbody tr th {\n",
       "        vertical-align: top;\n",
       "    }\n",
       "\n",
       "    .dataframe thead th {\n",
       "        text-align: right;\n",
       "    }\n",
       "</style>\n",
       "<table border=\"1\" class=\"dataframe\">\n",
       "  <thead>\n",
       "    <tr style=\"text-align: right;\">\n",
       "      <th></th>\n",
       "      <th>beer_name</th>\n",
       "      <th>rating_global</th>\n",
       "    </tr>\n",
       "  </thead>\n",
       "  <tbody>\n",
       "    <tr>\n",
       "      <th>8</th>\n",
       "      <td>SarahannDIPAty</td>\n",
       "      <td>4.05546</td>\n",
       "    </tr>\n",
       "    <tr>\n",
       "      <th>1</th>\n",
       "      <td>Warpath</td>\n",
       "      <td>3.95493</td>\n",
       "    </tr>\n",
       "    <tr>\n",
       "      <th>9</th>\n",
       "      <td>Rocket S.H.I.P.A - Cascade</td>\n",
       "      <td>3.77642</td>\n",
       "    </tr>\n",
       "    <tr>\n",
       "      <th>7</th>\n",
       "      <td>Basically Famous</td>\n",
       "      <td>3.77273</td>\n",
       "    </tr>\n",
       "    <tr>\n",
       "      <th>5</th>\n",
       "      <td>Hopsecutioner</td>\n",
       "      <td>3.76306</td>\n",
       "    </tr>\n",
       "    <tr>\n",
       "      <th>3</th>\n",
       "      <td>Up-Hi</td>\n",
       "      <td>3.73544</td>\n",
       "    </tr>\n",
       "    <tr>\n",
       "      <th>4</th>\n",
       "      <td>RecreationAle</td>\n",
       "      <td>3.59156</td>\n",
       "    </tr>\n",
       "    <tr>\n",
       "      <th>0</th>\n",
       "      <td>Tropical Pale Ale</td>\n",
       "      <td>3.56874</td>\n",
       "    </tr>\n",
       "    <tr>\n",
       "      <th>2</th>\n",
       "      <td>IPA</td>\n",
       "      <td>3.49715</td>\n",
       "    </tr>\n",
       "    <tr>\n",
       "      <th>6</th>\n",
       "      <td>Florida Avenue Lager</td>\n",
       "      <td>3.45065</td>\n",
       "    </tr>\n",
       "  </tbody>\n",
       "</table>\n",
       "</div>"
      ],
      "text/plain": [
       "                    beer_name  rating_global\n",
       "8              SarahannDIPAty        4.05546\n",
       "1                     Warpath        3.95493\n",
       "9  Rocket S.H.I.P.A - Cascade        3.77642\n",
       "7            Basically Famous        3.77273\n",
       "5               Hopsecutioner        3.76306\n",
       "3                       Up-Hi        3.73544\n",
       "4               RecreationAle        3.59156\n",
       "0           Tropical Pale Ale        3.56874\n",
       "2                         IPA        3.49715\n",
       "6        Florida Avenue Lager        3.45065"
      ]
     },
     "execution_count": 391,
     "metadata": {},
     "output_type": "execute_result"
    }
   ],
   "source": [
    "t.reset_index()[['beer_name', 'rating_global']].sort_values('rating_global', ascending=False)"
   ]
  },
  {
   "cell_type": "markdown",
   "metadata": {},
   "source": [
    "Actual ratings:"
   ]
  },
  {
   "cell_type": "code",
   "execution_count": 392,
   "metadata": {
    "collapsed": false
   },
   "outputs": [
    {
     "data": {
      "text/html": [
       "<div>\n",
       "<style scoped>\n",
       "    .dataframe tbody tr th:only-of-type {\n",
       "        vertical-align: middle;\n",
       "    }\n",
       "\n",
       "    .dataframe tbody tr th {\n",
       "        vertical-align: top;\n",
       "    }\n",
       "\n",
       "    .dataframe thead th {\n",
       "        text-align: right;\n",
       "    }\n",
       "</style>\n",
       "<table border=\"1\" class=\"dataframe\">\n",
       "  <thead>\n",
       "    <tr style=\"text-align: right;\">\n",
       "      <th></th>\n",
       "      <th>beer_name</th>\n",
       "      <th>rating_user</th>\n",
       "    </tr>\n",
       "  </thead>\n",
       "  <tbody>\n",
       "    <tr>\n",
       "      <th>3</th>\n",
       "      <td>Up-Hi</td>\n",
       "      <td>4.00</td>\n",
       "    </tr>\n",
       "    <tr>\n",
       "      <th>4</th>\n",
       "      <td>RecreationAle</td>\n",
       "      <td>4.00</td>\n",
       "    </tr>\n",
       "    <tr>\n",
       "      <th>5</th>\n",
       "      <td>Hopsecutioner</td>\n",
       "      <td>4.00</td>\n",
       "    </tr>\n",
       "    <tr>\n",
       "      <th>6</th>\n",
       "      <td>Florida Avenue Lager</td>\n",
       "      <td>4.00</td>\n",
       "    </tr>\n",
       "    <tr>\n",
       "      <th>0</th>\n",
       "      <td>Tropical Pale Ale</td>\n",
       "      <td>3.75</td>\n",
       "    </tr>\n",
       "    <tr>\n",
       "      <th>8</th>\n",
       "      <td>SarahannDIPAty</td>\n",
       "      <td>3.75</td>\n",
       "    </tr>\n",
       "    <tr>\n",
       "      <th>1</th>\n",
       "      <td>Warpath</td>\n",
       "      <td>3.50</td>\n",
       "    </tr>\n",
       "    <tr>\n",
       "      <th>7</th>\n",
       "      <td>Basically Famous</td>\n",
       "      <td>3.50</td>\n",
       "    </tr>\n",
       "    <tr>\n",
       "      <th>9</th>\n",
       "      <td>Rocket S.H.I.P.A - Cascade</td>\n",
       "      <td>3.50</td>\n",
       "    </tr>\n",
       "    <tr>\n",
       "      <th>2</th>\n",
       "      <td>IPA</td>\n",
       "      <td>3.00</td>\n",
       "    </tr>\n",
       "  </tbody>\n",
       "</table>\n",
       "</div>"
      ],
      "text/plain": [
       "                    beer_name  rating_user\n",
       "3                       Up-Hi         4.00\n",
       "4               RecreationAle         4.00\n",
       "5               Hopsecutioner         4.00\n",
       "6        Florida Avenue Lager         4.00\n",
       "0           Tropical Pale Ale         3.75\n",
       "8              SarahannDIPAty         3.75\n",
       "1                     Warpath         3.50\n",
       "7            Basically Famous         3.50\n",
       "9  Rocket S.H.I.P.A - Cascade         3.50\n",
       "2                         IPA         3.00"
      ]
     },
     "execution_count": 392,
     "metadata": {},
     "output_type": "execute_result"
    }
   ],
   "source": [
    "t.reset_index()[['beer_name', 'rating_user']].sort_values('rating_user', ascending=False)"
   ]
  },
  {
   "cell_type": "markdown",
   "metadata": {},
   "source": [
    "Collaboratively assisted ratings:"
   ]
  },
  {
   "cell_type": "code",
   "execution_count": 393,
   "metadata": {
    "collapsed": false
   },
   "outputs": [
    {
     "data": {
      "text/html": [
       "<div>\n",
       "<style scoped>\n",
       "    .dataframe tbody tr th:only-of-type {\n",
       "        vertical-align: middle;\n",
       "    }\n",
       "\n",
       "    .dataframe tbody tr th {\n",
       "        vertical-align: top;\n",
       "    }\n",
       "\n",
       "    .dataframe thead th {\n",
       "        text-align: right;\n",
       "    }\n",
       "</style>\n",
       "<table border=\"1\" class=\"dataframe\">\n",
       "  <thead>\n",
       "    <tr style=\"text-align: right;\">\n",
       "      <th></th>\n",
       "      <th>beer_name</th>\n",
       "      <th>preds</th>\n",
       "    </tr>\n",
       "  </thead>\n",
       "  <tbody>\n",
       "    <tr>\n",
       "      <th>8</th>\n",
       "      <td>SarahannDIPAty</td>\n",
       "      <td>4.083624</td>\n",
       "    </tr>\n",
       "    <tr>\n",
       "      <th>5</th>\n",
       "      <td>Hopsecutioner</td>\n",
       "      <td>3.958329</td>\n",
       "    </tr>\n",
       "    <tr>\n",
       "      <th>3</th>\n",
       "      <td>Up-Hi</td>\n",
       "      <td>3.825077</td>\n",
       "    </tr>\n",
       "    <tr>\n",
       "      <th>9</th>\n",
       "      <td>Rocket S.H.I.P.A - Cascade</td>\n",
       "      <td>3.804584</td>\n",
       "    </tr>\n",
       "    <tr>\n",
       "      <th>7</th>\n",
       "      <td>Basically Famous</td>\n",
       "      <td>3.800894</td>\n",
       "    </tr>\n",
       "    <tr>\n",
       "      <th>6</th>\n",
       "      <td>Florida Avenue Lager</td>\n",
       "      <td>3.794316</td>\n",
       "    </tr>\n",
       "    <tr>\n",
       "      <th>4</th>\n",
       "      <td>RecreationAle</td>\n",
       "      <td>3.749541</td>\n",
       "    </tr>\n",
       "    <tr>\n",
       "      <th>1</th>\n",
       "      <td>Warpath</td>\n",
       "      <td>3.702805</td>\n",
       "    </tr>\n",
       "    <tr>\n",
       "      <th>2</th>\n",
       "      <td>IPA</td>\n",
       "      <td>3.699977</td>\n",
       "    </tr>\n",
       "    <tr>\n",
       "      <th>0</th>\n",
       "      <td>Tropical Pale Ale</td>\n",
       "      <td>3.262554</td>\n",
       "    </tr>\n",
       "  </tbody>\n",
       "</table>\n",
       "</div>"
      ],
      "text/plain": [
       "                    beer_name     preds\n",
       "8              SarahannDIPAty  4.083624\n",
       "5               Hopsecutioner  3.958329\n",
       "3                       Up-Hi  3.825077\n",
       "9  Rocket S.H.I.P.A - Cascade  3.804584\n",
       "7            Basically Famous  3.800894\n",
       "6        Florida Avenue Lager  3.794316\n",
       "4               RecreationAle  3.749541\n",
       "1                     Warpath  3.702805\n",
       "2                         IPA  3.699977\n",
       "0           Tropical Pale Ale  3.262554"
      ]
     },
     "execution_count": 393,
     "metadata": {},
     "output_type": "execute_result"
    }
   ],
   "source": [
    "t.reset_index()[['beer_name', 'preds']].sort_values('preds', ascending=False)"
   ]
  },
  {
   "cell_type": "markdown",
   "metadata": {},
   "source": [
    "##### worst tweak results:"
   ]
  },
  {
   "cell_type": "code",
   "execution_count": 394,
   "metadata": {
    "collapsed": true
   },
   "outputs": [],
   "source": [
    "t = test.set_index('user_id').loc[u35[worst_tweak],:]"
   ]
  },
  {
   "cell_type": "markdown",
   "metadata": {},
   "source": [
    "Global preds:"
   ]
  },
  {
   "cell_type": "code",
   "execution_count": 395,
   "metadata": {
    "collapsed": false
   },
   "outputs": [
    {
     "data": {
      "text/html": [
       "<div>\n",
       "<style scoped>\n",
       "    .dataframe tbody tr th:only-of-type {\n",
       "        vertical-align: middle;\n",
       "    }\n",
       "\n",
       "    .dataframe tbody tr th {\n",
       "        vertical-align: top;\n",
       "    }\n",
       "\n",
       "    .dataframe thead th {\n",
       "        text-align: right;\n",
       "    }\n",
       "</style>\n",
       "<table border=\"1\" class=\"dataframe\">\n",
       "  <thead>\n",
       "    <tr style=\"text-align: right;\">\n",
       "      <th></th>\n",
       "      <th>beer_name</th>\n",
       "      <th>rating_global</th>\n",
       "    </tr>\n",
       "  </thead>\n",
       "  <tbody>\n",
       "    <tr>\n",
       "      <th>6</th>\n",
       "      <td>Fresh IPA - NOV 19</td>\n",
       "      <td>4.07983</td>\n",
       "    </tr>\n",
       "    <tr>\n",
       "      <th>9</th>\n",
       "      <td>City of the Wind</td>\n",
       "      <td>3.88474</td>\n",
       "    </tr>\n",
       "    <tr>\n",
       "      <th>1</th>\n",
       "      <td>Hazy Memory</td>\n",
       "      <td>3.88128</td>\n",
       "    </tr>\n",
       "    <tr>\n",
       "      <th>2</th>\n",
       "      <td>Citrusinensis</td>\n",
       "      <td>3.86806</td>\n",
       "    </tr>\n",
       "    <tr>\n",
       "      <th>3</th>\n",
       "      <td>Super Cluster</td>\n",
       "      <td>3.86497</td>\n",
       "    </tr>\n",
       "    <tr>\n",
       "      <th>4</th>\n",
       "      <td>Brown Shugga'</td>\n",
       "      <td>3.75238</td>\n",
       "    </tr>\n",
       "    <tr>\n",
       "      <th>5</th>\n",
       "      <td>DayTime IPA</td>\n",
       "      <td>3.62621</td>\n",
       "    </tr>\n",
       "    <tr>\n",
       "      <th>8</th>\n",
       "      <td>IPA</td>\n",
       "      <td>3.50266</td>\n",
       "    </tr>\n",
       "    <tr>\n",
       "      <th>0</th>\n",
       "      <td>DogTown Pale Ale</td>\n",
       "      <td>3.47304</td>\n",
       "    </tr>\n",
       "    <tr>\n",
       "      <th>7</th>\n",
       "      <td>Stoke Pale</td>\n",
       "      <td>3.35491</td>\n",
       "    </tr>\n",
       "  </tbody>\n",
       "</table>\n",
       "</div>"
      ],
      "text/plain": [
       "            beer_name  rating_global\n",
       "6  Fresh IPA - NOV 19        4.07983\n",
       "9    City of the Wind        3.88474\n",
       "1         Hazy Memory        3.88128\n",
       "2       Citrusinensis        3.86806\n",
       "3       Super Cluster        3.86497\n",
       "4       Brown Shugga'        3.75238\n",
       "5         DayTime IPA        3.62621\n",
       "8                 IPA        3.50266\n",
       "0    DogTown Pale Ale        3.47304\n",
       "7          Stoke Pale        3.35491"
      ]
     },
     "execution_count": 395,
     "metadata": {},
     "output_type": "execute_result"
    }
   ],
   "source": [
    "t.reset_index()[['beer_name', 'rating_global']].sort_values('rating_global', ascending=False)"
   ]
  },
  {
   "cell_type": "markdown",
   "metadata": {},
   "source": [
    "Actual ratings:"
   ]
  },
  {
   "cell_type": "code",
   "execution_count": 396,
   "metadata": {
    "collapsed": false
   },
   "outputs": [
    {
     "data": {
      "text/html": [
       "<div>\n",
       "<style scoped>\n",
       "    .dataframe tbody tr th:only-of-type {\n",
       "        vertical-align: middle;\n",
       "    }\n",
       "\n",
       "    .dataframe tbody tr th {\n",
       "        vertical-align: top;\n",
       "    }\n",
       "\n",
       "    .dataframe thead th {\n",
       "        text-align: right;\n",
       "    }\n",
       "</style>\n",
       "<table border=\"1\" class=\"dataframe\">\n",
       "  <thead>\n",
       "    <tr style=\"text-align: right;\">\n",
       "      <th></th>\n",
       "      <th>beer_name</th>\n",
       "      <th>rating_user</th>\n",
       "    </tr>\n",
       "  </thead>\n",
       "  <tbody>\n",
       "    <tr>\n",
       "      <th>6</th>\n",
       "      <td>Fresh IPA - NOV 19</td>\n",
       "      <td>4.75</td>\n",
       "    </tr>\n",
       "    <tr>\n",
       "      <th>9</th>\n",
       "      <td>City of the Wind</td>\n",
       "      <td>4.50</td>\n",
       "    </tr>\n",
       "    <tr>\n",
       "      <th>1</th>\n",
       "      <td>Hazy Memory</td>\n",
       "      <td>4.25</td>\n",
       "    </tr>\n",
       "    <tr>\n",
       "      <th>7</th>\n",
       "      <td>Stoke Pale</td>\n",
       "      <td>4.25</td>\n",
       "    </tr>\n",
       "    <tr>\n",
       "      <th>0</th>\n",
       "      <td>DogTown Pale Ale</td>\n",
       "      <td>4.00</td>\n",
       "    </tr>\n",
       "    <tr>\n",
       "      <th>3</th>\n",
       "      <td>Super Cluster</td>\n",
       "      <td>4.00</td>\n",
       "    </tr>\n",
       "    <tr>\n",
       "      <th>4</th>\n",
       "      <td>Brown Shugga'</td>\n",
       "      <td>4.00</td>\n",
       "    </tr>\n",
       "    <tr>\n",
       "      <th>5</th>\n",
       "      <td>DayTime IPA</td>\n",
       "      <td>4.00</td>\n",
       "    </tr>\n",
       "    <tr>\n",
       "      <th>2</th>\n",
       "      <td>Citrusinensis</td>\n",
       "      <td>3.50</td>\n",
       "    </tr>\n",
       "    <tr>\n",
       "      <th>8</th>\n",
       "      <td>IPA</td>\n",
       "      <td>3.50</td>\n",
       "    </tr>\n",
       "  </tbody>\n",
       "</table>\n",
       "</div>"
      ],
      "text/plain": [
       "            beer_name  rating_user\n",
       "6  Fresh IPA - NOV 19         4.75\n",
       "9    City of the Wind         4.50\n",
       "1         Hazy Memory         4.25\n",
       "7          Stoke Pale         4.25\n",
       "0    DogTown Pale Ale         4.00\n",
       "3       Super Cluster         4.00\n",
       "4       Brown Shugga'         4.00\n",
       "5         DayTime IPA         4.00\n",
       "2       Citrusinensis         3.50\n",
       "8                 IPA         3.50"
      ]
     },
     "execution_count": 396,
     "metadata": {},
     "output_type": "execute_result"
    }
   ],
   "source": [
    "t.reset_index()[['beer_name', 'rating_user']].sort_values('rating_user', ascending=False)"
   ]
  },
  {
   "cell_type": "markdown",
   "metadata": {},
   "source": [
    "...and tweaked rankings:"
   ]
  },
  {
   "cell_type": "code",
   "execution_count": 397,
   "metadata": {
    "collapsed": false
   },
   "outputs": [
    {
     "data": {
      "text/html": [
       "<div>\n",
       "<style scoped>\n",
       "    .dataframe tbody tr th:only-of-type {\n",
       "        vertical-align: middle;\n",
       "    }\n",
       "\n",
       "    .dataframe tbody tr th {\n",
       "        vertical-align: top;\n",
       "    }\n",
       "\n",
       "    .dataframe thead th {\n",
       "        text-align: right;\n",
       "    }\n",
       "</style>\n",
       "<table border=\"1\" class=\"dataframe\">\n",
       "  <thead>\n",
       "    <tr style=\"text-align: right;\">\n",
       "      <th></th>\n",
       "      <th>beer_name</th>\n",
       "      <th>preds</th>\n",
       "    </tr>\n",
       "  </thead>\n",
       "  <tbody>\n",
       "    <tr>\n",
       "      <th>1</th>\n",
       "      <td>Hazy Memory</td>\n",
       "      <td>4.266028</td>\n",
       "    </tr>\n",
       "    <tr>\n",
       "      <th>9</th>\n",
       "      <td>City of the Wind</td>\n",
       "      <td>4.102085</td>\n",
       "    </tr>\n",
       "    <tr>\n",
       "      <th>2</th>\n",
       "      <td>Citrusinensis</td>\n",
       "      <td>4.085405</td>\n",
       "    </tr>\n",
       "    <tr>\n",
       "      <th>3</th>\n",
       "      <td>Super Cluster</td>\n",
       "      <td>4.082315</td>\n",
       "    </tr>\n",
       "    <tr>\n",
       "      <th>4</th>\n",
       "      <td>Brown Shugga'</td>\n",
       "      <td>3.969725</td>\n",
       "    </tr>\n",
       "    <tr>\n",
       "      <th>5</th>\n",
       "      <td>DayTime IPA</td>\n",
       "      <td>3.843555</td>\n",
       "    </tr>\n",
       "    <tr>\n",
       "      <th>6</th>\n",
       "      <td>Fresh IPA - NOV 19</td>\n",
       "      <td>3.843555</td>\n",
       "    </tr>\n",
       "    <tr>\n",
       "      <th>8</th>\n",
       "      <td>IPA</td>\n",
       "      <td>3.720005</td>\n",
       "    </tr>\n",
       "    <tr>\n",
       "      <th>0</th>\n",
       "      <td>DogTown Pale Ale</td>\n",
       "      <td>3.690385</td>\n",
       "    </tr>\n",
       "    <tr>\n",
       "      <th>7</th>\n",
       "      <td>Stoke Pale</td>\n",
       "      <td>3.572255</td>\n",
       "    </tr>\n",
       "  </tbody>\n",
       "</table>\n",
       "</div>"
      ],
      "text/plain": [
       "            beer_name     preds\n",
       "1         Hazy Memory  4.266028\n",
       "9    City of the Wind  4.102085\n",
       "2       Citrusinensis  4.085405\n",
       "3       Super Cluster  4.082315\n",
       "4       Brown Shugga'  3.969725\n",
       "5         DayTime IPA  3.843555\n",
       "6  Fresh IPA - NOV 19  3.843555\n",
       "8                 IPA  3.720005\n",
       "0    DogTown Pale Ale  3.690385\n",
       "7          Stoke Pale  3.572255"
      ]
     },
     "execution_count": 397,
     "metadata": {},
     "output_type": "execute_result"
    }
   ],
   "source": [
    "t.reset_index()[['beer_name', 'preds']].sort_values('preds', ascending=False)"
   ]
  },
  {
   "cell_type": "markdown",
   "metadata": {},
   "source": [
    "First 2 recs weren't bad, but moving the 4th global to 3rd pick was a killer."
   ]
  },
  {
   "cell_type": "code",
   "execution_count": null,
   "metadata": {
    "collapsed": true
   },
   "outputs": [],
   "source": []
  }
 ],
 "metadata": {
  "kernelspec": {
   "display_name": "Python 3",
   "language": "python",
   "name": "python3"
  },
  "language_info": {
   "codemirror_mode": {
    "name": "ipython",
    "version": 3
   },
   "file_extension": ".py",
   "mimetype": "text/x-python",
   "name": "python",
   "nbconvert_exporter": "python",
   "pygments_lexer": "ipython3",
   "version": "3.6.9"
  }
 },
 "nbformat": 4,
 "nbformat_minor": 2
}
