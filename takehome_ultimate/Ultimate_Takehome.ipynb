{
 "cells": [
  {
   "cell_type": "markdown",
   "metadata": {},
   "source": [
    "# Part 1: EDA of the logins\n",
    "Identify temporal patterns in the provided logins file"
   ]
  },
  {
   "cell_type": "code",
   "execution_count": 1,
   "metadata": {},
   "outputs": [],
   "source": [
    "import seaborn as sns\n",
    "import numpy as np\n",
    "import matplotlib.pyplot as plt\n",
    "import json\n",
    "import pandas as pd\n",
    "from datetime import timedelta"
   ]
  },
  {
   "cell_type": "code",
   "execution_count": 2,
   "metadata": {},
   "outputs": [
    {
     "name": "stdout",
     "output_type": "stream",
     "text": [
      "(93142, 1)\n"
     ]
    },
    {
     "data": {
      "text/html": [
       "<div>\n",
       "<style scoped>\n",
       "    .dataframe tbody tr th:only-of-type {\n",
       "        vertical-align: middle;\n",
       "    }\n",
       "\n",
       "    .dataframe tbody tr th {\n",
       "        vertical-align: top;\n",
       "    }\n",
       "\n",
       "    .dataframe thead th {\n",
       "        text-align: right;\n",
       "    }\n",
       "</style>\n",
       "<table border=\"1\" class=\"dataframe\">\n",
       "  <thead>\n",
       "    <tr style=\"text-align: right;\">\n",
       "      <th></th>\n",
       "      <th>login_time</th>\n",
       "    </tr>\n",
       "  </thead>\n",
       "  <tbody>\n",
       "    <tr>\n",
       "      <td>0</td>\n",
       "      <td>1970-01-01 20:13:18</td>\n",
       "    </tr>\n",
       "    <tr>\n",
       "      <td>1</td>\n",
       "      <td>1970-01-01 20:16:10</td>\n",
       "    </tr>\n",
       "    <tr>\n",
       "      <td>2</td>\n",
       "      <td>1970-01-01 20:16:37</td>\n",
       "    </tr>\n",
       "    <tr>\n",
       "      <td>3</td>\n",
       "      <td>1970-01-01 20:16:36</td>\n",
       "    </tr>\n",
       "    <tr>\n",
       "      <td>4</td>\n",
       "      <td>1970-01-01 20:26:21</td>\n",
       "    </tr>\n",
       "  </tbody>\n",
       "</table>\n",
       "</div>"
      ],
      "text/plain": [
       "           login_time\n",
       "0 1970-01-01 20:13:18\n",
       "1 1970-01-01 20:16:10\n",
       "2 1970-01-01 20:16:37\n",
       "3 1970-01-01 20:16:36\n",
       "4 1970-01-01 20:26:21"
      ]
     },
     "execution_count": 2,
     "metadata": {},
     "output_type": "execute_result"
    }
   ],
   "source": [
    "logins = pd.read_json('ultimate_challenge/logins.json')\n",
    "print(logins.shape)\n",
    "logins.head()"
   ]
  },
  {
   "cell_type": "code",
   "execution_count": 3,
   "metadata": {},
   "outputs": [
    {
     "data": {
      "text/html": [
       "<div>\n",
       "<style scoped>\n",
       "    .dataframe tbody tr th:only-of-type {\n",
       "        vertical-align: middle;\n",
       "    }\n",
       "\n",
       "    .dataframe tbody tr th {\n",
       "        vertical-align: top;\n",
       "    }\n",
       "\n",
       "    .dataframe thead th {\n",
       "        text-align: right;\n",
       "    }\n",
       "</style>\n",
       "<table border=\"1\" class=\"dataframe\">\n",
       "  <thead>\n",
       "    <tr style=\"text-align: right;\">\n",
       "      <th></th>\n",
       "      <th>login_time</th>\n",
       "    </tr>\n",
       "  </thead>\n",
       "  <tbody>\n",
       "    <tr>\n",
       "      <td>count</td>\n",
       "      <td>93142</td>\n",
       "    </tr>\n",
       "    <tr>\n",
       "      <td>unique</td>\n",
       "      <td>92265</td>\n",
       "    </tr>\n",
       "    <tr>\n",
       "      <td>top</td>\n",
       "      <td>1970-02-12 11:16:53</td>\n",
       "    </tr>\n",
       "    <tr>\n",
       "      <td>freq</td>\n",
       "      <td>3</td>\n",
       "    </tr>\n",
       "    <tr>\n",
       "      <td>first</td>\n",
       "      <td>1970-01-01 20:12:16</td>\n",
       "    </tr>\n",
       "    <tr>\n",
       "      <td>last</td>\n",
       "      <td>1970-04-13 18:57:38</td>\n",
       "    </tr>\n",
       "  </tbody>\n",
       "</table>\n",
       "</div>"
      ],
      "text/plain": [
       "                 login_time\n",
       "count                 93142\n",
       "unique                92265\n",
       "top     1970-02-12 11:16:53\n",
       "freq                      3\n",
       "first   1970-01-01 20:12:16\n",
       "last    1970-04-13 18:57:38"
      ]
     },
     "execution_count": 3,
     "metadata": {},
     "output_type": "execute_result"
    }
   ],
   "source": [
    "logins.describe()"
   ]
  },
  {
   "cell_type": "code",
   "execution_count": 4,
   "metadata": {},
   "outputs": [
    {
     "name": "stdout",
     "output_type": "stream",
     "text": [
      "<class 'pandas.core.frame.DataFrame'>\n",
      "RangeIndex: 93142 entries, 0 to 93141\n",
      "Data columns (total 1 columns):\n",
      "login_time    93142 non-null datetime64[ns]\n",
      "dtypes: datetime64[ns](1)\n",
      "memory usage: 727.8 KB\n"
     ]
    }
   ],
   "source": [
    "logins.info()"
   ]
  },
  {
   "cell_type": "markdown",
   "metadata": {},
   "source": [
    "- The only data column is the time stamp.\n",
    "- All 93142 values are non-null.\n",
    "- All dates are in the first few months of 1970, but keep the year for datetime calcs\n",
    "- Only about 1% of the login times are non-unique."
   ]
  },
  {
   "cell_type": "markdown",
   "metadata": {},
   "source": [
    "Project specs call for putting the logins in 15-min bins.  I'll use pd.cut, which will create about 100 bins per day times about 100 days = 10K bins for 93K entries, or fewer than 10 logins per bin, on avg."
   ]
  },
  {
   "cell_type": "code",
   "execution_count": 5,
   "metadata": {},
   "outputs": [
    {
     "name": "stdout",
     "output_type": "stream",
     "text": [
      "1970-01-01 00:00:00 1970-04-14 00:00:00\n"
     ]
    }
   ],
   "source": [
    "start = min(logins.login_time).normalize()  # to have values that line up with clock hours\n",
    "end = (max(logins.login_time) + timedelta(days=1)).normalize() # add one day to include all times\n",
    "print(start, end)"
   ]
  },
  {
   "cell_type": "code",
   "execution_count": 6,
   "metadata": {},
   "outputs": [
    {
     "data": {
      "text/plain": [
       "9889"
      ]
     },
     "execution_count": 6,
     "metadata": {},
     "output_type": "execute_result"
    }
   ],
   "source": [
    "times = pd.date_range(start=start, end=end, freq='900S')  # 900 secs == 15 min\n",
    "len(times)"
   ]
  },
  {
   "cell_type": "code",
   "execution_count": 7,
   "metadata": {},
   "outputs": [
    {
     "data": {
      "text/plain": [
       "DatetimeIndex(['1970-01-01 00:00:00', '1970-01-01 00:15:00',\n",
       "               '1970-01-01 00:30:00', '1970-01-01 00:45:00',\n",
       "               '1970-01-01 01:00:00'],\n",
       "              dtype='datetime64[ns]', freq='900S')"
      ]
     },
     "execution_count": 7,
     "metadata": {},
     "output_type": "execute_result"
    }
   ],
   "source": [
    "times[:5]"
   ]
  },
  {
   "cell_type": "code",
   "execution_count": 8,
   "metadata": {},
   "outputs": [],
   "source": [
    "logins['timebin'] = pd.cut(logins.login_time, times)"
   ]
  },
  {
   "cell_type": "code",
   "execution_count": 9,
   "metadata": {},
   "outputs": [
    {
     "data": {
      "text/html": [
       "<div>\n",
       "<style scoped>\n",
       "    .dataframe tbody tr th:only-of-type {\n",
       "        vertical-align: middle;\n",
       "    }\n",
       "\n",
       "    .dataframe tbody tr th {\n",
       "        vertical-align: top;\n",
       "    }\n",
       "\n",
       "    .dataframe thead th {\n",
       "        text-align: right;\n",
       "    }\n",
       "</style>\n",
       "<table border=\"1\" class=\"dataframe\">\n",
       "  <thead>\n",
       "    <tr style=\"text-align: right;\">\n",
       "      <th></th>\n",
       "      <th>login_time</th>\n",
       "      <th>timebin</th>\n",
       "    </tr>\n",
       "  </thead>\n",
       "  <tbody>\n",
       "    <tr>\n",
       "      <td>0</td>\n",
       "      <td>1970-01-01 20:13:18</td>\n",
       "      <td>(1970-01-01 20:00:00, 1970-01-01 20:15:00]</td>\n",
       "    </tr>\n",
       "  </tbody>\n",
       "</table>\n",
       "</div>"
      ],
      "text/plain": [
       "           login_time                                     timebin\n",
       "0 1970-01-01 20:13:18  (1970-01-01 20:00:00, 1970-01-01 20:15:00]"
      ]
     },
     "execution_count": 9,
     "metadata": {},
     "output_type": "execute_result"
    }
   ],
   "source": [
    "logins.head(1)"
   ]
  },
  {
   "cell_type": "code",
   "execution_count": 10,
   "metadata": {},
   "outputs": [
    {
     "data": {
      "text/html": [
       "<div>\n",
       "<style scoped>\n",
       "    .dataframe tbody tr th:only-of-type {\n",
       "        vertical-align: middle;\n",
       "    }\n",
       "\n",
       "    .dataframe tbody tr th {\n",
       "        vertical-align: top;\n",
       "    }\n",
       "\n",
       "    .dataframe thead th {\n",
       "        text-align: right;\n",
       "    }\n",
       "</style>\n",
       "<table border=\"1\" class=\"dataframe\">\n",
       "  <thead>\n",
       "    <tr style=\"text-align: right;\">\n",
       "      <th></th>\n",
       "      <th>login_time</th>\n",
       "      <th>timebin</th>\n",
       "      <th>bin_end</th>\n",
       "    </tr>\n",
       "  </thead>\n",
       "  <tbody>\n",
       "    <tr>\n",
       "      <td>0</td>\n",
       "      <td>1970-01-01 20:13:18</td>\n",
       "      <td>(1970-01-01 20:00:00, 1970-01-01 20:15:00]</td>\n",
       "      <td>1970-01-01 20:15:00</td>\n",
       "    </tr>\n",
       "  </tbody>\n",
       "</table>\n",
       "</div>"
      ],
      "text/plain": [
       "           login_time                                     timebin  \\\n",
       "0 1970-01-01 20:13:18  (1970-01-01 20:00:00, 1970-01-01 20:15:00]   \n",
       "\n",
       "              bin_end  \n",
       "0 1970-01-01 20:15:00  "
      ]
     },
     "execution_count": 10,
     "metadata": {},
     "output_type": "execute_result"
    }
   ],
   "source": [
    "# pick one time to identify each bin.  End time should work.\n",
    "logins['bin_end'] = logins.timebin.apply(lambda t: t.right)\n",
    "logins.head(1)"
   ]
  },
  {
   "cell_type": "code",
   "execution_count": 11,
   "metadata": {},
   "outputs": [],
   "source": [
    "dayname_map = {0:'Monday', 1:'Tuesday', 2:'Wednesday', 3:'Thursday', \n",
    "               4:'Friday', 5:'Saturday', 6:'Sunday'}"
   ]
  },
  {
   "cell_type": "code",
   "execution_count": 12,
   "metadata": {},
   "outputs": [
    {
     "data": {
      "text/html": [
       "<div>\n",
       "<style scoped>\n",
       "    .dataframe tbody tr th:only-of-type {\n",
       "        vertical-align: middle;\n",
       "    }\n",
       "\n",
       "    .dataframe tbody tr th {\n",
       "        vertical-align: top;\n",
       "    }\n",
       "\n",
       "    .dataframe thead th {\n",
       "        text-align: right;\n",
       "    }\n",
       "</style>\n",
       "<table border=\"1\" class=\"dataframe\">\n",
       "  <thead>\n",
       "    <tr style=\"text-align: right;\">\n",
       "      <th></th>\n",
       "      <th>login_time</th>\n",
       "      <th>timebin</th>\n",
       "      <th>bin_end</th>\n",
       "      <th>int_day</th>\n",
       "      <th>weekday</th>\n",
       "      <th>hour</th>\n",
       "      <th>minute</th>\n",
       "      <th>week</th>\n",
       "    </tr>\n",
       "  </thead>\n",
       "  <tbody>\n",
       "    <tr>\n",
       "      <td>0</td>\n",
       "      <td>1970-01-01 20:13:18</td>\n",
       "      <td>(1970-01-01 20:00:00, 1970-01-01 20:15:00]</td>\n",
       "      <td>1970-01-01 20:15:00</td>\n",
       "      <td>3</td>\n",
       "      <td>Thursday</td>\n",
       "      <td>20</td>\n",
       "      <td>15</td>\n",
       "      <td>1</td>\n",
       "    </tr>\n",
       "    <tr>\n",
       "      <td>1</td>\n",
       "      <td>1970-01-01 20:16:10</td>\n",
       "      <td>(1970-01-01 20:15:00, 1970-01-01 20:30:00]</td>\n",
       "      <td>1970-01-01 20:30:00</td>\n",
       "      <td>3</td>\n",
       "      <td>Thursday</td>\n",
       "      <td>20</td>\n",
       "      <td>30</td>\n",
       "      <td>1</td>\n",
       "    </tr>\n",
       "    <tr>\n",
       "      <td>2</td>\n",
       "      <td>1970-01-01 20:16:37</td>\n",
       "      <td>(1970-01-01 20:15:00, 1970-01-01 20:30:00]</td>\n",
       "      <td>1970-01-01 20:30:00</td>\n",
       "      <td>3</td>\n",
       "      <td>Thursday</td>\n",
       "      <td>20</td>\n",
       "      <td>30</td>\n",
       "      <td>1</td>\n",
       "    </tr>\n",
       "  </tbody>\n",
       "</table>\n",
       "</div>"
      ],
      "text/plain": [
       "           login_time                                     timebin  \\\n",
       "0 1970-01-01 20:13:18  (1970-01-01 20:00:00, 1970-01-01 20:15:00]   \n",
       "1 1970-01-01 20:16:10  (1970-01-01 20:15:00, 1970-01-01 20:30:00]   \n",
       "2 1970-01-01 20:16:37  (1970-01-01 20:15:00, 1970-01-01 20:30:00]   \n",
       "\n",
       "              bin_end  int_day   weekday  hour  minute  week  \n",
       "0 1970-01-01 20:15:00        3  Thursday    20      15     1  \n",
       "1 1970-01-01 20:30:00        3  Thursday    20      30     1  \n",
       "2 1970-01-01 20:30:00        3  Thursday    20      30     1  "
      ]
     },
     "execution_count": 12,
     "metadata": {},
     "output_type": "execute_result"
    }
   ],
   "source": [
    "# split apart each login time to be able to group by its elements\n",
    "logins['int_day'] = logins.bin_end.apply(lambda t: t.weekday())\n",
    "logins['weekday'] = logins.int_day.apply(lambda t: dayname_map[t])\n",
    "logins['hour']    = logins.bin_end.apply(lambda t: t.hour)\n",
    "logins['minute']  = logins.bin_end.apply(lambda t: t.minute)\n",
    "logins['week']    = logins.bin_end.apply(lambda t: t.week)\n",
    "logins.head(3)"
   ]
  },
  {
   "cell_type": "markdown",
   "metadata": {},
   "source": [
    "### How do the logins occur, by time unit?"
   ]
  },
  {
   "cell_type": "code",
   "execution_count": 13,
   "metadata": {},
   "outputs": [
    {
     "data": {
      "image/png": "[encoded data removed]",
      "text/plain": [
       "<Figure size 432x288 with 1 Axes>"
      ]
     },
     "metadata": {
      "needs_background": "light"
     },
     "output_type": "display_data"
    }
   ],
   "source": [
    "# Start with largest timeframe\n",
    "plt.plot(logins.groupby('week').size().values[1:-1]) # don't chart the partial first and last weeks\n",
    "plt.xlabel('Full week')\n",
    "plt.ylabel('Logins')\n",
    "plt.title('Logins per week of 1970');"
   ]
  },
  {
   "cell_type": "markdown",
   "metadata": {},
   "source": [
    "#### Login volume went up from about 5000 per week in January to a peak of 9000/week in mid-March, before decreasing to about 7K/week in April."
   ]
  },
  {
   "cell_type": "code",
   "execution_count": 14,
   "metadata": {},
   "outputs": [
    {
     "data": {
      "image/png": "[encoded data removed]",
      "text/plain": [
       "<Figure size 432x288 with 1 Axes>"
      ]
     },
     "metadata": {
      "needs_background": "light"
     },
     "output_type": "display_data"
    }
   ],
   "source": [
    "days = logins.groupby('int_day').size()\n",
    "plt.plot(days)\n",
    "plt.xticks(range(7), labels=dayname_map.values())\n",
    "plt.title('Logins by Day of Week');"
   ]
  },
  {
   "cell_type": "markdown",
   "metadata": {},
   "source": [
    "#### The weekly cycle shows a smooth, maybe quadratic, doubling of volumes from Monday to Saturday, with Sunday almost as high as Sat."
   ]
  },
  {
   "cell_type": "code",
   "execution_count": 15,
   "metadata": {},
   "outputs": [
    {
     "data": {
      "image/png": "[encoded data removed]",
      "text/plain": [
       "<Figure size 432x288 with 1 Axes>"
      ]
     },
     "metadata": {
      "needs_background": "light"
     },
     "output_type": "display_data"
    }
   ],
   "source": [
    "logins.groupby('hour').size().plot()\n",
    "plt.title('Logins by Hour of Day');"
   ]
  },
  {
   "cell_type": "markdown",
   "metadata": {},
   "source": [
    "#### Aggregating by hour of day, without regard to day of week, indicates that there are two main peaks of volume, the highest around midnight and the second highest around noon.  From 6am to 9am the logins drop to only 1/6 the midnight levels, and at 5pm there is another lull in traffic, though not as slow as the morning one."
   ]
  },
  {
   "cell_type": "code",
   "execution_count": 16,
   "metadata": {},
   "outputs": [
    {
     "data": {
      "image/png": "[encoded data removed]",
      "text/plain": [
       "<Figure size 1152x288 with 1 Axes>"
      ]
     },
     "metadata": {
      "needs_background": "light"
     },
     "output_type": "display_data"
    }
   ],
   "source": [
    "plt.figure(figsize=(16, 4))\n",
    "grouped = logins.groupby(['int_day', 'hour']).size()\n",
    "grouped.plot()\n",
    "# show noon and midnight for each day of week\n",
    "plt.xticks(ticks=range(0, len(grouped), 12), labels=grouped.index[0::12])\n",
    "plt.title('Logins by Weekday and Hour (Day 0 = Monday, Day 6 = Sunday)');"
   ]
  },
  {
   "cell_type": "markdown",
   "metadata": {},
   "source": [
    "#### Add the day of the week to the hour of the day, to see if that changes the hourly pattern at all.   \n",
    "#### This reveals that there is an extra amount of logins after midnight on Friday and Saturday nights and then also on Saturday and Sunday in the early afternoon.  Without these heavier weekend login periods, the weekdays peak at 11am and 11pm, with the daytime peak actually higher than the nighttime peak.  But the weekend night peaks are large enough to make the overall daily patterns show a higher night peak than day peak (as seen in the previous graph).  The weekend hours between midnight and 4am are the highest-volume period of the week, hiding the fact that during the rest of the week, the busiest night hours are 8pm-midnight."
   ]
  },
  {
   "cell_type": "code",
   "execution_count": null,
   "metadata": {},
   "outputs": [],
   "source": []
  },
  {
   "cell_type": "markdown",
   "metadata": {},
   "source": [
    "# Part 2:  Experiment and Metrics Design  \n",
    "\n",
    "\n",
    "The neighboring cities of Gotham and Metropolis have complementary circadian rhythms: on weekdays, Ultimate Gotham is most active at night, and Ultimate Metropolis is most active during the day. On weekends, there is reasonable activity in both cities.\n",
    "However, a toll bridge, with a two­way toll, between the two cities causes driver partners to tend to be exclusive to each city. The Ultimate managers of city operations for the two cities have proposed an experiment to encourage driver partners to be available in both cities, by reimbursing all toll costs.\n",
    "1. What would you choose as the key measure of success of this experiment in encouraging driver partners to serve both cities, and why would you choose this metric?\n",
    "2. Describe a practical experiment you would design to compare the effectiveness of the proposed change in relation to the key measure of success. Please provide details on:\n",
    "a. how you will implement the experiment\n",
    "b. what statistical test(s) you will conduct to verify the significance of the\n",
    "observation\n",
    "c. how you would interpret the results and provide recommendations to the city\n",
    "operations team along with any caveats."
   ]
  },
  {
   "cell_type": "markdown",
   "metadata": {},
   "source": [
    "<b>1.  It's unclear from the description what the managers are trying to accomplish with this experiment, and why.  My first thought is that they're trying to have drivers available when needed and where needed, but that doesn't seem to be the case.  To \"encourage driver partners to be available in both cities\" is to suggest that there's some benefit from each driver splitting her time between cities.  If the benefit comes from driving someone from one city to the other, then there's no experiment needed---The passenger's desired route will dictate the numbers.  If the managers are aiming to balance each driver's individual locations, for some reason, then the natural thing to do would be to try to get the drivers to work shifts that span the night/day or day/night transition.  That way, they could work where most needed at all times, pay the toll just once when the demand location changes, and still fulfill the stated goal of the experiment.  For the weekends, drivers could be encouraged to work different cities on different days or weeks.  But I'll just focus on the free toll initiative (which by itself should increase the number of beneficial inter-city trips, by lowering Ultimate's fares compared to Ultimate's competitors).\n",
    "    \n",
    "One metric that makes sense for this experiment is to measure how closely each driver's trip ratio comes to the proportion of all trips that each city accounts for during the trial period.  If Gotham accounted for 65% of the trips during that period, but driver Pat's trips were 60% in Metropolis, then Pat's ratio was off by 25 percentage points. Even if the ratio of all drivers' trips during Pat's shifts lined up exactly with Pat's ratio, the fact that it differed by 25 points from the overall target suggests that Pat should be focusing more on Gotham and less on Metropolis.  So more night shifts for Pat, if possible.\n",
    "    \n",
    "To measure this \"closeness to the target\", for the sake of determining how successful the experiment was, I would suggest using the mean squared error, in this case the average, over all drivers, of the square of how far away each driver's trip ratio was from the overall ratio.  I would also suggest weighting each driver's score according to how many trips he drove during the measured period of time.  I.e. if Pat drove 20 trips with that 25-point \"error\", while driver Sam drove 40 trips with a 10-point error, and those were the only drivers in the whole company, then the weighted mean squared error measurement would be the mean of Pat's $\\frac{20 * 25^2}{60}$ and Sam's $\\frac{40 * 10^2}{60}$.  I divided by 60 to normalize for the total number of trips, for a fairer comparison of scores between the experimental periods and the non-experimental ones.<b/>  \n",
    "\n",
    "<b>2.  ...And that's how I'd propose to set up the experiment:  Compare all drivers for 4 weeks and see how their scores change.  First week no experiment, second week experiment, third week no experiment, fourth week experiment.  Let the drivers know the plan during the first week, to give them time to think about how they might respond to the free tolls.  The measurements from the fourth week could be compared to the second week as an indicator of how drivers are adapting to the change, and as such, weighed more heavily in any conclusions.  Using whole week periods and alternating them twice should keep everything somewhat uniform between the control and experimental periods.\n",
    "    \n",
    "The alternative would be to separate drivers into experimental ones and regular ones, where the two groups are working at the same time, and then compare their numbers.  But I don't like that approach as much, since the fares available at any one time in any one city are a limited quantity, and by intentionally altering the behavior of the experimental group, you'd be affecting the control group as well, giving you a less clear picture of the results.  \n",
    "\n",
    "To gauge how effective free tolls are, I'd calculate the metric (weighted MSE) for every week in the historical data and plot those numbers against time, to be aware of any overall trend, including discarding possible outliers, say for holidays.  If there were some long-term overall trend, I would discard any older data that was not reflective of current conditions (e.g. old regulations or different toll prices might have influenced older numbers in a way that no longer applies).  Assuming the remaining data appeared normally distributed and non-cyclical, I'd state a significance level and then test the null hypothesis that the experiment had not had any effect on the MSE.  Then I'd check how the 2 combined toll-free weeks compared to the other 2 weeks combined, and calculate the same difference for analogous 4-week periods in the past.  Again, hypothesis testing these differences would show how significant the experiment was.  And finally, as mentioned before, I'd look at how the second toll-free week compared to the first one, to analyze how drivers were responding to the free tolls.  \n",
    "\n",
    "I'd make clear to the city operations team that the experiment was judged by how much closer it brought the drivers' personal Gotham/Metropolis ratios to the combined overall ratio.  Essentially, it measures how similar everyone's ratio is.  The managers may have actually intended to try to bring everyone's ratio to 1-to-1, equal trips in each city, but that's not how the question is posed, and if 75% of the traffic is in Gotham, it doesn't make sense as a target anyway.  There's also the question of how much money this experiment is costing Ultimate, vs. how much reward, if any, they're getting for it. </b>  \n",
    "   "
   ]
  },
  {
   "cell_type": "code",
   "execution_count": null,
   "metadata": {},
   "outputs": [],
   "source": []
  },
  {
   "cell_type": "markdown",
   "metadata": {},
   "source": [
    "# Part 3 ‐ Predictive modeling  \n",
    "\n",
    "Ultimate is interested in predicting rider retention. To help explore this question, we have provided a sample dataset of a cohort of users who signed up for an Ultimate account in\n",
    "January 2014. The data was pulled several months later; we consider a user retained if they were “active” (i.e. took a trip) in the preceding 30 days.\n",
    "We would like you to use this data set to help understand what factors are the best predictors for retention, and offer suggestions to operationalize those insights to help Ultimate.\n",
    "The data is in the attached file ultimate_data_challenge.json. See below for a detailed description of the dataset. Please include any code you wrote for the analysis and delete the dataset when you have finished with the challenge.\n",
    "1. Perform any cleaning, exploratory analysis, and/or visualizations to use the provided data for this analysis (a few sentences/plots describing your approach will suffice). What fraction of the observed users were retained?\n",
    "2. Build a predictive model to help Ultimate determine whether or not a user will be active in their 6th month on the system. Discuss why you chose your approach, what alternatives you considered, and any concerns you have. How valid is your model? Include any key indicators of model performance.\n",
    "3. Briefly discuss how Ultimate might leverage the insights gained from the model to improve its long­term rider retention (again, a few sentences will suffice).\n"
   ]
  },
  {
   "cell_type": "code",
   "execution_count": 17,
   "metadata": {},
   "outputs": [],
   "source": [
    "with open('ultimate_challenge/ultimate_data_challenge.json', 'r') as f:\n",
    "    data = json.loads(f.read())"
   ]
  },
  {
   "cell_type": "code",
   "execution_count": 18,
   "metadata": {},
   "outputs": [
    {
     "data": {
      "text/plain": [
       "50000"
      ]
     },
     "execution_count": 18,
     "metadata": {},
     "output_type": "execute_result"
    }
   ],
   "source": [
    "len(data)"
   ]
  },
  {
   "cell_type": "code",
   "execution_count": 19,
   "metadata": {},
   "outputs": [
    {
     "data": {
      "text/plain": [
       "{'city': \"King's Landing\",\n",
       " 'trips_in_first_30_days': 4,\n",
       " 'signup_date': '2014-01-25',\n",
       " 'avg_rating_of_driver': 4.7,\n",
       " 'avg_surge': 1.1,\n",
       " 'last_trip_date': '2014-06-17',\n",
       " 'phone': 'iPhone',\n",
       " 'surge_pct': 15.4,\n",
       " 'ultimate_black_user': True,\n",
       " 'weekday_pct': 46.2,\n",
       " 'avg_dist': 3.67,\n",
       " 'avg_rating_by_driver': 5.0}"
      ]
     },
     "execution_count": 19,
     "metadata": {},
     "output_type": "execute_result"
    }
   ],
   "source": [
    "data[0]"
   ]
  },
  {
   "cell_type": "code",
   "execution_count": 20,
   "metadata": {},
   "outputs": [
    {
     "data": {
      "text/html": [
       "<div>\n",
       "<style scoped>\n",
       "    .dataframe tbody tr th:only-of-type {\n",
       "        vertical-align: middle;\n",
       "    }\n",
       "\n",
       "    .dataframe tbody tr th {\n",
       "        vertical-align: top;\n",
       "    }\n",
       "\n",
       "    .dataframe thead th {\n",
       "        text-align: right;\n",
       "    }\n",
       "</style>\n",
       "<table border=\"1\" class=\"dataframe\">\n",
       "  <thead>\n",
       "    <tr style=\"text-align: right;\">\n",
       "      <th></th>\n",
       "      <th>city</th>\n",
       "      <th>trips_in_first_30_days</th>\n",
       "      <th>signup_date</th>\n",
       "      <th>avg_rating_of_driver</th>\n",
       "      <th>avg_surge</th>\n",
       "      <th>last_trip_date</th>\n",
       "      <th>phone</th>\n",
       "      <th>surge_pct</th>\n",
       "      <th>ultimate_black_user</th>\n",
       "      <th>weekday_pct</th>\n",
       "      <th>avg_dist</th>\n",
       "      <th>avg_rating_by_driver</th>\n",
       "    </tr>\n",
       "  </thead>\n",
       "  <tbody>\n",
       "    <tr>\n",
       "      <td>0</td>\n",
       "      <td>King's Landing</td>\n",
       "      <td>4</td>\n",
       "      <td>2014-01-25</td>\n",
       "      <td>4.7</td>\n",
       "      <td>1.10</td>\n",
       "      <td>2014-06-17</td>\n",
       "      <td>iPhone</td>\n",
       "      <td>15.4</td>\n",
       "      <td>True</td>\n",
       "      <td>46.2</td>\n",
       "      <td>3.67</td>\n",
       "      <td>5.0</td>\n",
       "    </tr>\n",
       "    <tr>\n",
       "      <td>1</td>\n",
       "      <td>Astapor</td>\n",
       "      <td>0</td>\n",
       "      <td>2014-01-29</td>\n",
       "      <td>5.0</td>\n",
       "      <td>1.00</td>\n",
       "      <td>2014-05-05</td>\n",
       "      <td>Android</td>\n",
       "      <td>0.0</td>\n",
       "      <td>False</td>\n",
       "      <td>50.0</td>\n",
       "      <td>8.26</td>\n",
       "      <td>5.0</td>\n",
       "    </tr>\n",
       "    <tr>\n",
       "      <td>2</td>\n",
       "      <td>Astapor</td>\n",
       "      <td>3</td>\n",
       "      <td>2014-01-06</td>\n",
       "      <td>4.3</td>\n",
       "      <td>1.00</td>\n",
       "      <td>2014-01-07</td>\n",
       "      <td>iPhone</td>\n",
       "      <td>0.0</td>\n",
       "      <td>False</td>\n",
       "      <td>100.0</td>\n",
       "      <td>0.77</td>\n",
       "      <td>5.0</td>\n",
       "    </tr>\n",
       "    <tr>\n",
       "      <td>3</td>\n",
       "      <td>King's Landing</td>\n",
       "      <td>9</td>\n",
       "      <td>2014-01-10</td>\n",
       "      <td>4.6</td>\n",
       "      <td>1.14</td>\n",
       "      <td>2014-06-29</td>\n",
       "      <td>iPhone</td>\n",
       "      <td>20.0</td>\n",
       "      <td>True</td>\n",
       "      <td>80.0</td>\n",
       "      <td>2.36</td>\n",
       "      <td>4.9</td>\n",
       "    </tr>\n",
       "    <tr>\n",
       "      <td>4</td>\n",
       "      <td>Winterfell</td>\n",
       "      <td>14</td>\n",
       "      <td>2014-01-27</td>\n",
       "      <td>4.4</td>\n",
       "      <td>1.19</td>\n",
       "      <td>2014-03-15</td>\n",
       "      <td>Android</td>\n",
       "      <td>11.8</td>\n",
       "      <td>False</td>\n",
       "      <td>82.4</td>\n",
       "      <td>3.13</td>\n",
       "      <td>4.9</td>\n",
       "    </tr>\n",
       "  </tbody>\n",
       "</table>\n",
       "</div>"
      ],
      "text/plain": [
       "             city  trips_in_first_30_days signup_date  avg_rating_of_driver  \\\n",
       "0  King's Landing                       4  2014-01-25                   4.7   \n",
       "1         Astapor                       0  2014-01-29                   5.0   \n",
       "2         Astapor                       3  2014-01-06                   4.3   \n",
       "3  King's Landing                       9  2014-01-10                   4.6   \n",
       "4      Winterfell                      14  2014-01-27                   4.4   \n",
       "\n",
       "   avg_surge last_trip_date    phone  surge_pct  ultimate_black_user  \\\n",
       "0       1.10     2014-06-17   iPhone       15.4                 True   \n",
       "1       1.00     2014-05-05  Android        0.0                False   \n",
       "2       1.00     2014-01-07   iPhone        0.0                False   \n",
       "3       1.14     2014-06-29   iPhone       20.0                 True   \n",
       "4       1.19     2014-03-15  Android       11.8                False   \n",
       "\n",
       "   weekday_pct  avg_dist  avg_rating_by_driver  \n",
       "0         46.2      3.67                   5.0  \n",
       "1         50.0      8.26                   5.0  \n",
       "2        100.0      0.77                   5.0  \n",
       "3         80.0      2.36                   4.9  \n",
       "4         82.4      3.13                   4.9  "
      ]
     },
     "execution_count": 20,
     "metadata": {},
     "output_type": "execute_result"
    }
   ],
   "source": [
    "df = pd.DataFrame(data)\n",
    "df.head()"
   ]
  },
  {
   "cell_type": "code",
   "execution_count": 21,
   "metadata": {},
   "outputs": [
    {
     "name": "stdout",
     "output_type": "stream",
     "text": [
      "<class 'pandas.core.frame.DataFrame'>\n",
      "RangeIndex: 50000 entries, 0 to 49999\n",
      "Data columns (total 12 columns):\n",
      "city                      50000 non-null object\n",
      "trips_in_first_30_days    50000 non-null int64\n",
      "signup_date               50000 non-null object\n",
      "avg_rating_of_driver      41878 non-null float64\n",
      "avg_surge                 50000 non-null float64\n",
      "last_trip_date            50000 non-null object\n",
      "phone                     49604 non-null object\n",
      "surge_pct                 50000 non-null float64\n",
      "ultimate_black_user       50000 non-null bool\n",
      "weekday_pct               50000 non-null float64\n",
      "avg_dist                  50000 non-null float64\n",
      "avg_rating_by_driver      49799 non-null float64\n",
      "dtypes: bool(1), float64(6), int64(1), object(4)\n",
      "memory usage: 4.2+ MB\n"
     ]
    }
   ],
   "source": [
    "df.info()"
   ]
  },
  {
   "cell_type": "markdown",
   "metadata": {},
   "source": [
    "- Null values occur only in the ratings and in the phone type.\n",
    "- Dates will need to be converted to datetimes from strings."
   ]
  },
  {
   "cell_type": "code",
   "execution_count": 22,
   "metadata": {},
   "outputs": [
    {
     "data": {
      "text/html": [
       "<div>\n",
       "<style scoped>\n",
       "    .dataframe tbody tr th:only-of-type {\n",
       "        vertical-align: middle;\n",
       "    }\n",
       "\n",
       "    .dataframe tbody tr th {\n",
       "        vertical-align: top;\n",
       "    }\n",
       "\n",
       "    .dataframe thead th {\n",
       "        text-align: right;\n",
       "    }\n",
       "</style>\n",
       "<table border=\"1\" class=\"dataframe\">\n",
       "  <thead>\n",
       "    <tr style=\"text-align: right;\">\n",
       "      <th></th>\n",
       "      <th>trips_in_first_30_days</th>\n",
       "      <th>avg_rating_of_driver</th>\n",
       "      <th>avg_surge</th>\n",
       "      <th>surge_pct</th>\n",
       "      <th>weekday_pct</th>\n",
       "      <th>avg_dist</th>\n",
       "      <th>avg_rating_by_driver</th>\n",
       "    </tr>\n",
       "  </thead>\n",
       "  <tbody>\n",
       "    <tr>\n",
       "      <td>count</td>\n",
       "      <td>50000.000000</td>\n",
       "      <td>41878.000000</td>\n",
       "      <td>50000.000000</td>\n",
       "      <td>50000.000000</td>\n",
       "      <td>50000.000000</td>\n",
       "      <td>50000.000000</td>\n",
       "      <td>49799.000000</td>\n",
       "    </tr>\n",
       "    <tr>\n",
       "      <td>mean</td>\n",
       "      <td>2.278200</td>\n",
       "      <td>4.601559</td>\n",
       "      <td>1.074764</td>\n",
       "      <td>8.849536</td>\n",
       "      <td>60.926084</td>\n",
       "      <td>5.796827</td>\n",
       "      <td>4.778158</td>\n",
       "    </tr>\n",
       "    <tr>\n",
       "      <td>std</td>\n",
       "      <td>3.792684</td>\n",
       "      <td>0.617338</td>\n",
       "      <td>0.222336</td>\n",
       "      <td>19.958811</td>\n",
       "      <td>37.081503</td>\n",
       "      <td>5.707357</td>\n",
       "      <td>0.446652</td>\n",
       "    </tr>\n",
       "    <tr>\n",
       "      <td>min</td>\n",
       "      <td>0.000000</td>\n",
       "      <td>1.000000</td>\n",
       "      <td>1.000000</td>\n",
       "      <td>0.000000</td>\n",
       "      <td>0.000000</td>\n",
       "      <td>0.000000</td>\n",
       "      <td>1.000000</td>\n",
       "    </tr>\n",
       "    <tr>\n",
       "      <td>25%</td>\n",
       "      <td>0.000000</td>\n",
       "      <td>4.300000</td>\n",
       "      <td>1.000000</td>\n",
       "      <td>0.000000</td>\n",
       "      <td>33.300000</td>\n",
       "      <td>2.420000</td>\n",
       "      <td>4.700000</td>\n",
       "    </tr>\n",
       "    <tr>\n",
       "      <td>50%</td>\n",
       "      <td>1.000000</td>\n",
       "      <td>4.900000</td>\n",
       "      <td>1.000000</td>\n",
       "      <td>0.000000</td>\n",
       "      <td>66.700000</td>\n",
       "      <td>3.880000</td>\n",
       "      <td>5.000000</td>\n",
       "    </tr>\n",
       "    <tr>\n",
       "      <td>75%</td>\n",
       "      <td>3.000000</td>\n",
       "      <td>5.000000</td>\n",
       "      <td>1.050000</td>\n",
       "      <td>8.600000</td>\n",
       "      <td>100.000000</td>\n",
       "      <td>6.940000</td>\n",
       "      <td>5.000000</td>\n",
       "    </tr>\n",
       "    <tr>\n",
       "      <td>max</td>\n",
       "      <td>125.000000</td>\n",
       "      <td>5.000000</td>\n",
       "      <td>8.000000</td>\n",
       "      <td>100.000000</td>\n",
       "      <td>100.000000</td>\n",
       "      <td>160.960000</td>\n",
       "      <td>5.000000</td>\n",
       "    </tr>\n",
       "  </tbody>\n",
       "</table>\n",
       "</div>"
      ],
      "text/plain": [
       "       trips_in_first_30_days  avg_rating_of_driver     avg_surge  \\\n",
       "count            50000.000000          41878.000000  50000.000000   \n",
       "mean                 2.278200              4.601559      1.074764   \n",
       "std                  3.792684              0.617338      0.222336   \n",
       "min                  0.000000              1.000000      1.000000   \n",
       "25%                  0.000000              4.300000      1.000000   \n",
       "50%                  1.000000              4.900000      1.000000   \n",
       "75%                  3.000000              5.000000      1.050000   \n",
       "max                125.000000              5.000000      8.000000   \n",
       "\n",
       "          surge_pct   weekday_pct      avg_dist  avg_rating_by_driver  \n",
       "count  50000.000000  50000.000000  50000.000000          49799.000000  \n",
       "mean       8.849536     60.926084      5.796827              4.778158  \n",
       "std       19.958811     37.081503      5.707357              0.446652  \n",
       "min        0.000000      0.000000      0.000000              1.000000  \n",
       "25%        0.000000     33.300000      2.420000              4.700000  \n",
       "50%        0.000000     66.700000      3.880000              5.000000  \n",
       "75%        8.600000    100.000000      6.940000              5.000000  \n",
       "max      100.000000    100.000000    160.960000              5.000000  "
      ]
     },
     "execution_count": 22,
     "metadata": {},
     "output_type": "execute_result"
    }
   ],
   "source": [
    "df.describe()"
   ]
  },
  {
   "cell_type": "code",
   "execution_count": 23,
   "metadata": {},
   "outputs": [],
   "source": [
    "# make a \"NONE\" phone type, in case that predicts anything\n",
    "df.phone.fillna('NONE', inplace=True)"
   ]
  },
  {
   "cell_type": "code",
   "execution_count": 24,
   "metadata": {},
   "outputs": [],
   "source": [
    "# convert date strings to date times\n",
    "df['last_trip_date'] = pd.to_datetime(df.last_trip_date)\n",
    "df['signup_date'] = pd.to_datetime(df.signup_date)"
   ]
  },
  {
   "cell_type": "code",
   "execution_count": 25,
   "metadata": {},
   "outputs": [
    {
     "data": {
      "image/png": "[encoded data removed]",
      "text/plain": [
       "<Figure size 432x288 with 1 Axes>"
      ]
     },
     "metadata": {
      "needs_background": "light"
     },
     "output_type": "display_data"
    }
   ],
   "source": [
    "df.groupby('last_trip_date').size().plot();"
   ]
  },
  {
   "cell_type": "code",
   "execution_count": 26,
   "metadata": {},
   "outputs": [
    {
     "name": "stdout",
     "output_type": "stream",
     "text": [
      "37.61% of Users were retained.\n"
     ]
    }
   ],
   "source": [
    "df['retained'] = df.last_trip_date >= '2014-06-01'\n",
    "print(f'{round(df.retained.mean() * 100, 2)}% of Users were retained.')"
   ]
  },
  {
   "cell_type": "code",
   "execution_count": 27,
   "metadata": {},
   "outputs": [
    {
     "data": {
      "image/png": "[encoded data removed]",
      "text/plain": [
       "<Figure size 864x216 with 3 Axes>"
      ]
     },
     "metadata": {},
     "output_type": "display_data"
    }
   ],
   "source": [
    "plt.figure(figsize=(12, 3))\n",
    "plt.subplot(131)\n",
    "citygroup = df.groupby('city').size()\n",
    "plt.pie(citygroup, labels=citygroup.keys())\n",
    "plt.title('User City')\n",
    "plt.subplot(132)\n",
    "phonegroup = df.groupby('phone').size()\n",
    "plt.pie(phonegroup, labels=phonegroup.keys())\n",
    "plt.title(\"User Phone Type\")\n",
    "plt.subplot(133)\n",
    "blackgroup = df.groupby('ultimate_black_user').size()\n",
    "plt.pie(blackgroup, labels=np.where(blackgroup.keys(), 'Yes', 'No'))\n",
    "plt.title('Ultimate Black User');"
   ]
  },
  {
   "cell_type": "code",
   "execution_count": 28,
   "metadata": {},
   "outputs": [
    {
     "data": {
      "image/png": "[encoded data removed]",
      "text/plain": [
       "<Figure size 720x720 with 9 Axes>"
      ]
     },
     "metadata": {
      "needs_background": "light"
     },
     "output_type": "display_data"
    }
   ],
   "source": [
    "df.hist(column=['trips_in_first_30_days', 'signup_date', 'avg_rating_of_driver',\n",
    "       'avg_surge', 'last_trip_date', 'surge_pct',\n",
    "       'weekday_pct', 'avg_dist',\n",
    "       'avg_rating_by_driver'], figsize=(10, 10), bins=20);"
   ]
  },
  {
   "cell_type": "code",
   "execution_count": 29,
   "metadata": {},
   "outputs": [
    {
     "data": {
      "text/html": [
       "<div>\n",
       "<style scoped>\n",
       "    .dataframe tbody tr th:only-of-type {\n",
       "        vertical-align: middle;\n",
       "    }\n",
       "\n",
       "    .dataframe tbody tr th {\n",
       "        vertical-align: top;\n",
       "    }\n",
       "\n",
       "    .dataframe thead th {\n",
       "        text-align: right;\n",
       "    }\n",
       "</style>\n",
       "<table border=\"1\" class=\"dataframe\">\n",
       "  <thead>\n",
       "    <tr style=\"text-align: right;\">\n",
       "      <th></th>\n",
       "      <th>trips_in_first_30_days</th>\n",
       "      <th>avg_rating_of_driver</th>\n",
       "      <th>avg_surge</th>\n",
       "      <th>surge_pct</th>\n",
       "      <th>ultimate_black_user</th>\n",
       "      <th>weekday_pct</th>\n",
       "      <th>avg_dist</th>\n",
       "      <th>avg_rating_by_driver</th>\n",
       "      <th>retained</th>\n",
       "    </tr>\n",
       "  </thead>\n",
       "  <tbody>\n",
       "    <tr>\n",
       "      <td>trips_in_first_30_days</td>\n",
       "      <td>1.000000</td>\n",
       "      <td>-0.011302</td>\n",
       "      <td>-0.001841</td>\n",
       "      <td>0.005720</td>\n",
       "      <td>0.112210</td>\n",
       "      <td>0.050388</td>\n",
       "      <td>-0.136329</td>\n",
       "      <td>-0.039115</td>\n",
       "      <td>0.210463</td>\n",
       "    </tr>\n",
       "    <tr>\n",
       "      <td>avg_rating_of_driver</td>\n",
       "      <td>-0.011302</td>\n",
       "      <td>1.000000</td>\n",
       "      <td>-0.026189</td>\n",
       "      <td>-0.003899</td>\n",
       "      <td>-0.002086</td>\n",
       "      <td>0.014630</td>\n",
       "      <td>0.034509</td>\n",
       "      <td>0.123175</td>\n",
       "      <td>-0.011653</td>\n",
       "    </tr>\n",
       "    <tr>\n",
       "      <td>avg_surge</td>\n",
       "      <td>-0.001841</td>\n",
       "      <td>-0.026189</td>\n",
       "      <td>1.000000</td>\n",
       "      <td>0.793582</td>\n",
       "      <td>-0.078791</td>\n",
       "      <td>-0.110071</td>\n",
       "      <td>-0.081491</td>\n",
       "      <td>0.010597</td>\n",
       "      <td>-0.003333</td>\n",
       "    </tr>\n",
       "    <tr>\n",
       "      <td>surge_pct</td>\n",
       "      <td>0.005720</td>\n",
       "      <td>-0.003899</td>\n",
       "      <td>0.793582</td>\n",
       "      <td>1.000000</td>\n",
       "      <td>-0.106861</td>\n",
       "      <td>-0.144918</td>\n",
       "      <td>-0.104414</td>\n",
       "      <td>0.020103</td>\n",
       "      <td>0.011797</td>\n",
       "    </tr>\n",
       "    <tr>\n",
       "      <td>ultimate_black_user</td>\n",
       "      <td>0.112210</td>\n",
       "      <td>-0.002086</td>\n",
       "      <td>-0.078791</td>\n",
       "      <td>-0.106861</td>\n",
       "      <td>1.000000</td>\n",
       "      <td>0.035998</td>\n",
       "      <td>0.032310</td>\n",
       "      <td>0.009343</td>\n",
       "      <td>0.205002</td>\n",
       "    </tr>\n",
       "    <tr>\n",
       "      <td>weekday_pct</td>\n",
       "      <td>0.050388</td>\n",
       "      <td>0.014630</td>\n",
       "      <td>-0.110071</td>\n",
       "      <td>-0.144918</td>\n",
       "      <td>0.035998</td>\n",
       "      <td>1.000000</td>\n",
       "      <td>0.101652</td>\n",
       "      <td>0.020442</td>\n",
       "      <td>0.009693</td>\n",
       "    </tr>\n",
       "    <tr>\n",
       "      <td>avg_dist</td>\n",
       "      <td>-0.136329</td>\n",
       "      <td>0.034509</td>\n",
       "      <td>-0.081491</td>\n",
       "      <td>-0.104414</td>\n",
       "      <td>0.032310</td>\n",
       "      <td>0.101652</td>\n",
       "      <td>1.000000</td>\n",
       "      <td>0.080540</td>\n",
       "      <td>-0.092780</td>\n",
       "    </tr>\n",
       "    <tr>\n",
       "      <td>avg_rating_by_driver</td>\n",
       "      <td>-0.039115</td>\n",
       "      <td>0.123175</td>\n",
       "      <td>0.010597</td>\n",
       "      <td>0.020103</td>\n",
       "      <td>0.009343</td>\n",
       "      <td>0.020442</td>\n",
       "      <td>0.080540</td>\n",
       "      <td>1.000000</td>\n",
       "      <td>-0.026791</td>\n",
       "    </tr>\n",
       "    <tr>\n",
       "      <td>retained</td>\n",
       "      <td>0.210463</td>\n",
       "      <td>-0.011653</td>\n",
       "      <td>-0.003333</td>\n",
       "      <td>0.011797</td>\n",
       "      <td>0.205002</td>\n",
       "      <td>0.009693</td>\n",
       "      <td>-0.092780</td>\n",
       "      <td>-0.026791</td>\n",
       "      <td>1.000000</td>\n",
       "    </tr>\n",
       "  </tbody>\n",
       "</table>\n",
       "</div>"
      ],
      "text/plain": [
       "                        trips_in_first_30_days  avg_rating_of_driver  \\\n",
       "trips_in_first_30_days                1.000000             -0.011302   \n",
       "avg_rating_of_driver                 -0.011302              1.000000   \n",
       "avg_surge                            -0.001841             -0.026189   \n",
       "surge_pct                             0.005720             -0.003899   \n",
       "ultimate_black_user                   0.112210             -0.002086   \n",
       "weekday_pct                           0.050388              0.014630   \n",
       "avg_dist                             -0.136329              0.034509   \n",
       "avg_rating_by_driver                 -0.039115              0.123175   \n",
       "retained                              0.210463             -0.011653   \n",
       "\n",
       "                        avg_surge  surge_pct  ultimate_black_user  \\\n",
       "trips_in_first_30_days  -0.001841   0.005720             0.112210   \n",
       "avg_rating_of_driver    -0.026189  -0.003899            -0.002086   \n",
       "avg_surge                1.000000   0.793582            -0.078791   \n",
       "surge_pct                0.793582   1.000000            -0.106861   \n",
       "ultimate_black_user     -0.078791  -0.106861             1.000000   \n",
       "weekday_pct             -0.110071  -0.144918             0.035998   \n",
       "avg_dist                -0.081491  -0.104414             0.032310   \n",
       "avg_rating_by_driver     0.010597   0.020103             0.009343   \n",
       "retained                -0.003333   0.011797             0.205002   \n",
       "\n",
       "                        weekday_pct  avg_dist  avg_rating_by_driver  retained  \n",
       "trips_in_first_30_days     0.050388 -0.136329             -0.039115  0.210463  \n",
       "avg_rating_of_driver       0.014630  0.034509              0.123175 -0.011653  \n",
       "avg_surge                 -0.110071 -0.081491              0.010597 -0.003333  \n",
       "surge_pct                 -0.144918 -0.104414              0.020103  0.011797  \n",
       "ultimate_black_user        0.035998  0.032310              0.009343  0.205002  \n",
       "weekday_pct                1.000000  0.101652              0.020442  0.009693  \n",
       "avg_dist                   0.101652  1.000000              0.080540 -0.092780  \n",
       "avg_rating_by_driver       0.020442  0.080540              1.000000 -0.026791  \n",
       "retained                   0.009693 -0.092780             -0.026791  1.000000  "
      ]
     },
     "execution_count": 29,
     "metadata": {},
     "output_type": "execute_result"
    }
   ],
   "source": [
    "df.corr()"
   ]
  },
  {
   "cell_type": "markdown",
   "metadata": {},
   "source": [
    "#### Among numerical and boolean features, the 2 that are most predictive of retention are the # of trips in the first 30 days and whether the User is an Ultimate Black User.   The more trips someone took in their first month, the more likely they are to be an active user 5 months later, and Ultimate Black users are similarly more likely to be active."
   ]
  },
  {
   "cell_type": "code",
   "execution_count": 30,
   "metadata": {},
   "outputs": [
    {
     "data": {
      "text/plain": [
       "Index(['trips_in_first_30_days', 'signup_date', 'avg_rating_of_driver',\n",
       "       'avg_surge', 'last_trip_date', 'surge_pct', 'ultimate_black_user',\n",
       "       'weekday_pct', 'avg_dist', 'avg_rating_by_driver', 'retained',\n",
       "       'city_Astapor', 'city_King's Landing', 'city_Winterfell',\n",
       "       'phone_Android', 'phone_NONE', 'phone_iPhone'],\n",
       "      dtype='object')"
      ]
     },
     "execution_count": 30,
     "metadata": {},
     "output_type": "execute_result"
    }
   ],
   "source": [
    "# One-hot the city and phone features \n",
    "df = pd.get_dummies(df)\n",
    "df.columns"
   ]
  },
  {
   "cell_type": "code",
   "execution_count": 31,
   "metadata": {},
   "outputs": [
    {
     "data": {
      "text/plain": [
       "retained               1.000000\n",
       "city_King's Landing    0.262284\n",
       "city_Winterfell       -0.046611\n",
       "phone_NONE            -0.007419\n",
       "phone_iPhone           0.225244\n",
       "Name: retained, dtype: float64"
      ]
     },
     "execution_count": 31,
     "metadata": {},
     "output_type": "execute_result"
    }
   ],
   "source": [
    "df[['retained', \"city_King's Landing\", 'city_Winterfell',\n",
    "    'phone_NONE', 'phone_iPhone']].corr().loc['retained',:]"
   ]
  },
  {
   "cell_type": "markdown",
   "metadata": {},
   "source": [
    "#### So iPhone users are much more likely to stick with Ultimate than are Android users, and people who signed up in King's Landing are much more likely to be active later than those who signed up in Astapor."
   ]
  },
  {
   "cell_type": "code",
   "execution_count": 32,
   "metadata": {},
   "outputs": [
    {
     "name": "stdout",
     "output_type": "stream",
     "text": [
      "           Retention Rate\n",
      "all users       0.376\n",
      "Astapor         0.256\n",
      "King's Landing  0.628\n",
      "iPhone user     0.449\n",
      "Android user    0.209\n"
     ]
    }
   ],
   "source": [
    "print('           Retention Rate')\n",
    "print('all users      ', df.retained.mean().round(3))\n",
    "print('Astapor        ', df[df.city_Astapor==1].retained.mean().round(3))\n",
    "print('King\\'s Landing ', df[df[\"city_King's Landing\"]==1].retained.mean().round(3))\n",
    "print('iPhone user    ', df[df.phone_iPhone==1].retained.mean().round(3))\n",
    "print('Android user   ', df[df.phone_Android==1].retained.mean().round(3))"
   ]
  },
  {
   "cell_type": "code",
   "execution_count": 33,
   "metadata": {},
   "outputs": [],
   "source": [
    "# fill in the missing rating values with the means, for ML models\n",
    "df.avg_rating_by_driver.fillna(df.avg_rating_by_driver.mean(), inplace=True)\n",
    "df.avg_rating_of_driver.fillna(df.avg_rating_of_driver.mean(), inplace=True)"
   ]
  },
  {
   "cell_type": "markdown",
   "metadata": {},
   "source": [
    "This predictive task looks like a good candidate for either logistic regression or decision trees."
   ]
  },
  {
   "cell_type": "code",
   "execution_count": 34,
   "metadata": {},
   "outputs": [],
   "source": [
    "from sklearn.linear_model import LogisticRegressionCV\n",
    "from sklearn.ensemble import GradientBoostingClassifier\n",
    "from sklearn.preprocessing import StandardScaler\n",
    "from sklearn.model_selection import train_test_split"
   ]
  },
  {
   "cell_type": "code",
   "execution_count": 35,
   "metadata": {},
   "outputs": [],
   "source": [
    "train, test = train_test_split(df, test_size = .15, random_state=0)"
   ]
  },
  {
   "cell_type": "code",
   "execution_count": 36,
   "metadata": {},
   "outputs": [
    {
     "data": {
      "text/plain": [
       "Index(['trips_in_first_30_days', 'signup_date', 'avg_rating_of_driver',\n",
       "       'avg_surge', 'last_trip_date', 'surge_pct', 'ultimate_black_user',\n",
       "       'weekday_pct', 'avg_dist', 'avg_rating_by_driver', 'retained',\n",
       "       'city_Astapor', 'city_King's Landing', 'city_Winterfell',\n",
       "       'phone_Android', 'phone_NONE', 'phone_iPhone'],\n",
       "      dtype='object')"
      ]
     },
     "execution_count": 36,
     "metadata": {},
     "output_type": "execute_result"
    }
   ],
   "source": [
    "train.columns"
   ]
  },
  {
   "cell_type": "code",
   "execution_count": 37,
   "metadata": {},
   "outputs": [],
   "source": [
    "logregtrain = train.drop(columns=['signup_date', 'last_trip_date', 'retained'])\n",
    "logregtest  = test.drop(columns=['signup_date', 'last_trip_date', 'retained'])\n",
    "scaler = StandardScaler().fit(logregtrain)\n",
    "trainers = scaler.transform(logregtrain)\n",
    "testers = scaler.transform(logregtest)"
   ]
  },
  {
   "cell_type": "code",
   "execution_count": 38,
   "metadata": {},
   "outputs": [
    {
     "data": {
      "text/plain": [
       "LogisticRegressionCV(Cs=10, class_weight=None, cv=None, dual=False,\n",
       "                     fit_intercept=True, intercept_scaling=1.0, l1_ratios=None,\n",
       "                     max_iter=100, multi_class='auto', n_jobs=None,\n",
       "                     penalty='l2', random_state=0, refit=True, scoring=None,\n",
       "                     solver='lbfgs', tol=0.0001, verbose=0)"
      ]
     },
     "execution_count": 38,
     "metadata": {},
     "output_type": "execute_result"
    }
   ],
   "source": [
    "logreg = LogisticRegressionCV(random_state=0)\n",
    "logreg.fit(trainers, train.retained)"
   ]
  },
  {
   "cell_type": "code",
   "execution_count": 39,
   "metadata": {},
   "outputs": [
    {
     "data": {
      "text/plain": [
       "0.7204"
      ]
     },
     "execution_count": 39,
     "metadata": {},
     "output_type": "execute_result"
    }
   ],
   "source": [
    "logreg.score(testers, test.retained)"
   ]
  },
  {
   "cell_type": "code",
   "execution_count": 40,
   "metadata": {},
   "outputs": [
    {
     "data": {
      "text/plain": [
       "[(\"city_King's Landing\", 0.37845559287476593),\n",
       " ('trips_in_first_30_days', 0.37251839954413496),\n",
       " ('ultimate_black_user', 0.3586789732694671),\n",
       " ('city_Astapor', -0.2661214793663334),\n",
       " ('phone_Android', -0.2282895615758412),\n",
       " ('phone_iPhone', 0.2266871454355973),\n",
       " ('avg_dist', -0.17140082506925292),\n",
       " ('avg_rating_by_driver', -0.05676215271609383),\n",
       " ('city_Winterfell', -0.05318204891957221),\n",
       " ('surge_pct', 0.05024852251403886),\n",
       " ('avg_rating_of_driver', -0.029314136327193027),\n",
       " ('avg_surge', -0.018144326163134165),\n",
       " ('weekday_pct', -0.006822083370772605),\n",
       " ('phone_NONE', -0.0005041562166575679)]"
      ]
     },
     "execution_count": 40,
     "metadata": {},
     "output_type": "execute_result"
    }
   ],
   "source": [
    "# check out the weights, sorted by importance\n",
    "sorted(list(zip(logregtrain.columns, logreg.coef_[0])), reverse=True, key=lambda t:abs(t[1]))"
   ]
  },
  {
   "cell_type": "markdown",
   "metadata": {},
   "source": [
    "#### 72% accuracy doesn't seem very impressive, considering the baseline score is 63% (predicting \"not retained\" for every user).  Maybe decision trees could improve that by picking up on the interaction between features."
   ]
  },
  {
   "cell_type": "code",
   "execution_count": 41,
   "metadata": {},
   "outputs": [],
   "source": [
    "traintrees = train.drop(columns=['signup_date', 'last_trip_date', 'retained'])\n",
    "testtrees  = test.drop(columns=['signup_date', 'last_trip_date', 'retained'])"
   ]
  },
  {
   "cell_type": "code",
   "execution_count": 42,
   "metadata": {},
   "outputs": [
    {
     "data": {
      "text/plain": [
       "GradientBoostingClassifier(ccp_alpha=0.0, criterion='friedman_mse', init=None,\n",
       "                           learning_rate=0.1, loss='deviance', max_depth=3,\n",
       "                           max_features=None, max_leaf_nodes=None,\n",
       "                           min_impurity_decrease=0.0, min_impurity_split=None,\n",
       "                           min_samples_leaf=1, min_samples_split=2,\n",
       "                           min_weight_fraction_leaf=0.0, n_estimators=200,\n",
       "                           n_iter_no_change=5, presort='deprecated',\n",
       "                           random_state=0, subsample=1.0, tol=0.0001,\n",
       "                           validation_fraction=0.1, verbose=0,\n",
       "                           warm_start=False)"
      ]
     },
     "execution_count": 42,
     "metadata": {},
     "output_type": "execute_result"
    }
   ],
   "source": [
    "gbc = GradientBoostingClassifier(n_estimators=200, n_iter_no_change=5, random_state=0)\n",
    "gbc.fit(traintrees, train.retained)"
   ]
  },
  {
   "cell_type": "code",
   "execution_count": 43,
   "metadata": {},
   "outputs": [
    {
     "data": {
      "text/plain": [
       "0.7882666666666667"
      ]
     },
     "execution_count": 43,
     "metadata": {},
     "output_type": "execute_result"
    }
   ],
   "source": [
    "# check the score\n",
    "gbc_preds = gbc.predict(testtrees)\n",
    "np.mean(gbc_preds == test.retained)"
   ]
  },
  {
   "cell_type": "code",
   "execution_count": 45,
   "metadata": {},
   "outputs": [
    {
     "data": {
      "text/plain": [
       "[('avg_rating_by_driver', 0.23),\n",
       " ('surge_pct', 0.189),\n",
       " ('weekday_pct', 0.164),\n",
       " (\"city_King's Landing\", 0.148),\n",
       " ('ultimate_black_user', 0.068),\n",
       " ('phone_Android', 0.067),\n",
       " ('trips_in_first_30_days', 0.046),\n",
       " ('city_Astapor', 0.029),\n",
       " ('phone_iPhone', 0.022),\n",
       " ('avg_dist', 0.018),\n",
       " ('avg_rating_of_driver', 0.013),\n",
       " ('avg_surge', 0.006),\n",
       " ('city_Winterfell', 0.0),\n",
       " ('phone_NONE', 0.0)]"
      ]
     },
     "execution_count": 45,
     "metadata": {},
     "output_type": "execute_result"
    }
   ],
   "source": [
    "sorted(list(zip(traintrees.columns, gbc.feature_importances_.round(3))), reverse=True, key=lambda t:t[1])"
   ]
  },
  {
   "cell_type": "markdown",
   "metadata": {},
   "source": [
    "## Conclusions from predictive modeling/exploration:"
   ]
  },
  {
   "cell_type": "markdown",
   "metadata": {},
   "source": [
    "Both the logistic regression classifier and the correlation matrices for the data features show that certain users are more likely to remain active longer.  Namely, people who signed up in King's Landing, people with iPhones, people who sign up as Ultimate Black Users, and people who use the service more in their first month.  If Ultimate's decision-makers are simply looking to best predict who will remain active with their service, the boosted trees model is clearly more accurate for that purpose (79% accurate vs. 72%).  But that's an entirely different decision from how to improve retention rates.  If they want to focus on their strengths, they should place more ads and drivers in King's Landing, further promote the Ultimate Black program, and do more to keep users active during their first month.  But perhaps they should start by improving their Android app.  There's very likely some kind of annoyance for Android users that is turning them off.  Or maybe users in Astapor have longer wait times and are thus switching to a competitor of Ultimate.  "
   ]
  },
  {
   "cell_type": "code",
   "execution_count": null,
   "metadata": {},
   "outputs": [],
   "source": []
  }
 ],
 "metadata": {
  "kernelspec": {
   "display_name": "Python 3",
   "language": "python",
   "name": "python3"
  },
  "language_info": {
   "codemirror_mode": {
    "name": "ipython",
    "version": 3
   },
   "file_extension": ".py",
   "mimetype": "text/x-python",
   "name": "python",
   "nbconvert_exporter": "python",
   "pygments_lexer": "ipython3",
   "version": "3.7.4"
  }
 },
 "nbformat": 4,
 "nbformat_minor": 2
}
