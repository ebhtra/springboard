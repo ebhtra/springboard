{
 "cells": [
  {
   "cell_type": "code",
   "execution_count": 1,
   "metadata": {
    "collapsed": true
   },
   "outputs": [],
   "source": [
    "import pandas as pd\n",
    "import numpy as np\n",
    "from glob import glob\n",
    "import matplotlib.pyplot as plt"
   ]
  },
  {
   "cell_type": "code",
   "execution_count": 2,
   "metadata": {
    "collapsed": false
   },
   "outputs": [
    {
     "data": {
      "text/plain": [
       "['capstone_1/checkins/df_12',\n",
       " 'capstone_1/checkins/df_0',\n",
       " 'capstone_1/checkins/df_7',\n",
       " 'capstone_1/checkins/df_9',\n",
       " 'capstone_1/checkins/df_8',\n",
       " 'capstone_1/checkins/df_6',\n",
       " 'capstone_1/checkins/df_11',\n",
       " 'capstone_1/checkins/df_10',\n",
       " 'capstone_1/checkins/df_4',\n",
       " 'capstone_1/checkins/df_3',\n",
       " 'capstone_1/checkins/df_2',\n",
       " 'capstone_1/checkins/df_5']"
      ]
     },
     "execution_count": 2,
     "metadata": {},
     "output_type": "execute_result"
    }
   ],
   "source": [
    "dfs = glob('capstone_1/checkins/*')\n",
    "dfs"
   ]
  },
  {
   "cell_type": "code",
   "execution_count": 3,
   "metadata": {
    "collapsed": true
   },
   "outputs": [],
   "source": [
    "biggie = pd.concat([pd.read_csv(df) for df in dfs], ignore_index=True)"
   ]
  },
  {
   "cell_type": "code",
   "execution_count": 9,
   "metadata": {
    "collapsed": false
   },
   "outputs": [
    {
     "name": "stdout",
     "output_type": "stream",
     "text": [
      "(1571140, 27)\n"
     ]
    },
    {
     "data": {
      "text/plain": [
       "Index(['Unnamed: 0', 'checkin_id', 'beer.bid', 'user.uid', 'rating_score',\n",
       "       'beer.beer_abv', 'brewery.brewery_name', 'beer.beer_name',\n",
       "       'beer.beer_style', 'brewery.brewery_id', 'brewery.brewery_type',\n",
       "       'brewery.country_name', 'brewery.location.brewery_city',\n",
       "       'brewery.location.brewery_state', 'brewery.location.lat',\n",
       "       'brewery.location.lng', 'user.user_name', 'venue.categories.items',\n",
       "       'venue.location.lat', 'venue.location.lng', 'venue.location.venue_city',\n",
       "       'venue.location.venue_country', 'venue.location.venue_state',\n",
       "       'venue.primary_category', 'venue.venue_id', 'checkin_comment',\n",
       "       'created_at'],\n",
       "      dtype='object')"
      ]
     },
     "execution_count": 9,
     "metadata": {},
     "output_type": "execute_result"
    }
   ],
   "source": [
    "print(biggie.shape)\n",
    "biggie.columns"
   ]
  },
  {
   "cell_type": "code",
   "execution_count": 13,
   "metadata": {
    "collapsed": false
   },
   "outputs": [
    {
     "data": {
      "text/plain": [
       "751526"
      ]
     },
     "execution_count": 13,
     "metadata": {},
     "output_type": "execute_result"
    }
   ],
   "source": [
    "sum(biggie['beer.beer_style'].apply(lambda x: x.startswith('IPA')))"
   ]
  },
  {
   "cell_type": "code",
   "execution_count": 12,
   "metadata": {
    "collapsed": false
   },
   "outputs": [
    {
     "name": "stdout",
     "output_type": "stream",
     "text": [
      "<class 'pandas.core.frame.DataFrame'>\n",
      "RangeIndex: 1571140 entries, 0 to 1571139\n",
      "Data columns (total 27 columns):\n",
      "Unnamed: 0                        1571140 non-null int64\n",
      "checkin_id                        1571140 non-null int64\n",
      "beer.bid                          1571140 non-null int64\n",
      "user.uid                          1571140 non-null int64\n",
      "rating_score                      1571140 non-null float64\n",
      "beer.beer_abv                     1571140 non-null float64\n",
      "brewery.brewery_name              1571140 non-null object\n",
      "beer.beer_name                    1571140 non-null object\n",
      "beer.beer_style                   1571140 non-null object\n",
      "brewery.brewery_id                1571140 non-null int64\n",
      "brewery.brewery_type              1571140 non-null object\n",
      "brewery.country_name              1571140 non-null object\n",
      "brewery.location.brewery_city     1554436 non-null object\n",
      "brewery.location.brewery_state    1546325 non-null object\n",
      "brewery.location.lat              1571140 non-null float64\n",
      "brewery.location.lng              1571140 non-null float64\n",
      "user.user_name                    1571140 non-null object\n",
      "venue.categories.items            1101509 non-null object\n",
      "venue.location.lat                1101509 non-null float64\n",
      "venue.location.lng                1101509 non-null float64\n",
      "venue.location.venue_city         1052605 non-null object\n",
      "venue.location.venue_country      1101367 non-null object\n",
      "venue.location.venue_state        1087951 non-null object\n",
      "venue.primary_category            1092671 non-null object\n",
      "venue.venue_id                    1101509 non-null float64\n",
      "checkin_comment                   343881 non-null object\n",
      "created_at                        1571140 non-null object\n",
      "dtypes: float64(7), int64(5), object(15)\n",
      "memory usage: 323.6+ MB\n"
     ]
    }
   ],
   "source": [
    "biggie.info()"
   ]
  },
  {
   "cell_type": "code",
   "execution_count": 21,
   "metadata": {
    "collapsed": false
   },
   "outputs": [
    {
     "data": {
      "text/plain": [
       "0.9072692439884416"
      ]
     },
     "execution_count": 21,
     "metadata": {},
     "output_type": "execute_result"
    }
   ],
   "source": [
    "np.count_nonzero(biggie['rating_score']) / biggie.shape[0]"
   ]
  },
  {
   "cell_type": "code",
   "execution_count": 22,
   "metadata": {
    "collapsed": false
   },
   "outputs": [
    {
     "data": {
      "text/plain": [
       "0.25"
      ]
     },
     "execution_count": 22,
     "metadata": {},
     "output_type": "execute_result"
    }
   ],
   "source": [
    "min(score for score in biggie['rating_score'] if score)"
   ]
  },
  {
   "cell_type": "code",
   "execution_count": 11,
   "metadata": {
    "collapsed": false
   },
   "outputs": [],
   "source": [
    "%matplotlib inline"
   ]
  },
  {
   "cell_type": "code",
   "execution_count": 8,
   "metadata": {
    "collapsed": false
   },
   "outputs": [
    {
     "data": {
      "image/png": "[encoded data removed]",
      "text/plain": [
       "<matplotlib.figure.Figure at 0x1174079e8>"
      ]
     },
     "metadata": {},
     "output_type": "display_data"
    }
   ],
   "source": [
    "biggie[['rating_score']].plot(kind='hist')\n",
    "plt.show()"
   ]
  },
  {
   "cell_type": "code",
   "execution_count": 14,
   "metadata": {
    "collapsed": false
   },
   "outputs": [
    {
     "name": "stdout",
     "output_type": "stream",
     "text": [
      "<class 'pandas.core.frame.DataFrame'>\n",
      "Int64Index: 1000 entries, 1237851 to 601871\n",
      "Data columns (total 27 columns):\n",
      "Unnamed: 0                        1000 non-null int64\n",
      "checkin_id                        1000 non-null int64\n",
      "beer.bid                          1000 non-null int64\n",
      "user.uid                          1000 non-null int64\n",
      "rating_score                      1000 non-null float64\n",
      "beer.beer_abv                     1000 non-null float64\n",
      "brewery.brewery_name              1000 non-null object\n",
      "beer.beer_name                    1000 non-null object\n",
      "beer.beer_style                   1000 non-null object\n",
      "brewery.brewery_id                1000 non-null int64\n",
      "brewery.brewery_type              1000 non-null object\n",
      "brewery.country_name              1000 non-null object\n",
      "brewery.location.brewery_city     993 non-null object\n",
      "brewery.location.brewery_state    987 non-null object\n",
      "brewery.location.lat              1000 non-null float64\n",
      "brewery.location.lng              1000 non-null float64\n",
      "user.user_name                    1000 non-null object\n",
      "venue.categories.items            695 non-null object\n",
      "venue.location.lat                695 non-null float64\n",
      "venue.location.lng                695 non-null float64\n",
      "venue.location.venue_city         673 non-null object\n",
      "venue.location.venue_country      695 non-null object\n",
      "venue.location.venue_state        688 non-null object\n",
      "venue.primary_category            690 non-null object\n",
      "venue.venue_id                    695 non-null float64\n",
      "checkin_comment                   218 non-null object\n",
      "created_at                        1000 non-null object\n",
      "dtypes: float64(7), int64(5), object(15)\n",
      "memory usage: 218.8+ KB\n"
     ]
    }
   ],
   "source": [
    "sample_checkins = biggie.sample(1000)\n",
    "sample_checkins.info()"
   ]
  },
  {
   "cell_type": "code",
   "execution_count": 29,
   "metadata": {
    "collapsed": false
   },
   "outputs": [
    {
     "data": {
      "text/html": [
       "<div>\n",
       "<style>\n",
       "    .dataframe thead tr:only-child th {\n",
       "        text-align: right;\n",
       "    }\n",
       "\n",
       "    .dataframe thead th {\n",
       "        text-align: left;\n",
       "    }\n",
       "\n",
       "    .dataframe tbody tr th {\n",
       "        vertical-align: top;\n",
       "    }\n",
       "</style>\n",
       "<table border=\"1\" class=\"dataframe\">\n",
       "  <thead>\n",
       "    <tr style=\"text-align: right;\">\n",
       "      <th></th>\n",
       "      <th>Unnamed: 0</th>\n",
       "      <th>checkin_id</th>\n",
       "      <th>beer.bid</th>\n",
       "      <th>user.uid</th>\n",
       "      <th>rating_score</th>\n",
       "      <th>beer.beer_abv</th>\n",
       "      <th>brewery.brewery_name</th>\n",
       "      <th>beer.beer_name</th>\n",
       "      <th>beer.beer_style</th>\n",
       "      <th>brewery.brewery_id</th>\n",
       "      <th>...</th>\n",
       "      <th>venue.categories.items</th>\n",
       "      <th>venue.location.lat</th>\n",
       "      <th>venue.location.lng</th>\n",
       "      <th>venue.location.venue_city</th>\n",
       "      <th>venue.location.venue_country</th>\n",
       "      <th>venue.location.venue_state</th>\n",
       "      <th>venue.primary_category</th>\n",
       "      <th>venue.venue_id</th>\n",
       "      <th>checkin_comment</th>\n",
       "      <th>created_at</th>\n",
       "    </tr>\n",
       "  </thead>\n",
       "  <tbody>\n",
       "    <tr>\n",
       "      <th>0</th>\n",
       "      <td>112706</td>\n",
       "      <td>815404364</td>\n",
       "      <td>331215</td>\n",
       "      <td>2997378</td>\n",
       "      <td>0.0</td>\n",
       "      <td>5.5</td>\n",
       "      <td>Half Acre Beer Company</td>\n",
       "      <td>Pony</td>\n",
       "      <td>Pilsner - German</td>\n",
       "      <td>1862</td>\n",
       "      <td>...</td>\n",
       "      <td>[{'category_key': 'pizza_place', 'category_nam...</td>\n",
       "      <td>47.6495</td>\n",
       "      <td>-122.349</td>\n",
       "      <td>Seattle</td>\n",
       "      <td>United States</td>\n",
       "      <td>WA</td>\n",
       "      <td>Food</td>\n",
       "      <td>7058052.0</td>\n",
       "      <td>NaN</td>\n",
       "      <td>Thu, 10 Oct 2019 23:42:00 +0000</td>\n",
       "    </tr>\n",
       "    <tr>\n",
       "      <th>1</th>\n",
       "      <td>46655</td>\n",
       "      <td>801234367</td>\n",
       "      <td>3223488</td>\n",
       "      <td>5958535</td>\n",
       "      <td>4.0</td>\n",
       "      <td>6.0</td>\n",
       "      <td>Sierra Nevada Brewing Co.</td>\n",
       "      <td>Oktoberfest - Bitburger Braugruppe (2019)</td>\n",
       "      <td>Märzen</td>\n",
       "      <td>1142</td>\n",
       "      <td>...</td>\n",
       "      <td>NaN</td>\n",
       "      <td>NaN</td>\n",
       "      <td>NaN</td>\n",
       "      <td>NaN</td>\n",
       "      <td>NaN</td>\n",
       "      <td>NaN</td>\n",
       "      <td>NaN</td>\n",
       "      <td>NaN</td>\n",
       "      <td>NaN</td>\n",
       "      <td>Fri, 06 Sep 2019 01:15:31 +0000</td>\n",
       "    </tr>\n",
       "    <tr>\n",
       "      <th>2</th>\n",
       "      <td>106882</td>\n",
       "      <td>801627521</td>\n",
       "      <td>2378624</td>\n",
       "      <td>72490</td>\n",
       "      <td>0.0</td>\n",
       "      <td>6.0</td>\n",
       "      <td>Peabody Heights Brewery</td>\n",
       "      <td>Abell Hands</td>\n",
       "      <td>Pale Ale - American</td>\n",
       "      <td>224255</td>\n",
       "      <td>...</td>\n",
       "      <td>[{'category_key': 'seafood_restaurant', 'categ...</td>\n",
       "      <td>39.6043</td>\n",
       "      <td>-76.115</td>\n",
       "      <td>Port Deposit</td>\n",
       "      <td>United States</td>\n",
       "      <td>MD</td>\n",
       "      <td>Food</td>\n",
       "      <td>109538.0</td>\n",
       "      <td>NaN</td>\n",
       "      <td>Fri, 06 Sep 2019 22:41:19 +0000</td>\n",
       "    </tr>\n",
       "  </tbody>\n",
       "</table>\n",
       "<p>3 rows × 27 columns</p>\n",
       "</div>"
      ],
      "text/plain": [
       "   Unnamed: 0  checkin_id  beer.bid  user.uid  rating_score  beer.beer_abv  \\\n",
       "0      112706   815404364    331215   2997378           0.0            5.5   \n",
       "1       46655   801234367   3223488   5958535           4.0            6.0   \n",
       "2      106882   801627521   2378624     72490           0.0            6.0   \n",
       "\n",
       "        brewery.brewery_name                             beer.beer_name  \\\n",
       "0     Half Acre Beer Company                                       Pony   \n",
       "1  Sierra Nevada Brewing Co.  Oktoberfest - Bitburger Braugruppe (2019)   \n",
       "2    Peabody Heights Brewery                                Abell Hands   \n",
       "\n",
       "       beer.beer_style  brewery.brewery_id               ...                 \\\n",
       "0     Pilsner - German                1862               ...                  \n",
       "1               Märzen                1142               ...                  \n",
       "2  Pale Ale - American              224255               ...                  \n",
       "\n",
       "                              venue.categories.items venue.location.lat  \\\n",
       "0  [{'category_key': 'pizza_place', 'category_nam...            47.6495   \n",
       "1                                                NaN                NaN   \n",
       "2  [{'category_key': 'seafood_restaurant', 'categ...            39.6043   \n",
       "\n",
       "  venue.location.lng venue.location.venue_city  venue.location.venue_country  \\\n",
       "0           -122.349                   Seattle                 United States   \n",
       "1                NaN                       NaN                           NaN   \n",
       "2            -76.115              Port Deposit                 United States   \n",
       "\n",
       "   venue.location.venue_state venue.primary_category venue.venue_id  \\\n",
       "0                          WA                   Food      7058052.0   \n",
       "1                         NaN                    NaN            NaN   \n",
       "2                          MD                   Food       109538.0   \n",
       "\n",
       "   checkin_comment                       created_at  \n",
       "0              NaN  Thu, 10 Oct 2019 23:42:00 +0000  \n",
       "1              NaN  Fri, 06 Sep 2019 01:15:31 +0000  \n",
       "2              NaN  Fri, 06 Sep 2019 22:41:19 +0000  \n",
       "\n",
       "[3 rows x 27 columns]"
      ]
     },
     "execution_count": 29,
     "metadata": {},
     "output_type": "execute_result"
    }
   ],
   "source": [
    "sample_checkins.reset_index(drop=True, inplace=True)\n",
    "sample_checkins.head(3)"
   ]
  },
  {
   "cell_type": "code",
   "execution_count": 54,
   "metadata": {
    "collapsed": false
   },
   "outputs": [
    {
     "data": {
      "text/plain": [
       "nan"
      ]
     },
     "execution_count": 54,
     "metadata": {},
     "output_type": "execute_result"
    }
   ],
   "source": [
    "sample_checkins.loc[0, 'venue.primary_category']"
   ]
  },
  {
   "cell_type": "code",
   "execution_count": 35,
   "metadata": {
    "collapsed": false
   },
   "outputs": [
    {
     "data": {
      "text/plain": [
       "True"
      ]
     },
     "execution_count": 35,
     "metadata": {},
     "output_type": "execute_result"
    }
   ],
   "source": [
    "pd.isnull(sample_checkins.loc[1, 'venue.categories.items'])"
   ]
  },
  {
   "cell_type": "code",
   "execution_count": 50,
   "metadata": {
    "collapsed": false
   },
   "outputs": [],
   "source": [
    "import ast  # the json_normalize() returned a string repr of a list, so need this to 'un-string' it\n",
    "\n",
    "def venuecat(venuecell):\n",
    "    if pd.isnull(venuecell):\n",
    "        # empty list to eval to False\n",
    "        return list()\n",
    "    # list with primary category first\n",
    "    try:\n",
    "        venuecell = ast.literal_eval(venuecell)\n",
    "        return [item['category_key'] for item in venuecell if item['is_primary']] + \\\n",
    "               [item['category_key'] for item in venuecell if not item['is_primary']]\n",
    "    except TypeError:\n",
    "        print(venuecell)\n",
    "        return []\n",
    "    "
   ]
  },
  {
   "cell_type": "code",
   "execution_count": 51,
   "metadata": {
    "collapsed": false
   },
   "outputs": [],
   "source": [
    "sample_checkins['venue.type'] = sample_checkins['venue.categories.items'].apply(lambda x: venuecat(x))"
   ]
  },
  {
   "cell_type": "code",
   "execution_count": 71,
   "metadata": {
    "collapsed": false
   },
   "outputs": [
    {
     "data": {
      "text/plain": [
       "55    3.25\n",
       "56    4.25\n",
       "57    4.00\n",
       "58    4.00\n",
       "59    4.00\n",
       "60    3.75\n",
       "61    4.00\n",
       "62    4.25\n",
       "63    3.25\n",
       "64    0.00\n",
       "Name: rating_score, dtype: float64"
      ]
     },
     "execution_count": 71,
     "metadata": {},
     "output_type": "execute_result"
    }
   ],
   "source": [
    "sample_checkins['rating_score'][55:65]"
   ]
  },
  {
   "cell_type": "code",
   "execution_count": 73,
   "metadata": {
    "collapsed": false
   },
   "outputs": [],
   "source": [
    "sample_checkins.drop('venue.categories.items', inplace=True, axis=1)"
   ]
  },
  {
   "cell_type": "code",
   "execution_count": 74,
   "metadata": {
    "collapsed": true
   },
   "outputs": [],
   "source": [
    "sample_checkins.drop('Unnamed: 0', axis=1, inplace=True)"
   ]
  },
  {
   "cell_type": "code",
   "execution_count": 75,
   "metadata": {
    "collapsed": false
   },
   "outputs": [
    {
     "data": {
      "text/html": [
       "<div>\n",
       "<style>\n",
       "    .dataframe thead tr:only-child th {\n",
       "        text-align: right;\n",
       "    }\n",
       "\n",
       "    .dataframe thead th {\n",
       "        text-align: left;\n",
       "    }\n",
       "\n",
       "    .dataframe tbody tr th {\n",
       "        vertical-align: top;\n",
       "    }\n",
       "</style>\n",
       "<table border=\"1\" class=\"dataframe\">\n",
       "  <thead>\n",
       "    <tr style=\"text-align: right;\">\n",
       "      <th></th>\n",
       "      <th>checkin_id</th>\n",
       "      <th>beer.bid</th>\n",
       "      <th>user.uid</th>\n",
       "      <th>rating_score</th>\n",
       "      <th>beer.beer_abv</th>\n",
       "      <th>brewery.brewery_name</th>\n",
       "      <th>beer.beer_name</th>\n",
       "      <th>beer.beer_style</th>\n",
       "      <th>brewery.brewery_id</th>\n",
       "      <th>brewery.brewery_type</th>\n",
       "      <th>...</th>\n",
       "      <th>venue.location.lat</th>\n",
       "      <th>venue.location.lng</th>\n",
       "      <th>venue.location.venue_city</th>\n",
       "      <th>venue.location.venue_country</th>\n",
       "      <th>venue.location.venue_state</th>\n",
       "      <th>venue.primary_category</th>\n",
       "      <th>venue.venue_id</th>\n",
       "      <th>checkin_comment</th>\n",
       "      <th>created_at</th>\n",
       "      <th>venue.type</th>\n",
       "    </tr>\n",
       "  </thead>\n",
       "  <tbody>\n",
       "    <tr>\n",
       "      <th>0</th>\n",
       "      <td>815404364</td>\n",
       "      <td>331215</td>\n",
       "      <td>2997378</td>\n",
       "      <td>0.0</td>\n",
       "      <td>5.5</td>\n",
       "      <td>Half Acre Beer Company</td>\n",
       "      <td>Pony</td>\n",
       "      <td>Pilsner - German</td>\n",
       "      <td>1862</td>\n",
       "      <td>Regional Brewery</td>\n",
       "      <td>...</td>\n",
       "      <td>47.6495</td>\n",
       "      <td>-122.3490</td>\n",
       "      <td>Seattle</td>\n",
       "      <td>United States</td>\n",
       "      <td>WA</td>\n",
       "      <td>Food</td>\n",
       "      <td>7058052.0</td>\n",
       "      <td>NaN</td>\n",
       "      <td>Thu, 10 Oct 2019 23:42:00 +0000</td>\n",
       "      <td>[pizza_place, beer_bar]</td>\n",
       "    </tr>\n",
       "    <tr>\n",
       "      <th>1</th>\n",
       "      <td>801234367</td>\n",
       "      <td>3223488</td>\n",
       "      <td>5958535</td>\n",
       "      <td>4.0</td>\n",
       "      <td>6.0</td>\n",
       "      <td>Sierra Nevada Brewing Co.</td>\n",
       "      <td>Oktoberfest - Bitburger Braugruppe (2019)</td>\n",
       "      <td>Märzen</td>\n",
       "      <td>1142</td>\n",
       "      <td>Regional Brewery</td>\n",
       "      <td>...</td>\n",
       "      <td>NaN</td>\n",
       "      <td>NaN</td>\n",
       "      <td>NaN</td>\n",
       "      <td>NaN</td>\n",
       "      <td>NaN</td>\n",
       "      <td>NaN</td>\n",
       "      <td>NaN</td>\n",
       "      <td>NaN</td>\n",
       "      <td>Fri, 06 Sep 2019 01:15:31 +0000</td>\n",
       "      <td>[]</td>\n",
       "    </tr>\n",
       "    <tr>\n",
       "      <th>2</th>\n",
       "      <td>801627521</td>\n",
       "      <td>2378624</td>\n",
       "      <td>72490</td>\n",
       "      <td>0.0</td>\n",
       "      <td>6.0</td>\n",
       "      <td>Peabody Heights Brewery</td>\n",
       "      <td>Abell Hands</td>\n",
       "      <td>Pale Ale - American</td>\n",
       "      <td>224255</td>\n",
       "      <td>Micro Brewery</td>\n",
       "      <td>...</td>\n",
       "      <td>39.6043</td>\n",
       "      <td>-76.1150</td>\n",
       "      <td>Port Deposit</td>\n",
       "      <td>United States</td>\n",
       "      <td>MD</td>\n",
       "      <td>Food</td>\n",
       "      <td>109538.0</td>\n",
       "      <td>NaN</td>\n",
       "      <td>Fri, 06 Sep 2019 22:41:19 +0000</td>\n",
       "      <td>[seafood_restaurant, american_restaurant]</td>\n",
       "    </tr>\n",
       "    <tr>\n",
       "      <th>3</th>\n",
       "      <td>731686382</td>\n",
       "      <td>3123862</td>\n",
       "      <td>1417868</td>\n",
       "      <td>4.0</td>\n",
       "      <td>4.9</td>\n",
       "      <td>Backpocket Brewing</td>\n",
       "      <td>Kitty Lime Pie</td>\n",
       "      <td>Sour - Gose - Fruited</td>\n",
       "      <td>14975</td>\n",
       "      <td>Micro Brewery</td>\n",
       "      <td>...</td>\n",
       "      <td>42.0202</td>\n",
       "      <td>-91.6656</td>\n",
       "      <td>Cedar Rapids</td>\n",
       "      <td>United States</td>\n",
       "      <td>IA</td>\n",
       "      <td>Nightlife Spot</td>\n",
       "      <td>8731918.0</td>\n",
       "      <td>NaN</td>\n",
       "      <td>Wed, 03 Apr 2019 20:42:36 +0000</td>\n",
       "      <td>[beer_bar]</td>\n",
       "    </tr>\n",
       "    <tr>\n",
       "      <th>4</th>\n",
       "      <td>467952253</td>\n",
       "      <td>594015</td>\n",
       "      <td>3473594</td>\n",
       "      <td>0.0</td>\n",
       "      <td>7.8</td>\n",
       "      <td>Toppling Goliath Brewing Co.</td>\n",
       "      <td>King Sue</td>\n",
       "      <td>IPA - Imperial / Double New England</td>\n",
       "      <td>7532</td>\n",
       "      <td>Micro Brewery</td>\n",
       "      <td>...</td>\n",
       "      <td>NaN</td>\n",
       "      <td>NaN</td>\n",
       "      <td>NaN</td>\n",
       "      <td>NaN</td>\n",
       "      <td>NaN</td>\n",
       "      <td>NaN</td>\n",
       "      <td>NaN</td>\n",
       "      <td>NaN</td>\n",
       "      <td>Wed, 21 Jun 2017 22:30:07 +0000</td>\n",
       "      <td>[]</td>\n",
       "    </tr>\n",
       "  </tbody>\n",
       "</table>\n",
       "<p>5 rows × 26 columns</p>\n",
       "</div>"
      ],
      "text/plain": [
       "   checkin_id  beer.bid  user.uid  rating_score  beer.beer_abv  \\\n",
       "0   815404364    331215   2997378           0.0            5.5   \n",
       "1   801234367   3223488   5958535           4.0            6.0   \n",
       "2   801627521   2378624     72490           0.0            6.0   \n",
       "3   731686382   3123862   1417868           4.0            4.9   \n",
       "4   467952253    594015   3473594           0.0            7.8   \n",
       "\n",
       "           brewery.brewery_name                             beer.beer_name  \\\n",
       "0        Half Acre Beer Company                                       Pony   \n",
       "1     Sierra Nevada Brewing Co.  Oktoberfest - Bitburger Braugruppe (2019)   \n",
       "2       Peabody Heights Brewery                                Abell Hands   \n",
       "3            Backpocket Brewing                             Kitty Lime Pie   \n",
       "4  Toppling Goliath Brewing Co.                                   King Sue   \n",
       "\n",
       "                       beer.beer_style  brewery.brewery_id  \\\n",
       "0                     Pilsner - German                1862   \n",
       "1                               Märzen                1142   \n",
       "2                  Pale Ale - American              224255   \n",
       "3                Sour - Gose - Fruited               14975   \n",
       "4  IPA - Imperial / Double New England                7532   \n",
       "\n",
       "  brewery.brewery_type                    ...                      \\\n",
       "0     Regional Brewery                    ...                       \n",
       "1     Regional Brewery                    ...                       \n",
       "2        Micro Brewery                    ...                       \n",
       "3        Micro Brewery                    ...                       \n",
       "4        Micro Brewery                    ...                       \n",
       "\n",
       "  venue.location.lat venue.location.lng venue.location.venue_city  \\\n",
       "0            47.6495          -122.3490                   Seattle   \n",
       "1                NaN                NaN                       NaN   \n",
       "2            39.6043           -76.1150              Port Deposit   \n",
       "3            42.0202           -91.6656              Cedar Rapids   \n",
       "4                NaN                NaN                       NaN   \n",
       "\n",
       "   venue.location.venue_country  venue.location.venue_state  \\\n",
       "0                 United States                          WA   \n",
       "1                           NaN                         NaN   \n",
       "2                 United States                          MD   \n",
       "3                 United States                          IA   \n",
       "4                           NaN                         NaN   \n",
       "\n",
       "  venue.primary_category  venue.venue_id  checkin_comment  \\\n",
       "0                   Food       7058052.0              NaN   \n",
       "1                    NaN             NaN              NaN   \n",
       "2                   Food        109538.0              NaN   \n",
       "3         Nightlife Spot       8731918.0              NaN   \n",
       "4                    NaN             NaN              NaN   \n",
       "\n",
       "                        created_at                                 venue.type  \n",
       "0  Thu, 10 Oct 2019 23:42:00 +0000                    [pizza_place, beer_bar]  \n",
       "1  Fri, 06 Sep 2019 01:15:31 +0000                                         []  \n",
       "2  Fri, 06 Sep 2019 22:41:19 +0000  [seafood_restaurant, american_restaurant]  \n",
       "3  Wed, 03 Apr 2019 20:42:36 +0000                                 [beer_bar]  \n",
       "4  Wed, 21 Jun 2017 22:30:07 +0000                                         []  \n",
       "\n",
       "[5 rows x 26 columns]"
      ]
     },
     "execution_count": 75,
     "metadata": {},
     "output_type": "execute_result"
    }
   ],
   "source": [
    "sample_checkins.head()"
   ]
  },
  {
   "cell_type": "code",
   "execution_count": 76,
   "metadata": {
    "collapsed": true
   },
   "outputs": [],
   "source": [
    "# save to push to github for sample viewing\n",
    "sample_checkins.to_csv('sample_checkins.csv')"
   ]
  },
  {
   "cell_type": "code",
   "execution_count": 77,
   "metadata": {
    "collapsed": false
   },
   "outputs": [
    {
     "data": {
      "text/plain": [
       "<matplotlib.axes._subplots.AxesSubplot at 0x12a098cf8>"
      ]
     },
     "execution_count": 77,
     "metadata": {},
     "output_type": "execute_result"
    },
    {
     "data": {
      "image/png": "[encoded data removed]",
      "text/plain": [
       "<matplotlib.figure.Figure at 0x12a079d30>"
      ]
     },
     "metadata": {},
     "output_type": "display_data"
    }
   ],
   "source": [
    "sample_checkins.rating_score.plot(kind='hist')"
   ]
  },
  {
   "cell_type": "code",
   "execution_count": 84,
   "metadata": {
    "collapsed": false
   },
   "outputs": [
    {
     "data": {
      "text/plain": [
       "487"
      ]
     },
     "execution_count": 84,
     "metadata": {},
     "output_type": "execute_result"
    }
   ],
   "source": [
    "sum(sample_checkins['beer.beer_style'].apply(lambda x: x.startswith('IPA')))"
   ]
  },
  {
   "cell_type": "code",
   "execution_count": null,
   "metadata": {
    "collapsed": true
   },
   "outputs": [],
   "source": []
  }
 ],
 "metadata": {
  "kernelspec": {
   "display_name": "Python 3",
   "language": "python",
   "name": "python3"
  },
  "language_info": {
   "codemirror_mode": {
    "name": "ipython",
    "version": 3
   },
   "file_extension": ".py",
   "mimetype": "text/x-python",
   "name": "python",
   "nbconvert_exporter": "python",
   "pygments_lexer": "ipython3",
   "version": "3.6.9"
  }
 },
 "nbformat": 4,
 "nbformat_minor": 2
}
