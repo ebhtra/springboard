{
 "cells": [
  {
   "cell_type": "code",
   "execution_count": 1,
   "metadata": {
    "collapsed": true
   },
   "outputs": [],
   "source": [
    "from api_keys import untappd_URL, untappd_ID, untappd_SECRET   # private, local constants\n",
    "\n",
    "import pickle\n",
    "import requests\n",
    "import time"
   ]
  },
  {
   "cell_type": "code",
   "execution_count": 2,
   "metadata": {
    "collapsed": true
   },
   "outputs": [],
   "source": [
    "# make a call to untappd's API to get User Feed data for a specific User ID\n",
    "# This method is used in the main data getter, below (userFeedBatch())\n",
    "def searchUserFeeds(userFeed_params, uid):\n",
    "    # build the query string\n",
    "    method_endpoint = '/user/checkins/' + str(uid)\n",
    "    query = untappd_URL + method_endpoint\n",
    "    response = requests.get(query, userFeed_params)\n",
    "    # parse the response\n",
    "    if response:  # response==True for codes 200-400\n",
    "        remaining_calls = response.headers['X-Ratelimit-Remaining']\n",
    "        return remaining_calls, response\n",
    "    else: \n",
    "        print(f\"That GET request for user {uid} with params={userFeed_params.items()} \\\n",
    "failed, with code: {response.status_code}\")\n",
    "        print(response.json())\n",
    "        return 0,0"
   ]
  },
  {
   "cell_type": "code",
   "execution_count": 3,
   "metadata": {
    "collapsed": true
   },
   "outputs": [],
   "source": [
    "def userFeedBatch(uid, builderDict, olderthan=None, newerthan=None, numCalls=5):\n",
    "    '''\n",
    "    This method makes @numCalls queries to untappd's User Feed,\n",
    "    for username @uid, using either @olderthan or @newerthan to let untappd know\n",
    "    where to start (going back in time from @olderthan, which is untappd's \n",
    "    \"max_id\" param) or end (going from now to @newerthan, which is \"min_id\").\n",
    "    \n",
    "    The results and updated pagination limits are added to the \n",
    "    @builderDict passed into this method.\n",
    "    '''\n",
    "    # the max 'limit' accepted by untappd is 50\n",
    "    params = {'limit':50, 'max_id': olderthan, 'min_id': newerthan, 'client_id':untappd_ID, 'client_secret':untappd_SECRET}\n",
    "       \n",
    "    for i in range(numCalls):\n",
    "        calls_left, response = searchUserFeeds(params, uid)\n",
    "        if not response:\n",
    "            print('NO RESPONSE')\n",
    "            return\n",
    "        resp = response.json()\n",
    "        # start pagination and rate limit bookkeeping\n",
    "        try:\n",
    "            new_oldest = resp['response']['pagination']['max_id']\n",
    "            params['max_id'] = new_oldest\n",
    "            builderDict[uid]['oldestID'] = new_oldest\n",
    "            builderDict[uid]['datalist'].append(resp)\n",
    "            # this happens only first time; mark in this user's dict the youngest checkin seen\n",
    "            if builderDict[uid]['newestID'] is None:\n",
    "                builderDict[uid]['newestID'] = resp['response']['checkins']['items'][0]['checkin_id']\n",
    "        except KeyError as kerr:\n",
    "            print(f'No {kerr} was included in the response.')\n",
    "            print(f'There are {calls_left} calls left.')\n",
    "            print(f'The max_id passed in was {olderthan}.')\n",
    "            print(f'The userID was {uid}')\n",
    "            break\n",
    "            \n",
    "        if resp['response']['checkins']['count'] < params['limit']:  # ran out of items, so break\n",
    "            print(f\"Last call response had a count of {resp['response']['checkins']['count']}\")\n",
    "            break\n",
    "\n",
    "    print(f'Completed {i+1} calls. Hourly calls remaining: {calls_left}') \n",
    "    \n",
    "    \n",
    "      "
   ]
  },
  {
   "cell_type": "markdown",
   "metadata": {},
   "source": [
    "#### Pickling utilities for generators"
   ]
  },
  {
   "cell_type": "code",
   "execution_count": 4,
   "metadata": {
    "collapsed": true
   },
   "outputs": [],
   "source": [
    "def unpickle_gen(pickled_filename):\n",
    "    \"\"\"Unpickles a generator, maintaining the order of its elements.\n",
    "    Returns the generator.\n",
    "    \"\"\"\n",
    "    with open(pickled_filename, 'rb') as f:\n",
    "        gen = (item for item in pickle.load(f))\n",
    "    return gen\n",
    "\n",
    "def pickle_gen(gen, to_pkl_filename):\n",
    "    \"\"\"Pickles a generator, preserving the order of its elements for later use.\"\"\"\n",
    "    with open(to_pkl_filename, 'wb') as f:\n",
    "        pickle.dump([item for item in gen], f)"
   ]
  },
  {
   "cell_type": "code",
   "execution_count": 5,
   "metadata": {
    "collapsed": true
   },
   "outputs": [],
   "source": [
    "# Get an ordered generator (ordered by users with highest total IPA checkins on first 607 IPAs in this case)\n",
    "# This is only accurate if the pickled generator reflects the accurate current state of queried Users\n",
    "#  Otherwise you have to pare it down while keeping its order, using the cell below this.\n",
    "ipa_user_gen = unpickle_gen('capstone_1/ipa_gen_after_part_12.pkl')"
   ]
  },
  {
   "cell_type": "markdown",
   "metadata": {},
   "source": [
    "### Creating a new User generator when you've lost track of who's been generated and queried already"
   ]
  },
  {
   "cell_type": "code",
   "execution_count": null,
   "metadata": {
    "collapsed": false
   },
   "outputs": [],
   "source": [
    "#######  THIS TAKES SIGNIFICANT TIME TO RUN (over a half hour, with 4-5 GB of userFeedDicts in 9 files) ######\n",
    "\n",
    "from glob import glob\n",
    "\n",
    "# start with the most recent saved form of the generator and pare it down\n",
    "ipa_user_gen = unpickle_gen('capstone_1/ipa_user_gen.pkl') \n",
    "\n",
    "queried = set()\n",
    "\n",
    "# For each file, find which users have been queried already, so as not to regenerate them\n",
    "for file in glob('capstone_1/userFeeds/userFeedDicts*'):\n",
    "    with open(file, 'rb') as f:\n",
    "        feeds = pickle.load(f)\n",
    "    queried = queried.union({user for user in feeds if feeds[user]['datalist']})\n",
    "# Make a new generator after removing the generated ones, keeping the order\n",
    "ipa_user_gen = (user for user in ipa_user_gen if user not in queried)"
   ]
  },
  {
   "cell_type": "code",
   "execution_count": 25,
   "metadata": {
    "collapsed": false
   },
   "outputs": [
    {
     "data": {
      "text/plain": [
       "5993"
      ]
     },
     "execution_count": 25,
     "metadata": {},
     "output_type": "execute_result"
    }
   ],
   "source": [
    "len(queried)"
   ]
  },
  {
   "cell_type": "markdown",
   "metadata": {},
   "source": [
    "Well, that took over a half hour for the 4-5 GB of userFeedDicts through part_9.  Inefficiency partly due to the fact that each part holds all 87K userDicts, even though only ~700 of them are queried and filled. At some point, these files will be trimmed down to just the dicts that are queried in that part, but for now, just save the most recent ipa_user_gen, which is through a (very short) part_9, so as not to have to duplicate efforts later."
   ]
  },
  {
   "cell_type": "code",
   "execution_count": 32,
   "metadata": {
    "collapsed": true
   },
   "outputs": [],
   "source": [
    "pickle_gen(ipa_user_gen, 'capstone_1/ipa_user_gen_thru_part_9.pkl')\n",
    "# since the generator gets drained while pickling it, rebuild it right away\n",
    "ipa_user_gen = unpickle_gen('capstone_1/ipa_user_gen_thru_part_9.pkl')"
   ]
  },
  {
   "cell_type": "markdown",
   "metadata": {},
   "source": [
    "### Main loop for building User Feed dataset"
   ]
  },
  {
   "cell_type": "code",
   "execution_count": 6,
   "metadata": {
    "collapsed": false
   },
   "outputs": [],
   "source": [
    "# load a partially filled UserFeedDict\n",
    "with open('capstone_1/userFeeds/userFeedDicts_part_9.pkl', 'rb') as f:\n",
    "    userFeedDicts_part_9 = pickle.load(f)"
   ]
  },
  {
   "cell_type": "markdown",
   "metadata": {},
   "source": [
    "For initializing a new dict, when you reach about 500MB in a dict, and ipynb slows down"
   ]
  },
  {
   "cell_type": "code",
   "execution_count": 7,
   "metadata": {
    "collapsed": false
   },
   "outputs": [],
   "source": [
    "# Initialize a storage dict from all those 87K users in \"feeds\", generated above\n",
    "#  Use that dict as input to the main GET routine, to accumulate User Feeds\n",
    "userFeedDicts_part_13 = {uID: {'newestID':None, 'oldestID':None, 'datalist':[]} for uID in userFeedDicts_part_9}"
   ]
  },
  {
   "cell_type": "code",
   "execution_count": 8,
   "metadata": {
    "collapsed": true
   },
   "outputs": [],
   "source": [
    "# Update this as files get too large, to use (fill) in the main GET routine, below\n",
    "current_dict = userFeedDicts_part_13"
   ]
  },
  {
   "cell_type": "code",
   "execution_count": 11,
   "metadata": {
    "collapsed": false,
    "scrolled": true
   },
   "outputs": [
    {
     "name": "stdout",
     "output_type": "stream",
     "text": [
      "Completed 4 calls. Hourly calls remaining: 8\n",
      "Batch 0 finished at 23:53\n",
      "Completed 4 calls. Hourly calls remaining: 8\n",
      "Batch 1 finished at 23:56\n",
      "Completed 4 calls. Hourly calls remaining: 8\n",
      "Batch 2 finished at 23:58\n",
      "Completed 4 calls. Hourly calls remaining: 8\n",
      "Batch 3 finished at 00:01\n",
      "Completed 4 calls. Hourly calls remaining: 8\n",
      "Batch 4 finished at 00:03\n",
      "Completed 4 calls. Hourly calls remaining: 8\n",
      "Batch 5 finished at 00:06\n",
      "Completed 4 calls. Hourly calls remaining: 8\n",
      "Batch 6 finished at 00:09\n",
      "Last call response had a count of 29\n",
      "Completed 1 calls. Hourly calls remaining: 10\n",
      "Batch 7 finished at 00:11\n",
      "Completed 4 calls. Hourly calls remaining: 10\n",
      "Batch 8 finished at 00:14\n",
      "Completed 4 calls. Hourly calls remaining: 10\n",
      "Batch 9 finished at 00:16\n",
      "Completed 4 calls. Hourly calls remaining: 10\n",
      "Batch 10 finished at 00:19\n",
      "Completed 4 calls. Hourly calls remaining: 10\n",
      "Batch 11 finished at 00:21\n",
      "Completed 4 calls. Hourly calls remaining: 10\n",
      "Batch 12 finished at 00:24\n",
      "Completed 4 calls. Hourly calls remaining: 10\n",
      "Batch 13 finished at 00:27\n",
      "Completed 4 calls. Hourly calls remaining: 8\n",
      "Batch 14 finished at 00:29\n",
      "Completed 4 calls. Hourly calls remaining: 8\n",
      "Batch 15 finished at 00:32\n",
      "Completed 4 calls. Hourly calls remaining: 8\n",
      "Batch 16 finished at 00:34\n",
      "Completed 4 calls. Hourly calls remaining: 8\n",
      "Batch 17 finished at 00:37\n",
      "Completed 4 calls. Hourly calls remaining: 8\n",
      "Batch 18 finished at 00:39\n",
      "Completed 4 calls. Hourly calls remaining: 8\n",
      "Batch 19 finished at 00:42\n",
      "Completed 4 calls. Hourly calls remaining: 8\n",
      "Batch 20 finished at 00:45\n",
      "Completed 4 calls. Hourly calls remaining: 8\n",
      "Batch 21 finished at 00:47\n",
      "Completed 4 calls. Hourly calls remaining: 8\n",
      "Batch 22 finished at 00:50\n",
      "Completed 4 calls. Hourly calls remaining: 8\n",
      "Batch 23 finished at 00:52\n",
      "Last call response had a count of 18\n",
      "Completed 4 calls. Hourly calls remaining: 8\n",
      "Batch 24 finished at 00:55\n",
      "Completed 4 calls. Hourly calls remaining: 8\n",
      "Batch 25 finished at 00:57\n",
      "Completed 4 calls. Hourly calls remaining: 8\n",
      "Batch 26 finished at 01:00\n",
      "Completed 4 calls. Hourly calls remaining: 8\n",
      "Batch 27 finished at 01:03\n",
      "Completed 4 calls. Hourly calls remaining: 8\n",
      "Batch 28 finished at 01:05\n",
      "Completed 4 calls. Hourly calls remaining: 8\n",
      "Batch 29 finished at 01:08\n",
      "Completed 4 calls. Hourly calls remaining: 8\n",
      "Batch 30 finished at 01:10\n",
      "Completed 4 calls. Hourly calls remaining: 5\n",
      "Batch 31 finished at 01:13\n",
      "Completed 4 calls. Hourly calls remaining: 5\n",
      "Batch 32 finished at 01:15\n",
      "Completed 4 calls. Hourly calls remaining: 5\n",
      "Batch 33 finished at 01:18\n",
      "Completed 4 calls. Hourly calls remaining: 5\n",
      "Batch 34 finished at 01:21\n",
      "Completed 4 calls. Hourly calls remaining: 5\n",
      "Batch 35 finished at 01:23\n",
      "Completed 4 calls. Hourly calls remaining: 5\n",
      "Batch 36 finished at 01:26\n",
      "Completed 4 calls. Hourly calls remaining: 5\n",
      "Batch 37 finished at 01:28\n",
      "Completed 4 calls. Hourly calls remaining: 5\n",
      "Batch 38 finished at 01:31\n",
      "Completed 4 calls. Hourly calls remaining: 5\n",
      "Batch 39 finished at 01:33\n",
      "Completed 4 calls. Hourly calls remaining: 5\n",
      "Batch 40 finished at 01:36\n",
      "Last call response had a count of 30\n",
      "Completed 3 calls. Hourly calls remaining: 6\n",
      "Batch 41 finished at 01:39\n",
      "Completed 4 calls. Hourly calls remaining: 6\n",
      "Batch 42 finished at 01:41\n",
      "Completed 4 calls. Hourly calls remaining: 6\n",
      "Batch 43 finished at 01:44\n",
      "Completed 4 calls. Hourly calls remaining: 6\n",
      "Batch 44 finished at 01:46\n",
      "Completed 4 calls. Hourly calls remaining: 6\n",
      "Batch 45 finished at 01:49\n",
      "Last call response had a count of 19\n",
      "Completed 3 calls. Hourly calls remaining: 7\n",
      "Batch 46 finished at 01:51\n",
      "Completed 4 calls. Hourly calls remaining: 7\n",
      "Batch 47 finished at 01:54\n",
      "Completed 4 calls. Hourly calls remaining: 7\n",
      "Batch 48 finished at 01:57\n",
      "Completed 4 calls. Hourly calls remaining: 7\n",
      "Batch 49 finished at 01:59\n",
      "Last call response had a count of 26\n",
      "Completed 4 calls. Hourly calls remaining: 7\n",
      "Batch 50 finished at 02:02\n",
      "Completed 4 calls. Hourly calls remaining: 7\n",
      "Batch 51 finished at 02:04\n",
      "Completed 4 calls. Hourly calls remaining: 7\n",
      "Batch 52 finished at 02:07\n",
      "Completed 4 calls. Hourly calls remaining: 7\n",
      "Batch 53 finished at 02:09\n",
      "Completed 4 calls. Hourly calls remaining: 7\n",
      "Batch 54 finished at 02:12\n",
      "Completed 4 calls. Hourly calls remaining: 7\n",
      "Batch 55 finished at 02:15\n",
      "Completed 4 calls. Hourly calls remaining: 7\n",
      "Batch 56 finished at 02:17\n",
      "Completed 4 calls. Hourly calls remaining: 7\n",
      "Batch 57 finished at 02:20\n",
      "Completed 4 calls. Hourly calls remaining: 7\n",
      "Batch 58 finished at 02:22\n",
      "Completed 4 calls. Hourly calls remaining: 7\n",
      "Batch 59 finished at 02:25\n",
      "Completed 4 calls. Hourly calls remaining: 7\n",
      "Batch 60 finished at 02:27\n",
      "Completed 4 calls. Hourly calls remaining: 7\n",
      "Batch 61 finished at 02:30\n",
      "Completed 4 calls. Hourly calls remaining: 7\n",
      "Batch 62 finished at 02:33\n",
      "Completed 4 calls. Hourly calls remaining: 7\n",
      "Batch 63 finished at 02:35\n",
      "Completed 4 calls. Hourly calls remaining: 7\n",
      "Batch 64 finished at 02:38\n",
      "Completed 4 calls. Hourly calls remaining: 6\n",
      "Batch 65 finished at 02:40\n",
      "Completed 4 calls. Hourly calls remaining: 6\n",
      "Batch 66 finished at 02:43\n",
      "Completed 4 calls. Hourly calls remaining: 6\n",
      "Batch 67 finished at 02:46\n",
      "Completed 4 calls. Hourly calls remaining: 6\n",
      "Batch 68 finished at 02:48\n",
      "Completed 4 calls. Hourly calls remaining: 6\n",
      "Batch 69 finished at 02:51\n",
      "Completed 4 calls. Hourly calls remaining: 5\n",
      "Batch 70 finished at 02:53\n",
      "Completed 4 calls. Hourly calls remaining: 5\n",
      "Batch 71 finished at 02:56\n",
      "Completed 4 calls. Hourly calls remaining: 5\n",
      "Batch 72 finished at 02:58\n",
      "Completed 4 calls. Hourly calls remaining: 5\n",
      "Batch 73 finished at 03:01\n",
      "Completed 4 calls. Hourly calls remaining: 5\n",
      "Batch 74 finished at 03:04\n",
      "Completed 4 calls. Hourly calls remaining: 5\n",
      "Batch 75 finished at 03:06\n",
      "Completed 4 calls. Hourly calls remaining: 5\n",
      "Batch 76 finished at 03:09\n",
      "Completed 4 calls. Hourly calls remaining: 5\n",
      "Batch 77 finished at 03:11\n",
      "Completed 4 calls. Hourly calls remaining: 5\n",
      "Batch 78 finished at 03:14\n",
      "Completed 4 calls. Hourly calls remaining: 5\n",
      "Batch 79 finished at 03:17\n",
      "Completed 4 calls. Hourly calls remaining: 5\n",
      "Batch 80 finished at 03:19\n",
      "Completed 4 calls. Hourly calls remaining: 5\n",
      "Batch 81 finished at 03:22\n",
      "Last call response had a count of 32\n",
      "Completed 1 calls. Hourly calls remaining: 8\n",
      "Batch 82 finished at 03:24\n",
      "Last call response had a count of 15\n",
      "Completed 4 calls. Hourly calls remaining: 8\n",
      "Batch 83 finished at 03:27\n",
      "Completed 4 calls. Hourly calls remaining: 8\n",
      "Batch 84 finished at 03:29\n",
      "Completed 4 calls. Hourly calls remaining: 8\n",
      "Batch 85 finished at 03:32\n",
      "Last call response had a count of 35\n",
      "Completed 3 calls. Hourly calls remaining: 9\n",
      "Batch 86 finished at 03:34\n",
      "Completed 4 calls. Hourly calls remaining: 9\n",
      "Batch 87 finished at 03:37\n",
      "Completed 4 calls. Hourly calls remaining: 9\n",
      "Batch 88 finished at 03:40\n",
      "Last call response had a count of 39\n",
      "Completed 1 calls. Hourly calls remaining: 12\n",
      "Batch 89 finished at 03:42\n",
      "Last call response had a count of 36\n",
      "Completed 4 calls. Hourly calls remaining: 12\n",
      "Batch 90 finished at 03:45\n",
      "Completed 4 calls. Hourly calls remaining: 12\n",
      "Batch 91 finished at 03:47\n",
      "Completed 4 calls. Hourly calls remaining: 12\n",
      "Batch 92 finished at 03:50\n",
      "Completed 4 calls. Hourly calls remaining: 12\n",
      "Batch 93 finished at 03:52\n",
      "Completed 4 calls. Hourly calls remaining: 12\n",
      "Batch 94 finished at 03:55\n",
      "Completed 4 calls. Hourly calls remaining: 12\n",
      "Batch 95 finished at 03:58\n",
      "Completed 4 calls. Hourly calls remaining: 12\n",
      "Batch 96 finished at 04:00\n",
      "Completed 4 calls. Hourly calls remaining: 12\n",
      "Batch 97 finished at 04:03\n",
      "Completed 4 calls. Hourly calls remaining: 12\n",
      "Batch 98 finished at 04:05\n",
      "Completed 4 calls. Hourly calls remaining: 12\n",
      "Batch 99 finished at 04:08\n",
      "Completed 4 calls. Hourly calls remaining: 12\n",
      "Batch 100 finished at 04:10\n",
      "Completed 4 calls. Hourly calls remaining: 12\n",
      "Batch 101 finished at 04:13\n",
      "Last call response had a count of 13\n",
      "Completed 3 calls. Hourly calls remaining: 13\n",
      "Batch 102 finished at 04:16\n",
      "Completed 4 calls. Hourly calls remaining: 13\n",
      "Batch 103 finished at 04:18\n",
      "Completed 4 calls. Hourly calls remaining: 13\n",
      "Batch 104 finished at 04:21\n",
      "Completed 4 calls. Hourly calls remaining: 13\n",
      "Batch 105 finished at 04:23\n",
      "Completed 4 calls. Hourly calls remaining: 10\n",
      "Batch 106 finished at 04:26\n",
      "Completed 4 calls. Hourly calls remaining: 10\n",
      "Batch 107 finished at 04:28\n",
      "Last call response had a count of 21\n",
      "Completed 1 calls. Hourly calls remaining: 13\n",
      "Batch 108 finished at 04:31\n",
      "Completed 4 calls. Hourly calls remaining: 13\n",
      "Batch 109 finished at 04:33\n",
      "Completed 4 calls. Hourly calls remaining: 12\n",
      "Batch 110 finished at 04:36\n",
      "Completed 4 calls. Hourly calls remaining: 12\n",
      "Batch 111 finished at 04:39\n",
      "Completed 4 calls. Hourly calls remaining: 12\n",
      "Batch 112 finished at 04:41\n",
      "Completed 4 calls. Hourly calls remaining: 9\n",
      "Batch 113 finished at 04:44\n",
      "Completed 4 calls. Hourly calls remaining: 9\n",
      "Batch 114 finished at 04:46\n",
      "Completed 4 calls. Hourly calls remaining: 9\n",
      "Batch 115 finished at 04:49\n",
      "Completed 4 calls. Hourly calls remaining: 9\n",
      "Batch 116 finished at 04:51\n",
      "Completed 4 calls. Hourly calls remaining: 9\n",
      "Batch 117 finished at 04:54\n",
      "Completed 4 calls. Hourly calls remaining: 9\n",
      "Batch 118 finished at 04:57\n",
      "Completed 4 calls. Hourly calls remaining: 9\n",
      "Batch 119 finished at 04:59\n",
      "Completed 4 calls. Hourly calls remaining: 9\n",
      "Batch 120 finished at 05:02\n",
      "Completed 4 calls. Hourly calls remaining: 9\n",
      "Batch 121 finished at 05:04\n",
      "Completed 4 calls. Hourly calls remaining: 9\n",
      "Batch 122 finished at 05:07\n",
      "Completed 4 calls. Hourly calls remaining: 9\n",
      "Batch 123 finished at 05:09\n",
      "Completed 4 calls. Hourly calls remaining: 9\n",
      "Batch 124 finished at 05:12\n",
      "Completed 4 calls. Hourly calls remaining: 9\n",
      "Batch 125 finished at 05:15\n",
      "Completed 4 calls. Hourly calls remaining: 8\n",
      "Batch 126 finished at 05:18\n",
      "Completed 4 calls. Hourly calls remaining: 8\n",
      "Batch 127 finished at 05:21\n",
      "Last call response had a count of 29\n",
      "Completed 2 calls. Hourly calls remaining: 10\n",
      "Batch 128 finished at 05:23\n",
      "Completed 4 calls. Hourly calls remaining: 10\n",
      "Batch 129 finished at 05:26\n",
      "Completed 4 calls. Hourly calls remaining: 10\n",
      "Batch 130 finished at 05:28\n",
      "Completed 4 calls. Hourly calls remaining: 10\n",
      "Batch 131 finished at 05:31\n",
      "Completed 4 calls. Hourly calls remaining: 7\n",
      "Batch 132 finished at 05:33\n",
      "Completed 4 calls. Hourly calls remaining: 7\n",
      "Batch 133 finished at 05:36\n",
      "Last call response had a count of 31\n",
      "Completed 1 calls. Hourly calls remaining: 10\n",
      "Batch 134 finished at 05:38\n",
      "Completed 4 calls. Hourly calls remaining: 10\n",
      "Batch 135 finished at 05:41\n",
      "Completed 4 calls. Hourly calls remaining: 10\n",
      "Batch 136 finished at 05:44\n",
      "Completed 4 calls. Hourly calls remaining: 10\n",
      "Batch 137 finished at 05:46\n",
      "Completed 4 calls. Hourly calls remaining: 10\n",
      "Batch 138 finished at 05:49\n",
      "Completed 4 calls. Hourly calls remaining: 10\n",
      "Batch 139 finished at 05:51\n",
      "Completed 4 calls. Hourly calls remaining: 10\n",
      "Batch 140 finished at 05:54\n",
      "Completed 4 calls. Hourly calls remaining: 10\n",
      "Batch 141 finished at 05:57\n",
      "Completed 4 calls. Hourly calls remaining: 10\n",
      "Batch 142 finished at 05:59\n",
      "Completed 4 calls. Hourly calls remaining: 10\n",
      "Batch 143 finished at 06:02\n",
      "Last call response had a count of 30\n",
      "Completed 3 calls. Hourly calls remaining: 11\n",
      "Batch 144 finished at 06:04\n",
      "Completed 4 calls. Hourly calls remaining: 11\n",
      "Batch 145 finished at 06:07\n",
      "Completed 4 calls. Hourly calls remaining: 11\n",
      "Batch 146 finished at 06:09\n",
      "Last call response had a count of 34\n",
      "Completed 3 calls. Hourly calls remaining: 12\n",
      "Batch 147 finished at 06:12\n",
      "Completed 4 calls. Hourly calls remaining: 12\n",
      "Batch 148 finished at 06:14\n",
      "Completed 4 calls. Hourly calls remaining: 13\n",
      "Batch 149 finished at 06:17\n"
     ]
    }
   ],
   "source": [
    "#  ======= Can get about 500 users/day with 200 reviews per user = 100K checkins/day ============\n",
    "\n",
    "#time.sleep(600)  # in case the call rate is too fast for the API, use this when restarting process\n",
    "for batch in range(150):  # The argument here divided by about 23 is how many hours this cell will take\n",
    "    uID = next(ipa_user_gen)\n",
    "    #                     (newerthan=current_dict[uID]['newestID'])   to fill in newer\n",
    "    userFeedBatch(uID, current_dict, olderthan=current_dict[uID]['oldestID'], numCalls=4)\n",
    "    print(f'Batch {batch} finished at {time.asctime()[11:16]}')\n",
    "    time.sleep(150)  # 4 calls per 150 secs = 96 calls per hour, with 100 being the API limit"
   ]
  },
  {
   "cell_type": "code",
   "execution_count": 12,
   "metadata": {
    "collapsed": true
   },
   "outputs": [],
   "source": [
    "# pickle a UserFeedDict\n",
    "with open('capstone_1/userFeeds/userFeedDicts_part_13.pkl', 'wb') as f:\n",
    "    pickle.dump(userFeedDicts_part_13, f)"
   ]
  },
  {
   "cell_type": "code",
   "execution_count": 13,
   "metadata": {
    "collapsed": false
   },
   "outputs": [
    {
     "data": {
      "text/plain": [
       "779"
      ]
     },
     "execution_count": 13,
     "metadata": {},
     "output_type": "execute_result"
    }
   ],
   "source": [
    "# Checking updated user counts\n",
    "users_13 = [user for user in userFeedDicts_part_13 if userFeedDicts_part_13[user]['datalist']]\n",
    "len(users_13)"
   ]
  },
  {
   "cell_type": "code",
   "execution_count": 14,
   "metadata": {
    "collapsed": false
   },
   "outputs": [
    {
     "name": "stdout",
     "output_type": "stream",
     "text": [
      "total 10518512\r\n",
      "-rw-r--r--  1 ethanhaley  staff  542487840 Oct 24 13:16 userFeedDicts.pkl\r\n",
      "-rw-r--r--  1 ethanhaley  staff  396639770 Nov  6 18:07 userFeedDicts_part_10.pkl\r\n",
      "-rw-r--r--  1 ethanhaley  staff  410871781 Nov  8 05:02 userFeedDicts_part_11.pkl\r\n",
      "-rw-r--r--  1 ethanhaley  staff  414498152 Nov  9 11:21 userFeedDicts_part_12.pkl\r\n",
      "-rw-r--r--  1 ethanhaley  staff  469531327 Nov 11 06:51 userFeedDicts_part_13.pkl\r\n",
      "-rw-r--r--  1 ethanhaley  staff  471741274 Oct 26 12:28 userFeedDicts_part_2.pkl\r\n",
      "-rw-r--r--  1 ethanhaley  staff  501215060 Oct 28 09:46 userFeedDicts_part_3.pkl\r\n",
      "-rw-r--r--  1 ethanhaley  staff  413816034 Oct 29 21:21 userFeedDicts_part_4.pkl\r\n",
      "-rw-r--r--  1 ethanhaley  staff  430760177 Oct 31 10:35 userFeedDicts_part_5.pkl\r\n",
      "-rw-r--r--  1 ethanhaley  staff  397829802 Nov  1 22:22 userFeedDicts_part_6.pkl\r\n",
      "-rw-r--r--  1 ethanhaley  staff  381633389 Nov  3 10:21 userFeedDicts_part_7.pkl\r\n",
      "-rw-r--r--  1 ethanhaley  staff  400218504 Nov  4 16:11 userFeedDicts_part_8.pkl\r\n",
      "-rw-r--r--  1 ethanhaley  staff  154208378 Nov  5 08:01 userFeedDicts_part_9.pkl\r\n"
     ]
    }
   ],
   "source": [
    "ls -l capstone_1/userFeeds/"
   ]
  },
  {
   "cell_type": "code",
   "execution_count": 15,
   "metadata": {
    "collapsed": true
   },
   "outputs": [],
   "source": [
    "# closing notebook, saving generator in current state\n",
    "pickle_gen(ipa_user_gen, 'capstone_1/ipa_gen_after_part_13.pkl')"
   ]
  },
  {
   "cell_type": "markdown",
   "metadata": {
    "collapsed": true
   },
   "source": [
    "# TODO-- part 13 is the first one not included in the parsed/glued df's.\n",
    "### Use the first 12 for analysis and use 13 --> for val/testing"
   ]
  },
  {
   "cell_type": "code",
   "execution_count": null,
   "metadata": {
    "collapsed": true
   },
   "outputs": [],
   "source": []
  }
 ],
 "metadata": {
  "kernelspec": {
   "display_name": "Python 3",
   "language": "python",
   "name": "python3"
  },
  "language_info": {
   "codemirror_mode": {
    "name": "ipython",
    "version": 3
   },
   "file_extension": ".py",
   "mimetype": "text/x-python",
   "name": "python",
   "nbconvert_exporter": "python",
   "pygments_lexer": "ipython3",
   "version": "3.6.9"
  }
 },
 "nbformat": 4,
 "nbformat_minor": 2
}
