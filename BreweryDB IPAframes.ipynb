{
 "cells": [
  {
   "cell_type": "markdown",
   "metadata": {},
   "source": [
    "## Make a large DataFrame from all the brewerydb IPAs"
   ]
  },
  {
   "cell_type": "code",
   "execution_count": 1,
   "metadata": {
    "collapsed": true
   },
   "outputs": [],
   "source": [
    "import pandas as pd\n",
    "import pickle\n",
    "from glob import glob"
   ]
  },
  {
   "cell_type": "code",
   "execution_count": 2,
   "metadata": {
    "collapsed": false
   },
   "outputs": [
    {
     "data": {
      "text/plain": [
       "['capstone_1/brewkettle/style_172_df.pkl',\n",
       " 'capstone_1/brewkettle/style_26_df.pkl',\n",
       " 'capstone_1/brewkettle/style_171_df.pkl',\n",
       " 'capstone_1/brewkettle/style_31_df.pkl',\n",
       " 'capstone_1/brewkettle/style_173_df.pkl',\n",
       " 'capstone_1/brewkettle/bDb_style_30.pkl',\n",
       " 'capstone_1/brewkettle/style_2_df.pkl']"
      ]
     },
     "execution_count": 2,
     "metadata": {},
     "output_type": "execute_result"
    }
   ],
   "source": [
    "bdb_ipas = glob('capstone_1/brewkettle/*.pkl')\n",
    "bdb_ipas"
   ]
  },
  {
   "cell_type": "code",
   "execution_count": 3,
   "metadata": {
    "collapsed": false
   },
   "outputs": [
    {
     "data": {
      "text/plain": [
       "'capstone_1/brewkettle/style_2_df.pkl'"
      ]
     },
     "execution_count": 3,
     "metadata": {},
     "output_type": "execute_result"
    }
   ],
   "source": [
    "# Decided against using style 2, which is English IPA\n",
    "bdb_ipas.pop()"
   ]
  },
  {
   "cell_type": "code",
   "execution_count": 4,
   "metadata": {
    "collapsed": false
   },
   "outputs": [
    {
     "name": "stdout",
     "output_type": "stream",
     "text": [
      "<class 'pandas.core.frame.DataFrame'> 9650\n"
     ]
    }
   ],
   "source": [
    "# seems like style 30 was structured differently, so start with it\n",
    "with open('capstone_1/brewkettle/bDb_style_30.pkl', 'rb') as f:\n",
    "    s30 = pickle.load(f)\n",
    "print(type(s30), len(s30))"
   ]
  },
  {
   "cell_type": "code",
   "execution_count": 7,
   "metadata": {
    "collapsed": false
   },
   "outputs": [
    {
     "name": "stdout",
     "output_type": "stream",
     "text": [
      "<class 'pandas.core.frame.DataFrame'>\n",
      "RangeIndex: 9650 entries, 0 to 9649\n",
      "Data columns (total 32 columns):\n",
      "index                        9650 non-null int64\n",
      "abv                          8886 non-null object\n",
      "available                    2568 non-null object\n",
      "availableId                  2568 non-null float64\n",
      "beerVariation                52 non-null object\n",
      "beerVariationId              52 non-null object\n",
      "breweries                    9650 non-null object\n",
      "createDate                   9650 non-null object\n",
      "description                  6697 non-null object\n",
      "foodPairings                 350 non-null object\n",
      "glass                        1726 non-null object\n",
      "glasswareId                  1726 non-null float64\n",
      "ibu                          4842 non-null object\n",
      "id                           9650 non-null object\n",
      "ingredients                  290 non-null object\n",
      "isOrganic                    9650 non-null object\n",
      "isRetired                    9650 non-null object\n",
      "labels                       3542 non-null object\n",
      "name                         9650 non-null object\n",
      "nameDisplay                  9650 non-null object\n",
      "originalGravity              633 non-null object\n",
      "servingTemperature           417 non-null object\n",
      "servingTemperatureDisplay    417 non-null object\n",
      "socialAccounts               1663 non-null object\n",
      "srm                          893 non-null object\n",
      "srmId                        893 non-null float64\n",
      "status                       9650 non-null object\n",
      "statusDisplay                9650 non-null object\n",
      "style                        9650 non-null object\n",
      "styleId                      9650 non-null int64\n",
      "updateDate                   9650 non-null object\n",
      "year                         58 non-null float64\n",
      "dtypes: float64(4), int64(2), object(26)\n",
      "memory usage: 2.4+ MB\n"
     ]
    }
   ],
   "source": [
    "s30.info()"
   ]
  },
  {
   "cell_type": "code",
   "execution_count": 20,
   "metadata": {
    "collapsed": false
   },
   "outputs": [],
   "source": [
    "# Hand pick the features\n",
    "keepcols = ['id', 'breweries', 'name','abv', 'description',\n",
    "            'ibu', 'ingredients', 'socialAccounts', 'styleId']"
   ]
  },
  {
   "cell_type": "code",
   "execution_count": 79,
   "metadata": {
    "collapsed": true
   },
   "outputs": [],
   "source": [
    "s30 = s30[keepcols]"
   ]
  },
  {
   "cell_type": "code",
   "execution_count": 126,
   "metadata": {
    "collapsed": false
   },
   "outputs": [
    {
     "data": {
      "text/plain": [
       "{'hops': [{'category': 'hop',\n",
       "   'categoryDisplay': 'Hops',\n",
       "   'createDate': '2013-06-24 16:07:29',\n",
       "   'id': 30,\n",
       "   'name': 'Columbus'},\n",
       "  {'alphaAcidMin': 3.3,\n",
       "   'betaAcidMax': 9.5,\n",
       "   'betaAcidMin': 5.4,\n",
       "   'caryophylleneMax': 10,\n",
       "   'caryophylleneMin': 6.5,\n",
       "   'category': 'hop',\n",
       "   'categoryDisplay': 'Hops',\n",
       "   'cohumuloneMax': 13,\n",
       "   'cohumuloneMin': 11,\n",
       "   'country': {'createDate': '2012-01-03 02:41:33',\n",
       "    'displayName': 'United States',\n",
       "    'isoCode': 'US',\n",
       "    'isoThree': 'USA',\n",
       "    'name': 'UNITED STATES',\n",
       "    'numberCode': 840},\n",
       "   'countryOfOrigin': 'US',\n",
       "   'createDate': '2013-06-24 16:07:31',\n",
       "   'description': 'Released in 2000 from Washington State University, supposed to be a balanced bittering/aroma hop. Said to be a more citrusy version of Willamette.',\n",
       "   'farneseneMax': 0.3,\n",
       "   'farneseneMin': 0,\n",
       "   'humuleneMax': 36,\n",
       "   'humuleneMin': 24,\n",
       "   'id': 51,\n",
       "   'myrceneMax': 62,\n",
       "   'myrceneMin': 33,\n",
       "   'name': 'Glacier',\n",
       "   'updateDate': '2013-06-24 16:10:37'},\n",
       "  {'alphaAcidMin': 12,\n",
       "   'betaAcidMax': 5,\n",
       "   'betaAcidMin': 4,\n",
       "   'caryophylleneMax': 8,\n",
       "   'caryophylleneMin': 5,\n",
       "   'category': 'hop',\n",
       "   'categoryDisplay': 'Hops',\n",
       "   'cohumuloneMax': 20,\n",
       "   'cohumuloneMin': 15,\n",
       "   'country': {'createDate': '2012-01-03 02:41:33',\n",
       "    'displayName': 'United States',\n",
       "    'isoCode': 'US',\n",
       "    'isoThree': 'USA',\n",
       "    'name': 'UNITED STATES',\n",
       "    'numberCode': 840},\n",
       "   'countryOfOrigin': 'US',\n",
       "   'createDate': '2013-06-24 16:07:36',\n",
       "   'description': 'Simcoe is a dual-purpose hop variety which its grower claims is similar in character to Amarillo. It is a proprietary hop, and the name \"Simcoe\" is a registered trademark of Yakima Chief Ranches, LLC.',\n",
       "   'farneseneMax': 1,\n",
       "   'farneseneMin': 0,\n",
       "   'humuleneMax': 15,\n",
       "   'humuleneMin': 10,\n",
       "   'id': 118,\n",
       "   'myrceneMax': 65,\n",
       "   'myrceneMin': 60,\n",
       "   'name': 'Simcoe',\n",
       "   'updateDate': '2013-06-24 16:10:38'}],\n",
       " 'malt': [{'category': 'malt',\n",
       "   'categoryDisplay': 'Malts, Grains, & Fermentables',\n",
       "   'createDate': '2013-06-24 16:07:45',\n",
       "   'id': 378,\n",
       "   'name': 'Caramel/Crystal Malt'},\n",
       "  {'category': 'malt',\n",
       "   'categoryDisplay': 'Malts, Grains, & Fermentables',\n",
       "   'createDate': '2013-06-24 16:07:43',\n",
       "   'id': 306,\n",
       "   'name': 'Two-Row Pale Malt - Organic'},\n",
       "  {'category': 'malt',\n",
       "   'categoryDisplay': 'Malts, Grains, & Fermentables',\n",
       "   'createDate': '2013-06-24 16:07:56',\n",
       "   'id': 854,\n",
       "   'name': 'Wheat Malt'}]}"
      ]
     },
     "execution_count": 126,
     "metadata": {},
     "output_type": "execute_result"
    }
   ],
   "source": [
    "s30.ingredients[17]"
   ]
  },
  {
   "cell_type": "code",
   "execution_count": 80,
   "metadata": {
    "collapsed": false
   },
   "outputs": [
    {
     "name": "stdout",
     "output_type": "stream",
     "text": [
      "<class 'pandas.core.frame.DataFrame'> 83\n"
     ]
    }
   ],
   "source": [
    "# check style 31 structure\n",
    "with open('capstone_1/brewkettle/style_31_df.pkl', 'rb') as f:\n",
    "    s31 = pickle.load(f)\n",
    "print(type(s31), len(s31))"
   ]
  },
  {
   "cell_type": "code",
   "execution_count": 112,
   "metadata": {
    "collapsed": false
   },
   "outputs": [
    {
     "name": "stdout",
     "output_type": "stream",
     "text": [
      "(83, 5) Index(['currentPage', 'data', 'numberOfPages', 'status', 'totalResults'], dtype='object')\n"
     ]
    }
   ],
   "source": [
    "print(s31.shape, s31.columns)"
   ]
  },
  {
   "cell_type": "markdown",
   "metadata": {},
   "source": [
    "There are 83 batches, and only 1 column that matters here, 'data',\n",
    "   which is a list of API responses, each list item being 50 results"
   ]
  },
  {
   "cell_type": "code",
   "execution_count": 95,
   "metadata": {
    "collapsed": false
   },
   "outputs": [
    {
     "data": {
      "text/plain": [
       "50"
      ]
     },
     "execution_count": 95,
     "metadata": {},
     "output_type": "execute_result"
    }
   ],
   "source": [
    "len(s31.data[0])"
   ]
  },
  {
   "cell_type": "code",
   "execution_count": 110,
   "metadata": {
    "collapsed": true
   },
   "outputs": [],
   "source": [
    "# First flatten out each list and then concat them all\n",
    "concat31 = pd.concat([pd.io.json.json_normalize(data) for data in s31.data], axis=0, ignore_index=True)"
   ]
  },
  {
   "cell_type": "code",
   "execution_count": 111,
   "metadata": {
    "collapsed": false
   },
   "outputs": [
    {
     "data": {
      "text/plain": [
       "(4111, 92)"
      ]
     },
     "execution_count": 111,
     "metadata": {},
     "output_type": "execute_result"
    }
   ],
   "source": [
    "concat31.shape"
   ]
  },
  {
   "cell_type": "code",
   "execution_count": 113,
   "metadata": {
    "collapsed": true
   },
   "outputs": [],
   "source": [
    "# repeat for styles 26, 171, 172, and 173\n",
    "def flatten_dicts(style):\n",
    "    with open(f'capstone_1/brewkettle/style_{style}_df.pkl', 'rb') as f:\n",
    "        nest = pickle.load(f)\n",
    "    return pd.concat([pd.io.json.json_normalize(data) for data in nest.data],\n",
    "                        axis=0, ignore_index=True)"
   ]
  },
  {
   "cell_type": "code",
   "execution_count": 114,
   "metadata": {
    "collapsed": true
   },
   "outputs": [],
   "source": [
    "concat26 = flatten_dicts(26)\n",
    "concat171 = flatten_dicts(171)\n",
    "concat172 = flatten_dicts(172)\n",
    "concat173 = flatten_dicts(173)"
   ]
  },
  {
   "cell_type": "code",
   "execution_count": 115,
   "metadata": {
    "collapsed": false
   },
   "outputs": [
    {
     "data": {
      "text/plain": [
       "Index(['abv', 'available.description', 'available.id', 'available.name',\n",
       "       'availableId', 'breweries', 'createDate', 'description', 'foodPairings',\n",
       "       'glass.createDate', 'glass.id', 'glass.name', 'glasswareId', 'ibu',\n",
       "       'id', 'ingredients.hops', 'ingredients.malt', 'ingredients.yeast',\n",
       "       'isOrganic', 'isRetired', 'labels.contentAwareIcon',\n",
       "       'labels.contentAwareLarge', 'labels.contentAwareMedium', 'labels.icon',\n",
       "       'labels.large', 'labels.medium', 'name', 'nameDisplay',\n",
       "       'originalGravity', 'servingTemperature', 'servingTemperatureDisplay',\n",
       "       'socialAccounts', 'srm.hex', 'srm.id', 'srm.name', 'srmId', 'status',\n",
       "       'statusDisplay', 'style.category.createDate', 'style.category.id',\n",
       "       'style.category.name', 'style.categoryId', 'style.createDate',\n",
       "       'style.description', 'style.id', 'style.name', 'style.shortName',\n",
       "       'style.updateDate', 'styleId', 'updateDate', 'year'],\n",
       "      dtype='object')"
      ]
     },
     "execution_count": 115,
     "metadata": {},
     "output_type": "execute_result"
    }
   ],
   "source": [
    "concat26.columns"
   ]
  },
  {
   "cell_type": "markdown",
   "metadata": {},
   "source": [
    "#### The same columns for s30 are available for the other 5, except that 'ingredients' was flattened"
   ]
  },
  {
   "cell_type": "code",
   "execution_count": 119,
   "metadata": {
    "collapsed": false
   },
   "outputs": [
    {
     "data": {
      "text/plain": [
       "(5124, 94)"
      ]
     },
     "execution_count": 119,
     "metadata": {},
     "output_type": "execute_result"
    }
   ],
   "source": [
    "ipa_cat = pd.concat([concat26, concat31, concat171, concat172, concat173], axis=0, ignore_index=True)\n",
    "ipa_cat.shape"
   ]
  },
  {
   "cell_type": "code",
   "execution_count": 120,
   "metadata": {
    "collapsed": false
   },
   "outputs": [
    {
     "name": "stdout",
     "output_type": "stream",
     "text": [
      "<class 'pandas.core.frame.DataFrame'>\n",
      "RangeIndex: 5124 entries, 0 to 5123\n",
      "Data columns (total 11 columns):\n",
      "id                   5124 non-null object\n",
      "breweries            5124 non-null object\n",
      "name                 5124 non-null object\n",
      "abv                  4935 non-null object\n",
      "description          3740 non-null object\n",
      "ibu                  2414 non-null object\n",
      "ingredients.malt     81 non-null object\n",
      "ingredients.yeast    19 non-null object\n",
      "ingredients.hops     131 non-null object\n",
      "socialAccounts       718 non-null object\n",
      "styleId              5124 non-null int64\n",
      "dtypes: int64(1), object(10)\n",
      "memory usage: 440.4+ KB\n"
     ]
    }
   ],
   "source": [
    "ipa_cat = ipa_cat[['id', 'breweries', 'name','abv', 'description',\n",
    "                   'ibu', 'ingredients.malt', 'ingredients.yeast', \n",
    "                   'ingredients.hops','socialAccounts', 'styleId']]\n",
    "\n",
    "ipa_cat.info()"
   ]
  },
  {
   "cell_type": "markdown",
   "metadata": {},
   "source": [
    "#### Although the ingredients are only listed for about 3% of all the 14,774 IPA's in the 6 styles, I'm going to go through the trouble of unflattening the json_normalized ones in order to merge with the style 30 ones."
   ]
  },
  {
   "cell_type": "code",
   "execution_count": 121,
   "metadata": {
    "collapsed": true
   },
   "outputs": [],
   "source": [
    "# first fillna to 0 for the NaN's\n",
    "for col in ['ingredients.malt', 'ingredients.yeast', 'ingredients.hops']:\n",
    "    ipa_cat[col] = ipa_cat[col].fillna(value=0)"
   ]
  },
  {
   "cell_type": "code",
   "execution_count": 127,
   "metadata": {
    "collapsed": true
   },
   "outputs": [],
   "source": [
    "# next define the transformation for each IPA row\n",
    "def unflatten(row):\n",
    "    result = dict()\n",
    "    for ingredient in ['hops', 'yeast','malt']:\n",
    "        if row[f'ingredients.{ingredient}']:\n",
    "            result[ingredient] = row[f'ingredients.{ingredient}']\n",
    "    return result"
   ]
  },
  {
   "cell_type": "code",
   "execution_count": 128,
   "metadata": {
    "collapsed": true
   },
   "outputs": [],
   "source": [
    "# apply the transformation to each row's ingredients\n",
    "ipa_cat['ingredients'] = ipa_cat.apply(lambda row: unflatten(row), axis=1)"
   ]
  },
  {
   "cell_type": "code",
   "execution_count": 134,
   "metadata": {
    "collapsed": false
   },
   "outputs": [
    {
     "data": {
      "text/plain": [
       "137"
      ]
     },
     "execution_count": 134,
     "metadata": {},
     "output_type": "execute_result"
    }
   ],
   "source": [
    "# check how many ingredients dicts are filled with something\n",
    "sum(1 for notEmpty in ipa_cat.ingredients if notEmpty)"
   ]
  },
  {
   "cell_type": "code",
   "execution_count": 139,
   "metadata": {
    "collapsed": false
   },
   "outputs": [],
   "source": [
    "# remove the flat columns so you can concat with style 30\n",
    "ipa_cat.drop(['ingredients.malt', 'ingredients.yeast', 'ingredients.hops'], axis=1, inplace=True)"
   ]
  },
  {
   "cell_type": "markdown",
   "metadata": {},
   "source": [
    "#### Use similar tools to break socialAccounts apart and find a few untappd ID's hidden in the mix"
   ]
  },
  {
   "cell_type": "code",
   "execution_count": 57,
   "metadata": {
    "collapsed": false
   },
   "outputs": [],
   "source": [
    "# test on style 30 first\n",
    "s30.socialAccounts = s30.socialAccounts.fillna(value=0)   "
   ]
  },
  {
   "cell_type": "code",
   "execution_count": 74,
   "metadata": {
    "collapsed": false
   },
   "outputs": [],
   "source": [
    "# The socialAccounts column occasionally has some links to uptappd beer IDs\n",
    "import re\n",
    "# There are some funky values here, not just int strings, so need regex\n",
    "def get_handle(socialAccounts):\n",
    "    '''Try to get untappd beer ID in case it exists and is needed to link.\n",
    "    Apply this function after applying fillna to fill to zeros.\n",
    "    '''\n",
    "    if socialAccounts:\n",
    "        for dic in socialAccounts:\n",
    "            if 'link' in dic and 'untappd' in dic['link']:\n",
    "                if 'handle' in dic:\n",
    "                    try:  # getting ints from strings where possible\n",
    "                        return int(re.findall(r'[0-9]+', dic['handle'])[0])\n",
    "                    except IndexError:\n",
    "                        return 0\n",
    "    return 0\n",
    "         "
   ]
  },
  {
   "cell_type": "code",
   "execution_count": 145,
   "metadata": {
    "collapsed": false
   },
   "outputs": [],
   "source": [
    "s30['untap'] = s30['socialAccounts'].apply(lambda x: get_handle(x))"
   ]
  },
  {
   "cell_type": "code",
   "execution_count": 146,
   "metadata": {
    "collapsed": false
   },
   "outputs": [
    {
     "data": {
      "text/plain": [
       "794"
      ]
     },
     "execution_count": 146,
     "metadata": {},
     "output_type": "execute_result"
    }
   ],
   "source": [
    "sum(s30.untap > 0)"
   ]
  },
  {
   "cell_type": "code",
   "execution_count": 141,
   "metadata": {
    "collapsed": false
   },
   "outputs": [],
   "source": [
    "# now repeat for other 5 before concatting\n",
    "ipa_cat.socialAccounts = ipa_cat.socialAccounts.fillna(value=0)\n",
    "ipa_cat['untap'] = ipa_cat['socialAccounts'].apply(lambda x: get_handle(x))"
   ]
  },
  {
   "cell_type": "code",
   "execution_count": 150,
   "metadata": {
    "collapsed": false
   },
   "outputs": [
    {
     "data": {
      "text/plain": [
       "[]"
      ]
     },
     "execution_count": 150,
     "metadata": {},
     "output_type": "execute_result"
    }
   ],
   "source": [
    "# make sure cols line up before concatting\n",
    "assert(len(ipa_cat.columns) == len(s30.columns))\n",
    "[col for col in ipa_cat.columns if col not in s30.columns]"
   ]
  },
  {
   "cell_type": "code",
   "execution_count": 151,
   "metadata": {
    "collapsed": false
   },
   "outputs": [],
   "source": [
    "ipa_cat = ipa_cat[s30.columns]\n",
    "\n",
    "ipa_cat.columns == s30.columns"
   ]
  },
  {
   "cell_type": "code",
   "execution_count": 153,
   "metadata": {
    "collapsed": true
   },
   "outputs": [],
   "source": [
    "ipa_df = pd.concat([ipa_cat, s30], axis=0, ignore_index=True)\n",
    "\n",
    "ipa_df.shape"
   ]
  },
  {
   "cell_type": "code",
   "execution_count": 155,
   "metadata": {
    "collapsed": true
   },
   "outputs": [],
   "source": [
    "ipa_df.drop('socialAccounts', axis=1, inplace=True)\n",
    "\n",
    "ipa_df.head()"
   ]
  },
  {
   "cell_type": "markdown",
   "metadata": {},
   "source": [
    "# come back later and unpack breweries and fillna some cols"
   ]
  },
  {
   "cell_type": "code",
   "execution_count": 157,
   "metadata": {
    "collapsed": true
   },
   "outputs": [],
   "source": [
    "ipa_df.to_csv('capstone_1/bdb_ipa_df.csv')"
   ]
  },
  {
   "cell_type": "code",
   "execution_count": null,
   "metadata": {
    "collapsed": true
   },
   "outputs": [],
   "source": []
  }
 ],
 "metadata": {
  "kernelspec": {
   "display_name": "Python 3",
   "language": "python",
   "name": "python3"
  },
  "language_info": {
   "codemirror_mode": {
    "name": "ipython",
    "version": 3
   },
   "file_extension": ".py",
   "mimetype": "text/x-python",
   "name": "python",
   "nbconvert_exporter": "python",
   "pygments_lexer": "ipython3",
   "version": "3.6.9"
  }
 },
 "nbformat": 4,
 "nbformat_minor": 2
}
